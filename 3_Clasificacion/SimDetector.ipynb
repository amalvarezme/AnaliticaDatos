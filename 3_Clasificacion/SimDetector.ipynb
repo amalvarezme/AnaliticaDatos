{
  "nbformat": 4,
  "nbformat_minor": 0,
  "metadata": {
    "colab": {
      "name": "SimDetector.ipynb",
      "provenance": [],
      "authorship_tag": "ABX9TyNG4MbVWJ4bZKUNj3FUjG07",
      "include_colab_link": true
    },
    "kernelspec": {
      "name": "python3",
      "display_name": "Python 3"
    }
  },
  "cells": [
    {
      "cell_type": "markdown",
      "metadata": {
        "id": "view-in-github",
        "colab_type": "text"
      },
      "source": [
        "<a href=\"https://colab.research.google.com/github/amalvarezme/AnaliticaDatos/blob/master/SimDetector.ipynb\" target=\"_parent\"><img src=\"https://colab.research.google.com/assets/colab-badge.svg\" alt=\"Open In Colab\"/></a>"
      ]
    },
    {
      "cell_type": "code",
      "metadata": {
        "id": "mKZ66CGI3bGW",
        "outputId": "5b238820-fb0e-4536-9a6b-fbfeac05e0f9",
        "colab": {
          "base_uri": "https://localhost:8080/",
          "height": 35
        }
      },
      "source": [
        "import numpy as np\n",
        "import matplotlib.pyplot as plt\n",
        "\n",
        "Nit = 100\n",
        "N = 100\n",
        "A = 1\n",
        "var = 2\n",
        "TxH0 = np.zeros((Nit))\n",
        "TxH1 = np.zeros((Nit))\n",
        "for i in range(Nit):\n",
        "  #Ho\n",
        "  w = np.sqrt(var)*np.random.randn(N)\n",
        "  TxH0[i] = np.mean(w) # estimador por media muestral\n",
        "  Aw = np.sqrt(var)*np.random.randn(N) + A\n",
        "  TxH1[i] = np.mean(Aw)\n",
        "\n",
        "print(TxH0.shape,TxH1.shape)   \n"
      ],
      "execution_count": 27,
      "outputs": [
        {
          "output_type": "stream",
          "text": [
            "(100,) (100,)\n"
          ],
          "name": "stdout"
        }
      ]
    },
    {
      "cell_type": "code",
      "metadata": {
        "id": "aSZSdQO457rK",
        "outputId": "15c3c1e3-82c5-44e9-b295-2d994a24f15e",
        "colab": {
          "base_uri": "https://localhost:8080/",
          "height": 265
        }
      },
      "source": [
        "plt.subplot(121)\n",
        "plt.hist(TxH0,bins=50)\n",
        "plt.hist(TxH1,bins=50)\n",
        "\n",
        "p0 = (1/np.sqrt((2*np.pi*var)))*np.exp(-(0.5*TxH0**2)/var)\n",
        "p1 = (1/np.sqrt((2*np.pi*var)))*np.exp(-(0.5*(TxH1-A)**2)/var)\n",
        "\n",
        "plt.subplot(122)\n",
        "plt.scatter(TxH0,p0)\n",
        "plt.scatter(TxH1,p1)\n",
        "\n",
        "plt.subplots_adjust(hspace=0.3,wspace=0.3)\n",
        "\n",
        "plt.show()"
      ],
      "execution_count": 28,
      "outputs": [
        {
          "output_type": "display_data",
          "data": {
            "image/png": "[encoded data removed]",
            "text/plain": [
              "<Figure size 432x288 with 2 Axes>"
            ]
          },
          "metadata": {
            "tags": [],
            "needs_background": "light"
          }
        }
      ]
    },
    {
      "cell_type": "code",
      "metadata": {
        "id": "hgUZKeZ_4ADy",
        "outputId": "c6dc9725-d459-4ab9-a933-62a500dc9a20",
        "colab": {
          "base_uri": "https://localhost:8080/",
          "height": 283
        }
      },
      "source": [
        "N = 100\n",
        "w = np.random.randn(N)\n",
        "w.shape\n",
        "plt.subplot(121)\n",
        "plt.hist(w,bins=30)\n",
        "plt.subplot(122)\n",
        "pw = (1/np.sqrt((2*np.pi*var)))*np.exp(-(0.5*w**2)/var)\n",
        "plt.scatter(w,pw)\n"
      ],
      "execution_count": 11,
      "outputs": [
        {
          "output_type": "execute_result",
          "data": {
            "text/plain": [
              "<matplotlib.collections.PathCollection at 0x7fc51ec56828>"
            ]
          },
          "metadata": {
            "tags": []
          },
          "execution_count": 11
        },
        {
          "output_type": "display_data",
          "data": {
            "image/png": "[encoded data removed]",
            "text/plain": [
              "<Figure size 432x288 with 2 Axes>"
            ]
          },
          "metadata": {
            "tags": [],
            "needs_background": "light"
          }
        }
      ]
    },
    {
      "cell_type": "code",
      "metadata": {
        "id": "kRQgZY344BEP"
      },
      "source": [
        ""
      ],
      "execution_count": null,
      "outputs": []
    }
  ]
}