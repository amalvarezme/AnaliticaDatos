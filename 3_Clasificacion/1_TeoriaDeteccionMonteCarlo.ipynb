{
  "nbformat": 4,
  "nbformat_minor": 0,
  "metadata": {
    "colab": {
      "name": "SimulacionMonteCarloFOB.ipynb",
      "provenance": [],
      "authorship_tag": "ABX9TyO+2FfCBqfcPFQTDfRM7lJu",
      "include_colab_link": true
    },
    "kernelspec": {
      "name": "python3",
      "display_name": "Python 3"
    },
    "language_info": {
      "name": "python"
    }
  },
  "cells": [
    {
      "cell_type": "markdown",
      "metadata": {
        "id": "view-in-github",
        "colab_type": "text"
      },
      "source": [
        "<a href=\"https://colab.research.google.com/github/amalvarezme/AnaliticaDatos/blob/master/3_Clasificacion/1_TeoriaDeteccionMonteCarlo.ipynb\" target=\"_parent\"><img src=\"https://colab.research.google.com/assets/colab-badge.svg\" alt=\"Open In Colab\"/></a>"
      ]
    },
    {
      "cell_type": "markdown",
      "metadata": {
        "id": "h3FqZflaFLL9"
      },
      "source": [
        "# Filtración binaria óptima \n",
        "\n",
        "# Principios en teoría de detección y reconocimiento de patrones (clasificación)\n",
        "\n",
        "- Se presenta un ejemplo ilustrativo de detección de nive DC desde un problema de test de hipotésis.\n",
        "\n",
        "- Además, se ilustra el concepto de simulaciones de Monte Carlo, como alternativa a la estimación de la distribución del estimador.\n",
        "\n",
        "\n",
        "- Hipótesis nula: señal (datos) recibida es ruido.\n",
        "\n",
        "$$H_o: x[n] = w[n]$$\n",
        "\n",
        "- Hipótesis no nula: señal (datos) recibida es nivel DC más ruido.\n",
        "\n",
        "$$H_1: x[n] = A + w[n]$$\n",
        "\n",
        "**Nota**: en este caso se asume ruido blanco Gaussiano $w\\sim \\mathcal{N}(w|0,\\sigma^2).$\n",
        "\n",
        "\n",
        "- Para la simulación de Monte-Carlo con M repeticiones se utilizará un estimador de media simple: \n",
        "\n",
        " $$\\hat{A}[m] = \\frac{1}{N}\\sum^N_{n=1} x[n]$$\n",
        " donde $\\hat{A}_m$ corresponde a la $m$-ésima estimación sobre las $M$ iteraciones.\n",
        "\n",
        " - A partir del areglo de $M$ simulaciones de Monte Carlo, se puede utilizar un conteo simple (frecuencia relativa) para calcular la probabilidad de masa del estimador.\n",
        "\n",
        "- Se compara la influencia en el estimador para $N =\\{1,20\\}$\n",
        "\n",
        "- Se fijan $M = 100$ repeticiones del experimento de Monte Carlo."
      ]
    },
    {
      "cell_type": "code",
      "metadata": {
        "id": "Ae4rFrHsFKgE"
      },
      "source": [
        "import numpy as np\n",
        "import matplotlib.pyplot as plt\n",
        "\n",
        "A = 1 # nivel DC\n",
        "N1 = 1 # muestras a considerar en la detección N=1\n",
        "N2 = 20 # N=20\n",
        "M = 100 # simulaciones monte carlo\n",
        "varw = 0.5 #varianza del ruido\n",
        "T1sr = np.zeros(M)\n",
        "T2sr = np.zeros(M)\n",
        "T1r = np.zeros(M)\n",
        "T2r = np.zeros(M)\n",
        "\n",
        "for m in range(M):#iteraciones de Monte Carlo\n",
        "  w1 = np.sqrt(varw)*np.random.randn(N1) # ruido simulado para N = 1\n",
        "  w2 = np.sqrt(varw)*np.random.randn(N2) # ruido simulado para N = 20\n",
        "  x1 = A + w1 #señal recibida\n",
        "  x2 = A + w2\n",
        "  #detector sobre señal mas ruido\n",
        "  T1sr[m] = x1.mean()\n",
        "  T2sr[m] = x2.mean()\n",
        "  #detector sobre solo ruido\n",
        "  T1r[m] = w1.mean()\n",
        "  T2r[m] = w2.mean()"
      ],
      "execution_count": null,
      "outputs": []
    },
    {
      "cell_type": "code",
      "metadata": {
        "colab": {
          "base_uri": "https://localhost:8080/",
          "height": 544
        },
        "id": "OhnfU2UmGPv1",
        "outputId": "9449c2f8-10ca-48e3-a8e4-a891dc50730d"
      },
      "source": [
        "import matplotlib.pyplot as plt\n",
        "#graficar las probabilidades del estimador\n",
        "plt.hist(T1sr,label='Señal + ruido')\n",
        "plt.hist(T1r,label='ruido')\n",
        "plt.xlabel('T(x)')\n",
        "plt.legend()\n",
        "plt.show()\n",
        "\n",
        "plt.hist(T2sr,label='Señal + ruido')\n",
        "plt.hist(T2r,label='ruido')\n",
        "plt.xlabel('T(x)')\n",
        "plt.legend()\n",
        "plt.show()"
      ],
      "execution_count": null,
      "outputs": [
        {
          "output_type": "display_data",
          "data": {
            "image/png": "[encoded data removed]",
            "text/plain": [
              "<Figure size 432x288 with 1 Axes>"
            ]
          },
          "metadata": {
            "needs_background": "light"
          }
        },
        {
          "output_type": "display_data",
          "data": {
            "image/png": "[encoded data removed]",
            "text/plain": [
              "<Figure size 432x288 with 1 Axes>"
            ]
          },
          "metadata": {
            "needs_background": "light"
          }
        }
      ]
    },
    {
      "cell_type": "markdown",
      "metadata": {
        "id": "fp00iyvFnlJJ"
      },
      "source": [
        "# Ejercicio:\n",
        "\n",
        "1. Cálcule el coeficiente de desvio para los resultados obtenidos. Ver [https://github.com/amalvarezme/AnaliticaDatos/blob/master/3_Clasificacion/1_TeoriaDeteccion.pdf](https://github.com/amalvarezme/AnaliticaDatos/blob/master/3_Clasificacion/1_TeoriaDeteccion.pdf).\n",
        "\n",
        "2. Compare la capacidad de detección del estimador $\\tilde{A}=x[0]$ respecto al de media muestral $\\hat{A} = \\frac{1}{N}\\sum^N_{n=1} x[n]$.\n",
        "\n",
        "Estimador 1: sesgo = 0, Estimador 2: 0\n",
        "Varianza 1: $\\sigma^2$, Estimador 2: $\\sigma^2/N$\n",
        "\n",
        "$$mse(\\hat{\\theta})=var(\\hat{\\theta})+b^2(\\hat{\\theta})$$"
      ]
    },
    {
      "cell_type": "code",
      "metadata": {
        "id": "uSy51b6zJauM"
      },
      "source": [
        "#Ayuda\n",
        "#d0 = np.sqrt(A**2)/varw\n",
        "#d1 = N2*np.sqrt(A**2)/varw"
      ],
      "execution_count": null,
      "outputs": []
    }
  ]
}