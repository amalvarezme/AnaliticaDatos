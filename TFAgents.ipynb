{
  "nbformat": 4,
  "nbformat_minor": 0,
  "metadata": {
    "colab": {
      "name": "TFAgents.ipynb",
      "provenance": [],
      "collapsed_sections": [],
      "authorship_tag": "ABX9TyM8Mh2Bm956eoAk5+UlpO4Y",
      "include_colab_link": true
    },
    "kernelspec": {
      "name": "python3",
      "display_name": "Python 3"
    },
    "language_info": {
      "name": "python"
    },
    "accelerator": "GPU"
  },
  "cells": [
    {
      "cell_type": "markdown",
      "metadata": {
        "id": "view-in-github",
        "colab_type": "text"
      },
      "source": [
        "<a href=\"https://colab.research.google.com/github/amalvarezme/AnaliticaDatos/blob/master/TFAgents.ipynb\" target=\"_parent\"><img src=\"https://colab.research.google.com/assets/colab-badge.svg\" alt=\"Open In Colab\"/></a>"
      ]
    },
    {
      "cell_type": "markdown",
      "metadata": {
        "id": "vwfHparHYLZO"
      },
      "source": [
        "# TF-Agents para jugar Breakout\n",
        "\n",
        "-- La librería de aprendizaje por refuerzo de tensorflow\n",
        "[tfagents](https://www.tensorflow.org/agents?hl=es-419)\n",
        "\n",
        "-- Se utilizará TF-Agents para crear una agente que aprenderá a jugar [Breakout](https://elgoog.im/breakout/). \n",
        "\n",
        "\n",
        "-- Se utilizará el algoritmo Deep Q-Learning.\n",
        "\n",
        "-- TF-Agents permite utilizar wrappers y redes DQN convencionales, como las utilizadas en el cartpole, y otras más sofisticadas!\n"
      ]
    },
    {
      "cell_type": "markdown",
      "metadata": {
        "id": "gmqMb2tbZyMo"
      },
      "source": [
        "## Instalación y configuracíon requerida"
      ]
    },
    {
      "cell_type": "code",
      "metadata": {
        "colab": {
          "base_uri": "https://localhost:8080/"
        },
        "id": "KVoi8prIZwfB",
        "outputId": "d002ee9f-8221-482a-b847-2737c1490afa"
      },
      "source": [
        "# Python ≥3.5 is required\n",
        "import sys\n",
        "assert sys.version_info >= (3, 5)\n",
        "\n",
        "# Scikit-Learn ≥0.20 is required\n",
        "import sklearn\n",
        "assert sklearn.__version__ >= \"0.20\"\n",
        "\n",
        "try:\n",
        "    # %tensorflow_version only exists in Colab.\n",
        "    %tensorflow_version 2.x\n",
        "    !apt update && apt install -y libpq-dev libsdl2-dev swig xorg-dev xvfb\n",
        "    !pip install -q -U tf-agents pyvirtualdisplay gym[atari,box2d]\n",
        "    IS_COLAB = True\n",
        "except Exception:\n",
        "    IS_COLAB = False\n",
        "\n",
        "# TensorFlow ≥2.0 is required\n",
        "import tensorflow as tf\n",
        "from tensorflow import keras\n",
        "assert tf.__version__ >= \"2.0\"\n",
        "\n",
        "if not tf.config.list_physical_devices('GPU'):\n",
        "    print(\"No GPU was detected. CNNs can be very slow without a GPU.\")\n",
        "    if IS_COLAB:\n",
        "        print(\"Go to Runtime > Change runtime and select a GPU hardware accelerator.\")\n",
        "\n",
        "# Common imports\n",
        "import numpy as np\n",
        "import os\n",
        "\n",
        "# to make this notebook's output stable across runs\n",
        "np.random.seed(42)\n",
        "tf.random.set_seed(42)\n",
        "\n",
        "# To plot pretty figures\n",
        "%matplotlib inline\n",
        "import matplotlib as mpl\n",
        "import matplotlib.pyplot as plt\n",
        "mpl.rc('axes', labelsize=14)\n",
        "mpl.rc('xtick', labelsize=12)\n",
        "mpl.rc('ytick', labelsize=12)\n",
        "\n",
        "# To get smooth animations\n",
        "import matplotlib.animation as animation\n",
        "mpl.rc('animation', html='jshtml')\n",
        "\n",
        "# Where to save the figures\n",
        "PROJECT_ROOT_DIR = \".\"\n",
        "CHAPTER_ID = \"rl\"\n",
        "IMAGES_PATH = os.path.join(PROJECT_ROOT_DIR, \"images\", CHAPTER_ID)\n",
        "os.makedirs(IMAGES_PATH, exist_ok=True)\n",
        "\n",
        "def save_fig(fig_id, tight_layout=True, fig_extension=\"png\", resolution=300):\n",
        "    path = os.path.join(IMAGES_PATH, fig_id + \".\" + fig_extension)\n",
        "    print(\"Saving figure\", fig_id)\n",
        "    if tight_layout:\n",
        "        plt.tight_layout()\n",
        "    plt.savefig(path, format=fig_extension, dpi=resolution)"
      ],
      "execution_count": 81,
      "outputs": [
        {
          "output_type": "stream",
          "text": [
            "\u001b[33m\r0% [Working]\u001b[0m\r            \rHit:1 http://security.ubuntu.com/ubuntu bionic-security InRelease\n",
            "\u001b[33m\r0% [Connecting to archive.ubuntu.com (91.189.88.152)] [Connected to cloud.r-pro\u001b[0m\r                                                                               \rHit:2 https://cloud.r-project.org/bin/linux/ubuntu bionic-cran40/ InRelease\n",
            "Ign:3 https://developer.download.nvidia.com/compute/cuda/repos/ubuntu1804/x86_64  InRelease\n",
            "Get:4 http://ppa.launchpad.net/c2d4u.team/c2d4u4.0+/ubuntu bionic InRelease [15.9 kB]\n",
            "Hit:5 http://archive.ubuntu.com/ubuntu bionic InRelease\n",
            "Ign:6 https://developer.download.nvidia.com/compute/machine-learning/repos/ubuntu1804/x86_64  InRelease\n",
            "Hit:7 https://developer.download.nvidia.com/compute/cuda/repos/ubuntu1804/x86_64  Release\n",
            "Hit:8 https://developer.download.nvidia.com/compute/machine-learning/repos/ubuntu1804/x86_64  Release\n",
            "Hit:9 http://archive.ubuntu.com/ubuntu bionic-updates InRelease\n",
            "Hit:10 http://archive.ubuntu.com/ubuntu bionic-backports InRelease\n",
            "Hit:11 http://ppa.launchpad.net/cran/libgit2/ubuntu bionic InRelease\n",
            "Hit:12 http://ppa.launchpad.net/deadsnakes/ppa/ubuntu bionic InRelease\n",
            "Hit:14 http://ppa.launchpad.net/graphics-drivers/ppa/ubuntu bionic InRelease\n",
            "Get:16 http://ppa.launchpad.net/c2d4u.team/c2d4u4.0+/ubuntu bionic/main amd64 Packages [906 kB]\n",
            "Fetched 921 kB in 2s (499 kB/s)\n",
            "Reading package lists... Done\n",
            "Building dependency tree       \n",
            "Reading state information... Done\n",
            "48 packages can be upgraded. Run 'apt list --upgradable' to see them.\n",
            "Reading package lists... Done\n",
            "Building dependency tree       \n",
            "Reading state information... Done\n",
            "swig is already the newest version (3.0.12-1).\n",
            "libpq-dev is already the newest version (10.17-0ubuntu0.18.04.1).\n",
            "xorg-dev is already the newest version (1:7.7+19ubuntu7.1).\n",
            "libsdl2-dev is already the newest version (2.0.8+dfsg1-1ubuntu1.18.04.4).\n",
            "xvfb is already the newest version (2:1.19.6-1ubuntu4.9).\n",
            "0 upgraded, 0 newly installed, 0 to remove and 48 not upgraded.\n"
          ],
          "name": "stdout"
        }
      ]
    },
    {
      "cell_type": "markdown",
      "metadata": {
        "id": "Wc8yR4CZZWuO"
      },
      "source": [
        "## Ambientes TF-Agents"
      ]
    },
    {
      "cell_type": "markdown",
      "metadata": {
        "id": "cRdOvdHaAj7u"
      },
      "source": [
        "-- El ambiente de TF agents, entre muchas de sus funcionalidades, actua como wrapper del OpenAI gym.\n",
        "\n",
        "-- Se creará un escenario del juego Breakout"
      ]
    },
    {
      "cell_type": "code",
      "metadata": {
        "id": "Mz2xlhUyYDXc"
      },
      "source": [
        "tf.random.set_seed(42)\n",
        "np.random.seed(42)"
      ],
      "execution_count": 82,
      "outputs": []
    },
    {
      "cell_type": "code",
      "metadata": {
        "colab": {
          "base_uri": "https://localhost:8080/"
        },
        "id": "r2w8dQ5geSyR",
        "outputId": "1b1b736a-a654-435a-cb41-634723ce82a1"
      },
      "source": [
        "#cargar datos desde drive acceso libre\n",
        "FILEID = \"170ydHobjaRdeZjryXbAYYAEfc1TMZPmd\"\n",
        "!wget --load-cookies /tmp/cookies.txt \"https://docs.google.com/uc?export=download&confirm=$(wget --quiet --save-cookies /tmp/cookies.txt --keep-session-cookies --no-check-certificate 'https://docs.google.com/uc?export=download&id='$FILEID -O- | sed -rn 's/.*confirm=([0-9A-Za-z_]+).*/\\1\\n/p')&id=\"$FILEID -O ROMS.zip && rm -rf /tmp/cookies.txt\n",
        "#!unzip codigos.zip\n",
        "#!dir"
      ],
      "execution_count": 83,
      "outputs": [
        {
          "output_type": "stream",
          "text": [
            "--2021-06-10 20:21:04--  https://docs.google.com/uc?export=download&confirm=&id=170ydHobjaRdeZjryXbAYYAEfc1TMZPmd\n",
            "Resolving docs.google.com (docs.google.com)... 142.250.81.206, 2607:f8b0:4004:82f::200e\n",
            "Connecting to docs.google.com (docs.google.com)|142.250.81.206|:443... connected.\n",
            "HTTP request sent, awaiting response... 302 Moved Temporarily\n",
            "Location: https://doc-0k-14-docs.googleusercontent.com/docs/securesc/lhbmentvhg5lk9qv1895ko49ld5sfvmk/g2um6he91u0c6fg4pddak7v0m99nnjkf/1623356400000/09173029842254050324/02245014981830098616Z/170ydHobjaRdeZjryXbAYYAEfc1TMZPmd?e=download [following]\n",
            "--2021-06-10 20:21:07--  https://doc-0k-14-docs.googleusercontent.com/docs/securesc/lhbmentvhg5lk9qv1895ko49ld5sfvmk/g2um6he91u0c6fg4pddak7v0m99nnjkf/1623356400000/09173029842254050324/02245014981830098616Z/170ydHobjaRdeZjryXbAYYAEfc1TMZPmd?e=download\n",
            "Resolving doc-0k-14-docs.googleusercontent.com (doc-0k-14-docs.googleusercontent.com)... 172.217.13.225, 2607:f8b0:4004:809::2001\n",
            "Connecting to doc-0k-14-docs.googleusercontent.com (doc-0k-14-docs.googleusercontent.com)|172.217.13.225|:443... connected.\n",
            "HTTP request sent, awaiting response... 302 Found\n",
            "Location: https://docs.google.com/nonceSigner?nonce=3et9shtsv9ngc&continue=https://doc-0k-14-docs.googleusercontent.com/docs/securesc/lhbmentvhg5lk9qv1895ko49ld5sfvmk/g2um6he91u0c6fg4pddak7v0m99nnjkf/1623356400000/09173029842254050324/02245014981830098616Z/170ydHobjaRdeZjryXbAYYAEfc1TMZPmd?e%3Ddownload&hash=t2gd4dl8oqft3supcu4nbi2c8stf4imi [following]\n",
            "--2021-06-10 20:21:07--  https://docs.google.com/nonceSigner?nonce=3et9shtsv9ngc&continue=https://doc-0k-14-docs.googleusercontent.com/docs/securesc/lhbmentvhg5lk9qv1895ko49ld5sfvmk/g2um6he91u0c6fg4pddak7v0m99nnjkf/1623356400000/09173029842254050324/02245014981830098616Z/170ydHobjaRdeZjryXbAYYAEfc1TMZPmd?e%3Ddownload&hash=t2gd4dl8oqft3supcu4nbi2c8stf4imi\n",
            "Connecting to docs.google.com (docs.google.com)|142.250.81.206|:443... connected.\n",
            "HTTP request sent, awaiting response... 302 Found\n",
            "Location: https://doc-0k-14-docs.googleusercontent.com/docs/securesc/lhbmentvhg5lk9qv1895ko49ld5sfvmk/g2um6he91u0c6fg4pddak7v0m99nnjkf/1623356400000/09173029842254050324/02245014981830098616Z/170ydHobjaRdeZjryXbAYYAEfc1TMZPmd?e=download&nonce=3et9shtsv9ngc&user=02245014981830098616Z&hash=ts233f35qj3lqtuvvnbuh16l7p491age [following]\n",
            "--2021-06-10 20:21:07--  https://doc-0k-14-docs.googleusercontent.com/docs/securesc/lhbmentvhg5lk9qv1895ko49ld5sfvmk/g2um6he91u0c6fg4pddak7v0m99nnjkf/1623356400000/09173029842254050324/02245014981830098616Z/170ydHobjaRdeZjryXbAYYAEfc1TMZPmd?e=download&nonce=3et9shtsv9ngc&user=02245014981830098616Z&hash=ts233f35qj3lqtuvvnbuh16l7p491age\n",
            "Connecting to doc-0k-14-docs.googleusercontent.com (doc-0k-14-docs.googleusercontent.com)|172.217.13.225|:443... connected.\n",
            "HTTP request sent, awaiting response... 200 OK\n",
            "Length: unspecified [application/zip]\n",
            "Saving to: ‘ROMS.zip’\n",
            "\n",
            "ROMS.zip                [ <=>                ]   7.80M  --.-KB/s    in 0.1s    \n",
            "\n",
            "2021-06-10 20:21:07 (62.0 MB/s) - ‘ROMS.zip’ saved [8181588]\n",
            "\n"
          ],
          "name": "stdout"
        }
      ]
    },
    {
      "cell_type": "code",
      "metadata": {
        "colab": {
          "base_uri": "https://localhost:8080/"
        },
        "id": "OFTAW3Hke0s7",
        "outputId": "d85123d0-9585-43f6-aaaf-f476a6a0cee4"
      },
      "source": [
        "!python -m atari_py.import_roms ./"
      ],
      "execution_count": 84,
      "outputs": [
        {
          "output_type": "stream",
          "text": [
            "copying adventure.bin from ROMS/Adventure (1980) (Atari, Warren Robinett) (CX2613, CX2613P) (PAL).bin to /usr/local/lib/python3.7/dist-packages/atari_py/atari_roms/adventure.bin\n",
            "copying air_raid.bin from ROMS/Air Raid (Men-A-Vision) (PAL) ~.bin to /usr/local/lib/python3.7/dist-packages/atari_py/atari_roms/air_raid.bin\n",
            "copying alien.bin from ROMS/Alien (1982) (20th Century Fox Video Games, Douglas 'Dallas North' Neubauer) (11006) ~.bin to /usr/local/lib/python3.7/dist-packages/atari_py/atari_roms/alien.bin\n",
            "copying amidar.bin from ROMS/Amidar (1982) (Parker Brothers, Ed Temple) (PB5310) ~.bin to /usr/local/lib/python3.7/dist-packages/atari_py/atari_roms/amidar.bin\n",
            "copying assault.bin from ROMS/Assault (AKA Sky Alien) (1983) (Bomb - Onbase) (CA281).bin to /usr/local/lib/python3.7/dist-packages/atari_py/atari_roms/assault.bin\n",
            "copying asterix.bin from ROMS/Asterix (AKA Taz) (07-27-1983) (Atari, Jerome Domurat, Steve Woita) (CX2696) (Prototype).bin to /usr/local/lib/python3.7/dist-packages/atari_py/atari_roms/asterix.bin\n",
            "copying asteroids.bin from ROMS/Asteroids (1981) (Atari, Brad Stewart - Sears) (CX2649 - 49-75163) [no copyright] ~.bin to /usr/local/lib/python3.7/dist-packages/atari_py/atari_roms/asteroids.bin\n",
            "copying atlantis.bin from ROMS/Atlantis (Lost City of Atlantis) (1982) (Imagic, Dennis Koble) (720103-1A, 720103-1B, IA3203, IX-010-04) ~.bin to /usr/local/lib/python3.7/dist-packages/atari_py/atari_roms/atlantis.bin\n",
            "copying bank_heist.bin from ROMS/Bank Heist (Bonnie & Clyde, Cops 'n' Robbers, Hold-Up, Roaring 20's) (1983) (20th Century Fox Video Games, Bill Aspromonte) (11012) ~.bin to /usr/local/lib/python3.7/dist-packages/atari_py/atari_roms/bank_heist.bin\n",
            "copying battle_zone.bin from ROMS/Battlezone (1983) (Atari - GCC, Mike Feinstein, Brad Rice) (CX2681) ~.bin to /usr/local/lib/python3.7/dist-packages/atari_py/atari_roms/battle_zone.bin\n",
            "copying beam_rider.bin from ROMS/Beamrider (1984) (Activision - Cheshire Engineering, David Rolfe, Larry Zwick) (AZ-037-04) ~.bin to /usr/local/lib/python3.7/dist-packages/atari_py/atari_roms/beam_rider.bin\n",
            "copying berzerk.bin from ROMS/Berzerk (1982) (Atari, Dan Hitchens - Sears) (CX2650 - 49-75168) ~.bin to /usr/local/lib/python3.7/dist-packages/atari_py/atari_roms/berzerk.bin\n",
            "copying bowling.bin from ROMS/Bowling (1979) (Atari, Larry Kaplan - Sears) (CX2628 - 6-99842, 49-75117) ~.bin to /usr/local/lib/python3.7/dist-packages/atari_py/atari_roms/bowling.bin\n",
            "copying boxing.bin from ROMS/Boxing - La Boxe (1980) (Activision, Bob Whitehead) (AG-002, CAG-002, AG-002-04) ~.bin to /usr/local/lib/python3.7/dist-packages/atari_py/atari_roms/boxing.bin\n",
            "copying breakout.bin from ROMS/Breakout - Breakaway IV (Paddle) (1978) (Atari, Brad Stewart - Sears) (CX2622 - 6-99813, 49-75107) ~.bin to /usr/local/lib/python3.7/dist-packages/atari_py/atari_roms/breakout.bin\n",
            "copying carnival.bin from ROMS/Carnival (1982) (Coleco - Woodside Design Associates, Steve 'Jessica Stevens' Kitchen) (2468) ~.bin to /usr/local/lib/python3.7/dist-packages/atari_py/atari_roms/carnival.bin\n",
            "copying centipede.bin from ROMS/Centipede (1983) (Atari - GCC) (CX2676) ~.bin to /usr/local/lib/python3.7/dist-packages/atari_py/atari_roms/centipede.bin\n",
            "copying chopper_command.bin from ROMS/Chopper Command (1982) (Activision, Bob Whitehead) (AX-015, AX-015-04) ~.bin to /usr/local/lib/python3.7/dist-packages/atari_py/atari_roms/chopper_command.bin\n",
            "copying crazy_climber.bin from ROMS/Crazy Climber (1983) (Atari - Roklan, Joe Gaucher, Alex Leavens) (CX2683) ~.bin to /usr/local/lib/python3.7/dist-packages/atari_py/atari_roms/crazy_climber.bin\n",
            "copying defender.bin from ROMS/Defender (1982) (Atari, Robert C. Polaro, Alan J. Murphy - Sears) (CX2609 - 49-75186) ~.bin to /usr/local/lib/python3.7/dist-packages/atari_py/atari_roms/defender.bin\n",
            "copying demon_attack.bin from ROMS/Demon Attack (Death from Above) (1982) (Imagic, Rob Fulop) (720000-200, 720101-1B, 720101-1C, IA3200, IA3200C, IX-006-04) ~.bin to /usr/local/lib/python3.7/dist-packages/atari_py/atari_roms/demon_attack.bin\n",
            "copying donkey_kong.bin from ROMS/Donkey Kong (1982) (Coleco - Woodside Design Associates - Imaginative Systems Software, Garry Kitchen) (2451) ~.bin to /usr/local/lib/python3.7/dist-packages/atari_py/atari_roms/donkey_kong.bin\n",
            "copying double_dunk.bin from ROMS/Double Dunk (Super Basketball) (1989) (Atari, Matthew L. Hubbard) (CX26159) ~.bin to /usr/local/lib/python3.7/dist-packages/atari_py/atari_roms/double_dunk.bin\n",
            "copying elevator_action.bin from ROMS/Elevator Action (1983) (Atari, Dan Hitchens) (CX26126) (Prototype) ~.bin to /usr/local/lib/python3.7/dist-packages/atari_py/atari_roms/elevator_action.bin\n",
            "copying enduro.bin from ROMS/Enduro (1983) (Activision, Larry Miller) (AX-026, AX-026-04) ~.bin to /usr/local/lib/python3.7/dist-packages/atari_py/atari_roms/enduro.bin\n",
            "copying fishing_derby.bin from ROMS/Fishing Derby (1980) (Activision, David Crane) (AG-004) ~.bin to /usr/local/lib/python3.7/dist-packages/atari_py/atari_roms/fishing_derby.bin\n",
            "copying freeway.bin from ROMS/Freeway (1981) (Activision, David Crane) (AG-009, AG-009-04) ~.bin to /usr/local/lib/python3.7/dist-packages/atari_py/atari_roms/freeway.bin\n",
            "copying frogger.bin from ROMS/Frogger (1982) (Parker Brothers, Ed English, David Lamkins) (PB5300) ~.bin to /usr/local/lib/python3.7/dist-packages/atari_py/atari_roms/frogger.bin\n",
            "copying frostbite.bin from ROMS/Frostbite (1983) (Activision, Steve Cartwright) (AX-031) ~.bin to /usr/local/lib/python3.7/dist-packages/atari_py/atari_roms/frostbite.bin\n",
            "copying galaxian.bin from ROMS/Galaxian (1983) (Atari - GCC, Mark Ackerman, Tom Calderwood, Glenn Parker) (CX2684) ~.bin to /usr/local/lib/python3.7/dist-packages/atari_py/atari_roms/galaxian.bin\n",
            "copying gopher.bin from ROMS/Gopher (Gopher Attack) (1982) (U.S. Games Corporation - JWDA, Sylvia Day, Todd Marshall, Robin McDaniel, Henry Will IV) (VC2001) ~.bin to /usr/local/lib/python3.7/dist-packages/atari_py/atari_roms/gopher.bin\n",
            "copying gravitar.bin from ROMS/Gravitar (1983) (Atari, Dan Hitchens, Mimi Nyden) (CX2685) ~.bin to /usr/local/lib/python3.7/dist-packages/atari_py/atari_roms/gravitar.bin\n",
            "copying hero.bin from ROMS/H.E.R.O. (1984) (Activision, John Van Ryzin) (AZ-036-04) ~.bin to /usr/local/lib/python3.7/dist-packages/atari_py/atari_roms/hero.bin\n",
            "copying ice_hockey.bin from ROMS/Ice Hockey - Le Hockey Sur Glace (1981) (Activision, Alan Miller) (AX-012, CAX-012, AX-012-04) ~.bin to /usr/local/lib/python3.7/dist-packages/atari_py/atari_roms/ice_hockey.bin\n",
            "copying jamesbond.bin from ROMS/James Bond 007 (James Bond Agent 007) (1984) (Parker Brothers - On-Time Software, Joe Gaucher, Louis Marbel) (PB5110) ~.bin to /usr/local/lib/python3.7/dist-packages/atari_py/atari_roms/jamesbond.bin\n",
            "copying journey_escape.bin from ROMS/Journey Escape (1983) (Data Age, J. Ray Dettling) (112-006) ~.bin to /usr/local/lib/python3.7/dist-packages/atari_py/atari_roms/journey_escape.bin\n",
            "copying kaboom.bin from ROMS/Kaboom! (Paddle) (1981) (Activision, Larry Kaplan, David Crane) (AG-010, AG-010-04) ~.bin to /usr/local/lib/python3.7/dist-packages/atari_py/atari_roms/kaboom.bin\n",
            "copying kangaroo.bin from ROMS/Kangaroo (1983) (Atari - GCC, Kevin Osborn) (CX2689) ~.bin to /usr/local/lib/python3.7/dist-packages/atari_py/atari_roms/kangaroo.bin\n",
            "copying keystone_kapers.bin from ROMS/Keystone Kapers - Raueber und Gendarm (1983) (Activision, Garry Kitchen - Ariola) (EAX-025, EAX-025-04I - 711 025-725) (PAL).bin to /usr/local/lib/python3.7/dist-packages/atari_py/atari_roms/keystone_kapers.bin\n",
            "copying king_kong.bin from ROMS/King Kong (1982) (Tigervision - Software Electronics Corporation, Karl T. Olinger - Teldec) (7-001 - 3.60001 VE) (PAL).bin to /usr/local/lib/python3.7/dist-packages/atari_py/atari_roms/king_kong.bin\n",
            "copying koolaid.bin from ROMS/Kool-Aid Man (Kool Aid Pitcher Man) (1983) (M Network, Stephen Tatsumi, Jane Terjung - Kool Aid) (MT4648) ~.bin to /usr/local/lib/python3.7/dist-packages/atari_py/atari_roms/koolaid.bin\n",
            "copying krull.bin from ROMS/Krull (1983) (Atari, Jerome Domurat, Dave Staugas) (CX2682) ~.bin to /usr/local/lib/python3.7/dist-packages/atari_py/atari_roms/krull.bin\n",
            "copying kung_fu_master.bin from ROMS/Kung-Fu Master (1987) (Activision - Imagineering, Dan Kitchen, Garry Kitchen) (AG-039-04) ~.bin to /usr/local/lib/python3.7/dist-packages/atari_py/atari_roms/kung_fu_master.bin\n",
            "copying laser_gates.bin from ROMS/Laser Gates (AKA Innerspace) (1983) (Imagic, Dan Oliver) (720118-2A, 13208, EIX-007-04I) (PAL).bin to /usr/local/lib/python3.7/dist-packages/atari_py/atari_roms/laser_gates.bin\n",
            "copying lost_luggage.bin from ROMS/Lost Luggage (Airport Mayhem) (1982) (Apollo - Games by Apollo, Larry Minor, Ernie Runyon, Ed Salvo) (AP-2004) [no opening scene] ~.bin to /usr/local/lib/python3.7/dist-packages/atari_py/atari_roms/lost_luggage.bin\n",
            "copying montezuma_revenge.bin from ROMS/Montezuma's Revenge - Featuring Panama Joe (1984) (Parker Brothers - JWDA, Henry Will IV) (PB5760) ~.bin to /usr/local/lib/python3.7/dist-packages/atari_py/atari_roms/montezuma_revenge.bin\n",
            "copying mr_do.bin from ROMS/Mr. Do! (1983) (CBS Electronics, Ed English) (4L4478) (PAL).bin to /usr/local/lib/python3.7/dist-packages/atari_py/atari_roms/mr_do.bin\n",
            "copying ms_pacman.bin from ROMS/Ms. Pac-Man (1983) (Atari - GCC, Mark Ackerman, Glenn Parker) (CX2675) ~.bin to /usr/local/lib/python3.7/dist-packages/atari_py/atari_roms/ms_pacman.bin\n",
            "copying name_this_game.bin from ROMS/Name This Game (Guardians of Treasure) (1983) (U.S. Games Corporation - JWDA, Roger Booth, Sylvia Day, Ron Dubren, Todd Marshall, Robin McDaniel, Wes Trager, Henry Will IV) (VC1007) ~.bin to /usr/local/lib/python3.7/dist-packages/atari_py/atari_roms/name_this_game.bin\n",
            "copying pacman.bin from ROMS/Pac-Man (1982) (Atari, Tod Frye) (CX2646) (PAL).bin to /usr/local/lib/python3.7/dist-packages/atari_py/atari_roms/pacman.bin\n",
            "copying phoenix.bin from ROMS/Phoenix (1983) (Atari - GCC, Mike Feinstein, John Mracek) (CX2673) ~.bin to /usr/local/lib/python3.7/dist-packages/atari_py/atari_roms/phoenix.bin\n",
            "copying video_pinball.bin from ROMS/Pinball (AKA Video Pinball) (Zellers).bin to /usr/local/lib/python3.7/dist-packages/atari_py/atari_roms/video_pinball.bin\n",
            "copying pitfall.bin from ROMS/Pitfall! - Pitfall Harry's Jungle Adventure (Jungle Runner) (1982) (Activision, David Crane) (AX-018, AX-018-04) ~.bin to /usr/local/lib/python3.7/dist-packages/atari_py/atari_roms/pitfall.bin\n",
            "copying pooyan.bin from ROMS/Pooyan (1983) (Konami) (RC 100-X 02) ~.bin to /usr/local/lib/python3.7/dist-packages/atari_py/atari_roms/pooyan.bin\n",
            "copying private_eye.bin from ROMS/Private Eye (1984) (Activision, Bob Whitehead) (AG-034-04) ~.bin to /usr/local/lib/python3.7/dist-packages/atari_py/atari_roms/private_eye.bin\n",
            "copying qbert.bin from ROMS/Q-bert (1983) (Parker Brothers - Western Technologies, Dave Hampton, Tom Sloper) (PB5360) ~.bin to /usr/local/lib/python3.7/dist-packages/atari_py/atari_roms/qbert.bin\n",
            "copying riverraid.bin from ROMS/River Raid (1982) (Activision, Carol Shaw) (AX-020, AX-020-04) ~.bin to /usr/local/lib/python3.7/dist-packages/atari_py/atari_roms/riverraid.bin\n",
            "copying road_runner.bin from patched version of ROMS/Road Runner (1989) (Atari - Bobco, Robert C. Polaro) (CX2663) ~.bin to /usr/local/lib/python3.7/dist-packages/atari_py/atari_roms/road_runner.bin\n",
            "copying robotank.bin from ROMS/Robot Tank (Robotank) (1983) (Activision, Alan Miller) (AZ-028, AG-028-04) ~.bin to /usr/local/lib/python3.7/dist-packages/atari_py/atari_roms/robotank.bin\n",
            "copying seaquest.bin from ROMS/Seaquest (1983) (Activision, Steve Cartwright) (AX-022) ~.bin to /usr/local/lib/python3.7/dist-packages/atari_py/atari_roms/seaquest.bin\n",
            "copying sir_lancelot.bin from ROMS/Sir Lancelot (1983) (Xonox - K-Tel Software - Product Guild, Anthony R. Henderson) (99006, 6220) (PAL).bin to /usr/local/lib/python3.7/dist-packages/atari_py/atari_roms/sir_lancelot.bin\n",
            "copying skiing.bin from ROMS/Skiing - Le Ski (1980) (Activision, Bob Whitehead) (AG-005, CAG-005, AG-005-04) ~.bin to /usr/local/lib/python3.7/dist-packages/atari_py/atari_roms/skiing.bin\n",
            "copying solaris.bin from ROMS/Solaris (The Last Starfighter, Star Raiders II, Universe) (1986) (Atari, Douglas Neubauer, Mimi Nyden) (CX26136) ~.bin to /usr/local/lib/python3.7/dist-packages/atari_py/atari_roms/solaris.bin\n",
            "copying space_invaders.bin from ROMS/Space Invaders (1980) (Atari, Richard Maurer - Sears) (CX2632 - 49-75153) ~.bin to /usr/local/lib/python3.7/dist-packages/atari_py/atari_roms/space_invaders.bin\n",
            "copying star_gunner.bin from ROMS/Stargunner (1983) (Telesys, Alex Leavens) (1005) ~.bin to /usr/local/lib/python3.7/dist-packages/atari_py/atari_roms/star_gunner.bin\n",
            "copying surround.bin from ROMS/Surround (32 in 1) (Bit Corporation) (R320).bin to /usr/local/lib/python3.7/dist-packages/atari_py/atari_roms/surround.bin\n",
            "copying tennis.bin from ROMS/Tennis - Le Tennis (1981) (Activision, Alan Miller) (AG-007, CAG-007) ~.bin to /usr/local/lib/python3.7/dist-packages/atari_py/atari_roms/tennis.bin\n",
            "copying time_pilot.bin from ROMS/Time Pilot (1983) (Coleco - Woodside Design Associates, Harley H. Puthuff Jr.) (2663) ~.bin to /usr/local/lib/python3.7/dist-packages/atari_py/atari_roms/time_pilot.bin\n",
            "copying trondead.bin from ROMS/TRON - Deadly Discs (TRON Joystick) (1983) (M Network - INTV - APh Technological Consulting, Jeff Ronne, Brett Stutz) (MT5662) ~.bin to /usr/local/lib/python3.7/dist-packages/atari_py/atari_roms/trondead.bin\n",
            "copying tutankham.bin from ROMS/Tutankham (1983) (Parker Brothers, Dave Engman, Dawn Stockbridge) (PB5340) ~.bin to /usr/local/lib/python3.7/dist-packages/atari_py/atari_roms/tutankham.bin\n",
            "copying up_n_down.bin from ROMS/Up 'n Down (1984) (SEGA - Beck-Tech, Steve Beck, Phat Ho) (009-01) ~.bin to /usr/local/lib/python3.7/dist-packages/atari_py/atari_roms/up_n_down.bin\n",
            "copying venture.bin from ROMS/Venture (1982) (Coleco, Joseph Biel) (2457) ~.bin to /usr/local/lib/python3.7/dist-packages/atari_py/atari_roms/venture.bin\n",
            "copying pong.bin from ROMS/Video Olympics - Pong Sports (Paddle) (1977) (Atari, Joe Decuir - Sears) (CX2621 - 99806, 6-99806, 49-75104) ~.bin to /usr/local/lib/python3.7/dist-packages/atari_py/atari_roms/pong.bin\n",
            "copying wizard_of_wor.bin from ROMS/Wizard of Wor (1982) (CBS Electronics - Roklan, Joe Hellesen, Joe Wagner) (M8774, M8794) ~.bin to /usr/local/lib/python3.7/dist-packages/atari_py/atari_roms/wizard_of_wor.bin\n",
            "copying yars_revenge.bin from ROMS/Yars' Revenge (Time Freeze) (1982) (Atari, Howard Scott Warshaw - Sears) (CX2655 - 49-75167) ~.bin to /usr/local/lib/python3.7/dist-packages/atari_py/atari_roms/yars_revenge.bin\n",
            "copying zaxxon.bin from ROMS/Zaxxon (1983) (Coleco) (2454) ~.bin to /usr/local/lib/python3.7/dist-packages/atari_py/atari_roms/zaxxon.bin\n"
          ],
          "name": "stdout"
        }
      ]
    },
    {
      "cell_type": "code",
      "metadata": {
        "colab": {
          "base_uri": "https://localhost:8080/"
        },
        "id": "sanePlx0iOjJ",
        "outputId": "b56658ff-4f3e-40d7-94f5-faddb5946f50"
      },
      "source": [
        "import atari_py\n",
        "print(atari_py.list_games())"
      ],
      "execution_count": 85,
      "outputs": [
        {
          "output_type": "stream",
          "text": [
            "['tetris', 'star_gunner', 'asteroids', 'asterix', 'berzerk', 'breakout', 'pacman', 'jamesbond', 'frogger', 'journey_escape', 'kung_fu_master', 'phoenix', 'robotank', 'kaboom', 'road_runner', 'kangaroo', 'amidar', 'freeway', 'galaxian', 'defender', 'gopher', 'skiing', 'mr_do', 'double_dunk', 'name_this_game', 'riverraid', 'pong', 'gravitar', 'solaris', 'carnival', 'seaquest', 'hero', 'krull', 'yars_revenge', 'video_pinball', 'qbert', 'chopper_command', 'battle_zone', 'demon_attack', 'bowling', 'wizard_of_wor', 'alien', 'beam_rider', 'zaxxon', 'laser_gates', 'time_pilot', 'fishing_derby', 'enduro', 'koolaid', 'lost_luggage', 'donkey_kong', 'ice_hockey', 'king_kong', 'atlantis', 'keystone_kapers', 'sir_lancelot', 'tutankham', 'up_n_down', 'pitfall', 'boxing', 'surround', 'ms_pacman', 'assault', 'trondead', 'space_invaders', 'bank_heist', 'venture', 'adventure', 'tennis', 'pooyan', 'crazy_climber', 'private_eye', 'montezuma_revenge', 'air_raid', 'centipede', 'elevator_action', 'frostbite']\n"
          ],
          "name": "stdout"
        }
      ]
    },
    {
      "cell_type": "markdown",
      "metadata": {
        "id": "_Qnq5Babk7AE"
      },
      "source": [
        "# Para la lista de escenarios de atari aceptados ver [https://gym.openai.com/envs/#atari](https://gym.openai.com/envs/#atari)"
      ]
    },
    {
      "cell_type": "code",
      "metadata": {
        "colab": {
          "base_uri": "https://localhost:8080/"
        },
        "id": "cc4WQu1cZaWd",
        "outputId": "af0f11db-eae6-4123-c4bd-360579c1e401"
      },
      "source": [
        "from tf_agents.environments import suite_gym\n",
        "\n",
        "env_name = \"Breakout-v4\"#\"Assault-v0\" #\"Pong-v0\"\n",
        "env = suite_gym.load(env_name) # se puede fijar el discount= xxx (discount factor)\n",
        "env"
      ],
      "execution_count": 86,
      "outputs": [
        {
          "output_type": "execute_result",
          "data": {
            "text/plain": [
              "<tf_agents.environments.wrappers.TimeLimit at 0x7f11accdb3d0>"
            ]
          },
          "metadata": {
            "tags": []
          },
          "execution_count": 86
        }
      ]
    },
    {
      "cell_type": "code",
      "metadata": {
        "colab": {
          "base_uri": "https://localhost:8080/"
        },
        "id": "er2MA7r5ZjIx",
        "outputId": "3572ba68-e278-4e83-bc45-31f64b547aae"
      },
      "source": [
        "env.gym"
      ],
      "execution_count": 87,
      "outputs": [
        {
          "output_type": "execute_result",
          "data": {
            "text/plain": [
              "<gym.envs.atari.atari_env.AtariEnv at 0x7f119c273c90>"
            ]
          },
          "metadata": {
            "tags": []
          },
          "execution_count": 87
        }
      ]
    },
    {
      "cell_type": "markdown",
      "metadata": {
        "id": "eNVIOqxEA-tR"
      },
      "source": [
        "-- A diferencia del OpenAI, tf agents tiene un método `reset()` que no devuelve una observación, devuelve un `TimeStep` que actúa como wrapper de la observación.\n"
      ]
    },
    {
      "cell_type": "code",
      "metadata": {
        "colab": {
          "base_uri": "https://localhost:8080/"
        },
        "id": "d3-aZ_7oa6mi",
        "outputId": "926866c3-ba25-4d7a-d001-d8391df38636"
      },
      "source": [
        "env.seed(42)\n",
        "env.reset()"
      ],
      "execution_count": 88,
      "outputs": [
        {
          "output_type": "execute_result",
          "data": {
            "text/plain": [
              "TimeStep(\n",
              "{'discount': array(1., dtype=float32),\n",
              " 'observation': array([[[0, 0, 0],\n",
              "        [0, 0, 0],\n",
              "        [0, 0, 0],\n",
              "        ...,\n",
              "        [0, 0, 0],\n",
              "        [0, 0, 0],\n",
              "        [0, 0, 0]],\n",
              "\n",
              "       [[0, 0, 0],\n",
              "        [0, 0, 0],\n",
              "        [0, 0, 0],\n",
              "        ...,\n",
              "        [0, 0, 0],\n",
              "        [0, 0, 0],\n",
              "        [0, 0, 0]],\n",
              "\n",
              "       [[0, 0, 0],\n",
              "        [0, 0, 0],\n",
              "        [0, 0, 0],\n",
              "        ...,\n",
              "        [0, 0, 0],\n",
              "        [0, 0, 0],\n",
              "        [0, 0, 0]],\n",
              "\n",
              "       ...,\n",
              "\n",
              "       [[0, 0, 0],\n",
              "        [0, 0, 0],\n",
              "        [0, 0, 0],\n",
              "        ...,\n",
              "        [0, 0, 0],\n",
              "        [0, 0, 0],\n",
              "        [0, 0, 0]],\n",
              "\n",
              "       [[0, 0, 0],\n",
              "        [0, 0, 0],\n",
              "        [0, 0, 0],\n",
              "        ...,\n",
              "        [0, 0, 0],\n",
              "        [0, 0, 0],\n",
              "        [0, 0, 0]],\n",
              "\n",
              "       [[0, 0, 0],\n",
              "        [0, 0, 0],\n",
              "        [0, 0, 0],\n",
              "        ...,\n",
              "        [0, 0, 0],\n",
              "        [0, 0, 0],\n",
              "        [0, 0, 0]]], dtype=uint8),\n",
              " 'reward': array(0., dtype=float32),\n",
              " 'step_type': array(0, dtype=int32)})"
            ]
          },
          "metadata": {
            "tags": []
          },
          "execution_count": 88
        }
      ]
    },
    {
      "cell_type": "markdown",
      "metadata": {
        "id": "X01VNzQtBX_F"
      },
      "source": [
        "-- El método `step()` también devuelve un objeto `TimeStep`"
      ]
    },
    {
      "cell_type": "code",
      "metadata": {
        "colab": {
          "base_uri": "https://localhost:8080/"
        },
        "id": "uI8QCnHIa9mV",
        "outputId": "29942a46-3919-4cb1-eb70-b24a7847e719"
      },
      "source": [
        "env.step(1) # Fire"
      ],
      "execution_count": 89,
      "outputs": [
        {
          "output_type": "execute_result",
          "data": {
            "text/plain": [
              "TimeStep(\n",
              "{'discount': array(1., dtype=float32),\n",
              " 'observation': array([[[0, 0, 0],\n",
              "        [0, 0, 0],\n",
              "        [0, 0, 0],\n",
              "        ...,\n",
              "        [0, 0, 0],\n",
              "        [0, 0, 0],\n",
              "        [0, 0, 0]],\n",
              "\n",
              "       [[0, 0, 0],\n",
              "        [0, 0, 0],\n",
              "        [0, 0, 0],\n",
              "        ...,\n",
              "        [0, 0, 0],\n",
              "        [0, 0, 0],\n",
              "        [0, 0, 0]],\n",
              "\n",
              "       [[0, 0, 0],\n",
              "        [0, 0, 0],\n",
              "        [0, 0, 0],\n",
              "        ...,\n",
              "        [0, 0, 0],\n",
              "        [0, 0, 0],\n",
              "        [0, 0, 0]],\n",
              "\n",
              "       ...,\n",
              "\n",
              "       [[0, 0, 0],\n",
              "        [0, 0, 0],\n",
              "        [0, 0, 0],\n",
              "        ...,\n",
              "        [0, 0, 0],\n",
              "        [0, 0, 0],\n",
              "        [0, 0, 0]],\n",
              "\n",
              "       [[0, 0, 0],\n",
              "        [0, 0, 0],\n",
              "        [0, 0, 0],\n",
              "        ...,\n",
              "        [0, 0, 0],\n",
              "        [0, 0, 0],\n",
              "        [0, 0, 0]],\n",
              "\n",
              "       [[0, 0, 0],\n",
              "        [0, 0, 0],\n",
              "        [0, 0, 0],\n",
              "        ...,\n",
              "        [0, 0, 0],\n",
              "        [0, 0, 0],\n",
              "        [0, 0, 0]]], dtype=uint8),\n",
              " 'reward': array(0., dtype=float32),\n",
              " 'step_type': array(1, dtype=int32)})"
            ]
          },
          "metadata": {
            "tags": []
          },
          "execution_count": 89
        }
      ]
    },
    {
      "cell_type": "markdown",
      "metadata": {
        "id": "MRNvaqh1Bk0w"
      },
      "source": [
        "-- El atributo `step_type` es 0 para el primer time step del episodio, 1 para time steps intermedios y 2 para el step final.\n",
        "\n",
        "-- Se puede llamar al método `is_last()` del `TimeStep` para saber si es el paso final.\n",
        "\n",
        "-- `discount` indica el discount factor que se usa en cada paso (se puede fijar cuando se carga el ambiente)."
      ]
    },
    {
      "cell_type": "code",
      "metadata": {
        "colab": {
          "base_uri": "https://localhost:8080/",
          "height": 588
        },
        "id": "9fFwgy1gbB5-",
        "outputId": "3f744b54-aa11-4062-d117-430c3586e7d9"
      },
      "source": [
        "img = env.render(mode=\"rgb_array\")\n",
        "\n",
        "plt.figure(figsize=(6, 8))\n",
        "plt.imshow(img)\n",
        "plt.axis(\"off\")\n",
        "save_fig(\"breakout_plot\")\n",
        "plt.show()"
      ],
      "execution_count": 90,
      "outputs": [
        {
          "output_type": "stream",
          "text": [
            "Saving figure breakout_plot\n"
          ],
          "name": "stdout"
        },
        {
          "output_type": "display_data",
          "data": {
            "image/png": "[encoded data removed]",
            "text/plain": [
              "<Figure size 432x576 with 1 Axes>"
            ]
          },
          "metadata": {
            "tags": [],
            "needs_background": "light"
          }
        }
      ]
    },
    {
      "cell_type": "code",
      "metadata": {
        "colab": {
          "base_uri": "https://localhost:8080/"
        },
        "id": "hfDCZlzAbFyj",
        "outputId": "7dd71d04-894b-403e-fde0-b41643183cf3"
      },
      "source": [
        "env.current_time_step()"
      ],
      "execution_count": 91,
      "outputs": [
        {
          "output_type": "execute_result",
          "data": {
            "text/plain": [
              "TimeStep(\n",
              "{'discount': array(1., dtype=float32),\n",
              " 'observation': array([[[0, 0, 0],\n",
              "        [0, 0, 0],\n",
              "        [0, 0, 0],\n",
              "        ...,\n",
              "        [0, 0, 0],\n",
              "        [0, 0, 0],\n",
              "        [0, 0, 0]],\n",
              "\n",
              "       [[0, 0, 0],\n",
              "        [0, 0, 0],\n",
              "        [0, 0, 0],\n",
              "        ...,\n",
              "        [0, 0, 0],\n",
              "        [0, 0, 0],\n",
              "        [0, 0, 0]],\n",
              "\n",
              "       [[0, 0, 0],\n",
              "        [0, 0, 0],\n",
              "        [0, 0, 0],\n",
              "        ...,\n",
              "        [0, 0, 0],\n",
              "        [0, 0, 0],\n",
              "        [0, 0, 0]],\n",
              "\n",
              "       ...,\n",
              "\n",
              "       [[0, 0, 0],\n",
              "        [0, 0, 0],\n",
              "        [0, 0, 0],\n",
              "        ...,\n",
              "        [0, 0, 0],\n",
              "        [0, 0, 0],\n",
              "        [0, 0, 0]],\n",
              "\n",
              "       [[0, 0, 0],\n",
              "        [0, 0, 0],\n",
              "        [0, 0, 0],\n",
              "        ...,\n",
              "        [0, 0, 0],\n",
              "        [0, 0, 0],\n",
              "        [0, 0, 0]],\n",
              "\n",
              "       [[0, 0, 0],\n",
              "        [0, 0, 0],\n",
              "        [0, 0, 0],\n",
              "        ...,\n",
              "        [0, 0, 0],\n",
              "        [0, 0, 0],\n",
              "        [0, 0, 0]]], dtype=uint8),\n",
              " 'reward': array(0., dtype=float32),\n",
              " 'step_type': array(1, dtype=int32)})"
            ]
          },
          "metadata": {
            "tags": []
          },
          "execution_count": 91
        }
      ]
    },
    {
      "cell_type": "markdown",
      "metadata": {
        "id": "LjK7qCpcbPu5"
      },
      "source": [
        "## Especificaciones del ambiente (escenario)\n",
        "\n",
        "-- TF agents provee especificaciones de las observaciones, acciones, y time steps."
      ]
    },
    {
      "cell_type": "code",
      "metadata": {
        "colab": {
          "base_uri": "https://localhost:8080/"
        },
        "id": "qqkviHyfbLxF",
        "outputId": "1325e4db-6a84-448b-9091-52bea892baa5"
      },
      "source": [
        "env.observation_spec()"
      ],
      "execution_count": 92,
      "outputs": [
        {
          "output_type": "execute_result",
          "data": {
            "text/plain": [
              "BoundedArraySpec(shape=(210, 160, 3), dtype=dtype('uint8'), name='observation', minimum=0, maximum=255)"
            ]
          },
          "metadata": {
            "tags": []
          },
          "execution_count": 92
        }
      ]
    },
    {
      "cell_type": "code",
      "metadata": {
        "colab": {
          "base_uri": "https://localhost:8080/"
        },
        "id": "kO4GkugqbW5U",
        "outputId": "2a2a6189-8031-4f78-f008-53ad3fc96d96"
      },
      "source": [
        "env.action_spec()"
      ],
      "execution_count": 93,
      "outputs": [
        {
          "output_type": "execute_result",
          "data": {
            "text/plain": [
              "BoundedArraySpec(shape=(), dtype=dtype('int64'), name='action', minimum=0, maximum=3)"
            ]
          },
          "metadata": {
            "tags": []
          },
          "execution_count": 93
        }
      ]
    },
    {
      "cell_type": "code",
      "metadata": {
        "colab": {
          "base_uri": "https://localhost:8080/"
        },
        "id": "A0q0l3MWbqrW",
        "outputId": "322447f2-1340-4282-d79e-81988eccbb6c"
      },
      "source": [
        "env.time_step_spec()"
      ],
      "execution_count": 94,
      "outputs": [
        {
          "output_type": "execute_result",
          "data": {
            "text/plain": [
              "TimeStep(\n",
              "{'discount': BoundedArraySpec(shape=(), dtype=dtype('float32'), name='discount', minimum=0.0, maximum=1.0),\n",
              " 'observation': BoundedArraySpec(shape=(210, 160, 3), dtype=dtype('uint8'), name='observation', minimum=0, maximum=255),\n",
              " 'reward': ArraySpec(shape=(), dtype=dtype('float32'), name='reward'),\n",
              " 'step_type': ArraySpec(shape=(), dtype=dtype('int32'), name='step_type')})"
            ]
          },
          "metadata": {
            "tags": []
          },
          "execution_count": 94
        }
      ]
    },
    {
      "cell_type": "markdown",
      "metadata": {
        "id": "uDsByo96CkGy"
      },
      "source": [
        "-- En este caso las observaciones son frames (imágenes) de la pantalla del Atari, en numpy arrays de [210,160,3].\n",
        "\n"
      ]
    },
    {
      "cell_type": "code",
      "metadata": {
        "id": "YzxMZjoPbu01",
        "colab": {
          "base_uri": "https://localhost:8080/"
        },
        "outputId": "98fc7a1d-2243-4995-f3bf-ebcfeca2a33b"
      },
      "source": [
        "env.gym.get_action_meanings()"
      ],
      "execution_count": 95,
      "outputs": [
        {
          "output_type": "execute_result",
          "data": {
            "text/plain": [
              "['NOOP', 'FIRE', 'RIGHT', 'LEFT']"
            ]
          },
          "metadata": {
            "tags": []
          },
          "execution_count": 95
        }
      ]
    },
    {
      "cell_type": "markdown",
      "metadata": {
        "id": "HH8DyEv3DKqt"
      },
      "source": [
        "-- En este caso tenemos cuatro acciones disponibles.\n",
        "\n",
        "-- La representación de las observaciones (imagenes), deben ser submuestreadas y convertidas a escala de grises para preservar memoría RAM.\n",
        "\n",
        "-- Para ello se puede utilizar un *environment wrapper*."
      ]
    },
    {
      "cell_type": "markdown",
      "metadata": {
        "id": "rwpzNyumEXCP"
      },
      "source": [
        "## Environment Wrappers y preprocesamiento en Atari\n",
        "\n"
      ]
    },
    {
      "cell_type": "code",
      "metadata": {
        "colab": {
          "base_uri": "https://localhost:8080/"
        },
        "id": "yRqbAskTF-0r",
        "outputId": "b029f0b9-283b-499a-98aa-6cdb3f7a85ad"
      },
      "source": [
        "import tf_agents.environments.wrappers # lista de wrappers disponibles\n",
        "\n",
        "for name in dir(tf_agents.environments.wrappers):\n",
        "    obj = getattr(tf_agents.environments.wrappers, name)\n",
        "    if hasattr(obj, \"__base__\") and issubclass(obj, tf_agents.environments.wrappers.PyEnvironmentBaseWrapper):\n",
        "        print(\"{:27s} {}\".format(name, obj.__doc__.split(\"\\n\")[0]))"
      ],
      "execution_count": 96,
      "outputs": [
        {
          "output_type": "stream",
          "text": [
            "ActionClipWrapper           Wraps an environment and clips actions to spec before applying.\n",
            "ActionDiscretizeWrapper     Wraps an environment with continuous actions and discretizes them.\n",
            "ActionOffsetWrapper         Offsets actions to be zero-based.\n",
            "ActionRepeat                Repeates actions over n-steps while acummulating the received reward.\n",
            "ExtraDisabledActionsWrapper Adds extra unavailable actions.\n",
            "FlattenObservationsWrapper  Wraps an environment and flattens nested multi-dimensional observations.\n",
            "GoalReplayEnvWrapper        Adds a goal to the observation, used for HER (Hindsight Experience Replay).\n",
            "HistoryWrapper              Adds observation and action history to the environment's observations.\n",
            "ObservationFilterWrapper    Filters observations based on an array of indexes.\n",
            "OneHotActionWrapper         Converts discrete action to one_hot format.\n",
            "PerformanceProfiler         End episodes after specified number of steps.\n",
            "PyEnvironmentBaseWrapper    PyEnvironment wrapper forwards calls to the given environment.\n",
            "RunStats                    Wrapper that accumulates run statistics as the environment iterates.\n",
            "TimeLimit                   End episodes after specified number of steps.\n"
          ],
          "name": "stdout"
        }
      ]
    },
    {
      "cell_type": "code",
      "metadata": {
        "colab": {
          "base_uri": "https://localhost:8080/"
        },
        "id": "Z3zpJorlDI7v",
        "outputId": "c316e88c-d2e4-4d2f-8307-4d2ab7d5dcf9"
      },
      "source": [
        "from tf_agents.environments.wrappers import ActionRepeat\n",
        "\n",
        "repeating_env = ActionRepeat(env, times=4) # se repite la accion 4 veces\n",
        "repeating_env"
      ],
      "execution_count": 97,
      "outputs": [
        {
          "output_type": "execute_result",
          "data": {
            "text/plain": [
              "<tf_agents.environments.wrappers.ActionRepeat at 0x7f119c24d0d0>"
            ]
          },
          "metadata": {
            "tags": []
          },
          "execution_count": 97
        }
      ]
    },
    {
      "cell_type": "code",
      "metadata": {
        "colab": {
          "base_uri": "https://localhost:8080/"
        },
        "id": "XpveWkCTF34P",
        "outputId": "ed9a7434-b85c-4ea4-dffc-14c78589a5c6"
      },
      "source": [
        "repeating_env.unwrapped # el tf agent contiene el escenario de Atari"
      ],
      "execution_count": 98,
      "outputs": [
        {
          "output_type": "execute_result",
          "data": {
            "text/plain": [
              "<gym.envs.atari.atari_env.AtariEnv at 0x7f119c273c90>"
            ]
          },
          "metadata": {
            "tags": []
          },
          "execution_count": 98
        }
      ]
    },
    {
      "cell_type": "markdown",
      "metadata": {
        "id": "xxt0lgLZGbxV"
      },
      "source": [
        "-- El método `suite_gym.load()` crea un escenario y codifica (wrap) para TF-Agents environment wrappers y Gym environment wrappers.\n",
        "\n",
        "-- Se creará un código que construye un ambiente BreakOut y correrá por un máximo de 10.000 pasos durante cada episodio, y cada acción se repite 4 veces:"
      ]
    },
    {
      "cell_type": "code",
      "metadata": {
        "id": "csutJ3U0GcDd"
      },
      "source": [
        "from functools import partial\n",
        "from gym.wrappers import TimeLimit\n",
        "\n",
        "limited_repeating_env = suite_gym.load(\n",
        "    \"Breakout-v4\",\n",
        "    gym_env_wrappers=[partial(TimeLimit, max_episode_steps=10000)],\n",
        "    env_wrappers=[partial(ActionRepeat, times=4)],\n",
        ")"
      ],
      "execution_count": 99,
      "outputs": []
    },
    {
      "cell_type": "code",
      "metadata": {
        "colab": {
          "base_uri": "https://localhost:8080/"
        },
        "id": "efpOasQxHDlb",
        "outputId": "88dedae6-fb7f-4212-bc70-b9c119fc9285"
      },
      "source": [
        "limited_repeating_env"
      ],
      "execution_count": 100,
      "outputs": [
        {
          "output_type": "execute_result",
          "data": {
            "text/plain": [
              "<tf_agents.environments.wrappers.ActionRepeat at 0x7f119c24de50>"
            ]
          },
          "metadata": {
            "tags": []
          },
          "execution_count": 100
        }
      ]
    },
    {
      "cell_type": "code",
      "metadata": {
        "colab": {
          "base_uri": "https://localhost:8080/"
        },
        "id": "txU8f1roHEs3",
        "outputId": "064eea14-b6bb-465e-9b39-e84af935606d"
      },
      "source": [
        "limited_repeating_env.unwrapped"
      ],
      "execution_count": 101,
      "outputs": [
        {
          "output_type": "execute_result",
          "data": {
            "text/plain": [
              "<gym.envs.atari.atari_env.AtariEnv at 0x7f119c251fd0>"
            ]
          },
          "metadata": {
            "tags": []
          },
          "execution_count": 101
        }
      ]
    },
    {
      "cell_type": "markdown",
      "metadata": {
        "id": "x0WGfBuoFaA1"
      },
      "source": [
        "-- En la mayoría de ocasiones se requiere aplicar algunas etapas de preprocesamiento.\n",
        "\n",
        "-- Tf agents proporciona una serie de wrappers desde el  `AtariPreprocessing`, que incluye:\n",
        "  -`Grayscale and downsampling`: se muestrea a 84 x 84 pixeles por defecto.\n",
        "  - `Max pooling`: los últimos dos frames se filtran con max pooling de 1 x 1.\n",
        "  - `Frame skipping`: el agente solo ve cada $n$ frames (por defecto 4).\n",
        "  - `End of life lost`: el episodio termina justo cuando se pierde una vida.\n",
        "\n",
        "-- Se creará un escenario Atari Breakout y se le aplicarán algunas etapas de preproceso.\n",
        "\n",
        "-- Por defecto Atari aplica frame skipping y max pooling, por ende se llamará la variante `BreakoutNoFrameskip-v4`.\n",
        "\n",
        "-- Para codificar la velocidad, utilizaremos el `FrameStack4`, el cual retorna una serie de cuatro frames sobre la dimensión de canales de la imagen.\n",
        "\n",
        "**Nota:** Breakout requiere que el usuario presione el botón FIRE para iniciar o al perder una vida. El agente puede tardar mucho en aprender esto, dado que puede entender que es una forma de perder rápido. Para acelerar el entrenamiento se creará la subclase del `AtariPreprocessing` wrapper, llamada `AtariPreprocessingWithAutoFire`, que presiona FIRE (i.e., plays action 1) automáticamente al empezar el juego o perder una vida."
      ]
    },
    {
      "cell_type": "code",
      "metadata": {
        "id": "awCJq7SNFVLf"
      },
      "source": [
        "from tf_agents.environments import suite_atari\n",
        "from tf_agents.environments.atari_preprocessing import AtariPreprocessing\n",
        "from tf_agents.environments.atari_wrappers import FrameStack4\n",
        "\n",
        "max_episode_steps = 27000 # \n",
        "environment_name = \"BreakoutNoFrameskip-v4\"\n",
        "\n",
        "class AtariPreprocessingWithAutoFire(AtariPreprocessing):\n",
        "    def reset(self, **kwargs):\n",
        "        obs = super().reset(**kwargs)\n",
        "        super().step(1) # FIRE to start\n",
        "        return obs\n",
        "    def step(self, action):\n",
        "        lives_before_action = self.ale.lives()\n",
        "        obs, rewards, done, info = super().step(action)\n",
        "        if self.ale.lives() < lives_before_action and not done:\n",
        "            super().step(1) # FIRE to start after life lost\n",
        "        return obs, rewards, done, info\n",
        "\n",
        "env = suite_atari.load(\n",
        "    environment_name,\n",
        "    max_episode_steps=max_episode_steps,\n",
        "    gym_env_wrappers=[AtariPreprocessingWithAutoFire, FrameStack4])"
      ],
      "execution_count": 102,
      "outputs": []
    },
    {
      "cell_type": "code",
      "metadata": {
        "colab": {
          "base_uri": "https://localhost:8080/"
        },
        "id": "8lhsEi7yKQEk",
        "outputId": "d9308c12-c52a-473c-c7af-57d1e11c7f77"
      },
      "source": [
        "env"
      ],
      "execution_count": 103,
      "outputs": [
        {
          "output_type": "execute_result",
          "data": {
            "text/plain": [
              "<tf_agents.environments.atari_wrappers.AtariTimeLimit at 0x7f119c23cb10>"
            ]
          },
          "metadata": {
            "tags": []
          },
          "execution_count": 103
        }
      ]
    },
    {
      "cell_type": "markdown",
      "metadata": {
        "id": "D78wSEVFKcfc"
      },
      "source": [
        "-- Juguemos unos cuantos pasos:"
      ]
    },
    {
      "cell_type": "code",
      "metadata": {
        "id": "IVUlJq3YKVp-"
      },
      "source": [
        "env.seed(42)\n",
        "env.reset()\n",
        "for _ in range(4):\n",
        "    time_step = env.step(3) # LEFT"
      ],
      "execution_count": 104,
      "outputs": []
    },
    {
      "cell_type": "code",
      "metadata": {
        "id": "eYOgDkuLKiYj"
      },
      "source": [
        "def plot_observation(obs):\n",
        "    # Since there are only 3 color channels, you cannot display 4 frames\n",
        "    # with one primary color per frame. So this code computes the delta between\n",
        "    # the current frame and the mean of the other frames, and it adds this delta\n",
        "    # to the red and blue channels to get a pink color for the current frame.\n",
        "    obs = obs.astype(np.float32)\n",
        "    img = obs[..., :3]\n",
        "    current_frame_delta = np.maximum(obs[..., 3] - obs[..., :3].mean(axis=-1), 0.)\n",
        "    img[..., 0] += current_frame_delta\n",
        "    img[..., 2] += current_frame_delta\n",
        "    img = np.clip(img / 150, 0, 1)\n",
        "    plt.imshow(img)\n",
        "    plt.axis(\"off\")"
      ],
      "execution_count": 105,
      "outputs": []
    },
    {
      "cell_type": "code",
      "metadata": {
        "colab": {
          "base_uri": "https://localhost:8080/",
          "height": 459
        },
        "id": "-bLQqZ6jLIrr",
        "outputId": "48ed5faf-cd54-4bae-aeb3-88d4fda77973"
      },
      "source": [
        "plt.figure(figsize=(6, 6))\n",
        "plot_observation(time_step.observation)\n",
        "save_fig(\"preprocessed_breakout_plot\")\n",
        "plt.show()"
      ],
      "execution_count": 106,
      "outputs": [
        {
          "output_type": "stream",
          "text": [
            "Saving figure preprocessed_breakout_plot\n"
          ],
          "name": "stdout"
        },
        {
          "output_type": "display_data",
          "data": {
            "image/png": "[encoded data removed]",
            "text/plain": [
              "<Figure size 432x432 with 1 Axes>"
            ]
          },
          "metadata": {
            "tags": [],
            "needs_background": "light"
          }
        }
      ]
    },
    {
      "cell_type": "markdown",
      "metadata": {
        "id": "N_lj6f8VLSmk"
      },
      "source": [
        "-- Ahora construiremos el Python environment a TF environment:"
      ]
    },
    {
      "cell_type": "code",
      "metadata": {
        "id": "84gR0SlhLLl_"
      },
      "source": [
        "from tf_agents.environments.tf_py_environment import TFPyEnvironment\n",
        "\n",
        "tf_env = TFPyEnvironment(env)"
      ],
      "execution_count": 107,
      "outputs": []
    },
    {
      "cell_type": "markdown",
      "metadata": {
        "id": "6QPCuXEGLc9W"
      },
      "source": [
        "-- Lo anterior permitirá que el escenario sea compatible con un grafo computacional de TensorFlow.\n",
        "\n",
        "-- Ya se tiene un escenario de Breakout, con el preprocesamiento requerido y que sea compatible con TensorFlow.\n",
        "\n",
        "-- Podemos entrenar una DQN y otros componentes.\n",
        "\n"
      ]
    },
    {
      "cell_type": "markdown",
      "metadata": {
        "id": "eZW-QmJXGmVc"
      },
      "source": [
        "# Arquitectura de entrenamiento\n",
        "\n",
        "-- En tf-Agents, el proceso de entrenamiento se divide generalmente en dos partes que se ejecutan en paralelo: *Collection* y *Training*.\n",
        "\n",
        "- **Driver**: explora el escenario con una policy que determina las acciones, y además recoge trayectorias (experiencias) que son enviadas al observer.\n",
        "\n",
        "- **Observer**: el observador las guarda y envia al replay buffer. Pretende hacer la arquitectura más flexible, ej., no utilizar un replay buffer.\n",
        "\n",
        "- **Agent**: el agente toma lotes (batches) de trayectorias del replay buffer y entrena algunas redes neuronales que son usadas por el collect policy.\n",
        "\n",
        "- **Trajectory**: es una representación de una transición de un paso al siguiente, o una secuencias de transiciones consecutivas de un paso $n$ a un paso $n+t$.\n",
        "\n",
        "-- En resumen los elementos del lado izquierdo de la figura exploran el escenario y recogen experiencias, mientras que el lado derecho aprende y actualiza las policy.\n",
        "\n",
        "-- Se construyen múltiples escenarios para explorar múltiples copias del escenario en paralelo (aprovechar CPU workers).\n",
        "\n",
        "![tfarquitecture.png](data:image/png;base64,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)"
      ]
    },
    {
      "cell_type": "markdown",
      "metadata": {
        "id": "HYJElmIVQh9X"
      },
      "source": [
        "## Crear una DQN\n",
        "\n",
        "-- La DQN tomará una observación como entrada y estimará el Q-Value por acción.\n",
        "\n",
        "-- Se crea una clase que normaliza las observacioens. \n",
        "\n",
        "-- **Nota**: algunos modelos pueden incluir más de una entrada, ej.: algún sensor más imágenes.\n",
        "\n",
        "-- [Documentación QNetwork](https://www.tensorflow.org/agents/api_docs/python/tf_agents/networks/q_network/QNetwork)"
      ]
    },
    {
      "cell_type": "code",
      "metadata": {
        "id": "9dO_uH3CRa37"
      },
      "source": [
        "from tf_agents.networks.q_network import QNetwork\n",
        "\n",
        "preprocessing_layer = keras.layers.Lambda(\n",
        "                          lambda obs: tf.cast(obs, np.float32) / 255.) #se normalizan imágenes de 0 a 1 en flotante\n",
        "conv_layer_params=[(32, (8, 8), 4), (64, (4, 4), 2), (64, (3, 3), 1)] #ej: 32 filtros, de 8 x 8  con stride 4\n",
        "fc_layer_params=[512] # capa densa con 512 units seguida de otra densa con 4 unidades: una por cada Q-value (por acción)\n",
        "# Por defecto se usan activaciones ReLU (ver argumento activation_fn), exceptuando la última capa\n",
        "\n",
        "q_net = QNetwork(\n",
        "    tf_env.observation_spec(),\n",
        "    tf_env.action_spec(),\n",
        "    preprocessing_layers=preprocessing_layer,\n",
        "    conv_layer_params=conv_layer_params,\n",
        "    fc_layer_params=fc_layer_params) #"
      ],
      "execution_count": 108,
      "outputs": []
    },
    {
      "cell_type": "markdown",
      "metadata": {
        "id": "PCl2orHMZIjM"
      },
      "source": [
        "## Crear el agente DQN:\n",
        "\n",
        "-- Se crea una variable que cuenta el número de pasos de entrenamiento\n",
        "\n",
        "-- Se inlcuye un optimizador.\n",
        "\n",
        "-- Se plantea un `PolynomialDecay` para calcular el valor de $\\epsilon$ ($\\epsilon$ greedy collect policy) con base en el paso actual de entrenamiento. Se fija el rango de variacíon en [1.0, 0.01] para 250.000 pasos.\n",
        "\n",
        "-- Luego se crea el `DQNAgent` que recibe el TimeStep y action specs, la red QNetwork a entrenar, el optimizador, el número de pasos de entrenamiento, la función de costo, el factor de descuento, la variable `train_step` y la función que retorna el $\\epsilon$."
      ]
    },
    {
      "cell_type": "code",
      "metadata": {
        "id": "u3xD4AxDLaDQ",
        "colab": {
          "base_uri": "https://localhost:8080/"
        },
        "outputId": "2c6dc1d4-cc33-445c-b045-a0e67b5e07dd"
      },
      "source": [
        "from tf_agents.agents.dqn.dqn_agent import DqnAgent\n",
        "\n",
        "train_step = tf.Variable(0)\n",
        "update_period = 4 # se entrena el agente cada 4 pasos\n",
        "optimizer = keras.optimizers.RMSprop(lr=2.5e-4, rho=0.95, momentum=0.0,\n",
        "                                     epsilon=0.00001, centered=True) #hyperparámetros segun paper DeepMind DQN 2015\n",
        "epsilon_fn = keras.optimizers.schedules.PolynomialDecay(\n",
        "    initial_learning_rate=1.0, # initial ε\n",
        "    decay_steps=250000 // update_period, # <=> 1,000,000 ALE frames\n",
        "    end_learning_rate=0.01) # final ε\n",
        "agent = DqnAgent(tf_env.time_step_spec(),\n",
        "                 tf_env.action_spec(),\n",
        "                 q_network=q_net, #Qnet definada en celdas anteriores\n",
        "                 optimizer=optimizer,\n",
        "                 target_update_period=2000, # <=> 32,000 ALE frames\n",
        "                 td_errors_loss_fn=keras.losses.Huber(reduction=\"none\"), #error calculado por instancia, no el promedio\n",
        "                 gamma=0.99, # discount factor\n",
        "                 train_step_counter=train_step,\n",
        "                 epsilon_greedy=lambda: epsilon_fn(train_step))\n",
        "agent.initialize()"
      ],
      "execution_count": 109,
      "outputs": [
        {
          "output_type": "stream",
          "text": [
            "/usr/local/lib/python3.7/dist-packages/tensorflow/python/keras/optimizer_v2/optimizer_v2.py:375: UserWarning: The `lr` argument is deprecated, use `learning_rate` instead.\n",
            "  \"The `lr` argument is deprecated, use `learning_rate` instead.\")\n"
          ],
          "name": "stderr"
        }
      ]
    },
    {
      "cell_type": "markdown",
      "metadata": {
        "id": "hNamdb4EbXQY"
      },
      "source": [
        "## Construyendo el replay buffer y el observador\n",
        "\n",
        "-- `tf_agents.replay_buffers` provee varias implementaciones de replay buffer.\n",
        "\n",
        "-- `TFUniformReplayBuffer` provee un muestreo uniforme del replay buffer.\n",
        "\n",
        "-- Se creará un replay buffer (tener cuidado con la RAM disponible)\n",
        "\n"
      ]
    },
    {
      "cell_type": "code",
      "metadata": {
        "id": "a9PBb6nwbTYn"
      },
      "source": [
        "from tf_agents.replay_buffers import tf_uniform_replay_buffer\n",
        "\n",
        "replay_buffer = tf_uniform_replay_buffer.TFUniformReplayBuffer(\n",
        "    data_spec=agent.collect_data_spec, #formato de los datos desde el agente DQN \n",
        "    batch_size=tf_env.batch_size, #experiencias para cada paso, en este caso el driver ejecutara una acción por paso\n",
        "    max_length=50000) # reducir si genera error de memoría - valor originial 100.000\n",
        "\n",
        "replay_buffer_observer = replay_buffer.add_batch"
      ],
      "execution_count": 110,
      "outputs": []
    },
    {
      "cell_type": "markdown",
      "metadata": {
        "id": "LUKXTZNjGIOr"
      },
      "source": [
        "-- Se creará un observador que enviará las trayectorias (experiencias) al replay buffer.\n",
        "\n",
        "-- El observador también contará y mostrará el número de veces que es ejecutado (excepto cuando pasa la trayectoria que representa el salto entre dos episodios)"
      ]
    },
    {
      "cell_type": "code",
      "metadata": {
        "id": "yIe0UhSjGIOr"
      },
      "source": [
        "class ShowProgress:\n",
        "    def __init__(self, total):\n",
        "        self.counter = 0 #inicializar contador\n",
        "        self.total = total \n",
        "    def __call__(self, trajectory):\n",
        "        if not trajectory.is_boundary():\n",
        "            self.counter += 1 #incrementar contador\n",
        "        if self.counter % 100 == 0: #mostrar en pantalla\n",
        "            print(\"\\r{}/{}\".format(self.counter, self.total), end=\"\")"
      ],
      "execution_count": 111,
      "outputs": []
    },
    {
      "cell_type": "markdown",
      "metadata": {
        "id": "FzqTHVJMGIOr"
      },
      "source": [
        "## Métricas para el entrenamiento\n",
        "\n",
        "En este caso se consideran:\n",
        "\n",
        "-- El conteo de episodios\n",
        "-- El número de pasos\n",
        "-- **El retorno promedio por episodio**\n",
        "-- **La longitud promedio por episodio**"
      ]
    },
    {
      "cell_type": "code",
      "metadata": {
        "id": "mxvLx9hcGIOr"
      },
      "source": [
        "from tf_agents.metrics import tf_metrics\n",
        "\n",
        "train_metrics = [\n",
        "    tf_metrics.NumberOfEpisodes(),\n",
        "    tf_metrics.EnvironmentSteps(),\n",
        "    tf_metrics.AverageReturnMetric(), #promedio de rewards no descontados por episodio\n",
        "    tf_metrics.AverageEpisodeLengthMetric(),\n",
        "]"
      ],
      "execution_count": 112,
      "outputs": []
    },
    {
      "cell_type": "code",
      "metadata": {
        "id": "ehrIva6cGIOr",
        "colab": {
          "base_uri": "https://localhost:8080/"
        },
        "outputId": "524cac36-bdd5-4fd9-ec8f-10b177edb906"
      },
      "source": [
        "train_metrics[0].result() #obtener el valor de la métrica respectiva"
      ],
      "execution_count": 113,
      "outputs": [
        {
          "output_type": "execute_result",
          "data": {
            "text/plain": [
              "<tf.Tensor: shape=(), dtype=int64, numpy=0>"
            ]
          },
          "metadata": {
            "tags": []
          },
          "execution_count": 113
        }
      ]
    },
    {
      "cell_type": "code",
      "metadata": {
        "id": "LR1XC3jtGIOr",
        "colab": {
          "base_uri": "https://localhost:8080/"
        },
        "outputId": "294870d3-2302-48bf-9029-20b7e46d1b3f"
      },
      "source": [
        "from tf_agents.eval.metric_utils import log_metrics\n",
        "import logging\n",
        "logging.getLogger().setLevel(logging.INFO)\n",
        "log_metrics(train_metrics) #log todas las métricas"
      ],
      "execution_count": 114,
      "outputs": [
        {
          "output_type": "stream",
          "text": [
            "INFO:absl: \n",
            "\t\t NumberOfEpisodes = 0\n",
            "\t\t EnvironmentSteps = 0\n",
            "\t\t AverageReturn = 0.0\n",
            "\t\t AverageEpisodeLength = 0.0\n"
          ],
          "name": "stderr"
        }
      ]
    },
    {
      "cell_type": "markdown",
      "metadata": {
        "id": "DCf_6GurGIOs"
      },
      "source": [
        "## Collect driver\n",
        "\n",
        "-- El driver explorar el escenario desde una policy dada.\n",
        "\n",
        "-- Además, guarda las experiencias y las envia a los observadores (recuerde que el observador facilita el trabajo del driver, en cuanto al guardado de trayectorias, la medición de métricas, etc.).\n",
        "\n",
        "-- El driver pasa el time step actual al collect policy, el cual escoge una acción y retorna un action step.\n",
        "\n",
        "\n",
        "-- El driver pasa la acción al escenario, el cual retorna el siguiente time step.\n",
        "\n",
        "-- Por último el driver crea un objeto trayectoria (experiencia) y lo pasa a los observadores.\n",
        "\n",
        "-- **Tipos de driver**: `DynamicStepDriver` (por pasos) vs `DynamicEpisodeDriver` (por episodios).\n",
        "\n",
        "-- En este caso se coleccionan experiencias por cuatro pasos en cada iteración de entrenamiento."
      ]
    },
    {
      "cell_type": "code",
      "metadata": {
        "id": "D1RYt1l_GIOs"
      },
      "source": [
        "from tf_agents.drivers.dynamic_step_driver import DynamicStepDriver\n",
        "\n",
        "collect_driver = DynamicStepDriver(\n",
        "    tf_env,\n",
        "    agent.collect_policy,\n",
        "    observers=[replay_buffer_observer] + train_metrics,\n",
        "    num_steps=update_period) # 4 pasos por cada iteración de entrenamiento"
      ],
      "execution_count": 115,
      "outputs": []
    },
    {
      "cell_type": "markdown",
      "metadata": {
        "id": "d_GkGFkPGIOs"
      },
      "source": [
        "-- Antes de ejecutar el driver, se sugiere inicializar el replay buffer con experiencias aleatorias (`RandomTFPolicy`)."
      ]
    },
    {
      "cell_type": "code",
      "metadata": {
        "id": "AQ_QM1Z9GIOs",
        "colab": {
          "base_uri": "https://localhost:8080/"
        },
        "outputId": "6edc92f3-3453-448d-e0ed-6031243399fc"
      },
      "source": [
        "from tf_agents.policies.random_tf_policy import RandomTFPolicy\n",
        "\n",
        "initial_collect_policy = RandomTFPolicy(tf_env.time_step_spec(),\n",
        "                                        tf_env.action_spec())\n",
        "init_driver = DynamicStepDriver( #driver para ejecutar las policy aleatorias\n",
        "    tf_env,\n",
        "    initial_collect_policy,\n",
        "    observers=[replay_buffer.add_batch, ShowProgress(20000)],\n",
        "    num_steps=20000) # <=> 80,000 ALE frames\n",
        "final_time_step, final_policy_state = init_driver.run()"
      ],
      "execution_count": 116,
      "outputs": [
        {
          "output_type": "stream",
          "text": [
            "20000/20000"
          ],
          "name": "stdout"
        }
      ]
    },
    {
      "cell_type": "markdown",
      "metadata": {
        "id": "zPqQzQ5SGIOt"
      },
      "source": [
        "-- Se muestrean dos episodios, con tres time steps:"
      ]
    },
    {
      "cell_type": "markdown",
      "metadata": {
        "id": "gU4o3gN6GIOt"
      },
      "source": [
        "**Nota**: `replay_buffer.get_next()` se desprecia. Se debe usar `replay_buffer.as_dataset(..., single_deterministic_pass=False)`."
      ]
    },
    {
      "cell_type": "code",
      "metadata": {
        "id": "A6ijEY_rGIOt",
        "colab": {
          "base_uri": "https://localhost:8080/"
        },
        "outputId": "43f681f3-f0c5-4a87-b839-f3ac7b34eb83"
      },
      "source": [
        "tf.random.set_seed(9) # chosen to show an example of trajectory at the end of an episode\n",
        "\n",
        "#trajectories, buffer_info = replay_buffer.get_next( # get_next() is deprecated\n",
        "#    sample_batch_size=2, num_steps=3)\n",
        "\n",
        "trajectories, buffer_info = next(iter(replay_buffer.as_dataset(\n",
        "    sample_batch_size=2,\n",
        "    num_steps=3,\n",
        "    single_deterministic_pass=False)))"
      ],
      "execution_count": 117,
      "outputs": [
        {
          "output_type": "stream",
          "text": [
            "WARNING:tensorflow:From /usr/local/lib/python3.7/dist-packages/tensorflow/python/autograph/impl/api.py:382: ReplayBuffer.get_next (from tf_agents.replay_buffers.replay_buffer) is deprecated and will be removed in a future version.\n",
            "Instructions for updating:\n",
            "Use `as_dataset(..., single_deterministic_pass=False) instead.\n"
          ],
          "name": "stdout"
        },
        {
          "output_type": "stream",
          "text": [
            "WARNING:tensorflow:From /usr/local/lib/python3.7/dist-packages/tensorflow/python/autograph/impl/api.py:382: ReplayBuffer.get_next (from tf_agents.replay_buffers.replay_buffer) is deprecated and will be removed in a future version.\n",
            "Instructions for updating:\n",
            "Use `as_dataset(..., single_deterministic_pass=False) instead.\n"
          ],
          "name": "stderr"
        }
      ]
    },
    {
      "cell_type": "markdown",
      "metadata": {
        "id": "-aqwQQJNRLqa"
      },
      "source": [
        "## Crear el dataset\n",
        "\n",
        "-- Para muestrear un batch de trayectorias del replay buffer, se utiliza el método `get_next()`."
      ]
    },
    {
      "cell_type": "code",
      "metadata": {
        "id": "LP4rdrhXGIOt",
        "colab": {
          "base_uri": "https://localhost:8080/"
        },
        "outputId": "ebd80387-4d02-4bc0-e226-3cf3f4227306"
      },
      "source": [
        "trajectories._fields"
      ],
      "execution_count": 118,
      "outputs": [
        {
          "output_type": "execute_result",
          "data": {
            "text/plain": [
              "('step_type',\n",
              " 'observation',\n",
              " 'action',\n",
              " 'policy_info',\n",
              " 'next_step_type',\n",
              " 'reward',\n",
              " 'discount')"
            ]
          },
          "metadata": {
            "tags": []
          },
          "execution_count": 118
        }
      ]
    },
    {
      "cell_type": "code",
      "metadata": {
        "id": "wQj5kEeAGIOt",
        "colab": {
          "base_uri": "https://localhost:8080/"
        },
        "outputId": "4d0f0a08-7a17-4d6a-daa4-659d15510fd5"
      },
      "source": [
        "trajectories.observation.shape # dos trayectorias, tres pasos, cada observación en pixels 84 x 84 x 3"
      ],
      "execution_count": 119,
      "outputs": [
        {
          "output_type": "execute_result",
          "data": {
            "text/plain": [
              "TensorShape([2, 3, 84, 84, 4])"
            ]
          },
          "metadata": {
            "tags": []
          },
          "execution_count": 119
        }
      ]
    },
    {
      "cell_type": "code",
      "metadata": {
        "id": "_9zWWdx3GIOt",
        "colab": {
          "base_uri": "https://localhost:8080/"
        },
        "outputId": "0ac98d64-5577-4be0-d461-f6a5f8d79fed"
      },
      "source": [
        "from tf_agents.trajectories.trajectory import to_transition\n",
        "\n",
        "time_steps, action_steps, next_time_steps = to_transition(trajectories)\n",
        "time_steps.observation.shape # pasos de transición intersectadas, note que pasa de 3 a 2"
      ],
      "execution_count": 120,
      "outputs": [
        {
          "output_type": "execute_result",
          "data": {
            "text/plain": [
              "TensorShape([2, 2, 84, 84, 4])"
            ]
          },
          "metadata": {
            "tags": []
          },
          "execution_count": 120
        }
      ]
    },
    {
      "cell_type": "code",
      "metadata": {
        "id": "k1yGd455GIOu",
        "colab": {
          "base_uri": "https://localhost:8080/",
          "height": 510
        },
        "outputId": "4ebc143e-5fe2-4c6e-9d1e-bebb055ce1e0"
      },
      "source": [
        "plt.figure(figsize=(10, 6.8))\n",
        "for row in range(2):\n",
        "    for col in range(3):\n",
        "        plt.subplot(2, 3, row * 3 + col + 1)\n",
        "        plot_observation(trajectories.observation[row, col].numpy())\n",
        "plt.subplots_adjust(left=0, right=1, bottom=0, top=1, hspace=0, wspace=0.02)\n",
        "save_fig(\"sub_episodes_plot\")\n",
        "plt.show()"
      ],
      "execution_count": 121,
      "outputs": [
        {
          "output_type": "stream",
          "text": [
            "Saving figure sub_episodes_plot\n"
          ],
          "name": "stdout"
        },
        {
          "output_type": "display_data",
          "data": {
            "image/png": "[encoded data removed]",
            "text/plain": [
              "<Figure size 720x489.6 with 6 Axes>"
            ]
          },
          "metadata": {
            "tags": [],
            "needs_background": "light"
          }
        }
      ]
    },
    {
      "cell_type": "markdown",
      "metadata": {
        "id": "dz-mNXgqGIOu"
      },
      "source": [
        "Se crea el dataset:"
      ]
    },
    {
      "cell_type": "code",
      "metadata": {
        "id": "kXiK_GGkGIOu"
      },
      "source": [
        "dataset = replay_buffer.as_dataset(\n",
        "    sample_batch_size=64, #lotes de 64 trayectorias\n",
        "    num_steps=2, #dos pasos por iteración de entrenamiento\n",
        "    num_parallel_calls=3).prefetch(3) #se aprovecha la API dataset de TF"
      ],
      "execution_count": 122,
      "outputs": []
    },
    {
      "cell_type": "markdown",
      "metadata": {
        "id": "LUMiSXC0GIOv"
      },
      "source": [
        "Se convierten las funciones a TF Functions para un mejor desempeño:"
      ]
    },
    {
      "cell_type": "code",
      "metadata": {
        "id": "VW_MHqTSGIOv"
      },
      "source": [
        "from tf_agents.utils.common import function\n",
        "\n",
        "collect_driver.run = function(collect_driver.run)\n",
        "agent.train = function(agent.train)"
      ],
      "execution_count": 123,
      "outputs": []
    },
    {
      "cell_type": "markdown",
      "metadata": {
        "id": "aSJUoxX3GIOv"
      },
      "source": [
        "## Loop principal de entrenamiento"
      ]
    },
    {
      "cell_type": "code",
      "metadata": {
        "id": "O3tmr7x7GIOv"
      },
      "source": [
        "def train_agent(n_iterations):\n",
        "    time_step = None\n",
        "    policy_state = agent.collect_policy.get_initial_state(tf_env.batch_size) # estado inicial collect policy\n",
        "    iterator = iter(dataset) #iterador sobre el dataset\n",
        "    for iteration in range(n_iterations): #loop entrenamiento\n",
        "        time_step, policy_state = collect_driver.run(time_step, policy_state) #se ejecuta el driver para coleccionar experencias de 4 pasos y envia trayectorias al replay buffer\n",
        "        trajectories, buffer_info = next(iterator) #se muestrea lote de experiencias para entrenar el agente\n",
        "        train_loss = agent.train(trajectories) #se calcula la perdida\n",
        "        print(\"\\r{} loss:{:.5f}\".format(\n",
        "            iteration, train_loss.loss.numpy()), end=\"\")\n",
        "        if iteration % 1000 == 0:\n",
        "            log_metrics(train_metrics)"
      ],
      "execution_count": 124,
      "outputs": []
    },
    {
      "cell_type": "markdown",
      "metadata": {
        "id": "MKDi9VIsGIOw"
      },
      "source": [
        "-- **Las siguientes celdas se pueden ejecutar tantas veces como se quiera, para que el agente siga mejorando!**.\n",
        "\n",
        "-- **El agente requiere al menos 200.000 iteraciones para que el agente se desempeñe de forma aceptable**."
      ]
    },
    {
      "cell_type": "code",
      "metadata": {
        "id": "P_5ofJkmGIOw",
        "colab": {
          "base_uri": "https://localhost:8080/"
        },
        "outputId": "817cb7b5-65c6-489a-a3bc-30755ba5db0a"
      },
      "source": [
        "train_agent(n_iterations=37500) # 50000 original"
      ],
      "execution_count": null,
      "outputs": [
        {
          "output_type": "stream",
          "text": [
            "WARNING:tensorflow:From /usr/local/lib/python3.7/dist-packages/tensorflow/python/util/dispatch.py:206: calling foldr_v2 (from tensorflow.python.ops.functional_ops) with back_prop=False is deprecated and will be removed in a future version.\n",
            "Instructions for updating:\n",
            "back_prop=False is deprecated. Consider using tf.stop_gradient instead.\n",
            "Instead of:\n",
            "results = tf.foldr(fn, elems, back_prop=False)\n",
            "Use:\n",
            "results = tf.nest.map_structure(tf.stop_gradient, tf.foldr(fn, elems))\n"
          ],
          "name": "stdout"
        },
        {
          "output_type": "stream",
          "text": [
            "WARNING:tensorflow:From /usr/local/lib/python3.7/dist-packages/tensorflow/python/util/dispatch.py:206: calling foldr_v2 (from tensorflow.python.ops.functional_ops) with back_prop=False is deprecated and will be removed in a future version.\n",
            "Instructions for updating:\n",
            "back_prop=False is deprecated. Consider using tf.stop_gradient instead.\n",
            "Instead of:\n",
            "results = tf.foldr(fn, elems, back_prop=False)\n",
            "Use:\n",
            "results = tf.nest.map_structure(tf.stop_gradient, tf.foldr(fn, elems))\n",
            "INFO:absl: \n",
            "\t\t NumberOfEpisodes = 0\n",
            "\t\t EnvironmentSteps = 4\n",
            "\t\t AverageReturn = 0.0\n",
            "\t\t AverageEpisodeLength = 0.0\n"
          ],
          "name": "stderr"
        },
        {
          "output_type": "stream",
          "text": [
            "999 loss:0.00217"
          ],
          "name": "stdout"
        },
        {
          "output_type": "stream",
          "text": [
            "INFO:absl: \n",
            "\t\t NumberOfEpisodes = 26\n",
            "\t\t EnvironmentSteps = 4004\n",
            "\t\t AverageReturn = 1.100000023841858\n",
            "\t\t AverageEpisodeLength = 161.5\n"
          ],
          "name": "stderr"
        },
        {
          "output_type": "stream",
          "text": [
            "1997 loss:0.00012"
          ],
          "name": "stdout"
        },
        {
          "output_type": "stream",
          "text": [
            "INFO:absl: \n",
            "\t\t NumberOfEpisodes = 49\n",
            "\t\t EnvironmentSteps = 8004\n",
            "\t\t AverageReturn = 1.2999999523162842\n",
            "\t\t AverageEpisodeLength = 167.6999969482422\n"
          ],
          "name": "stderr"
        },
        {
          "output_type": "stream",
          "text": [
            "2997 loss:0.00053"
          ],
          "name": "stdout"
        },
        {
          "output_type": "stream",
          "text": [
            "INFO:absl: \n",
            "\t\t NumberOfEpisodes = 75\n",
            "\t\t EnvironmentSteps = 12004\n",
            "\t\t AverageReturn = 0.699999988079071\n",
            "\t\t AverageEpisodeLength = 144.60000610351562\n"
          ],
          "name": "stderr"
        },
        {
          "output_type": "stream",
          "text": [
            "3994 loss:0.00003"
          ],
          "name": "stdout"
        },
        {
          "output_type": "stream",
          "text": [
            "INFO:absl: \n",
            "\t\t NumberOfEpisodes = 100\n",
            "\t\t EnvironmentSteps = 16004\n",
            "\t\t AverageReturn = 1.0\n",
            "\t\t AverageEpisodeLength = 160.6999969482422\n"
          ],
          "name": "stderr"
        },
        {
          "output_type": "stream",
          "text": [
            "4998 loss:0.00231"
          ],
          "name": "stdout"
        },
        {
          "output_type": "stream",
          "text": [
            "INFO:absl: \n",
            "\t\t NumberOfEpisodes = 125\n",
            "\t\t EnvironmentSteps = 20004\n",
            "\t\t AverageReturn = 1.5\n",
            "\t\t AverageEpisodeLength = 173.0\n"
          ],
          "name": "stderr"
        },
        {
          "output_type": "stream",
          "text": [
            "5996 loss:0.00004"
          ],
          "name": "stdout"
        },
        {
          "output_type": "stream",
          "text": [
            "INFO:absl: \n",
            "\t\t NumberOfEpisodes = 149\n",
            "\t\t EnvironmentSteps = 24004\n",
            "\t\t AverageReturn = 1.0\n",
            "\t\t AverageEpisodeLength = 157.3000030517578\n"
          ],
          "name": "stderr"
        },
        {
          "output_type": "stream",
          "text": [
            "6998 loss:0.00005"
          ],
          "name": "stdout"
        },
        {
          "output_type": "stream",
          "text": [
            "INFO:absl: \n",
            "\t\t NumberOfEpisodes = 177\n",
            "\t\t EnvironmentSteps = 28004\n",
            "\t\t AverageReturn = 0.800000011920929\n",
            "\t\t AverageEpisodeLength = 151.0\n"
          ],
          "name": "stderr"
        },
        {
          "output_type": "stream",
          "text": [
            "7998 loss:0.00008"
          ],
          "name": "stdout"
        },
        {
          "output_type": "stream",
          "text": [
            "INFO:absl: \n",
            "\t\t NumberOfEpisodes = 202\n",
            "\t\t EnvironmentSteps = 32004\n",
            "\t\t AverageReturn = 0.5\n",
            "\t\t AverageEpisodeLength = 135.3000030517578\n"
          ],
          "name": "stderr"
        },
        {
          "output_type": "stream",
          "text": [
            "8998 loss:0.00003"
          ],
          "name": "stdout"
        },
        {
          "output_type": "stream",
          "text": [
            "INFO:absl: \n",
            "\t\t NumberOfEpisodes = 229\n",
            "\t\t EnvironmentSteps = 36004\n",
            "\t\t AverageReturn = 1.0\n",
            "\t\t AverageEpisodeLength = 161.0\n"
          ],
          "name": "stderr"
        },
        {
          "output_type": "stream",
          "text": [
            "9996 loss:0.00005"
          ],
          "name": "stdout"
        },
        {
          "output_type": "stream",
          "text": [
            "INFO:absl: \n",
            "\t\t NumberOfEpisodes = 252\n",
            "\t\t EnvironmentSteps = 40004\n",
            "\t\t AverageReturn = 2.0999999046325684\n",
            "\t\t AverageEpisodeLength = 202.8000030517578\n"
          ],
          "name": "stderr"
        },
        {
          "output_type": "stream",
          "text": [
            "10997 loss:0.00002"
          ],
          "name": "stdout"
        },
        {
          "output_type": "stream",
          "text": [
            "INFO:absl: \n",
            "\t\t NumberOfEpisodes = 275\n",
            "\t\t EnvironmentSteps = 44004\n",
            "\t\t AverageReturn = 1.2999999523162842\n",
            "\t\t AverageEpisodeLength = 167.6999969482422\n"
          ],
          "name": "stderr"
        },
        {
          "output_type": "stream",
          "text": [
            "11995 loss:0.00006"
          ],
          "name": "stdout"
        },
        {
          "output_type": "stream",
          "text": [
            "INFO:absl: \n",
            "\t\t NumberOfEpisodes = 303\n",
            "\t\t EnvironmentSteps = 48004\n",
            "\t\t AverageReturn = 0.8999999761581421\n",
            "\t\t AverageEpisodeLength = 152.5\n"
          ],
          "name": "stderr"
        },
        {
          "output_type": "stream",
          "text": [
            "12994 loss:0.00014"
          ],
          "name": "stdout"
        },
        {
          "output_type": "stream",
          "text": [
            "INFO:absl: \n",
            "\t\t NumberOfEpisodes = 326\n",
            "\t\t EnvironmentSteps = 52004\n",
            "\t\t AverageReturn = 2.4000000953674316\n",
            "\t\t AverageEpisodeLength = 195.0\n"
          ],
          "name": "stderr"
        },
        {
          "output_type": "stream",
          "text": [
            "13998 loss:0.00015"
          ],
          "name": "stdout"
        },
        {
          "output_type": "stream",
          "text": [
            "INFO:absl: \n",
            "\t\t NumberOfEpisodes = 349\n",
            "\t\t EnvironmentSteps = 56004\n",
            "\t\t AverageReturn = 0.6000000238418579\n",
            "\t\t AverageEpisodeLength = 141.8000030517578\n"
          ],
          "name": "stderr"
        },
        {
          "output_type": "stream",
          "text": [
            "14996 loss:0.00006"
          ],
          "name": "stdout"
        },
        {
          "output_type": "stream",
          "text": [
            "INFO:absl: \n",
            "\t\t NumberOfEpisodes = 376\n",
            "\t\t EnvironmentSteps = 60004\n",
            "\t\t AverageReturn = 0.8999999761581421\n",
            "\t\t AverageEpisodeLength = 151.8000030517578\n"
          ],
          "name": "stderr"
        },
        {
          "output_type": "stream",
          "text": [
            "15998 loss:0.00009"
          ],
          "name": "stdout"
        },
        {
          "output_type": "stream",
          "text": [
            "INFO:absl: \n",
            "\t\t NumberOfEpisodes = 402\n",
            "\t\t EnvironmentSteps = 64004\n",
            "\t\t AverageReturn = 0.6000000238418579\n",
            "\t\t AverageEpisodeLength = 140.3000030517578\n"
          ],
          "name": "stderr"
        },
        {
          "output_type": "stream",
          "text": [
            "16994 loss:0.00014"
          ],
          "name": "stdout"
        },
        {
          "output_type": "stream",
          "text": [
            "INFO:absl: \n",
            "\t\t NumberOfEpisodes = 428\n",
            "\t\t EnvironmentSteps = 68004\n",
            "\t\t AverageReturn = 0.699999988079071\n",
            "\t\t AverageEpisodeLength = 140.6999969482422\n"
          ],
          "name": "stderr"
        },
        {
          "output_type": "stream",
          "text": [
            "17994 loss:0.00026"
          ],
          "name": "stdout"
        },
        {
          "output_type": "stream",
          "text": [
            "INFO:absl: \n",
            "\t\t NumberOfEpisodes = 451\n",
            "\t\t EnvironmentSteps = 72004\n",
            "\t\t AverageReturn = 0.800000011920929\n",
            "\t\t AverageEpisodeLength = 147.8000030517578\n"
          ],
          "name": "stderr"
        },
        {
          "output_type": "stream",
          "text": [
            "18997 loss:0.00010"
          ],
          "name": "stdout"
        },
        {
          "output_type": "stream",
          "text": [
            "INFO:absl: \n",
            "\t\t NumberOfEpisodes = 475\n",
            "\t\t EnvironmentSteps = 76004\n",
            "\t\t AverageReturn = 1.7999999523162842\n",
            "\t\t AverageEpisodeLength = 187.5\n"
          ],
          "name": "stderr"
        },
        {
          "output_type": "stream",
          "text": [
            "19996 loss:0.00012"
          ],
          "name": "stdout"
        },
        {
          "output_type": "stream",
          "text": [
            "INFO:absl: \n",
            "\t\t NumberOfEpisodes = 499\n",
            "\t\t EnvironmentSteps = 80004\n",
            "\t\t AverageReturn = 1.5\n",
            "\t\t AverageEpisodeLength = 171.1999969482422\n"
          ],
          "name": "stderr"
        },
        {
          "output_type": "stream",
          "text": [
            "20996 loss:0.00024"
          ],
          "name": "stdout"
        },
        {
          "output_type": "stream",
          "text": [
            "INFO:absl: \n",
            "\t\t NumberOfEpisodes = 523\n",
            "\t\t EnvironmentSteps = 84004\n",
            "\t\t AverageReturn = 1.600000023841858\n",
            "\t\t AverageEpisodeLength = 174.39999389648438\n"
          ],
          "name": "stderr"
        },
        {
          "output_type": "stream",
          "text": [
            "21996 loss:0.00012"
          ],
          "name": "stdout"
        },
        {
          "output_type": "stream",
          "text": [
            "INFO:absl: \n",
            "\t\t NumberOfEpisodes = 547\n",
            "\t\t EnvironmentSteps = 88004\n",
            "\t\t AverageReturn = 1.2000000476837158\n",
            "\t\t AverageEpisodeLength = 164.5\n"
          ],
          "name": "stderr"
        },
        {
          "output_type": "stream",
          "text": [
            "22998 loss:0.00052"
          ],
          "name": "stdout"
        },
        {
          "output_type": "stream",
          "text": [
            "INFO:absl: \n",
            "\t\t NumberOfEpisodes = 567\n",
            "\t\t EnvironmentSteps = 92004\n",
            "\t\t AverageReturn = 1.7999999523162842\n",
            "\t\t AverageEpisodeLength = 191.0\n"
          ],
          "name": "stderr"
        },
        {
          "output_type": "stream",
          "text": [
            "23998 loss:0.00011"
          ],
          "name": "stdout"
        },
        {
          "output_type": "stream",
          "text": [
            "INFO:absl: \n",
            "\t\t NumberOfEpisodes = 590\n",
            "\t\t EnvironmentSteps = 96004\n",
            "\t\t AverageReturn = 1.2000000476837158\n",
            "\t\t AverageEpisodeLength = 158.8000030517578\n"
          ],
          "name": "stderr"
        },
        {
          "output_type": "stream",
          "text": [
            "24997 loss:0.00422"
          ],
          "name": "stdout"
        },
        {
          "output_type": "stream",
          "text": [
            "INFO:absl: \n",
            "\t\t NumberOfEpisodes = 613\n",
            "\t\t EnvironmentSteps = 100004\n",
            "\t\t AverageReturn = 1.0\n",
            "\t\t AverageEpisodeLength = 158.6999969482422\n"
          ],
          "name": "stderr"
        },
        {
          "output_type": "stream",
          "text": [
            "25997 loss:0.00017"
          ],
          "name": "stdout"
        },
        {
          "output_type": "stream",
          "text": [
            "INFO:absl: \n",
            "\t\t NumberOfEpisodes = 636\n",
            "\t\t EnvironmentSteps = 104004\n",
            "\t\t AverageReturn = 1.5\n",
            "\t\t AverageEpisodeLength = 170.89999389648438\n"
          ],
          "name": "stderr"
        },
        {
          "output_type": "stream",
          "text": [
            "26999 loss:0.00045"
          ],
          "name": "stdout"
        },
        {
          "output_type": "stream",
          "text": [
            "INFO:absl: \n",
            "\t\t NumberOfEpisodes = 661\n",
            "\t\t EnvironmentSteps = 108004\n",
            "\t\t AverageReturn = 1.5\n",
            "\t\t AverageEpisodeLength = 178.60000610351562\n"
          ],
          "name": "stderr"
        },
        {
          "output_type": "stream",
          "text": [
            "27995 loss:0.00037"
          ],
          "name": "stdout"
        },
        {
          "output_type": "stream",
          "text": [
            "INFO:absl: \n",
            "\t\t NumberOfEpisodes = 684\n",
            "\t\t EnvironmentSteps = 112004\n",
            "\t\t AverageReturn = 1.2000000476837158\n",
            "\t\t AverageEpisodeLength = 164.5\n"
          ],
          "name": "stderr"
        },
        {
          "output_type": "stream",
          "text": [
            "28996 loss:0.00038"
          ],
          "name": "stdout"
        },
        {
          "output_type": "stream",
          "text": [
            "INFO:absl: \n",
            "\t\t NumberOfEpisodes = 709\n",
            "\t\t EnvironmentSteps = 116004\n",
            "\t\t AverageReturn = 1.0\n",
            "\t\t AverageEpisodeLength = 155.3000030517578\n"
          ],
          "name": "stderr"
        },
        {
          "output_type": "stream",
          "text": [
            "29998 loss:0.00018"
          ],
          "name": "stdout"
        },
        {
          "output_type": "stream",
          "text": [
            "INFO:absl: \n",
            "\t\t NumberOfEpisodes = 734\n",
            "\t\t EnvironmentSteps = 120004\n",
            "\t\t AverageReturn = 1.0\n",
            "\t\t AverageEpisodeLength = 155.3000030517578\n"
          ],
          "name": "stderr"
        },
        {
          "output_type": "stream",
          "text": [
            "30997 loss:0.00025"
          ],
          "name": "stdout"
        },
        {
          "output_type": "stream",
          "text": [
            "INFO:absl: \n",
            "\t\t NumberOfEpisodes = 758\n",
            "\t\t EnvironmentSteps = 124004\n",
            "\t\t AverageReturn = 1.0\n",
            "\t\t AverageEpisodeLength = 151.39999389648438\n"
          ],
          "name": "stderr"
        },
        {
          "output_type": "stream",
          "text": [
            "31995 loss:0.00086"
          ],
          "name": "stdout"
        },
        {
          "output_type": "stream",
          "text": [
            "INFO:absl: \n",
            "\t\t NumberOfEpisodes = 783\n",
            "\t\t EnvironmentSteps = 128004\n",
            "\t\t AverageReturn = 1.600000023841858\n",
            "\t\t AverageEpisodeLength = 177.60000610351562\n"
          ],
          "name": "stderr"
        },
        {
          "output_type": "stream",
          "text": [
            "32998 loss:0.00247"
          ],
          "name": "stdout"
        },
        {
          "output_type": "stream",
          "text": [
            "INFO:absl: \n",
            "\t\t NumberOfEpisodes = 802\n",
            "\t\t EnvironmentSteps = 132004\n",
            "\t\t AverageReturn = 2.5999999046325684\n",
            "\t\t AverageEpisodeLength = 202.39999389648438\n"
          ],
          "name": "stderr"
        },
        {
          "output_type": "stream",
          "text": [
            "33295 loss:0.00179"
          ],
          "name": "stdout"
        }
      ]
    },
    {
      "cell_type": "code",
      "metadata": {
        "id": "G92DSSqZcya-"
      },
      "source": [
        "def update_scene(num, frames, patch):\n",
        "    patch.set_data(frames[num])\n",
        "    return patch,\n",
        "\n",
        "def plot_animation(frames, repeat=False, interval=40):\n",
        "    fig = plt.figure()\n",
        "    patch = plt.imshow(frames[0])\n",
        "    plt.axis('off')\n",
        "    anim = animation.FuncAnimation(\n",
        "        fig, update_scene, fargs=(frames, patch),\n",
        "        frames=len(frames), repeat=repeat, interval=interval)\n",
        "    plt.close()\n",
        "    return anim"
      ],
      "execution_count": null,
      "outputs": []
    },
    {
      "cell_type": "code",
      "metadata": {
        "id": "uZv5G2DKGIOw"
      },
      "source": [
        "frames = []\n",
        "def save_frames(trajectory):\n",
        "    global frames\n",
        "    frames.append(tf_env.pyenv.envs[0].render(mode=\"rgb_array\"))\n",
        "\n",
        "watch_driver = DynamicStepDriver(\n",
        "    tf_env,\n",
        "    agent.policy,\n",
        "    observers=[save_frames, ShowProgress(1000)],\n",
        "    num_steps=1000)\n",
        "final_time_step, final_policy_state = watch_driver.run()\n",
        "\n",
        "plot_animation(frames)"
      ],
      "execution_count": null,
      "outputs": []
    },
    {
      "cell_type": "markdown",
      "metadata": {
        "id": "qw_J28u-GIOw"
      },
      "source": [
        "-- **También se puede crear un GIF**:"
      ]
    },
    {
      "cell_type": "code",
      "metadata": {
        "id": "6LpAJSjrGIOw"
      },
      "source": [
        "import PIL\n",
        "\n",
        "image_path = os.path.join(\"images\", \"rl\", \"breakout.gif\")\n",
        "frame_images = [PIL.Image.fromarray(frame) for frame in frames[:150]]\n",
        "frame_images[0].save(image_path, format='GIF',\n",
        "                     append_images=frame_images[1:],\n",
        "                     save_all=True,\n",
        "                     duration=30,\n",
        "                     loop=0)"
      ],
      "execution_count": null,
      "outputs": []
    },
    {
      "cell_type": "code",
      "metadata": {
        "id": "Bw2w1nG8dS6k"
      },
      "source": [
        "from ipywidgets import Image\n",
        "from IPython import display\n",
        "animatedGif = \"images/rl/breakout.gif\" #path relative to your notebook\n",
        "file = open(animatedGif , \"rb\")\n",
        "image = file.read()\n",
        "progress= Image(\n",
        "    value=image,\n",
        "    format='gif',\n",
        "    width=100,\n",
        "    height=100)\n",
        "display.display(progress)"
      ],
      "execution_count": null,
      "outputs": []
    },
    {
      "cell_type": "markdown",
      "metadata": {
        "id": "iKSnWsNUpUyY"
      },
      "source": [
        "## Algunos tutoriales útiles: [Checkpointer y Policy Saver](https://www.tensorflow.org/agents/tutorials/10_checkpointer_policysaver_tutorial)"
      ]
    },
    {
      "cell_type": "markdown",
      "metadata": {
        "id": "Uy6j5Mg9eyUG"
      },
      "source": [
        "# Tarea\n",
        "\n",
        "-- Estudiar el paper [homl.info/dqn2](homl.info/dqn2]); discuta y compare los conceptos vistos en el curso con los presentados en el paper.\n",
        "\n",
        "-- Complete el entrenamiento de Breakout con más intereciones y presente un agente competitivo XD\n",
        "\n",
        "-- Con base a los resultados reportados en el paper anterior, escoja un juego diferente a Breakout y realice el mismo proceso de entrenamiento. Presente y discuta los resultados.\n",
        "\n",
        "-- Consulte como configurar un Custom TF-Agents Environment y presente un ejemplo de código ilustrativo. ([Ayuda útil](https://colab.research.google.com/github/jeffheaton/t81_558_deep_learning/blob/master/t81_558_class_12_04_atari.ipynb#scrollTo=pYEz-S9gEv2-))"
      ]
    },
    {
      "cell_type": "code",
      "metadata": {
        "id": "nGpwx60Bdy7P"
      },
      "source": [
        ""
      ],
      "execution_count": null,
      "outputs": []
    }
  ]
}