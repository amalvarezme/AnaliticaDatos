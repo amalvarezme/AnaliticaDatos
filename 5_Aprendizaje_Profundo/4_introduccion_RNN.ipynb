{
  "nbformat": 4,
  "nbformat_minor": 0,
  "metadata": {
    "colab": {
      "name": "Introduction Recurrent Neural Networks.ipynb",
      "provenance": [],
      "collapsed_sections": [],
      "include_colab_link": true
    },
    "kernelspec": {
      "display_name": "Python 3",
      "language": "python",
      "name": "python3"
    },
    "language_info": {
      "codemirror_mode": {
        "name": "ipython",
        "version": 3
      },
      "file_extension": ".py",
      "mimetype": "text/x-python",
      "name": "python",
      "nbconvert_exporter": "python",
      "pygments_lexer": "ipython3",
      "version": "3.6.9"
    },
    "nav_menu": {},
    "toc": {
      "navigate_menu": true,
      "number_sections": true,
      "sideBar": true,
      "threshold": 6,
      "toc_cell": false,
      "toc_section_display": "block",
      "toc_window_display": false
    },
    "accelerator": "GPU"
  },
  "cells": [
    {
      "cell_type": "markdown",
      "metadata": {
        "id": "view-in-github",
        "colab_type": "text"
      },
      "source": [
        "<a href=\"https://colab.research.google.com/github/amalvarezme/AnaliticaDatos/blob/master/5_Aprendizaje_Profundo/4_introduccion_RNN.ipynb\" target=\"_parent\"><img src=\"https://colab.research.google.com/assets/colab-badge.svg\" alt=\"Open In Colab\"/></a>"
      ]
    },
    {
      "cell_type": "markdown",
      "metadata": {
        "id": "XrjQ1N9OqWXj"
      },
      "source": [
        "# Procesamiento de secuencias con redes neuronales recurrentes\n",
        "\n",
        "- En general, muchos problemas en ciencia de datos, requieren del procesado de datos sencuenciales, generalmente asociados al tiempo (series de tiempo).\n",
        "\n",
        "- En ese sentido, sea la serie de datos $\\{x_t\\in\\mathbb{R}\\}_{t=1}^T$.\n",
        "\n",
        "- Suponga que se define el modelo predictivo probabilístico de la forma:\n",
        "\n",
        "$$x_t \\sim P(x_t|x_{t-1},\\dots,x_1)$$\n",
        "\n",
        "- En general, el estudio de datos secuenciales se puede atacar desde dos aproximaciones básicas: i) modelos autorregresivos , y ii) modelos autorregresivos de variable latente."
      ]
    },
    {
      "cell_type": "markdown",
      "metadata": {
        "id": "Hl8N9CGvn7ax"
      },
      "source": [
        "# Modelos autorregresivos\n",
        "\n",
        "- Dichos modelos fijan una dependencia temporal de orden $\\tau$.\n",
        "\n",
        "- Por ende, el número de puntos requeridos para realizar predicciones para $t > \\tau$ se mantiene fijo, dado que se asume:\n",
        "\n",
        "$$x_t \\sim P(x_t|x_{t-1},\\dots,x_{t-\\tau})$$"
      ]
    },
    {
      "cell_type": "markdown",
      "metadata": {
        "id": "meQAc_jvoghL"
      },
      "source": [
        "# Modelos autorregresivos de variable latente\n",
        "\n",
        "- Buscan preservar alguna representación latente (memoría) $h_t$ de las observaciones pasadas, y busca actualizar (predecir) la secuencia $x_t$ y la variable latente $h_t$, de la forma: \n",
        "\n",
        "$$\\hat{x}_t = P(x_t|h_t)$$\n",
        "\n",
        "$$h_t = g(h_{t-1},x_{t-1})$$\n",
        "\n",
        "![autorregresivo](https://github.com/amalvarezme/AnaliticaDatos/blob/master/5_Aprendizaje_Profundo/autorregresivo.png?raw=1)\n",
        "\n",
        "**Nota**: $h_t$ no es observable (latente), por ende debe estimarse desde los datos.\n",
        "\n",
        "- En estadística, el concepto de dinámica que no cambia (patrón regular) se conoce como estacionario. En este sentido, podemos tener un estimado de la secuencia completa utilizando un modelo probabilístico de la forma:\n",
        "\n",
        "$$P(x_1,x_2,\\dots,x_T) = \\prod^T_{t=1}P(x_t|x_{t-1},\\dots,x_1)$$\n",
        "donde el estimado de la probabilidad condicional se puede realizar mediante regresores o clasficadores para eventos continuos o discretos, respectivamente.\n",
        "\n"
      ]
    },
    {
      "cell_type": "markdown",
      "metadata": {
        "id": "ncAdMMRxVEOr"
      },
      "source": [
        "# Modelos Markovianos\n",
        "\n",
        "- En los modelos autorregresivos la estimación de $x_t$ se basa en una ventana de tamaño $\\tau$, de la forma $x_{t-1},\\dots,x_{t-\\tau}$.\n",
        "\n",
        "- Para cuando dicha aproximación es correcta, se dice que la secuencia de datos cumple con la condición Markoviana.\n",
        "\n",
        "- Para $\\tau=1$, se tiene un modelo de Markov de primer orden:\n",
        "\n",
        "$$P(x_1,x_2,\\dots,x_T)=\\prod_{t=1}^T P(x_t|x_{t-1})$$\n",
        "con $P(x_1|x_0)=P(x_1).$\n",
        "\n",
        "\n",
        "\n"
      ]
    },
    {
      "cell_type": "markdown",
      "metadata": {
        "id": "K6mLxFBCvb8J"
      },
      "source": [
        "# Ejercicio 1:\n",
        "\n",
        "- Consultar el modelo y principio de optimización de los modelos de media móvil ([Moving average - MA](https://en.wikipedia.org/wiki/Moving-average_model)), autorregresivos de media móvil ([Autorregresive moving average - ARMA](https://en.wikipedia.org/wiki/Autoregressive%E2%80%93moving-average_model)) y autorregresivo integrado de media móvil ([Autoregressive integrated moving average](https://en.wikipedia.org/wiki/Autoregressive_integrated_moving_average)). Cuáles son sus relaciones con los modelos Markovianos?."
      ]
    },
    {
      "cell_type": "markdown",
      "metadata": {
        "id": "qlfoigmDwrMy"
      },
      "source": [
        "# Redes neuronales recurrentes - Recurrent neural networks (RNN)\n",
        "\n",
        "- Hasta el momento hemos trabajado con datos estructurados tipo tabla, en donde las muestras se asumen independientes e identicamente distribuidas (i.i.d.).\n",
        "\n",
        "- Sin embargo, para datos secuenciales, la suposición i.i.d no es apropiada, y se requiren de arquitecturas que codifiquen dicha secuencialidad.\n",
        "\n",
        "- Por ejemplo, en el caso de datos tipo imagen, la relación espacial debe ser codificada apropiadamente, como en el caso de las arquitecturas convolucionales ([Convolutional Neural Networks](https://github.com/amalvarezme/AnaliticaDatos/blob/master/5_Aprendizaje_Profundo/3_RedesConvolucionales.pdf).\n",
        "\n",
        "- En este sentido, las RNN pretenden explotar la codificación mediante variables latentes, para aproximar el modelado de la incertidumbre de la secuencia como:\n",
        "\n",
        "\n",
        "$$P(x_t|x_{t-1},\\dots,x_1)\\approx P(x_t|h_{t-1})$$\n",
        "\n",
        "donde el estado oculto $h_{t-1}$ (hidden state) codifica la información relevante de la secuencia hasta $t-1$.\n",
        "\n",
        "- Además, el estado oculto en $t$ se puede calcular a partir de $x_t$ y $h_{t-1},$ como:\n",
        "\n",
        "$$h_t=f(x_t,h_{t-1})$$\n",
        "\n",
        "**Nota**: se podría utilizar como $h_t$ todo el vector de datos $x_t,x_{t-1},\\dots,x_1$; no obstante, el costo computacional y de memoría sería muy alto.\n",
        "\n",
        "## Las RNN son redes neuronales con estados ocultos!"
      ]
    },
    {
      "cell_type": "markdown",
      "metadata": {
        "id": "IiYuhtO30RDK"
      },
      "source": [
        "- Considere una matriz (mini-lote) de $P$ características desde datos secuenciales $\\mathbf{X}_t\\in\\mathbb{R}^{N\\times P}$, es decir, tenemos $N$ trayectorias con $P$ mediciones de una secuencia en el instante $t$. \n",
        "\n",
        "- Sea $\\mathbf{H}_t\\in\\mathbb{R}^{N \\times h}$ la variable oculta (latente) para el instante $t$, la estimación de dicha variable respecto a la entrada actual y a la variable oculta en $t-1$ se puede modelar mediante RNN como:\n",
        "\n",
        "$$\\mathbf{H}_t = \\phi(\\mathbf{X}_t \\mathbf{W}+\\mathbf{H}_{t-1}\\mathbf{S} + \\mathbf{b}),$$\n",
        "\n",
        "donde $\\mathbf{W}\\in\\mathbb{R}^{P \\times h},$ $\\mathbf{S}\\in\\mathbb{R}^{h \\times h},$ $\\mathbf{b}\\in\\mathbb{R}^{h}$ y $\\phi(\\cdot)$ es una función de activación no lineal.\n",
        "\n",
        "- Si se desea calcular la salida $\\mathbf{O}_t\\in\\mathbb{R}^{N\\times Q}$, se puede utilizar la información del estado oculto de la forma:\n",
        "\n",
        "$$\\mathbf{O}_t = \\mathbf{H}_t\\mathbf{A}+\\mathbf{c},$$\n",
        "donde $\\mathbf{A}\\in\\mathbb{R}^{h\\times Q}$, $\\mathbf{c}\\in\\mathbb{R}^{Q}.$\n",
        "\n",
        "**Esquema de una RNN con un estado oculto:**\n",
        "\n",
        "![rnn](https://github.com/amalvarezme/AnaliticaDatos/blob/master/5_Aprendizaje_Profundo/rnn.png?raw=1)\n",
        "\n"
      ]
    },
    {
      "cell_type": "markdown",
      "metadata": {
        "id": "_HcpR_9M5pRo"
      },
      "source": [
        "- A continuación se presenta algunos ejemplos sobre Tensorflow para RNN."
      ]
    },
    {
      "cell_type": "code",
      "metadata": {
        "id": "ZyUPdbxUqWXk"
      },
      "source": [
        "import sys\n",
        "import sklearn\n",
        "import tensorflow as tf\n",
        "from tensorflow import keras\n",
        "import numpy as np\n",
        "import os\n",
        "#-------------------------------------------------------------------------------\n",
        "np.random.seed(42)\n",
        "tf.random.set_seed(42)\n",
        "#-------------------------------------------------------------------------------\n",
        "#\n",
        "%matplotlib inline\n",
        "import matplotlib as mpl\n",
        "import matplotlib.pyplot as plt\n",
        "mpl.rc('axes', labelsize=14)\n",
        "mpl.rc('xtick', labelsize=12)\n",
        "mpl.rc('ytick', labelsize=12)\n",
        "#-------------------------------------------------------------------------------"
      ],
      "execution_count": 1,
      "outputs": []
    },
    {
      "cell_type": "markdown",
      "metadata": {
        "id": "-QkFQVSCqWXo"
      },
      "source": [
        "Generamos el conjunto de series de tiempo a analizar"
      ]
    },
    {
      "cell_type": "code",
      "metadata": {
        "id": "sYeYPYMLqWXp"
      },
      "source": [
        "#-------------------------------------------------------------------------------\n",
        "# definimos función para generar señales 1D-------------------------------------\n",
        "def generate_time_series(batch_size, n_steps):\n",
        "    freq1, freq2, offsets1, offsets2 = np.random.rand(4, batch_size, 1)\n",
        "    time   = np.linspace(0, 1, n_steps)\n",
        "    series = 0.5 * np.sin((time - offsets1) * (freq1 * 10 + 10))  #   wave 1\n",
        "    series += 0.2 * np.sin((time - offsets2) * (freq2 * 20 + 20)) # + wave 2\n",
        "    series += 0.1 * (np.random.rand(batch_size, n_steps) - 0.5)   # + noise\n",
        "    return series[..., np.newaxis].astype(np.float32)\n",
        "#-------------------------------------------------------------------------------"
      ],
      "execution_count": 2,
      "outputs": []
    },
    {
      "cell_type": "code",
      "metadata": {
        "colab": {
          "base_uri": "https://localhost:8080/"
        },
        "id": "tWgPrk4hqWXr",
        "outputId": "05b88744-d914-4063-e64d-661f8c1a2344"
      },
      "source": [
        "#-------------------------------------------------------------------------------\n",
        "# definimos número de steps y batch_size----------------------------------------\n",
        "n_steps    = 50\n",
        "batch_size = 10000\n",
        "#-------------------------------------------------------------------------------\n",
        "series           = generate_time_series(batch_size, n_steps + 1)\n",
        "print('Series dimension:',series.shape)\n",
        "#-------------------------------------------------------------------------------\n",
        "# partimos en conjuntos de train/valid/test-------------------------------------\n",
        "X_train, y_train = series[:7000, :n_steps], series[:7000, -1]\n",
        "X_valid, y_valid = series[7000:9000, :n_steps], series[7000:9000, -1]\n",
        "X_test, y_test = series[9000:, :n_steps], series[9000:, -1]\n",
        "#-------------------------------------------------------------------------------\n",
        "print('Train dimensions:',X_train.shape, y_train.shape)\n",
        "print('Valid dimensions:',X_valid.shape, y_valid.shape)\n",
        "print('Test dimensions:',X_test.shape, y_test.shape)\n",
        "#-------------------------------------------------------------------------------"
      ],
      "execution_count": 3,
      "outputs": [
        {
          "output_type": "stream",
          "name": "stdout",
          "text": [
            "Series dimension: (10000, 51, 1)\n",
            "Train dimensions: (7000, 50, 1) (7000, 1)\n",
            "Valid dimensions: (2000, 50, 1) (2000, 1)\n",
            "Test dimensions: (1000, 50, 1) (1000, 1)\n"
          ]
        }
      ]
    },
    {
      "cell_type": "code",
      "metadata": {
        "colab": {
          "base_uri": "https://localhost:8080/"
        },
        "id": "ACPrteGLqWXv",
        "outputId": "6de2cf51-be25-41ed-e9df-e9a69f7a41d5"
      },
      "source": [
        "#-------------------------------------------------------------------------------\n",
        "y_train # vector de salida\n",
        "#-------------------------------------------------------------------------------"
      ],
      "execution_count": 4,
      "outputs": [
        {
          "output_type": "execute_result",
          "data": {
            "text/plain": [
              "array([[-0.35489398],\n",
              "       [ 0.11629631],\n",
              "       [-0.35395944],\n",
              "       ...,\n",
              "       [ 0.04946356],\n",
              "       [-0.26231018],\n",
              "       [ 0.60062087]], dtype=float32)"
            ]
          },
          "metadata": {},
          "execution_count": 4
        }
      ]
    },
    {
      "cell_type": "markdown",
      "metadata": {
        "id": "58vY0RqXVFNF"
      },
      "source": [
        "Generamos la gráfica de las series de tiempo creadas"
      ]
    },
    {
      "cell_type": "code",
      "metadata": {
        "colab": {
          "base_uri": "https://localhost:8080/",
          "height": 293
        },
        "id": "BCkCmK0MqWXz",
        "outputId": "24d66e76-98a6-4cf8-ca22-79df3042abe9"
      },
      "source": [
        "#-------------------------------------------------------------------------------\n",
        "# definimos función para graficar las series------------------------------------\n",
        "def plot_series(series, y=None, y_pred=None, x_label=\"$t$\", y_label=\"$x(t)$\"):\n",
        "    plt.plot(series, \".-\")\n",
        "    if y is not None:\n",
        "        plt.plot(n_steps, y, \"bx\", markersize=10)\n",
        "    if y_pred is not None:\n",
        "        plt.plot(n_steps, y_pred, \"ro\")\n",
        "    plt.grid(True)\n",
        "    if x_label:\n",
        "        plt.xlabel(x_label, fontsize=16)\n",
        "    if y_label:\n",
        "        plt.ylabel(y_label, fontsize=16, rotation=0)\n",
        "    plt.hlines(0, 0, 100, linewidth=1)\n",
        "    plt.axis([0, n_steps + 1, -1, 1])\n",
        "#-------------------------------------------------------------------------------\n",
        "# graficamos 3 series del set validation----------------------------------------\n",
        "fig, axes = plt.subplots(nrows=1, ncols=3, sharey=True, figsize=(12, 4))\n",
        "for col in range(3):\n",
        "    plt.sca(axes[col])\n",
        "    plot_series(X_valid[col, :, 0], y_valid[col, 0],\n",
        "                y_label=(\"$x(t)$\" if col==0 else None))\n",
        "plt.show()\n",
        "#-------------------------------------------------------------------------------"
      ],
      "execution_count": 5,
      "outputs": [
        {
          "output_type": "display_data",
          "data": {
            "image/png": "[encoded data removed]",
            "text/plain": [
              "<Figure size 864x288 with 3 Axes>"
            ]
          },
          "metadata": {
            "needs_background": "light"
          }
        }
      ]
    },
    {
      "cell_type": "markdown",
      "metadata": {
        "id": "bHCzVyefqWX2"
      },
      "source": [
        "# Predicción ingenua (solo predecir el último valor):\n",
        "\n",
        "- Para ilustrar el concepto de secuencialidad, utilizaremos un predictor ingenuo, en donde la salida actual sería igual al valor en el instante anterior:\n",
        "\n",
        "$$x_t = x_{t-1}$$"
      ]
    },
    {
      "cell_type": "code",
      "metadata": {
        "colab": {
          "base_uri": "https://localhost:8080/"
        },
        "id": "1iXUQ4adqWX3",
        "outputId": "7df9c38f-224a-465d-afb9-cb4589e94441"
      },
      "source": [
        "#-------------------------------------------------------------------------------\n",
        "# asumimos que el valor ha estimar es el último elemento de la serie----------------\n",
        "y_pred = X_test[:, -1]\n",
        "#-------------------------------------------------------------------------------\n",
        "# calculamos el MSE entre el y_valid vs. y_pred---------------------------------\n",
        "print('MSE:',np.mean(keras.losses.mean_squared_error(y_test, y_pred))*100,'%')\n",
        "#-------------------------------------------------------------------------------"
      ],
      "execution_count": 6,
      "outputs": [
        {
          "output_type": "stream",
          "name": "stdout",
          "text": [
            "MSE: 2.181127481162548 %\n"
          ]
        }
      ]
    },
    {
      "cell_type": "markdown",
      "metadata": {
        "id": "QLnxv-bB7Alq"
      },
      "source": [
        "- El error cálculado no es tan grande aparentemente."
      ]
    },
    {
      "cell_type": "code",
      "metadata": {
        "colab": {
          "base_uri": "https://localhost:8080/",
          "height": 293
        },
        "id": "IXR5paelqWX5",
        "outputId": "f785b484-d1db-4e84-de27-42e836ef3bd9"
      },
      "source": [
        "#-------------------------------------------------------------------------------\n",
        "# graficamos valor estimado----------------------------------------------------\n",
        "plot_series(X_test[2, :, 0], y_test[2, 0], y_pred[2, 0])\n",
        "plt.show()\n",
        "#-------------------------------------------------------------------------------"
      ],
      "execution_count": 7,
      "outputs": [
        {
          "output_type": "display_data",
          "data": {
            "image/png": "[encoded data removed]",
            "text/plain": [
              "<Figure size 432x288 with 1 Axes>"
            ]
          },
          "metadata": {
            "needs_background": "light"
          }
        }
      ]
    },
    {
      "cell_type": "markdown",
      "metadata": {
        "id": "voklQ_cQqWX9"
      },
      "source": [
        "# Predicción lineal\n",
        "\n",
        "- Ahora utilizaremos un modelo lineal simple.\n",
        "\n",
        "- Recuerde que como generamos ventanas, podrimos entender esta aproximación como un modelo autorregresivo simple (sin variables latentes): \n",
        "\n",
        "$$x_t \\sim P(x_t|x_{t-1},\\dots,x_{t-\\tau})$$\n",
        "\n",
        "donde la estimación de la condicional se realiza mediante un regresor con capas densas.\n",
        "\n"
      ]
    },
    {
      "cell_type": "code",
      "metadata": {
        "colab": {
          "base_uri": "https://localhost:8080/",
          "height": 538
        },
        "id": "dmWh02aLqWX-",
        "outputId": "26cf9744-aa09-4ccb-8b5a-46e1e24eb565"
      },
      "source": [
        "#-------------------------------------------------------------------------------\n",
        "# definimos un modelo secuencial------------------------------------------------\n",
        "model = keras.models.Sequential([\n",
        "    keras.layers.Flatten(input_shape=[50, 1]),\n",
        "    keras.layers.Dense(1)\n",
        "])\n",
        "#-------------------------------------------------------------------------------\n",
        "model.summary()\n",
        "#-------------------------------------------------------------------------------\n",
        "keras.utils.plot_model(model, \"my_model_series.png\", show_shapes=True)\n",
        "#-------------------------------------------------------------------------------"
      ],
      "execution_count": 8,
      "outputs": [
        {
          "output_type": "stream",
          "name": "stdout",
          "text": [
            "Model: \"sequential\"\n",
            "_________________________________________________________________\n",
            " Layer (type)                Output Shape              Param #   \n",
            "=================================================================\n",
            " flatten (Flatten)           (None, 50)                0         \n",
            "                                                                 \n",
            " dense (Dense)               (None, 1)                 51        \n",
            "                                                                 \n",
            "=================================================================\n",
            "Total params: 51\n",
            "Trainable params: 51\n",
            "Non-trainable params: 0\n",
            "_________________________________________________________________\n"
          ]
        },
        {
          "output_type": "execute_result",
          "data": {
            "image/png": "[encoded data removed]",
            "text/plain": [
              "<IPython.core.display.Image object>"
            ]
          },
          "metadata": {},
          "execution_count": 8
        }
      ]
    },
    {
      "cell_type": "markdown",
      "metadata": {
        "id": "04fIvbnGa0ow"
      },
      "source": [
        "Compilamos y ajustamos el modelo usando los datos de train y validation"
      ]
    },
    {
      "cell_type": "code",
      "metadata": {
        "colab": {
          "base_uri": "https://localhost:8080/"
        },
        "id": "fL77SGI7ZwRT",
        "outputId": "9450d230-a2a9-44b6-eae5-3e1b4a5f79de"
      },
      "source": [
        "epochs = 20\n",
        "#-------------------------------------------------------------------------------\n",
        "model.compile(loss=\"mse\", optimizer=\"adam\")\n",
        "#-------------------------------------------------------------------------------\n",
        "history = model.fit(X_train, y_train, epochs=epochs,\n",
        "                    validation_data=(X_valid, y_valid))\n",
        "#-------------------------------------------------------------------------------"
      ],
      "execution_count": 9,
      "outputs": [
        {
          "output_type": "stream",
          "name": "stdout",
          "text": [
            "Epoch 1/20\n",
            "219/219 [==============================] - 4s 4ms/step - loss: 0.1001 - val_loss: 0.0545\n",
            "Epoch 2/20\n",
            "219/219 [==============================] - 1s 4ms/step - loss: 0.0379 - val_loss: 0.0266\n",
            "Epoch 3/20\n",
            "219/219 [==============================] - 1s 4ms/step - loss: 0.0202 - val_loss: 0.0157\n",
            "Epoch 4/20\n",
            "219/219 [==============================] - 1s 4ms/step - loss: 0.0131 - val_loss: 0.0116\n",
            "Epoch 5/20\n",
            "219/219 [==============================] - 1s 4ms/step - loss: 0.0103 - val_loss: 0.0098\n",
            "Epoch 6/20\n",
            "219/219 [==============================] - 1s 4ms/step - loss: 0.0089 - val_loss: 0.0087\n",
            "Epoch 7/20\n",
            "219/219 [==============================] - 1s 4ms/step - loss: 0.0080 - val_loss: 0.0079\n",
            "Epoch 8/20\n",
            "219/219 [==============================] - 1s 4ms/step - loss: 0.0073 - val_loss: 0.0071\n",
            "Epoch 9/20\n",
            "219/219 [==============================] - 1s 3ms/step - loss: 0.0066 - val_loss: 0.0066\n",
            "Epoch 10/20\n",
            "219/219 [==============================] - 1s 4ms/step - loss: 0.0061 - val_loss: 0.0062\n",
            "Epoch 11/20\n",
            "219/219 [==============================] - 1s 4ms/step - loss: 0.0057 - val_loss: 0.0057\n",
            "Epoch 12/20\n",
            "219/219 [==============================] - 1s 4ms/step - loss: 0.0054 - val_loss: 0.0055\n",
            "Epoch 13/20\n",
            "219/219 [==============================] - 1s 3ms/step - loss: 0.0052 - val_loss: 0.0052\n",
            "Epoch 14/20\n",
            "219/219 [==============================] - 1s 3ms/step - loss: 0.0049 - val_loss: 0.0049\n",
            "Epoch 15/20\n",
            "219/219 [==============================] - 1s 4ms/step - loss: 0.0048 - val_loss: 0.0048\n",
            "Epoch 16/20\n",
            "219/219 [==============================] - 1s 4ms/step - loss: 0.0046 - val_loss: 0.0048\n",
            "Epoch 17/20\n",
            "219/219 [==============================] - 1s 3ms/step - loss: 0.0045 - val_loss: 0.0045\n",
            "Epoch 18/20\n",
            "219/219 [==============================] - 1s 4ms/step - loss: 0.0044 - val_loss: 0.0044\n",
            "Epoch 19/20\n",
            "219/219 [==============================] - 1s 4ms/step - loss: 0.0043 - val_loss: 0.0043\n",
            "Epoch 20/20\n",
            "219/219 [==============================] - 1s 3ms/step - loss: 0.0042 - val_loss: 0.0042\n"
          ]
        }
      ]
    },
    {
      "cell_type": "code",
      "metadata": {
        "colab": {
          "base_uri": "https://localhost:8080/"
        },
        "id": "3MC6BQ34qWYA",
        "outputId": "7f9eb9d5-1f35-494f-cb88-c52de6072aad"
      },
      "source": [
        "#-------------------------------------------------------------------------------\n",
        "# verificamos evluación del modelo---------------------------------------------\n",
        "y_pred = model.predict(X_test)\n",
        "print('MSE:',np.mean(keras.losses.mean_squared_error(y_test, y_pred))*100,'%')\n",
        "#-------------------------------------------------------------------------------"
      ],
      "execution_count": 10,
      "outputs": [
        {
          "output_type": "stream",
          "name": "stdout",
          "text": [
            "MSE: 0.4241826944053173 %\n"
          ]
        }
      ]
    },
    {
      "cell_type": "markdown",
      "metadata": {
        "id": "10gk7nhd70uG"
      },
      "source": [
        "El resultado es mucho mejor que el predictor ingenuo."
      ]
    },
    {
      "cell_type": "markdown",
      "metadata": {
        "id": "RzsI6v5XdkIC"
      },
      "source": [
        "Graficamos el desempeño del modelo secuencial"
      ]
    },
    {
      "cell_type": "code",
      "metadata": {
        "colab": {
          "base_uri": "https://localhost:8080/",
          "height": 291
        },
        "id": "7QVDl-8UqWYD",
        "outputId": "0dcce6a3-328b-463d-812c-ced2f548ffed"
      },
      "source": [
        "#-------------------------------------------------------------------------------\n",
        "# definimos una función para plot de curvas de aprendizaje----------------------\n",
        "def plot_learning_curves(loss, val_loss):\n",
        "    plt.plot(np.arange(len(loss)) + 0.5, loss, \"b.-\", label=\"Training loss\")\n",
        "    plt.plot(np.arange(len(val_loss)) + 1, val_loss, \"r.-\", label=\"Validation loss\")\n",
        "    plt.gca().xaxis.set_major_locator(mpl.ticker.MaxNLocator(integer=True))\n",
        "    plt.axis([1, 20, 0, 0.05])\n",
        "    plt.legend(fontsize=14)\n",
        "    plt.xlabel(\"Epochs\")\n",
        "    plt.ylabel(\"Loss\")\n",
        "    plt.grid(True)\n",
        "#-------------------------------------------------------------------------------\n",
        "# llamamos función de plot------------------------------------------------------\n",
        "plot_learning_curves(history.history[\"loss\"], history.history[\"val_loss\"])\n",
        "plt.show()\n",
        "#-------------------------------------------------------------------------------"
      ],
      "execution_count": 11,
      "outputs": [
        {
          "output_type": "display_data",
          "data": {
            "image/png": "[encoded data removed]",
            "text/plain": [
              "<Figure size 432x288 with 1 Axes>"
            ]
          },
          "metadata": {
            "needs_background": "light"
          }
        }
      ]
    },
    {
      "cell_type": "code",
      "metadata": {
        "colab": {
          "base_uri": "https://localhost:8080/",
          "height": 293
        },
        "id": "khVgdAwiqWYF",
        "outputId": "76c10181-5111-4667-eb91-af130d187cd6"
      },
      "source": [
        "#-------------------------------------------------------------------------------\n",
        "# pintamos series y predicciones------------------------------------------------\n",
        "plot_series(X_test[0, :, 0], y_test[0, 0], y_pred[0, 0])\n",
        "plt.show()\n",
        "#-------------------------------------------------------------------------------"
      ],
      "execution_count": 12,
      "outputs": [
        {
          "output_type": "display_data",
          "data": {
            "image/png": "[encoded data removed]",
            "text/plain": [
              "<Figure size 432x288 with 1 Axes>"
            ]
          },
          "metadata": {
            "needs_background": "light"
          }
        }
      ]
    },
    {
      "cell_type": "markdown",
      "metadata": {
        "id": "OUdqI46rqWYI"
      },
      "source": [
        "# Predicciones con RNN \n",
        "\n",
        "- Keras tiene implementado las [capas simples de RNN](https://keras.io/api/layers/recurrent_layers/simple_rnn/).\n",
        "\n",
        "- Por defecto la activación no lineal utilizada es la `tanh`, aunque se puede trabajar con las vistas en módulos anteriore\n",
        "\n",
        "- En este caso se define una única capa RNN con una neurona, dado que tenemos una única salida a predecir."
      ]
    },
    {
      "cell_type": "code",
      "metadata": {
        "colab": {
          "base_uri": "https://localhost:8080/"
        },
        "id": "5BOzg0qHqWYI",
        "outputId": "c9e7079d-78ba-4843-a138-fe0252e4d06a"
      },
      "source": [
        "#-------------------------------------------------------------------------------\n",
        "# definimos modelo secuencial de RNN simple-------------------------------------\n",
        "model = keras.models.Sequential([\n",
        "    keras.layers.SimpleRNN(1, input_shape=[None, 1], ) \n",
        "])\n",
        "#-------------------------------------------------------------------------------\n",
        "# compilamos el modelo RNN------------------------------------------------------\n",
        "optimizer = keras.optimizers.Adam(lr=0.005)\n",
        "model.compile(loss=\"mse\", optimizer=optimizer)\n",
        "#-------------------------------------------------------------------------------\n",
        "# entrenamos el modelo y lo ajustamos con los datos de valid--------------------\n",
        "history = model.fit(X_train, y_train, epochs=epochs,\n",
        "                    validation_data=(X_valid, y_valid))\n",
        "#-------------------------------------------------------------------------------"
      ],
      "execution_count": 13,
      "outputs": [
        {
          "output_type": "stream",
          "name": "stderr",
          "text": [
            "/usr/local/lib/python3.7/dist-packages/keras/optimizer_v2/adam.py:105: UserWarning: The `lr` argument is deprecated, use `learning_rate` instead.\n",
            "  super(Adam, self).__init__(name, **kwargs)\n"
          ]
        },
        {
          "output_type": "stream",
          "name": "stdout",
          "text": [
            "Epoch 1/20\n",
            "219/219 [==============================] - 16s 67ms/step - loss: 0.0313 - val_loss: 0.0127\n",
            "Epoch 2/20\n",
            "219/219 [==============================] - 15s 66ms/step - loss: 0.0119 - val_loss: 0.0112\n",
            "Epoch 3/20\n",
            "219/219 [==============================] - 15s 66ms/step - loss: 0.0115 - val_loss: 0.0110\n",
            "Epoch 4/20\n",
            "219/219 [==============================] - 15s 67ms/step - loss: 0.0114 - val_loss: 0.0109\n",
            "Epoch 5/20\n",
            "219/219 [==============================] - 15s 67ms/step - loss: 0.0114 - val_loss: 0.0109\n",
            "Epoch 6/20\n",
            "219/219 [==============================] - 15s 68ms/step - loss: 0.0114 - val_loss: 0.0109\n",
            "Epoch 7/20\n",
            "219/219 [==============================] - 14s 66ms/step - loss: 0.0114 - val_loss: 0.0109\n",
            "Epoch 8/20\n",
            "219/219 [==============================] - 14s 66ms/step - loss: 0.0114 - val_loss: 0.0109\n",
            "Epoch 9/20\n",
            "219/219 [==============================] - 14s 66ms/step - loss: 0.0114 - val_loss: 0.0109\n",
            "Epoch 10/20\n",
            "219/219 [==============================] - 15s 67ms/step - loss: 0.0114 - val_loss: 0.0110\n",
            "Epoch 11/20\n",
            "219/219 [==============================] - 14s 66ms/step - loss: 0.0114 - val_loss: 0.0109\n",
            "Epoch 12/20\n",
            "219/219 [==============================] - 15s 67ms/step - loss: 0.0114 - val_loss: 0.0109\n",
            "Epoch 13/20\n",
            "219/219 [==============================] - 15s 68ms/step - loss: 0.0114 - val_loss: 0.0109\n",
            "Epoch 14/20\n",
            "219/219 [==============================] - 15s 68ms/step - loss: 0.0114 - val_loss: 0.0109\n",
            "Epoch 15/20\n",
            "219/219 [==============================] - 15s 69ms/step - loss: 0.0114 - val_loss: 0.0109\n",
            "Epoch 16/20\n",
            "219/219 [==============================] - 15s 67ms/step - loss: 0.0114 - val_loss: 0.0109\n",
            "Epoch 17/20\n",
            "219/219 [==============================] - 15s 69ms/step - loss: 0.0114 - val_loss: 0.0109\n",
            "Epoch 18/20\n",
            "219/219 [==============================] - 15s 67ms/step - loss: 0.0114 - val_loss: 0.0109\n",
            "Epoch 19/20\n",
            "219/219 [==============================] - 15s 68ms/step - loss: 0.0114 - val_loss: 0.0109\n",
            "Epoch 20/20\n",
            "219/219 [==============================] - 15s 67ms/step - loss: 0.0114 - val_loss: 0.0109\n"
          ]
        }
      ]
    },
    {
      "cell_type": "code",
      "metadata": {
        "colab": {
          "base_uri": "https://localhost:8080/"
        },
        "id": "BFEbZNirqWYL",
        "outputId": "e4a93866-9920-4320-dfac-c40964ac346c"
      },
      "source": [
        "#-------------------------------------------------------------------------------\n",
        "# verificamos evluación del modelo---------------------------------------------\n",
        "y_pred = model.predict(X_test)\n",
        "print('MSE:',np.mean(keras.losses.mean_squared_error(y_test, y_pred))*100,'%')\n",
        "#-------------------------------------------------------------------------------"
      ],
      "execution_count": 14,
      "outputs": [
        {
          "output_type": "stream",
          "name": "stdout",
          "text": [
            "MSE: 1.1280973441898823 %\n"
          ]
        }
      ]
    },
    {
      "cell_type": "markdown",
      "metadata": {
        "id": "QbGOhFI7kMbw"
      },
      "source": [
        "Graficamos el performance de la Simple RNN"
      ]
    },
    {
      "cell_type": "code",
      "metadata": {
        "colab": {
          "base_uri": "https://localhost:8080/",
          "height": 291
        },
        "id": "3wfI1HwJqWYN",
        "outputId": "18c26ca4-66d1-4355-e26d-ad1a1b2b4a31"
      },
      "source": [
        "#-------------------------------------------------------------------------------\n",
        "# graficamos curvas de aprendizaje----------------------------------------------\n",
        "plot_learning_curves(history.history[\"loss\"], history.history[\"val_loss\"])\n",
        "plt.show()\n",
        "#-------------------------------------------------------------------------------"
      ],
      "execution_count": 15,
      "outputs": [
        {
          "output_type": "display_data",
          "data": {
            "image/png": "[encoded data removed]",
            "text/plain": [
              "<Figure size 432x288 with 1 Axes>"
            ]
          },
          "metadata": {
            "needs_background": "light"
          }
        }
      ]
    },
    {
      "cell_type": "markdown",
      "metadata": {
        "id": "GvROCismkdaP"
      },
      "source": [
        "Se analiza la predicción"
      ]
    },
    {
      "cell_type": "code",
      "metadata": {
        "colab": {
          "base_uri": "https://localhost:8080/",
          "height": 293
        },
        "id": "eJQOYcfFqWYQ",
        "outputId": "17731951-e593-4de5-a22d-0286b1e158a1"
      },
      "source": [
        "#-------------------------------------------------------------------------------\n",
        "# evaluamos sobre set de X_valid------------------------------------------------\n",
        "y_pred = model.predict(X_test)\n",
        "# pintamos la serie y la predicción---------------------------------------------\n",
        "plot_series(X_test[2, :, 0], y_test[2, 0], y_pred[2, 0])\n",
        "plt.show()\n",
        "#-------------------------------------------------------------------------------"
      ],
      "execution_count": 16,
      "outputs": [
        {
          "output_type": "display_data",
          "data": {
            "image/png": "[encoded data removed]",
            "text/plain": [
              "<Figure size 432x288 with 1 Axes>"
            ]
          },
          "metadata": {
            "needs_background": "light"
          }
        }
      ]
    },
    {
      "cell_type": "markdown",
      "metadata": {
        "id": "gbLoB6W6qWYS"
      },
      "source": [
        "# Deep RNNs\n",
        "\n",
        "- Un modelo profundo de RNN contiene $L$ capas oculta.\n",
        "\n",
        "- Sobre cada capa oculta, el estado oculto es actualizado y se pasa al siguiente instante de tiempo de la capa actual y de la capa siguiente, como se muestra en la siguiente figura:\n",
        "\n",
        "![deeprnn](https://github.com/amalvarezme/AnaliticaDatos/blob/master/5_Aprendizaje_Profundo/deeprnn.png?raw=1)\n",
        "\n",
        "- El modelo recurrente profundo se define entonces como:\n",
        "\n",
        "$$\\mathbf{H}^{(l)}_t = \\phi_l\\left(\\mathbf{H}^{(l-1)}_t \\mathbf{W}^{(l)}+\\mathbf{H}^{(l)}_{t-1}\\mathbf{S}^{(l)} + \\mathbf{b}^{(l)}\\right),$$\n",
        "\n",
        "donde $\\mathbf{W}^{(l)}\\in\\mathbb{R}^{h_{l-1} \\times h_l},$ $\\mathbf{S}^{(l)}\\in\\mathbb{R}^{h_{l-1} \\times h_{l-1}},$ $\\mathbf{b}\\in\\mathbb{R}^{h_l}$ y $\\phi_l(\\cdot)$ es una función de activación no lineal. $\\mathbf{H}^{(0)}_t=\\mathbf{X}_t$\n",
        "\n",
        "- Si se desea calcular la salida $\\mathbf{O}_t\\in\\mathbb{R}^{N\\times Q}$, se puede utilizar la información del estado oculto en la capa oculta $L$:\n",
        "\n",
        "$$\\mathbf{O}_t = \\mathbf{H}^{(L)}_t\\mathbf{A}+\\mathbf{c},$$\n",
        "donde $\\mathbf{A}\\in\\mathbb{R}^{h_L\\times Q}$, $\\mathbf{c}\\in\\mathbb{R}^{Q}.$\n"
      ]
    },
    {
      "cell_type": "markdown",
      "metadata": {
        "id": "-ZsNQsA9UlCs"
      },
      "source": [
        "**Nota:** para aplicar la capa densa de la salida, se puede utilizar una capa `SimpleRNN(1)` con una neurona, o una capa densa aplicada desde la capa [TimeDistributed](https://keras.io/api/layers/recurrent_layers/time_distributed/) para preservar la temporalidad de los datos."
      ]
    },
    {
      "cell_type": "code",
      "metadata": {
        "colab": {
          "base_uri": "https://localhost:8080/",
          "height": 630
        },
        "id": "HgkMZjTPRNxk",
        "outputId": "1a7d6fcd-ad20-463b-f4b7-a6fabbc4700d"
      },
      "source": [
        "#-------------------------------------------------------------------------------\n",
        "# definimos el modelo Deep RNN como un stack de SimpleRNN-----------------------\n",
        "model = keras.models.Sequential([\n",
        "    keras.layers.SimpleRNN(20, return_sequences=True, input_shape=[None, 1]),\n",
        "    keras.layers.SimpleRNN(20, return_sequences=True),\n",
        "    keras.layers.SimpleRNN(1,activation='linear')\n",
        "    ])\n",
        "#-------------------------------------------------------------------------------\n",
        "# pintamos el diagrama de bloques del modelo\n",
        "model.summary()\n",
        "tf.keras.utils.plot_model(model)\n",
        "#-------------------------------------------------------------------------------"
      ],
      "execution_count": 17,
      "outputs": [
        {
          "output_type": "stream",
          "name": "stdout",
          "text": [
            "Model: \"sequential_2\"\n",
            "_________________________________________________________________\n",
            " Layer (type)                Output Shape              Param #   \n",
            "=================================================================\n",
            " simple_rnn_1 (SimpleRNN)    (None, None, 20)          440       \n",
            "                                                                 \n",
            " simple_rnn_2 (SimpleRNN)    (None, None, 20)          820       \n",
            "                                                                 \n",
            " simple_rnn_3 (SimpleRNN)    (None, 1)                 22        \n",
            "                                                                 \n",
            "=================================================================\n",
            "Total params: 1,282\n",
            "Trainable params: 1,282\n",
            "Non-trainable params: 0\n",
            "_________________________________________________________________\n"
          ]
        },
        {
          "output_type": "execute_result",
          "data": {
            "image/png": "[encoded data removed]",
            "text/plain": [
              "<IPython.core.display.Image object>"
            ]
          },
          "metadata": {},
          "execution_count": 17
        }
      ]
    },
    {
      "cell_type": "markdown",
      "metadata": {
        "id": "1TdylK7wRmhv"
      },
      "source": [
        "# Ejercicio 2\n",
        "\n",
        "- Para el modelo definido, determine los tamaños de las matrices y vectores de bias en cada capa.\n",
        "\n",
        "**Nota**: Utilice el método `model.layers[l].get_weights()`"
      ]
    },
    {
      "cell_type": "code",
      "metadata": {
        "colab": {
          "base_uri": "https://localhost:8080/"
        },
        "id": "gLjUvETZqWYS",
        "outputId": "570a59d5-c95d-4e13-f209-a238f5bbfb07"
      },
      "source": [
        "# compilamos el modelo----------------------------------------------------------\n",
        "model.compile(loss=\"mse\", optimizer=\"adam\")\n",
        "#-------------------------------------------------------------------------------\n",
        "# entrenamos y ajustamos el modelo----------------------------------------------\n",
        "history = model.fit(X_train, y_train, epochs=epochs,\n",
        "                    validation_data=(X_valid, y_valid))\n",
        "#-------------------------------------------------------------------------------"
      ],
      "execution_count": 18,
      "outputs": [
        {
          "output_type": "stream",
          "name": "stdout",
          "text": [
            "Epoch 1/20\n",
            "219/219 [==============================] - 49s 215ms/step - loss: 0.0197 - val_loss: 0.0053\n",
            "Epoch 2/20\n",
            "219/219 [==============================] - 47s 214ms/step - loss: 0.0043 - val_loss: 0.0034\n",
            "Epoch 3/20\n",
            "219/219 [==============================] - 46s 211ms/step - loss: 0.0034 - val_loss: 0.0030\n",
            "Epoch 4/20\n",
            "219/219 [==============================] - 47s 213ms/step - loss: 0.0031 - val_loss: 0.0030\n",
            "Epoch 5/20\n",
            "219/219 [==============================] - 47s 214ms/step - loss: 0.0030 - val_loss: 0.0030\n",
            "Epoch 6/20\n",
            "219/219 [==============================] - 46s 212ms/step - loss: 0.0030 - val_loss: 0.0028\n",
            "Epoch 7/20\n",
            "219/219 [==============================] - 47s 214ms/step - loss: 0.0029 - val_loss: 0.0030\n",
            "Epoch 8/20\n",
            "219/219 [==============================] - 46s 210ms/step - loss: 0.0030 - val_loss: 0.0028\n",
            "Epoch 9/20\n",
            "219/219 [==============================] - 47s 214ms/step - loss: 0.0029 - val_loss: 0.0027\n",
            "Epoch 10/20\n",
            "219/219 [==============================] - 46s 208ms/step - loss: 0.0028 - val_loss: 0.0026\n",
            "Epoch 11/20\n",
            "219/219 [==============================] - 46s 210ms/step - loss: 0.0028 - val_loss: 0.0026\n",
            "Epoch 12/20\n",
            "219/219 [==============================] - 47s 213ms/step - loss: 0.0028 - val_loss: 0.0028\n",
            "Epoch 13/20\n",
            "219/219 [==============================] - 47s 213ms/step - loss: 0.0028 - val_loss: 0.0027\n",
            "Epoch 14/20\n",
            "219/219 [==============================] - 46s 209ms/step - loss: 0.0028 - val_loss: 0.0026\n",
            "Epoch 15/20\n",
            "219/219 [==============================] - 46s 209ms/step - loss: 0.0028 - val_loss: 0.0029\n",
            "Epoch 16/20\n",
            "219/219 [==============================] - 45s 206ms/step - loss: 0.0029 - val_loss: 0.0026\n",
            "Epoch 17/20\n",
            "219/219 [==============================] - 45s 204ms/step - loss: 0.0028 - val_loss: 0.0027\n",
            "Epoch 18/20\n",
            "219/219 [==============================] - 46s 210ms/step - loss: 0.0028 - val_loss: 0.0027\n",
            "Epoch 19/20\n",
            "219/219 [==============================] - 47s 213ms/step - loss: 0.0027 - val_loss: 0.0026\n",
            "Epoch 20/20\n",
            "219/219 [==============================] - 47s 214ms/step - loss: 0.0028 - val_loss: 0.0026\n"
          ]
        }
      ]
    },
    {
      "cell_type": "code",
      "metadata": {
        "colab": {
          "base_uri": "https://localhost:8080/",
          "height": 291
        },
        "id": "aFdqwNc7qWYX",
        "outputId": "97746cb2-58be-4bb4-8978-9291f9a9af5e"
      },
      "source": [
        "#-------------------------------------------------------------------------------\n",
        "# graficamos curvas de aprendizaje----------------------------------------------\n",
        "plot_learning_curves(history.history[\"loss\"], history.history[\"val_loss\"])\n",
        "plt.show()\n",
        "#-------------------------------------------------------------------------------"
      ],
      "execution_count": 19,
      "outputs": [
        {
          "output_type": "display_data",
          "data": {
            "image/png": "[encoded data removed]",
            "text/plain": [
              "<Figure size 432x288 with 1 Axes>"
            ]
          },
          "metadata": {
            "needs_background": "light"
          }
        }
      ]
    },
    {
      "cell_type": "code",
      "metadata": {
        "colab": {
          "base_uri": "https://localhost:8080/"
        },
        "id": "I3hS9llclkN7",
        "outputId": "5bb03777-a6cb-4ff7-f422-1198e2b10320"
      },
      "source": [
        "y_train.shape"
      ],
      "execution_count": 20,
      "outputs": [
        {
          "output_type": "execute_result",
          "data": {
            "text/plain": [
              "(7000, 1)"
            ]
          },
          "metadata": {},
          "execution_count": 20
        }
      ]
    },
    {
      "cell_type": "code",
      "metadata": {
        "colab": {
          "base_uri": "https://localhost:8080/"
        },
        "id": "xhHwLXGLqWYV",
        "outputId": "19ea44ec-2dfa-4977-b1d7-4f6a7dcbf4f5"
      },
      "source": [
        "#-------------------------------------------------------------------------------\n",
        "# verificamos evluación del modelo---------------------------------------------\n",
        "y_pred = model.predict(X_test)\n",
        "#print('MSE:',np.mean(keras.losses.mean_squared_error(y_test, y_pred))*100,'%')\n",
        "#-------------------------------------------------------------------------------\n",
        "y_pred.shape"
      ],
      "execution_count": 21,
      "outputs": [
        {
          "output_type": "execute_result",
          "data": {
            "text/plain": [
              "(1000, 1)"
            ]
          },
          "metadata": {},
          "execution_count": 21
        }
      ]
    },
    {
      "cell_type": "markdown",
      "metadata": {
        "id": "5yBmJ1OAo-6_"
      },
      "source": [
        "Graficamos el performance de la Deep RNN"
      ]
    },
    {
      "cell_type": "code",
      "metadata": {
        "colab": {
          "base_uri": "https://localhost:8080/",
          "height": 293
        },
        "id": "fZLkWJwyqWYa",
        "outputId": "58b457a6-1139-49de-e94f-494c2d2ba69a"
      },
      "source": [
        "#-------------------------------------------------------------------------------\n",
        "# evaluamos sobre set de X_valid------------------------------------------------\n",
        "y_pred = model.predict(X_valid)\n",
        "# pintamos la serie y la predicción---------------------------------------------\n",
        "plot_series(X_valid[2, :, 0], y_valid[2, 0], y_pred[2, 0])\n",
        "plt.show()\n",
        "#-------------------------------------------------------------------------------"
      ],
      "execution_count": 22,
      "outputs": [
        {
          "output_type": "display_data",
          "data": {
            "image/png": "[encoded data removed]",
            "text/plain": [
              "<Figure size 432x288 with 1 Axes>"
            ]
          },
          "metadata": {
            "needs_background": "light"
          }
        }
      ]
    },
    {
      "cell_type": "markdown",
      "metadata": {
        "id": "kMSPHSPIqWYm"
      },
      "source": [
        "# Predicir un horizonte más lejano"
      ]
    },
    {
      "cell_type": "code",
      "metadata": {
        "id": "T_-APduoqWYm"
      },
      "source": [
        "#-------------------------------------------------------------------------------\n",
        "# definimos nueva semilla aleatoria---------------------------------------------\n",
        "np.random.seed(43) # not 42, as it would give the first series in the train set\n",
        "#-------------------------------------------------------------------------------\n",
        "# generamos nueva series de tiempo----------------------------------------------\n",
        "series       = generate_time_series(1, n_steps + 10)     # horizonte de 10 valores en el tiempo\n",
        "X_new, Y_new = series[:, :n_steps], series[:, n_steps:]\n",
        "X            = X_new\n",
        "for step_ahead in range(10):\n",
        "    y_pred_one = model.predict(X[:, step_ahead:])[:, np.newaxis, :]\n",
        "    X = np.concatenate([X, y_pred_one], axis=1)\n",
        "#-------------------------------------------------------------------------------\n",
        "Y_pred = X[:, n_steps:]\n",
        "#-------------------------------------------------------------------------------"
      ],
      "execution_count": 23,
      "outputs": []
    },
    {
      "cell_type": "code",
      "metadata": {
        "colab": {
          "base_uri": "https://localhost:8080/"
        },
        "id": "3RdydECMqWYq",
        "outputId": "5f683020-11ee-48d4-d895-7f8281f6268c"
      },
      "source": [
        "#-------------------------------------------------------------------------------\n",
        "# observamos nuevas dimensiones de Y_pred---------------------------------------\n",
        "Y_pred.shape #horizonte de 10 valores en el tiempo\n",
        "#-------------------------------------------------------------------------------"
      ],
      "execution_count": 24,
      "outputs": [
        {
          "output_type": "execute_result",
          "data": {
            "text/plain": [
              "(1, 10, 1)"
            ]
          },
          "metadata": {},
          "execution_count": 24
        }
      ]
    },
    {
      "cell_type": "code",
      "metadata": {
        "colab": {
          "base_uri": "https://localhost:8080/",
          "height": 293
        },
        "id": "E9zrBDIcqWYr",
        "outputId": "db2b54f1-0e77-43e6-a8f5-6fc8cd1fc9a0"
      },
      "source": [
        "#-------------------------------------------------------------------------------\n",
        "# definimos función para pintar forecast----------------------------------------\n",
        "def plot_multiple_forecasts(X, Y, Y_pred):\n",
        "    n_steps = X.shape[1]\n",
        "    ahead = Y.shape[1]\n",
        "    plot_series(X[0, :, 0])\n",
        "    plt.plot(np.arange(n_steps, n_steps + ahead), Y[0, :, 0], \"ro-\", label=\"Actual\")\n",
        "    plt.plot(np.arange(n_steps, n_steps + ahead), Y_pred[0, :, 0], \"bx-\", label=\"Forecast\", markersize=10)\n",
        "    plt.axis([0, n_steps + ahead, -1, 1])\n",
        "    plt.legend(fontsize=14)\n",
        "#-------------------------------------------------------------------------------\n",
        "plot_multiple_forecasts(X_new, Y_new, Y_pred)\n",
        "plt.show()\n",
        "#-------------------------------------------------------------------------------"
      ],
      "execution_count": 25,
      "outputs": [
        {
          "output_type": "display_data",
          "data": {
            "image/png": "[encoded data removed]",
            "text/plain": [
              "<Figure size 432x288 with 1 Axes>"
            ]
          },
          "metadata": {
            "needs_background": "light"
          }
        }
      ]
    },
    {
      "cell_type": "markdown",
      "metadata": {
        "id": "KBIeVSuFqWYu"
      },
      "source": [
        "Usemos el modelo para predecir los siguientes 10 valores. Se requiere entonces generar nuevamente la secuencia con 9 pasos más en el tiempo."
      ]
    },
    {
      "cell_type": "code",
      "metadata": {
        "colab": {
          "base_uri": "https://localhost:8080/"
        },
        "id": "7rycqtcTqWYv",
        "outputId": "2114c045-128b-4753-acf1-4f7f96c513b4"
      },
      "source": [
        "#-------------------------------------------------------------------------------\n",
        "# definimos semilla aleatoria---------------------------------------------------\n",
        "np.random.seed(42)\n",
        "#-------------------------------------------------------------------------------\n",
        "n_steps = 50\n",
        "series = generate_time_series(10000, n_steps + 10)\n",
        "print('Series dimension:',series.shape)\n",
        "X_train, Y_train = series[:7000, :n_steps], series[:7000, -10:, 0]\n",
        "X_valid, Y_valid = series[7000:9000, :n_steps], series[7000:9000, -10:, 0]\n",
        "X_test, Y_test = series[9000:, :n_steps], series[9000:, -10:, 0]\n",
        "#-------------------------------------------------------------------------------\n",
        "print('Train dimensions:',X_train.shape, Y_train.shape)\n",
        "print('Valid dimensions:',X_valid.shape, Y_valid.shape)\n",
        "print('Test dimensions:',X_test.shape, Y_test.shape)\n",
        "#-------------------------------------------------------------------------------"
      ],
      "execution_count": 26,
      "outputs": [
        {
          "output_type": "stream",
          "name": "stdout",
          "text": [
            "Series dimension: (10000, 60, 1)\n",
            "Train dimensions: (7000, 50, 1) (7000, 10)\n",
            "Valid dimensions: (2000, 50, 1) (2000, 10)\n",
            "Test dimensions: (1000, 50, 1) (1000, 10)\n"
          ]
        }
      ]
    },
    {
      "cell_type": "markdown",
      "metadata": {
        "id": "SLVSd8TlqWYx"
      },
      "source": [
        "Predicción de los siguientes 10 valores (uno a uno y concatenar):"
      ]
    },
    {
      "cell_type": "code",
      "metadata": {
        "colab": {
          "base_uri": "https://localhost:8080/"
        },
        "id": "O4lrK_YWqWYx",
        "outputId": "0363b226-b0b3-46b7-ae96-a947aaf233f2"
      },
      "source": [
        "#-------------------------------------------------------------------------------\n",
        "# realizamos predicción usando modelo Deep RNN----------------------------------\n",
        "del X\n",
        "X = X_valid\n",
        "for step_ahead in range(10):\n",
        "    y_pred_one = model.predict(X)[:, np.newaxis, :]\n",
        "    X = np.concatenate([X, y_pred_one], axis=1)\n",
        "#-------------------------------------------------------------------------------\n",
        "# obtenemos las predicciones de los siguientes 10 valores-----------------------\n",
        "Y_pred = X[:, n_steps:, 0]\n",
        "#-------------------------------------------------------------------------------\n",
        "print('Y_pred dimensions:', Y_pred.shape)\n",
        "#-------------------------------------------------------------------------------"
      ],
      "execution_count": 27,
      "outputs": [
        {
          "output_type": "stream",
          "name": "stdout",
          "text": [
            "Y_pred dimensions: (2000, 10)\n"
          ]
        }
      ]
    },
    {
      "cell_type": "code",
      "metadata": {
        "colab": {
          "base_uri": "https://localhost:8080/"
        },
        "id": "QqLTpESRqWY2",
        "outputId": "e9fc1a9e-0cef-4b69-c3a6-beca7db75870"
      },
      "source": [
        "#-------------------------------------------------------------------------------\n",
        "# calculamos el MSE de la predicción--------------------------------------------\n",
        "print(np.mean(keras.metrics.mean_squared_error(Y_valid, Y_pred))*100,'%')\n",
        "#-------------------------------------------------------------------------------"
      ],
      "execution_count": 28,
      "outputs": [
        {
          "output_type": "stream",
          "name": "stdout",
          "text": [
            "2.140309661626816 %\n"
          ]
        }
      ]
    },
    {
      "cell_type": "markdown",
      "metadata": {
        "id": "hXc7BTfnqWY_"
      },
      "source": [
        "Ahora se crea una RNN que permita predecir los siguientes 10 valores en una sola evaluación (predicción multi-salida):"
      ]
    },
    {
      "cell_type": "code",
      "metadata": {
        "colab": {
          "base_uri": "https://localhost:8080/",
          "height": 130
        },
        "id": "Qv0PBqLSqWZA",
        "outputId": "e45b1c97-1122-4534-fb7e-67406b8e8cca"
      },
      "source": [
        "#-------------------------------------------------------------------------------\n",
        "# definimos semillas aleatorias-------------------------------------------------\n",
        "np.random.seed(42)\n",
        "tf.random.set_seed(42)\n",
        "#-------------------------------------------------------------------------------\n",
        "# definimos el modelo secuencial multi-salida-----------------------------------\n",
        "model = keras.models.Sequential([\n",
        "    keras.layers.SimpleRNN(20, return_sequences=True, input_shape=[None, 1]),\n",
        "    keras.layers.SimpleRNN(20),\n",
        "    keras.layers.Dense(10) # capa densa para estimar los siguientes 10 valores\n",
        "])\n",
        "#-------------------------------------------------------------------------------\n",
        "# compilamos el modelo----------------------------------------------------------\n",
        "model.compile(loss=\"mse\", optimizer=\"adam\")\n",
        "#-------------------------------------------------------------------------------\n",
        "# entrenamos y ajustamos el modelo----------------------------------------------\n",
        "history = model.fit(X_train, Y_train, epochs=epochs\n",
        "                    validation_data=(X_valid, Y_valid))\n",
        "#-------------------------------------------------------------------------------"
      ],
      "execution_count": 29,
      "outputs": [
        {
          "output_type": "error",
          "ename": "SyntaxError",
          "evalue": "ignored",
          "traceback": [
            "\u001b[0;36m  File \u001b[0;32m\"<ipython-input-29-2c90d4bb18b5>\"\u001b[0;36m, line \u001b[0;32m18\u001b[0m\n\u001b[0;31m    validation_data=(X_valid, Y_valid))\u001b[0m\n\u001b[0m                  ^\u001b[0m\n\u001b[0;31mSyntaxError\u001b[0m\u001b[0;31m:\u001b[0m invalid syntax\n"
          ]
        }
      ]
    },
    {
      "cell_type": "code",
      "metadata": {
        "id": "6cBACDgGqWZD"
      },
      "source": [
        "#-------------------------------------------------------------------------------\n",
        "# generamos nuevos datos, con nueva semilla aleatoria---------------------------\n",
        "np.random.seed(43)\n",
        "#-------------------------------------------------------------------------------\n",
        "# generamos nueva serie de tiempo-----------------------------------------------\n",
        "series       = generate_time_series(1, 50 + 10)\n",
        "X_new, Y_new = series[:, :50, :], series[:, -10:, :]\n",
        "#-------------------------------------------------------------------------------\n",
        "print('X_new dimensions:',X_new.shape)\n",
        "print('Y_new dimensions:',Y_new.shape)\n",
        "#-------------------------------------------------------------------------------\n",
        "# hacemos predicción de los 10 últimos valores----------------------------------\n",
        "Y_pred       = model.predict(X_new)[..., np.newaxis]\n",
        "print('Y_pred dimensions:',Y_pred.shape)\n",
        "#-------------------------------------------------------------------------------"
      ],
      "execution_count": null,
      "outputs": []
    },
    {
      "cell_type": "code",
      "metadata": {
        "id": "1OTlvwLiqWZF"
      },
      "source": [
        "#-------------------------------------------------------------------------------\n",
        "# graficamos el forecast--------------------------------------------------------\n",
        "plot_multiple_forecasts(X_new, Y_new, Y_pred)\n",
        "plt.show()\n",
        "#-------------------------------------------------------------------------------"
      ],
      "execution_count": null,
      "outputs": []
    },
    {
      "cell_type": "markdown",
      "metadata": {
        "id": "1jO_mdnfsRgq"
      },
      "source": [
        "# El problema de las dependencias a largo plazo\n",
        "\n",
        "- Uno de los atractivos de los RNN es la idea de conectar la información anterior a la tarea actual. Si los RNN pudieran hacer esto, serían extremadamente útiles. **¿Pero pueden ellos? Depende.**\n",
        "\n",
        "- A veces, solo necesitamos mirar información reciente para realizar la tarea actual. \n",
        "\n",
        "- Por ejemplo, considere un modelo de lenguaje que intenta predecir la siguiente palabra basándose en las anteriores. Si estamos tratando de predecir la última palabra en la oración:\n",
        "\n",
        " \"las nubes están en el cielo\", \n",
        " \n",
        "no necesitamos ningún contexto adicional; es bastante obvio que la siguiente palabra será **cielo**. \n",
        "\n",
        "- En tales casos, donde la brecha entre la información relevante y el lugar que se necesita es pequeña, los RNN pueden aprender a usar la información del pasado.\n",
        "\n",
        "![rnn_corto](https://github.com/amalvarezme/AnaliticaDatos/blob/master/5_Aprendizaje_Profundo/rnn_corto.png?raw=1)\n",
        "\n",
        "- Pero también hay casos en los que necesitamos más contexto. Considere intentar predecir la última palabra del texto: \n",
        "\n",
        "\"Crecí en Francia ... hablo francés con fluidez\", \n",
        "\n",
        "la información reciente sugiere que la siguiente palabra es probablemente el **nombre de un idioma**, pero si queremos delimitar qué idioma, necesitamos el contexto de Francia, desde más atrás. \n",
        "\n",
        "- Entonces, la brecha entre la información relevante y el punto donde se necesita puede ser grande.\n",
        "\n",
        "![rnn_largo](https://github.com/amalvarezme/AnaliticaDatos/blob/master/5_Aprendizaje_Profundo/rnn_largo.png?raw=1)\n",
        "\n",
        "- En teoría, los RNN son capaces de manejar tales \"dependencias a largo plazo\". Lamentablemente, en la práctica, los RNN no parecen ser capaces de aprenderlos."
      ]
    },
    {
      "cell_type": "markdown",
      "metadata": {
        "id": "ANQBM40_qWZl"
      },
      "source": [
        "# [LSTM](https://colah.github.io/posts/2015-08-Understanding-LSTMs/): Long short term memory\n",
        "\n",
        "- La LSTM pretende aprender dependencias largas.\n",
        "\n",
        "- - En general, en LSTM, y su extensión GRU, buscan crear mecanismos que permitan identificar cuando el estado oculto debe ser actualizado y cuando reseteado.\n",
        "\n",
        "- A diferencia de una capa RNN simple, las LSTMs presenta cuatro (4) capas interactuando:\n",
        "\n",
        "\n",
        "![lstm](https://github.com/amalvarezme/AnaliticaDatos/blob/master/5_Aprendizaje_Profundo/lstm.png?raw=1)\n",
        "\n",
        "con:\n",
        "\n",
        "$$\\mathbf{I}_t = \\sigma\\left(\\mathbf{X}_t\\mathbf{W}_{xi}+\\mathbf{H}_{t-1}\\mathbf{W}_{hi}+\\mathbf{b}_i\\right)$$\n",
        "$$\\mathbf{F}_t = \\sigma\\left(\\mathbf{X}_t\\mathbf{W}_{xf}+\\mathbf{H}_{t-1}\\mathbf{W}_{hf}+\\mathbf{b}_f\\right)$$\n",
        "$$\\mathbf{O}_t = \\sigma\\left(\\mathbf{X}_t\\mathbf{W}_{xo}+\\mathbf{H}_{t-1}\\mathbf{W}_{ho}+\\mathbf{b}_o\\right)$$\n",
        "$$\\tilde{\\mathbf{C}}_t = \\tanh\\left(\\mathbf{X}_t\\mathbf{W}_{xc}+\\mathbf{H}_{t-1}\\mathbf{W}_{hc}+\\mathbf{b}_c\\right)$$\n",
        "$${\\mathbf{C}}_t = \\mathbf{F}_t \\odot \\mathbf{C}_{t-1} + \\mathbf{I}_t \\odot \\tilde{\\mathbf{C}}_t $$\n",
        "$${\\mathbf{H}}_t = \\mathbf{O}_t \\odot \\tanh{(\\mathbf{C}_{t})} $$\n",
        "\n",
        "\n",
        "donde $\\mathbf{W}_{xi},\\mathbf{W}_{xf},\\mathbf{W}_{xo}, \\mathbf{W}_{xc}\\in\\mathbb{R}^{P\\times h},$ $\\mathbf{W}_{hi},\\mathbf{W}_{hf},\\mathbf{W}_{ho},\\mathbf{W}_{hc}\\in\\mathbb{R}^{h\\times h}$ y $\\mathbf{b}_{i},\\mathbf{b}_{f},\\mathbf{b}_{o}, \\mathbf{b}_{c}\\in\\mathbb{R}^{h}$.\n",
        "\n",
        "- $\\mathbf{I}_t$ busca codificar \"cuanto\" considerar de los datos nuevos y $\\mathbf{F}_t$ que tando retenemos de los datos del pasado.\n",
        "\n",
        "- Si la compuerta de salida se aproxima a 1, pasamos toda la información de la memoría al predictor, pero, si la compuerta de la salida aproxima a 0, se retiene la información en la celda de memoría.\n"
      ]
    },
    {
      "cell_type": "code",
      "metadata": {
        "id": "1S1iaRxCIVm0"
      },
      "source": [
        "#-------------------------------------------------------------------------------\n",
        "# generamos los datos-----------------------------------------------------------\n",
        "np.random.seed(42)\n",
        "#-------------------------------------------------------------------------------\n",
        "# generamos series de tiempo----------------------------------------------------\n",
        "n_steps = 50\n",
        "series  = generate_time_series(10000, n_steps + 10)\n",
        "print('Series dimensions:',series.shape)\n",
        "#-------------------------------------------------------------------------------\n",
        "# partimos los datos en train/valid/test----------------------------------------\n",
        "X_train = series[:7000, :n_steps]\n",
        "X_valid = series[7000:9000, :n_steps]\n",
        "X_test  = series[9000:, :n_steps]\n",
        "print('X_train dimensions:',X_train.shape)\n",
        "print('X_valid dimensions:',X_valid.shape)\n",
        "print('X_test dimensions:',X_test.shape)\n",
        "#-------------------------------------------------------------------------------\n",
        "# definimos nuevos Y------------------------------------------------------------\n",
        "Y = np.empty((10000, n_steps, 10))\n",
        "for step_ahead in range(1, 10 + 1):\n",
        "    Y[..., step_ahead - 1] = series[..., step_ahead:step_ahead + n_steps, 0]\n",
        "print('Y dimensions:',Y.shape)\n",
        "#-------------------------------------------------------------------------------\n",
        "Y_train = Y[:7000]\n",
        "Y_valid = Y[7000:9000]\n",
        "Y_test  = Y[9000:]\n",
        "#-------------------------------------------------------------------------------\n",
        "print('Y_train dimensions:', Y_train.shape)\n",
        "print('Y_valid dimensions:',Y_valid.shape)\n",
        "print('Y_test dimensions:',Y_test.shape)\n",
        "#-------------------------------------------------------------------------------"
      ],
      "execution_count": null,
      "outputs": []
    },
    {
      "cell_type": "markdown",
      "metadata": {
        "id": "qnkxcF_OPj2g"
      },
      "source": [
        "**Nota**: En la capa de salida se puede utilizar una capa densa de 10 neuronas (horizonte de 10 valores). No obstante, debe aplicarse la capa [TimeDistributed](https://keras.io/api/layers/recurrent_layers/time_distributed/) para aplicar la operación densa sobre cada tramo de tiempo."
      ]
    },
    {
      "cell_type": "code",
      "metadata": {
        "id": "QAydKP4XqWZl",
        "scrolled": true
      },
      "source": [
        "#-------------------------------------------------------------------------------\n",
        "# definimos semilla aleatoria---------------------------------------------------\n",
        "np.random.seed(42)\n",
        "tf.random.set_seed(42)\n",
        "#-------------------------------------------------------------------------------\n",
        "def last_time_step_mse(Y_true, Y_pred):\n",
        "    return keras.metrics.mean_squared_error(Y_true[:, -1], Y_pred[:, -1])\n",
        "#-------------------------------------------------------------------------------\n",
        "# definimos el modelo secuencial con 2 capas LSTM-------------------------------\n",
        "model = keras.models.Sequential([\n",
        "    keras.layers.LSTM(20, return_sequences=True, input_shape=[None, 1]),\n",
        "    keras.layers.LSTM(20, return_sequences=True),\n",
        "    keras.layers.TimeDistributed(keras.layers.Dense(10))\n",
        "])\n",
        "\n",
        "model.summary()\n",
        "tf.keras.utils.plot_model(model)"
      ],
      "execution_count": null,
      "outputs": []
    },
    {
      "cell_type": "code",
      "metadata": {
        "id": "091bcSfxQClH"
      },
      "source": [
        "#-------------------------------------------------------------------------------\n",
        "# compilamos el modelo----------------------------------------------------------\n",
        "model.compile(loss=\"mse\", optimizer=\"adam\", metrics=[last_time_step_mse])\n",
        "#-------------------------------------------------------------------------------\n",
        "# entrenamos y validamos el modelo----------------------------------------------\n",
        "history = model.fit(X_train, Y_train, epochs=epochs,\n",
        "                    validation_data=(X_valid, Y_valid))\n",
        "#-------------------------------------------------------------------------------"
      ],
      "execution_count": null,
      "outputs": []
    },
    {
      "cell_type": "code",
      "metadata": {
        "id": "avxwswGMqWZo"
      },
      "source": [
        "#-------------------------------------------------------------------------------\n",
        "# evaluamos el modelo sobre los datos de Valid----------------------------------\n",
        "model.evaluate(X_test, Y_test)\n",
        "#-------------------------------------------------------------------------------"
      ],
      "execution_count": null,
      "outputs": []
    },
    {
      "cell_type": "code",
      "metadata": {
        "id": "ATiMvINbqWZq"
      },
      "source": [
        "#-------------------------------------------------------------------------------\n",
        "# observamos las curvas de aprendizaje del modelo-------------------------------\n",
        "plot_learning_curves(history.history[\"loss\"], history.history[\"val_loss\"])\n",
        "plt.show()\n",
        "#-------------------------------------------------------------------------------"
      ],
      "execution_count": null,
      "outputs": []
    },
    {
      "cell_type": "code",
      "metadata": {
        "id": "hHwhsNU_qWZs"
      },
      "source": [
        "#-------------------------------------------------------------------------------\n",
        "# generamos una nueva serie de tiempo para testear el modelo--------------------\n",
        "np.random.seed(43)\n",
        "#-------------------------------------------------------------------------------\n",
        "# generamos nueva sample--------------------------------------------------------\n",
        "series       = generate_time_series(1, 50 + 10)\n",
        "X_new, Y_new = series[:, :50, :], series[:, 50:, :]\n",
        "#-------------------------------------------------------------------------------\n",
        "# realizamos predicción---------------------------------------------------------\n",
        "Y_pred = model.predict(X_new)[:, -1][..., np.newaxis]\n",
        "#-------------------------------------------------------------------------------"
      ],
      "execution_count": null,
      "outputs": []
    },
    {
      "cell_type": "code",
      "metadata": {
        "id": "e0-qwwDBqWZv",
        "scrolled": true
      },
      "source": [
        "#-------------------------------------------------------------------------------\n",
        "# graficamos el forecast--------------------------------------------------------\n",
        "plot_multiple_forecasts(X_new, Y_new, Y_pred)\n",
        "plt.show()\n",
        "#-------------------------------------------------------------------------------"
      ],
      "execution_count": null,
      "outputs": []
    },
    {
      "cell_type": "markdown",
      "metadata": {
        "id": "nbYpMOyLqWZy"
      },
      "source": [
        "# [GRU](https://towardsdatascience.com/understanding-gru-networks-2ef37df6c9be): Gated Recurrent Unit\n",
        "\n",
        "- La GRU puede entenderse como una extensión de la capa LSTM para evitar problemas de convergencia en el gradiente.\n",
        "\n",
        "$$\\mathbf{R}_t = \\sigma\\left(\\mathbf{X}_t\\mathbf{W}_{xr}+\\mathbf{H}_{t-1}\\mathbf{W}_{hr}+\\mathbf{b}_r\\right)$$\n",
        "$$\\mathbf{Z}_t = \\sigma\\left(\\mathbf{X}_t\\mathbf{W}_{xz}+\\mathbf{H}_{t-1}\\mathbf{W}_{hz}+\\mathbf{b}_z\\right)$$\n",
        "$$\\tilde{\\mathbf{H}}_t = \\tanh(\\mathbf{X}_t\\mathbf{W}_{xh}+(\\mathbf{R}_t\\odot\\mathbf{H}_{t-1})\\mathbf{W}_{hh}+\\mathbf{b}_h)$$\n",
        "$${\\mathbf{H}}_t = \\mathbf{Z}_t\\odot\\mathbf{H}_{t-1}+(1-\\mathbf{Z}_t)\\odot\\tilde{\\mathbf{H}}_t$$\n",
        "\n",
        "donde $\\mathbf{W}_{xh},\\mathbf{W}_{xz},\\mathbf{W}_{xh}\\in\\mathbb{R}^{P\\times h},$ $\\mathbf{W}_{hr},\\mathbf{W}_{hz},\\mathbf{W}_{hh}\\in\\mathbb{R}^{h\\times h}$ y $\\mathbf{b}_{r},\\mathbf{b}_{z},\\mathbf{b}_{h}\\in\\mathbb{R}^{h}$.\n",
        "\n",
        "![gru](https://github.com/amalvarezme/AnaliticaDatos/blob/master/5_Aprendizaje_Profundo/gru.png?raw=1)\n",
        "\n",
        "- Si las entradas de $\\mathbf{R}_t$ se acercan a 1, el modelo se convierte en una RNN simple. Para valores en $\\mathbf{R}_t$ cercanos a 0, el estado oculto \"candidato\" se cácula como un MLP sobre $\\mathbf{X}_t$, cualquier estado oculto anterior es \"reseteado\".\n",
        "\n",
        "- Además, si los elementos de la compuerta de actualización $\\mathbf{Z}_t$ son cercanos a 1, se mantiene el estado anterior en la capa, de lo contrario el nuevo estado $\\mathbf{H}_t$ \"acepta\" el estado candidato $\\tilde{\\mathbf{H}}_t.$\n",
        "\n",
        "- Lo anterior permite mitigar el efecto del desvanecimiento del gradiente de las RNN simples, codificando mejor dependencias en series con relaciones \"relativamente grandes\" en el tiempo.\n",
        "\n"
      ]
    },
    {
      "cell_type": "code",
      "metadata": {
        "id": "DaDO1RuVqWZz",
        "scrolled": false
      },
      "source": [
        "np.random.seed(42)\n",
        "tf.random.set_seed(42)\n",
        "\n",
        "model = keras.models.Sequential([\n",
        "    keras.layers.GRU(20, return_sequences=True, input_shape=[None, 1]),\n",
        "    keras.layers.GRU(20, return_sequences=True),\n",
        "    keras.layers.TimeDistributed(keras.layers.Dense(10))\n",
        "])\n",
        "\n",
        "model.compile(loss=\"mse\", optimizer=\"adam\", metrics=[last_time_step_mse])\n",
        "history = model.fit(X_train, Y_train, epochs=epochs,\n",
        "                    validation_data=(X_valid, Y_valid))"
      ],
      "execution_count": null,
      "outputs": []
    },
    {
      "cell_type": "code",
      "metadata": {
        "id": "88K375oEqWZ2"
      },
      "source": [
        "model.evaluate(X_valid, Y_valid)"
      ],
      "execution_count": null,
      "outputs": []
    },
    {
      "cell_type": "code",
      "metadata": {
        "id": "JJpKElxOqWZ5"
      },
      "source": [
        "plot_learning_curves(history.history[\"loss\"], history.history[\"val_loss\"])\n",
        "plt.show()"
      ],
      "execution_count": null,
      "outputs": []
    },
    {
      "cell_type": "code",
      "metadata": {
        "id": "kEVIlY4kqWZ8"
      },
      "source": [
        "np.random.seed(43)\n",
        "\n",
        "series = generate_time_series(1, 50 + 10)\n",
        "X_new, Y_new = series[:, :50, :], series[:, 50:, :]\n",
        "Y_pred = model.predict(X_new)[:, -1][..., np.newaxis]"
      ],
      "execution_count": null,
      "outputs": []
    },
    {
      "cell_type": "code",
      "metadata": {
        "id": "_VaYF4R4qWZ-",
        "scrolled": true
      },
      "source": [
        "plot_multiple_forecasts(X_new, Y_new, Y_pred)\n",
        "plt.show()"
      ],
      "execution_count": null,
      "outputs": []
    },
    {
      "cell_type": "markdown",
      "metadata": {
        "id": "rmj7ZgzNV0MP"
      },
      "source": [
        "# Ejercicio 3:\n",
        "\n",
        "- Consulte en qué consisten las capas Conv1D y cómo pueden aplicarse para modelar series temporales (Ver capa [Conv1D](https://keras.io/api/layers/convolution_layers/convolution1d/) y [ejemplo](https://boostedml.com/2020/04/1-d-convolutional-neural-networks-for-time-series-basic-intuition.html)).\n",
        "\n",
        "- Realice una comparación entre las redes tipo RNN simple, LSTM, GRU y Conv1D en terminos de la capacidad de predicción en términos del mse y el mae, en la estimación de casos acumulados y nuevos casos de la pandemia Covid-19 en Colombia. Presente los resultdos para un horizonte de 1 día y 7 días."
      ]
    },
    {
      "cell_type": "code",
      "metadata": {
        "id": "3Th-tqAXQ9zD",
        "colab": {
          "base_uri": "https://localhost:8080/",
          "height": 605
        },
        "outputId": "4dfe40d1-e4b3-4fd9-f2c6-14f4b652a6b2"
      },
      "source": [
        "#Ayuda de código captura base de datos covid-19\n",
        "#descargar datos covid\n",
        "!pip install wget\n",
        "import wget\n",
        "import pandas as pd\n",
        "#datos covid19 - mundo\n",
        "url = \"https://data.humdata.org/hxlproxy/api/data-preview.csv?url=https%3A%2F%2Fraw.githubusercontent.com%2FCSSEGISandData%2FCOVID-19%2Fmaster%2Fcsse_covid_19_data%2Fcsse_covid_19_time_series%2Ftime_series_covid19_confirmed_global.csv&filename=time_series_covid19_confirmed_global.csv\"\n",
        "#datos Colombia\n",
        "#url = \"https://www.datos.gov.co/api/views/gt2j-8ykr/rows.csv?accessType=DOWNLOAD\"\n",
        "wget.download(url, 'covid.csv')\n",
        "Xd = pd.read_csv('covid.csv')\n",
        "Xd"
      ],
      "execution_count": 44,
      "outputs": [
        {
          "output_type": "stream",
          "name": "stdout",
          "text": [
            "Collecting wget\n",
            "  Downloading wget-3.2.zip (10 kB)\n",
            "Building wheels for collected packages: wget\n",
            "  Building wheel for wget (setup.py) ... \u001b[?25l\u001b[?25hdone\n",
            "  Created wheel for wget: filename=wget-3.2-py3-none-any.whl size=9672 sha256=ae07d22d637e4966d961c723df2309558192d3740c817c534df34ebd15056e71\n",
            "  Stored in directory: /root/.cache/pip/wheels/a1/b6/7c/0e63e34eb06634181c63adacca38b79ff8f35c37e3c13e3c02\n",
            "Successfully built wget\n",
            "Installing collected packages: wget\n",
            "Successfully installed wget-3.2\n"
          ]
        },
        {
          "output_type": "execute_result",
          "data": {
            "text/html": [
              "<div>\n",
              "<style scoped>\n",
              "    .dataframe tbody tr th:only-of-type {\n",
              "        vertical-align: middle;\n",
              "    }\n",
              "\n",
              "    .dataframe tbody tr th {\n",
              "        vertical-align: top;\n",
              "    }\n",
              "\n",
              "    .dataframe thead th {\n",
              "        text-align: right;\n",
              "    }\n",
              "</style>\n",
              "<table border=\"1\" class=\"dataframe\">\n",
              "  <thead>\n",
              "    <tr style=\"text-align: right;\">\n",
              "      <th></th>\n",
              "      <th>Province/State</th>\n",
              "      <th>Country/Region</th>\n",
              "      <th>Lat</th>\n",
              "      <th>Long</th>\n",
              "      <th>1/22/20</th>\n",
              "      <th>1/23/20</th>\n",
              "      <th>1/24/20</th>\n",
              "      <th>1/25/20</th>\n",
              "      <th>1/26/20</th>\n",
              "      <th>1/27/20</th>\n",
              "      <th>1/28/20</th>\n",
              "      <th>1/29/20</th>\n",
              "      <th>1/30/20</th>\n",
              "      <th>1/31/20</th>\n",
              "      <th>2/1/20</th>\n",
              "      <th>2/2/20</th>\n",
              "      <th>2/3/20</th>\n",
              "      <th>2/4/20</th>\n",
              "      <th>2/5/20</th>\n",
              "      <th>2/6/20</th>\n",
              "      <th>2/7/20</th>\n",
              "      <th>2/8/20</th>\n",
              "      <th>2/9/20</th>\n",
              "      <th>2/10/20</th>\n",
              "      <th>2/11/20</th>\n",
              "      <th>2/12/20</th>\n",
              "      <th>2/13/20</th>\n",
              "      <th>2/14/20</th>\n",
              "      <th>2/15/20</th>\n",
              "      <th>2/16/20</th>\n",
              "      <th>2/17/20</th>\n",
              "      <th>2/18/20</th>\n",
              "      <th>2/19/20</th>\n",
              "      <th>2/20/20</th>\n",
              "      <th>2/21/20</th>\n",
              "      <th>2/22/20</th>\n",
              "      <th>2/23/20</th>\n",
              "      <th>2/24/20</th>\n",
              "      <th>2/25/20</th>\n",
              "      <th>2/26/20</th>\n",
              "      <th>...</th>\n",
              "      <th>10/10/21</th>\n",
              "      <th>10/11/21</th>\n",
              "      <th>10/12/21</th>\n",
              "      <th>10/13/21</th>\n",
              "      <th>10/14/21</th>\n",
              "      <th>10/15/21</th>\n",
              "      <th>10/16/21</th>\n",
              "      <th>10/17/21</th>\n",
              "      <th>10/18/21</th>\n",
              "      <th>10/19/21</th>\n",
              "      <th>10/20/21</th>\n",
              "      <th>10/21/21</th>\n",
              "      <th>10/22/21</th>\n",
              "      <th>10/23/21</th>\n",
              "      <th>10/24/21</th>\n",
              "      <th>10/25/21</th>\n",
              "      <th>10/26/21</th>\n",
              "      <th>10/27/21</th>\n",
              "      <th>10/28/21</th>\n",
              "      <th>10/29/21</th>\n",
              "      <th>10/30/21</th>\n",
              "      <th>10/31/21</th>\n",
              "      <th>11/1/21</th>\n",
              "      <th>11/2/21</th>\n",
              "      <th>11/3/21</th>\n",
              "      <th>11/4/21</th>\n",
              "      <th>11/5/21</th>\n",
              "      <th>11/6/21</th>\n",
              "      <th>11/7/21</th>\n",
              "      <th>11/8/21</th>\n",
              "      <th>11/9/21</th>\n",
              "      <th>11/10/21</th>\n",
              "      <th>11/11/21</th>\n",
              "      <th>11/12/21</th>\n",
              "      <th>11/13/21</th>\n",
              "      <th>11/14/21</th>\n",
              "      <th>11/15/21</th>\n",
              "      <th>11/16/21</th>\n",
              "      <th>11/17/21</th>\n",
              "      <th>11/18/21</th>\n",
              "    </tr>\n",
              "  </thead>\n",
              "  <tbody>\n",
              "    <tr>\n",
              "      <th>0</th>\n",
              "      <td>NaN</td>\n",
              "      <td>Afghanistan</td>\n",
              "      <td>33.939110</td>\n",
              "      <td>67.709953</td>\n",
              "      <td>0</td>\n",
              "      <td>0</td>\n",
              "      <td>0</td>\n",
              "      <td>0</td>\n",
              "      <td>0</td>\n",
              "      <td>0</td>\n",
              "      <td>0</td>\n",
              "      <td>0</td>\n",
              "      <td>0</td>\n",
              "      <td>0</td>\n",
              "      <td>0</td>\n",
              "      <td>0</td>\n",
              "      <td>0</td>\n",
              "      <td>0</td>\n",
              "      <td>0</td>\n",
              "      <td>0</td>\n",
              "      <td>0</td>\n",
              "      <td>0</td>\n",
              "      <td>0</td>\n",
              "      <td>0</td>\n",
              "      <td>0</td>\n",
              "      <td>0</td>\n",
              "      <td>0</td>\n",
              "      <td>0</td>\n",
              "      <td>0</td>\n",
              "      <td>0</td>\n",
              "      <td>0</td>\n",
              "      <td>0</td>\n",
              "      <td>0</td>\n",
              "      <td>0</td>\n",
              "      <td>0</td>\n",
              "      <td>0</td>\n",
              "      <td>0</td>\n",
              "      <td>5</td>\n",
              "      <td>5</td>\n",
              "      <td>5</td>\n",
              "      <td>...</td>\n",
              "      <td>155508</td>\n",
              "      <td>155540</td>\n",
              "      <td>155599</td>\n",
              "      <td>155627</td>\n",
              "      <td>155682</td>\n",
              "      <td>155688</td>\n",
              "      <td>155739</td>\n",
              "      <td>155764</td>\n",
              "      <td>155776</td>\n",
              "      <td>155801</td>\n",
              "      <td>155859</td>\n",
              "      <td>155891</td>\n",
              "      <td>155931</td>\n",
              "      <td>155940</td>\n",
              "      <td>155944</td>\n",
              "      <td>156040</td>\n",
              "      <td>156071</td>\n",
              "      <td>156124</td>\n",
              "      <td>156166</td>\n",
              "      <td>156196</td>\n",
              "      <td>156210</td>\n",
              "      <td>156250</td>\n",
              "      <td>156284</td>\n",
              "      <td>156307</td>\n",
              "      <td>156323</td>\n",
              "      <td>156363</td>\n",
              "      <td>156392</td>\n",
              "      <td>156397</td>\n",
              "      <td>156397</td>\n",
              "      <td>156397</td>\n",
              "      <td>156397</td>\n",
              "      <td>156414</td>\n",
              "      <td>156456</td>\n",
              "      <td>156487</td>\n",
              "      <td>156510</td>\n",
              "      <td>156552</td>\n",
              "      <td>156610</td>\n",
              "      <td>156649</td>\n",
              "      <td>156739</td>\n",
              "      <td>156739</td>\n",
              "    </tr>\n",
              "    <tr>\n",
              "      <th>1</th>\n",
              "      <td>NaN</td>\n",
              "      <td>Albania</td>\n",
              "      <td>41.153300</td>\n",
              "      <td>20.168300</td>\n",
              "      <td>0</td>\n",
              "      <td>0</td>\n",
              "      <td>0</td>\n",
              "      <td>0</td>\n",
              "      <td>0</td>\n",
              "      <td>0</td>\n",
              "      <td>0</td>\n",
              "      <td>0</td>\n",
              "      <td>0</td>\n",
              "      <td>0</td>\n",
              "      <td>0</td>\n",
              "      <td>0</td>\n",
              "      <td>0</td>\n",
              "      <td>0</td>\n",
              "      <td>0</td>\n",
              "      <td>0</td>\n",
              "      <td>0</td>\n",
              "      <td>0</td>\n",
              "      <td>0</td>\n",
              "      <td>0</td>\n",
              "      <td>0</td>\n",
              "      <td>0</td>\n",
              "      <td>0</td>\n",
              "      <td>0</td>\n",
              "      <td>0</td>\n",
              "      <td>0</td>\n",
              "      <td>0</td>\n",
              "      <td>0</td>\n",
              "      <td>0</td>\n",
              "      <td>0</td>\n",
              "      <td>0</td>\n",
              "      <td>0</td>\n",
              "      <td>0</td>\n",
              "      <td>0</td>\n",
              "      <td>0</td>\n",
              "      <td>0</td>\n",
              "      <td>...</td>\n",
              "      <td>174968</td>\n",
              "      <td>175163</td>\n",
              "      <td>175664</td>\n",
              "      <td>176172</td>\n",
              "      <td>176667</td>\n",
              "      <td>177108</td>\n",
              "      <td>177536</td>\n",
              "      <td>177971</td>\n",
              "      <td>178188</td>\n",
              "      <td>178804</td>\n",
              "      <td>179463</td>\n",
              "      <td>180029</td>\n",
              "      <td>180623</td>\n",
              "      <td>181252</td>\n",
              "      <td>181696</td>\n",
              "      <td>181960</td>\n",
              "      <td>182610</td>\n",
              "      <td>183282</td>\n",
              "      <td>183873</td>\n",
              "      <td>184340</td>\n",
              "      <td>184887</td>\n",
              "      <td>185300</td>\n",
              "      <td>185497</td>\n",
              "      <td>186222</td>\n",
              "      <td>186793</td>\n",
              "      <td>187363</td>\n",
              "      <td>187994</td>\n",
              "      <td>187994</td>\n",
              "      <td>189125</td>\n",
              "      <td>189355</td>\n",
              "      <td>190125</td>\n",
              "      <td>190815</td>\n",
              "      <td>191440</td>\n",
              "      <td>192013</td>\n",
              "      <td>192600</td>\n",
              "      <td>193075</td>\n",
              "      <td>193269</td>\n",
              "      <td>193856</td>\n",
              "      <td>194472</td>\n",
              "      <td>195021</td>\n",
              "    </tr>\n",
              "    <tr>\n",
              "      <th>2</th>\n",
              "      <td>NaN</td>\n",
              "      <td>Algeria</td>\n",
              "      <td>28.033900</td>\n",
              "      <td>1.659600</td>\n",
              "      <td>0</td>\n",
              "      <td>0</td>\n",
              "      <td>0</td>\n",
              "      <td>0</td>\n",
              "      <td>0</td>\n",
              "      <td>0</td>\n",
              "      <td>0</td>\n",
              "      <td>0</td>\n",
              "      <td>0</td>\n",
              "      <td>0</td>\n",
              "      <td>0</td>\n",
              "      <td>0</td>\n",
              "      <td>0</td>\n",
              "      <td>0</td>\n",
              "      <td>0</td>\n",
              "      <td>0</td>\n",
              "      <td>0</td>\n",
              "      <td>0</td>\n",
              "      <td>0</td>\n",
              "      <td>0</td>\n",
              "      <td>0</td>\n",
              "      <td>0</td>\n",
              "      <td>0</td>\n",
              "      <td>0</td>\n",
              "      <td>0</td>\n",
              "      <td>0</td>\n",
              "      <td>0</td>\n",
              "      <td>0</td>\n",
              "      <td>0</td>\n",
              "      <td>0</td>\n",
              "      <td>0</td>\n",
              "      <td>0</td>\n",
              "      <td>0</td>\n",
              "      <td>0</td>\n",
              "      <td>1</td>\n",
              "      <td>1</td>\n",
              "      <td>...</td>\n",
              "      <td>204597</td>\n",
              "      <td>204695</td>\n",
              "      <td>204790</td>\n",
              "      <td>204900</td>\n",
              "      <td>205005</td>\n",
              "      <td>205106</td>\n",
              "      <td>205199</td>\n",
              "      <td>205286</td>\n",
              "      <td>205364</td>\n",
              "      <td>205453</td>\n",
              "      <td>205529</td>\n",
              "      <td>205599</td>\n",
              "      <td>205683</td>\n",
              "      <td>205750</td>\n",
              "      <td>205822</td>\n",
              "      <td>205903</td>\n",
              "      <td>205990</td>\n",
              "      <td>206069</td>\n",
              "      <td>206160</td>\n",
              "      <td>206270</td>\n",
              "      <td>206358</td>\n",
              "      <td>206452</td>\n",
              "      <td>206566</td>\n",
              "      <td>206649</td>\n",
              "      <td>206754</td>\n",
              "      <td>206878</td>\n",
              "      <td>206995</td>\n",
              "      <td>207079</td>\n",
              "      <td>207156</td>\n",
              "      <td>207254</td>\n",
              "      <td>207385</td>\n",
              "      <td>207509</td>\n",
              "      <td>207624</td>\n",
              "      <td>207764</td>\n",
              "      <td>207873</td>\n",
              "      <td>207970</td>\n",
              "      <td>208104</td>\n",
              "      <td>208245</td>\n",
              "      <td>208380</td>\n",
              "      <td>208532</td>\n",
              "    </tr>\n",
              "    <tr>\n",
              "      <th>3</th>\n",
              "      <td>NaN</td>\n",
              "      <td>Andorra</td>\n",
              "      <td>42.506300</td>\n",
              "      <td>1.521800</td>\n",
              "      <td>0</td>\n",
              "      <td>0</td>\n",
              "      <td>0</td>\n",
              "      <td>0</td>\n",
              "      <td>0</td>\n",
              "      <td>0</td>\n",
              "      <td>0</td>\n",
              "      <td>0</td>\n",
              "      <td>0</td>\n",
              "      <td>0</td>\n",
              "      <td>0</td>\n",
              "      <td>0</td>\n",
              "      <td>0</td>\n",
              "      <td>0</td>\n",
              "      <td>0</td>\n",
              "      <td>0</td>\n",
              "      <td>0</td>\n",
              "      <td>0</td>\n",
              "      <td>0</td>\n",
              "      <td>0</td>\n",
              "      <td>0</td>\n",
              "      <td>0</td>\n",
              "      <td>0</td>\n",
              "      <td>0</td>\n",
              "      <td>0</td>\n",
              "      <td>0</td>\n",
              "      <td>0</td>\n",
              "      <td>0</td>\n",
              "      <td>0</td>\n",
              "      <td>0</td>\n",
              "      <td>0</td>\n",
              "      <td>0</td>\n",
              "      <td>0</td>\n",
              "      <td>0</td>\n",
              "      <td>0</td>\n",
              "      <td>0</td>\n",
              "      <td>...</td>\n",
              "      <td>15291</td>\n",
              "      <td>15307</td>\n",
              "      <td>15307</td>\n",
              "      <td>15314</td>\n",
              "      <td>15326</td>\n",
              "      <td>15338</td>\n",
              "      <td>15338</td>\n",
              "      <td>15338</td>\n",
              "      <td>15367</td>\n",
              "      <td>15369</td>\n",
              "      <td>15382</td>\n",
              "      <td>15382</td>\n",
              "      <td>15404</td>\n",
              "      <td>15404</td>\n",
              "      <td>15404</td>\n",
              "      <td>15425</td>\n",
              "      <td>15425</td>\n",
              "      <td>15462</td>\n",
              "      <td>15505</td>\n",
              "      <td>15516</td>\n",
              "      <td>15516</td>\n",
              "      <td>15516</td>\n",
              "      <td>15516</td>\n",
              "      <td>15516</td>\n",
              "      <td>15572</td>\n",
              "      <td>15618</td>\n",
              "      <td>15618</td>\n",
              "      <td>15618</td>\n",
              "      <td>15618</td>\n",
              "      <td>15705</td>\n",
              "      <td>15717</td>\n",
              "      <td>15744</td>\n",
              "      <td>15744</td>\n",
              "      <td>15819</td>\n",
              "      <td>15819</td>\n",
              "      <td>15819</td>\n",
              "      <td>15907</td>\n",
              "      <td>15929</td>\n",
              "      <td>15972</td>\n",
              "      <td>16035</td>\n",
              "    </tr>\n",
              "    <tr>\n",
              "      <th>4</th>\n",
              "      <td>NaN</td>\n",
              "      <td>Angola</td>\n",
              "      <td>-11.202700</td>\n",
              "      <td>17.873900</td>\n",
              "      <td>0</td>\n",
              "      <td>0</td>\n",
              "      <td>0</td>\n",
              "      <td>0</td>\n",
              "      <td>0</td>\n",
              "      <td>0</td>\n",
              "      <td>0</td>\n",
              "      <td>0</td>\n",
              "      <td>0</td>\n",
              "      <td>0</td>\n",
              "      <td>0</td>\n",
              "      <td>0</td>\n",
              "      <td>0</td>\n",
              "      <td>0</td>\n",
              "      <td>0</td>\n",
              "      <td>0</td>\n",
              "      <td>0</td>\n",
              "      <td>0</td>\n",
              "      <td>0</td>\n",
              "      <td>0</td>\n",
              "      <td>0</td>\n",
              "      <td>0</td>\n",
              "      <td>0</td>\n",
              "      <td>0</td>\n",
              "      <td>0</td>\n",
              "      <td>0</td>\n",
              "      <td>0</td>\n",
              "      <td>0</td>\n",
              "      <td>0</td>\n",
              "      <td>0</td>\n",
              "      <td>0</td>\n",
              "      <td>0</td>\n",
              "      <td>0</td>\n",
              "      <td>0</td>\n",
              "      <td>0</td>\n",
              "      <td>0</td>\n",
              "      <td>...</td>\n",
              "      <td>61378</td>\n",
              "      <td>61580</td>\n",
              "      <td>61794</td>\n",
              "      <td>62143</td>\n",
              "      <td>62385</td>\n",
              "      <td>62606</td>\n",
              "      <td>62789</td>\n",
              "      <td>62842</td>\n",
              "      <td>63012</td>\n",
              "      <td>63197</td>\n",
              "      <td>63340</td>\n",
              "      <td>63567</td>\n",
              "      <td>63691</td>\n",
              "      <td>63775</td>\n",
              "      <td>63861</td>\n",
              "      <td>63930</td>\n",
              "      <td>64033</td>\n",
              "      <td>64126</td>\n",
              "      <td>64226</td>\n",
              "      <td>64301</td>\n",
              "      <td>64374</td>\n",
              "      <td>64433</td>\n",
              "      <td>64458</td>\n",
              "      <td>64487</td>\n",
              "      <td>64533</td>\n",
              "      <td>64583</td>\n",
              "      <td>64612</td>\n",
              "      <td>64654</td>\n",
              "      <td>64674</td>\n",
              "      <td>64724</td>\n",
              "      <td>64762</td>\n",
              "      <td>64815</td>\n",
              "      <td>64857</td>\n",
              "      <td>64875</td>\n",
              "      <td>64899</td>\n",
              "      <td>64913</td>\n",
              "      <td>64913</td>\n",
              "      <td>64940</td>\n",
              "      <td>64968</td>\n",
              "      <td>64985</td>\n",
              "    </tr>\n",
              "    <tr>\n",
              "      <th>...</th>\n",
              "      <td>...</td>\n",
              "      <td>...</td>\n",
              "      <td>...</td>\n",
              "      <td>...</td>\n",
              "      <td>...</td>\n",
              "      <td>...</td>\n",
              "      <td>...</td>\n",
              "      <td>...</td>\n",
              "      <td>...</td>\n",
              "      <td>...</td>\n",
              "      <td>...</td>\n",
              "      <td>...</td>\n",
              "      <td>...</td>\n",
              "      <td>...</td>\n",
              "      <td>...</td>\n",
              "      <td>...</td>\n",
              "      <td>...</td>\n",
              "      <td>...</td>\n",
              "      <td>...</td>\n",
              "      <td>...</td>\n",
              "      <td>...</td>\n",
              "      <td>...</td>\n",
              "      <td>...</td>\n",
              "      <td>...</td>\n",
              "      <td>...</td>\n",
              "      <td>...</td>\n",
              "      <td>...</td>\n",
              "      <td>...</td>\n",
              "      <td>...</td>\n",
              "      <td>...</td>\n",
              "      <td>...</td>\n",
              "      <td>...</td>\n",
              "      <td>...</td>\n",
              "      <td>...</td>\n",
              "      <td>...</td>\n",
              "      <td>...</td>\n",
              "      <td>...</td>\n",
              "      <td>...</td>\n",
              "      <td>...</td>\n",
              "      <td>...</td>\n",
              "      <td>...</td>\n",
              "      <td>...</td>\n",
              "      <td>...</td>\n",
              "      <td>...</td>\n",
              "      <td>...</td>\n",
              "      <td>...</td>\n",
              "      <td>...</td>\n",
              "      <td>...</td>\n",
              "      <td>...</td>\n",
              "      <td>...</td>\n",
              "      <td>...</td>\n",
              "      <td>...</td>\n",
              "      <td>...</td>\n",
              "      <td>...</td>\n",
              "      <td>...</td>\n",
              "      <td>...</td>\n",
              "      <td>...</td>\n",
              "      <td>...</td>\n",
              "      <td>...</td>\n",
              "      <td>...</td>\n",
              "      <td>...</td>\n",
              "      <td>...</td>\n",
              "      <td>...</td>\n",
              "      <td>...</td>\n",
              "      <td>...</td>\n",
              "      <td>...</td>\n",
              "      <td>...</td>\n",
              "      <td>...</td>\n",
              "      <td>...</td>\n",
              "      <td>...</td>\n",
              "      <td>...</td>\n",
              "      <td>...</td>\n",
              "      <td>...</td>\n",
              "      <td>...</td>\n",
              "      <td>...</td>\n",
              "      <td>...</td>\n",
              "      <td>...</td>\n",
              "      <td>...</td>\n",
              "      <td>...</td>\n",
              "      <td>...</td>\n",
              "      <td>...</td>\n",
              "    </tr>\n",
              "    <tr>\n",
              "      <th>275</th>\n",
              "      <td>NaN</td>\n",
              "      <td>Vietnam</td>\n",
              "      <td>14.058324</td>\n",
              "      <td>108.277199</td>\n",
              "      <td>0</td>\n",
              "      <td>2</td>\n",
              "      <td>2</td>\n",
              "      <td>2</td>\n",
              "      <td>2</td>\n",
              "      <td>2</td>\n",
              "      <td>2</td>\n",
              "      <td>2</td>\n",
              "      <td>2</td>\n",
              "      <td>2</td>\n",
              "      <td>6</td>\n",
              "      <td>6</td>\n",
              "      <td>8</td>\n",
              "      <td>8</td>\n",
              "      <td>8</td>\n",
              "      <td>10</td>\n",
              "      <td>10</td>\n",
              "      <td>13</td>\n",
              "      <td>13</td>\n",
              "      <td>14</td>\n",
              "      <td>15</td>\n",
              "      <td>15</td>\n",
              "      <td>16</td>\n",
              "      <td>16</td>\n",
              "      <td>16</td>\n",
              "      <td>16</td>\n",
              "      <td>16</td>\n",
              "      <td>16</td>\n",
              "      <td>16</td>\n",
              "      <td>16</td>\n",
              "      <td>16</td>\n",
              "      <td>16</td>\n",
              "      <td>16</td>\n",
              "      <td>16</td>\n",
              "      <td>16</td>\n",
              "      <td>16</td>\n",
              "      <td>...</td>\n",
              "      <td>839662</td>\n",
              "      <td>843281</td>\n",
              "      <td>846230</td>\n",
              "      <td>849691</td>\n",
              "      <td>853842</td>\n",
              "      <td>857639</td>\n",
              "      <td>860860</td>\n",
              "      <td>864053</td>\n",
              "      <td>867221</td>\n",
              "      <td>870255</td>\n",
              "      <td>873901</td>\n",
              "      <td>877537</td>\n",
              "      <td>881522</td>\n",
              "      <td>884895</td>\n",
              "      <td>888940</td>\n",
              "      <td>892579</td>\n",
              "      <td>896174</td>\n",
              "      <td>900585</td>\n",
              "      <td>905477</td>\n",
              "      <td>910376</td>\n",
              "      <td>915603</td>\n",
              "      <td>921122</td>\n",
              "      <td>926720</td>\n",
              "      <td>932357</td>\n",
              "      <td>939463</td>\n",
              "      <td>946043</td>\n",
              "      <td>953547</td>\n",
              "      <td>961038</td>\n",
              "      <td>968684</td>\n",
              "      <td>976672</td>\n",
              "      <td>984805</td>\n",
              "      <td>992735</td>\n",
              "      <td>1000897</td>\n",
              "      <td>1009879</td>\n",
              "      <td>1018346</td>\n",
              "      <td>1026522</td>\n",
              "      <td>1035138</td>\n",
              "      <td>1045397</td>\n",
              "      <td>1055246</td>\n",
              "      <td>1065469</td>\n",
              "    </tr>\n",
              "    <tr>\n",
              "      <th>276</th>\n",
              "      <td>NaN</td>\n",
              "      <td>West Bank and Gaza</td>\n",
              "      <td>31.952200</td>\n",
              "      <td>35.233200</td>\n",
              "      <td>0</td>\n",
              "      <td>0</td>\n",
              "      <td>0</td>\n",
              "      <td>0</td>\n",
              "      <td>0</td>\n",
              "      <td>0</td>\n",
              "      <td>0</td>\n",
              "      <td>0</td>\n",
              "      <td>0</td>\n",
              "      <td>0</td>\n",
              "      <td>0</td>\n",
              "      <td>0</td>\n",
              "      <td>0</td>\n",
              "      <td>0</td>\n",
              "      <td>0</td>\n",
              "      <td>0</td>\n",
              "      <td>0</td>\n",
              "      <td>0</td>\n",
              "      <td>0</td>\n",
              "      <td>0</td>\n",
              "      <td>0</td>\n",
              "      <td>0</td>\n",
              "      <td>0</td>\n",
              "      <td>0</td>\n",
              "      <td>0</td>\n",
              "      <td>0</td>\n",
              "      <td>0</td>\n",
              "      <td>0</td>\n",
              "      <td>0</td>\n",
              "      <td>0</td>\n",
              "      <td>0</td>\n",
              "      <td>0</td>\n",
              "      <td>0</td>\n",
              "      <td>0</td>\n",
              "      <td>0</td>\n",
              "      <td>0</td>\n",
              "      <td>...</td>\n",
              "      <td>441882</td>\n",
              "      <td>443766</td>\n",
              "      <td>444729</td>\n",
              "      <td>445538</td>\n",
              "      <td>446294</td>\n",
              "      <td>447032</td>\n",
              "      <td>447032</td>\n",
              "      <td>447032</td>\n",
              "      <td>448322</td>\n",
              "      <td>449031</td>\n",
              "      <td>449705</td>\n",
              "      <td>449980</td>\n",
              "      <td>450310</td>\n",
              "      <td>450310</td>\n",
              "      <td>450310</td>\n",
              "      <td>451459</td>\n",
              "      <td>451897</td>\n",
              "      <td>452272</td>\n",
              "      <td>452642</td>\n",
              "      <td>452997</td>\n",
              "      <td>452997</td>\n",
              "      <td>452997</td>\n",
              "      <td>453782</td>\n",
              "      <td>454172</td>\n",
              "      <td>454509</td>\n",
              "      <td>454799</td>\n",
              "      <td>455099</td>\n",
              "      <td>455099</td>\n",
              "      <td>455099</td>\n",
              "      <td>455689</td>\n",
              "      <td>455949</td>\n",
              "      <td>456186</td>\n",
              "      <td>456407</td>\n",
              "      <td>456632</td>\n",
              "      <td>456632</td>\n",
              "      <td>456632</td>\n",
              "      <td>457154</td>\n",
              "      <td>457390</td>\n",
              "      <td>457477</td>\n",
              "      <td>457729</td>\n",
              "    </tr>\n",
              "    <tr>\n",
              "      <th>277</th>\n",
              "      <td>NaN</td>\n",
              "      <td>Yemen</td>\n",
              "      <td>15.552727</td>\n",
              "      <td>48.516388</td>\n",
              "      <td>0</td>\n",
              "      <td>0</td>\n",
              "      <td>0</td>\n",
              "      <td>0</td>\n",
              "      <td>0</td>\n",
              "      <td>0</td>\n",
              "      <td>0</td>\n",
              "      <td>0</td>\n",
              "      <td>0</td>\n",
              "      <td>0</td>\n",
              "      <td>0</td>\n",
              "      <td>0</td>\n",
              "      <td>0</td>\n",
              "      <td>0</td>\n",
              "      <td>0</td>\n",
              "      <td>0</td>\n",
              "      <td>0</td>\n",
              "      <td>0</td>\n",
              "      <td>0</td>\n",
              "      <td>0</td>\n",
              "      <td>0</td>\n",
              "      <td>0</td>\n",
              "      <td>0</td>\n",
              "      <td>0</td>\n",
              "      <td>0</td>\n",
              "      <td>0</td>\n",
              "      <td>0</td>\n",
              "      <td>0</td>\n",
              "      <td>0</td>\n",
              "      <td>0</td>\n",
              "      <td>0</td>\n",
              "      <td>0</td>\n",
              "      <td>0</td>\n",
              "      <td>0</td>\n",
              "      <td>0</td>\n",
              "      <td>0</td>\n",
              "      <td>...</td>\n",
              "      <td>9369</td>\n",
              "      <td>9402</td>\n",
              "      <td>9412</td>\n",
              "      <td>9439</td>\n",
              "      <td>9467</td>\n",
              "      <td>9495</td>\n",
              "      <td>9512</td>\n",
              "      <td>9526</td>\n",
              "      <td>9556</td>\n",
              "      <td>9575</td>\n",
              "      <td>9596</td>\n",
              "      <td>9635</td>\n",
              "      <td>9650</td>\n",
              "      <td>9662</td>\n",
              "      <td>9678</td>\n",
              "      <td>9694</td>\n",
              "      <td>9711</td>\n",
              "      <td>9728</td>\n",
              "      <td>9751</td>\n",
              "      <td>9773</td>\n",
              "      <td>9779</td>\n",
              "      <td>9791</td>\n",
              "      <td>9799</td>\n",
              "      <td>9806</td>\n",
              "      <td>9810</td>\n",
              "      <td>9831</td>\n",
              "      <td>9843</td>\n",
              "      <td>9858</td>\n",
              "      <td>9870</td>\n",
              "      <td>9883</td>\n",
              "      <td>9891</td>\n",
              "      <td>9902</td>\n",
              "      <td>9907</td>\n",
              "      <td>9912</td>\n",
              "      <td>9918</td>\n",
              "      <td>9918</td>\n",
              "      <td>9936</td>\n",
              "      <td>9936</td>\n",
              "      <td>9947</td>\n",
              "      <td>9950</td>\n",
              "    </tr>\n",
              "    <tr>\n",
              "      <th>278</th>\n",
              "      <td>NaN</td>\n",
              "      <td>Zambia</td>\n",
              "      <td>-13.133897</td>\n",
              "      <td>27.849332</td>\n",
              "      <td>0</td>\n",
              "      <td>0</td>\n",
              "      <td>0</td>\n",
              "      <td>0</td>\n",
              "      <td>0</td>\n",
              "      <td>0</td>\n",
              "      <td>0</td>\n",
              "      <td>0</td>\n",
              "      <td>0</td>\n",
              "      <td>0</td>\n",
              "      <td>0</td>\n",
              "      <td>0</td>\n",
              "      <td>0</td>\n",
              "      <td>0</td>\n",
              "      <td>0</td>\n",
              "      <td>0</td>\n",
              "      <td>0</td>\n",
              "      <td>0</td>\n",
              "      <td>0</td>\n",
              "      <td>0</td>\n",
              "      <td>0</td>\n",
              "      <td>0</td>\n",
              "      <td>0</td>\n",
              "      <td>0</td>\n",
              "      <td>0</td>\n",
              "      <td>0</td>\n",
              "      <td>0</td>\n",
              "      <td>0</td>\n",
              "      <td>0</td>\n",
              "      <td>0</td>\n",
              "      <td>0</td>\n",
              "      <td>0</td>\n",
              "      <td>0</td>\n",
              "      <td>0</td>\n",
              "      <td>0</td>\n",
              "      <td>0</td>\n",
              "      <td>...</td>\n",
              "      <td>209347</td>\n",
              "      <td>209353</td>\n",
              "      <td>209396</td>\n",
              "      <td>209411</td>\n",
              "      <td>209431</td>\n",
              "      <td>209477</td>\n",
              "      <td>209505</td>\n",
              "      <td>209521</td>\n",
              "      <td>209536</td>\n",
              "      <td>209549</td>\n",
              "      <td>209571</td>\n",
              "      <td>209589</td>\n",
              "      <td>209610</td>\n",
              "      <td>209629</td>\n",
              "      <td>209634</td>\n",
              "      <td>209639</td>\n",
              "      <td>209648</td>\n",
              "      <td>209657</td>\n",
              "      <td>209672</td>\n",
              "      <td>209702</td>\n",
              "      <td>209722</td>\n",
              "      <td>209734</td>\n",
              "      <td>209739</td>\n",
              "      <td>209760</td>\n",
              "      <td>209781</td>\n",
              "      <td>209815</td>\n",
              "      <td>209852</td>\n",
              "      <td>209869</td>\n",
              "      <td>209902</td>\n",
              "      <td>209908</td>\n",
              "      <td>209918</td>\n",
              "      <td>209939</td>\n",
              "      <td>209953</td>\n",
              "      <td>209963</td>\n",
              "      <td>209971</td>\n",
              "      <td>209983</td>\n",
              "      <td>209996</td>\n",
              "      <td>210008</td>\n",
              "      <td>210020</td>\n",
              "      <td>210036</td>\n",
              "    </tr>\n",
              "    <tr>\n",
              "      <th>279</th>\n",
              "      <td>NaN</td>\n",
              "      <td>Zimbabwe</td>\n",
              "      <td>-19.015438</td>\n",
              "      <td>29.154857</td>\n",
              "      <td>0</td>\n",
              "      <td>0</td>\n",
              "      <td>0</td>\n",
              "      <td>0</td>\n",
              "      <td>0</td>\n",
              "      <td>0</td>\n",
              "      <td>0</td>\n",
              "      <td>0</td>\n",
              "      <td>0</td>\n",
              "      <td>0</td>\n",
              "      <td>0</td>\n",
              "      <td>0</td>\n",
              "      <td>0</td>\n",
              "      <td>0</td>\n",
              "      <td>0</td>\n",
              "      <td>0</td>\n",
              "      <td>0</td>\n",
              "      <td>0</td>\n",
              "      <td>0</td>\n",
              "      <td>0</td>\n",
              "      <td>0</td>\n",
              "      <td>0</td>\n",
              "      <td>0</td>\n",
              "      <td>0</td>\n",
              "      <td>0</td>\n",
              "      <td>0</td>\n",
              "      <td>0</td>\n",
              "      <td>0</td>\n",
              "      <td>0</td>\n",
              "      <td>0</td>\n",
              "      <td>0</td>\n",
              "      <td>0</td>\n",
              "      <td>0</td>\n",
              "      <td>0</td>\n",
              "      <td>0</td>\n",
              "      <td>0</td>\n",
              "      <td>...</td>\n",
              "      <td>131796</td>\n",
              "      <td>131875</td>\n",
              "      <td>132016</td>\n",
              "      <td>132108</td>\n",
              "      <td>132251</td>\n",
              "      <td>132285</td>\n",
              "      <td>132333</td>\n",
              "      <td>132368</td>\n",
              "      <td>132368</td>\n",
              "      <td>132405</td>\n",
              "      <td>132437</td>\n",
              "      <td>132540</td>\n",
              "      <td>132588</td>\n",
              "      <td>132588</td>\n",
              "      <td>132651</td>\n",
              "      <td>132688</td>\n",
              "      <td>132724</td>\n",
              "      <td>132808</td>\n",
              "      <td>132880</td>\n",
              "      <td>132926</td>\n",
              "      <td>132926</td>\n",
              "      <td>132977</td>\n",
              "      <td>133007</td>\n",
              "      <td>133047</td>\n",
              "      <td>133091</td>\n",
              "      <td>133112</td>\n",
              "      <td>133112</td>\n",
              "      <td>133168</td>\n",
              "      <td>133187</td>\n",
              "      <td>133205</td>\n",
              "      <td>133242</td>\n",
              "      <td>133302</td>\n",
              "      <td>133329</td>\n",
              "      <td>133329</td>\n",
              "      <td>133393</td>\n",
              "      <td>133428</td>\n",
              "      <td>133438</td>\n",
              "      <td>133505</td>\n",
              "      <td>133557</td>\n",
              "      <td>133593</td>\n",
              "    </tr>\n",
              "  </tbody>\n",
              "</table>\n",
              "<p>280 rows × 671 columns</p>\n",
              "</div>"
            ],
            "text/plain": [
              "    Province/State      Country/Region        Lat  ...  11/16/21  11/17/21  11/18/21\n",
              "0              NaN         Afghanistan  33.939110  ...    156649    156739    156739\n",
              "1              NaN             Albania  41.153300  ...    193856    194472    195021\n",
              "2              NaN             Algeria  28.033900  ...    208245    208380    208532\n",
              "3              NaN             Andorra  42.506300  ...     15929     15972     16035\n",
              "4              NaN              Angola -11.202700  ...     64940     64968     64985\n",
              "..             ...                 ...        ...  ...       ...       ...       ...\n",
              "275            NaN             Vietnam  14.058324  ...   1045397   1055246   1065469\n",
              "276            NaN  West Bank and Gaza  31.952200  ...    457390    457477    457729\n",
              "277            NaN               Yemen  15.552727  ...      9936      9947      9950\n",
              "278            NaN              Zambia -13.133897  ...    210008    210020    210036\n",
              "279            NaN            Zimbabwe -19.015438  ...    133505    133557    133593\n",
              "\n",
              "[280 rows x 671 columns]"
            ]
          },
          "metadata": {},
          "execution_count": 44
        }
      ]
    },
    {
      "cell_type": "code",
      "metadata": {
        "id": "orUFhJVrXTqS"
      },
      "source": [
        "#capturar serie Colombia contagios acumulados y nuevos casos\n",
        "ii = Xd[Xd.columns[1]] == 'Colombia'\n",
        "#print(np.where(ii)[0][0])\n",
        "#contagios  acumulados\n",
        "serie = np.array(Xd.iloc[np.where(ii)[0][0],4:])\n",
        "#numero contagiados por dia\n",
        "serie_d = np.append(0,np.diff(serie))\n"
      ],
      "execution_count": 45,
      "outputs": []
    },
    {
      "cell_type": "code",
      "metadata": {
        "id": "50ne6mAoXjFL",
        "outputId": "f0571007-7592-4a36-e869-a516cdf97f76",
        "colab": {
          "base_uri": "https://localhost:8080/",
          "height": 572
        }
      },
      "source": [
        "plt.plot(serie)\n",
        "plt.xlabel('día')\n",
        "plt.ylabel('total casos')\n",
        "plt.show()\n",
        "\n",
        "plt.plot(serie_d)\n",
        "plt.xlabel('día')\n",
        "plt.ylabel('total casos nuevos x día')\n",
        "plt.show()"
      ],
      "execution_count": 48,
      "outputs": [
        {
          "output_type": "display_data",
          "data": {
            "image/png": "[encoded data removed]",
            "text/plain": [
              "<Figure size 432x288 with 1 Axes>"
            ]
          },
          "metadata": {
            "needs_background": "light"
          }
        },
        {
          "output_type": "display_data",
          "data": {
            "image/png": "[encoded data removed]",
            "text/plain": [
              "<Figure size 432x288 with 1 Axes>"
            ]
          },
          "metadata": {
            "needs_background": "light"
          }
        }
      ]
    },
    {
      "cell_type": "code",
      "metadata": {
        "id": "hhkZzhlxXk8_"
      },
      "source": [
        "#Ayuda de código captura base de datos covid-19\n",
        "#descargar datos covid\n",
        "!pip install wget\n",
        "import wget\n",
        "import pandas as pd\n",
        "#datos covid19 - mundo\n",
        "url = \"https://data.humdata.org/hxlproxy/api/data-preview.csv?url=https%3A%2F%2Fraw.githubusercontent.com%2FCSSEGISandData%2FCOVID-19%2Fmaster%2Fcsse_covid_19_data%2Fcsse_covid_19_time_series%2Ftime_series_covid19_confirmed_global.csv&filename=time_series_covid19_confirmed_global.csv\"\n",
        "#datos Colombia\n",
        "#url = \"https://www.datos.gov.co/api/views/gt2j-8ykr/rows.csv?accessType=DOWNLOAD\"\n",
        "wget.download(url, 'covid.csv')\n",
        "Xd = pd.read_csv('covid.csv')\n",
        "Xd"
      ],
      "execution_count": null,
      "outputs": []
    },
    {
      "cell_type": "code",
      "metadata": {
        "id": "orUFhJVrXTqS"
      },
      "source": [
        "#capturar serie Colombia contagios acumulados y nuevos casos\n",
        "ii = Xd[Xd.columns[1]] == 'Colombia'\n",
        "#print(np.where(ii)[0][0])\n",
        "#contagios  acumulados\n",
        "serie = np.array(Xd.iloc[np.where(ii)[0][0],4:])\n",
        "#numero contagiados por dia\n",
        "serie_d = np.append(0,np.diff(serie))\n"
      ],
      "execution_count": null,
      "outputs": []
    },
    {
      "cell_type": "code",
      "metadata": {
        "id": "50ne6mAoXjFL"
      },
      "source": [
        "plt.plot(serie)\n",
        "plt.xlabel('día')\n",
        "plt.ylabel('total casos')\n",
        "plt.show()\n",
        "\n",
        "plt.plot(serie_d)\n",
        "plt.xlabel('día')\n",
        "plt.ylabel('total casos nuevos x día')\n",
        "plt.show()"
      ],
      "execution_count": null,
      "outputs": []
    },
    {
      "cell_type": "code",
      "metadata": {
        "id": "hhkZzhlxXk8_"
      },
      "source": [
        ""
      ],
      "execution_count": null,
      "outputs": []
    }
  ]
}