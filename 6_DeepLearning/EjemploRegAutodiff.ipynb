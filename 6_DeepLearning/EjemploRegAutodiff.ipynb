{
  "nbformat": 4,
  "nbformat_minor": 0,
  "metadata": {
    "colab": {
      "name": "EjemploRegAutodiff.ipynb",
      "provenance": [],
      "authorship_tag": "ABX9TyMLj16JKhUpByYgt4p5DZSR",
      "include_colab_link": true
    },
    "kernelspec": {
      "name": "python3",
      "display_name": "Python 3"
    }
  },
  "cells": [
    {
      "cell_type": "markdown",
      "metadata": {
        "id": "view-in-github",
        "colab_type": "text"
      },
      "source": [
        "<a href=\"https://colab.research.google.com/github/amalvarezme/AnaliticaDatos/blob/master/6_NN_DeepLearning/EjemploRegAutodiff.ipynb\" target=\"_parent\"><img src=\"https://colab.research.google.com/assets/colab-badge.svg\" alt=\"Open In Colab\"/></a>"
      ]
    },
    {
      "cell_type": "markdown",
      "metadata": {
        "id": "hfb2YJkVygsx",
        "colab_type": "text"
      },
      "source": [
        "# Solución problema lineal por gradiente simbólico en mini lotes\n",
        "\n",
        "$$\\hat{y}=f(X)=Xw$$\n",
        "\n",
        "$X\\in\\mathbb{R}^{N \\times P},$  $w\\in\\mathbb{R}^{2\\times 1},$ $y,\\hat{y}\\in\\mathbb{R}^{N\\times 1},$\n",
        "\n",
        "$$w^* = \\arg \\min_w \\mathbb{E}_{p(X,y)}\\{\\|Xw-y\\|^2_2\\}+\\lambda\\|w\\|^2_2$$\n",
        "\n",
        "$$\\nabla_w\\mathcal{L}(f(X|w),y)=2\\left(X^\\top\\left(Xw-y\\right)+\\lambda w\\right)$$\n",
        "\n",
        "## Solución analítica\n",
        "\n",
        "$w^* = \\left(X^\\top X+\\lambda I\\right)^{-1}X^\\top y$\n",
        "\n",
        "## Por gradiente descendiente\n",
        "\n",
        "$w_i = w_{i-1} - \\eta_i \\nabla_w\\mathcal{L}(f(X|w_{i-1}),y)$\n",
        "\n",
        "## Diferenciación automática (algorítmica) estima $\\nabla_w\\mathcal{L}(f(X|w_{i-1}),y)$"
      ]
    },
    {
      "cell_type": "code",
      "metadata": {
        "id": "a771dmq1C_Tv",
        "colab_type": "code",
        "colab": {
          "base_uri": "https://localhost:8080/",
          "height": 243
        },
        "outputId": "ab193732-925c-4bac-a7d9-b8bf4fb73c5f"
      },
      "source": [
        "import numpy as np\n",
        "import matplotlib.pyplot as plt\n",
        "N = 500\n",
        "x = np.linspace(-5,5,N)\n",
        "w1 = 2\n",
        "w0 = -1\n",
        "#y = w1*x + w0\n",
        "Xdata = np.c_[x.reshape(-1,1),np.ones((N,1))]\n",
        "w = np.array([w1,w0]).reshape(-1,1)\n",
        "y = Xdata.dot(w) # 500 x2  x 2  x 1\n",
        "print(Xdata.shape)\n",
        "var = 0.8\n",
        "noise = np.sqrt(var)*np.random.randn(N)\n",
        "yn = y + noise.reshape(-1,1)\n",
        "\n",
        "#training\n",
        "epochs = 50\n",
        "batch_size = 32\n",
        "lr = 1e-4  #hyperparametro learning rate\n",
        "we = np.random.randn(2).reshape(-1,1)  #\n",
        "loss = np.zeros((epochs))\n",
        "lamb = 1e-1 # hyperparametro regularizacion\n",
        "wM = np.zeros((epochs,len(we)))\n",
        " \n",
        "Niter = int(Xdata.shape[0]/batch_size) #N iter por epoch\n",
        "for epoch in range(epochs): #epochs\n",
        "  for i in range(1,Niter+1): #iterar por bathces en epoch\n",
        "    Xbatch = Xdata[(i-1)*batch_size:i*batch_size,:]\n",
        "    ynbatch = yn[(i-1)*batch_size:i*batch_size]\n",
        "    yebatch = (Xbatch.dot(we)).reshape(-1,1)\n",
        "    grad = (2*Xbatch.T).dot(yebatch-ynbatch) + 2*lamb*we# norma l2\n",
        "    we = we - lr*grad\n",
        "  loss[epoch] = np.linalg.norm(ynbatch-yebatch) + lamb*np.linalg.norm(we)\n",
        "  wM[epoch] = we.reshape(1,-1)\n",
        "    \n",
        "\n",
        "plt.figure(figsize=(10,6))\n",
        "\n",
        "plt.subplot(421)\n",
        "plt.plot(y, label = 'original')\n",
        "plt.plot(yn,label = 'ruidosa')\n",
        "plt.xlabel('entrada')\n",
        "plt.ylabel('salida')\n",
        "plt.legend()\n",
        "\n",
        "plt.subplot(422)\n",
        "plt.plot(np.arange(epochs),loss)\n",
        "plt.xlabel('epochs')\n",
        "plt.ylabel('costo')\n",
        "\n",
        "\n",
        "plt.subplot(423)\n",
        "plt.plot(y, label = 'original')\n",
        "ye = Xdata.dot(we)\n",
        "plt.plot(ye, label = 'estimado')\n",
        "plt.xlabel('entrada')\n",
        "plt.ylabel('salida')\n",
        "plt.legend()\n",
        "\n",
        "\n",
        "plt.subplot(424)\n",
        "plt.plot(wM[:,0],wM[:,1],'.' )\n",
        "plt.plot(w[0],w[1],'rd',label='ori_par' )\n",
        "plt.plot(we[0],we[1],'gx',label='est_par' )\n",
        "\n",
        "\n",
        "plt.xlabel('w1')\n",
        "plt.ylabel('w0')\n",
        "plt.legend()\n",
        "\n",
        "\n",
        "plt.subplots_adjust(wspace=0.2,hspace=0.6)\n",
        "plt.show()\n",
        "print(w.T,we.T)"
      ],
      "execution_count": 4,
      "outputs": [
        {
          "output_type": "stream",
          "text": [
            "(500, 2)\n"
          ],
          "name": "stdout"
        },
        {
          "output_type": "display_data",
          "data": {
            "image/png": "[encoded data removed]",
            "text/plain": [
              "<Figure size 720x432 with 4 Axes>"
            ]
          },
          "metadata": {
            "tags": [],
            "needs_background": "light"
          }
        },
        {
          "output_type": "stream",
          "text": [
            "[[ 2 -1]] [[ 2.01494255 -1.03552655]]\n"
          ],
          "name": "stdout"
        }
      ]
    },
    {
      "cell_type": "markdown",
      "metadata": {
        "id": "4KUqdkARyp9L",
        "colab_type": "text"
      },
      "source": [
        "# Solución problema lineal por gradiente automático (algorítmico)"
      ]
    },
    {
      "cell_type": "code",
      "metadata": {
        "id": "bLLwJI9N3_fR",
        "colab_type": "code",
        "colab": {
          "base_uri": "https://localhost:8080/",
          "height": 35
        },
        "outputId": "bd09df55-b083-432c-8a27-6481cde42229"
      },
      "source": [
        "import tensorflow as tf\n",
        "\n",
        "Xdata_tf = tf.convert_to_tensor(Xdata,dtype=tf.float32)\n",
        "yn_tf = tf.convert_to_tensor(yn,dtype=tf.float32)\n",
        "we_tf = tf.Variable(tf.random.normal((2, 1),dtype=tf.float32))\n",
        "Xdata_tf.shape"
      ],
      "execution_count": 5,
      "outputs": [
        {
          "output_type": "execute_result",
          "data": {
            "text/plain": [
              "TensorShape([500, 2])"
            ]
          },
          "metadata": {
            "tags": []
          },
          "execution_count": 5
        }
      ]
    },
    {
      "cell_type": "code",
      "metadata": {
        "id": "oquCJ5OV0CIe",
        "colab_type": "code",
        "colab": {}
      },
      "source": [
        "#funcion de perdida a derivar\n",
        "def l(w,X,y,lam=1e-3):\n",
        "    e = y-tf.linalg.matmul(X,w)\n",
        "    return tf.linalg.matmul(e,e,transpose_a=True)+  lam*tf.linalg.matmul(we_tf,we_tf,transpose_a=True)"
      ],
      "execution_count": 6,
      "outputs": []
    },
    {
      "cell_type": "code",
      "metadata": {
        "id": "fCq10wC11_Yn",
        "colab_type": "code",
        "colab": {
          "base_uri": "https://localhost:8080/",
          "height": 35
        },
        "outputId": "63552b92-44c3-4e7c-f737-092bb373f744"
      },
      "source": [
        "z=l(we_tf,Xdata_tf,yn_tf)\n",
        "print('Costo=',z.numpy()[0])\n"
      ],
      "execution_count": 7,
      "outputs": [
        {
          "output_type": "stream",
          "text": [
            "Costo= [992.15344]\n"
          ],
          "name": "stdout"
        }
      ]
    },
    {
      "cell_type": "code",
      "metadata": {
        "id": "IM2CzbR6Fmbz",
        "colab_type": "code",
        "colab": {
          "base_uri": "https://localhost:8080/",
          "height": 121
        },
        "outputId": "3322c61e-ba03-43a2-bd2c-db2c9485f149"
      },
      "source": [
        "#calculo gradient con autodiff\n",
        "lr = tf.constant(1e-4,dtype=tf.float32)\n",
        "with tf.GradientTape() as tape: #crear contexto gradient tape para guardar cada operacion que envuelve una variable\n",
        "    z=l(we_tf,Xdata_tf,yn_tf) #funcion de perdida (loss) para salvar memoria colocar la menor cantidad de codigo en el tape\n",
        "gradients = tape.gradient(z,[we_tf]) # tape calcula  los gradientes del resultado z con respecto a [w1,w2]\n",
        "print('gradi=',gradients[0].numpy()) #gradient tape hace los calculos una sola vez de forma inversa sin importar la cantidad de variables\n",
        "print('wi=',we_tf.numpy())\n",
        "we_tf.assign_sub(lr*gradients[0])\n",
        "#we_tf -= lr*gradients[0]#tf.Variable(we_tf - lr*gradients[0],dtype=tf.float32)\n",
        "print('wi-lr*gwi=',we_tf.numpy())"
      ],
      "execution_count": 8,
      "outputs": [
        {
          "output_type": "stream",
          "text": [
            "gradi= [[-1194.3259 ]\n",
            " [  967.36127]]\n",
            "wi= [[ 1.8687546 ]\n",
            " [-0.07602023]]\n",
            "wi-lr*gwi= [[ 1.9881872 ]\n",
            " [-0.17275636]]\n"
          ],
          "name": "stdout"
        }
      ]
    },
    {
      "cell_type": "markdown",
      "metadata": {
        "id": "QQRzE5nkFO3D",
        "colab_type": "text"
      },
      "source": [
        "# Ejemplo ilustrativo ciclo por lotes en keras y tf2"
      ]
    },
    {
      "cell_type": "code",
      "metadata": {
        "id": "ec4eTrnOEYwF",
        "colab_type": "code",
        "colab": {
          "base_uri": "https://localhost:8080/",
          "height": 243
        },
        "outputId": "46d4e3fd-05ac-4536-d447-8ae3a654c876"
      },
      "source": [
        "N = 500\n",
        "x = np.linspace(-5,5,N)\n",
        "w1 = 2\n",
        "w0 = -1\n",
        "#y = w1*x + w0\n",
        "Xdata = np.c_[x.reshape(-1,1),np.ones((N,1))]\n",
        "w = np.array([w1,w0]).reshape(-1,1)\n",
        "y = Xdata.dot(w) # 500 x2  x 2  x 1\n",
        "print(Xdata.shape)\n",
        "var = 0.8\n",
        "noise = np.sqrt(var)*np.random.randn(N)\n",
        "yn = y + noise.reshape(-1,1)\n",
        "\n",
        "#pasar datos a tensores\n",
        "Xdata_tf = tf.convert_to_tensor(Xdata,dtype=tf.float32)\n",
        "yn_tf = tf.convert_to_tensor(yn,dtype=tf.float32)\n",
        "we_tf = tf.Variable(tf.random.normal((2, 1),dtype=tf.float32))\n",
        "lr = tf.constant(1e-4,dtype=tf.float32) #learning rate\n",
        "lamb = tf.constant(1e-3,dtype=tf.float32) # hyperparametro regularizacion\n",
        "\n",
        "#training\n",
        "epochs = 50\n",
        "batch_size = 32\n",
        "loss = np.zeros((epochs))\n",
        "wM = np.zeros((epochs,len(we)))\n",
        " \n",
        "Niter = int(Xdata.shape[0]/batch_size) #N iter por epoch\n",
        "for epoch in range(epochs): #epochs\n",
        "  for i in range(1,Niter+1): #iterar por bathces en epoch\n",
        "    Xbatch = Xdata[(i-1)*batch_size:i*batch_size,:]\n",
        "    Xbatch_tf = tf.convert_to_tensor(Xbatch,dtype=tf.float32)\n",
        "    ynbatch = yn[(i-1)*batch_size:i*batch_size]\n",
        "    ynbatch_tf = tf.convert_to_tensor(ynbatch,dtype=tf.float32)\n",
        "    with tf.GradientTape() as tape: #crear contexto gradient tape para guardar cada operacion que envuelve una variable\n",
        "          z=l(we_tf,Xbatch_tf,ynbatch_tf) #funcion de perdida (loss) para salvar memoria colocar la menor cantidad de codigo en el tape\n",
        "    gradients = tape.gradient(z,[we_tf]) # tape calcula  los gradientes del resultado z con respecto a [w1,w2]\n",
        "    we_tf.assign_sub(lr*gradients[0])\n",
        "    #we_tf = tf.Variable(we_tf - lr*gradients[0],dtype=tf.float32)\n",
        "  wM[epoch] = we_tf.numpy().reshape(1,-1)\n",
        "  loss[epoch] = z\n",
        "  \n",
        "we = we_tf.numpy()    \n",
        "\n",
        "plt.figure(figsize=(10,6))\n",
        "\n",
        "plt.subplot(421)\n",
        "plt.plot(y, label = 'original')\n",
        "plt.plot(yn,label = 'ruidosa')\n",
        "plt.xlabel('entrada')\n",
        "plt.ylabel('salida')\n",
        "plt.legend()\n",
        "\n",
        "plt.subplot(422)\n",
        "plt.plot(np.arange(epochs),loss)\n",
        "plt.xlabel('epochs')\n",
        "plt.ylabel('costo')\n",
        "\n",
        "\n",
        "plt.subplot(423)\n",
        "plt.plot(y, label = 'original')\n",
        "ye = Xdata.dot(we)\n",
        "plt.plot(ye, label = 'estimado')\n",
        "plt.xlabel('entrada')\n",
        "plt.ylabel('salida')\n",
        "plt.legend()\n",
        "\n",
        "\n",
        "plt.subplot(424)\n",
        "plt.plot(wM[:,0],wM[:,1],'.' )\n",
        "plt.plot(w[0],w[1],'rd',label='ori_par' )\n",
        "plt.plot(we[0],we[1],'gx',label='est_par' )\n",
        "\n",
        "\n",
        "plt.xlabel('w1')\n",
        "plt.ylabel('w0')\n",
        "plt.legend()\n",
        "\n",
        "\n",
        "plt.subplots_adjust(wspace=0.2,hspace=0.6)\n",
        "plt.show()\n",
        "print(w.T,we.T)"
      ],
      "execution_count": 9,
      "outputs": [
        {
          "output_type": "stream",
          "text": [
            "(500, 2)\n"
          ],
          "name": "stdout"
        },
        {
          "output_type": "display_data",
          "data": {
            "image/png": "[encoded data removed]",
            "text/plain": [
              "<Figure size 720x432 with 4 Axes>"
            ]
          },
          "metadata": {
            "tags": [],
            "needs_background": "light"
          }
        },
        {
          "output_type": "stream",
          "text": [
            "[[ 2 -1]] [[ 1.9808209 -1.0008334]]\n"
          ],
          "name": "stdout"
        }
      ]
    },
    {
      "cell_type": "code",
      "metadata": {
        "id": "kiO1dRUJNra5",
        "colab_type": "code",
        "colab": {}
      },
      "source": [
        ""
      ],
      "execution_count": null,
      "outputs": []
    }
  ]
}