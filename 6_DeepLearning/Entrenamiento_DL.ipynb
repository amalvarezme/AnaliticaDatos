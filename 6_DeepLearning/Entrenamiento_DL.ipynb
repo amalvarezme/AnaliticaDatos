{
  "nbformat": 4,
  "nbformat_minor": 0,
  "metadata": {
    "accelerator": "GPU",
    "colab": {
      "name": "Entrenamiento_DL.ipynb",
      "provenance": [],
      "collapsed_sections": [
        "21SH-G2pFe6d",
        "w35hOCXTFe6e",
        "QwP2LvgTFe6e",
        "lEBGpsAXFe6e",
        "rRDGx6JGFe6f",
        "YdEnwi1NFe6f",
        "i5M2aajmFe6f",
        "xHugu8RWFe6f",
        "lMsfCSYlFe6g"
      ],
      "include_colab_link": true
    },
    "kernelspec": {
      "display_name": "Python 3",
      "language": "python",
      "name": "python3"
    },
    "language_info": {
      "codemirror_mode": {
        "name": "ipython",
        "version": 3
      },
      "file_extension": ".py",
      "mimetype": "text/x-python",
      "name": "python",
      "nbconvert_exporter": "python",
      "pygments_lexer": "ipython3",
      "version": "3.7.6"
    },
    "nav_menu": {
      "height": "360px",
      "width": "416px"
    },
    "toc": {
      "navigate_menu": true,
      "number_sections": true,
      "sideBar": true,
      "threshold": 6,
      "toc_cell": false,
      "toc_section_display": "block",
      "toc_window_display": false
    }
  },
  "cells": [
    {
      "cell_type": "markdown",
      "metadata": {
        "id": "view-in-github",
        "colab_type": "text"
      },
      "source": [
        "<a href=\"https://colab.research.google.com/github/amalvarezme/AnaliticaDatos/blob/master/6_NN_DeepLearning/Entrenamiento_DL.ipynb\" target=\"_parent\"><img src=\"https://colab.research.google.com/assets/colab-badge.svg\" alt=\"Open In Colab\"/></a>"
      ]
    },
    {
      "cell_type": "markdown",
      "metadata": {
        "id": "KzSFjpTW0jVY"
      },
      "source": [
        "# Regresión lineal por gradiente descendiente\n",
        "\n",
        "$$w^* = \\arg \\min_w J(w)=\\|y-Xw\\|^2_2$$\n",
        "\n",
        "$$\\nabla_w J(w) = \\frac{2}{N}\\left(X^\\top\\left(X w - y\\right)\\right) $$\n",
        "\n",
        "$$w^t = w^{t-1} - \\eta_t \\nabla_w J(w)$$\n",
        "\n",
        "NOTA: $\\nabla_w J(w)$ se puede estimar con autodiff\n",
        "\n"
      ]
    },
    {
      "cell_type": "code",
      "metadata": {
        "colab": {
          "base_uri": "https://localhost:8080/",
          "height": 421
        },
        "id": "ZRfPu8rs0ok4",
        "outputId": "066daada-b981-449b-ae45-23ac0eabb68f"
      },
      "source": [
        "import numpy as np\n",
        "import matplotlib.pyplot as plt\n",
        "\n",
        "theta_o = np.array([4,3]) # parametros verdaderos\n",
        "#simular datos\n",
        "var = 0.01\n",
        "np.random.seed(10)\n",
        "X = np.random.rand(100, 1)\n",
        "y = theta_o[0] + theta_o[1] * X + np.sqrt(var) *np.random.randn(100, 1)\n",
        "\n",
        "X_b = np.c_[np.ones((100, 1)), X]  # añadir nivel dc modelo matricial\n",
        "theta_inv = np.linalg.inv(X_b.T.dot(X_b)).dot(X_b.T).dot(y) # solución analítica por inversa\n",
        "\n",
        "theta_list = []\n",
        "cost_list = []\n",
        "eta = 0.1 #learning rate\n",
        "n_epochs = 1000\n",
        "theta = np.random.randn(2,1) # punto inicial de la solución\n",
        "for iteration in range(n_epochs):\n",
        "    gradients = (2/X_b.shape[0])*X_b.T.dot(X_b.dot(theta) - y)\n",
        "    theta = theta - eta * gradients\n",
        "    theta_list.append(theta)\n",
        "    cost_list.append(np.linalg.norm(y-X_b.dot(theta))**2)\n",
        "print('theta_o: \\n',theta_o)\n",
        "print('theta_inv: \\n',theta_inv)\n",
        "print('theta_gd: \\n',theta)\n",
        "plt.subplot(121)\n",
        "plt.scatter(X_b[:,1],y,label='datos')\n",
        "plt.plot(X_b[:,1],X_b.dot(theta_o),label='original',c='r')\n",
        "plt.xlabel('atributo 1')\n",
        "plt.ylabel('atributo 2')\n",
        "plt.legend()\n",
        "\n",
        "plt.subplot(122)\n",
        "plt.plot(np.array(theta_list)[:,0],np.array(cost_list),'.-',label='grad. des.')\n",
        "plt.scatter(theta_o[0],0,marker='d',s=40,c='r',label='ideal')\n",
        "plt.legend()\n",
        "plt.xlabel('w[0]')\n",
        "plt.ylabel('Costo(w[0])')\n",
        "plt.subplots_adjust(hspace=0.5,wspace=0.5)\n",
        "plt.show()"
      ],
      "execution_count": 1,
      "outputs": [
        {
          "output_type": "stream",
          "text": [
            "theta_o: \n",
            " [4 3]\n",
            "theta_inv: \n",
            " [[4.02496358]\n",
            " [2.96348022]]\n",
            "theta_gd: \n",
            " [[4.02496629]\n",
            " [2.96347497]]\n"
          ],
          "name": "stdout"
        },
        {
          "output_type": "display_data",
          "data": {
            "image/png": "[encoded data removed]",
            "text/plain": [
              "<Figure size 432x288 with 2 Axes>"
            ]
          },
          "metadata": {
            "needs_background": "light"
          }
        }
      ]
    },
    {
      "cell_type": "markdown",
      "metadata": {
        "id": "OyFcIn5o-ZZ6"
      },
      "source": [
        "# Gradiente descendiente por lote, por mini-lotes y estocástico\n",
        "\n",
        "* El gradiente descendiente por lote (batch) utiliza TODAS las instancias disponibles para actualizar $\\nabla_w J(w)$ en cada epoca.\n",
        "\n",
        "* El gradiente descendiente por mini-lotes (mini-batch) utiliza UN SUBCONJUNTO aleatorio de muestras de tamaño fijo (batch-size) para actualizar $\\nabla_w J(w)$.\n",
        "\n",
        "* El gradiente descendiente estocástico utiliza UNA MUESTRA aleatoria para actualizar $\\nabla_w J(w)$.\n",
        "\n",
        "NOTA: Una epoca en grandiente por mini-lotes y gradiente estocástico corresponde al recorrido aleatorio de todo el conjunto de datos, es decir, el número total de iteraciones corresponderá a:\n",
        "\n",
        "$$TotalIter= \\#epochs \\frac{N}{BatchSize}$$\n",
        " "
      ]
    },
    {
      "cell_type": "code",
      "metadata": {
        "colab": {
          "base_uri": "https://localhost:8080/",
          "height": 452
        },
        "id": "deuDij2G4tGR",
        "outputId": "d4893fe9-4cce-42b1-c3ef-4301613e2b0a"
      },
      "source": [
        "np.random.seed(42) # fijar semilla para ejemplo ilustrativo\n",
        "\n",
        "theta_path_bgd = []\n",
        "theta_path_mgd = []\n",
        "theta_path_sgd = []\n",
        "\n",
        "n_epochs = 50 # número de epochs\n",
        "batch_size = 32 # se sugiere colocar en 32,64,128,256\n",
        "theta_s = np.random.randn(2,1)  # inicialización aleatoria - solución estocástico\n",
        "theta_m = theta_s # solución mini lotes\n",
        "theta_b = theta_s # solución por lote\n",
        "\n",
        "\n",
        "theta_path_bgd.append(theta_b)\n",
        "theta_path_mgd.append(theta_m)\n",
        "theta_path_sgd.append(theta_s)\n",
        "\n",
        "#decaimiento del learning rate para asegurar estabilidad cerca al mínimo \n",
        "# más iteraciones menos learning rate !\n",
        "t0, t1 = 200, 1000\n",
        "def learning_schedule(t):\n",
        "    return t0 / (t + t1)\n",
        "\n",
        "# sgd\n",
        "N = X_b.shape[0]\n",
        "for epoch in range(n_epochs): #n epochs\n",
        "    for i in range(N):  # recorrer datos\n",
        "        random_index = np.random.randint(N)  # escoger muestra aleatoria\n",
        "        xi = X_b[random_index:random_index+1]\n",
        "        yi = y[random_index:random_index+1]\n",
        "        gradients = 2 * xi.T.dot(xi.dot(theta_s) - yi) #actualizar gradiente\n",
        "        eta = learning_schedule(epoch * N + i) #actualizar learning rate\n",
        "        theta_s = theta_s - eta * gradients #actualizar gradiente\n",
        "        theta_path_sgd.append(theta_s)    \n",
        "\n",
        "# mini_batch\n",
        "t = 0\n",
        "for epoch in range(n_epochs):\n",
        "    shuffled_indices = np.random.permutation(N) #reorganizar muestras de forma aleatoria para nueva epoch\n",
        "    X_b_shuffled = X_b[shuffled_indices]\n",
        "    y_shuffled = y[shuffled_indices]\n",
        "    for i in range(0, N, batch_size): #recorrer datos por mini lotes\n",
        "        t += 1 #conteo iteraciones totales\n",
        "        xi = X_b_shuffled[i:i+batch_size]\n",
        "        yi = y_shuffled[i:i+batch_size]\n",
        "        gradients = 2/batch_size * xi.T.dot(xi.dot(theta_m) - yi)\n",
        "        eta = learning_schedule(t)\n",
        "        theta_m = theta_m - eta * gradients\n",
        "        theta_path_mgd.append(theta_m)\n",
        "\n",
        "#batch\n",
        "for i in range(n_epochs):\n",
        "    gradients = (2/X_b.shape[0])*X_b.T.dot(X_b.dot(theta_b) - y)\n",
        "    theta_b = theta_b - eta * gradients\n",
        "    theta_path_bgd.append(theta_b)  \n",
        "\n",
        "#graficar convergencia en  2D\n",
        "theta_path_bgd = np.array(theta_path_bgd)\n",
        "theta_path_sgd = np.array(theta_path_sgd)\n",
        "theta_path_mgd = np.array(theta_path_mgd)\n",
        "\n",
        "\n",
        "plt.figure(figsize=(7,4))\n",
        "plt.plot(theta_path_sgd[:, 0], theta_path_sgd[:, 1], \"r-s\", linewidth=1, label=\"Stochastic\")\n",
        "plt.plot(theta_path_mgd[:, 0], theta_path_mgd[:, 1], \"g-+\", linewidth=2, label=\"Mini-batch\")\n",
        "plt.plot(theta_path_bgd[:, 0], theta_path_bgd[:, 1], \"b-o\", linewidth=3, label=\"Batch\")\n",
        "plt.scatter(theta_o[0],theta_o[1],marker='d',s=100)\n",
        "plt.legend(loc=\"upper left\", fontsize=16)\n",
        "plt.xlabel(r\"$\\theta_0$\", fontsize=20)\n",
        "plt.ylabel(r\"$\\theta_1$   \", fontsize=20, rotation=0)\n",
        "#plt.axis([2.5, 4.5, 2.3, 3.9])\n",
        "plt.show()\n",
        "print('theta_s\\n',theta_s)\n",
        "print('theta_m\\n',theta_m)\n",
        "print('theta_b\\n',theta_b)"
      ],
      "execution_count": 2,
      "outputs": [
        {
          "output_type": "display_data",
          "data": {
            "image/png": "[encoded data removed]",
            "text/plain": [
              "<Figure size 504x288 with 1 Axes>"
            ]
          },
          "metadata": {
            "needs_background": "light"
          }
        },
        {
          "output_type": "stream",
          "text": [
            "theta_s\n",
            " [[4.03577999]\n",
            " [2.98951515]]\n",
            "theta_m\n",
            " [[4.03873909]\n",
            " [2.93560478]]\n",
            "theta_b\n",
            " [[4.21344461]\n",
            " [2.59861593]]\n"
          ],
          "name": "stdout"
        }
      ]
    },
    {
      "cell_type": "markdown",
      "metadata": {
        "id": "ELWZASQ_6TFX"
      },
      "source": [
        "Bajo un buen manejo del optimizador, las tres estrategias convergen a puntos parecidos"
      ]
    },
    {
      "cell_type": "markdown",
      "metadata": {
        "id": "dUQAKZqfbHbW"
      },
      "source": [
        "# Curvas de aprendizaje - sobreajuste y subajuste\n",
        "\n"
      ]
    },
    {
      "cell_type": "code",
      "metadata": {
        "colab": {
          "base_uri": "https://localhost:8080/",
          "height": 291
        },
        "id": "5-pW8n4zbayi",
        "outputId": "8fce2c6d-20df-409d-8114-530d1b8fa14b"
      },
      "source": [
        "from sklearn.preprocessing import StandardScaler, PolynomialFeatures\n",
        "from sklearn.linear_model import LinearRegression\n",
        "from sklearn.pipeline import Pipeline\n",
        "\n",
        "\n",
        "#datos de prueba\n",
        "np.random.seed(40)\n",
        "m = 100\n",
        "X = 6 * np.random.rand(m, 1) - 3\n",
        "y = 0.5 * X**2 + X + 2 + np.random.randn(m, 1)\n",
        "\n",
        "#representación polinomial\n",
        "poly_features = PolynomialFeatures(degree=2, include_bias=False)\n",
        "X_poly = poly_features.fit_transform(X)\n",
        "\n",
        "X_new=np.linspace(-3, 3, 100).reshape(100, 1)\n",
        "X_new_poly = poly_features.transform(X_new)\n",
        "\n",
        "#regresor lineal sobre mapeo no lineal\n",
        "lin_reg = LinearRegression()\n",
        "lin_reg.fit(X_poly, y)\n",
        "\n",
        "y_new = lin_reg.predict(X_new_poly)\n",
        "\n",
        "\n",
        "\n",
        "labels = ['_sobreajuste','_ideal','_subajuste']\n",
        "ii = 0\n",
        "for style, width, degree in ((\"g-\", 1, 300), (\"b--\", 2, 2), (\"r-+\", 2, 1)):\n",
        "    polybig_features = PolynomialFeatures(degree=degree, include_bias=False)\n",
        "    std_scaler = StandardScaler()\n",
        "    lin_reg = LinearRegression()\n",
        "    polynomial_regression = Pipeline([\n",
        "            (\"poly_features\", polybig_features),\n",
        "            (\"std_scaler\", std_scaler),\n",
        "            (\"lin_reg\", lin_reg),\n",
        "        ])\n",
        "    polynomial_regression.fit(X, y)\n",
        "    y_newbig = polynomial_regression.predict(X_new)\n",
        "    plt.plot(X_new, y_newbig, style, label=str(degree)+labels[ii], linewidth=width)\n",
        "    ii+=1\n",
        "\n",
        "plt.plot(X, y, \"b.\", linewidth=3)\n",
        "plt.legend(loc=\"upper left\")\n",
        "plt.xlabel(\"$x_1$\", fontsize=18)\n",
        "plt.ylabel(\"$y$\", rotation=0, fontsize=18)\n",
        "plt.axis([-3, 3, 0, 10])\n",
        "\n",
        "plt.show()"
      ],
      "execution_count": 3,
      "outputs": [
        {
          "output_type": "display_data",
          "data": {
            "image/png": "[encoded data removed]",
            "text/plain": [
              "<Figure size 432x288 with 1 Axes>"
            ]
          },
          "metadata": {
            "needs_background": "light"
          }
        }
      ]
    },
    {
      "cell_type": "code",
      "metadata": {
        "colab": {
          "base_uri": "https://localhost:8080/",
          "height": 287
        },
        "id": "jfm0SDmakOf0",
        "outputId": "b20de66e-87f0-4dd5-92ce-4c1f06290c05"
      },
      "source": [
        "from sklearn.metrics import mean_squared_error\n",
        "from sklearn.model_selection import train_test_split\n",
        "\n",
        "np.random.seed(40)\n",
        "m = 100\n",
        "X = 6 * np.random.rand(m, 1) - 3\n",
        "y = 0.5 * X**2 + X + 2 + np.random.randn(m, 1)\n",
        "\n",
        "#curvas de aprendizaje\n",
        "def plot_learning_curves(model, X, y):\n",
        "    X_train, X_val, y_train, y_val = train_test_split(X, y, test_size=0.2, random_state=30)\n",
        "    train_errors, val_errors = [], []\n",
        "    for m in range(1, len(X_train)):\n",
        "        model.fit(X_train[:m], y_train[:m])\n",
        "        y_train_predict = model.predict(X_train[:m])\n",
        "        y_val_predict = model.predict(X_val)\n",
        "        train_errors.append(mean_squared_error(y_train[:m], y_train_predict))\n",
        "        val_errors.append(mean_squared_error(y_val, y_val_predict))\n",
        "\n",
        "    plt.plot(np.sqrt(train_errors), \"r-+\", linewidth=2, label=\"train\")\n",
        "    plt.plot(np.sqrt(val_errors), \"b-\", linewidth=3, label=\"val\")\n",
        "    plt.legend(loc=\"upper right\", fontsize=14)  \n",
        "    plt.xlabel(\"Training set size\", fontsize=14)\n",
        "    plt.ylabel(\"RMSE\", fontsize=14)             \n",
        "\n",
        "lin_reg = LinearRegression()\n",
        "plot_learning_curves(lin_reg, X, y)\n",
        "plt.axis([0, 80, 0, 3])                         \n",
        "plt.show()                                      "
      ],
      "execution_count": 4,
      "outputs": [
        {
          "output_type": "display_data",
          "data": {
            "image/png": "[encoded data removed]",
            "text/plain": [
              "<Figure size 432x288 with 1 Axes>"
            ]
          },
          "metadata": {
            "needs_background": "light"
          }
        }
      ]
    },
    {
      "cell_type": "markdown",
      "metadata": {
        "id": "15WsDXYemjRO"
      },
      "source": [
        "### **Modelo sub-entrenado** - más datos de entrenamiento no mejoran la generalización-se requiere un modelo más complejo o mejores características"
      ]
    },
    {
      "cell_type": "code",
      "metadata": {
        "colab": {
          "base_uri": "https://localhost:8080/",
          "height": 287
        },
        "id": "wCf3GXSYmoU5",
        "outputId": "98dd98cb-d594-4280-e8d7-f14fee0a8ea1"
      },
      "source": [
        "from sklearn.pipeline import Pipeline\n",
        "\n",
        "polynomial_regression = Pipeline([\n",
        "        (\"poly_features\", PolynomialFeatures(degree=10, include_bias=False)),\n",
        "        (\"lin_reg\", LinearRegression()),\n",
        "    ])\n",
        "\n",
        "plot_learning_curves(polynomial_regression, X, y)\n",
        "plt.axis([0, 80, 0, 3])         \n",
        "plt.show()                        "
      ],
      "execution_count": 5,
      "outputs": [
        {
          "output_type": "display_data",
          "data": {
            "image/png": "[encoded data removed]",
            "text/plain": [
              "<Figure size 432x288 with 1 Axes>"
            ]
          },
          "metadata": {
            "needs_background": "light"
          }
        }
      ]
    },
    {
      "cell_type": "markdown",
      "metadata": {
        "id": "O1AyPRbBkoh9"
      },
      "source": [
        "### **Modelo sobre entrenado** - se debe agregar más datos de entrenamiento para que el error de validación mejore o simplificar (regularizar) el modelo"
      ]
    },
    {
      "cell_type": "markdown",
      "metadata": {
        "id": "8HwikkljmJE_"
      },
      "source": [
        "### El balance entre sesgo y varianza\n",
        "\n",
        "El error de generalización de un modelo puede ser expresado como la suma de tres errores diferentes:\n",
        "#### Sesgo\n",
        "Suposiciones erradas, ej: suponer datos lineales cuando en realidad son polinomiales. Un sesgo alto tiende a sub ajustar los datos de entrenamiento.\n",
        "\n",
        "#### Varianza\n",
        "Debido a la sensibilidad excesiva del modelo ante pequeñas variaciones en los datos de entrenamiento. Un modelo con muchos grados de libertad, tiende a generar alta varianza, y por  ende sobre entrenar los datos de entrenamiento.\n",
        "\n",
        "#### Error irreducible\n",
        "Debido al ruido de los datos. Solución: limpieza de datos, ajustar fuentes de captura, remover atípicos. \n",
        "\n",
        "Modelos más complejos incrementan la varianza y reducen el sesgo. Modelos más simples incrementan el sesgo pero reducen la varainza (se requiere de un balance)."
      ]
    },
    {
      "cell_type": "markdown",
      "metadata": {
        "id": "5BR9FcccFe6V"
      },
      "source": [
        "# Inicializadores, normalización por lotes, optimizadores y regularizadores en Deep Learning"
      ]
    },
    {
      "cell_type": "code",
      "metadata": {
        "id": "QtCFh9CZFe6W"
      },
      "source": [
        "# Python ≥3.5 is required\n",
        "import sys\n",
        "\n",
        "# Scikit-Learn ≥0.20 is required\n",
        "import sklearn\n",
        "\n",
        "# TensorFlow ≥2.0 is required\n",
        "import tensorflow as tf\n",
        "from tensorflow import keras\n",
        "\n",
        "\n",
        "# Common imports\n",
        "import numpy as np\n",
        "import os\n",
        "\n",
        "# to make this notebook's output stable across runs\n",
        "np.random.seed(42)\n",
        "\n",
        "# To plot pretty figures\n",
        "%matplotlib inline\n",
        "import matplotlib as mpl\n",
        "import matplotlib.pyplot as plt\n",
        "mpl.rc('axes', labelsize=14)\n",
        "mpl.rc('xtick', labelsize=12)\n",
        "mpl.rc('ytick', labelsize=12)\n",
        "\n"
      ],
      "execution_count": 6,
      "outputs": []
    },
    {
      "cell_type": "markdown",
      "metadata": {
        "id": "LLwf2genFe6W"
      },
      "source": [
        "# Vanishing/Exploding Gradients Problem\n",
        "\n",
        "# Desvanecimiento/no convergencia del gradiente\n",
        "\n",
        "- En el backpropagation el gradiente de las capas iniciales no cambia (vanishing)\n",
        "\n",
        "- En el backpropagation el gradiente se dispara\n",
        "\n",
        "- En DL se generan gradientes inestables, diferentes capas aprenden a velocidades muy distintas!\n",
        "\n",
        "- Posibles causas: incializacion tipo $\\mathcal{N}(0,1)$ y activación logística, generan que las varianzas de las salidas de las capas sean más grandes que las varianzas de las entradas de las mismas. La sigmoide tiene problemas por saturación además del nivel dc 0.5\n",
        "\n",
        "- Xavier Glorot y Yoshua Bengio demostraron dichas evidencias en 2010 [Paper](http://proceedings.mlr.press/v9/glorot10a/glorot10a.pdf?source=post_page---------------------------)"
      ]
    },
    {
      "cell_type": "code",
      "metadata": {
        "id": "mH-zkMJyFe6W"
      },
      "source": [
        "def logit(z): #funcion sigmoid\n",
        "    return 1 / (1 + np.exp(-z))"
      ],
      "execution_count": 7,
      "outputs": []
    },
    {
      "cell_type": "code",
      "metadata": {
        "colab": {
          "base_uri": "https://localhost:8080/",
          "height": 285
        },
        "id": "3f0FDSnCFe6W",
        "outputId": "16d765d0-02b3-4977-ce6e-8c3333d22212"
      },
      "source": [
        "z = np.linspace(-5, 5, 200)\n",
        "\n",
        "plt.plot([-5, 5], [0, 0], 'k-')\n",
        "plt.plot([-5, 5], [1, 1], 'k--')\n",
        "plt.plot([0, 0], [-0.2, 1.2], 'k-')\n",
        "plt.plot([-5, 5], [-3/4, 7/4], 'g--')\n",
        "plt.plot(z, logit(z), \"b-\", linewidth=2)\n",
        "props = dict(facecolor='black', shrink=0.1)\n",
        "plt.annotate('Saturating', xytext=(3.5, 0.7), xy=(5, 1), arrowprops=props, fontsize=14, ha=\"center\")\n",
        "plt.annotate('Saturating', xytext=(-3.5, 0.3), xy=(-5, 0), arrowprops=props, fontsize=14, ha=\"center\")\n",
        "plt.annotate('Linear', xytext=(2, 0.2), xy=(0, 0.5), arrowprops=props, fontsize=14, ha=\"center\")\n",
        "plt.grid(True)\n",
        "plt.title(\"Sigmoid activation function\", fontsize=14)\n",
        "plt.axis([-5, 5, -0.2, 1.2])\n",
        "\n",
        "plt.show()"
      ],
      "execution_count": 8,
      "outputs": [
        {
          "output_type": "display_data",
          "data": {
            "image/png": "[encoded data removed]",
            "text/plain": [
              "<Figure size 432x288 with 1 Axes>"
            ]
          },
          "metadata": {
            "needs_background": "light"
          }
        }
      ]
    },
    {
      "cell_type": "markdown",
      "metadata": {
        "id": "Uks6xICaFe6X"
      },
      "source": [
        "## Inicializadores Xavier (Glorot) y He \n",
        "\n",
        "*   Se busca que la información fluya de forma estable en ambas direcciones: forward y backward\n",
        "*   No la información no deberia ni morir (vanishing) ni explotar o saturarse.\n",
        "\n",
        "* Clave: la varianza de las salidas de las capas se iguala a la varianza de las entradas de las capas. Además, se espera que el gradiente fluya con igual varianza antes y después de fluir por una capa.\n",
        "\n",
        "* Dado que no es posible mantenar las claves anteriores por la variabilidad en el número de neuronas y entradas en una capa (fan-in fan-out de la capa), Glorot y Bengio proponen un modelo que mantiene un buen compromiso (inicialmente definido para activaciones sigmoid):\n",
        "\n",
        "$$ w_0 \\sim \\mathcal{N}\\left(0,1/fan_{avg}\\right)$$ \n",
        "o\n",
        "$$ w_0 \\sim \\mathcal{U}\\left(-\\sqrt{3/fan_{avg}},+\\sqrt{3/fan_{avg}}\\right)$$ \n",
        "\n",
        "donde $fan_{avg}= (fan_{in}+fan_{out})/2$\n",
        "\n",
        "* Cuando $fan_{avg}=fan_{in}$ se obtiene el inicializador de Yann LeCun, o LeCun initialization (1990).\n",
        "\n",
        "* Glorot puede mejorar el rendimiento y la velocidad de entrenamiento considerablemente!\n",
        "\n",
        "Algunas otras alternativas de inicializadores se basan en las ideas de LeCun y Glorot modificando el uso de $fan_{avg}$ y $fan_{in}$ y el tipo de activación:\n",
        "\n",
        "\n",
        "|Inicializador|Función de activación| $\\sigma^2$ (Normal)|\n",
        "|---|---|---|\n",
        "|Glorot| linear, tanh, logist,softmax| 1/$fan_{avg}$|\n",
        "|He| ReLU y variantes| 2/$fan_{in}$|\n",
        "|LeCun| SELU| 1/$fan_{in}$|\n",
        "\n",
        "\n"
      ]
    },
    {
      "cell_type": "code",
      "metadata": {
        "colab": {
          "base_uri": "https://localhost:8080/"
        },
        "id": "uNXD0uNjFe6X",
        "outputId": "3499f675-4188-4e8e-f97f-d3104ebda30e"
      },
      "source": [
        "#keras initializers\n",
        "[name for name in dir(keras.initializers) if not name.startswith(\"_\")]"
      ],
      "execution_count": 9,
      "outputs": [
        {
          "output_type": "execute_result",
          "data": {
            "text/plain": [
              "['Constant',\n",
              " 'GlorotNormal',\n",
              " 'GlorotUniform',\n",
              " 'HeNormal',\n",
              " 'HeUniform',\n",
              " 'Identity',\n",
              " 'Initializer',\n",
              " 'LecunNormal',\n",
              " 'LecunUniform',\n",
              " 'Ones',\n",
              " 'Orthogonal',\n",
              " 'RandomNormal',\n",
              " 'RandomUniform',\n",
              " 'TruncatedNormal',\n",
              " 'VarianceScaling',\n",
              " 'Zeros',\n",
              " 'constant',\n",
              " 'deserialize',\n",
              " 'get',\n",
              " 'glorot_normal',\n",
              " 'glorot_uniform',\n",
              " 'he_normal',\n",
              " 'he_uniform',\n",
              " 'identity',\n",
              " 'lecun_normal',\n",
              " 'lecun_uniform',\n",
              " 'ones',\n",
              " 'orthogonal',\n",
              " 'random_normal',\n",
              " 'random_uniform',\n",
              " 'serialize',\n",
              " 'truncated_normal',\n",
              " 'variance_scaling',\n",
              " 'zeros']"
            ]
          },
          "metadata": {},
          "execution_count": 9
        }
      ]
    },
    {
      "cell_type": "code",
      "metadata": {
        "colab": {
          "base_uri": "https://localhost:8080/"
        },
        "id": "syNv9lttFe6Y",
        "outputId": "05b9508a-d2c2-43e9-a26a-85036b0f27fc"
      },
      "source": [
        "keras.layers.Dense(10, activation=\"relu\", kernel_initializer=\"he_normal\")"
      ],
      "execution_count": 10,
      "outputs": [
        {
          "output_type": "execute_result",
          "data": {
            "text/plain": [
              "<keras.layers.core.Dense at 0x7ff6ba54ab90>"
            ]
          },
          "metadata": {},
          "execution_count": 10
        }
      ]
    },
    {
      "cell_type": "code",
      "metadata": {
        "colab": {
          "base_uri": "https://localhost:8080/"
        },
        "id": "lf5NI7TzFe6Y",
        "outputId": "762f20b6-ee52-441a-ca08-e185741fa588"
      },
      "source": [
        "# se escala la variance o rango sobre el que se quiere muestrear\n",
        "#https://www.tensorflow.org/api_docs/python/tf/keras/initializers/VarianceScaling\n",
        "init = keras.initializers.VarianceScaling(scale=2., mode='fan_avg',\n",
        "                                          distribution='uniform')\n",
        "keras.layers.Dense(10, activation=\"relu\", kernel_initializer=init)"
      ],
      "execution_count": 11,
      "outputs": [
        {
          "output_type": "execute_result",
          "data": {
            "text/plain": [
              "<keras.layers.core.Dense at 0x7ff6b9ccf810>"
            ]
          },
          "metadata": {},
          "execution_count": 11
        }
      ]
    },
    {
      "cell_type": "markdown",
      "metadata": {
        "id": "mtkWOtAZFe6Y"
      },
      "source": [
        "# Funciones de activación sin saturación\n",
        "## Nonsaturating Activation Functions\n",
        "\n",
        "* Aunque la activación en neuronas biológicas se asemejan a la función sigmoide, la saturación es un problema en el entrenamiento de la red (vanishing/exploding)\n",
        "\n",
        "* Alternativa: ReLU -> simple de implementar y no saturada\n",
        "\n",
        "* Problema de ReLU: dying ReLU, algunas neuronas marcan cero a la salida por el modelo de la $ReLU(x) = \\max(0,x)$.\n",
        "\n",
        "* El problema del dying ReLU es muy evidente para learning rates grandes, dado que el gradiente es cero para salidas negativas sobre la ReLU, las neuronas seguiran generando ceros!.\n",
        "\n",
        " "
      ]
    },
    {
      "cell_type": "markdown",
      "metadata": {
        "id": "OHv_8ssWFe6Y"
      },
      "source": [
        "### Leaky ReLU\n",
        "\n",
        "$Leaky ReLU(x) = \\max(\\alpha x,x)$\n",
        "\n",
        "Algunas variantes de ReLU, buscando jugar con el factor de escala $\\alpha$ para inducir un \"coma\" en las neuronas, del cual puedan volver en algún punto del entrenamiento se pueden encontrar en el siguiente [Paper](https://arxiv.org/abs/1505.00853) 2015"
      ]
    },
    {
      "cell_type": "code",
      "metadata": {
        "id": "JzArpPRLFe6Y"
      },
      "source": [
        "def leaky_relu(z, alpha=0.01):\n",
        "    return np.maximum(alpha*z, z)"
      ],
      "execution_count": 12,
      "outputs": []
    },
    {
      "cell_type": "code",
      "metadata": {
        "colab": {
          "base_uri": "https://localhost:8080/",
          "height": 285
        },
        "id": "xa7h1TFcFe6Y",
        "outputId": "d498320b-6a2d-4b55-e1ee-a64f676bf125"
      },
      "source": [
        "plt.plot(z, leaky_relu(z, 0.05), \"b-\", linewidth=2)\n",
        "plt.plot([-5, 5], [0, 0], 'k-')\n",
        "plt.plot([0, 0], [-0.5, 4.2], 'k-')\n",
        "plt.grid(True)\n",
        "props = dict(facecolor='black', shrink=0.1)\n",
        "plt.annotate('Leak', xytext=(-3.5, 0.5), xy=(-5, -0.2), arrowprops=props, fontsize=14, ha=\"center\")\n",
        "plt.title(\"Leaky ReLU activation function\", fontsize=14)\n",
        "plt.axis([-5, 5, -0.5, 4.2])\n",
        "plt.show()"
      ],
      "execution_count": 13,
      "outputs": [
        {
          "output_type": "display_data",
          "data": {
            "image/png": "[encoded data removed]",
            "text/plain": [
              "<Figure size 432x288 with 1 Axes>"
            ]
          },
          "metadata": {
            "needs_background": "light"
          }
        }
      ]
    },
    {
      "cell_type": "code",
      "metadata": {
        "colab": {
          "base_uri": "https://localhost:8080/"
        },
        "id": "dyFcRX90Fe6Y",
        "outputId": "4bb614b4-5ad4-416a-c990-b4a074b624cf"
      },
      "source": [
        "[m for m in dir(keras.activations) if not m.startswith(\"_\")]"
      ],
      "execution_count": 14,
      "outputs": [
        {
          "output_type": "execute_result",
          "data": {
            "text/plain": [
              "['deserialize',\n",
              " 'elu',\n",
              " 'exponential',\n",
              " 'gelu',\n",
              " 'get',\n",
              " 'hard_sigmoid',\n",
              " 'linear',\n",
              " 'relu',\n",
              " 'selu',\n",
              " 'serialize',\n",
              " 'sigmoid',\n",
              " 'softmax',\n",
              " 'softplus',\n",
              " 'softsign',\n",
              " 'swish',\n",
              " 'tanh']"
            ]
          },
          "metadata": {},
          "execution_count": 14
        }
      ]
    },
    {
      "cell_type": "code",
      "metadata": {
        "colab": {
          "base_uri": "https://localhost:8080/"
        },
        "id": "Q6-0gwChFe6Y",
        "outputId": "fcef939c-a3b9-45a1-f0d9-4bdd91805b67"
      },
      "source": [
        "[m for m in dir(keras.layers) if \"relu\" in m.lower()]"
      ],
      "execution_count": 15,
      "outputs": [
        {
          "output_type": "execute_result",
          "data": {
            "text/plain": [
              "['LeakyReLU', 'PReLU', 'ReLU', 'ThresholdedReLU']"
            ]
          },
          "metadata": {},
          "execution_count": 15
        }
      ]
    },
    {
      "cell_type": "markdown",
      "metadata": {
        "id": "ZO2_xX4SFe6Y"
      },
      "source": [
        "Pruebas sobre Fashion MNIST en Leaky ReLU:"
      ]
    },
    {
      "cell_type": "code",
      "metadata": {
        "colab": {
          "base_uri": "https://localhost:8080/"
        },
        "id": "EyaLqtFVFe6Y",
        "outputId": "d76b7197-1310-4b8c-e860-423858e540e6"
      },
      "source": [
        "(X_train_full, y_train_full), (X_test, y_test) = keras.datasets.fashion_mnist.load_data()\n",
        "X_train_full = X_train_full / 255.0\n",
        "X_test = X_test / 255.0\n",
        "X_valid, X_train = X_train_full[:5000], X_train_full[5000:]\n",
        "y_valid, y_train = y_train_full[:5000], y_train_full[5000:]"
      ],
      "execution_count": 16,
      "outputs": [
        {
          "output_type": "stream",
          "text": [
            "Downloading data from https://storage.googleapis.com/tensorflow/tf-keras-datasets/train-labels-idx1-ubyte.gz\n",
            "32768/29515 [=================================] - 0s 0us/step\n",
            "40960/29515 [=========================================] - 0s 0us/step\n",
            "Downloading data from https://storage.googleapis.com/tensorflow/tf-keras-datasets/train-images-idx3-ubyte.gz\n",
            "26427392/26421880 [==============================] - 0s 0us/step\n",
            "26435584/26421880 [==============================] - 0s 0us/step\n",
            "Downloading data from https://storage.googleapis.com/tensorflow/tf-keras-datasets/t10k-labels-idx1-ubyte.gz\n",
            "16384/5148 [===============================================================================================] - 0s 0us/step\n",
            "Downloading data from https://storage.googleapis.com/tensorflow/tf-keras-datasets/t10k-images-idx3-ubyte.gz\n",
            "4423680/4422102 [==============================] - 0s 0us/step\n",
            "4431872/4422102 [==============================] - 0s 0us/step\n"
          ],
          "name": "stdout"
        }
      ]
    },
    {
      "cell_type": "code",
      "metadata": {
        "id": "x-8cTitqFe6Y"
      },
      "source": [
        "tf.random.set_seed(42)\n",
        "np.random.seed(42)\n",
        "\n",
        "model = keras.models.Sequential([\n",
        "    keras.layers.Flatten(input_shape=[28, 28]),\n",
        "    keras.layers.Dense(300, kernel_initializer=\"he_normal\"),\n",
        "    keras.layers.LeakyReLU(),\n",
        "    keras.layers.Dense(100, kernel_initializer=\"he_normal\"),\n",
        "    keras.layers.LeakyReLU(),\n",
        "    keras.layers.Dense(10, activation=\"softmax\")\n",
        "])"
      ],
      "execution_count": 17,
      "outputs": []
    },
    {
      "cell_type": "code",
      "metadata": {
        "id": "l_tLEtCcFe6Y",
        "colab": {
          "base_uri": "https://localhost:8080/"
        },
        "outputId": "ccb98cff-fdd9-4f93-e717-946c64b6c624"
      },
      "source": [
        "model.compile(loss=\"sparse_categorical_crossentropy\",\n",
        "              optimizer=keras.optimizers.SGD(lr=1e-3),\n",
        "              metrics=[\"accuracy\"])"
      ],
      "execution_count": 18,
      "outputs": [
        {
          "output_type": "stream",
          "text": [
            "/usr/local/lib/python3.7/dist-packages/keras/optimizer_v2/optimizer_v2.py:356: UserWarning: The `lr` argument is deprecated, use `learning_rate` instead.\n",
            "  \"The `lr` argument is deprecated, use `learning_rate` instead.\")\n"
          ],
          "name": "stderr"
        }
      ]
    },
    {
      "cell_type": "code",
      "metadata": {
        "colab": {
          "base_uri": "https://localhost:8080/"
        },
        "id": "7NAivD7xFe6Y",
        "scrolled": true,
        "outputId": "ce11a0db-395e-4588-992a-6ab282ff0846"
      },
      "source": [
        "history = model.fit(X_train, y_train, epochs=10,\n",
        "                    validation_data=(X_valid, y_valid))"
      ],
      "execution_count": 19,
      "outputs": [
        {
          "output_type": "stream",
          "text": [
            "Epoch 1/10\n",
            "1719/1719 [==============================] - 8s 3ms/step - loss: 1.2819 - accuracy: 0.6229 - val_loss: 0.8886 - val_accuracy: 0.7158\n",
            "Epoch 2/10\n",
            "1719/1719 [==============================] - 5s 3ms/step - loss: 0.7955 - accuracy: 0.7362 - val_loss: 0.7130 - val_accuracy: 0.7656\n",
            "Epoch 3/10\n",
            "1719/1719 [==============================] - 5s 3ms/step - loss: 0.6816 - accuracy: 0.7721 - val_loss: 0.6427 - val_accuracy: 0.7900\n",
            "Epoch 4/10\n",
            "1719/1719 [==============================] - 5s 3ms/step - loss: 0.6217 - accuracy: 0.7944 - val_loss: 0.5900 - val_accuracy: 0.8066\n",
            "Epoch 5/10\n",
            "1719/1719 [==============================] - 5s 3ms/step - loss: 0.5832 - accuracy: 0.8075 - val_loss: 0.5582 - val_accuracy: 0.8202\n",
            "Epoch 6/10\n",
            "1719/1719 [==============================] - 5s 3ms/step - loss: 0.5553 - accuracy: 0.8157 - val_loss: 0.5350 - val_accuracy: 0.8238\n",
            "Epoch 7/10\n",
            "1719/1719 [==============================] - 5s 3ms/step - loss: 0.5338 - accuracy: 0.8224 - val_loss: 0.5157 - val_accuracy: 0.8304\n",
            "Epoch 8/10\n",
            "1719/1719 [==============================] - 5s 3ms/step - loss: 0.5172 - accuracy: 0.8272 - val_loss: 0.5079 - val_accuracy: 0.8282\n",
            "Epoch 9/10\n",
            "1719/1719 [==============================] - 5s 3ms/step - loss: 0.5040 - accuracy: 0.8288 - val_loss: 0.4895 - val_accuracy: 0.8386\n",
            "Epoch 10/10\n",
            "1719/1719 [==============================] - 5s 3ms/step - loss: 0.4924 - accuracy: 0.8321 - val_loss: 0.4817 - val_accuracy: 0.8394\n"
          ],
          "name": "stdout"
        }
      ]
    },
    {
      "cell_type": "markdown",
      "metadata": {
        "id": "bM37ymrGFe6Z"
      },
      "source": [
        "Ahora con PReLU (parámetro $\\alpha$ se aprende en el entrenamiento):"
      ]
    },
    {
      "cell_type": "code",
      "metadata": {
        "id": "9R7mSvB4Fe6Z"
      },
      "source": [
        "tf.random.set_seed(42)\n",
        "np.random.seed(42)\n",
        "\n",
        "model = keras.models.Sequential([\n",
        "    keras.layers.Flatten(input_shape=[28, 28]),\n",
        "    keras.layers.Dense(300, kernel_initializer=\"he_normal\"),\n",
        "    keras.layers.PReLU(),\n",
        "    keras.layers.Dense(100, kernel_initializer=\"he_normal\"),\n",
        "    keras.layers.PReLU(),\n",
        "    keras.layers.Dense(10, activation=\"softmax\")\n",
        "])"
      ],
      "execution_count": 20,
      "outputs": []
    },
    {
      "cell_type": "code",
      "metadata": {
        "id": "CtugsWIjFe6Z",
        "colab": {
          "base_uri": "https://localhost:8080/"
        },
        "outputId": "ee369f7a-898c-4498-eea1-fb441dadcdc3"
      },
      "source": [
        "model.compile(loss=\"sparse_categorical_crossentropy\",\n",
        "              optimizer=keras.optimizers.SGD(lr=1e-3),\n",
        "              metrics=[\"accuracy\"])"
      ],
      "execution_count": 21,
      "outputs": [
        {
          "output_type": "stream",
          "text": [
            "/usr/local/lib/python3.7/dist-packages/keras/optimizer_v2/optimizer_v2.py:356: UserWarning: The `lr` argument is deprecated, use `learning_rate` instead.\n",
            "  \"The `lr` argument is deprecated, use `learning_rate` instead.\")\n"
          ],
          "name": "stderr"
        }
      ]
    },
    {
      "cell_type": "code",
      "metadata": {
        "colab": {
          "base_uri": "https://localhost:8080/"
        },
        "id": "7zA2Czo7Fe6Z",
        "outputId": "bf3ac591-dae3-48ff-98b9-754e61d28222"
      },
      "source": [
        "history = model.fit(X_train, y_train, epochs=10,\n",
        "                    validation_data=(X_valid, y_valid))"
      ],
      "execution_count": 22,
      "outputs": [
        {
          "output_type": "stream",
          "text": [
            "Epoch 1/10\n",
            "1719/1719 [==============================] - 6s 3ms/step - loss: 1.3461 - accuracy: 0.6209 - val_loss: 0.9255 - val_accuracy: 0.7186\n",
            "Epoch 2/10\n",
            "1719/1719 [==============================] - 5s 3ms/step - loss: 0.8197 - accuracy: 0.7355 - val_loss: 0.7305 - val_accuracy: 0.7628\n",
            "Epoch 3/10\n",
            "1719/1719 [==============================] - 5s 3ms/step - loss: 0.6966 - accuracy: 0.7693 - val_loss: 0.6565 - val_accuracy: 0.7882\n",
            "Epoch 4/10\n",
            "1719/1719 [==============================] - 5s 3ms/step - loss: 0.6331 - accuracy: 0.7909 - val_loss: 0.6003 - val_accuracy: 0.8048\n",
            "Epoch 5/10\n",
            "1719/1719 [==============================] - 6s 3ms/step - loss: 0.5917 - accuracy: 0.8056 - val_loss: 0.5656 - val_accuracy: 0.8180\n",
            "Epoch 6/10\n",
            "1719/1719 [==============================] - 5s 3ms/step - loss: 0.5619 - accuracy: 0.8134 - val_loss: 0.5406 - val_accuracy: 0.8238\n",
            "Epoch 7/10\n",
            "1719/1719 [==============================] - 5s 3ms/step - loss: 0.5390 - accuracy: 0.8205 - val_loss: 0.5196 - val_accuracy: 0.8314\n",
            "Epoch 8/10\n",
            "1719/1719 [==============================] - 5s 3ms/step - loss: 0.5213 - accuracy: 0.8257 - val_loss: 0.5113 - val_accuracy: 0.8318\n",
            "Epoch 9/10\n",
            "1719/1719 [==============================] - 5s 3ms/step - loss: 0.5070 - accuracy: 0.8289 - val_loss: 0.4916 - val_accuracy: 0.8376\n",
            "Epoch 10/10\n",
            "1719/1719 [==============================] - 5s 3ms/step - loss: 0.4945 - accuracy: 0.8315 - val_loss: 0.4826 - val_accuracy: 0.8396\n"
          ],
          "name": "stdout"
        }
      ]
    },
    {
      "cell_type": "markdown",
      "metadata": {
        "id": "7rqYrr8iFe6Z"
      },
      "source": [
        "### ELU"
      ]
    },
    {
      "cell_type": "code",
      "metadata": {
        "id": "e_qcOJAsFe6Z"
      },
      "source": [
        "def elu(z, alpha=1):\n",
        "    return np.where(z < 0, alpha * (np.exp(z) - 1), z)"
      ],
      "execution_count": 23,
      "outputs": []
    },
    {
      "cell_type": "code",
      "metadata": {
        "colab": {
          "base_uri": "https://localhost:8080/",
          "height": 287
        },
        "id": "rK7YpmQgFe6Z",
        "outputId": "f838dbf7-5912-4339-e5d0-5882f2fae41e"
      },
      "source": [
        "plt.plot(z, elu(z), \"b-\", linewidth=2)\n",
        "plt.plot([-5, 5], [0, 0], 'k-')\n",
        "plt.plot([-5, 5], [-1, -1], 'k--')\n",
        "plt.plot([0, 0], [-2.2, 3.2], 'k-')\n",
        "plt.grid(True)\n",
        "plt.title(r\"ELU activation function ($\\alpha=1$)\", fontsize=14)\n",
        "plt.axis([-5, 5, -2.2, 3.2])\n",
        "plt.show()"
      ],
      "execution_count": 24,
      "outputs": [
        {
          "output_type": "display_data",
          "data": {
            "image/png": "[encoded data removed]",
            "text/plain": [
              "<Figure size 432x288 with 1 Axes>"
            ]
          },
          "metadata": {
            "needs_background": "light"
          }
        }
      ]
    },
    {
      "cell_type": "markdown",
      "metadata": {
        "id": "dCCBnY75Fe6Z"
      },
      "source": [
        "\n",
        "$\n",
        "ELU_\\alpha(x) = \\left\\{\\begin{split} \\alpha(\\exp(x)-1)& \\quad if \\quad & x < 0 \\\\\n",
        "x & \\quad if \\quad & x \\geq 0 \\\\\n",
        "\\end{split}\\right. \n",
        "$\n"
      ]
    },
    {
      "cell_type": "code",
      "metadata": {
        "colab": {
          "base_uri": "https://localhost:8080/"
        },
        "id": "ZP1X-_kDFe6Z",
        "outputId": "32e9681a-585f-47c5-f4f5-d71f35d80f21"
      },
      "source": [
        "keras.layers.Dense(10, activation=\"elu\")"
      ],
      "execution_count": 25,
      "outputs": [
        {
          "output_type": "execute_result",
          "data": {
            "text/plain": [
              "<keras.layers.core.Dense at 0x7ff6717820d0>"
            ]
          },
          "metadata": {},
          "execution_count": 25
        }
      ]
    },
    {
      "cell_type": "markdown",
      "metadata": {
        "id": "v4FVRC6_Fe6Z"
      },
      "source": [
        "### SELU"
      ]
    },
    {
      "cell_type": "markdown",
      "metadata": {
        "id": "yylAgjrsFe6Z"
      },
      "source": [
        "* Esta función de activación se propusó en 2017 [Paper](https://arxiv.org/pdf/1706.02515.pdf) por Günter Klambauer, Thomas Unterthiner y Andreas Mayr. \n",
        "\n",
        "* Garantiza una auto-normalización para modelos secuenciales.\n",
        "\n",
        "\n",
        "$\n",
        "SELU_\\alpha(x) = \\lambda\\left\\{\\begin{split} \\alpha(\\exp(x)-1)& \\quad if \\quad & x < 0 \\\\\n",
        "x & \\quad if \\quad & x \\geq 0 \\\\\n",
        "\\end{split}\\right. \n",
        "$\n"
      ]
    },
    {
      "cell_type": "code",
      "metadata": {
        "id": "7cBfjGa0Fe6Z"
      },
      "source": [
        "from scipy.special import erfc\n",
        "\n",
        "# alpha and scale to self normalize with mean 0 and standard deviation 1\n",
        "# (see equation 14 in the paper):\n",
        "alpha_0_1 = -np.sqrt(2 / np.pi) / (erfc(1/np.sqrt(2)) * np.exp(1/2) - 1)\n",
        "scale_0_1 = (1 - erfc(1 / np.sqrt(2)) * np.sqrt(np.e)) * np.sqrt(2 * np.pi) * (2 * erfc(np.sqrt(2))*np.e**2 + np.pi*erfc(1/np.sqrt(2))**2*np.e - 2*(2+np.pi)*erfc(1/np.sqrt(2))*np.sqrt(np.e)+np.pi+2)**(-1/2)"
      ],
      "execution_count": 26,
      "outputs": []
    },
    {
      "cell_type": "code",
      "metadata": {
        "id": "nxFWm6jqFe6Z"
      },
      "source": [
        "def selu(z, scale=scale_0_1, alpha=alpha_0_1):\n",
        "    return scale * elu(z, alpha)"
      ],
      "execution_count": 27,
      "outputs": []
    },
    {
      "cell_type": "code",
      "metadata": {
        "colab": {
          "base_uri": "https://localhost:8080/",
          "height": 285
        },
        "id": "ateR05y8Fe6Z",
        "outputId": "5f873372-a061-4365-e394-da4068c06c41"
      },
      "source": [
        "plt.plot(z, selu(z), \"b-\", linewidth=2)\n",
        "plt.plot([-5, 5], [0, 0], 'k-')\n",
        "plt.plot([-5, 5], [-1.758, -1.758], 'k--')\n",
        "plt.plot([0, 0], [-2.2, 3.2], 'k-')\n",
        "plt.grid(True)\n",
        "plt.title(\"SELU activation function\", fontsize=14)\n",
        "plt.axis([-5, 5, -2.2, 3.2])\n",
        "plt.show()"
      ],
      "execution_count": 28,
      "outputs": [
        {
          "output_type": "display_data",
          "data": {
            "image/png": "[encoded data removed]",
            "text/plain": [
              "<Figure size 432x288 with 1 Axes>"
            ]
          },
          "metadata": {
            "needs_background": "light"
          }
        }
      ]
    },
    {
      "cell_type": "markdown",
      "metadata": {
        "id": "LArZ1P84Fe6Z"
      },
      "source": [
        "* En general, los hiperparámetros de SELU ($\\lambda$ y $\\alpha$) se ajustan de tal forma que la salida promedio de cada neurona este cercana a 0, y la desviación estandard cercana a 1 (asumiendo que las entradas se estandarizan de igual  manera). \n",
        "\n",
        "* Para modelos profundos y densos se evita los problemas de vanishing/exploding"
      ]
    },
    {
      "cell_type": "code",
      "metadata": {
        "colab": {
          "base_uri": "https://localhost:8080/"
        },
        "id": "6vaGZQufFe6Z",
        "outputId": "92c9fcd6-2580-4f14-c3de-19142651ed61"
      },
      "source": [
        "np.random.seed(42)\n",
        "Z = np.random.normal(size=(500, 100)) # standardized inputs\n",
        "for layer in range(1000):\n",
        "    W = np.random.normal(size=(100, 100), scale=np.sqrt(1 / 100)) # LeCun initialization\n",
        "    Z = selu(np.dot(Z, W))\n",
        "    means = np.mean(Z, axis=0).mean()\n",
        "    stds = np.std(Z, axis=0).mean()\n",
        "    if layer % 100 == 0:\n",
        "        print(\"Layer {}: mean {:.2f}, std deviation {:.2f}\".format(layer, means, stds))"
      ],
      "execution_count": 29,
      "outputs": [
        {
          "output_type": "stream",
          "text": [
            "Layer 0: mean -0.00, std deviation 1.00\n",
            "Layer 100: mean 0.02, std deviation 0.96\n",
            "Layer 200: mean 0.01, std deviation 0.90\n",
            "Layer 300: mean -0.02, std deviation 0.92\n",
            "Layer 400: mean 0.05, std deviation 0.89\n",
            "Layer 500: mean 0.01, std deviation 0.93\n",
            "Layer 600: mean 0.02, std deviation 0.92\n",
            "Layer 700: mean -0.02, std deviation 0.90\n",
            "Layer 800: mean 0.05, std deviation 0.83\n",
            "Layer 900: mean 0.02, std deviation 1.00\n"
          ],
          "name": "stdout"
        }
      ]
    },
    {
      "cell_type": "markdown",
      "metadata": {
        "id": "mFGmCmjKFe6Z"
      },
      "source": [
        "Utilizando SELU en  modelos densos:"
      ]
    },
    {
      "cell_type": "code",
      "metadata": {
        "colab": {
          "base_uri": "https://localhost:8080/"
        },
        "id": "-TtO71xuFe6Z",
        "outputId": "160ae22b-62cc-4931-9594-568c274c6d91"
      },
      "source": [
        "keras.layers.Dense(10, activation=\"selu\",\n",
        "                   kernel_initializer=\"lecun_normal\")"
      ],
      "execution_count": 30,
      "outputs": [
        {
          "output_type": "execute_result",
          "data": {
            "text/plain": [
              "<keras.layers.core.Dense at 0x7ff6bae8ca50>"
            ]
          },
          "metadata": {},
          "execution_count": 30
        }
      ]
    },
    {
      "cell_type": "markdown",
      "metadata": {
        "id": "IvfLPBubFe6a"
      },
      "source": [
        "Probando en Fashion MNIST:"
      ]
    },
    {
      "cell_type": "code",
      "metadata": {
        "id": "B7nOVzwbFe6a"
      },
      "source": [
        "np.random.seed(42)\n",
        "tf.random.set_seed(42)"
      ],
      "execution_count": 31,
      "outputs": []
    },
    {
      "cell_type": "code",
      "metadata": {
        "id": "DwQSjMUhFe6a"
      },
      "source": [
        "model = keras.models.Sequential()\n",
        "model.add(keras.layers.Flatten(input_shape=[28, 28]))\n",
        "model.add(keras.layers.Dense(300, activation=\"selu\",\n",
        "                             kernel_initializer=\"lecun_normal\"))\n",
        "for layer in range(99):\n",
        "    model.add(keras.layers.Dense(100, activation=\"selu\",\n",
        "                                 kernel_initializer=\"lecun_normal\"))\n",
        "model.add(keras.layers.Dense(10, activation=\"softmax\"))"
      ],
      "execution_count": 32,
      "outputs": []
    },
    {
      "cell_type": "code",
      "metadata": {
        "id": "wO730I7yFe6a",
        "colab": {
          "base_uri": "https://localhost:8080/"
        },
        "outputId": "03610d6a-4043-42a4-f3ca-b42e9f7bfe12"
      },
      "source": [
        "model.compile(loss=\"sparse_categorical_crossentropy\",\n",
        "              optimizer=keras.optimizers.SGD(lr=1e-3),\n",
        "              metrics=[\"accuracy\"])"
      ],
      "execution_count": 33,
      "outputs": [
        {
          "output_type": "stream",
          "text": [
            "/usr/local/lib/python3.7/dist-packages/keras/optimizer_v2/optimizer_v2.py:356: UserWarning: The `lr` argument is deprecated, use `learning_rate` instead.\n",
            "  \"The `lr` argument is deprecated, use `learning_rate` instead.\")\n"
          ],
          "name": "stderr"
        }
      ]
    },
    {
      "cell_type": "markdown",
      "metadata": {
        "id": "yTvdFGqiFe6a"
      },
      "source": [
        "Antes de entrenar recuerde normalizar las entradas a media 0 y std 1:"
      ]
    },
    {
      "cell_type": "code",
      "metadata": {
        "id": "RPYshbyBFe6a"
      },
      "source": [
        "pixel_means = X_train.mean(axis=0, keepdims=True)\n",
        "pixel_stds = X_train.std(axis=0, keepdims=True)\n",
        "X_train_scaled = (X_train - pixel_means) / pixel_stds\n",
        "X_valid_scaled = (X_valid - pixel_means) / pixel_stds\n",
        "X_test_scaled = (X_test - pixel_means) / pixel_stds"
      ],
      "execution_count": 34,
      "outputs": []
    },
    {
      "cell_type": "code",
      "metadata": {
        "colab": {
          "base_uri": "https://localhost:8080/"
        },
        "id": "Q0e7b2ndFe6a",
        "outputId": "e4880715-6417-44dc-f0f4-9581aa49486d"
      },
      "source": [
        "history = model.fit(X_train_scaled, y_train, epochs=5,\n",
        "                    validation_data=(X_valid_scaled, y_valid))"
      ],
      "execution_count": 35,
      "outputs": [
        {
          "output_type": "stream",
          "text": [
            "Epoch 1/5\n",
            "1719/1719 [==============================] - 33s 18ms/step - loss: 1.1878 - accuracy: 0.5528 - val_loss: 0.9389 - val_accuracy: 0.6238\n",
            "Epoch 2/5\n",
            "1719/1719 [==============================] - 29s 17ms/step - loss: 0.7896 - accuracy: 0.7087 - val_loss: 0.6479 - val_accuracy: 0.7638\n",
            "Epoch 3/5\n",
            "1719/1719 [==============================] - 29s 17ms/step - loss: 0.6458 - accuracy: 0.7609 - val_loss: 0.6987 - val_accuracy: 0.7376\n",
            "Epoch 4/5\n",
            "1719/1719 [==============================] - 29s 17ms/step - loss: 0.5817 - accuracy: 0.7853 - val_loss: 0.5515 - val_accuracy: 0.7998\n",
            "Epoch 5/5\n",
            "1719/1719 [==============================] - 28s 17ms/step - loss: 0.5698 - accuracy: 0.7944 - val_loss: 0.5163 - val_accuracy: 0.8156\n"
          ],
          "name": "stdout"
        }
      ]
    },
    {
      "cell_type": "markdown",
      "metadata": {
        "id": "U1IljELcFe6a"
      },
      "source": [
        "Si se prueba ReLU en vez de SELU:"
      ]
    },
    {
      "cell_type": "code",
      "metadata": {
        "id": "hWvGNT6RFe6a"
      },
      "source": [
        "np.random.seed(42)\n",
        "tf.random.set_seed(42)"
      ],
      "execution_count": 36,
      "outputs": []
    },
    {
      "cell_type": "code",
      "metadata": {
        "id": "faREf8qjFe6a"
      },
      "source": [
        "model = keras.models.Sequential()\n",
        "model.add(keras.layers.Flatten(input_shape=[28, 28]))\n",
        "model.add(keras.layers.Dense(300, activation=\"relu\", kernel_initializer=\"he_normal\"))\n",
        "for layer in range(99):\n",
        "    model.add(keras.layers.Dense(100, activation=\"relu\", kernel_initializer=\"he_normal\"))\n",
        "model.add(keras.layers.Dense(10, activation=\"softmax\"))"
      ],
      "execution_count": 37,
      "outputs": []
    },
    {
      "cell_type": "code",
      "metadata": {
        "id": "ZmW4t9HOFe6a",
        "colab": {
          "base_uri": "https://localhost:8080/"
        },
        "outputId": "22242aac-a589-464f-994c-8dcbdf042134"
      },
      "source": [
        "model.compile(loss=\"sparse_categorical_crossentropy\",\n",
        "              optimizer=keras.optimizers.SGD(lr=1e-3),\n",
        "              metrics=[\"accuracy\"])"
      ],
      "execution_count": 38,
      "outputs": [
        {
          "output_type": "stream",
          "text": [
            "/usr/local/lib/python3.7/dist-packages/keras/optimizer_v2/optimizer_v2.py:356: UserWarning: The `lr` argument is deprecated, use `learning_rate` instead.\n",
            "  \"The `lr` argument is deprecated, use `learning_rate` instead.\")\n"
          ],
          "name": "stderr"
        }
      ]
    },
    {
      "cell_type": "code",
      "metadata": {
        "colab": {
          "base_uri": "https://localhost:8080/"
        },
        "id": "xy1rg-wQFe6a",
        "outputId": "c4a109f2-87b0-4c0e-ec2d-b7ecb8ccf485"
      },
      "source": [
        "history = model.fit(X_train_scaled, y_train, epochs=5,\n",
        "                    validation_data=(X_valid_scaled, y_valid))"
      ],
      "execution_count": 39,
      "outputs": [
        {
          "output_type": "stream",
          "text": [
            "Epoch 1/5\n",
            "1719/1719 [==============================] - 33s 17ms/step - loss: 1.7842 - accuracy: 0.2647 - val_loss: 1.3731 - val_accuracy: 0.4124\n",
            "Epoch 2/5\n",
            "1719/1719 [==============================] - 29s 17ms/step - loss: 1.2071 - accuracy: 0.4883 - val_loss: 0.9528 - val_accuracy: 0.6290\n",
            "Epoch 3/5\n",
            "1719/1719 [==============================] - 28s 16ms/step - loss: 0.9518 - accuracy: 0.6199 - val_loss: 0.8759 - val_accuracy: 0.6388\n",
            "Epoch 4/5\n",
            "1719/1719 [==============================] - 28s 16ms/step - loss: 0.8794 - accuracy: 0.6545 - val_loss: 0.7323 - val_accuracy: 0.7220\n",
            "Epoch 5/5\n",
            "1719/1719 [==============================] - 28s 16ms/step - loss: 0.7443 - accuracy: 0.7182 - val_loss: 0.6689 - val_accuracy: 0.7504\n"
          ],
          "name": "stdout"
        }
      ]
    },
    {
      "cell_type": "markdown",
      "metadata": {
        "id": "a8K2zcXSFe6a"
      },
      "source": [
        "No tan buen resultado, problemas de vanishing/exploding."
      ]
    },
    {
      "cell_type": "markdown",
      "metadata": {
        "id": "EnCYz7v4cFnp"
      },
      "source": [
        "## Sugerencias:\n",
        "\n",
        "* En general, el ranking de rendimiento es el seguiente: SELU>ELU>leakyReLU>ReLU>tanh>sigmoid.\n",
        "\n",
        "* Si la red esta auto-normalizadas, la ELU puede rendir más que SELU (SELU no es suave en $x=0$).\n",
        "\n",
        "* Si se requiere buena velocidad de cómputo se sugiere LeakyReLU.\n",
        "\n",
        "* ReLU es la más utilizada por su buen compromiso, muchos aceleradore de cómputo están optimizados para trabajar con esta activación."
      ]
    },
    {
      "cell_type": "markdown",
      "metadata": {
        "id": "lhMqjPkkFe6a"
      },
      "source": [
        "# Normalización por lote\n",
        "## Batch Normalization - BN\n",
        "\n",
        "* Aunque un buen inicializador y una buena función de activación previenen los problemas de vanishing/exploding, al inicio del entrenamiento, durante las iteraciones el vanishing/exploding puede volver!.\n",
        "\n",
        "* En el 2015 [Paper](https://arxiv.org/abs/1502.03167), se propone la técnica Batch Normalization, que consiste en añadir una operación antes y después de cada capa.\n",
        "\n",
        "* La normalización consiste de dos operaciones: escalamiento y traslación (dos nuevos parámetros por aprender en cada capa).\n",
        "\n",
        "* Si la capa BN se añade como primera capa, entonces no es necesario escalar los datos de entrada.\n",
        "\n",
        "* BN evalua la media y std de la entrada a la capa sobre el mini-batch (mini-lote) actual, con base en:\n",
        "\n",
        "\n",
        "$\\mathbf{\\mu}_B = \\frac{1}{N_B}\\sum_{i=1}^{N_B} \\mathbf{x}^{(i)}$\n",
        "\n",
        "$\\mathbf{\\sigma}_B^2 = \\frac{1}{N_B}\\sum_{i=1}^{N_B} (\\mathbf{x}^{(i)}-\\mathbf{\\mu}_B)^2$\n",
        "\n",
        "$\\hat{\\mathbf{x}}^{(i)}= \\frac{\\mathbf{x}^{(i)}-\\mathbf{\\mu}_B}{\\sqrt{\\mathbf{\\sigma}_B^2+\\epsilon}}$\n",
        "\n",
        "$\\mathbf{z}^{(i)}=\\mathbf{\\gamma}\\otimes \\hat{\\mathbf{x}}^{(i)}+\\mathbf{\\beta}$\n",
        "\n",
        "* BN estandariza y luego reescala.\n",
        "\n",
        "* Para datos nuevos se utliza promediado movil durante el entrenamiento.\n",
        "\n",
        "* En resumen se estiman cuatro parámetros: $\\gamma$ (escala), $\\beta$ (traslación) se aprenden por backpropagation, y $\\mu$ (media  final de entrada) y $\\sigma$ (desviación final de entrada) por promediado móvil.\n",
        "\n",
        "* NOTA: $\\mu$ y $\\sigma$ se estiman en entrenamiento pero solo se usen después de entrenar para evaluar datos nuevos.\n",
        "\n",
        "* BN ha mostrado grandes resultados en procesado de imágenes, por ejemplo en ImageNet.\n",
        "\n",
        "* El problema de vanishing se reduce e incluso permite utlizar activaciones saturadas como tanh  y sigmoid con BN.\n",
        "\n",
        "* Además, BN es menos sensible a la inicialización de los pesos y  permite usar learning rates más grandes.\n",
        "\n",
        "* BN se puede entender también como un regularizador al escalar y trasladar el flujo de información en la red.\n",
        "\n",
        "* Problema: BN incluye más costo y operaciones en el entrenamiento y evaluación de la red.\n",
        "\n",
        "\n",
        "\n"
      ]
    },
    {
      "cell_type": "code",
      "metadata": {
        "id": "P_iA7Ei3Fe6a"
      },
      "source": [
        "model = keras.models.Sequential([\n",
        "    keras.layers.Flatten(input_shape=[28, 28]),\n",
        "    keras.layers.BatchNormalization(),\n",
        "    keras.layers.Dense(300, activation=\"relu\"),\n",
        "    keras.layers.BatchNormalization(),\n",
        "    keras.layers.Dense(100, activation=\"relu\"),\n",
        "    keras.layers.BatchNormalization(),\n",
        "    keras.layers.Dense(10, activation=\"softmax\")\n",
        "])"
      ],
      "execution_count": 40,
      "outputs": []
    },
    {
      "cell_type": "code",
      "metadata": {
        "colab": {
          "base_uri": "https://localhost:8080/"
        },
        "id": "W__pQxgfFe6a",
        "outputId": "64bca31f-6f01-4c99-daad-55166fd2a160"
      },
      "source": [
        "model.summary()"
      ],
      "execution_count": 41,
      "outputs": [
        {
          "output_type": "stream",
          "text": [
            "Model: \"sequential_4\"\n",
            "_________________________________________________________________\n",
            "Layer (type)                 Output Shape              Param #   \n",
            "=================================================================\n",
            "flatten_4 (Flatten)          (None, 784)               0         \n",
            "_________________________________________________________________\n",
            "batch_normalization (BatchNo (None, 784)               3136      \n",
            "_________________________________________________________________\n",
            "dense_212 (Dense)            (None, 300)               235500    \n",
            "_________________________________________________________________\n",
            "batch_normalization_1 (Batch (None, 300)               1200      \n",
            "_________________________________________________________________\n",
            "dense_213 (Dense)            (None, 100)               30100     \n",
            "_________________________________________________________________\n",
            "batch_normalization_2 (Batch (None, 100)               400       \n",
            "_________________________________________________________________\n",
            "dense_214 (Dense)            (None, 10)                1010      \n",
            "=================================================================\n",
            "Total params: 271,346\n",
            "Trainable params: 268,978\n",
            "Non-trainable params: 2,368\n",
            "_________________________________________________________________\n"
          ],
          "name": "stdout"
        }
      ]
    },
    {
      "cell_type": "code",
      "metadata": {
        "colab": {
          "base_uri": "https://localhost:8080/"
        },
        "id": "qvdqVN5PFe6a",
        "outputId": "98f83562-6285-4c1e-90f5-63151d58b1e5"
      },
      "source": [
        "bn1 = model.layers[1]\n",
        "[(var.name, var.trainable) for var in bn1.variables] #parámetros entrenables y no entrenables en BN"
      ],
      "execution_count": 42,
      "outputs": [
        {
          "output_type": "execute_result",
          "data": {
            "text/plain": [
              "[('batch_normalization/gamma:0', True),\n",
              " ('batch_normalization/beta:0', True),\n",
              " ('batch_normalization/moving_mean:0', False),\n",
              " ('batch_normalization/moving_variance:0', False)]"
            ]
          },
          "metadata": {},
          "execution_count": 42
        }
      ]
    },
    {
      "cell_type": "code",
      "metadata": {
        "colab": {
          "base_uri": "https://localhost:8080/"
        },
        "id": "poqRHZOuFe6a",
        "outputId": "76235f52-9202-4a3e-c01d-8e1d1548e5ae"
      },
      "source": [
        "bn1.updates #operaciones definidas en keras para promediado movil"
      ],
      "execution_count": 43,
      "outputs": [
        {
          "output_type": "stream",
          "text": [
            "/usr/local/lib/python3.7/dist-packages/keras/engine/base_layer.py:1348: UserWarning: `layer.updates` will be removed in a future version. This property should not be used in TensorFlow 2.0, as `updates` are applied automatically.\n",
            "  warnings.warn('`layer.updates` will be removed in a future version. '\n"
          ],
          "name": "stderr"
        },
        {
          "output_type": "execute_result",
          "data": {
            "text/plain": [
              "[]"
            ]
          },
          "metadata": {},
          "execution_count": 43
        }
      ]
    },
    {
      "cell_type": "code",
      "metadata": {
        "id": "BlwjfKv0Fe6a",
        "colab": {
          "base_uri": "https://localhost:8080/"
        },
        "outputId": "f4e31e3f-fb5c-44d7-9175-1d45e19c01f2"
      },
      "source": [
        "model.compile(loss=\"sparse_categorical_crossentropy\",\n",
        "              optimizer=keras.optimizers.SGD(lr=1e-3),\n",
        "              metrics=[\"accuracy\"])"
      ],
      "execution_count": 44,
      "outputs": [
        {
          "output_type": "stream",
          "text": [
            "/usr/local/lib/python3.7/dist-packages/keras/optimizer_v2/optimizer_v2.py:356: UserWarning: The `lr` argument is deprecated, use `learning_rate` instead.\n",
            "  \"The `lr` argument is deprecated, use `learning_rate` instead.\")\n"
          ],
          "name": "stderr"
        }
      ]
    },
    {
      "cell_type": "code",
      "metadata": {
        "colab": {
          "base_uri": "https://localhost:8080/"
        },
        "id": "M1g_StETFe6a",
        "outputId": "aa552165-2a5a-461d-ee41-1ce945a6b58f"
      },
      "source": [
        "history = model.fit(X_train, y_train, epochs=10,\n",
        "                    validation_data=(X_valid, y_valid))"
      ],
      "execution_count": 45,
      "outputs": [
        {
          "output_type": "stream",
          "text": [
            "Epoch 1/10\n",
            "1719/1719 [==============================] - 9s 5ms/step - loss: 0.8750 - accuracy: 0.7123 - val_loss: 0.5525 - val_accuracy: 0.8230\n",
            "Epoch 2/10\n",
            "1719/1719 [==============================] - 7s 4ms/step - loss: 0.5754 - accuracy: 0.8031 - val_loss: 0.4724 - val_accuracy: 0.8472\n",
            "Epoch 3/10\n",
            "1719/1719 [==============================] - 7s 4ms/step - loss: 0.5189 - accuracy: 0.8204 - val_loss: 0.4373 - val_accuracy: 0.8546\n",
            "Epoch 4/10\n",
            "1719/1719 [==============================] - 7s 4ms/step - loss: 0.4827 - accuracy: 0.8325 - val_loss: 0.4151 - val_accuracy: 0.8602\n",
            "Epoch 5/10\n",
            "1719/1719 [==============================] - 7s 4ms/step - loss: 0.4566 - accuracy: 0.8406 - val_loss: 0.3998 - val_accuracy: 0.8642\n",
            "Epoch 6/10\n",
            "1719/1719 [==============================] - 8s 4ms/step - loss: 0.4397 - accuracy: 0.8475 - val_loss: 0.3868 - val_accuracy: 0.8698\n",
            "Epoch 7/10\n",
            "1719/1719 [==============================] - 7s 4ms/step - loss: 0.4242 - accuracy: 0.8513 - val_loss: 0.3763 - val_accuracy: 0.8702\n",
            "Epoch 8/10\n",
            "1719/1719 [==============================] - 8s 4ms/step - loss: 0.4144 - accuracy: 0.8541 - val_loss: 0.3712 - val_accuracy: 0.8738\n",
            "Epoch 9/10\n",
            "1719/1719 [==============================] - 7s 4ms/step - loss: 0.4024 - accuracy: 0.8580 - val_loss: 0.3631 - val_accuracy: 0.8752\n",
            "Epoch 10/10\n",
            "1719/1719 [==============================] - 7s 4ms/step - loss: 0.3914 - accuracy: 0.8622 - val_loss: 0.3573 - val_accuracy: 0.8756\n"
          ],
          "name": "stdout"
        }
      ]
    },
    {
      "cell_type": "markdown",
      "metadata": {
        "id": "uWpAmDy5Fe6a"
      },
      "source": [
        "* En algunos casos se sugiere incluir BN antes de las funciones de activación (no hay evidencia completa al respecto).\n",
        "\n",
        "* La capa antes de BN no necesita el bias dado que el BN lo incluye"
      ]
    },
    {
      "cell_type": "code",
      "metadata": {
        "id": "EZQTO_dIFe6a"
      },
      "source": [
        "model = keras.models.Sequential([\n",
        "    keras.layers.Flatten(input_shape=[28, 28]),\n",
        "    keras.layers.BatchNormalization(),\n",
        "    keras.layers.Dense(300, use_bias=False),\n",
        "    keras.layers.BatchNormalization(),\n",
        "    keras.layers.Activation(\"relu\"),\n",
        "    keras.layers.Dense(100, use_bias=False),\n",
        "    keras.layers.BatchNormalization(),\n",
        "    keras.layers.Activation(\"relu\"),\n",
        "    keras.layers.Dense(10, activation=\"softmax\")\n",
        "])"
      ],
      "execution_count": 46,
      "outputs": []
    },
    {
      "cell_type": "code",
      "metadata": {
        "id": "IHeWxOR_Fe6a",
        "colab": {
          "base_uri": "https://localhost:8080/"
        },
        "outputId": "5beb21e1-c382-483b-996e-1d0d18b3c0a3"
      },
      "source": [
        "model.compile(loss=\"sparse_categorical_crossentropy\",\n",
        "              optimizer=keras.optimizers.SGD(lr=1e-3),\n",
        "              metrics=[\"accuracy\"])"
      ],
      "execution_count": 47,
      "outputs": [
        {
          "output_type": "stream",
          "text": [
            "/usr/local/lib/python3.7/dist-packages/keras/optimizer_v2/optimizer_v2.py:356: UserWarning: The `lr` argument is deprecated, use `learning_rate` instead.\n",
            "  \"The `lr` argument is deprecated, use `learning_rate` instead.\")\n"
          ],
          "name": "stderr"
        }
      ]
    },
    {
      "cell_type": "code",
      "metadata": {
        "colab": {
          "base_uri": "https://localhost:8080/"
        },
        "id": "-Qi8k0McFe6b",
        "outputId": "28f757cf-6e89-40da-cbce-d9c93fb45bbc"
      },
      "source": [
        "history = model.fit(X_train, y_train, epochs=10,\n",
        "                    validation_data=(X_valid, y_valid))"
      ],
      "execution_count": 48,
      "outputs": [
        {
          "output_type": "stream",
          "text": [
            "Epoch 1/10\n",
            "1719/1719 [==============================] - 8s 4ms/step - loss: 1.0317 - accuracy: 0.6756 - val_loss: 0.6767 - val_accuracy: 0.7812\n",
            "Epoch 2/10\n",
            "1719/1719 [==============================] - 7s 4ms/step - loss: 0.6790 - accuracy: 0.7793 - val_loss: 0.5566 - val_accuracy: 0.8182\n",
            "Epoch 3/10\n",
            "1719/1719 [==============================] - 7s 4ms/step - loss: 0.5960 - accuracy: 0.8037 - val_loss: 0.5007 - val_accuracy: 0.8360\n",
            "Epoch 4/10\n",
            "1719/1719 [==============================] - 8s 4ms/step - loss: 0.5447 - accuracy: 0.8191 - val_loss: 0.4666 - val_accuracy: 0.8450\n",
            "Epoch 5/10\n",
            "1719/1719 [==============================] - 8s 4ms/step - loss: 0.5109 - accuracy: 0.8279 - val_loss: 0.4434 - val_accuracy: 0.8540\n",
            "Epoch 6/10\n",
            "1719/1719 [==============================] - 8s 4ms/step - loss: 0.4898 - accuracy: 0.8338 - val_loss: 0.4262 - val_accuracy: 0.8542\n",
            "Epoch 7/10\n",
            "1719/1719 [==============================] - 7s 4ms/step - loss: 0.4712 - accuracy: 0.8396 - val_loss: 0.4130 - val_accuracy: 0.8568\n",
            "Epoch 8/10\n",
            "1719/1719 [==============================] - 7s 4ms/step - loss: 0.4560 - accuracy: 0.8440 - val_loss: 0.4034 - val_accuracy: 0.8606\n",
            "Epoch 9/10\n",
            "1719/1719 [==============================] - 7s 4ms/step - loss: 0.4441 - accuracy: 0.8473 - val_loss: 0.3943 - val_accuracy: 0.8640\n",
            "Epoch 10/10\n",
            "1719/1719 [==============================] - 7s 4ms/step - loss: 0.4332 - accuracy: 0.8504 - val_loss: 0.3875 - val_accuracy: 0.8664\n"
          ],
          "name": "stdout"
        }
      ]
    },
    {
      "cell_type": "markdown",
      "metadata": {
        "id": "24Im4o78Fe6b"
      },
      "source": [
        "# Recorte del gradiente\n",
        "## Gradient Clipping\n",
        "\n",
        "* Para evitar el problema de exploding se recorta (clip) el gradiente para que no supere un umbral dado.\n",
        "\n",
        "* Método muy utilizado en modelos recurrentes.\n",
        "\n",
        "* BN dificil de acoplar en RNN (escaldo y traslación de series temporales)\n",
        "\n",
        "* Para evitar problemas de dirección, se sugiere trabajar con recorte por umbral sobre la norma del gradiente y no sobre los valores puntuales del mismo."
      ]
    },
    {
      "cell_type": "markdown",
      "metadata": {
        "id": "p1tvgtIjFe6b"
      },
      "source": [
        "Los optimizadores de keras incluyen `clipnorm` y `clipvalue`:"
      ]
    },
    {
      "cell_type": "code",
      "metadata": {
        "id": "NGKBEqWVFe6b"
      },
      "source": [
        "optimizer = keras.optimizers.SGD(clipvalue=1.0)"
      ],
      "execution_count": 49,
      "outputs": []
    },
    {
      "cell_type": "code",
      "metadata": {
        "id": "XWx4oNm8Fe6b"
      },
      "source": [
        "optimizer = keras.optimizers.SGD(clipnorm=1.0)"
      ],
      "execution_count": 50,
      "outputs": []
    },
    {
      "cell_type": "markdown",
      "metadata": {
        "id": "zIDL9Of9Fe6b"
      },
      "source": [
        "# Reutilizar redes pre-entrenadas para evitar sobreajuste y problemas de convergencia (transfer  learning)\n",
        "\n",
        "- Se puede aprovechar redes entrenadas en grandes bases de datos o en problemas parecidos, para regularizar o acelerar el entrenamiento en tareas similares.\n",
        "\n",
        "- Se genera un modelo sobre 8 clases de FMNIST y se realizará el transfer learning a un problema bi clase\n"
      ]
    },
    {
      "cell_type": "code",
      "metadata": {
        "id": "YEfkHHukFe6b"
      },
      "source": [
        "def split_dataset(X, y): # particionar Fashion MNIST \n",
        "    y_5_or_6 = (y == 5) | (y == 6) # sandals or shirts\n",
        "    y_A = y[~y_5_or_6]\n",
        "    y_A[y_A > 6] -= 2 # class indices 7, 8, 9 should be moved to 5, 6, 7\n",
        "    y_B = (y[y_5_or_6] == 6).astype(np.float32) # binary classification task: is it a shirt (class 6)?\n",
        "    return ((X[~y_5_or_6], y_A),\n",
        "            (X[y_5_or_6], y_B))\n",
        "\n",
        "(X_train_A, y_train_A), (X_train_B, y_train_B) = split_dataset(X_train, y_train)\n",
        "(X_valid_A, y_valid_A), (X_valid_B, y_valid_B) = split_dataset(X_valid, y_valid)\n",
        "(X_test_A, y_test_A), (X_test_B, y_test_B) = split_dataset(X_test, y_test)\n",
        "X_train_B = X_train_B[:200]\n",
        "y_train_B = y_train_B[:200]"
      ],
      "execution_count": 51,
      "outputs": []
    },
    {
      "cell_type": "code",
      "metadata": {
        "colab": {
          "base_uri": "https://localhost:8080/"
        },
        "id": "VQrLHPVgFe6b",
        "outputId": "54b61786-d933-4843-9772-93ca249189e4"
      },
      "source": [
        "X_train_A.shape"
      ],
      "execution_count": 52,
      "outputs": [
        {
          "output_type": "execute_result",
          "data": {
            "text/plain": [
              "(43986, 28, 28)"
            ]
          },
          "metadata": {},
          "execution_count": 52
        }
      ]
    },
    {
      "cell_type": "code",
      "metadata": {
        "colab": {
          "base_uri": "https://localhost:8080/"
        },
        "id": "QrJK_CjQFe6b",
        "outputId": "24820472-2cc3-45c1-954e-86ee2c7defe7"
      },
      "source": [
        "X_train_B.shape"
      ],
      "execution_count": 53,
      "outputs": [
        {
          "output_type": "execute_result",
          "data": {
            "text/plain": [
              "(200, 28, 28)"
            ]
          },
          "metadata": {},
          "execution_count": 53
        }
      ]
    },
    {
      "cell_type": "code",
      "metadata": {
        "colab": {
          "base_uri": "https://localhost:8080/"
        },
        "id": "fOZRxz0DFe6b",
        "outputId": "74ee6b1d-4418-4dab-9923-5bcb466eeab5"
      },
      "source": [
        "y_train_A[:30]\n"
      ],
      "execution_count": 54,
      "outputs": [
        {
          "output_type": "execute_result",
          "data": {
            "text/plain": [
              "array([4, 0, 5, 7, 7, 7, 4, 4, 3, 4, 0, 1, 6, 3, 4, 3, 2, 6, 5, 3, 4, 5,\n",
              "       1, 3, 4, 2, 0, 6, 7, 1], dtype=uint8)"
            ]
          },
          "metadata": {},
          "execution_count": 54
        }
      ]
    },
    {
      "cell_type": "code",
      "metadata": {
        "colab": {
          "base_uri": "https://localhost:8080/"
        },
        "id": "bdvPmHCvFe6b",
        "outputId": "e0e0ad6c-7299-484d-fc5f-aae0c0011564"
      },
      "source": [
        "y_train_B[:30]"
      ],
      "execution_count": 55,
      "outputs": [
        {
          "output_type": "execute_result",
          "data": {
            "text/plain": [
              "array([1., 1., 0., 0., 0., 0., 1., 1., 1., 0., 0., 1., 1., 0., 0., 0., 0.,\n",
              "       0., 0., 1., 1., 0., 0., 1., 1., 0., 1., 1., 1., 1.], dtype=float32)"
            ]
          },
          "metadata": {},
          "execution_count": 55
        }
      ]
    },
    {
      "cell_type": "code",
      "metadata": {
        "colab": {
          "base_uri": "https://localhost:8080/"
        },
        "id": "X7ICsR8HI1QL",
        "outputId": "731fd865-4056-4e90-c339-40c38a56ffe9"
      },
      "source": [
        "print(np.unique(y_train_A),np.unique(y_train_B))"
      ],
      "execution_count": 56,
      "outputs": [
        {
          "output_type": "stream",
          "text": [
            "[0 1 2 3 4 5 6 7] [0. 1.]\n"
          ],
          "name": "stdout"
        }
      ]
    },
    {
      "cell_type": "markdown",
      "metadata": {
        "id": "v4J8Wrp26_aW"
      },
      "source": [
        "# Entrenamiento del modelo A"
      ]
    },
    {
      "cell_type": "code",
      "metadata": {
        "id": "60jMvG-nFe6b"
      },
      "source": [
        "tf.random.set_seed(42)\n",
        "np.random.seed(42)"
      ],
      "execution_count": 57,
      "outputs": []
    },
    {
      "cell_type": "code",
      "metadata": {
        "id": "hllPs2PeFe6b"
      },
      "source": [
        "model_A = keras.models.Sequential()\n",
        "model_A.add(keras.layers.Flatten(input_shape=[28, 28]))\n",
        "for n_hidden in (300, 100, 50, 50, 50):\n",
        "    model_A.add(keras.layers.Dense(n_hidden, activation=\"selu\"))\n",
        "model_A.add(keras.layers.Dense(8, activation=\"softmax\"))"
      ],
      "execution_count": 58,
      "outputs": []
    },
    {
      "cell_type": "code",
      "metadata": {
        "id": "h4u8F960Fe6b",
        "colab": {
          "base_uri": "https://localhost:8080/"
        },
        "outputId": "3a63b41d-fafd-43c8-d903-ed2d9c493094"
      },
      "source": [
        "model_A.compile(loss=\"sparse_categorical_crossentropy\",\n",
        "                optimizer=keras.optimizers.SGD(lr=1e-3),\n",
        "                metrics=[\"accuracy\"])"
      ],
      "execution_count": 59,
      "outputs": [
        {
          "output_type": "stream",
          "text": [
            "/usr/local/lib/python3.7/dist-packages/keras/optimizer_v2/optimizer_v2.py:356: UserWarning: The `lr` argument is deprecated, use `learning_rate` instead.\n",
            "  \"The `lr` argument is deprecated, use `learning_rate` instead.\")\n"
          ],
          "name": "stderr"
        }
      ]
    },
    {
      "cell_type": "code",
      "metadata": {
        "colab": {
          "base_uri": "https://localhost:8080/"
        },
        "id": "b45VsyRcFe6b",
        "outputId": "99dbd301-4032-46c9-ea6f-fdc1bc559ce3"
      },
      "source": [
        "history = model_A.fit(X_train_A, y_train_A, epochs=20,\n",
        "                    validation_data=(X_valid_A, y_valid_A))"
      ],
      "execution_count": 60,
      "outputs": [
        {
          "output_type": "stream",
          "text": [
            "Epoch 1/20\n",
            "1375/1375 [==============================] - 5s 3ms/step - loss: 0.5926 - accuracy: 0.8103 - val_loss: 0.3894 - val_accuracy: 0.8660\n",
            "Epoch 2/20\n",
            "1375/1375 [==============================] - 4s 3ms/step - loss: 0.3523 - accuracy: 0.8787 - val_loss: 0.3289 - val_accuracy: 0.8824\n",
            "Epoch 3/20\n",
            "1375/1375 [==============================] - 4s 3ms/step - loss: 0.3170 - accuracy: 0.8896 - val_loss: 0.3012 - val_accuracy: 0.8986\n",
            "Epoch 4/20\n",
            "1375/1375 [==============================] - 4s 3ms/step - loss: 0.2974 - accuracy: 0.8975 - val_loss: 0.2892 - val_accuracy: 0.9026\n",
            "Epoch 5/20\n",
            "1375/1375 [==============================] - 4s 3ms/step - loss: 0.2835 - accuracy: 0.9021 - val_loss: 0.2775 - val_accuracy: 0.9063\n",
            "Epoch 6/20\n",
            "1375/1375 [==============================] - 5s 3ms/step - loss: 0.2730 - accuracy: 0.9059 - val_loss: 0.2733 - val_accuracy: 0.9066\n",
            "Epoch 7/20\n",
            "1375/1375 [==============================] - 4s 3ms/step - loss: 0.2641 - accuracy: 0.9095 - val_loss: 0.2720 - val_accuracy: 0.9083\n",
            "Epoch 8/20\n",
            "1375/1375 [==============================] - 4s 3ms/step - loss: 0.2573 - accuracy: 0.9126 - val_loss: 0.2588 - val_accuracy: 0.9141\n",
            "Epoch 9/20\n",
            "1375/1375 [==============================] - 5s 3ms/step - loss: 0.2519 - accuracy: 0.9136 - val_loss: 0.2562 - val_accuracy: 0.9143\n",
            "Epoch 10/20\n",
            "1375/1375 [==============================] - 5s 3ms/step - loss: 0.2469 - accuracy: 0.9153 - val_loss: 0.2543 - val_accuracy: 0.9153\n",
            "Epoch 11/20\n",
            "1375/1375 [==============================] - 4s 3ms/step - loss: 0.2423 - accuracy: 0.9178 - val_loss: 0.2497 - val_accuracy: 0.9148\n",
            "Epoch 12/20\n",
            "1375/1375 [==============================] - 4s 3ms/step - loss: 0.2383 - accuracy: 0.9186 - val_loss: 0.2510 - val_accuracy: 0.9133\n",
            "Epoch 13/20\n",
            "1375/1375 [==============================] - 5s 3ms/step - loss: 0.2351 - accuracy: 0.9196 - val_loss: 0.2446 - val_accuracy: 0.9158\n",
            "Epoch 14/20\n",
            "1375/1375 [==============================] - 5s 3ms/step - loss: 0.2316 - accuracy: 0.9214 - val_loss: 0.2414 - val_accuracy: 0.9178\n",
            "Epoch 15/20\n",
            "1375/1375 [==============================] - 4s 3ms/step - loss: 0.2288 - accuracy: 0.9213 - val_loss: 0.2446 - val_accuracy: 0.9188\n",
            "Epoch 16/20\n",
            "1375/1375 [==============================] - 4s 3ms/step - loss: 0.2255 - accuracy: 0.9222 - val_loss: 0.2385 - val_accuracy: 0.9193\n",
            "Epoch 17/20\n",
            "1375/1375 [==============================] - 4s 3ms/step - loss: 0.2231 - accuracy: 0.9234 - val_loss: 0.2408 - val_accuracy: 0.9178\n",
            "Epoch 18/20\n",
            "1375/1375 [==============================] - 5s 3ms/step - loss: 0.2201 - accuracy: 0.9244 - val_loss: 0.2430 - val_accuracy: 0.9155\n",
            "Epoch 19/20\n",
            "1375/1375 [==============================] - 4s 3ms/step - loss: 0.2178 - accuracy: 0.9252 - val_loss: 0.2329 - val_accuracy: 0.9205\n",
            "Epoch 20/20\n",
            "1375/1375 [==============================] - 4s 3ms/step - loss: 0.2156 - accuracy: 0.9263 - val_loss: 0.2333 - val_accuracy: 0.9205\n"
          ],
          "name": "stdout"
        }
      ]
    },
    {
      "cell_type": "markdown",
      "metadata": {
        "id": "hfBS5W6J7EiZ"
      },
      "source": [
        "# Guardamos el modelo en formato h5 para cargar los pesos a la hora de entrenar el modelo B"
      ]
    },
    {
      "cell_type": "code",
      "metadata": {
        "id": "pMGQ83DgFe6b"
      },
      "source": [
        "model_A.save(\"my_model_A.h5\")"
      ],
      "execution_count": 61,
      "outputs": []
    },
    {
      "cell_type": "markdown",
      "metadata": {
        "id": "43m5qLBS7P-8"
      },
      "source": [
        "# Entrenamiento convencional del modelo B"
      ]
    },
    {
      "cell_type": "code",
      "metadata": {
        "id": "gKmgd5jIFe6b"
      },
      "source": [
        "model_B = keras.models.Sequential()\n",
        "model_B.add(keras.layers.Flatten(input_shape=[28, 28]))\n",
        "for n_hidden in (300, 100, 50, 50, 50):\n",
        "    model_B.add(keras.layers.Dense(n_hidden, activation=\"selu\"))\n",
        "model_B.add(keras.layers.Dense(1, activation=\"sigmoid\"))"
      ],
      "execution_count": 62,
      "outputs": []
    },
    {
      "cell_type": "code",
      "metadata": {
        "id": "V1QpnIhVFe6b",
        "colab": {
          "base_uri": "https://localhost:8080/"
        },
        "outputId": "605c72af-a96b-4bb7-81d3-24b35ad4536a"
      },
      "source": [
        "model_B.compile(loss=\"binary_crossentropy\",\n",
        "                optimizer=keras.optimizers.SGD(lr=1e-3),\n",
        "                metrics=[\"accuracy\"])"
      ],
      "execution_count": 63,
      "outputs": [
        {
          "output_type": "stream",
          "text": [
            "/usr/local/lib/python3.7/dist-packages/keras/optimizer_v2/optimizer_v2.py:356: UserWarning: The `lr` argument is deprecated, use `learning_rate` instead.\n",
            "  \"The `lr` argument is deprecated, use `learning_rate` instead.\")\n"
          ],
          "name": "stderr"
        }
      ]
    },
    {
      "cell_type": "code",
      "metadata": {
        "colab": {
          "base_uri": "https://localhost:8080/"
        },
        "id": "5gfVpyxBFe6b",
        "outputId": "fa5bb92b-75c7-4a0e-e4e3-04e25c045b7b"
      },
      "source": [
        "history = model_B.fit(X_train_B, y_train_B, epochs=20,\n",
        "                      validation_data=(X_valid_B, y_valid_B))"
      ],
      "execution_count": 64,
      "outputs": [
        {
          "output_type": "stream",
          "text": [
            "Epoch 1/20\n",
            "7/7 [==============================] - 1s 57ms/step - loss: 0.9573 - accuracy: 0.4650 - val_loss: 0.6314 - val_accuracy: 0.6004\n",
            "Epoch 2/20\n",
            "7/7 [==============================] - 0s 16ms/step - loss: 0.5692 - accuracy: 0.7450 - val_loss: 0.4784 - val_accuracy: 0.8529\n",
            "Epoch 3/20\n",
            "7/7 [==============================] - 0s 18ms/step - loss: 0.4503 - accuracy: 0.8650 - val_loss: 0.4102 - val_accuracy: 0.8945\n",
            "Epoch 4/20\n",
            "7/7 [==============================] - 0s 16ms/step - loss: 0.3879 - accuracy: 0.8950 - val_loss: 0.3647 - val_accuracy: 0.9178\n",
            "Epoch 5/20\n",
            "7/7 [==============================] - 0s 16ms/step - loss: 0.3435 - accuracy: 0.9250 - val_loss: 0.3300 - val_accuracy: 0.9320\n",
            "Epoch 6/20\n",
            "7/7 [==============================] - 0s 16ms/step - loss: 0.3081 - accuracy: 0.9300 - val_loss: 0.3019 - val_accuracy: 0.9402\n",
            "Epoch 7/20\n",
            "7/7 [==============================] - 0s 17ms/step - loss: 0.2800 - accuracy: 0.9350 - val_loss: 0.2804 - val_accuracy: 0.9422\n",
            "Epoch 8/20\n",
            "7/7 [==============================] - 0s 16ms/step - loss: 0.2564 - accuracy: 0.9450 - val_loss: 0.2606 - val_accuracy: 0.9473\n",
            "Epoch 9/20\n",
            "7/7 [==============================] - 0s 16ms/step - loss: 0.2362 - accuracy: 0.9550 - val_loss: 0.2428 - val_accuracy: 0.9523\n",
            "Epoch 10/20\n",
            "7/7 [==============================] - 0s 16ms/step - loss: 0.2188 - accuracy: 0.9600 - val_loss: 0.2281 - val_accuracy: 0.9544\n",
            "Epoch 11/20\n",
            "7/7 [==============================] - 0s 18ms/step - loss: 0.2036 - accuracy: 0.9700 - val_loss: 0.2150 - val_accuracy: 0.9584\n",
            "Epoch 12/20\n",
            "7/7 [==============================] - 0s 15ms/step - loss: 0.1898 - accuracy: 0.9700 - val_loss: 0.2036 - val_accuracy: 0.9584\n",
            "Epoch 13/20\n",
            "7/7 [==============================] - 0s 15ms/step - loss: 0.1773 - accuracy: 0.9750 - val_loss: 0.1931 - val_accuracy: 0.9615\n",
            "Epoch 14/20\n",
            "7/7 [==============================] - 0s 17ms/step - loss: 0.1668 - accuracy: 0.9800 - val_loss: 0.1838 - val_accuracy: 0.9635\n",
            "Epoch 15/20\n",
            "7/7 [==============================] - 0s 16ms/step - loss: 0.1570 - accuracy: 0.9900 - val_loss: 0.1746 - val_accuracy: 0.9686\n",
            "Epoch 16/20\n",
            "7/7 [==============================] - 0s 16ms/step - loss: 0.1481 - accuracy: 0.9900 - val_loss: 0.1674 - val_accuracy: 0.9686\n",
            "Epoch 17/20\n",
            "7/7 [==============================] - 0s 15ms/step - loss: 0.1406 - accuracy: 0.9900 - val_loss: 0.1604 - val_accuracy: 0.9706\n",
            "Epoch 18/20\n",
            "7/7 [==============================] - 0s 17ms/step - loss: 0.1334 - accuracy: 0.9900 - val_loss: 0.1539 - val_accuracy: 0.9706\n",
            "Epoch 19/20\n",
            "7/7 [==============================] - 0s 16ms/step - loss: 0.1268 - accuracy: 0.9900 - val_loss: 0.1482 - val_accuracy: 0.9716\n",
            "Epoch 20/20\n",
            "7/7 [==============================] - 0s 29ms/step - loss: 0.1208 - accuracy: 0.9900 - val_loss: 0.1431 - val_accuracy: 0.9716\n"
          ],
          "name": "stdout"
        }
      ]
    },
    {
      "cell_type": "code",
      "metadata": {
        "colab": {
          "base_uri": "https://localhost:8080/"
        },
        "id": "4HCP__CjFe6c",
        "outputId": "79048e96-f982-4685-a2f7-ddd679881bf1"
      },
      "source": [
        "model.summary()"
      ],
      "execution_count": 65,
      "outputs": [
        {
          "output_type": "stream",
          "text": [
            "Model: \"sequential_5\"\n",
            "_________________________________________________________________\n",
            "Layer (type)                 Output Shape              Param #   \n",
            "=================================================================\n",
            "flatten_5 (Flatten)          (None, 784)               0         \n",
            "_________________________________________________________________\n",
            "batch_normalization_3 (Batch (None, 784)               3136      \n",
            "_________________________________________________________________\n",
            "dense_215 (Dense)            (None, 300)               235200    \n",
            "_________________________________________________________________\n",
            "batch_normalization_4 (Batch (None, 300)               1200      \n",
            "_________________________________________________________________\n",
            "activation (Activation)      (None, 300)               0         \n",
            "_________________________________________________________________\n",
            "dense_216 (Dense)            (None, 100)               30000     \n",
            "_________________________________________________________________\n",
            "batch_normalization_5 (Batch (None, 100)               400       \n",
            "_________________________________________________________________\n",
            "activation_1 (Activation)    (None, 100)               0         \n",
            "_________________________________________________________________\n",
            "dense_217 (Dense)            (None, 10)                1010      \n",
            "=================================================================\n",
            "Total params: 270,946\n",
            "Trainable params: 268,578\n",
            "Non-trainable params: 2,368\n",
            "_________________________________________________________________\n"
          ],
          "name": "stdout"
        }
      ]
    },
    {
      "cell_type": "markdown",
      "metadata": {
        "id": "VPRO8oSMntb6"
      },
      "source": [
        "# Aplicar transfer learning desde el modelo A al modelo B"
      ]
    },
    {
      "cell_type": "code",
      "metadata": {
        "id": "8X2klhcgFe6c"
      },
      "source": [
        "model_A = keras.models.load_model(\"my_model_A.h5\")\n",
        "model_B_on_A = keras.models.Sequential(model_A.layers[:-1])  # cargar capas preentrenadas!\n",
        "#tambien se puede trabajar por modelo funcional fijando como entrada y salida las capas de interes\n",
        "#model_B_on_A = keras.Model(inputs=model_A.input,outputs=model_A.get_layer('???').output)\n",
        "model_B_on_A.add(keras.layers.Dense(1, activation=\"sigmoid\"))"
      ],
      "execution_count": 66,
      "outputs": []
    },
    {
      "cell_type": "code",
      "metadata": {
        "id": "b5kIlVqGFe6c"
      },
      "source": [
        "model_A_clone = keras.models.clone_model(model_A) #clonar arquitectura del modelo\n",
        "model_A_clone.set_weights(model_A.get_weights()) #asignar valores de pesos en modelo A"
      ],
      "execution_count": 67,
      "outputs": []
    },
    {
      "cell_type": "code",
      "metadata": {
        "id": "z6FmMPGPFe6c",
        "colab": {
          "base_uri": "https://localhost:8080/"
        },
        "outputId": "aea90ab2-b025-4c04-bb67-aa7b47c746ae"
      },
      "source": [
        "for layer in model_B_on_A.layers[:-1]: #definir capas no entrenables para transfer learning\n",
        "    layer.trainable = False\n",
        "\n",
        "model_B_on_A.compile(loss=\"binary_crossentropy\",\n",
        "                     optimizer=keras.optimizers.SGD(lr=1e-3),\n",
        "                     metrics=[\"accuracy\"])\n",
        "\n",
        "history = model_B_on_A.fit(X_train_B, y_train_B, epochs=4,\n",
        "                           validation_data=(X_valid_B, y_valid_B))"
      ],
      "execution_count": 68,
      "outputs": [
        {
          "output_type": "stream",
          "text": [
            "/usr/local/lib/python3.7/dist-packages/keras/optimizer_v2/optimizer_v2.py:356: UserWarning: The `lr` argument is deprecated, use `learning_rate` instead.\n",
            "  \"The `lr` argument is deprecated, use `learning_rate` instead.\")\n"
          ],
          "name": "stderr"
        },
        {
          "output_type": "stream",
          "text": [
            "Epoch 1/4\n",
            "7/7 [==============================] - 1s 55ms/step - loss: 0.5737 - accuracy: 0.6550 - val_loss: 0.5782 - val_accuracy: 0.6400\n",
            "Epoch 2/4\n",
            "7/7 [==============================] - 0s 16ms/step - loss: 0.5375 - accuracy: 0.6900 - val_loss: 0.5411 - val_accuracy: 0.6856\n",
            "Epoch 3/4\n",
            "7/7 [==============================] - 0s 16ms/step - loss: 0.5011 - accuracy: 0.7350 - val_loss: 0.5094 - val_accuracy: 0.7150\n",
            "Epoch 4/4\n",
            "7/7 [==============================] - 0s 16ms/step - loss: 0.4699 - accuracy: 0.7550 - val_loss: 0.4810 - val_accuracy: 0.7383\n"
          ],
          "name": "stdout"
        }
      ]
    },
    {
      "cell_type": "code",
      "metadata": {
        "colab": {
          "base_uri": "https://localhost:8080/"
        },
        "id": "BzkMz_CoFe6c",
        "outputId": "0643655f-1ef8-4d4a-d9f2-3506b9dba5d0"
      },
      "source": [
        "for layer in model_B_on_A.layers[:-1]:\n",
        "    layer.trainable = True #todas las capas se entrenan, se utiliza el Transfer learning como inicializador\n",
        "\n",
        "model_B_on_A.compile(loss=\"binary_crossentropy\",\n",
        "                     optimizer=keras.optimizers.SGD(lr=1e-3),\n",
        "                     metrics=[\"accuracy\"])\n",
        "history = model_B_on_A.fit(X_train_B, y_train_B, epochs=16,\n",
        "                           validation_data=(X_valid_B, y_valid_B))"
      ],
      "execution_count": 69,
      "outputs": [
        {
          "output_type": "stream",
          "text": [
            "Epoch 1/16\n"
          ],
          "name": "stdout"
        },
        {
          "output_type": "stream",
          "text": [
            "/usr/local/lib/python3.7/dist-packages/keras/optimizer_v2/optimizer_v2.py:356: UserWarning: The `lr` argument is deprecated, use `learning_rate` instead.\n",
            "  \"The `lr` argument is deprecated, use `learning_rate` instead.\")\n"
          ],
          "name": "stderr"
        },
        {
          "output_type": "stream",
          "text": [
            "7/7 [==============================] - 1s 44ms/step - loss: 0.3928 - accuracy: 0.8150 - val_loss: 0.3437 - val_accuracy: 0.8661\n",
            "Epoch 2/16\n",
            "7/7 [==============================] - 0s 15ms/step - loss: 0.2782 - accuracy: 0.9350 - val_loss: 0.2592 - val_accuracy: 0.9310\n",
            "Epoch 3/16\n",
            "7/7 [==============================] - 0s 17ms/step - loss: 0.2075 - accuracy: 0.9650 - val_loss: 0.2102 - val_accuracy: 0.9554\n",
            "Epoch 4/16\n",
            "7/7 [==============================] - 0s 15ms/step - loss: 0.1665 - accuracy: 0.9750 - val_loss: 0.1785 - val_accuracy: 0.9696\n",
            "Epoch 5/16\n",
            "7/7 [==============================] - 0s 15ms/step - loss: 0.1395 - accuracy: 0.9800 - val_loss: 0.1557 - val_accuracy: 0.9767\n",
            "Epoch 6/16\n",
            "7/7 [==============================] - 0s 17ms/step - loss: 0.1195 - accuracy: 0.9950 - val_loss: 0.1389 - val_accuracy: 0.9807\n",
            "Epoch 7/16\n",
            "7/7 [==============================] - 0s 16ms/step - loss: 0.1049 - accuracy: 0.9950 - val_loss: 0.1263 - val_accuracy: 0.9848\n",
            "Epoch 8/16\n",
            "7/7 [==============================] - 0s 30ms/step - loss: 0.0936 - accuracy: 1.0000 - val_loss: 0.1161 - val_accuracy: 0.9858\n",
            "Epoch 9/16\n",
            "7/7 [==============================] - 0s 16ms/step - loss: 0.0846 - accuracy: 1.0000 - val_loss: 0.1063 - val_accuracy: 0.9888\n",
            "Epoch 10/16\n",
            "7/7 [==============================] - 0s 16ms/step - loss: 0.0761 - accuracy: 1.0000 - val_loss: 0.0997 - val_accuracy: 0.9899\n",
            "Epoch 11/16\n",
            "7/7 [==============================] - 0s 16ms/step - loss: 0.0703 - accuracy: 1.0000 - val_loss: 0.0937 - val_accuracy: 0.9899\n",
            "Epoch 12/16\n",
            "7/7 [==============================] - 0s 16ms/step - loss: 0.0648 - accuracy: 1.0000 - val_loss: 0.0886 - val_accuracy: 0.9899\n",
            "Epoch 13/16\n",
            "7/7 [==============================] - 0s 16ms/step - loss: 0.0602 - accuracy: 1.0000 - val_loss: 0.0837 - val_accuracy: 0.9899\n",
            "Epoch 14/16\n",
            "7/7 [==============================] - 0s 16ms/step - loss: 0.0558 - accuracy: 1.0000 - val_loss: 0.0801 - val_accuracy: 0.9899\n",
            "Epoch 15/16\n",
            "7/7 [==============================] - 0s 16ms/step - loss: 0.0525 - accuracy: 1.0000 - val_loss: 0.0767 - val_accuracy: 0.9899\n",
            "Epoch 16/16\n",
            "7/7 [==============================] - 0s 29ms/step - loss: 0.0496 - accuracy: 1.0000 - val_loss: 0.0737 - val_accuracy: 0.9899\n"
          ],
          "name": "stdout"
        }
      ]
    },
    {
      "cell_type": "markdown",
      "metadata": {
        "id": "Ne_M5LHtFe6c"
      },
      "source": [
        "Evaluaciones:"
      ]
    },
    {
      "cell_type": "code",
      "metadata": {
        "colab": {
          "base_uri": "https://localhost:8080/"
        },
        "id": "h0BUdT9bFe6c",
        "outputId": "93278d0f-4c82-4496-b8bd-29622af8c2af"
      },
      "source": [
        "model_B.evaluate(X_test_B, y_test_B)"
      ],
      "execution_count": 70,
      "outputs": [
        {
          "output_type": "stream",
          "text": [
            "63/63 [==============================] - 0s 2ms/step - loss: 0.1408 - accuracy: 0.9705\n"
          ],
          "name": "stdout"
        },
        {
          "output_type": "execute_result",
          "data": {
            "text/plain": [
              "[0.1408407837152481, 0.9704999923706055]"
            ]
          },
          "metadata": {},
          "execution_count": 70
        }
      ]
    },
    {
      "cell_type": "code",
      "metadata": {
        "colab": {
          "base_uri": "https://localhost:8080/"
        },
        "id": "wF1JPr6QFe6c",
        "outputId": "29d1b2eb-d34f-4853-f5df-36c48f77adf1"
      },
      "source": [
        "model_B_on_A.evaluate(X_test_B, y_test_B)"
      ],
      "execution_count": 71,
      "outputs": [
        {
          "output_type": "stream",
          "text": [
            "63/63 [==============================] - 0s 3ms/step - loss: 0.0681 - accuracy: 0.9930\n"
          ],
          "name": "stdout"
        },
        {
          "output_type": "execute_result",
          "data": {
            "text/plain": [
              "[0.06810082495212555, 0.9929999709129333]"
            ]
          },
          "metadata": {},
          "execution_count": 71
        }
      ]
    },
    {
      "cell_type": "markdown",
      "metadata": {
        "id": "3eLK2IvsFe6c"
      },
      "source": [
        "Se obtiene  una mejora!"
      ]
    },
    {
      "cell_type": "code",
      "metadata": {
        "colab": {
          "base_uri": "https://localhost:8080/"
        },
        "id": "aVCWChw0Fe6c",
        "outputId": "b82be591-9664-4726-a1f1-b9520f1a895d"
      },
      "source": [
        "(100 - 97.04) / (100 - 99.29)"
      ],
      "execution_count": 72,
      "outputs": [
        {
          "output_type": "execute_result",
          "data": {
            "text/plain": [
              "4.1690140845070705"
            ]
          },
          "metadata": {},
          "execution_count": 72
        }
      ]
    },
    {
      "cell_type": "markdown",
      "metadata": {
        "id": "M3vJWIdcFe6c"
      },
      "source": [
        "# Optimizadores\n",
        "\n",
        "* Gradiente  descendiente:\n",
        "\n",
        "$$\\theta \\leftarrow \\theta -\\eta \\nabla_\\theta J(\\theta)$$\n",
        "\n",
        "* Momentum: considera gradientes previos\n",
        "\n",
        "$$m  \\leftarrow \\beta m - \\nabla_\\theta J(\\theta)$$\n",
        "\n",
        "$$\\theta \\leftarrow \\theta + m $$\n",
        "\n",
        "$\\beta$: hiperparámetro momentum\n",
        "\n",
        "\n",
        "* Los algoritmos basados en momentum añaden mayor velocidad de \n",
        "convergencia.\n",
        "\n",
        "* En keras el optimizador SGD permite incluir el hiperparámetro de momentum.\n",
        "\n",
        "* Además, algunas variantes alrededor de los filosofía de mementum incluyen Nestrov, AdaGrad, RMSProp, Adam, Nadam, AdaDelta"
      ]
    },
    {
      "cell_type": "code",
      "metadata": {
        "id": "nl8Li9rRFe6c",
        "colab": {
          "base_uri": "https://localhost:8080/"
        },
        "outputId": "63d0736a-d67f-40a3-f430-34e068f9409b"
      },
      "source": [
        "optimizer = keras.optimizers.SGD(lr=0.001, momentum=0.9) #como incluir momentum en SGD"
      ],
      "execution_count": 73,
      "outputs": [
        {
          "output_type": "stream",
          "text": [
            "/usr/local/lib/python3.7/dist-packages/keras/optimizer_v2/optimizer_v2.py:356: UserWarning: The `lr` argument is deprecated, use `learning_rate` instead.\n",
            "  \"The `lr` argument is deprecated, use `learning_rate` instead.\")\n"
          ],
          "name": "stderr"
        }
      ]
    },
    {
      "cell_type": "markdown",
      "metadata": {
        "id": "4GRIa__9Fe6c"
      },
      "source": [
        "## Nesterov Accelerated Gradient"
      ]
    },
    {
      "cell_type": "code",
      "metadata": {
        "id": "6X-UvAwwFe6c",
        "colab": {
          "base_uri": "https://localhost:8080/"
        },
        "outputId": "9126a529-9bbd-45c6-b635-838a9fe0be02"
      },
      "source": [
        "optimizer = keras.optimizers.SGD(lr=0.001, momentum=0.9, nesterov=True) #nestrov cálcula el gradiente teniendo en cuenta la dirección del momentum"
      ],
      "execution_count": 74,
      "outputs": [
        {
          "output_type": "stream",
          "text": [
            "/usr/local/lib/python3.7/dist-packages/keras/optimizer_v2/optimizer_v2.py:356: UserWarning: The `lr` argument is deprecated, use `learning_rate` instead.\n",
            "  \"The `lr` argument is deprecated, use `learning_rate` instead.\")\n"
          ],
          "name": "stderr"
        }
      ]
    },
    {
      "cell_type": "markdown",
      "metadata": {
        "id": "MXPn1c_FFe6d"
      },
      "source": [
        "## AdaGrad"
      ]
    },
    {
      "cell_type": "code",
      "metadata": {
        "id": "6SLITD7YFe6d",
        "colab": {
          "base_uri": "https://localhost:8080/"
        },
        "outputId": "7f444942-9054-4497-ead9-b7a7716b675e"
      },
      "source": [
        "optimizer = keras.optimizers.Adagrad(lr=0.001) # incluye correción de dirección"
      ],
      "execution_count": 75,
      "outputs": [
        {
          "output_type": "stream",
          "text": [
            "/usr/local/lib/python3.7/dist-packages/keras/optimizer_v2/optimizer_v2.py:356: UserWarning: The `lr` argument is deprecated, use `learning_rate` instead.\n",
            "  \"The `lr` argument is deprecated, use `learning_rate` instead.\")\n"
          ],
          "name": "stderr"
        }
      ]
    },
    {
      "cell_type": "markdown",
      "metadata": {
        "id": "oTYifGJbFe6d"
      },
      "source": [
        "## RMSProp"
      ]
    },
    {
      "cell_type": "code",
      "metadata": {
        "id": "0A76_N1bFe6d",
        "colab": {
          "base_uri": "https://localhost:8080/"
        },
        "outputId": "8ab5c952-3c8a-4cb9-eda7-9c329746f612"
      },
      "source": [
        "optimizer = keras.optimizers.RMSprop(lr=0.001, rho=0.9) # Mejora adaGrad para estabilizar la convergencia"
      ],
      "execution_count": 76,
      "outputs": [
        {
          "output_type": "stream",
          "text": [
            "/usr/local/lib/python3.7/dist-packages/keras/optimizer_v2/optimizer_v2.py:356: UserWarning: The `lr` argument is deprecated, use `learning_rate` instead.\n",
            "  \"The `lr` argument is deprecated, use `learning_rate` instead.\")\n"
          ],
          "name": "stderr"
        }
      ]
    },
    {
      "cell_type": "markdown",
      "metadata": {
        "id": "6r2Gro0VFe6d"
      },
      "source": [
        "## Adam Optimization"
      ]
    },
    {
      "cell_type": "code",
      "metadata": {
        "id": "dg-abKHIFe6d",
        "colab": {
          "base_uri": "https://localhost:8080/"
        },
        "outputId": "ae7d791e-fa21-4b2b-924b-8908d2325d1d"
      },
      "source": [
        "optimizer = keras.optimizers.Adam(lr=0.001, beta_1=0.9, beta_2=0.999) # cálcula el momentum de forma adaptativa"
      ],
      "execution_count": 77,
      "outputs": [
        {
          "output_type": "stream",
          "text": [
            "/usr/local/lib/python3.7/dist-packages/keras/optimizer_v2/optimizer_v2.py:356: UserWarning: The `lr` argument is deprecated, use `learning_rate` instead.\n",
            "  \"The `lr` argument is deprecated, use `learning_rate` instead.\")\n"
          ],
          "name": "stderr"
        }
      ]
    },
    {
      "cell_type": "markdown",
      "metadata": {
        "id": "eaBxFqkaFe6d"
      },
      "source": [
        "## Adamax Optimization"
      ]
    },
    {
      "cell_type": "code",
      "metadata": {
        "id": "lK8e4bZjFe6d",
        "colab": {
          "base_uri": "https://localhost:8080/"
        },
        "outputId": "09ded208-9a47-48da-b666-ba5b6fb1a3ff"
      },
      "source": [
        "optimizer = keras.optimizers.Adamax(lr=0.001, beta_1=0.9, beta_2=0.999) #cambia la norma l2 en adam con norma infinito"
      ],
      "execution_count": 78,
      "outputs": [
        {
          "output_type": "stream",
          "text": [
            "/usr/local/lib/python3.7/dist-packages/keras/optimizer_v2/optimizer_v2.py:356: UserWarning: The `lr` argument is deprecated, use `learning_rate` instead.\n",
            "  \"The `lr` argument is deprecated, use `learning_rate` instead.\")\n"
          ],
          "name": "stderr"
        }
      ]
    },
    {
      "cell_type": "markdown",
      "metadata": {
        "id": "yK0ZisDSFe6d"
      },
      "source": [
        "## Nadam Optimization"
      ]
    },
    {
      "cell_type": "code",
      "metadata": {
        "id": "ezGc_yFzFe6d",
        "colab": {
          "base_uri": "https://localhost:8080/"
        },
        "outputId": "ec6463d8-24e0-4942-86e2-7157aab1f75c"
      },
      "source": [
        "optimizer = keras.optimizers.Nadam(lr=0.001, beta_1=0.9, beta_2=0.999) # adam + Nestrov -> cálcula gradiente de función con desplazamiento por momentum"
      ],
      "execution_count": 79,
      "outputs": [
        {
          "output_type": "stream",
          "text": [
            "/usr/local/lib/python3.7/dist-packages/keras/optimizer_v2/optimizer_v2.py:356: UserWarning: The `lr` argument is deprecated, use `learning_rate` instead.\n",
            "  \"The `lr` argument is deprecated, use `learning_rate` instead.\")\n"
          ],
          "name": "stderr"
        }
      ]
    },
    {
      "cell_type": "markdown",
      "metadata": {
        "id": "9jsYaDJIPCwc"
      },
      "source": [
        "# Comparación de los optimizadores:"
      ]
    },
    {
      "cell_type": "code",
      "metadata": {
        "colab": {
          "base_uri": "https://localhost:8080/",
          "height": 36
        },
        "id": "5TvChYXALW9v",
        "outputId": "3b7522aa-6cf7-4dcf-d33d-80a2301190fd"
      },
      "source": [
        "from IPython.display import Image\n",
        "Image(url=\"https://gitcdn.xyz/cdn/Tony607/blog_statics/e1a0b1e060e783bd1978a141acff897ae71bd021/images/optimizer/optimizer.gif\",width=600)"
      ],
      "execution_count": 80,
      "outputs": [
        {
          "output_type": "execute_result",
          "data": {
            "text/html": [
              "<img src=\"https://gitcdn.xyz/cdn/Tony607/blog_statics/e1a0b1e060e783bd1978a141acff897ae71bd021/images/optimizer/optimizer.gif\" width=\"600\"/>"
            ],
            "text/plain": [
              "<IPython.core.display.Image object>"
            ]
          },
          "metadata": {},
          "execution_count": 80
        }
      ]
    },
    {
      "cell_type": "markdown",
      "metadata": {
        "id": "QJl7w9mUFe6d"
      },
      "source": [
        "## Learning Rate Scheduling"
      ]
    },
    {
      "cell_type": "markdown",
      "metadata": {
        "id": "BSI3x9QEFe6d"
      },
      "source": [
        "### Power Scheduling"
      ]
    },
    {
      "cell_type": "markdown",
      "metadata": {
        "id": "VYgGvwl2Fe6d"
      },
      "source": [
        "```lr = lr0 / (1 + steps / s)**c```\n",
        "\n",
        "* Keras usa `c=1` y `s = 1 / decay`"
      ]
    },
    {
      "cell_type": "code",
      "metadata": {
        "id": "yFomKbjeFe6d",
        "colab": {
          "base_uri": "https://localhost:8080/"
        },
        "outputId": "a94b6faa-53fa-4f74-8382-942899d8573a"
      },
      "source": [
        "optimizer = keras.optimizers.SGD(lr=0.01, decay=1e-4)"
      ],
      "execution_count": 81,
      "outputs": [
        {
          "output_type": "stream",
          "text": [
            "/usr/local/lib/python3.7/dist-packages/keras/optimizer_v2/optimizer_v2.py:356: UserWarning: The `lr` argument is deprecated, use `learning_rate` instead.\n",
            "  \"The `lr` argument is deprecated, use `learning_rate` instead.\")\n"
          ],
          "name": "stderr"
        }
      ]
    },
    {
      "cell_type": "code",
      "metadata": {
        "id": "03RtQ_2vFe6d"
      },
      "source": [
        "model = keras.models.Sequential([\n",
        "    keras.layers.Flatten(input_shape=[28, 28]),\n",
        "    keras.layers.Dense(300, activation=\"selu\", kernel_initializer=\"lecun_normal\"),\n",
        "    keras.layers.Dense(100, activation=\"selu\", kernel_initializer=\"lecun_normal\"),\n",
        "    keras.layers.Dense(10, activation=\"softmax\")\n",
        "])\n",
        "model.compile(loss=\"sparse_categorical_crossentropy\", optimizer=optimizer, metrics=[\"accuracy\"])"
      ],
      "execution_count": 82,
      "outputs": []
    },
    {
      "cell_type": "code",
      "metadata": {
        "colab": {
          "base_uri": "https://localhost:8080/"
        },
        "id": "RBLA7qRcFe6d",
        "outputId": "9c3c3686-df56-4dbd-88d9-542cdef08a65"
      },
      "source": [
        "n_epochs = 25\n",
        "history = model.fit(X_train_scaled, y_train, epochs=n_epochs,\n",
        "                    validation_data=(X_valid_scaled, y_valid))"
      ],
      "execution_count": 83,
      "outputs": [
        {
          "output_type": "stream",
          "text": [
            "Epoch 1/25\n",
            "1719/1719 [==============================] - 6s 3ms/step - loss: 0.4855 - accuracy: 0.8304 - val_loss: 0.4028 - val_accuracy: 0.8594\n",
            "Epoch 2/25\n",
            "1719/1719 [==============================] - 5s 3ms/step - loss: 0.3781 - accuracy: 0.8657 - val_loss: 0.3716 - val_accuracy: 0.8724\n",
            "Epoch 3/25\n",
            "1719/1719 [==============================] - 5s 3ms/step - loss: 0.3458 - accuracy: 0.8770 - val_loss: 0.3746 - val_accuracy: 0.8742\n",
            "Epoch 4/25\n",
            "1719/1719 [==============================] - 5s 3ms/step - loss: 0.3250 - accuracy: 0.8829 - val_loss: 0.3498 - val_accuracy: 0.8800\n",
            "Epoch 5/25\n",
            "1719/1719 [==============================] - 5s 3ms/step - loss: 0.3102 - accuracy: 0.8892 - val_loss: 0.3448 - val_accuracy: 0.8786\n",
            "Epoch 6/25\n",
            "1719/1719 [==============================] - 5s 3ms/step - loss: 0.2966 - accuracy: 0.8935 - val_loss: 0.3412 - val_accuracy: 0.8828\n",
            "Epoch 7/25\n",
            "1719/1719 [==============================] - 5s 3ms/step - loss: 0.2868 - accuracy: 0.8973 - val_loss: 0.3355 - val_accuracy: 0.8870\n",
            "Epoch 8/25\n",
            "1719/1719 [==============================] - 5s 3ms/step - loss: 0.2778 - accuracy: 0.9008 - val_loss: 0.3407 - val_accuracy: 0.8834\n",
            "Epoch 9/25\n",
            "1719/1719 [==============================] - 5s 3ms/step - loss: 0.2698 - accuracy: 0.9021 - val_loss: 0.3289 - val_accuracy: 0.8878\n",
            "Epoch 10/25\n",
            "1719/1719 [==============================] - 5s 3ms/step - loss: 0.2629 - accuracy: 0.9051 - val_loss: 0.3261 - val_accuracy: 0.8890\n",
            "Epoch 11/25\n",
            "1719/1719 [==============================] - 5s 3ms/step - loss: 0.2571 - accuracy: 0.9078 - val_loss: 0.3268 - val_accuracy: 0.8870\n",
            "Epoch 12/25\n",
            "1719/1719 [==============================] - 5s 3ms/step - loss: 0.2513 - accuracy: 0.9100 - val_loss: 0.3331 - val_accuracy: 0.8832\n",
            "Epoch 13/25\n",
            "1719/1719 [==============================] - 5s 3ms/step - loss: 0.2461 - accuracy: 0.9127 - val_loss: 0.3253 - val_accuracy: 0.8896\n",
            "Epoch 14/25\n",
            "1719/1719 [==============================] - 5s 3ms/step - loss: 0.2422 - accuracy: 0.9132 - val_loss: 0.3285 - val_accuracy: 0.8884\n",
            "Epoch 15/25\n",
            "1719/1719 [==============================] - 5s 3ms/step - loss: 0.2374 - accuracy: 0.9151 - val_loss: 0.3241 - val_accuracy: 0.8892\n",
            "Epoch 16/25\n",
            "1719/1719 [==============================] - 5s 3ms/step - loss: 0.2335 - accuracy: 0.9167 - val_loss: 0.3201 - val_accuracy: 0.8910\n",
            "Epoch 17/25\n",
            "1719/1719 [==============================] - 5s 3ms/step - loss: 0.2300 - accuracy: 0.9181 - val_loss: 0.3233 - val_accuracy: 0.8898\n",
            "Epoch 18/25\n",
            "1719/1719 [==============================] - 5s 3ms/step - loss: 0.2263 - accuracy: 0.9198 - val_loss: 0.3186 - val_accuracy: 0.8936\n",
            "Epoch 19/25\n",
            "1719/1719 [==============================] - 5s 3ms/step - loss: 0.2232 - accuracy: 0.9211 - val_loss: 0.3227 - val_accuracy: 0.8900\n",
            "Epoch 20/25\n",
            "1719/1719 [==============================] - 5s 3ms/step - loss: 0.2200 - accuracy: 0.9222 - val_loss: 0.3206 - val_accuracy: 0.8926\n",
            "Epoch 21/25\n",
            "1719/1719 [==============================] - 5s 3ms/step - loss: 0.2168 - accuracy: 0.9233 - val_loss: 0.3204 - val_accuracy: 0.8916\n",
            "Epoch 22/25\n",
            "1719/1719 [==============================] - 5s 3ms/step - loss: 0.2143 - accuracy: 0.9243 - val_loss: 0.3176 - val_accuracy: 0.8952\n",
            "Epoch 23/25\n",
            "1719/1719 [==============================] - 5s 3ms/step - loss: 0.2117 - accuracy: 0.9251 - val_loss: 0.3189 - val_accuracy: 0.8922\n",
            "Epoch 24/25\n",
            "1719/1719 [==============================] - 5s 3ms/step - loss: 0.2088 - accuracy: 0.9266 - val_loss: 0.3210 - val_accuracy: 0.8896\n",
            "Epoch 25/25\n",
            "1719/1719 [==============================] - 5s 3ms/step - loss: 0.2069 - accuracy: 0.9262 - val_loss: 0.3207 - val_accuracy: 0.8932\n"
          ],
          "name": "stdout"
        }
      ]
    },
    {
      "cell_type": "code",
      "metadata": {
        "colab": {
          "base_uri": "https://localhost:8080/",
          "height": 303
        },
        "id": "iNvGPfPoFe6d",
        "outputId": "37a7e0ec-e83f-43bc-fa98-d335e7d9f7d0"
      },
      "source": [
        "learning_rate = 0.01\n",
        "decay = 1e-4\n",
        "batch_size = 32\n",
        "n_steps_per_epoch = len(X_train) // batch_size\n",
        "epochs = np.arange(n_epochs)\n",
        "lrs = learning_rate / (1 + decay * epochs * n_steps_per_epoch)\n",
        "\n",
        "plt.plot(epochs, lrs,  \"o-\")\n",
        "plt.axis([0, n_epochs - 1, 0, 0.01])\n",
        "plt.xlabel(\"Epoch\")\n",
        "plt.ylabel(\"Learning Rate\")\n",
        "plt.title(\"Power Scheduling\", fontsize=14)\n",
        "plt.grid(True)\n",
        "plt.show()"
      ],
      "execution_count": 84,
      "outputs": [
        {
          "output_type": "display_data",
          "data": {
            "image/png": "[encoded data removed]",
            "text/plain": [
              "<Figure size 432x288 with 1 Axes>"
            ]
          },
          "metadata": {
            "needs_background": "light"
          }
        }
      ]
    },
    {
      "cell_type": "markdown",
      "metadata": {
        "id": "21SH-G2pFe6d"
      },
      "source": [
        "### Exponential Scheduling"
      ]
    },
    {
      "cell_type": "markdown",
      "metadata": {
        "id": "3Qw-pfayFe6d"
      },
      "source": [
        "```lr = lr0 * 0.1**(epoch / s)```"
      ]
    },
    {
      "cell_type": "code",
      "metadata": {
        "id": "4bXgkCknFe6d"
      },
      "source": [
        "def exponential_decay_fn(epoch):\n",
        "    return 0.01 * 0.1**(epoch / 20)"
      ],
      "execution_count": 85,
      "outputs": []
    },
    {
      "cell_type": "code",
      "metadata": {
        "id": "zJQ5Bh9SFe6d"
      },
      "source": [
        "def exponential_decay(lr0, s):\n",
        "    def exponential_decay_fn(epoch):\n",
        "        return lr0 * 0.1**(epoch / s)\n",
        "    return exponential_decay_fn\n",
        "\n",
        "exponential_decay_fn = exponential_decay(lr0=0.01, s=20)"
      ],
      "execution_count": 86,
      "outputs": []
    },
    {
      "cell_type": "code",
      "metadata": {
        "id": "YWPb6StKFe6d"
      },
      "source": [
        "model = keras.models.Sequential([\n",
        "    keras.layers.Flatten(input_shape=[28, 28]),\n",
        "    keras.layers.Dense(300, activation=\"selu\", kernel_initializer=\"lecun_normal\"),\n",
        "    keras.layers.Dense(100, activation=\"selu\", kernel_initializer=\"lecun_normal\"),\n",
        "    keras.layers.Dense(10, activation=\"softmax\")\n",
        "])\n",
        "model.compile(loss=\"sparse_categorical_crossentropy\", optimizer=\"nadam\", metrics=[\"accuracy\"])\n",
        "n_epochs = 25"
      ],
      "execution_count": 87,
      "outputs": []
    },
    {
      "cell_type": "code",
      "metadata": {
        "colab": {
          "base_uri": "https://localhost:8080/"
        },
        "id": "Rg3FLC1jFe6d",
        "outputId": "38f25a0f-d3b6-4824-8591-30502054ff2e"
      },
      "source": [
        "#los callbacks permiten realizar operaciones durante procesos sobre batch y epochs\n",
        "lr_scheduler = keras.callbacks.LearningRateScheduler(exponential_decay_fn) \n",
        "history = model.fit(X_train_scaled, y_train, epochs=n_epochs,\n",
        "                    validation_data=(X_valid_scaled, y_valid),\n",
        "                    callbacks=[lr_scheduler])"
      ],
      "execution_count": 88,
      "outputs": [
        {
          "output_type": "stream",
          "text": [
            "Epoch 1/25\n",
            "1719/1719 [==============================] - 8s 4ms/step - loss: 0.8162 - accuracy: 0.7621 - val_loss: 0.8529 - val_accuracy: 0.6948\n",
            "Epoch 2/25\n",
            "1719/1719 [==============================] - 7s 4ms/step - loss: 0.7042 - accuracy: 0.7897 - val_loss: 0.5837 - val_accuracy: 0.8206\n",
            "Epoch 3/25\n",
            "1719/1719 [==============================] - 7s 4ms/step - loss: 0.6000 - accuracy: 0.8172 - val_loss: 0.6931 - val_accuracy: 0.7914\n",
            "Epoch 4/25\n",
            "1719/1719 [==============================] - 7s 4ms/step - loss: 0.5169 - accuracy: 0.8369 - val_loss: 0.5527 - val_accuracy: 0.8420\n",
            "Epoch 5/25\n",
            "1719/1719 [==============================] - 7s 4ms/step - loss: 0.5124 - accuracy: 0.8421 - val_loss: 0.4885 - val_accuracy: 0.8512\n",
            "Epoch 6/25\n",
            "1719/1719 [==============================] - 7s 4ms/step - loss: 0.4446 - accuracy: 0.8578 - val_loss: 0.4401 - val_accuracy: 0.8604\n",
            "Epoch 7/25\n",
            "1719/1719 [==============================] - 7s 4ms/step - loss: 0.4134 - accuracy: 0.8684 - val_loss: 0.4757 - val_accuracy: 0.8550\n",
            "Epoch 8/25\n",
            "1719/1719 [==============================] - 7s 4ms/step - loss: 0.3779 - accuracy: 0.8754 - val_loss: 0.6258 - val_accuracy: 0.8182\n",
            "Epoch 9/25\n",
            "1719/1719 [==============================] - 7s 4ms/step - loss: 0.3591 - accuracy: 0.8822 - val_loss: 0.4588 - val_accuracy: 0.8630\n",
            "Epoch 10/25\n",
            "1719/1719 [==============================] - 7s 4ms/step - loss: 0.3400 - accuracy: 0.8892 - val_loss: 0.4366 - val_accuracy: 0.8806\n",
            "Epoch 11/25\n",
            "1719/1719 [==============================] - 7s 4ms/step - loss: 0.3074 - accuracy: 0.8963 - val_loss: 0.4378 - val_accuracy: 0.8738\n",
            "Epoch 12/25\n",
            "1719/1719 [==============================] - 7s 4ms/step - loss: 0.2901 - accuracy: 0.9023 - val_loss: 0.4457 - val_accuracy: 0.8774\n",
            "Epoch 13/25\n",
            "1719/1719 [==============================] - 7s 4ms/step - loss: 0.2644 - accuracy: 0.9094 - val_loss: 0.4582 - val_accuracy: 0.8830\n",
            "Epoch 14/25\n",
            "1719/1719 [==============================] - 7s 4ms/step - loss: 0.2436 - accuracy: 0.9153 - val_loss: 0.4443 - val_accuracy: 0.8848\n",
            "Epoch 15/25\n",
            "1719/1719 [==============================] - 7s 4ms/step - loss: 0.2293 - accuracy: 0.9199 - val_loss: 0.4192 - val_accuracy: 0.8866\n",
            "Epoch 16/25\n",
            "1719/1719 [==============================] - 7s 4ms/step - loss: 0.2152 - accuracy: 0.9249 - val_loss: 0.4592 - val_accuracy: 0.8898\n",
            "Epoch 17/25\n",
            "1719/1719 [==============================] - 7s 4ms/step - loss: 0.1991 - accuracy: 0.9300 - val_loss: 0.4487 - val_accuracy: 0.8858\n",
            "Epoch 18/25\n",
            "1719/1719 [==============================] - 7s 4ms/step - loss: 0.1838 - accuracy: 0.9359 - val_loss: 0.4457 - val_accuracy: 0.8914\n",
            "Epoch 19/25\n",
            "1719/1719 [==============================] - 7s 4ms/step - loss: 0.1712 - accuracy: 0.9413 - val_loss: 0.4831 - val_accuracy: 0.8912\n",
            "Epoch 20/25\n",
            "1719/1719 [==============================] - 7s 4ms/step - loss: 0.1593 - accuracy: 0.9447 - val_loss: 0.4690 - val_accuracy: 0.8926\n",
            "Epoch 21/25\n",
            "1719/1719 [==============================] - 7s 4ms/step - loss: 0.1489 - accuracy: 0.9493 - val_loss: 0.5494 - val_accuracy: 0.8858\n",
            "Epoch 22/25\n",
            "1719/1719 [==============================] - 7s 4ms/step - loss: 0.1396 - accuracy: 0.9528 - val_loss: 0.5337 - val_accuracy: 0.8954\n",
            "Epoch 23/25\n",
            "1719/1719 [==============================] - 7s 4ms/step - loss: 0.1303 - accuracy: 0.9565 - val_loss: 0.5428 - val_accuracy: 0.8904\n",
            "Epoch 24/25\n",
            "1719/1719 [==============================] - 7s 4ms/step - loss: 0.1212 - accuracy: 0.9592 - val_loss: 0.5830 - val_accuracy: 0.8922\n",
            "Epoch 25/25\n",
            "1719/1719 [==============================] - 7s 4ms/step - loss: 0.1144 - accuracy: 0.9624 - val_loss: 0.5726 - val_accuracy: 0.8966\n"
          ],
          "name": "stdout"
        }
      ]
    },
    {
      "cell_type": "code",
      "metadata": {
        "colab": {
          "base_uri": "https://localhost:8080/",
          "height": 303
        },
        "id": "dr-lBZJkFe6d",
        "outputId": "e64a95c8-93dd-4355-f40b-567886abe2a7"
      },
      "source": [
        "plt.plot(history.epoch, history.history[\"lr\"], \"o-\")\n",
        "plt.axis([0, n_epochs - 1, 0, 0.011])\n",
        "plt.xlabel(\"Epoch\")\n",
        "plt.ylabel(\"Learning Rate\")\n",
        "plt.title(\"Exponential Scheduling\", fontsize=14)\n",
        "plt.grid(True)\n",
        "plt.show()"
      ],
      "execution_count": 89,
      "outputs": [
        {
          "output_type": "display_data",
          "data": {
            "image/png": "[encoded data removed]",
            "text/plain": [
              "<Figure size 432x288 with 1 Axes>"
            ]
          },
          "metadata": {
            "needs_background": "light"
          }
        }
      ]
    },
    {
      "cell_type": "markdown",
      "metadata": {
        "id": "cAq1k4pOFe6e"
      },
      "source": [
        "The schedule function can take the current learning rate as a second argument:"
      ]
    },
    {
      "cell_type": "code",
      "metadata": {
        "id": "6hVLH5hFFe6e"
      },
      "source": [
        "def exponential_decay_fn(epoch, lr):\n",
        "    return lr * 0.1**(1 / 20)"
      ],
      "execution_count": 90,
      "outputs": []
    },
    {
      "cell_type": "markdown",
      "metadata": {
        "id": "NrJcYGepFe6e"
      },
      "source": [
        "If you want to update the learning rate at each iteration rather than at each epoch, you must write your own callback class:"
      ]
    },
    {
      "cell_type": "code",
      "metadata": {
        "colab": {
          "base_uri": "https://localhost:8080/"
        },
        "id": "CKD-F7WMFe6e",
        "outputId": "11aba5fd-63fc-455b-a249-0c5ead281620"
      },
      "source": [
        "K = keras.backend\n",
        "\n",
        "class ExponentialDecay(keras.callbacks.Callback):\n",
        "    def __init__(self, s=40000):\n",
        "        super().__init__() #herencia de clase\n",
        "        self.s = s\n",
        "\n",
        "    def on_batch_begin(self, batch, logs=None):\n",
        "        # Note: the `batch` argument is reset at each epoch\n",
        "        lr = K.get_value(self.model.optimizer.lr)\n",
        "        K.set_value(self.model.optimizer.lr, lr * 0.1**(1 / s))\n",
        "\n",
        "    def on_epoch_end(self, epoch, logs=None):\n",
        "        logs = logs or {}\n",
        "        logs['lr'] = K.get_value(self.model.optimizer.lr)\n",
        "\n",
        "model = keras.models.Sequential([\n",
        "    keras.layers.Flatten(input_shape=[28, 28]),\n",
        "    keras.layers.Dense(300, activation=\"selu\", kernel_initializer=\"lecun_normal\"),\n",
        "    keras.layers.Dense(100, activation=\"selu\", kernel_initializer=\"lecun_normal\"),\n",
        "    keras.layers.Dense(10, activation=\"softmax\")\n",
        "])\n",
        "lr0 = 0.01\n",
        "optimizer = keras.optimizers.Nadam(lr=lr0)\n",
        "model.compile(loss=\"sparse_categorical_crossentropy\", optimizer=optimizer, metrics=[\"accuracy\"])\n",
        "n_epochs = 25\n",
        "\n",
        "s = 20 * len(X_train) // 32 # number of steps in 20 epochs (batch size = 32)\n",
        "exp_decay = ExponentialDecay(s)\n",
        "history = model.fit(X_train_scaled, y_train, epochs=n_epochs,\n",
        "                    validation_data=(X_valid_scaled, y_valid),\n",
        "                    callbacks=[exp_decay])"
      ],
      "execution_count": 91,
      "outputs": [
        {
          "output_type": "stream",
          "text": [
            "/usr/local/lib/python3.7/dist-packages/keras/optimizer_v2/optimizer_v2.py:356: UserWarning: The `lr` argument is deprecated, use `learning_rate` instead.\n",
            "  \"The `lr` argument is deprecated, use `learning_rate` instead.\")\n"
          ],
          "name": "stderr"
        },
        {
          "output_type": "stream",
          "text": [
            "Epoch 1/25\n",
            "1719/1719 [==============================] - 10s 5ms/step - loss: 0.8022 - accuracy: 0.7697 - val_loss: 0.7336 - val_accuracy: 0.7798\n",
            "Epoch 2/25\n",
            "1719/1719 [==============================] - 9s 5ms/step - loss: 0.6870 - accuracy: 0.7919 - val_loss: 0.5695 - val_accuracy: 0.8312\n",
            "Epoch 3/25\n",
            "1719/1719 [==============================] - 9s 5ms/step - loss: 0.5598 - accuracy: 0.8226 - val_loss: 0.5991 - val_accuracy: 0.8152\n",
            "Epoch 4/25\n",
            "1719/1719 [==============================] - 9s 5ms/step - loss: 0.5254 - accuracy: 0.8354 - val_loss: 0.4565 - val_accuracy: 0.8556\n",
            "Epoch 5/25\n",
            "1719/1719 [==============================] - 9s 5ms/step - loss: 0.4798 - accuracy: 0.8491 - val_loss: 0.4868 - val_accuracy: 0.8590\n",
            "Epoch 6/25\n",
            "1719/1719 [==============================] - 9s 5ms/step - loss: 0.4258 - accuracy: 0.8644 - val_loss: 0.4669 - val_accuracy: 0.8604\n",
            "Epoch 7/25\n",
            "1719/1719 [==============================] - 9s 5ms/step - loss: 0.3986 - accuracy: 0.8722 - val_loss: 0.4784 - val_accuracy: 0.8594\n",
            "Epoch 8/25\n",
            "1719/1719 [==============================] - 9s 5ms/step - loss: 0.3668 - accuracy: 0.8792 - val_loss: 0.5329 - val_accuracy: 0.8446\n",
            "Epoch 9/25\n",
            "1719/1719 [==============================] - 9s 5ms/step - loss: 0.3429 - accuracy: 0.8865 - val_loss: 0.4723 - val_accuracy: 0.8616\n",
            "Epoch 10/25\n",
            "1719/1719 [==============================] - 9s 5ms/step - loss: 0.3143 - accuracy: 0.8938 - val_loss: 0.4445 - val_accuracy: 0.8758\n",
            "Epoch 11/25\n",
            "1719/1719 [==============================] - 9s 5ms/step - loss: 0.2938 - accuracy: 0.9009 - val_loss: 0.4476 - val_accuracy: 0.8716\n",
            "Epoch 12/25\n",
            "1719/1719 [==============================] - 9s 5ms/step - loss: 0.2745 - accuracy: 0.9063 - val_loss: 0.4766 - val_accuracy: 0.8700\n",
            "Epoch 13/25\n",
            "1719/1719 [==============================] - 9s 5ms/step - loss: 0.2537 - accuracy: 0.9128 - val_loss: 0.4512 - val_accuracy: 0.8818\n",
            "Epoch 14/25\n",
            "1719/1719 [==============================] - 9s 5ms/step - loss: 0.2461 - accuracy: 0.9152 - val_loss: 0.4342 - val_accuracy: 0.8768\n",
            "Epoch 15/25\n",
            "1719/1719 [==============================] - 9s 5ms/step - loss: 0.2193 - accuracy: 0.9234 - val_loss: 0.4422 - val_accuracy: 0.8854\n",
            "Epoch 16/25\n",
            "1719/1719 [==============================] - 9s 5ms/step - loss: 0.2056 - accuracy: 0.9296 - val_loss: 0.4426 - val_accuracy: 0.8834\n",
            "Epoch 17/25\n",
            "1719/1719 [==============================] - 9s 5ms/step - loss: 0.1937 - accuracy: 0.9339 - val_loss: 0.4656 - val_accuracy: 0.8870\n",
            "Epoch 18/25\n",
            "1719/1719 [==============================] - 9s 5ms/step - loss: 0.1779 - accuracy: 0.9385 - val_loss: 0.4552 - val_accuracy: 0.8860\n",
            "Epoch 19/25\n",
            "1719/1719 [==============================] - 9s 5ms/step - loss: 0.1660 - accuracy: 0.9436 - val_loss: 0.5037 - val_accuracy: 0.8936\n",
            "Epoch 20/25\n",
            "1719/1719 [==============================] - 9s 5ms/step - loss: 0.1539 - accuracy: 0.9476 - val_loss: 0.5444 - val_accuracy: 0.8836\n",
            "Epoch 21/25\n",
            "1719/1719 [==============================] - 9s 5ms/step - loss: 0.1455 - accuracy: 0.9501 - val_loss: 0.5383 - val_accuracy: 0.8842\n",
            "Epoch 22/25\n",
            "1719/1719 [==============================] - 9s 5ms/step - loss: 0.1352 - accuracy: 0.9536 - val_loss: 0.5359 - val_accuracy: 0.8912\n",
            "Epoch 23/25\n",
            "1719/1719 [==============================] - 9s 5ms/step - loss: 0.1248 - accuracy: 0.9580 - val_loss: 0.6000 - val_accuracy: 0.8858\n",
            "Epoch 24/25\n",
            "1719/1719 [==============================] - 9s 5ms/step - loss: 0.1184 - accuracy: 0.9608 - val_loss: 0.6487 - val_accuracy: 0.8866\n",
            "Epoch 25/25\n",
            "1719/1719 [==============================] - 9s 5ms/step - loss: 0.1099 - accuracy: 0.9630 - val_loss: 0.6471 - val_accuracy: 0.8882\n"
          ],
          "name": "stdout"
        }
      ]
    },
    {
      "cell_type": "code",
      "metadata": {
        "id": "bbaUWQ7ZFe6e"
      },
      "source": [
        "n_steps = n_epochs * len(X_train) // 32\n",
        "steps = np.arange(n_steps)\n",
        "lrs = lr0 * 0.1**(steps / s)"
      ],
      "execution_count": 92,
      "outputs": []
    },
    {
      "cell_type": "code",
      "metadata": {
        "colab": {
          "base_uri": "https://localhost:8080/",
          "height": 303
        },
        "id": "1BbpyxlsFe6e",
        "scrolled": true,
        "outputId": "65b2de86-db4f-45f4-b273-3ba6d61fd6a9"
      },
      "source": [
        "plt.plot(steps, lrs, \"-\", linewidth=2)\n",
        "plt.axis([0, n_steps - 1, 0, lr0 * 1.1])\n",
        "plt.xlabel(\"Batch\")\n",
        "plt.ylabel(\"Learning Rate\")\n",
        "plt.title(\"Exponential Scheduling (per batch)\", fontsize=14)\n",
        "plt.grid(True)\n",
        "plt.show()"
      ],
      "execution_count": 93,
      "outputs": [
        {
          "output_type": "display_data",
          "data": {
            "image/png": "[encoded data removed]",
            "text/plain": [
              "<Figure size 432x288 with 1 Axes>"
            ]
          },
          "metadata": {
            "needs_background": "light"
          }
        }
      ]
    },
    {
      "cell_type": "markdown",
      "metadata": {
        "id": "w35hOCXTFe6e"
      },
      "source": [
        "### Piecewise Constant Scheduling"
      ]
    },
    {
      "cell_type": "code",
      "metadata": {
        "id": "xD-961VRFe6e"
      },
      "source": [
        "def piecewise_constant_fn(epoch):\n",
        "    if epoch < 5:\n",
        "        return 0.01\n",
        "    elif epoch < 15:\n",
        "        return 0.005\n",
        "    else:\n",
        "        return 0.001"
      ],
      "execution_count": 94,
      "outputs": []
    },
    {
      "cell_type": "code",
      "metadata": {
        "id": "9MP0Axp0Fe6e"
      },
      "source": [
        "def piecewise_constant(boundaries, values):\n",
        "    boundaries = np.array([0] + boundaries)\n",
        "    values = np.array(values)\n",
        "    def piecewise_constant_fn(epoch):\n",
        "        return values[np.argmax(boundaries > epoch) - 1]\n",
        "    return piecewise_constant_fn\n",
        "\n",
        "piecewise_constant_fn = piecewise_constant([5, 15], [0.01, 0.005, 0.001])"
      ],
      "execution_count": 95,
      "outputs": []
    },
    {
      "cell_type": "code",
      "metadata": {
        "colab": {
          "base_uri": "https://localhost:8080/"
        },
        "id": "SWIByIucFe6e",
        "outputId": "c6deda44-c66e-4fa1-8f87-fd9fc53450fd"
      },
      "source": [
        "lr_scheduler = keras.callbacks.LearningRateScheduler(piecewise_constant_fn)\n",
        "\n",
        "model = keras.models.Sequential([\n",
        "    keras.layers.Flatten(input_shape=[28, 28]),\n",
        "    keras.layers.Dense(300, activation=\"selu\", kernel_initializer=\"lecun_normal\"),\n",
        "    keras.layers.Dense(100, activation=\"selu\", kernel_initializer=\"lecun_normal\"),\n",
        "    keras.layers.Dense(10, activation=\"softmax\")\n",
        "])\n",
        "model.compile(loss=\"sparse_categorical_crossentropy\", optimizer=\"nadam\", metrics=[\"accuracy\"])\n",
        "n_epochs = 25\n",
        "history = model.fit(X_train_scaled, y_train, epochs=n_epochs,\n",
        "                    validation_data=(X_valid_scaled, y_valid),\n",
        "                    callbacks=[lr_scheduler])"
      ],
      "execution_count": 96,
      "outputs": [
        {
          "output_type": "stream",
          "text": [
            "Epoch 1/25\n",
            "1719/1719 [==============================] - 8s 4ms/step - loss: 0.8238 - accuracy: 0.7632 - val_loss: 0.8086 - val_accuracy: 0.7764\n",
            "Epoch 2/25\n",
            "1719/1719 [==============================] - 7s 4ms/step - loss: 0.9256 - accuracy: 0.7305 - val_loss: 0.6903 - val_accuracy: 0.7978\n",
            "Epoch 3/25\n",
            "1719/1719 [==============================] - 7s 4ms/step - loss: 0.9588 - accuracy: 0.7213 - val_loss: 1.6671 - val_accuracy: 0.5114\n",
            "Epoch 4/25\n",
            "1719/1719 [==============================] - 7s 4ms/step - loss: 0.8126 - accuracy: 0.7596 - val_loss: 0.8462 - val_accuracy: 0.7898\n",
            "Epoch 5/25\n",
            "1719/1719 [==============================] - 7s 4ms/step - loss: 0.7794 - accuracy: 0.7846 - val_loss: 0.7873 - val_accuracy: 0.7834\n",
            "Epoch 6/25\n",
            "1719/1719 [==============================] - 7s 4ms/step - loss: 0.4985 - accuracy: 0.8505 - val_loss: 0.5573 - val_accuracy: 0.8526\n",
            "Epoch 7/25\n",
            "1719/1719 [==============================] - 7s 4ms/step - loss: 0.4661 - accuracy: 0.8571 - val_loss: 0.5268 - val_accuracy: 0.8444\n",
            "Epoch 8/25\n",
            "1719/1719 [==============================] - 7s 4ms/step - loss: 0.4481 - accuracy: 0.8642 - val_loss: 0.6271 - val_accuracy: 0.7790\n",
            "Epoch 9/25\n",
            "1719/1719 [==============================] - 7s 4ms/step - loss: 0.4296 - accuracy: 0.8671 - val_loss: 0.5936 - val_accuracy: 0.8356\n",
            "Epoch 10/25\n",
            "1719/1719 [==============================] - 7s 4ms/step - loss: 0.4234 - accuracy: 0.8721 - val_loss: 0.5786 - val_accuracy: 0.8580\n",
            "Epoch 11/25\n",
            "1719/1719 [==============================] - 7s 4ms/step - loss: 0.4129 - accuracy: 0.8744 - val_loss: 0.5489 - val_accuracy: 0.8636\n",
            "Epoch 12/25\n",
            "1719/1719 [==============================] - 7s 4ms/step - loss: 0.4110 - accuracy: 0.8771 - val_loss: 0.5604 - val_accuracy: 0.8506\n",
            "Epoch 13/25\n",
            "1719/1719 [==============================] - 7s 4ms/step - loss: 0.4047 - accuracy: 0.8801 - val_loss: 0.5291 - val_accuracy: 0.8760\n",
            "Epoch 14/25\n",
            "1719/1719 [==============================] - 7s 4ms/step - loss: 0.4001 - accuracy: 0.8832 - val_loss: 0.5489 - val_accuracy: 0.8632\n",
            "Epoch 15/25\n",
            "1719/1719 [==============================] - 7s 4ms/step - loss: 0.3878 - accuracy: 0.8839 - val_loss: 0.6337 - val_accuracy: 0.8586\n",
            "Epoch 16/25\n",
            "1719/1719 [==============================] - 7s 4ms/step - loss: 0.2617 - accuracy: 0.9154 - val_loss: 0.4593 - val_accuracy: 0.8874\n",
            "Epoch 17/25\n",
            "1719/1719 [==============================] - 7s 4ms/step - loss: 0.2398 - accuracy: 0.9229 - val_loss: 0.4922 - val_accuracy: 0.8762\n",
            "Epoch 18/25\n",
            "1719/1719 [==============================] - 7s 4ms/step - loss: 0.2296 - accuracy: 0.9257 - val_loss: 0.5039 - val_accuracy: 0.8874\n",
            "Epoch 19/25\n",
            "1719/1719 [==============================] - 7s 4ms/step - loss: 0.2207 - accuracy: 0.9289 - val_loss: 0.5167 - val_accuracy: 0.8852\n",
            "Epoch 20/25\n",
            "1719/1719 [==============================] - 7s 4ms/step - loss: 0.2148 - accuracy: 0.9306 - val_loss: 0.5128 - val_accuracy: 0.8868\n",
            "Epoch 21/25\n",
            "1719/1719 [==============================] - 7s 4ms/step - loss: 0.2086 - accuracy: 0.9339 - val_loss: 0.5441 - val_accuracy: 0.8830\n",
            "Epoch 22/25\n",
            "1719/1719 [==============================] - 7s 4ms/step - loss: 0.1993 - accuracy: 0.9370 - val_loss: 0.5512 - val_accuracy: 0.8880\n",
            "Epoch 23/25\n",
            "1719/1719 [==============================] - 7s 4ms/step - loss: 0.1961 - accuracy: 0.9388 - val_loss: 0.5760 - val_accuracy: 0.8834\n",
            "Epoch 24/25\n",
            "1719/1719 [==============================] - 7s 4ms/step - loss: 0.1915 - accuracy: 0.9389 - val_loss: 0.5900 - val_accuracy: 0.8840\n",
            "Epoch 25/25\n",
            "1719/1719 [==============================] - 7s 4ms/step - loss: 0.1837 - accuracy: 0.9423 - val_loss: 0.5849 - val_accuracy: 0.8800\n"
          ],
          "name": "stdout"
        }
      ]
    },
    {
      "cell_type": "code",
      "metadata": {
        "colab": {
          "base_uri": "https://localhost:8080/",
          "height": 0
        },
        "id": "LzduWZ3mFe6e",
        "outputId": "5aee1347-8e85-4747-c14a-0f24d34ebcee"
      },
      "source": [
        "plt.plot(history.epoch, [piecewise_constant_fn(epoch) for epoch in history.epoch], \"o-\")\n",
        "plt.axis([0, n_epochs - 1, 0, 0.011])\n",
        "plt.xlabel(\"Epoch\")\n",
        "plt.ylabel(\"Learning Rate\")\n",
        "plt.title(\"Piecewise Constant Scheduling\", fontsize=14)\n",
        "plt.grid(True)\n",
        "plt.show()"
      ],
      "execution_count": 97,
      "outputs": [
        {
          "output_type": "display_data",
          "data": {
            "image/png": "[encoded data removed]",
            "text/plain": [
              "<Figure size 432x288 with 1 Axes>"
            ]
          },
          "metadata": {
            "needs_background": "light"
          }
        }
      ]
    },
    {
      "cell_type": "markdown",
      "metadata": {
        "id": "QwP2LvgTFe6e"
      },
      "source": [
        "### Performance Scheduling"
      ]
    },
    {
      "cell_type": "code",
      "metadata": {
        "id": "KSIKN7JlFe6e"
      },
      "source": [
        "tf.random.set_seed(42)\n",
        "np.random.seed(42)"
      ],
      "execution_count": 98,
      "outputs": []
    },
    {
      "cell_type": "code",
      "metadata": {
        "id": "SEd94S5FFe6e",
        "colab": {
          "base_uri": "https://localhost:8080/"
        },
        "outputId": "4d064dd5-f465-4238-9283-b8764f1f896a"
      },
      "source": [
        "lr_scheduler = keras.callbacks.ReduceLROnPlateau(factor=0.5, patience=5)\n",
        "\n",
        "model = keras.models.Sequential([\n",
        "    keras.layers.Flatten(input_shape=[28, 28]),\n",
        "    keras.layers.Dense(300, activation=\"selu\", kernel_initializer=\"lecun_normal\"),\n",
        "    keras.layers.Dense(100, activation=\"selu\", kernel_initializer=\"lecun_normal\"),\n",
        "    keras.layers.Dense(10, activation=\"softmax\")\n",
        "])\n",
        "optimizer = keras.optimizers.SGD(lr=0.02, momentum=0.9)\n",
        "model.compile(loss=\"sparse_categorical_crossentropy\", optimizer=optimizer, metrics=[\"accuracy\"])\n",
        "n_epochs = 25\n",
        "history = model.fit(X_train_scaled, y_train, epochs=n_epochs,\n",
        "                    validation_data=(X_valid_scaled, y_valid),\n",
        "                    callbacks=[lr_scheduler])"
      ],
      "execution_count": 99,
      "outputs": [
        {
          "output_type": "stream",
          "text": [
            "/usr/local/lib/python3.7/dist-packages/keras/optimizer_v2/optimizer_v2.py:356: UserWarning: The `lr` argument is deprecated, use `learning_rate` instead.\n",
            "  \"The `lr` argument is deprecated, use `learning_rate` instead.\")\n"
          ],
          "name": "stderr"
        },
        {
          "output_type": "stream",
          "text": [
            "Epoch 1/25\n",
            "1719/1719 [==============================] - 6s 3ms/step - loss: 0.5914 - accuracy: 0.8062 - val_loss: 0.4885 - val_accuracy: 0.8460\n",
            "Epoch 2/25\n",
            "1719/1719 [==============================] - 5s 3ms/step - loss: 0.5002 - accuracy: 0.8395 - val_loss: 0.5856 - val_accuracy: 0.8326\n",
            "Epoch 3/25\n",
            "1719/1719 [==============================] - 5s 3ms/step - loss: 0.5046 - accuracy: 0.8447 - val_loss: 0.5190 - val_accuracy: 0.8582\n",
            "Epoch 4/25\n",
            "1719/1719 [==============================] - 5s 3ms/step - loss: 0.5199 - accuracy: 0.8455 - val_loss: 0.4768 - val_accuracy: 0.8506\n",
            "Epoch 5/25\n",
            "1719/1719 [==============================] - 5s 3ms/step - loss: 0.5258 - accuracy: 0.8476 - val_loss: 0.5450 - val_accuracy: 0.8398\n",
            "Epoch 6/25\n",
            "1719/1719 [==============================] - 5s 3ms/step - loss: 0.5024 - accuracy: 0.8549 - val_loss: 0.6029 - val_accuracy: 0.8572\n",
            "Epoch 7/25\n",
            "1719/1719 [==============================] - 5s 3ms/step - loss: 0.5205 - accuracy: 0.8545 - val_loss: 0.5258 - val_accuracy: 0.8492\n",
            "Epoch 8/25\n",
            "1719/1719 [==============================] - 5s 3ms/step - loss: 0.5194 - accuracy: 0.8532 - val_loss: 0.7983 - val_accuracy: 0.7880\n",
            "Epoch 9/25\n",
            "1719/1719 [==============================] - 5s 3ms/step - loss: 0.5414 - accuracy: 0.8547 - val_loss: 0.6620 - val_accuracy: 0.8580\n",
            "Epoch 10/25\n",
            "1719/1719 [==============================] - 5s 3ms/step - loss: 0.2983 - accuracy: 0.8971 - val_loss: 0.4168 - val_accuracy: 0.8914\n",
            "Epoch 11/25\n",
            "1719/1719 [==============================] - 5s 3ms/step - loss: 0.2460 - accuracy: 0.9111 - val_loss: 0.4100 - val_accuracy: 0.8874\n",
            "Epoch 12/25\n",
            "1719/1719 [==============================] - 5s 3ms/step - loss: 0.2271 - accuracy: 0.9167 - val_loss: 0.4685 - val_accuracy: 0.8770\n",
            "Epoch 13/25\n",
            "1719/1719 [==============================] - 5s 3ms/step - loss: 0.2071 - accuracy: 0.9246 - val_loss: 0.4943 - val_accuracy: 0.8836\n",
            "Epoch 14/25\n",
            "1719/1719 [==============================] - 5s 3ms/step - loss: 0.1985 - accuracy: 0.9269 - val_loss: 0.4258 - val_accuracy: 0.8880\n",
            "Epoch 15/25\n",
            "1719/1719 [==============================] - 5s 3ms/step - loss: 0.1911 - accuracy: 0.9291 - val_loss: 0.4524 - val_accuracy: 0.8868\n",
            "Epoch 16/25\n",
            "1719/1719 [==============================] - 5s 3ms/step - loss: 0.1767 - accuracy: 0.9345 - val_loss: 0.4787 - val_accuracy: 0.8906\n",
            "Epoch 17/25\n",
            "1719/1719 [==============================] - 5s 3ms/step - loss: 0.1239 - accuracy: 0.9518 - val_loss: 0.4585 - val_accuracy: 0.8938\n",
            "Epoch 18/25\n",
            "1719/1719 [==============================] - 5s 3ms/step - loss: 0.1100 - accuracy: 0.9568 - val_loss: 0.4723 - val_accuracy: 0.8948\n",
            "Epoch 19/25\n",
            "1719/1719 [==============================] - 5s 3ms/step - loss: 0.1026 - accuracy: 0.9601 - val_loss: 0.4811 - val_accuracy: 0.8930\n",
            "Epoch 20/25\n",
            "1719/1719 [==============================] - 5s 3ms/step - loss: 0.0957 - accuracy: 0.9633 - val_loss: 0.5040 - val_accuracy: 0.8928\n",
            "Epoch 21/25\n",
            "1719/1719 [==============================] - 5s 3ms/step - loss: 0.0887 - accuracy: 0.9662 - val_loss: 0.5223 - val_accuracy: 0.8946\n",
            "Epoch 22/25\n",
            "1719/1719 [==============================] - 5s 3ms/step - loss: 0.0714 - accuracy: 0.9727 - val_loss: 0.5238 - val_accuracy: 0.8974\n",
            "Epoch 23/25\n",
            "1719/1719 [==============================] - 5s 3ms/step - loss: 0.0659 - accuracy: 0.9754 - val_loss: 0.5277 - val_accuracy: 0.8962\n",
            "Epoch 24/25\n",
            "1719/1719 [==============================] - 5s 3ms/step - loss: 0.0626 - accuracy: 0.9775 - val_loss: 0.5447 - val_accuracy: 0.8976\n",
            "Epoch 25/25\n",
            "1719/1719 [==============================] - 5s 3ms/step - loss: 0.0595 - accuracy: 0.9781 - val_loss: 0.5561 - val_accuracy: 0.8956\n"
          ],
          "name": "stdout"
        }
      ]
    },
    {
      "cell_type": "code",
      "metadata": {
        "id": "YaY01hyoFe6e",
        "colab": {
          "base_uri": "https://localhost:8080/",
          "height": 303
        },
        "outputId": "651f93af-cf95-49df-9a59-1013d007134c"
      },
      "source": [
        "plt.plot(history.epoch, history.history[\"lr\"], \"bo-\")\n",
        "plt.xlabel(\"Epoch\")\n",
        "plt.ylabel(\"Learning Rate\", color='b')\n",
        "plt.tick_params('y', colors='b')\n",
        "plt.gca().set_xlim(0, n_epochs - 1)\n",
        "plt.grid(True)\n",
        "\n",
        "ax2 = plt.gca().twinx()\n",
        "ax2.plot(history.epoch, history.history[\"val_loss\"], \"r^-\")\n",
        "ax2.set_ylabel('Validation Loss', color='r')\n",
        "ax2.tick_params('y', colors='r')\n",
        "\n",
        "plt.title(\"Reduce LR on Plateau\", fontsize=14)\n",
        "plt.show()"
      ],
      "execution_count": 100,
      "outputs": [
        {
          "output_type": "display_data",
          "data": {
            "image/png": "[encoded data removed]",
            "text/plain": [
              "<Figure size 432x288 with 2 Axes>"
            ]
          },
          "metadata": {
            "needs_background": "light"
          }
        }
      ]
    },
    {
      "cell_type": "markdown",
      "metadata": {
        "id": "lEBGpsAXFe6e"
      },
      "source": [
        "### tf.keras schedulers"
      ]
    },
    {
      "cell_type": "code",
      "metadata": {
        "id": "R1dBj8IdFe6f",
        "colab": {
          "base_uri": "https://localhost:8080/"
        },
        "outputId": "e8fbe649-6e3a-4b46-f9e9-6a601ac0a264"
      },
      "source": [
        "model = keras.models.Sequential([\n",
        "    keras.layers.Flatten(input_shape=[28, 28]),\n",
        "    keras.layers.Dense(300, activation=\"selu\", kernel_initializer=\"lecun_normal\"),\n",
        "    keras.layers.Dense(100, activation=\"selu\", kernel_initializer=\"lecun_normal\"),\n",
        "    keras.layers.Dense(10, activation=\"softmax\")\n",
        "])\n",
        "s = 20 * len(X_train) // 32 # number of steps in 20 epochs (batch size = 32)\n",
        "learning_rate = keras.optimizers.schedules.ExponentialDecay(0.01, s, 0.1)\n",
        "optimizer = keras.optimizers.SGD(learning_rate)\n",
        "model.compile(loss=\"sparse_categorical_crossentropy\", optimizer=optimizer, metrics=[\"accuracy\"])\n",
        "n_epochs = 25\n",
        "history = model.fit(X_train_scaled, y_train, epochs=n_epochs,\n",
        "                    validation_data=(X_valid_scaled, y_valid))"
      ],
      "execution_count": 101,
      "outputs": [
        {
          "output_type": "stream",
          "text": [
            "Epoch 1/25\n",
            "1719/1719 [==============================] - 5s 3ms/step - loss: 0.4894 - accuracy: 0.8276 - val_loss: 0.4095 - val_accuracy: 0.8606\n",
            "Epoch 2/25\n",
            "1719/1719 [==============================] - 5s 3ms/step - loss: 0.3819 - accuracy: 0.8651 - val_loss: 0.3741 - val_accuracy: 0.8686\n",
            "Epoch 3/25\n",
            "1719/1719 [==============================] - 5s 3ms/step - loss: 0.3487 - accuracy: 0.8766 - val_loss: 0.3732 - val_accuracy: 0.8682\n",
            "Epoch 4/25\n",
            "1719/1719 [==============================] - 5s 3ms/step - loss: 0.3265 - accuracy: 0.8835 - val_loss: 0.3493 - val_accuracy: 0.8800\n",
            "Epoch 5/25\n",
            "1719/1719 [==============================] - 5s 3ms/step - loss: 0.3105 - accuracy: 0.8895 - val_loss: 0.3430 - val_accuracy: 0.8794\n",
            "Epoch 6/25\n",
            "1719/1719 [==============================] - 5s 3ms/step - loss: 0.2959 - accuracy: 0.8951 - val_loss: 0.3412 - val_accuracy: 0.8822\n",
            "Epoch 7/25\n",
            "1719/1719 [==============================] - 5s 3ms/step - loss: 0.2854 - accuracy: 0.8988 - val_loss: 0.3352 - val_accuracy: 0.8820\n",
            "Epoch 8/25\n",
            "1719/1719 [==============================] - 5s 3ms/step - loss: 0.2761 - accuracy: 0.9018 - val_loss: 0.3360 - val_accuracy: 0.8816\n",
            "Epoch 9/25\n",
            "1719/1719 [==============================] - 5s 3ms/step - loss: 0.2678 - accuracy: 0.9053 - val_loss: 0.3262 - val_accuracy: 0.8854\n",
            "Epoch 10/25\n",
            "1719/1719 [==============================] - 5s 3ms/step - loss: 0.2608 - accuracy: 0.9067 - val_loss: 0.3236 - val_accuracy: 0.8852\n",
            "Epoch 11/25\n",
            "1719/1719 [==============================] - 5s 3ms/step - loss: 0.2552 - accuracy: 0.9091 - val_loss: 0.3247 - val_accuracy: 0.8864\n",
            "Epoch 12/25\n",
            "1719/1719 [==============================] - 5s 3ms/step - loss: 0.2497 - accuracy: 0.9123 - val_loss: 0.3297 - val_accuracy: 0.8814\n",
            "Epoch 13/25\n",
            "1719/1719 [==============================] - 5s 3ms/step - loss: 0.2450 - accuracy: 0.9140 - val_loss: 0.3214 - val_accuracy: 0.8868\n",
            "Epoch 14/25\n",
            "1719/1719 [==============================] - 5s 3ms/step - loss: 0.2416 - accuracy: 0.9147 - val_loss: 0.3218 - val_accuracy: 0.8868\n",
            "Epoch 15/25\n",
            "1719/1719 [==============================] - 5s 3ms/step - loss: 0.2376 - accuracy: 0.9168 - val_loss: 0.3205 - val_accuracy: 0.8872\n",
            "Epoch 16/25\n",
            "1719/1719 [==============================] - 5s 3ms/step - loss: 0.2344 - accuracy: 0.9177 - val_loss: 0.3179 - val_accuracy: 0.8890\n",
            "Epoch 17/25\n",
            "1719/1719 [==============================] - 5s 3ms/step - loss: 0.2318 - accuracy: 0.9185 - val_loss: 0.3193 - val_accuracy: 0.8914\n",
            "Epoch 18/25\n",
            "1719/1719 [==============================] - 5s 3ms/step - loss: 0.2292 - accuracy: 0.9197 - val_loss: 0.3165 - val_accuracy: 0.8906\n",
            "Epoch 19/25\n",
            "1719/1719 [==============================] - 5s 3ms/step - loss: 0.2271 - accuracy: 0.9204 - val_loss: 0.3194 - val_accuracy: 0.8886\n",
            "Epoch 20/25\n",
            "1719/1719 [==============================] - 5s 3ms/step - loss: 0.2251 - accuracy: 0.9219 - val_loss: 0.3165 - val_accuracy: 0.8910\n",
            "Epoch 21/25\n",
            "1719/1719 [==============================] - 5s 3ms/step - loss: 0.2230 - accuracy: 0.9223 - val_loss: 0.3176 - val_accuracy: 0.8906\n",
            "Epoch 22/25\n",
            "1719/1719 [==============================] - 5s 3ms/step - loss: 0.2217 - accuracy: 0.9221 - val_loss: 0.3159 - val_accuracy: 0.8916\n",
            "Epoch 23/25\n",
            "1719/1719 [==============================] - 5s 3ms/step - loss: 0.2202 - accuracy: 0.9229 - val_loss: 0.3167 - val_accuracy: 0.8896\n",
            "Epoch 24/25\n",
            "1719/1719 [==============================] - 5s 3ms/step - loss: 0.2189 - accuracy: 0.9241 - val_loss: 0.3162 - val_accuracy: 0.8900\n",
            "Epoch 25/25\n",
            "1719/1719 [==============================] - 5s 3ms/step - loss: 0.2180 - accuracy: 0.9240 - val_loss: 0.3161 - val_accuracy: 0.8918\n"
          ],
          "name": "stdout"
        }
      ]
    },
    {
      "cell_type": "markdown",
      "metadata": {
        "id": "jYvaP-l4Fe6f"
      },
      "source": [
        "Para scheduling constantes:"
      ]
    },
    {
      "cell_type": "code",
      "metadata": {
        "id": "FcgVASjpFe6f"
      },
      "source": [
        "learning_rate = keras.optimizers.schedules.PiecewiseConstantDecay(\n",
        "    boundaries=[5. * n_steps_per_epoch, 15. * n_steps_per_epoch],\n",
        "    values=[0.01, 0.005, 0.001])"
      ],
      "execution_count": 102,
      "outputs": []
    },
    {
      "cell_type": "markdown",
      "metadata": {
        "id": "rRDGx6JGFe6f"
      },
      "source": [
        "### [1Cycle scheduling](https://sgugger.github.io/the-1cycle-policy.html)"
      ]
    },
    {
      "cell_type": "code",
      "metadata": {
        "id": "sLkRuOihFe6f"
      },
      "source": [
        "K = keras.backend\n",
        "\n",
        "class ExponentialLearningRate(keras.callbacks.Callback):\n",
        "    def __init__(self, factor):\n",
        "        self.factor = factor\n",
        "        self.rates = []\n",
        "        self.losses = []\n",
        "    def on_batch_end(self, batch, logs):\n",
        "        self.rates.append(K.get_value(self.model.optimizer.lr))\n",
        "        self.losses.append(logs[\"loss\"])\n",
        "        K.set_value(self.model.optimizer.lr, self.model.optimizer.lr * self.factor)\n",
        "\n",
        "def find_learning_rate(model, X, y, epochs=1, batch_size=32, min_rate=10**-5, max_rate=10):\n",
        "    init_weights = model.get_weights()\n",
        "    iterations = len(X) // batch_size * epochs\n",
        "    factor = np.exp(np.log(max_rate / min_rate) / iterations)\n",
        "    init_lr = K.get_value(model.optimizer.lr)\n",
        "    K.set_value(model.optimizer.lr, min_rate)\n",
        "    exp_lr = ExponentialLearningRate(factor)\n",
        "    history = model.fit(X, y, epochs=epochs, batch_size=batch_size,\n",
        "                        callbacks=[exp_lr])\n",
        "    K.set_value(model.optimizer.lr, init_lr)\n",
        "    model.set_weights(init_weights)\n",
        "    return exp_lr.rates, exp_lr.losses\n",
        "\n",
        "def plot_lr_vs_loss(rates, losses):\n",
        "    plt.plot(rates, losses)\n",
        "    plt.gca().set_xscale('log')\n",
        "    plt.hlines(min(losses), min(rates), max(rates))\n",
        "    plt.axis([min(rates), max(rates), min(losses), (losses[0] + min(losses)) / 2])\n",
        "    plt.xlabel(\"Learning rate\")\n",
        "    plt.ylabel(\"Loss\")"
      ],
      "execution_count": 103,
      "outputs": []
    },
    {
      "cell_type": "code",
      "metadata": {
        "id": "q0W3aiddFe6f",
        "colab": {
          "base_uri": "https://localhost:8080/"
        },
        "outputId": "b8ea9aa3-b79d-454b-caef-6c39526d64d0"
      },
      "source": [
        "tf.random.set_seed(42)\n",
        "np.random.seed(42)\n",
        "\n",
        "model = keras.models.Sequential([\n",
        "    keras.layers.Flatten(input_shape=[28, 28]),\n",
        "    keras.layers.Dense(300, activation=\"selu\", kernel_initializer=\"lecun_normal\"),\n",
        "    keras.layers.Dense(100, activation=\"selu\", kernel_initializer=\"lecun_normal\"),\n",
        "    keras.layers.Dense(10, activation=\"softmax\")\n",
        "])\n",
        "model.compile(loss=\"sparse_categorical_crossentropy\",\n",
        "              optimizer=keras.optimizers.SGD(lr=1e-3),\n",
        "              metrics=[\"accuracy\"])"
      ],
      "execution_count": 104,
      "outputs": [
        {
          "output_type": "stream",
          "text": [
            "/usr/local/lib/python3.7/dist-packages/keras/optimizer_v2/optimizer_v2.py:356: UserWarning: The `lr` argument is deprecated, use `learning_rate` instead.\n",
            "  \"The `lr` argument is deprecated, use `learning_rate` instead.\")\n"
          ],
          "name": "stderr"
        }
      ]
    },
    {
      "cell_type": "code",
      "metadata": {
        "id": "8yWoOVhiFe6f",
        "colab": {
          "base_uri": "https://localhost:8080/",
          "height": 0
        },
        "outputId": "fc3e1a81-bd06-427a-8013-bac8fad4a51c"
      },
      "source": [
        "batch_size = 128\n",
        "rates, losses = find_learning_rate(model, X_train_scaled, y_train, epochs=1, batch_size=batch_size)\n",
        "plot_lr_vs_loss(rates, losses)"
      ],
      "execution_count": 105,
      "outputs": [
        {
          "output_type": "stream",
          "text": [
            "  1/430 [..............................] - ETA: 2:15 - loss: 2.6624 - accuracy: 0.1406WARNING:tensorflow:Callback method `on_train_batch_end` is slow compared to the batch time (batch time: 0.0021s vs `on_train_batch_end` time: 0.0024s). Check your callbacks.\n",
            "430/430 [==============================] - 2s 4ms/step - loss: nan - accuracy: 0.3893\n"
          ],
          "name": "stdout"
        },
        {
          "output_type": "display_data",
          "data": {
            "image/png": "[encoded data removed]",
            "text/plain": [
              "<Figure size 432x288 with 1 Axes>"
            ]
          },
          "metadata": {
            "needs_background": "light"
          }
        }
      ]
    },
    {
      "cell_type": "code",
      "metadata": {
        "id": "Dz99KLaaFe6f"
      },
      "source": [
        "class OneCycleScheduler(keras.callbacks.Callback):\n",
        "    def __init__(self, iterations, max_rate, start_rate=None,\n",
        "                 last_iterations=None, last_rate=None):\n",
        "        self.iterations = iterations\n",
        "        self.max_rate = max_rate\n",
        "        self.start_rate = start_rate or max_rate / 10\n",
        "        self.last_iterations = last_iterations or iterations // 10 + 1\n",
        "        self.half_iteration = (iterations - self.last_iterations) // 2\n",
        "        self.last_rate = last_rate or self.start_rate / 1000\n",
        "        self.iteration = 0\n",
        "    def _interpolate(self, iter1, iter2, rate1, rate2):\n",
        "        return ((rate2 - rate1) * (self.iteration - iter1)\n",
        "                / (iter2 - iter1) + rate1)\n",
        "    def on_batch_begin(self, batch, logs):\n",
        "        if self.iteration < self.half_iteration:\n",
        "            rate = self._interpolate(0, self.half_iteration, self.start_rate, self.max_rate)\n",
        "        elif self.iteration < 2 * self.half_iteration:\n",
        "            rate = self._interpolate(self.half_iteration, 2 * self.half_iteration,\n",
        "                                     self.max_rate, self.start_rate)\n",
        "        else:\n",
        "            rate = self._interpolate(2 * self.half_iteration, self.iterations,\n",
        "                                     self.start_rate, self.last_rate)\n",
        "            rate = max(rate, self.last_rate)\n",
        "        self.iteration += 1\n",
        "        K.set_value(self.model.optimizer.lr, rate)"
      ],
      "execution_count": 106,
      "outputs": []
    },
    {
      "cell_type": "code",
      "metadata": {
        "id": "4g2I4sFAFe6f",
        "colab": {
          "base_uri": "https://localhost:8080/"
        },
        "outputId": "e2c308ef-ede5-41fb-b7fc-e1dca9cd5be3"
      },
      "source": [
        "n_epochs = 25\n",
        "onecycle = OneCycleScheduler(len(X_train) // batch_size * n_epochs, max_rate=0.05)\n",
        "history = model.fit(X_train_scaled, y_train, epochs=n_epochs, batch_size=batch_size,\n",
        "                    validation_data=(X_valid_scaled, y_valid),\n",
        "                    callbacks=[onecycle])"
      ],
      "execution_count": 107,
      "outputs": [
        {
          "output_type": "stream",
          "text": [
            "Epoch 1/25\n",
            "430/430 [==============================] - 2s 4ms/step - loss: 0.6572 - accuracy: 0.7738 - val_loss: 0.4871 - val_accuracy: 0.8334\n",
            "Epoch 2/25\n",
            "430/430 [==============================] - 2s 4ms/step - loss: 0.4581 - accuracy: 0.8395 - val_loss: 0.4275 - val_accuracy: 0.8524\n",
            "Epoch 3/25\n",
            "430/430 [==============================] - 2s 4ms/step - loss: 0.4121 - accuracy: 0.8545 - val_loss: 0.4115 - val_accuracy: 0.8578\n",
            "Epoch 4/25\n",
            "430/430 [==============================] - 2s 4ms/step - loss: 0.3837 - accuracy: 0.8641 - val_loss: 0.3869 - val_accuracy: 0.8684\n",
            "Epoch 5/25\n",
            "430/430 [==============================] - 2s 4ms/step - loss: 0.3639 - accuracy: 0.8719 - val_loss: 0.3763 - val_accuracy: 0.8682\n",
            "Epoch 6/25\n",
            "430/430 [==============================] - 2s 4ms/step - loss: 0.3456 - accuracy: 0.8773 - val_loss: 0.3744 - val_accuracy: 0.8710\n",
            "Epoch 7/25\n",
            "430/430 [==============================] - 2s 4ms/step - loss: 0.3329 - accuracy: 0.8811 - val_loss: 0.3632 - val_accuracy: 0.8708\n",
            "Epoch 8/25\n",
            "430/430 [==============================] - 2s 4ms/step - loss: 0.3184 - accuracy: 0.8860 - val_loss: 0.3954 - val_accuracy: 0.8612\n",
            "Epoch 9/25\n",
            "430/430 [==============================] - 2s 4ms/step - loss: 0.3064 - accuracy: 0.8891 - val_loss: 0.3482 - val_accuracy: 0.8764\n",
            "Epoch 10/25\n",
            "430/430 [==============================] - 2s 4ms/step - loss: 0.2944 - accuracy: 0.8925 - val_loss: 0.3395 - val_accuracy: 0.8810\n",
            "Epoch 11/25\n",
            "430/430 [==============================] - 2s 4ms/step - loss: 0.2838 - accuracy: 0.8964 - val_loss: 0.3457 - val_accuracy: 0.8810\n",
            "Epoch 12/25\n",
            "430/430 [==============================] - 2s 4ms/step - loss: 0.2708 - accuracy: 0.9025 - val_loss: 0.3649 - val_accuracy: 0.8702\n",
            "Epoch 13/25\n",
            "430/430 [==============================] - 2s 4ms/step - loss: 0.2536 - accuracy: 0.9082 - val_loss: 0.3350 - val_accuracy: 0.8840\n",
            "Epoch 14/25\n",
            "430/430 [==============================] - 2s 4ms/step - loss: 0.2404 - accuracy: 0.9134 - val_loss: 0.3460 - val_accuracy: 0.8816\n",
            "Epoch 15/25\n",
            "430/430 [==============================] - 2s 4ms/step - loss: 0.2278 - accuracy: 0.9184 - val_loss: 0.3255 - val_accuracy: 0.8862\n",
            "Epoch 16/25\n",
            "430/430 [==============================] - 2s 4ms/step - loss: 0.2158 - accuracy: 0.9231 - val_loss: 0.3290 - val_accuracy: 0.8834\n",
            "Epoch 17/25\n",
            "430/430 [==============================] - 2s 4ms/step - loss: 0.2061 - accuracy: 0.9263 - val_loss: 0.3338 - val_accuracy: 0.8862\n",
            "Epoch 18/25\n",
            "430/430 [==============================] - 2s 4ms/step - loss: 0.1977 - accuracy: 0.9303 - val_loss: 0.3234 - val_accuracy: 0.8902\n",
            "Epoch 19/25\n",
            "430/430 [==============================] - 2s 4ms/step - loss: 0.1891 - accuracy: 0.9338 - val_loss: 0.3228 - val_accuracy: 0.8910\n",
            "Epoch 20/25\n",
            "430/430 [==============================] - 2s 4ms/step - loss: 0.1820 - accuracy: 0.9367 - val_loss: 0.3217 - val_accuracy: 0.8932\n",
            "Epoch 21/25\n",
            "430/430 [==============================] - 2s 4ms/step - loss: 0.1751 - accuracy: 0.9401 - val_loss: 0.3213 - val_accuracy: 0.8910\n",
            "Epoch 22/25\n",
            "430/430 [==============================] - 2s 4ms/step - loss: 0.1700 - accuracy: 0.9420 - val_loss: 0.3176 - val_accuracy: 0.8962\n",
            "Epoch 23/25\n",
            "430/430 [==============================] - 2s 4ms/step - loss: 0.1654 - accuracy: 0.9441 - val_loss: 0.3180 - val_accuracy: 0.8946\n",
            "Epoch 24/25\n",
            "430/430 [==============================] - 2s 4ms/step - loss: 0.1627 - accuracy: 0.9453 - val_loss: 0.3172 - val_accuracy: 0.8942\n",
            "Epoch 25/25\n",
            "430/430 [==============================] - 2s 4ms/step - loss: 0.1610 - accuracy: 0.9464 - val_loss: 0.3164 - val_accuracy: 0.8946\n"
          ],
          "name": "stdout"
        }
      ]
    },
    {
      "cell_type": "markdown",
      "metadata": {
        "id": "hdsNIgt9Fe6f"
      },
      "source": [
        "# Regulizar para evitar sobreajuste en Deep Learning"
      ]
    },
    {
      "cell_type": "markdown",
      "metadata": {
        "id": "YdEnwi1NFe6f"
      },
      "source": [
        "## $\\ell_1$ and $\\ell_2$ regularization\n",
        "\n",
        "* Agrega al costo en backpropagation la norma l1 ($\\|w\\|_1$) y/o l2 ($\\|w\\|_2$) de la respectiva capa"
      ]
    },
    {
      "cell_type": "code",
      "metadata": {
        "id": "MGO4BUsbFe6f"
      },
      "source": [
        "layer = keras.layers.Dense(100, activation=\"elu\",\n",
        "                           kernel_initializer=\"he_normal\",\n",
        "                           kernel_regularizer=keras.regularizers.l2(0.01))\n",
        "# or l1(0.1) for ℓ1 regularization with a factor or 0.1\n",
        "# or l1_l2(0.1, 0.01) for both ℓ1 and ℓ2 regularization, with factors 0.1 and 0.01 respectively"
      ],
      "execution_count": 108,
      "outputs": []
    },
    {
      "cell_type": "code",
      "metadata": {
        "id": "lm0zckhdFe6f",
        "colab": {
          "base_uri": "https://localhost:8080/"
        },
        "outputId": "5bbcd016-0051-4c83-a36f-d30e8e993ed2"
      },
      "source": [
        "model = keras.models.Sequential([\n",
        "    keras.layers.Flatten(input_shape=[28, 28]),\n",
        "    keras.layers.Dense(300, activation=\"elu\",\n",
        "                       kernel_initializer=\"he_normal\",\n",
        "                       kernel_regularizer=keras.regularizers.l2(0.01)),\n",
        "    keras.layers.Dense(100, activation=\"elu\",\n",
        "                       kernel_initializer=\"he_normal\",\n",
        "                       kernel_regularizer=keras.regularizers.l2(0.01)),\n",
        "    keras.layers.Dense(10, activation=\"softmax\",\n",
        "                       kernel_regularizer=keras.regularizers.l2(0.01))\n",
        "])\n",
        "model.compile(loss=\"sparse_categorical_crossentropy\", optimizer=\"nadam\", metrics=[\"accuracy\"])\n",
        "n_epochs = 2\n",
        "history = model.fit(X_train_scaled, y_train, epochs=n_epochs,\n",
        "                    validation_data=(X_valid_scaled, y_valid))"
      ],
      "execution_count": 109,
      "outputs": [
        {
          "output_type": "stream",
          "text": [
            "Epoch 1/2\n",
            "1719/1719 [==============================] - 9s 5ms/step - loss: 1.5956 - accuracy: 0.8124 - val_loss: 0.7169 - val_accuracy: 0.8340\n",
            "Epoch 2/2\n",
            "1719/1719 [==============================] - 8s 4ms/step - loss: 0.7197 - accuracy: 0.8274 - val_loss: 0.6850 - val_accuracy: 0.8376\n"
          ],
          "name": "stdout"
        }
      ]
    },
    {
      "cell_type": "code",
      "metadata": {
        "id": "5kY1s1diFe6f",
        "colab": {
          "base_uri": "https://localhost:8080/"
        },
        "outputId": "d6d758be-94bf-4513-92ec-d7a388ed5c3a"
      },
      "source": [
        "from functools import partial\n",
        "\n",
        "RegularizedDense = partial(keras.layers.Dense,\n",
        "                           activation=\"elu\",\n",
        "                           kernel_initializer=\"he_normal\",\n",
        "                           kernel_regularizer=keras.regularizers.l2(0.01))\n",
        "\n",
        "model = keras.models.Sequential([\n",
        "    keras.layers.Flatten(input_shape=[28, 28]),\n",
        "    RegularizedDense(300),\n",
        "    RegularizedDense(100),\n",
        "    RegularizedDense(10, activation=\"softmax\")\n",
        "])\n",
        "model.compile(loss=\"sparse_categorical_crossentropy\", optimizer=\"nadam\", metrics=[\"accuracy\"])\n",
        "n_epochs = 2\n",
        "history = model.fit(X_train_scaled, y_train, epochs=n_epochs,\n",
        "                    validation_data=(X_valid_scaled, y_valid))"
      ],
      "execution_count": 110,
      "outputs": [
        {
          "output_type": "stream",
          "text": [
            "Epoch 1/2\n",
            "1719/1719 [==============================] - 9s 5ms/step - loss: 1.6313 - accuracy: 0.8113 - val_loss: 0.7218 - val_accuracy: 0.8310\n",
            "Epoch 2/2\n",
            "1719/1719 [==============================] - 8s 5ms/step - loss: 0.7187 - accuracy: 0.8273 - val_loss: 0.6826 - val_accuracy: 0.8382\n"
          ],
          "name": "stdout"
        }
      ]
    },
    {
      "cell_type": "markdown",
      "metadata": {
        "id": "i5M2aajmFe6f"
      },
      "source": [
        "## Dropout\n",
        "\n",
        "* Apaga aleatoriamente neuronas en la respectiva capa."
      ]
    },
    {
      "cell_type": "code",
      "metadata": {
        "id": "_p9DcmrFFe6f",
        "colab": {
          "base_uri": "https://localhost:8080/"
        },
        "outputId": "f4b188ce-99aa-4f5b-be2d-ed1f732a0a34"
      },
      "source": [
        "model = keras.models.Sequential([\n",
        "    keras.layers.Flatten(input_shape=[28, 28]),\n",
        "    keras.layers.Dropout(rate=0.2),\n",
        "    keras.layers.Dense(300, activation=\"elu\", kernel_initializer=\"he_normal\"),\n",
        "    keras.layers.Dropout(rate=0.2),\n",
        "    keras.layers.Dense(100, activation=\"elu\", kernel_initializer=\"he_normal\"),\n",
        "    keras.layers.Dropout(rate=0.2),\n",
        "    keras.layers.Dense(10, activation=\"softmax\")\n",
        "])\n",
        "model.compile(loss=\"sparse_categorical_crossentropy\", optimizer=\"nadam\", metrics=[\"accuracy\"])\n",
        "n_epochs = 2\n",
        "history = model.fit(X_train_scaled, y_train, epochs=n_epochs,\n",
        "                    validation_data=(X_valid_scaled, y_valid))"
      ],
      "execution_count": 111,
      "outputs": [
        {
          "output_type": "stream",
          "text": [
            "Epoch 1/2\n",
            "1719/1719 [==============================] - 9s 5ms/step - loss: 0.5838 - accuracy: 0.7998 - val_loss: 0.3730 - val_accuracy: 0.8642\n",
            "Epoch 2/2\n",
            "1719/1719 [==============================] - 8s 4ms/step - loss: 0.4210 - accuracy: 0.8442 - val_loss: 0.3422 - val_accuracy: 0.8722\n"
          ],
          "name": "stdout"
        }
      ]
    },
    {
      "cell_type": "markdown",
      "metadata": {
        "id": "xHugu8RWFe6f"
      },
      "source": [
        "## Alpha Dropout\n",
        "\n",
        "* Dropout manteniendo la media y varianza de las entradas de la capa.\n",
        "* Mantiene el concepto de auto-normalización (self-normalizing)"
      ]
    },
    {
      "cell_type": "code",
      "metadata": {
        "id": "HzLpYv-fFe6f"
      },
      "source": [
        "tf.random.set_seed(42)\n",
        "np.random.seed(42)"
      ],
      "execution_count": 112,
      "outputs": []
    },
    {
      "cell_type": "code",
      "metadata": {
        "id": "Y31jAF0fFe6g",
        "colab": {
          "base_uri": "https://localhost:8080/"
        },
        "outputId": "b1291cfb-472b-48df-8f1e-8f16d3fe0ec5"
      },
      "source": [
        "model = keras.models.Sequential([\n",
        "    keras.layers.Flatten(input_shape=[28, 28]),\n",
        "    keras.layers.AlphaDropout(rate=0.2),\n",
        "    keras.layers.Dense(300, activation=\"selu\", kernel_initializer=\"lecun_normal\"),\n",
        "    keras.layers.AlphaDropout(rate=0.2),\n",
        "    keras.layers.Dense(100, activation=\"selu\", kernel_initializer=\"lecun_normal\"),\n",
        "    keras.layers.AlphaDropout(rate=0.2),\n",
        "    keras.layers.Dense(10, activation=\"softmax\")\n",
        "])\n",
        "optimizer = keras.optimizers.SGD(lr=0.01, momentum=0.9, nesterov=True)\n",
        "model.compile(loss=\"sparse_categorical_crossentropy\", optimizer=optimizer, metrics=[\"accuracy\"])\n",
        "n_epochs = 20\n",
        "history = model.fit(X_train_scaled, y_train, epochs=n_epochs,\n",
        "                    validation_data=(X_valid_scaled, y_valid))"
      ],
      "execution_count": 113,
      "outputs": [
        {
          "output_type": "stream",
          "text": [
            "/usr/local/lib/python3.7/dist-packages/keras/optimizer_v2/optimizer_v2.py:356: UserWarning: The `lr` argument is deprecated, use `learning_rate` instead.\n",
            "  \"The `lr` argument is deprecated, use `learning_rate` instead.\")\n"
          ],
          "name": "stderr"
        },
        {
          "output_type": "stream",
          "text": [
            "Epoch 1/20\n",
            "1719/1719 [==============================] - 6s 3ms/step - loss: 0.6641 - accuracy: 0.7593 - val_loss: 0.5779 - val_accuracy: 0.8440\n",
            "Epoch 2/20\n",
            "1719/1719 [==============================] - 6s 3ms/step - loss: 0.5567 - accuracy: 0.7947 - val_loss: 0.5214 - val_accuracy: 0.8516\n",
            "Epoch 3/20\n",
            "1719/1719 [==============================] - 6s 3ms/step - loss: 0.5209 - accuracy: 0.8083 - val_loss: 0.4887 - val_accuracy: 0.8598\n",
            "Epoch 4/20\n",
            "1719/1719 [==============================] - 6s 3ms/step - loss: 0.5085 - accuracy: 0.8119 - val_loss: 0.4914 - val_accuracy: 0.8586\n",
            "Epoch 5/20\n",
            "1719/1719 [==============================] - 6s 3ms/step - loss: 0.4952 - accuracy: 0.8184 - val_loss: 0.4305 - val_accuracy: 0.8690\n",
            "Epoch 6/20\n",
            "1719/1719 [==============================] - 6s 3ms/step - loss: 0.4826 - accuracy: 0.8212 - val_loss: 0.4617 - val_accuracy: 0.8628\n",
            "Epoch 7/20\n",
            "1719/1719 [==============================] - 6s 3ms/step - loss: 0.4722 - accuracy: 0.8248 - val_loss: 0.4662 - val_accuracy: 0.8610\n",
            "Epoch 8/20\n",
            "1719/1719 [==============================] - 6s 3ms/step - loss: 0.4608 - accuracy: 0.8288 - val_loss: 0.4193 - val_accuracy: 0.8682\n",
            "Epoch 9/20\n",
            "1719/1719 [==============================] - 6s 4ms/step - loss: 0.4613 - accuracy: 0.8286 - val_loss: 0.4287 - val_accuracy: 0.8752\n",
            "Epoch 10/20\n",
            "1719/1719 [==============================] - 6s 3ms/step - loss: 0.4554 - accuracy: 0.8313 - val_loss: 0.4301 - val_accuracy: 0.8660\n",
            "Epoch 11/20\n",
            "1719/1719 [==============================] - 6s 3ms/step - loss: 0.4492 - accuracy: 0.8326 - val_loss: 0.4246 - val_accuracy: 0.8742\n",
            "Epoch 12/20\n",
            "1719/1719 [==============================] - 6s 3ms/step - loss: 0.4444 - accuracy: 0.8359 - val_loss: 0.5307 - val_accuracy: 0.8562\n",
            "Epoch 13/20\n",
            "1719/1719 [==============================] - 6s 3ms/step - loss: 0.4388 - accuracy: 0.8374 - val_loss: 0.4398 - val_accuracy: 0.8760\n",
            "Epoch 14/20\n",
            "1719/1719 [==============================] - 6s 3ms/step - loss: 0.4364 - accuracy: 0.8375 - val_loss: 0.4506 - val_accuracy: 0.8658\n",
            "Epoch 15/20\n",
            "1719/1719 [==============================] - 6s 3ms/step - loss: 0.4325 - accuracy: 0.8383 - val_loss: 0.4362 - val_accuracy: 0.8664\n",
            "Epoch 16/20\n",
            "1719/1719 [==============================] - 6s 3ms/step - loss: 0.4317 - accuracy: 0.8402 - val_loss: 0.4187 - val_accuracy: 0.8756\n",
            "Epoch 17/20\n",
            "1719/1719 [==============================] - 6s 3ms/step - loss: 0.4283 - accuracy: 0.8413 - val_loss: 0.5331 - val_accuracy: 0.8570\n",
            "Epoch 18/20\n",
            "1719/1719 [==============================] - 6s 3ms/step - loss: 0.4269 - accuracy: 0.8418 - val_loss: 0.4604 - val_accuracy: 0.8720\n",
            "Epoch 19/20\n",
            "1719/1719 [==============================] - 6s 3ms/step - loss: 0.4251 - accuracy: 0.8417 - val_loss: 0.4678 - val_accuracy: 0.8700\n",
            "Epoch 20/20\n",
            "1719/1719 [==============================] - 6s 3ms/step - loss: 0.4193 - accuracy: 0.8438 - val_loss: 0.4426 - val_accuracy: 0.8730\n"
          ],
          "name": "stdout"
        }
      ]
    },
    {
      "cell_type": "code",
      "metadata": {
        "id": "G_rJ0TPMFe6g",
        "colab": {
          "base_uri": "https://localhost:8080/"
        },
        "outputId": "98dd0eff-4fa3-4373-80e5-aa747d3538bd"
      },
      "source": [
        "model.evaluate(X_test_scaled, y_test)"
      ],
      "execution_count": 114,
      "outputs": [
        {
          "output_type": "stream",
          "text": [
            "313/313 [==============================] - 1s 2ms/step - loss: 0.4826 - accuracy: 0.8593\n"
          ],
          "name": "stdout"
        },
        {
          "output_type": "execute_result",
          "data": {
            "text/plain": [
              "[0.48257920145988464, 0.8593000173568726]"
            ]
          },
          "metadata": {},
          "execution_count": 114
        }
      ]
    },
    {
      "cell_type": "code",
      "metadata": {
        "id": "OrRVWqWYFe6g",
        "colab": {
          "base_uri": "https://localhost:8080/"
        },
        "outputId": "02286c89-e09d-4c3f-d9ff-8f10d7f34aa4"
      },
      "source": [
        "model.evaluate(X_train_scaled, y_train)"
      ],
      "execution_count": 115,
      "outputs": [
        {
          "output_type": "stream",
          "text": [
            "1719/1719 [==============================] - 4s 2ms/step - loss: 0.3598 - accuracy: 0.8806\n"
          ],
          "name": "stdout"
        },
        {
          "output_type": "execute_result",
          "data": {
            "text/plain": [
              "[0.35979604721069336, 0.8805636167526245]"
            ]
          },
          "metadata": {},
          "execution_count": 115
        }
      ]
    },
    {
      "cell_type": "code",
      "metadata": {
        "id": "Td0I0sEHFe6g",
        "colab": {
          "base_uri": "https://localhost:8080/"
        },
        "outputId": "d3b85ede-8c7c-4167-9500-ccd326d1ecbe"
      },
      "source": [
        "history = model.fit(X_train_scaled, y_train)"
      ],
      "execution_count": 116,
      "outputs": [
        {
          "output_type": "stream",
          "text": [
            "1719/1719 [==============================] - 5s 3ms/step - loss: 0.4217 - accuracy: 0.8432\n"
          ],
          "name": "stdout"
        }
      ]
    },
    {
      "cell_type": "markdown",
      "metadata": {
        "id": "lMsfCSYlFe6g"
      },
      "source": [
        "## MC Dropout\n",
        "\n",
        "* Estimación de salida después de entrenar red por simulación de Monte-Carlo (varias realizaciones del  experimento), en donde la aleatoriedad es controlada por el Dropout.\n",
        "\n",
        "* Cada evaluación de una nueva muestra puede variar su  salida por el Dropout.\n",
        "\n",
        "* Se generan varias corridas para predecir la salida de un punto con la red entrenada, y la predicción final sera el promedio muestral de las predicciones sobre el experimento de Monte-Carlo.\n",
        "\n",
        "* MC Dropot se relaciona con inferencia Bayesiana aproximada y provee una alternativa para cuantificar la incertidumbre del modelo en DL."
      ]
    },
    {
      "cell_type": "code",
      "metadata": {
        "id": "0XnNoF19Fe6g"
      },
      "source": [
        "tf.random.set_seed(42)\n",
        "np.random.seed(42)"
      ],
      "execution_count": 117,
      "outputs": []
    },
    {
      "cell_type": "code",
      "metadata": {
        "colab": {
          "base_uri": "https://localhost:8080/"
        },
        "id": "mRvBNBr1ComK",
        "outputId": "f6059d33-7077-40c7-8974-959a4bb26df6"
      },
      "source": [
        "model(X_test_scaled,training=True).shape"
      ],
      "execution_count": 118,
      "outputs": [
        {
          "output_type": "execute_result",
          "data": {
            "text/plain": [
              "TensorShape([10000, 10])"
            ]
          },
          "metadata": {},
          "execution_count": 118
        }
      ]
    },
    {
      "cell_type": "code",
      "metadata": {
        "id": "9RTnHkP0Fe6g",
        "colab": {
          "base_uri": "https://localhost:8080/"
        },
        "outputId": "d096e785-c229-4e9d-f2d7-12705bbe0a07"
      },
      "source": [
        "y_probas = np.stack([model(X_test_scaled, training=True) # se activa training en True para que el Dropout se aplique\n",
        "                     for sample in range(100)])\n",
        "y_proba = y_probas.mean(axis=0)\n",
        "y_std = y_probas.std(axis=0)\n",
        "y_probas.shape"
      ],
      "execution_count": 119,
      "outputs": [
        {
          "output_type": "execute_result",
          "data": {
            "text/plain": [
              "(100, 10000, 10)"
            ]
          },
          "metadata": {},
          "execution_count": 119
        }
      ]
    },
    {
      "cell_type": "code",
      "metadata": {
        "id": "piDHtTu0Fe6g",
        "colab": {
          "base_uri": "https://localhost:8080/"
        },
        "outputId": "3b14be1a-6362-4e63-d262-d3750f0e9def"
      },
      "source": [
        "np.round(model.predict(X_test_scaled[:1]), 2)"
      ],
      "execution_count": 120,
      "outputs": [
        {
          "output_type": "execute_result",
          "data": {
            "text/plain": [
              "array([[0.  , 0.  , 0.  , 0.  , 0.  , 0.  , 0.  , 0.02, 0.  , 0.98]],\n",
              "      dtype=float32)"
            ]
          },
          "metadata": {},
          "execution_count": 120
        }
      ]
    },
    {
      "cell_type": "code",
      "metadata": {
        "id": "mHgGGV6jFe6g",
        "colab": {
          "base_uri": "https://localhost:8080/"
        },
        "outputId": "aa7290c8-805c-4aaf-fee6-8f85a3b4a070"
      },
      "source": [
        "np.round(y_probas[:, :1], 2)"
      ],
      "execution_count": 121,
      "outputs": [
        {
          "output_type": "execute_result",
          "data": {
            "text/plain": [
              "array([[[0.  , 0.  , 0.  , 0.  , 0.  , 0.01, 0.  , 0.96, 0.  , 0.03]],\n",
              "\n",
              "       [[0.  , 0.  , 0.  , 0.  , 0.  , 0.  , 0.  , 0.  , 0.  , 1.  ]],\n",
              "\n",
              "       [[0.  , 0.  , 0.  , 0.  , 0.  , 0.01, 0.  , 0.2 , 0.  , 0.79]],\n",
              "\n",
              "       [[0.  , 0.  , 0.  , 0.  , 0.  , 0.  , 0.  , 0.76, 0.  , 0.24]],\n",
              "\n",
              "       [[0.  , 0.  , 0.  , 0.  , 0.  , 0.  , 0.  , 0.72, 0.  , 0.27]],\n",
              "\n",
              "       [[0.  , 0.  , 0.  , 0.  , 0.  , 0.03, 0.  , 0.41, 0.  , 0.56]],\n",
              "\n",
              "       [[0.  , 0.  , 0.  , 0.  , 0.  , 0.05, 0.  , 0.53, 0.  , 0.42]],\n",
              "\n",
              "       [[0.  , 0.  , 0.  , 0.  , 0.  , 0.12, 0.  , 0.08, 0.  , 0.8 ]],\n",
              "\n",
              "       [[0.  , 0.  , 0.  , 0.  , 0.  , 0.  , 0.  , 0.02, 0.  , 0.98]],\n",
              "\n",
              "       [[0.  , 0.  , 0.  , 0.  , 0.  , 0.01, 0.  , 0.11, 0.  , 0.88]],\n",
              "\n",
              "       [[0.  , 0.  , 0.  , 0.  , 0.  , 0.2 , 0.  , 0.43, 0.  , 0.37]],\n",
              "\n",
              "       [[0.  , 0.  , 0.  , 0.  , 0.  , 0.  , 0.  , 0.14, 0.  , 0.85]],\n",
              "\n",
              "       [[0.  , 0.  , 0.  , 0.  , 0.  , 0.11, 0.  , 0.22, 0.  , 0.67]],\n",
              "\n",
              "       [[0.  , 0.  , 0.  , 0.  , 0.  , 0.02, 0.  , 0.3 , 0.  , 0.68]],\n",
              "\n",
              "       [[0.  , 0.  , 0.  , 0.  , 0.  , 0.04, 0.  , 0.08, 0.  , 0.88]],\n",
              "\n",
              "       [[0.  , 0.  , 0.  , 0.  , 0.  , 0.  , 0.  , 0.  , 0.  , 1.  ]],\n",
              "\n",
              "       [[0.  , 0.  , 0.  , 0.  , 0.  , 0.04, 0.  , 0.51, 0.  , 0.46]],\n",
              "\n",
              "       [[0.  , 0.  , 0.  , 0.  , 0.  , 0.  , 0.  , 0.16, 0.  , 0.84]],\n",
              "\n",
              "       [[0.  , 0.  , 0.  , 0.  , 0.  , 0.  , 0.  , 0.01, 0.  , 0.99]],\n",
              "\n",
              "       [[0.  , 0.  , 0.  , 0.  , 0.  , 0.69, 0.05, 0.03, 0.  , 0.23]],\n",
              "\n",
              "       [[0.  , 0.  , 0.  , 0.  , 0.  , 0.04, 0.  , 0.08, 0.  , 0.87]],\n",
              "\n",
              "       [[0.  , 0.  , 0.  , 0.  , 0.  , 0.  , 0.  , 0.  , 0.  , 1.  ]],\n",
              "\n",
              "       [[0.  , 0.  , 0.  , 0.  , 0.  , 0.  , 0.  , 0.12, 0.  , 0.88]],\n",
              "\n",
              "       [[0.  , 0.  , 0.  , 0.  , 0.  , 0.04, 0.  , 0.08, 0.  , 0.89]],\n",
              "\n",
              "       [[0.  , 0.  , 0.  , 0.  , 0.  , 0.03, 0.  , 0.78, 0.  , 0.19]],\n",
              "\n",
              "       [[0.  , 0.  , 0.  , 0.  , 0.  , 0.  , 0.  , 0.09, 0.  , 0.91]],\n",
              "\n",
              "       [[0.  , 0.  , 0.  , 0.  , 0.  , 0.09, 0.  , 0.38, 0.  , 0.53]],\n",
              "\n",
              "       [[0.  , 0.  , 0.  , 0.  , 0.  , 0.01, 0.  , 0.06, 0.  , 0.93]],\n",
              "\n",
              "       [[0.  , 0.  , 0.  , 0.  , 0.  , 0.13, 0.  , 0.67, 0.  , 0.2 ]],\n",
              "\n",
              "       [[0.  , 0.  , 0.  , 0.  , 0.  , 0.  , 0.  , 0.01, 0.  , 0.99]],\n",
              "\n",
              "       [[0.  , 0.  , 0.  , 0.  , 0.  , 0.  , 0.  , 0.  , 0.  , 1.  ]],\n",
              "\n",
              "       [[0.  , 0.  , 0.  , 0.  , 0.  , 0.15, 0.  , 0.09, 0.  , 0.76]],\n",
              "\n",
              "       [[0.  , 0.  , 0.  , 0.  , 0.  , 0.06, 0.  , 0.88, 0.  , 0.05]],\n",
              "\n",
              "       [[0.  , 0.  , 0.  , 0.  , 0.  , 0.01, 0.  , 0.2 , 0.  , 0.79]],\n",
              "\n",
              "       [[0.  , 0.  , 0.  , 0.  , 0.  , 0.07, 0.  , 0.79, 0.  , 0.14]],\n",
              "\n",
              "       [[0.  , 0.  , 0.  , 0.  , 0.  , 0.  , 0.  , 0.02, 0.  , 0.98]],\n",
              "\n",
              "       [[0.  , 0.  , 0.  , 0.  , 0.  , 0.01, 0.  , 0.16, 0.  , 0.82]],\n",
              "\n",
              "       [[0.  , 0.  , 0.  , 0.  , 0.  , 0.  , 0.  , 0.32, 0.  , 0.68]],\n",
              "\n",
              "       [[0.  , 0.  , 0.  , 0.  , 0.  , 0.57, 0.  , 0.09, 0.  , 0.34]],\n",
              "\n",
              "       [[0.  , 0.  , 0.  , 0.  , 0.  , 0.  , 0.  , 0.08, 0.  , 0.92]],\n",
              "\n",
              "       [[0.  , 0.  , 0.  , 0.  , 0.  , 0.  , 0.  , 0.02, 0.  , 0.98]],\n",
              "\n",
              "       [[0.  , 0.  , 0.  , 0.  , 0.  , 0.24, 0.  , 0.56, 0.  , 0.2 ]],\n",
              "\n",
              "       [[0.  , 0.  , 0.  , 0.  , 0.  , 0.  , 0.  , 0.01, 0.  , 0.99]],\n",
              "\n",
              "       [[0.  , 0.  , 0.  , 0.  , 0.  , 0.  , 0.  , 0.01, 0.  , 0.99]],\n",
              "\n",
              "       [[0.  , 0.  , 0.  , 0.  , 0.  , 0.  , 0.  , 0.01, 0.  , 0.99]],\n",
              "\n",
              "       [[0.  , 0.  , 0.  , 0.  , 0.  , 0.09, 0.  , 0.19, 0.  , 0.71]],\n",
              "\n",
              "       [[0.  , 0.  , 0.  , 0.  , 0.  , 0.  , 0.  , 0.05, 0.  , 0.95]],\n",
              "\n",
              "       [[0.  , 0.  , 0.  , 0.  , 0.  , 0.  , 0.  , 0.36, 0.  , 0.64]],\n",
              "\n",
              "       [[0.  , 0.  , 0.  , 0.  , 0.  , 0.01, 0.  , 0.27, 0.  , 0.73]],\n",
              "\n",
              "       [[0.  , 0.  , 0.  , 0.  , 0.  , 0.05, 0.  , 0.27, 0.  , 0.67]],\n",
              "\n",
              "       [[0.  , 0.  , 0.  , 0.  , 0.  , 0.04, 0.  , 0.83, 0.  , 0.13]],\n",
              "\n",
              "       [[0.  , 0.  , 0.  , 0.  , 0.  , 0.  , 0.  , 0.01, 0.  , 0.99]],\n",
              "\n",
              "       [[0.  , 0.  , 0.  , 0.  , 0.  , 0.03, 0.  , 0.04, 0.  , 0.93]],\n",
              "\n",
              "       [[0.  , 0.  , 0.  , 0.  , 0.  , 0.02, 0.  , 0.01, 0.  , 0.97]],\n",
              "\n",
              "       [[0.  , 0.  , 0.  , 0.  , 0.  , 0.01, 0.  , 0.08, 0.  , 0.92]],\n",
              "\n",
              "       [[0.  , 0.  , 0.  , 0.  , 0.  , 0.  , 0.  , 0.41, 0.  , 0.59]],\n",
              "\n",
              "       [[0.  , 0.  , 0.  , 0.  , 0.  , 0.07, 0.  , 0.31, 0.  , 0.62]],\n",
              "\n",
              "       [[0.  , 0.  , 0.  , 0.  , 0.  , 0.01, 0.  , 0.16, 0.  , 0.84]],\n",
              "\n",
              "       [[0.  , 0.  , 0.  , 0.  , 0.  , 0.06, 0.  , 0.18, 0.  , 0.75]],\n",
              "\n",
              "       [[0.  , 0.  , 0.  , 0.  , 0.  , 0.06, 0.  , 0.03, 0.  , 0.92]],\n",
              "\n",
              "       [[0.  , 0.  , 0.  , 0.  , 0.  , 0.  , 0.  , 0.28, 0.  , 0.72]],\n",
              "\n",
              "       [[0.  , 0.  , 0.  , 0.  , 0.  , 0.01, 0.  , 0.03, 0.  , 0.96]],\n",
              "\n",
              "       [[0.  , 0.  , 0.  , 0.  , 0.  , 0.01, 0.  , 0.25, 0.  , 0.74]],\n",
              "\n",
              "       [[0.  , 0.  , 0.  , 0.  , 0.  , 0.15, 0.  , 0.76, 0.  , 0.09]],\n",
              "\n",
              "       [[0.  , 0.  , 0.  , 0.  , 0.  , 0.2 , 0.  , 0.7 , 0.  , 0.1 ]],\n",
              "\n",
              "       [[0.  , 0.  , 0.  , 0.  , 0.  , 0.03, 0.  , 0.3 , 0.  , 0.67]],\n",
              "\n",
              "       [[0.  , 0.  , 0.  , 0.  , 0.  , 0.  , 0.  , 0.03, 0.  , 0.97]],\n",
              "\n",
              "       [[0.  , 0.  , 0.  , 0.  , 0.  , 0.06, 0.  , 0.38, 0.  , 0.56]],\n",
              "\n",
              "       [[0.  , 0.  , 0.  , 0.  , 0.  , 0.05, 0.  , 0.74, 0.  , 0.2 ]],\n",
              "\n",
              "       [[0.  , 0.  , 0.  , 0.  , 0.  , 0.  , 0.  , 0.  , 0.  , 0.99]],\n",
              "\n",
              "       [[0.  , 0.  , 0.  , 0.  , 0.  , 0.01, 0.  , 0.21, 0.  , 0.78]],\n",
              "\n",
              "       [[0.  , 0.  , 0.  , 0.  , 0.  , 0.01, 0.  , 0.13, 0.  , 0.86]],\n",
              "\n",
              "       [[0.  , 0.  , 0.  , 0.  , 0.  , 0.  , 0.  , 0.24, 0.  , 0.76]],\n",
              "\n",
              "       [[0.  , 0.  , 0.  , 0.  , 0.  , 0.06, 0.  , 0.25, 0.  , 0.69]],\n",
              "\n",
              "       [[0.  , 0.  , 0.  , 0.  , 0.  , 0.11, 0.  , 0.01, 0.  , 0.88]],\n",
              "\n",
              "       [[0.  , 0.  , 0.  , 0.  , 0.  , 0.01, 0.  , 0.08, 0.  , 0.92]],\n",
              "\n",
              "       [[0.  , 0.  , 0.  , 0.  , 0.  , 0.01, 0.  , 0.84, 0.  , 0.15]],\n",
              "\n",
              "       [[0.  , 0.  , 0.  , 0.  , 0.  , 0.  , 0.  , 0.29, 0.  , 0.7 ]],\n",
              "\n",
              "       [[0.  , 0.  , 0.  , 0.  , 0.  , 0.  , 0.  , 0.13, 0.  , 0.87]],\n",
              "\n",
              "       [[0.  , 0.  , 0.  , 0.  , 0.  , 0.  , 0.  , 0.07, 0.  , 0.93]],\n",
              "\n",
              "       [[0.  , 0.  , 0.  , 0.  , 0.  , 0.02, 0.  , 0.04, 0.  , 0.94]],\n",
              "\n",
              "       [[0.  , 0.  , 0.  , 0.  , 0.  , 0.  , 0.  , 0.  , 0.  , 1.  ]],\n",
              "\n",
              "       [[0.  , 0.  , 0.  , 0.  , 0.  , 0.01, 0.  , 0.02, 0.  , 0.97]],\n",
              "\n",
              "       [[0.  , 0.  , 0.  , 0.  , 0.  , 0.01, 0.  , 0.05, 0.  , 0.94]],\n",
              "\n",
              "       [[0.  , 0.  , 0.  , 0.  , 0.  , 0.02, 0.  , 0.46, 0.  , 0.53]],\n",
              "\n",
              "       [[0.  , 0.  , 0.  , 0.  , 0.  , 0.62, 0.  , 0.25, 0.  , 0.13]],\n",
              "\n",
              "       [[0.  , 0.  , 0.  , 0.  , 0.  , 0.13, 0.  , 0.04, 0.  , 0.84]],\n",
              "\n",
              "       [[0.  , 0.  , 0.  , 0.  , 0.  , 0.  , 0.  , 0.09, 0.  , 0.9 ]],\n",
              "\n",
              "       [[0.  , 0.  , 0.  , 0.  , 0.  , 0.  , 0.  , 0.02, 0.  , 0.98]],\n",
              "\n",
              "       [[0.  , 0.  , 0.  , 0.  , 0.  , 0.01, 0.  , 0.03, 0.  , 0.96]],\n",
              "\n",
              "       [[0.  , 0.  , 0.  , 0.  , 0.  , 0.01, 0.  , 0.13, 0.  , 0.86]],\n",
              "\n",
              "       [[0.  , 0.  , 0.  , 0.  , 0.  , 0.1 , 0.  , 0.65, 0.  , 0.25]],\n",
              "\n",
              "       [[0.  , 0.  , 0.  , 0.  , 0.  , 0.09, 0.  , 0.2 , 0.  , 0.71]],\n",
              "\n",
              "       [[0.  , 0.  , 0.  , 0.  , 0.  , 0.01, 0.  , 0.07, 0.  , 0.92]],\n",
              "\n",
              "       [[0.  , 0.  , 0.  , 0.  , 0.  , 0.  , 0.  , 0.01, 0.  , 0.99]],\n",
              "\n",
              "       [[0.  , 0.  , 0.  , 0.  , 0.  , 0.  , 0.  , 0.31, 0.  , 0.68]],\n",
              "\n",
              "       [[0.  , 0.  , 0.  , 0.  , 0.  , 0.  , 0.  , 0.05, 0.  , 0.95]],\n",
              "\n",
              "       [[0.  , 0.  , 0.  , 0.  , 0.  , 0.07, 0.  , 0.23, 0.  , 0.7 ]],\n",
              "\n",
              "       [[0.  , 0.  , 0.  , 0.  , 0.  , 0.11, 0.  , 0.12, 0.  , 0.77]],\n",
              "\n",
              "       [[0.  , 0.  , 0.  , 0.  , 0.  , 0.09, 0.  , 0.68, 0.  , 0.22]]],\n",
              "      dtype=float32)"
            ]
          },
          "metadata": {},
          "execution_count": 121
        }
      ]
    },
    {
      "cell_type": "code",
      "metadata": {
        "id": "u2Pq_-pjFe6g",
        "colab": {
          "base_uri": "https://localhost:8080/"
        },
        "outputId": "e78117fe-d095-4847-efbe-7fee40a035bf"
      },
      "source": [
        "np.round(y_proba[:1], 2)"
      ],
      "execution_count": 122,
      "outputs": [
        {
          "output_type": "execute_result",
          "data": {
            "text/plain": [
              "array([[0.  , 0.  , 0.  , 0.  , 0.  , 0.05, 0.  , 0.24, 0.  , 0.71]],\n",
              "      dtype=float32)"
            ]
          },
          "metadata": {},
          "execution_count": 122
        }
      ]
    },
    {
      "cell_type": "code",
      "metadata": {
        "id": "0w91yuhYFe6g",
        "colab": {
          "base_uri": "https://localhost:8080/"
        },
        "outputId": "37957b89-2d9d-45fd-ed41-aa49fdb38f6b"
      },
      "source": [
        "y_std = y_probas.std(axis=0)\n",
        "np.round(y_std[:1], 2)"
      ],
      "execution_count": 123,
      "outputs": [
        {
          "output_type": "execute_result",
          "data": {
            "text/plain": [
              "array([[0.  , 0.  , 0.  , 0.  , 0.  , 0.11, 0.  , 0.25, 0.  , 0.29]],\n",
              "      dtype=float32)"
            ]
          },
          "metadata": {},
          "execution_count": 123
        }
      ]
    },
    {
      "cell_type": "code",
      "metadata": {
        "id": "lL-RPjlGFe6g"
      },
      "source": [
        "y_pred = np.argmax(y_proba, axis=1)"
      ],
      "execution_count": 124,
      "outputs": []
    },
    {
      "cell_type": "code",
      "metadata": {
        "id": "9OIaqQraFe6h",
        "colab": {
          "base_uri": "https://localhost:8080/"
        },
        "outputId": "16ee9e3a-bda0-496a-eed7-57598ecdc521"
      },
      "source": [
        "accuracy = np.sum(y_pred == y_test) / len(y_test)\n",
        "accuracy"
      ],
      "execution_count": 125,
      "outputs": [
        {
          "output_type": "execute_result",
          "data": {
            "text/plain": [
              "0.8668"
            ]
          },
          "metadata": {},
          "execution_count": 125
        }
      ]
    },
    {
      "cell_type": "code",
      "metadata": {
        "id": "7_AiUroXFe6h"
      },
      "source": [
        "class MCDropout(keras.layers.Dropout):\n",
        "    def call(self, inputs):\n",
        "        return super().call(inputs, training=True)\n",
        "\n",
        "class MCAlphaDropout(keras.layers.AlphaDropout):\n",
        "    def call(self, inputs):\n",
        "        return super().call(inputs, training=True)"
      ],
      "execution_count": 126,
      "outputs": []
    },
    {
      "cell_type": "code",
      "metadata": {
        "id": "rNxe3zJ8Fe6h"
      },
      "source": [
        "tf.random.set_seed(42)\n",
        "np.random.seed(42)"
      ],
      "execution_count": 127,
      "outputs": []
    },
    {
      "cell_type": "code",
      "metadata": {
        "id": "rmfJtbYDFe6h"
      },
      "source": [
        "mc_model = keras.models.Sequential([\n",
        "    MCAlphaDropout(layer.rate) if isinstance(layer, keras.layers.AlphaDropout) else layer\n",
        "    for layer in model.layers\n",
        "])"
      ],
      "execution_count": 128,
      "outputs": []
    },
    {
      "cell_type": "code",
      "metadata": {
        "id": "caSQJlAwFe6h",
        "colab": {
          "base_uri": "https://localhost:8080/"
        },
        "outputId": "8d20ee72-544d-4708-84cd-874af3fab2a5"
      },
      "source": [
        "mc_model.summary()"
      ],
      "execution_count": 129,
      "outputs": [
        {
          "output_type": "stream",
          "text": [
            "Model: \"sequential_20\"\n",
            "_________________________________________________________________\n",
            "Layer (type)                 Output Shape              Param #   \n",
            "=================================================================\n",
            "flatten_18 (Flatten)         (None, 784)               0         \n",
            "_________________________________________________________________\n",
            "mc_alpha_dropout (MCAlphaDro (None, 784)               0         \n",
            "_________________________________________________________________\n",
            "dense_262 (Dense)            (None, 300)               235500    \n",
            "_________________________________________________________________\n",
            "mc_alpha_dropout_1 (MCAlphaD (None, 300)               0         \n",
            "_________________________________________________________________\n",
            "dense_263 (Dense)            (None, 100)               30100     \n",
            "_________________________________________________________________\n",
            "mc_alpha_dropout_2 (MCAlphaD (None, 100)               0         \n",
            "_________________________________________________________________\n",
            "dense_264 (Dense)            (None, 10)                1010      \n",
            "=================================================================\n",
            "Total params: 266,610\n",
            "Trainable params: 266,610\n",
            "Non-trainable params: 0\n",
            "_________________________________________________________________\n"
          ],
          "name": "stdout"
        }
      ]
    },
    {
      "cell_type": "code",
      "metadata": {
        "id": "FgBtLVYlFe6h",
        "colab": {
          "base_uri": "https://localhost:8080/"
        },
        "outputId": "9f733e9a-3a6b-47d9-e62a-cc725d1dc343"
      },
      "source": [
        "optimizer = keras.optimizers.SGD(lr=0.01, momentum=0.9, nesterov=True)\n",
        "mc_model.compile(loss=\"sparse_categorical_crossentropy\", optimizer=optimizer, metrics=[\"accuracy\"])"
      ],
      "execution_count": 130,
      "outputs": [
        {
          "output_type": "stream",
          "text": [
            "/usr/local/lib/python3.7/dist-packages/keras/optimizer_v2/optimizer_v2.py:356: UserWarning: The `lr` argument is deprecated, use `learning_rate` instead.\n",
            "  \"The `lr` argument is deprecated, use `learning_rate` instead.\")\n"
          ],
          "name": "stderr"
        }
      ]
    },
    {
      "cell_type": "code",
      "metadata": {
        "id": "VJxKLoxzFe6h"
      },
      "source": [
        "mc_model.set_weights(model.get_weights())"
      ],
      "execution_count": 131,
      "outputs": []
    },
    {
      "cell_type": "markdown",
      "metadata": {
        "id": "w6-LF_MOFe6h"
      },
      "source": [
        "Now we can use the model with MC Dropout:"
      ]
    },
    {
      "cell_type": "code",
      "metadata": {
        "id": "9snQQn3WFe6h",
        "colab": {
          "base_uri": "https://localhost:8080/"
        },
        "outputId": "5500a698-304d-4435-ff57-4b8aec5652da"
      },
      "source": [
        "np.round(np.mean([mc_model.predict(X_test_scaled[:1]) for sample in range(100)], axis=0), 2)"
      ],
      "execution_count": 132,
      "outputs": [
        {
          "output_type": "execute_result",
          "data": {
            "text/plain": [
              "array([[0.  , 0.  , 0.  , 0.  , 0.  , 0.11, 0.  , 0.25, 0.  , 0.64]],\n",
              "      dtype=float32)"
            ]
          },
          "metadata": {},
          "execution_count": 132
        }
      ]
    },
    {
      "cell_type": "markdown",
      "metadata": {
        "id": "Qx1y4z4vFe6h"
      },
      "source": [
        "## Max norm\n",
        "\n",
        "* Se restringe la capa a que su norma no supere un determinado valor durante el backpropagation."
      ]
    },
    {
      "cell_type": "code",
      "metadata": {
        "id": "vTSylQ6PFe6h"
      },
      "source": [
        "layer = keras.layers.Dense(100, activation=\"selu\", kernel_initializer=\"lecun_normal\",\n",
        "                           kernel_constraint=keras.constraints.max_norm(1.))"
      ],
      "execution_count": 133,
      "outputs": []
    },
    {
      "cell_type": "code",
      "metadata": {
        "id": "xlbbJ-DiFe6h",
        "colab": {
          "base_uri": "https://localhost:8080/"
        },
        "outputId": "5a94f6f1-6e03-45a2-b578-14b6af19b00c"
      },
      "source": [
        "MaxNormDense = partial(keras.layers.Dense,\n",
        "                       activation=\"selu\", kernel_initializer=\"lecun_normal\",\n",
        "                       kernel_constraint=keras.constraints.max_norm(1.))\n",
        "\n",
        "model = keras.models.Sequential([\n",
        "    keras.layers.Flatten(input_shape=[28, 28]),\n",
        "    MaxNormDense(300),\n",
        "    MaxNormDense(100),\n",
        "    keras.layers.Dense(10, activation=\"softmax\")\n",
        "])\n",
        "model.compile(loss=\"sparse_categorical_crossentropy\", optimizer=\"nadam\", metrics=[\"accuracy\"])\n",
        "n_epochs = 2\n",
        "history = model.fit(X_train_scaled, y_train, epochs=n_epochs,\n",
        "                    validation_data=(X_valid_scaled, y_valid))"
      ],
      "execution_count": 134,
      "outputs": [
        {
          "output_type": "stream",
          "text": [
            "Epoch 1/2\n",
            "1719/1719 [==============================] - 9s 5ms/step - loss: 0.4755 - accuracy: 0.8329 - val_loss: 0.3790 - val_accuracy: 0.8636\n",
            "Epoch 2/2\n",
            "1719/1719 [==============================] - 8s 4ms/step - loss: 0.3550 - accuracy: 0.8714 - val_loss: 0.3818 - val_accuracy: 0.8656\n"
          ],
          "name": "stdout"
        }
      ]
    }
  ]
}