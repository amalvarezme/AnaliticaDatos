{
  "nbformat": 4,
  "nbformat_minor": 0,
  "metadata": {
    "colab": {
      "name": "Hello World_Dash.ipynb",
      "provenance": [],
      "collapsed_sections": [],
      "include_colab_link": true
    },
    "kernelspec": {
      "name": "python3",
      "display_name": "Python 3"
    },
    "language_info": {
      "name": "python"
    }
  },
  "cells": [
    {
      "cell_type": "markdown",
      "metadata": {
        "id": "view-in-github",
        "colab_type": "text"
      },
      "source": [
        "<a href=\"https://colab.research.google.com/github/amalvarezme/AnaliticaDatos/blob/master/Dashboards/Hello_World_Dash.ipynb\" target=\"_parent\"><img src=\"https://colab.research.google.com/assets/colab-badge.svg\" alt=\"Open In Colab\"/></a>"
      ]
    },
    {
      "cell_type": "markdown",
      "metadata": {
        "id": "pi_mARLbZSC-"
      },
      "source": [
        "# Mi primer Dashboard con Dash\n",
        "\n",
        "*Elaborado por Camilo Pelaez cpelaezg@unal.edu.co y Andrés Marino Álvarez amalvarezme@unal.edu.co.*\n",
        "\n",
        "Este Notebook se hizo con la intención de dar una guía clara y rápida para comprender la estructura, implementacion y posibilidades básicas de la librería Dash en la creación de Dashboards para la presentación de proyectos relacionados con analítica de datos. \n",
        "\n",
        "### Links usados para el tutorial\n",
        "\n",
        "https://dash.plotly.com/layout\n",
        "\n",
        "https://pbpython.com/plotly-dash-intro.html\n",
        "\n",
        "https://realpython.com/python-dash/#what-is-dash\n",
        "\n",
        "https://www.datacamp.com/community/tutorials/learn-build-dash-python\n",
        "\n",
        "https://www.youtube.com/watch?v=FxEY1NOyhYQ\n",
        "\n",
        "# Dash\n",
        "\n",
        "- [Dash](\n",
        "https://dash.plotly.com/layout) es un framework de código abierto para crear interfaces de visualización de datos. \n",
        "\n",
        "- Formalmente Dash fue lanzado como una biblioteca de código abierto para crear visualizaciones interactivas basadas en la Web y se construyó sobre Flask, Plotly.js y React Js,  este ha crecido para incluir implementaciones para R y Julia.\n",
        "\n",
        "- Dash permite crear paneles utilizando Python puro. Tener conocimientos de HTML y javascript es útil, pero ciertamente no es necesario para obtener una buena visualización, solo necesita escribir Python, R o Julia."
      ]
    },
    {
      "cell_type": "markdown",
      "metadata": {
        "id": "vuF_JqNWP8uc"
      },
      "source": [
        "## Instalar Dash en Colaboratory"
      ]
    },
    {
      "cell_type": "markdown",
      "metadata": {
        "id": "UcTMSQnFK9zw"
      },
      "source": [
        "La linea `pip install jupyter-dash -q` permite instalar la versión de Dash propia del compilador jupyter en Colab."
      ]
    },
    {
      "cell_type": "code",
      "metadata": {
        "id": "xYtZ7Fu10a-n",
        "colab": {
          "base_uri": "https://localhost:8080/"
        },
        "outputId": "002395e2-03b5-4fec-b1e7-0b8a4c0e58ff"
      },
      "source": [
        "!pip install jupyter-dash -q "
      ],
      "execution_count": 1,
      "outputs": [
        {
          "output_type": "stream",
          "name": "stdout",
          "text": [
            "\u001b[K     |████████████████████████████████| 7.3 MB 10.3 MB/s \n",
            "\u001b[K     |████████████████████████████████| 23.9 MB 14 kB/s \n",
            "\u001b[K     |████████████████████████████████| 357 kB 64.3 MB/s \n",
            "\u001b[?25h  Building wheel for dash-core-components (setup.py) ... \u001b[?25l\u001b[?25hdone\n",
            "  Building wheel for dash-html-components (setup.py) ... \u001b[?25l\u001b[?25hdone\n",
            "  Building wheel for dash-table (setup.py) ... \u001b[?25l\u001b[?25hdone\n"
          ]
        }
      ]
    },
    {
      "cell_type": "markdown",
      "metadata": {
        "id": "3WMh-RTbcZK6"
      },
      "source": [
        "## Componentes de HTML\n",
        "\n",
        "- Para hablar de la creación de visualisaciones en Dash hay que hablar de HTML, donde necesitaremos un layout (diseño), que contenga los bloques (textos y gráficas) que queremos incluir mediente el uso de etiquetas. Algo similar a la manipulación de contenido sobre latex.\n",
        "\n",
        "- Sin embargo, en lugar de escribir HTML o usar un motor de plantillas HTML, se emplearán estructuras de Python con la biblioteca dash-html-components.\n",
        "\n",
        "- En el siguiente link se encuentran ejemplos ilustrativos relacionados con las diferencias principales en la construcción de dashboards usando html vs dash: [https://dash.plotly.com/dash-html-components](https://dash.plotly.com/dash-html-components)\n",
        "\n",
        "- El comando html.Div permite crear secciones independientes dentro del layout. Por otra parte, html.H1 se usa para los títulos, el cuál tiene variaciones como H2, H3, ..., H6 para hacer subtítulos.\n",
        "\n",
        "- El siguiente componente es html.P, utilizado para escribir párrafos. \n",
        "\n",
        "- La propiedad children. Por convención, siempre es el primer atributo, lo que significa que puede omitirlo: html.H1 (children = 'Hello Dash') es lo mismo que html.H1 ('Hello Dash'). Este puede contener una cadena, un número, un solo componente o una lista de componentes.\n",
        "\n",
        "- Además, se usan html.Br() para el salto de página y html.A para incluir enlaces.\n",
        "\n",
        "- Por último, se hablará de la propiedad style, la cual se agrega mediante un diccionario."
      ]
    },
    {
      "cell_type": "markdown",
      "metadata": {
        "id": "s5xlCAYt-kxa"
      },
      "source": [
        "### Ejmplo de construccion html con dash"
      ]
    },
    {
      "cell_type": "code",
      "metadata": {
        "colab": {
          "base_uri": "https://localhost:8080/"
        },
        "id": "deMBDubHqWfZ",
        "outputId": "fad6791c-51ab-4f79-85a2-2f16b6c821e4"
      },
      "source": [
        "import dash_html_components as html #importar componentes html en dash\n",
        "\n",
        "html.Div([                                                                       # Crear sección que contiene todo el texto\n",
        "    html.H1('Hello world of Dash'),                                              # Título 'Hello world of Dash'\n",
        "    html.Div([                                                                   # Crear sección para contener los párrafos\n",
        "        html.P('Dash convierte las clases de Python en HTML'),                   # Párrafo forma Básica\n",
        "        html.P(children=[\"Esta conversión se realiza entre bastidores mediante el front-end JavaScript de Dash\", # Párrafo con links y cambio de estilo.\n",
        "                        html.Br(),                                               # Salto de línea\n",
        "                        html.A(\"https://dash.plotly.com/dash-html-components\",   # Parte visible del link\n",
        "                            href=\"https://dash.plotly.com/dash-html-components\",), # Dirección a la cual a punta el link\n",
        "                    ],\n",
        "                    style={\"textAlign\": \"center\", \"color\": \"#000000\"},           # Diccionario para definición de estilo\n",
        "                ),\n",
        "\n",
        "    ])\n",
        "])"
      ],
      "execution_count": 13,
      "outputs": [
        {
          "output_type": "execute_result",
          "data": {
            "text/plain": [
              "Div([H1('Hello world of Dash'), Div([P('Dash convierte las clases de Python en HTML'), P(children=['Esta conversión se realiza entre bastidores mediante el front-end JavaScript de Dash', Br(None), A(children='https://dash.plotly.com/dash-html-components', href='https://dash.plotly.com/dash-html-components')], style={'textAlign': 'center', 'color': '#000000'})])])"
            ]
          },
          "metadata": {},
          "execution_count": 13
        }
      ]
    },
    {
      "cell_type": "markdown",
      "metadata": {
        "id": "VQciHUfMcg0C"
      },
      "source": [
        "### Dash y Markdown\n",
        "\n",
        "Soportes Dash [Markdown](http://commonmark.org/help).\n",
        "\n",
        "- Markdown es una forma sencilla de escribir y formatear texto.\n",
        "\n",
        "- Incluye sintaxis para **negrita** y *cursiva*,\n",
        "[links](http://commonmark.org/help), fragmentos de `código` en línea, listas,\n",
        "citas y mucho más."
      ]
    },
    {
      "cell_type": "code",
      "metadata": {
        "colab": {
          "base_uri": "https://localhost:8080/"
        },
        "id": "3M8TXlNCrAKM",
        "outputId": "8d687a6b-b5a5-4b6f-a6a7-f6bb912933ed"
      },
      "source": [
        "import dash_core_components as dcc #importar componentes dash\n",
        "\n",
        "dcc.Markdown('''\n",
        "#### Dash and Markdown\n",
        "\n",
        "Soportes Dash [Markdown](http://commonmark.org/help).\n",
        "\n",
        "Markdown es una forma sencilla de escribir y formatear texto.\n",
        "Incluye sintaxis para **negrita** y *cursiva*,\n",
        "[links](http://commonmark.org/help), fragmentos de `código` en línea, listas,\n",
        "citas y mucho más.\n",
        "''')"
      ],
      "execution_count": 14,
      "outputs": [
        {
          "output_type": "execute_result",
          "data": {
            "text/plain": [
              "Markdown('\\n#### Dash and Markdown\\n\\nSoportes Dash [Markdown](http://commonmark.org/help).\\n\\nMarkdown es una forma sencilla de escribir y formatear texto.\\nIncluye sintaxis para **negrita** y *cursiva*,\\n[links](http://commonmark.org/help), fragmentos de `código` en línea, listas,\\ncitas y mucho más.\\n')"
            ]
          },
          "metadata": {},
          "execution_count": 14
        }
      ]
    },
    {
      "cell_type": "markdown",
      "metadata": {
        "id": "gWiDjH__b-3U"
      },
      "source": [
        "## Gráficas\n",
        "\n",
        "- Los gráficos serán el componentes de principal interés ya que un dashboard es una herramienta de gestión de la información que muestra de manera visual los indicadores clave de desempeño.\n",
        "\n",
        "- Asi que nesesitaremos formas vistosas y eficientes para mostrar los resultados.\n",
        "\n",
        "- Dash ofrece diferentes librerías para gráficos,\n",
        "además de los callbacks para gráficas interactivas.\n",
        "\n",
        "### En el siguiente link se encuentran ejemplos de las gráficas\n",
        "\n",
        "https://dash.plotly.com/dash-core-components/graph\n",
        "\n",
        "### Ejemplos de gráficos (chartjs) de HTML\n",
        "\n",
        "https://www.chartjs.org/docs/latest/charts/\n",
        "\n",
        "https://developers.google.com/chart/interactive/docs/gallery/areachart\n",
        "\n",
        "### Ejemplos de funciones usadas para graficar en Dash\n",
        "\n",
        "En las siguientes celdas veremos la forma tradicional de mostrar gráficos en python, en las siguientes dos veremos cómo hacer esto mismo con las librerías más usadas en Dash: [Graph Objects](https://plotly.com/python/graph-objects/) y [Express](https://plotly.com/python/plotly-express/)."
      ]
    },
    {
      "cell_type": "code",
      "metadata": {
        "colab": {
          "base_uri": "https://localhost:8080/",
          "height": 279
        },
        "id": "PNjDo-1kcG9Q",
        "outputId": "83cd29c9-b4c1-424f-a6fc-17677b26f637"
      },
      "source": [
        "import numpy as np\n",
        "import matplotlib.pyplot as plt\n",
        "\n",
        "N = 200 # número de puntos\n",
        "x = np.linspace(0,10,N) # vector tiempo \n",
        "\n",
        "mu, sigma = 0, 0.1 # media y desviacion estandar\n",
        "y = np.random.normal(mu, sigma,N) # vector aleatorio de distribucion normal\n",
        "\n",
        "plt.plot(x,y) # Grafica tiempo(x) vs vector aleatorio(y) hecha con matplotlib.pyplot\n",
        "plt.xlabel('x')\n",
        "plt.ylabel('y')\n",
        "plt.show()"
      ],
      "execution_count": 16,
      "outputs": [
        {
          "output_type": "display_data",
          "data": {
            "image/png": "[encoded data removed]",
            "text/plain": [
              "<Figure size 432x288 with 1 Axes>"
            ]
          },
          "metadata": {
            "needs_background": "light"
          }
        }
      ]
    },
    {
      "cell_type": "code",
      "metadata": {
        "colab": {
          "base_uri": "https://localhost:8080/",
          "height": 542
        },
        "id": "4_aEr8_UhYgn",
        "outputId": "2e63d5da-9f63-4de4-c92d-b5703ab46778"
      },
      "source": [
        "# Express\n",
        "import plotly.express as px # importar libreria graficas express\n",
        "\n",
        "fig = px.line(x=x, y=y) # Grafica tiempo(x) vs vector aleatorio(y) hecha con plotly.express\n",
        "fig.show() # Mostrar grafica"
      ],
      "execution_count": 17,
      "outputs": [
        {
          "output_type": "display_data",
          "data": {
            "text/html": [
              "<html>\n",
              "<head><meta charset=\"utf-8\" /></head>\n",
              "<body>\n",
              "    <div>            <script src=\"https://cdnjs.cloudflare.com/ajax/libs/mathjax/2.7.5/MathJax.js?config=TeX-AMS-MML_SVG\"></script><script type=\"text/javascript\">if (window.MathJax) {MathJax.Hub.Config({SVG: {font: \"STIX-Web\"}});}</script>                <script type=\"text/javascript\">window.PlotlyConfig = {MathJaxConfig: 'local'};</script>\n",
              "        <script src=\"https://cdn.plot.ly/plotly-2.4.2.min.js\"></script>                <div id=\"dd5cffeb-a649-48af-be14-293c6f785967\" class=\"plotly-graph-div\" style=\"height:525px; width:100%;\"></div>            <script type=\"text/javascript\">                                    window.PLOTLYENV=window.PLOTLYENV || {};                                    if (document.getElementById(\"dd5cffeb-a649-48af-be14-293c6f785967\")) {                    Plotly.newPlot(                        \"dd5cffeb-a649-48af-be14-293c6f785967\",                        [{\"hovertemplate\":\"x=%{x}<br>y=%{y}<extra></extra>\",\"legendgroup\":\"\",\"line\":{\"color\":\"#636efa\",\"dash\":\"solid\"},\"marker\":{\"symbol\":\"circle\"},\"mode\":\"lines\",\"name\":\"\",\"orientation\":\"v\",\"showlegend\":false,\"type\":\"scatter\",\"x\":[0.0,0.05025125628140704,0.10050251256281408,0.15075376884422112,0.20100502512562815,0.2512562814070352,0.30150753768844224,0.35175879396984927,0.4020100502512563,0.45226130653266333,0.5025125628140704,0.5527638190954774,0.6030150753768845,0.6532663316582915,0.7035175879396985,0.7537688442211056,0.8040201005025126,0.8542713567839196,0.9045226130653267,0.9547738693467337,1.0050251256281408,1.0552763819095479,1.105527638190955,1.155778894472362,1.206030150753769,1.256281407035176,1.306532663316583,1.35678391959799,1.407035175879397,1.4572864321608041,1.5075376884422111,1.5577889447236182,1.6080402010050252,1.6582914572864322,1.7085427135678393,1.7587939698492463,1.8090452261306533,1.8592964824120604,1.9095477386934674,1.9597989949748744,2.0100502512562817,2.0603015075376887,2.1105527638190957,2.1608040201005028,2.21105527638191,2.261306532663317,2.311557788944724,2.361809045226131,2.412060301507538,2.462311557788945,2.512562814070352,2.562814070351759,2.613065326633166,2.663316582914573,2.71356783919598,2.763819095477387,2.814070351758794,2.864321608040201,2.9145728643216082,2.9648241206030153,3.0150753768844223,3.0653266331658293,3.1155778894472363,3.1658291457286434,3.2160804020100504,3.2663316582914574,3.3165829145728645,3.3668341708542715,3.4170854271356785,3.4673366834170856,3.5175879396984926,3.5678391959798996,3.6180904522613067,3.6683417085427137,3.7185929648241207,3.7688442211055277,3.819095477386935,3.869346733668342,3.919597989949749,3.969849246231156,4.020100502512563,4.07035175879397,4.120603015075377,4.170854271356784,4.2211055276381915,4.2713567839195985,4.3216080402010055,4.371859296482413,4.42211055276382,4.472361809045227,4.522613065326634,4.572864321608041,4.623115577889448,4.673366834170855,4.723618090452262,4.773869346733669,4.824120603015076,4.874371859296483,4.92462311557789,4.974874371859297,5.025125628140704,5.075376884422111,5.125628140703518,5.175879396984925,5.226130653266332,5.276381909547739,5.326633165829146,5.376884422110553,5.42713567839196,5.477386934673367,5.527638190954774,5.577889447236181,5.628140703517588,5.678391959798995,5.728643216080402,5.778894472361809,5.8291457286432165,5.8793969849246235,5.9296482412060305,5.9798994974874375,6.030150753768845,6.080402010050252,6.130653266331659,6.180904522613066,6.231155778894473,6.28140703517588,6.331658291457287,6.381909547738694,6.432160804020101,6.482412060301508,6.532663316582915,6.582914572864322,6.633165829145729,6.683417085427136,6.733668341708543,6.78391959798995,6.834170854271357,6.884422110552764,6.934673366834171,6.984924623115578,7.035175879396985,7.085427135678392,7.135678391959799,7.185929648241206,7.236180904522613,7.28643216080402,7.336683417085427,7.386934673366834,7.437185929648241,7.4874371859296485,7.5376884422110555,7.5879396984924625,7.63819095477387,7.688442211055277,7.738693467336684,7.788944723618091,7.839195979899498,7.889447236180905,7.939698492462312,7.989949748743719,8.040201005025127,8.090452261306533,8.14070351758794,8.190954773869347,8.241206030150755,8.291457286432161,8.341708542713569,8.391959798994975,8.442211055276383,8.492462311557789,8.542713567839197,8.592964824120603,8.643216080402011,8.693467336683417,8.743718592964825,8.793969849246231,8.84422110552764,8.894472361809045,8.944723618090453,8.99497487437186,9.045226130653267,9.095477386934673,9.145728643216081,9.195979899497488,9.246231155778895,9.296482412060302,9.34673366834171,9.396984924623116,9.447236180904524,9.49748743718593,9.547738693467338,9.597989949748744,9.648241206030152,9.698492462311558,9.748743718592966,9.798994974874372,9.84924623115578,9.899497487437186,9.949748743718594,10.0],\"xaxis\":\"x\",\"y\":[0.07729739612233816,0.12724475874031826,-0.13630171074657146,-0.0584507152815528,0.0636233342958174,0.05748199243905986,0.21278263023846608,0.08926168198138193,-0.07792631565876199,0.16726512616962172,0.009167969945703144,0.08745979403827435,-0.002431701826852933,0.054069170583980246,-0.1571873179824319,-0.13706010020006087,0.011153569810515249,-0.08213055129224622,0.09181207084901069,-0.0258006627208757,-0.0015945486053271507,0.19046028403053358,0.18700792972391028,-0.06486244769619602,0.0628669735705406,0.011857443257265498,-0.06320926183168629,-0.005823409062740138,-0.24250819066750304,0.20754472363317222,0.06394745178281892,0.010647557537319342,-0.034535868394090466,-0.19476550304780044,0.012372164049632891,0.09217013001913586,-0.10125580427200923,0.061145543151981264,-0.07357097162371261,0.11174829095421775,0.022329280773851625,0.019512563582282122,0.009826345119972546,0.11620326174846717,0.03317635917196205,-0.19082920742038978,0.014678209627281717,0.20473432186299345,0.09138240457896876,0.023957018458879167,-0.0061465930466595604,0.01153276903727934,0.019475363490302433,0.1051694332382759,-0.0733236933380351,0.18195785723482147,-0.010662018777000135,0.07019016638451013,-0.05597961754595662,-0.16735354824332546,0.030906964413384613,0.05976631101435984,-0.014747227111615947,0.1382568640685477,0.018382917148428487,0.0771696204970705,-0.09605289460321549,-0.09984238279886508,-0.06056942708922156,-0.13301469987049505,-0.04358569868115393,0.03988613414957065,0.031569225070278165,-0.17486097798563532,0.058710379298548714,0.015014793650953834,0.013012861605393595,0.027210793143094644,0.024600182787718555,0.13566987852665613,-0.010063916686780448,0.00036703222639612954,0.22592889070419236,0.051846203395448355,0.07601818728089087,0.0197441411633514,-0.004805516208097316,-0.06079456163917579,-0.013526150753367622,0.06103566572152304,0.009030490631962151,-0.033372628424121274,-0.1538041310292131,-0.09304136648746714,0.08640777020179298,-0.07916620737275766,0.04745792770601473,0.20428661863045058,0.00430759314120915,-0.09052920980402639,-0.034762462179718435,-0.08405462669653363,-0.07092760338610495,0.08230875739037626,0.06642023346303674,0.00022924218154540645,0.0003450132959804632,0.0070794437490312185,0.13321369148393444,-0.11828843821240567,-0.10863955016623864,0.10357617704246139,0.01583517890525919,-0.009296603754155617,-0.055310527502530606,0.16208297287157114,0.14763768050201045,0.09425971502933737,0.08544619921821667,0.03339099544272655,-0.16702369615572316,0.07145087170705298,0.010536690307638666,-0.06957210335895762,-0.009706713402789629,0.21652018084398109,-0.0944179047215439,-0.17929718694346802,-0.052781220195004565,-0.04364370458253147,0.10343196913898128,-0.11453705217041373,0.02254013147340791,0.040363036223653816,0.08113699960437507,-0.07762311064234403,0.06330510832079828,0.09686229984624717,-0.07773562663464588,0.18434207376228223,0.05869465909075379,-0.15306813377585535,0.07824258754332793,0.019038525324682247,-0.08996671592811184,0.1719064914077827,0.11221729284564959,-0.11262905789881883,0.03842334756399628,0.1199557721443862,-0.011530557651375124,-0.1732083666394925,-0.010153234384717602,0.024808614935506106,-0.030647262279280597,0.03649386128073095,0.17250144885081264,0.054136566766256104,-0.14564501848881625,-0.17887674671394516,0.06004028990346388,0.03618772288848871,-0.07398196920081733,0.11394400252556935,0.21057942056173096,0.10147821681675862,0.07372044707983118,0.13819381499886882,0.032720420014516076,-0.05986835014823483,0.10552310547555002,-0.032982941322577314,0.0905423485477874,-0.0018884976051828095,-0.018769655993116644,0.004362200475511901,-0.012891758834197823,0.01871457994977605,0.012757832981177029,0.1907500227900829,0.0750009794179511,-0.05115684832825817,0.020646016554840607,0.018253835012649447,-0.21357342571386304,0.09745668158180425,-0.07884750037670102,-0.053617465408068166,-0.11833704537455883,0.06660337373798669,-0.11627516600424954,-0.17000597894118297,-0.039180119831926,-0.04438819699471943,-0.020298064235370866,-0.11838899396312062,-0.02644003632208973,-0.04502591099953164,0.10844270528972105,0.003049629388489993],\"yaxis\":\"y\"}],                        {\"legend\":{\"tracegroupgap\":0},\"margin\":{\"t\":60},\"template\":{\"data\":{\"bar\":[{\"error_x\":{\"color\":\"#2a3f5f\"},\"error_y\":{\"color\":\"#2a3f5f\"},\"marker\":{\"line\":{\"color\":\"#E5ECF6\",\"width\":0.5},\"pattern\":{\"fillmode\":\"overlay\",\"size\":10,\"solidity\":0.2}},\"type\":\"bar\"}],\"barpolar\":[{\"marker\":{\"line\":{\"color\":\"#E5ECF6\",\"width\":0.5},\"pattern\":{\"fillmode\":\"overlay\",\"size\":10,\"solidity\":0.2}},\"type\":\"barpolar\"}],\"carpet\":[{\"aaxis\":{\"endlinecolor\":\"#2a3f5f\",\"gridcolor\":\"white\",\"linecolor\":\"white\",\"minorgridcolor\":\"white\",\"startlinecolor\":\"#2a3f5f\"},\"baxis\":{\"endlinecolor\":\"#2a3f5f\",\"gridcolor\":\"white\",\"linecolor\":\"white\",\"minorgridcolor\":\"white\",\"startlinecolor\":\"#2a3f5f\"},\"type\":\"carpet\"}],\"choropleth\":[{\"colorbar\":{\"outlinewidth\":0,\"ticks\":\"\"},\"type\":\"choropleth\"}],\"contour\":[{\"colorbar\":{\"outlinewidth\":0,\"ticks\":\"\"},\"colorscale\":[[0.0,\"#0d0887\"],[0.1111111111111111,\"#46039f\"],[0.2222222222222222,\"#7201a8\"],[0.3333333333333333,\"#9c179e\"],[0.4444444444444444,\"#bd3786\"],[0.5555555555555556,\"#d8576b\"],[0.6666666666666666,\"#ed7953\"],[0.7777777777777778,\"#fb9f3a\"],[0.8888888888888888,\"#fdca26\"],[1.0,\"#f0f921\"]],\"type\":\"contour\"}],\"contourcarpet\":[{\"colorbar\":{\"outlinewidth\":0,\"ticks\":\"\"},\"type\":\"contourcarpet\"}],\"heatmap\":[{\"colorbar\":{\"outlinewidth\":0,\"ticks\":\"\"},\"colorscale\":[[0.0,\"#0d0887\"],[0.1111111111111111,\"#46039f\"],[0.2222222222222222,\"#7201a8\"],[0.3333333333333333,\"#9c179e\"],[0.4444444444444444,\"#bd3786\"],[0.5555555555555556,\"#d8576b\"],[0.6666666666666666,\"#ed7953\"],[0.7777777777777778,\"#fb9f3a\"],[0.8888888888888888,\"#fdca26\"],[1.0,\"#f0f921\"]],\"type\":\"heatmap\"}],\"heatmapgl\":[{\"colorbar\":{\"outlinewidth\":0,\"ticks\":\"\"},\"colorscale\":[[0.0,\"#0d0887\"],[0.1111111111111111,\"#46039f\"],[0.2222222222222222,\"#7201a8\"],[0.3333333333333333,\"#9c179e\"],[0.4444444444444444,\"#bd3786\"],[0.5555555555555556,\"#d8576b\"],[0.6666666666666666,\"#ed7953\"],[0.7777777777777778,\"#fb9f3a\"],[0.8888888888888888,\"#fdca26\"],[1.0,\"#f0f921\"]],\"type\":\"heatmapgl\"}],\"histogram\":[{\"marker\":{\"pattern\":{\"fillmode\":\"overlay\",\"size\":10,\"solidity\":0.2}},\"type\":\"histogram\"}],\"histogram2d\":[{\"colorbar\":{\"outlinewidth\":0,\"ticks\":\"\"},\"colorscale\":[[0.0,\"#0d0887\"],[0.1111111111111111,\"#46039f\"],[0.2222222222222222,\"#7201a8\"],[0.3333333333333333,\"#9c179e\"],[0.4444444444444444,\"#bd3786\"],[0.5555555555555556,\"#d8576b\"],[0.6666666666666666,\"#ed7953\"],[0.7777777777777778,\"#fb9f3a\"],[0.8888888888888888,\"#fdca26\"],[1.0,\"#f0f921\"]],\"type\":\"histogram2d\"}],\"histogram2dcontour\":[{\"colorbar\":{\"outlinewidth\":0,\"ticks\":\"\"},\"colorscale\":[[0.0,\"#0d0887\"],[0.1111111111111111,\"#46039f\"],[0.2222222222222222,\"#7201a8\"],[0.3333333333333333,\"#9c179e\"],[0.4444444444444444,\"#bd3786\"],[0.5555555555555556,\"#d8576b\"],[0.6666666666666666,\"#ed7953\"],[0.7777777777777778,\"#fb9f3a\"],[0.8888888888888888,\"#fdca26\"],[1.0,\"#f0f921\"]],\"type\":\"histogram2dcontour\"}],\"mesh3d\":[{\"colorbar\":{\"outlinewidth\":0,\"ticks\":\"\"},\"type\":\"mesh3d\"}],\"parcoords\":[{\"line\":{\"colorbar\":{\"outlinewidth\":0,\"ticks\":\"\"}},\"type\":\"parcoords\"}],\"pie\":[{\"automargin\":true,\"type\":\"pie\"}],\"scatter\":[{\"marker\":{\"colorbar\":{\"outlinewidth\":0,\"ticks\":\"\"}},\"type\":\"scatter\"}],\"scatter3d\":[{\"line\":{\"colorbar\":{\"outlinewidth\":0,\"ticks\":\"\"}},\"marker\":{\"colorbar\":{\"outlinewidth\":0,\"ticks\":\"\"}},\"type\":\"scatter3d\"}],\"scattercarpet\":[{\"marker\":{\"colorbar\":{\"outlinewidth\":0,\"ticks\":\"\"}},\"type\":\"scattercarpet\"}],\"scattergeo\":[{\"marker\":{\"colorbar\":{\"outlinewidth\":0,\"ticks\":\"\"}},\"type\":\"scattergeo\"}],\"scattergl\":[{\"marker\":{\"colorbar\":{\"outlinewidth\":0,\"ticks\":\"\"}},\"type\":\"scattergl\"}],\"scattermapbox\":[{\"marker\":{\"colorbar\":{\"outlinewidth\":0,\"ticks\":\"\"}},\"type\":\"scattermapbox\"}],\"scatterpolar\":[{\"marker\":{\"colorbar\":{\"outlinewidth\":0,\"ticks\":\"\"}},\"type\":\"scatterpolar\"}],\"scatterpolargl\":[{\"marker\":{\"colorbar\":{\"outlinewidth\":0,\"ticks\":\"\"}},\"type\":\"scatterpolargl\"}],\"scatterternary\":[{\"marker\":{\"colorbar\":{\"outlinewidth\":0,\"ticks\":\"\"}},\"type\":\"scatterternary\"}],\"surface\":[{\"colorbar\":{\"outlinewidth\":0,\"ticks\":\"\"},\"colorscale\":[[0.0,\"#0d0887\"],[0.1111111111111111,\"#46039f\"],[0.2222222222222222,\"#7201a8\"],[0.3333333333333333,\"#9c179e\"],[0.4444444444444444,\"#bd3786\"],[0.5555555555555556,\"#d8576b\"],[0.6666666666666666,\"#ed7953\"],[0.7777777777777778,\"#fb9f3a\"],[0.8888888888888888,\"#fdca26\"],[1.0,\"#f0f921\"]],\"type\":\"surface\"}],\"table\":[{\"cells\":{\"fill\":{\"color\":\"#EBF0F8\"},\"line\":{\"color\":\"white\"}},\"header\":{\"fill\":{\"color\":\"#C8D4E3\"},\"line\":{\"color\":\"white\"}},\"type\":\"table\"}]},\"layout\":{\"annotationdefaults\":{\"arrowcolor\":\"#2a3f5f\",\"arrowhead\":0,\"arrowwidth\":1},\"autotypenumbers\":\"strict\",\"coloraxis\":{\"colorbar\":{\"outlinewidth\":0,\"ticks\":\"\"}},\"colorscale\":{\"diverging\":[[0,\"#8e0152\"],[0.1,\"#c51b7d\"],[0.2,\"#de77ae\"],[0.3,\"#f1b6da\"],[0.4,\"#fde0ef\"],[0.5,\"#f7f7f7\"],[0.6,\"#e6f5d0\"],[0.7,\"#b8e186\"],[0.8,\"#7fbc41\"],[0.9,\"#4d9221\"],[1,\"#276419\"]],\"sequential\":[[0.0,\"#0d0887\"],[0.1111111111111111,\"#46039f\"],[0.2222222222222222,\"#7201a8\"],[0.3333333333333333,\"#9c179e\"],[0.4444444444444444,\"#bd3786\"],[0.5555555555555556,\"#d8576b\"],[0.6666666666666666,\"#ed7953\"],[0.7777777777777778,\"#fb9f3a\"],[0.8888888888888888,\"#fdca26\"],[1.0,\"#f0f921\"]],\"sequentialminus\":[[0.0,\"#0d0887\"],[0.1111111111111111,\"#46039f\"],[0.2222222222222222,\"#7201a8\"],[0.3333333333333333,\"#9c179e\"],[0.4444444444444444,\"#bd3786\"],[0.5555555555555556,\"#d8576b\"],[0.6666666666666666,\"#ed7953\"],[0.7777777777777778,\"#fb9f3a\"],[0.8888888888888888,\"#fdca26\"],[1.0,\"#f0f921\"]]},\"colorway\":[\"#636efa\",\"#EF553B\",\"#00cc96\",\"#ab63fa\",\"#FFA15A\",\"#19d3f3\",\"#FF6692\",\"#B6E880\",\"#FF97FF\",\"#FECB52\"],\"font\":{\"color\":\"#2a3f5f\"},\"geo\":{\"bgcolor\":\"white\",\"lakecolor\":\"white\",\"landcolor\":\"#E5ECF6\",\"showlakes\":true,\"showland\":true,\"subunitcolor\":\"white\"},\"hoverlabel\":{\"align\":\"left\"},\"hovermode\":\"closest\",\"mapbox\":{\"style\":\"light\"},\"paper_bgcolor\":\"white\",\"plot_bgcolor\":\"#E5ECF6\",\"polar\":{\"angularaxis\":{\"gridcolor\":\"white\",\"linecolor\":\"white\",\"ticks\":\"\"},\"bgcolor\":\"#E5ECF6\",\"radialaxis\":{\"gridcolor\":\"white\",\"linecolor\":\"white\",\"ticks\":\"\"}},\"scene\":{\"xaxis\":{\"backgroundcolor\":\"#E5ECF6\",\"gridcolor\":\"white\",\"gridwidth\":2,\"linecolor\":\"white\",\"showbackground\":true,\"ticks\":\"\",\"zerolinecolor\":\"white\"},\"yaxis\":{\"backgroundcolor\":\"#E5ECF6\",\"gridcolor\":\"white\",\"gridwidth\":2,\"linecolor\":\"white\",\"showbackground\":true,\"ticks\":\"\",\"zerolinecolor\":\"white\"},\"zaxis\":{\"backgroundcolor\":\"#E5ECF6\",\"gridcolor\":\"white\",\"gridwidth\":2,\"linecolor\":\"white\",\"showbackground\":true,\"ticks\":\"\",\"zerolinecolor\":\"white\"}},\"shapedefaults\":{\"line\":{\"color\":\"#2a3f5f\"}},\"ternary\":{\"aaxis\":{\"gridcolor\":\"white\",\"linecolor\":\"white\",\"ticks\":\"\"},\"baxis\":{\"gridcolor\":\"white\",\"linecolor\":\"white\",\"ticks\":\"\"},\"bgcolor\":\"#E5ECF6\",\"caxis\":{\"gridcolor\":\"white\",\"linecolor\":\"white\",\"ticks\":\"\"}},\"title\":{\"x\":0.05},\"xaxis\":{\"automargin\":true,\"gridcolor\":\"white\",\"linecolor\":\"white\",\"ticks\":\"\",\"title\":{\"standoff\":15},\"zerolinecolor\":\"white\",\"zerolinewidth\":2},\"yaxis\":{\"automargin\":true,\"gridcolor\":\"white\",\"linecolor\":\"white\",\"ticks\":\"\",\"title\":{\"standoff\":15},\"zerolinecolor\":\"white\",\"zerolinewidth\":2}}},\"xaxis\":{\"anchor\":\"y\",\"domain\":[0.0,1.0],\"title\":{\"text\":\"x\"}},\"yaxis\":{\"anchor\":\"x\",\"domain\":[0.0,1.0],\"title\":{\"text\":\"y\"}}},                        {\"responsive\": true}                    ).then(function(){\n",
              "                            \n",
              "var gd = document.getElementById('dd5cffeb-a649-48af-be14-293c6f785967');\n",
              "var x = new MutationObserver(function (mutations, observer) {{\n",
              "        var display = window.getComputedStyle(gd).display;\n",
              "        if (!display || display === 'none') {{\n",
              "            console.log([gd, 'removed!']);\n",
              "            Plotly.purge(gd);\n",
              "            observer.disconnect();\n",
              "        }}\n",
              "}});\n",
              "\n",
              "// Listen for the removal of the full notebook cells\n",
              "var notebookContainer = gd.closest('#notebook-container');\n",
              "if (notebookContainer) {{\n",
              "    x.observe(notebookContainer, {childList: true});\n",
              "}}\n",
              "\n",
              "// Listen for the clearing of the current output cell\n",
              "var outputEl = gd.closest('.output');\n",
              "if (outputEl) {{\n",
              "    x.observe(outputEl, {childList: true});\n",
              "}}\n",
              "\n",
              "                        })                };                            </script>        </div>\n",
              "</body>\n",
              "</html>"
            ]
          },
          "metadata": {}
        }
      ]
    },
    {
      "cell_type": "code",
      "metadata": {
        "colab": {
          "base_uri": "https://localhost:8080/",
          "height": 712
        },
        "id": "rQ3AmfJkhYXt",
        "outputId": "46a469fd-e95a-4f63-f3f5-7ec335412146"
      },
      "source": [
        "# Graph Objects\n",
        "import plotly.graph_objects as go  # importar libreria graficas Graph Objects\n",
        "\n",
        "fig = go.Figure() # Definir grafica tipo plotly.graph_objects\n",
        "fig.add_trace(go.Line(x=x, y=y))# Añadir trasa tiempo(x) vs vector aleatorio(y) hecha con plotly.graph_objects\n",
        "fig.update_layout(title=\"Plot Title\",xaxis_title=\"x\", yaxis_title=\"y\",\n",
        "                  font=dict(\n",
        "                      family=\"Courier New, monospace\",\n",
        "                      size=18,\n",
        "                    color=\"#7f7f7f\"))\n",
        "fig.show() # Mostrar grafica"
      ],
      "execution_count": 20,
      "outputs": [
        {
          "output_type": "stream",
          "name": "stderr",
          "text": [
            "/usr/local/lib/python3.7/dist-packages/plotly/graph_objs/_deprecations.py:385: DeprecationWarning:\n",
            "\n",
            "plotly.graph_objs.Line is deprecated.\n",
            "Please replace it with one of the following more specific types\n",
            "  - plotly.graph_objs.scatter.Line\n",
            "  - plotly.graph_objs.layout.shape.Line\n",
            "  - etc.\n",
            "\n",
            "\n"
          ]
        },
        {
          "output_type": "display_data",
          "data": {
            "text/html": [
              "<html>\n",
              "<head><meta charset=\"utf-8\" /></head>\n",
              "<body>\n",
              "    <div>            <script src=\"https://cdnjs.cloudflare.com/ajax/libs/mathjax/2.7.5/MathJax.js?config=TeX-AMS-MML_SVG\"></script><script type=\"text/javascript\">if (window.MathJax) {MathJax.Hub.Config({SVG: {font: \"STIX-Web\"}});}</script>                <script type=\"text/javascript\">window.PlotlyConfig = {MathJaxConfig: 'local'};</script>\n",
              "        <script src=\"https://cdn.plot.ly/plotly-2.4.2.min.js\"></script>                <div id=\"3418c3f6-5507-4315-9a8a-b3b7756d48e5\" class=\"plotly-graph-div\" style=\"height:525px; width:100%;\"></div>            <script type=\"text/javascript\">                                    window.PLOTLYENV=window.PLOTLYENV || {};                                    if (document.getElementById(\"3418c3f6-5507-4315-9a8a-b3b7756d48e5\")) {                    Plotly.newPlot(                        \"3418c3f6-5507-4315-9a8a-b3b7756d48e5\",                        [{\"type\":\"scatter\",\"x\":[0.0,0.05025125628140704,0.10050251256281408,0.15075376884422112,0.20100502512562815,0.2512562814070352,0.30150753768844224,0.35175879396984927,0.4020100502512563,0.45226130653266333,0.5025125628140704,0.5527638190954774,0.6030150753768845,0.6532663316582915,0.7035175879396985,0.7537688442211056,0.8040201005025126,0.8542713567839196,0.9045226130653267,0.9547738693467337,1.0050251256281408,1.0552763819095479,1.105527638190955,1.155778894472362,1.206030150753769,1.256281407035176,1.306532663316583,1.35678391959799,1.407035175879397,1.4572864321608041,1.5075376884422111,1.5577889447236182,1.6080402010050252,1.6582914572864322,1.7085427135678393,1.7587939698492463,1.8090452261306533,1.8592964824120604,1.9095477386934674,1.9597989949748744,2.0100502512562817,2.0603015075376887,2.1105527638190957,2.1608040201005028,2.21105527638191,2.261306532663317,2.311557788944724,2.361809045226131,2.412060301507538,2.462311557788945,2.512562814070352,2.562814070351759,2.613065326633166,2.663316582914573,2.71356783919598,2.763819095477387,2.814070351758794,2.864321608040201,2.9145728643216082,2.9648241206030153,3.0150753768844223,3.0653266331658293,3.1155778894472363,3.1658291457286434,3.2160804020100504,3.2663316582914574,3.3165829145728645,3.3668341708542715,3.4170854271356785,3.4673366834170856,3.5175879396984926,3.5678391959798996,3.6180904522613067,3.6683417085427137,3.7185929648241207,3.7688442211055277,3.819095477386935,3.869346733668342,3.919597989949749,3.969849246231156,4.020100502512563,4.07035175879397,4.120603015075377,4.170854271356784,4.2211055276381915,4.2713567839195985,4.3216080402010055,4.371859296482413,4.42211055276382,4.472361809045227,4.522613065326634,4.572864321608041,4.623115577889448,4.673366834170855,4.723618090452262,4.773869346733669,4.824120603015076,4.874371859296483,4.92462311557789,4.974874371859297,5.025125628140704,5.075376884422111,5.125628140703518,5.175879396984925,5.226130653266332,5.276381909547739,5.326633165829146,5.376884422110553,5.42713567839196,5.477386934673367,5.527638190954774,5.577889447236181,5.628140703517588,5.678391959798995,5.728643216080402,5.778894472361809,5.8291457286432165,5.8793969849246235,5.9296482412060305,5.9798994974874375,6.030150753768845,6.080402010050252,6.130653266331659,6.180904522613066,6.231155778894473,6.28140703517588,6.331658291457287,6.381909547738694,6.432160804020101,6.482412060301508,6.532663316582915,6.582914572864322,6.633165829145729,6.683417085427136,6.733668341708543,6.78391959798995,6.834170854271357,6.884422110552764,6.934673366834171,6.984924623115578,7.035175879396985,7.085427135678392,7.135678391959799,7.185929648241206,7.236180904522613,7.28643216080402,7.336683417085427,7.386934673366834,7.437185929648241,7.4874371859296485,7.5376884422110555,7.5879396984924625,7.63819095477387,7.688442211055277,7.738693467336684,7.788944723618091,7.839195979899498,7.889447236180905,7.939698492462312,7.989949748743719,8.040201005025127,8.090452261306533,8.14070351758794,8.190954773869347,8.241206030150755,8.291457286432161,8.341708542713569,8.391959798994975,8.442211055276383,8.492462311557789,8.542713567839197,8.592964824120603,8.643216080402011,8.693467336683417,8.743718592964825,8.793969849246231,8.84422110552764,8.894472361809045,8.944723618090453,8.99497487437186,9.045226130653267,9.095477386934673,9.145728643216081,9.195979899497488,9.246231155778895,9.296482412060302,9.34673366834171,9.396984924623116,9.447236180904524,9.49748743718593,9.547738693467338,9.597989949748744,9.648241206030152,9.698492462311558,9.748743718592966,9.798994974874372,9.84924623115578,9.899497487437186,9.949748743718594,10.0],\"y\":[0.07729739612233816,0.12724475874031826,-0.13630171074657146,-0.0584507152815528,0.0636233342958174,0.05748199243905986,0.21278263023846608,0.08926168198138193,-0.07792631565876199,0.16726512616962172,0.009167969945703144,0.08745979403827435,-0.002431701826852933,0.054069170583980246,-0.1571873179824319,-0.13706010020006087,0.011153569810515249,-0.08213055129224622,0.09181207084901069,-0.0258006627208757,-0.0015945486053271507,0.19046028403053358,0.18700792972391028,-0.06486244769619602,0.0628669735705406,0.011857443257265498,-0.06320926183168629,-0.005823409062740138,-0.24250819066750304,0.20754472363317222,0.06394745178281892,0.010647557537319342,-0.034535868394090466,-0.19476550304780044,0.012372164049632891,0.09217013001913586,-0.10125580427200923,0.061145543151981264,-0.07357097162371261,0.11174829095421775,0.022329280773851625,0.019512563582282122,0.009826345119972546,0.11620326174846717,0.03317635917196205,-0.19082920742038978,0.014678209627281717,0.20473432186299345,0.09138240457896876,0.023957018458879167,-0.0061465930466595604,0.01153276903727934,0.019475363490302433,0.1051694332382759,-0.0733236933380351,0.18195785723482147,-0.010662018777000135,0.07019016638451013,-0.05597961754595662,-0.16735354824332546,0.030906964413384613,0.05976631101435984,-0.014747227111615947,0.1382568640685477,0.018382917148428487,0.0771696204970705,-0.09605289460321549,-0.09984238279886508,-0.06056942708922156,-0.13301469987049505,-0.04358569868115393,0.03988613414957065,0.031569225070278165,-0.17486097798563532,0.058710379298548714,0.015014793650953834,0.013012861605393595,0.027210793143094644,0.024600182787718555,0.13566987852665613,-0.010063916686780448,0.00036703222639612954,0.22592889070419236,0.051846203395448355,0.07601818728089087,0.0197441411633514,-0.004805516208097316,-0.06079456163917579,-0.013526150753367622,0.06103566572152304,0.009030490631962151,-0.033372628424121274,-0.1538041310292131,-0.09304136648746714,0.08640777020179298,-0.07916620737275766,0.04745792770601473,0.20428661863045058,0.00430759314120915,-0.09052920980402639,-0.034762462179718435,-0.08405462669653363,-0.07092760338610495,0.08230875739037626,0.06642023346303674,0.00022924218154540645,0.0003450132959804632,0.0070794437490312185,0.13321369148393444,-0.11828843821240567,-0.10863955016623864,0.10357617704246139,0.01583517890525919,-0.009296603754155617,-0.055310527502530606,0.16208297287157114,0.14763768050201045,0.09425971502933737,0.08544619921821667,0.03339099544272655,-0.16702369615572316,0.07145087170705298,0.010536690307638666,-0.06957210335895762,-0.009706713402789629,0.21652018084398109,-0.0944179047215439,-0.17929718694346802,-0.052781220195004565,-0.04364370458253147,0.10343196913898128,-0.11453705217041373,0.02254013147340791,0.040363036223653816,0.08113699960437507,-0.07762311064234403,0.06330510832079828,0.09686229984624717,-0.07773562663464588,0.18434207376228223,0.05869465909075379,-0.15306813377585535,0.07824258754332793,0.019038525324682247,-0.08996671592811184,0.1719064914077827,0.11221729284564959,-0.11262905789881883,0.03842334756399628,0.1199557721443862,-0.011530557651375124,-0.1732083666394925,-0.010153234384717602,0.024808614935506106,-0.030647262279280597,0.03649386128073095,0.17250144885081264,0.054136566766256104,-0.14564501848881625,-0.17887674671394516,0.06004028990346388,0.03618772288848871,-0.07398196920081733,0.11394400252556935,0.21057942056173096,0.10147821681675862,0.07372044707983118,0.13819381499886882,0.032720420014516076,-0.05986835014823483,0.10552310547555002,-0.032982941322577314,0.0905423485477874,-0.0018884976051828095,-0.018769655993116644,0.004362200475511901,-0.012891758834197823,0.01871457994977605,0.012757832981177029,0.1907500227900829,0.0750009794179511,-0.05115684832825817,0.020646016554840607,0.018253835012649447,-0.21357342571386304,0.09745668158180425,-0.07884750037670102,-0.053617465408068166,-0.11833704537455883,0.06660337373798669,-0.11627516600424954,-0.17000597894118297,-0.039180119831926,-0.04438819699471943,-0.020298064235370866,-0.11838899396312062,-0.02644003632208973,-0.04502591099953164,0.10844270528972105,0.003049629388489993]}],                        {\"font\":{\"color\":\"#7f7f7f\",\"family\":\"Courier New, monospace\",\"size\":18},\"template\":{\"data\":{\"bar\":[{\"error_x\":{\"color\":\"#2a3f5f\"},\"error_y\":{\"color\":\"#2a3f5f\"},\"marker\":{\"line\":{\"color\":\"#E5ECF6\",\"width\":0.5},\"pattern\":{\"fillmode\":\"overlay\",\"size\":10,\"solidity\":0.2}},\"type\":\"bar\"}],\"barpolar\":[{\"marker\":{\"line\":{\"color\":\"#E5ECF6\",\"width\":0.5},\"pattern\":{\"fillmode\":\"overlay\",\"size\":10,\"solidity\":0.2}},\"type\":\"barpolar\"}],\"carpet\":[{\"aaxis\":{\"endlinecolor\":\"#2a3f5f\",\"gridcolor\":\"white\",\"linecolor\":\"white\",\"minorgridcolor\":\"white\",\"startlinecolor\":\"#2a3f5f\"},\"baxis\":{\"endlinecolor\":\"#2a3f5f\",\"gridcolor\":\"white\",\"linecolor\":\"white\",\"minorgridcolor\":\"white\",\"startlinecolor\":\"#2a3f5f\"},\"type\":\"carpet\"}],\"choropleth\":[{\"colorbar\":{\"outlinewidth\":0,\"ticks\":\"\"},\"type\":\"choropleth\"}],\"contour\":[{\"colorbar\":{\"outlinewidth\":0,\"ticks\":\"\"},\"colorscale\":[[0.0,\"#0d0887\"],[0.1111111111111111,\"#46039f\"],[0.2222222222222222,\"#7201a8\"],[0.3333333333333333,\"#9c179e\"],[0.4444444444444444,\"#bd3786\"],[0.5555555555555556,\"#d8576b\"],[0.6666666666666666,\"#ed7953\"],[0.7777777777777778,\"#fb9f3a\"],[0.8888888888888888,\"#fdca26\"],[1.0,\"#f0f921\"]],\"type\":\"contour\"}],\"contourcarpet\":[{\"colorbar\":{\"outlinewidth\":0,\"ticks\":\"\"},\"type\":\"contourcarpet\"}],\"heatmap\":[{\"colorbar\":{\"outlinewidth\":0,\"ticks\":\"\"},\"colorscale\":[[0.0,\"#0d0887\"],[0.1111111111111111,\"#46039f\"],[0.2222222222222222,\"#7201a8\"],[0.3333333333333333,\"#9c179e\"],[0.4444444444444444,\"#bd3786\"],[0.5555555555555556,\"#d8576b\"],[0.6666666666666666,\"#ed7953\"],[0.7777777777777778,\"#fb9f3a\"],[0.8888888888888888,\"#fdca26\"],[1.0,\"#f0f921\"]],\"type\":\"heatmap\"}],\"heatmapgl\":[{\"colorbar\":{\"outlinewidth\":0,\"ticks\":\"\"},\"colorscale\":[[0.0,\"#0d0887\"],[0.1111111111111111,\"#46039f\"],[0.2222222222222222,\"#7201a8\"],[0.3333333333333333,\"#9c179e\"],[0.4444444444444444,\"#bd3786\"],[0.5555555555555556,\"#d8576b\"],[0.6666666666666666,\"#ed7953\"],[0.7777777777777778,\"#fb9f3a\"],[0.8888888888888888,\"#fdca26\"],[1.0,\"#f0f921\"]],\"type\":\"heatmapgl\"}],\"histogram\":[{\"marker\":{\"pattern\":{\"fillmode\":\"overlay\",\"size\":10,\"solidity\":0.2}},\"type\":\"histogram\"}],\"histogram2d\":[{\"colorbar\":{\"outlinewidth\":0,\"ticks\":\"\"},\"colorscale\":[[0.0,\"#0d0887\"],[0.1111111111111111,\"#46039f\"],[0.2222222222222222,\"#7201a8\"],[0.3333333333333333,\"#9c179e\"],[0.4444444444444444,\"#bd3786\"],[0.5555555555555556,\"#d8576b\"],[0.6666666666666666,\"#ed7953\"],[0.7777777777777778,\"#fb9f3a\"],[0.8888888888888888,\"#fdca26\"],[1.0,\"#f0f921\"]],\"type\":\"histogram2d\"}],\"histogram2dcontour\":[{\"colorbar\":{\"outlinewidth\":0,\"ticks\":\"\"},\"colorscale\":[[0.0,\"#0d0887\"],[0.1111111111111111,\"#46039f\"],[0.2222222222222222,\"#7201a8\"],[0.3333333333333333,\"#9c179e\"],[0.4444444444444444,\"#bd3786\"],[0.5555555555555556,\"#d8576b\"],[0.6666666666666666,\"#ed7953\"],[0.7777777777777778,\"#fb9f3a\"],[0.8888888888888888,\"#fdca26\"],[1.0,\"#f0f921\"]],\"type\":\"histogram2dcontour\"}],\"mesh3d\":[{\"colorbar\":{\"outlinewidth\":0,\"ticks\":\"\"},\"type\":\"mesh3d\"}],\"parcoords\":[{\"line\":{\"colorbar\":{\"outlinewidth\":0,\"ticks\":\"\"}},\"type\":\"parcoords\"}],\"pie\":[{\"automargin\":true,\"type\":\"pie\"}],\"scatter\":[{\"marker\":{\"colorbar\":{\"outlinewidth\":0,\"ticks\":\"\"}},\"type\":\"scatter\"}],\"scatter3d\":[{\"line\":{\"colorbar\":{\"outlinewidth\":0,\"ticks\":\"\"}},\"marker\":{\"colorbar\":{\"outlinewidth\":0,\"ticks\":\"\"}},\"type\":\"scatter3d\"}],\"scattercarpet\":[{\"marker\":{\"colorbar\":{\"outlinewidth\":0,\"ticks\":\"\"}},\"type\":\"scattercarpet\"}],\"scattergeo\":[{\"marker\":{\"colorbar\":{\"outlinewidth\":0,\"ticks\":\"\"}},\"type\":\"scattergeo\"}],\"scattergl\":[{\"marker\":{\"colorbar\":{\"outlinewidth\":0,\"ticks\":\"\"}},\"type\":\"scattergl\"}],\"scattermapbox\":[{\"marker\":{\"colorbar\":{\"outlinewidth\":0,\"ticks\":\"\"}},\"type\":\"scattermapbox\"}],\"scatterpolar\":[{\"marker\":{\"colorbar\":{\"outlinewidth\":0,\"ticks\":\"\"}},\"type\":\"scatterpolar\"}],\"scatterpolargl\":[{\"marker\":{\"colorbar\":{\"outlinewidth\":0,\"ticks\":\"\"}},\"type\":\"scatterpolargl\"}],\"scatterternary\":[{\"marker\":{\"colorbar\":{\"outlinewidth\":0,\"ticks\":\"\"}},\"type\":\"scatterternary\"}],\"surface\":[{\"colorbar\":{\"outlinewidth\":0,\"ticks\":\"\"},\"colorscale\":[[0.0,\"#0d0887\"],[0.1111111111111111,\"#46039f\"],[0.2222222222222222,\"#7201a8\"],[0.3333333333333333,\"#9c179e\"],[0.4444444444444444,\"#bd3786\"],[0.5555555555555556,\"#d8576b\"],[0.6666666666666666,\"#ed7953\"],[0.7777777777777778,\"#fb9f3a\"],[0.8888888888888888,\"#fdca26\"],[1.0,\"#f0f921\"]],\"type\":\"surface\"}],\"table\":[{\"cells\":{\"fill\":{\"color\":\"#EBF0F8\"},\"line\":{\"color\":\"white\"}},\"header\":{\"fill\":{\"color\":\"#C8D4E3\"},\"line\":{\"color\":\"white\"}},\"type\":\"table\"}]},\"layout\":{\"annotationdefaults\":{\"arrowcolor\":\"#2a3f5f\",\"arrowhead\":0,\"arrowwidth\":1},\"autotypenumbers\":\"strict\",\"coloraxis\":{\"colorbar\":{\"outlinewidth\":0,\"ticks\":\"\"}},\"colorscale\":{\"diverging\":[[0,\"#8e0152\"],[0.1,\"#c51b7d\"],[0.2,\"#de77ae\"],[0.3,\"#f1b6da\"],[0.4,\"#fde0ef\"],[0.5,\"#f7f7f7\"],[0.6,\"#e6f5d0\"],[0.7,\"#b8e186\"],[0.8,\"#7fbc41\"],[0.9,\"#4d9221\"],[1,\"#276419\"]],\"sequential\":[[0.0,\"#0d0887\"],[0.1111111111111111,\"#46039f\"],[0.2222222222222222,\"#7201a8\"],[0.3333333333333333,\"#9c179e\"],[0.4444444444444444,\"#bd3786\"],[0.5555555555555556,\"#d8576b\"],[0.6666666666666666,\"#ed7953\"],[0.7777777777777778,\"#fb9f3a\"],[0.8888888888888888,\"#fdca26\"],[1.0,\"#f0f921\"]],\"sequentialminus\":[[0.0,\"#0d0887\"],[0.1111111111111111,\"#46039f\"],[0.2222222222222222,\"#7201a8\"],[0.3333333333333333,\"#9c179e\"],[0.4444444444444444,\"#bd3786\"],[0.5555555555555556,\"#d8576b\"],[0.6666666666666666,\"#ed7953\"],[0.7777777777777778,\"#fb9f3a\"],[0.8888888888888888,\"#fdca26\"],[1.0,\"#f0f921\"]]},\"colorway\":[\"#636efa\",\"#EF553B\",\"#00cc96\",\"#ab63fa\",\"#FFA15A\",\"#19d3f3\",\"#FF6692\",\"#B6E880\",\"#FF97FF\",\"#FECB52\"],\"font\":{\"color\":\"#2a3f5f\"},\"geo\":{\"bgcolor\":\"white\",\"lakecolor\":\"white\",\"landcolor\":\"#E5ECF6\",\"showlakes\":true,\"showland\":true,\"subunitcolor\":\"white\"},\"hoverlabel\":{\"align\":\"left\"},\"hovermode\":\"closest\",\"mapbox\":{\"style\":\"light\"},\"paper_bgcolor\":\"white\",\"plot_bgcolor\":\"#E5ECF6\",\"polar\":{\"angularaxis\":{\"gridcolor\":\"white\",\"linecolor\":\"white\",\"ticks\":\"\"},\"bgcolor\":\"#E5ECF6\",\"radialaxis\":{\"gridcolor\":\"white\",\"linecolor\":\"white\",\"ticks\":\"\"}},\"scene\":{\"xaxis\":{\"backgroundcolor\":\"#E5ECF6\",\"gridcolor\":\"white\",\"gridwidth\":2,\"linecolor\":\"white\",\"showbackground\":true,\"ticks\":\"\",\"zerolinecolor\":\"white\"},\"yaxis\":{\"backgroundcolor\":\"#E5ECF6\",\"gridcolor\":\"white\",\"gridwidth\":2,\"linecolor\":\"white\",\"showbackground\":true,\"ticks\":\"\",\"zerolinecolor\":\"white\"},\"zaxis\":{\"backgroundcolor\":\"#E5ECF6\",\"gridcolor\":\"white\",\"gridwidth\":2,\"linecolor\":\"white\",\"showbackground\":true,\"ticks\":\"\",\"zerolinecolor\":\"white\"}},\"shapedefaults\":{\"line\":{\"color\":\"#2a3f5f\"}},\"ternary\":{\"aaxis\":{\"gridcolor\":\"white\",\"linecolor\":\"white\",\"ticks\":\"\"},\"baxis\":{\"gridcolor\":\"white\",\"linecolor\":\"white\",\"ticks\":\"\"},\"bgcolor\":\"#E5ECF6\",\"caxis\":{\"gridcolor\":\"white\",\"linecolor\":\"white\",\"ticks\":\"\"}},\"title\":{\"x\":0.05},\"xaxis\":{\"automargin\":true,\"gridcolor\":\"white\",\"linecolor\":\"white\",\"ticks\":\"\",\"title\":{\"standoff\":15},\"zerolinecolor\":\"white\",\"zerolinewidth\":2},\"yaxis\":{\"automargin\":true,\"gridcolor\":\"white\",\"linecolor\":\"white\",\"ticks\":\"\",\"title\":{\"standoff\":15},\"zerolinecolor\":\"white\",\"zerolinewidth\":2}}},\"title\":{\"text\":\"Plot Title\"},\"xaxis\":{\"title\":{\"text\":\"x\"}},\"yaxis\":{\"title\":{\"text\":\"y\"}}},                        {\"responsive\": true}                    ).then(function(){\n",
              "                            \n",
              "var gd = document.getElementById('3418c3f6-5507-4315-9a8a-b3b7756d48e5');\n",
              "var x = new MutationObserver(function (mutations, observer) {{\n",
              "        var display = window.getComputedStyle(gd).display;\n",
              "        if (!display || display === 'none') {{\n",
              "            console.log([gd, 'removed!']);\n",
              "            Plotly.purge(gd);\n",
              "            observer.disconnect();\n",
              "        }}\n",
              "}});\n",
              "\n",
              "// Listen for the removal of the full notebook cells\n",
              "var notebookContainer = gd.closest('#notebook-container');\n",
              "if (notebookContainer) {{\n",
              "    x.observe(notebookContainer, {childList: true});\n",
              "}}\n",
              "\n",
              "// Listen for the clearing of the current output cell\n",
              "var outputEl = gd.closest('.output');\n",
              "if (outputEl) {{\n",
              "    x.observe(outputEl, {childList: true});\n",
              "}}\n",
              "\n",
              "                        })                };                            </script>        </div>\n",
              "</body>\n",
              "</html>"
            ]
          },
          "metadata": {}
        }
      ]
    },
    {
      "cell_type": "markdown",
      "metadata": {
        "id": "KogKg4aCgPSC"
      },
      "source": [
        "# ¿Ventajas de las los paquetes graph_objects y express?\n",
        "\n",
        "- Estos paquetes muestran su verdadera utilidad al tratar con Datasets.\n",
        "\n",
        "- A contunuación veremos un ejemplo de trabajo con estos paquetes donde desde una Dataset se mostrará un gráfico de barras agrupado por marca y separado por vendedor, permitiendo observar rápida y facilmente la información.\n",
        "\n",
        "- Además, estos paquetes permiten hacer gráficas interactivas mediante Callbakcs."
      ]
    },
    {
      "cell_type": "code",
      "metadata": {
        "colab": {
          "base_uri": "https://localhost:8080/",
          "height": 1000
        },
        "id": "SY1s2EZJgN0R",
        "outputId": "77bab55c-b780-4e08-fc51-de6e98df93ab"
      },
      "source": [
        "import pandas as pd # Importar libreria pandas \n",
        "\n",
        "df = pd.DataFrame({   # Dataset para mostrar el uso de las graficas\n",
        "  \"Cell phone brand\": [\"Apple\", \"Xiaomi\", \"Samsung\", \"Apple\", \"Xiaomi\", \"Samsung\"],\n",
        "  \"Sellers\": [\"SellerA\", \"SellerA\", \"SellerA\", \"SellerB\", \"SellerB\", \"SellerB\"],\n",
        "  \"Number sales\": [1, 2, 3, 3, 1, 2],\n",
        "})\n",
        "\n",
        "\n",
        "# Express\n",
        "fig = px.bar(df, x=\"Cell phone brand\", y=\"Number sales\", color=\"Sellers\", barmode=\"group\")\n",
        "fig.show()\n",
        "\n",
        "\n",
        "# Graph Objects\n",
        "fig = go.Figure() # Definir grafica tipo plotly.graph_objects\n",
        "for Sellers, group in df.groupby(\"Sellers\"): # Ciclo para Añadir las trasas de los Sellers\n",
        "    fig.add_trace(go.Bar(x=group[\"Cell phone brand\"], y=group[\"Number sales\"], name=Sellers,\n",
        "      hovertemplate=\"Sellers=%s<br>Cell phone brand=%%{x}<br>Number sales=%%{y}<extra></extra>\"% Sellers)) # Añadir la trasa\n",
        "fig.update_layout(legend_title_text = \"Sellers\") # legenda \n",
        "fig.update_xaxes(title_text=\"Cell phone brand\") # Nombre eje x\n",
        "fig.update_yaxes(title_text=\"Number sales\") # Nombre eje y \n",
        "fig.show()"
      ],
      "execution_count": 21,
      "outputs": [
        {
          "output_type": "display_data",
          "data": {
            "text/html": [
              "<html>\n",
              "<head><meta charset=\"utf-8\" /></head>\n",
              "<body>\n",
              "    <div>            <script src=\"https://cdnjs.cloudflare.com/ajax/libs/mathjax/2.7.5/MathJax.js?config=TeX-AMS-MML_SVG\"></script><script type=\"text/javascript\">if (window.MathJax) {MathJax.Hub.Config({SVG: {font: \"STIX-Web\"}});}</script>                <script type=\"text/javascript\">window.PlotlyConfig = {MathJaxConfig: 'local'};</script>\n",
              "        <script src=\"https://cdn.plot.ly/plotly-2.4.2.min.js\"></script>                <div id=\"1b52179f-19b3-4b1c-9365-9d568cdea4e8\" class=\"plotly-graph-div\" style=\"height:525px; width:100%;\"></div>            <script type=\"text/javascript\">                                    window.PLOTLYENV=window.PLOTLYENV || {};                                    if (document.getElementById(\"1b52179f-19b3-4b1c-9365-9d568cdea4e8\")) {                    Plotly.newPlot(                        \"1b52179f-19b3-4b1c-9365-9d568cdea4e8\",                        [{\"alignmentgroup\":\"True\",\"hovertemplate\":\"Sellers=SellerA<br>Cell phone brand=%{x}<br>Number sales=%{y}<extra></extra>\",\"legendgroup\":\"SellerA\",\"marker\":{\"color\":\"#636efa\",\"pattern\":{\"shape\":\"\"}},\"name\":\"SellerA\",\"offsetgroup\":\"SellerA\",\"orientation\":\"v\",\"showlegend\":true,\"textposition\":\"auto\",\"type\":\"bar\",\"x\":[\"Apple\",\"Xiaomi\",\"Samsung\"],\"xaxis\":\"x\",\"y\":[1,2,3],\"yaxis\":\"y\"},{\"alignmentgroup\":\"True\",\"hovertemplate\":\"Sellers=SellerB<br>Cell phone brand=%{x}<br>Number sales=%{y}<extra></extra>\",\"legendgroup\":\"SellerB\",\"marker\":{\"color\":\"#EF553B\",\"pattern\":{\"shape\":\"\"}},\"name\":\"SellerB\",\"offsetgroup\":\"SellerB\",\"orientation\":\"v\",\"showlegend\":true,\"textposition\":\"auto\",\"type\":\"bar\",\"x\":[\"Apple\",\"Xiaomi\",\"Samsung\"],\"xaxis\":\"x\",\"y\":[3,1,2],\"yaxis\":\"y\"}],                        {\"barmode\":\"group\",\"legend\":{\"title\":{\"text\":\"Sellers\"},\"tracegroupgap\":0},\"margin\":{\"t\":60},\"template\":{\"data\":{\"bar\":[{\"error_x\":{\"color\":\"#2a3f5f\"},\"error_y\":{\"color\":\"#2a3f5f\"},\"marker\":{\"line\":{\"color\":\"#E5ECF6\",\"width\":0.5},\"pattern\":{\"fillmode\":\"overlay\",\"size\":10,\"solidity\":0.2}},\"type\":\"bar\"}],\"barpolar\":[{\"marker\":{\"line\":{\"color\":\"#E5ECF6\",\"width\":0.5},\"pattern\":{\"fillmode\":\"overlay\",\"size\":10,\"solidity\":0.2}},\"type\":\"barpolar\"}],\"carpet\":[{\"aaxis\":{\"endlinecolor\":\"#2a3f5f\",\"gridcolor\":\"white\",\"linecolor\":\"white\",\"minorgridcolor\":\"white\",\"startlinecolor\":\"#2a3f5f\"},\"baxis\":{\"endlinecolor\":\"#2a3f5f\",\"gridcolor\":\"white\",\"linecolor\":\"white\",\"minorgridcolor\":\"white\",\"startlinecolor\":\"#2a3f5f\"},\"type\":\"carpet\"}],\"choropleth\":[{\"colorbar\":{\"outlinewidth\":0,\"ticks\":\"\"},\"type\":\"choropleth\"}],\"contour\":[{\"colorbar\":{\"outlinewidth\":0,\"ticks\":\"\"},\"colorscale\":[[0.0,\"#0d0887\"],[0.1111111111111111,\"#46039f\"],[0.2222222222222222,\"#7201a8\"],[0.3333333333333333,\"#9c179e\"],[0.4444444444444444,\"#bd3786\"],[0.5555555555555556,\"#d8576b\"],[0.6666666666666666,\"#ed7953\"],[0.7777777777777778,\"#fb9f3a\"],[0.8888888888888888,\"#fdca26\"],[1.0,\"#f0f921\"]],\"type\":\"contour\"}],\"contourcarpet\":[{\"colorbar\":{\"outlinewidth\":0,\"ticks\":\"\"},\"type\":\"contourcarpet\"}],\"heatmap\":[{\"colorbar\":{\"outlinewidth\":0,\"ticks\":\"\"},\"colorscale\":[[0.0,\"#0d0887\"],[0.1111111111111111,\"#46039f\"],[0.2222222222222222,\"#7201a8\"],[0.3333333333333333,\"#9c179e\"],[0.4444444444444444,\"#bd3786\"],[0.5555555555555556,\"#d8576b\"],[0.6666666666666666,\"#ed7953\"],[0.7777777777777778,\"#fb9f3a\"],[0.8888888888888888,\"#fdca26\"],[1.0,\"#f0f921\"]],\"type\":\"heatmap\"}],\"heatmapgl\":[{\"colorbar\":{\"outlinewidth\":0,\"ticks\":\"\"},\"colorscale\":[[0.0,\"#0d0887\"],[0.1111111111111111,\"#46039f\"],[0.2222222222222222,\"#7201a8\"],[0.3333333333333333,\"#9c179e\"],[0.4444444444444444,\"#bd3786\"],[0.5555555555555556,\"#d8576b\"],[0.6666666666666666,\"#ed7953\"],[0.7777777777777778,\"#fb9f3a\"],[0.8888888888888888,\"#fdca26\"],[1.0,\"#f0f921\"]],\"type\":\"heatmapgl\"}],\"histogram\":[{\"marker\":{\"pattern\":{\"fillmode\":\"overlay\",\"size\":10,\"solidity\":0.2}},\"type\":\"histogram\"}],\"histogram2d\":[{\"colorbar\":{\"outlinewidth\":0,\"ticks\":\"\"},\"colorscale\":[[0.0,\"#0d0887\"],[0.1111111111111111,\"#46039f\"],[0.2222222222222222,\"#7201a8\"],[0.3333333333333333,\"#9c179e\"],[0.4444444444444444,\"#bd3786\"],[0.5555555555555556,\"#d8576b\"],[0.6666666666666666,\"#ed7953\"],[0.7777777777777778,\"#fb9f3a\"],[0.8888888888888888,\"#fdca26\"],[1.0,\"#f0f921\"]],\"type\":\"histogram2d\"}],\"histogram2dcontour\":[{\"colorbar\":{\"outlinewidth\":0,\"ticks\":\"\"},\"colorscale\":[[0.0,\"#0d0887\"],[0.1111111111111111,\"#46039f\"],[0.2222222222222222,\"#7201a8\"],[0.3333333333333333,\"#9c179e\"],[0.4444444444444444,\"#bd3786\"],[0.5555555555555556,\"#d8576b\"],[0.6666666666666666,\"#ed7953\"],[0.7777777777777778,\"#fb9f3a\"],[0.8888888888888888,\"#fdca26\"],[1.0,\"#f0f921\"]],\"type\":\"histogram2dcontour\"}],\"mesh3d\":[{\"colorbar\":{\"outlinewidth\":0,\"ticks\":\"\"},\"type\":\"mesh3d\"}],\"parcoords\":[{\"line\":{\"colorbar\":{\"outlinewidth\":0,\"ticks\":\"\"}},\"type\":\"parcoords\"}],\"pie\":[{\"automargin\":true,\"type\":\"pie\"}],\"scatter\":[{\"marker\":{\"colorbar\":{\"outlinewidth\":0,\"ticks\":\"\"}},\"type\":\"scatter\"}],\"scatter3d\":[{\"line\":{\"colorbar\":{\"outlinewidth\":0,\"ticks\":\"\"}},\"marker\":{\"colorbar\":{\"outlinewidth\":0,\"ticks\":\"\"}},\"type\":\"scatter3d\"}],\"scattercarpet\":[{\"marker\":{\"colorbar\":{\"outlinewidth\":0,\"ticks\":\"\"}},\"type\":\"scattercarpet\"}],\"scattergeo\":[{\"marker\":{\"colorbar\":{\"outlinewidth\":0,\"ticks\":\"\"}},\"type\":\"scattergeo\"}],\"scattergl\":[{\"marker\":{\"colorbar\":{\"outlinewidth\":0,\"ticks\":\"\"}},\"type\":\"scattergl\"}],\"scattermapbox\":[{\"marker\":{\"colorbar\":{\"outlinewidth\":0,\"ticks\":\"\"}},\"type\":\"scattermapbox\"}],\"scatterpolar\":[{\"marker\":{\"colorbar\":{\"outlinewidth\":0,\"ticks\":\"\"}},\"type\":\"scatterpolar\"}],\"scatterpolargl\":[{\"marker\":{\"colorbar\":{\"outlinewidth\":0,\"ticks\":\"\"}},\"type\":\"scatterpolargl\"}],\"scatterternary\":[{\"marker\":{\"colorbar\":{\"outlinewidth\":0,\"ticks\":\"\"}},\"type\":\"scatterternary\"}],\"surface\":[{\"colorbar\":{\"outlinewidth\":0,\"ticks\":\"\"},\"colorscale\":[[0.0,\"#0d0887\"],[0.1111111111111111,\"#46039f\"],[0.2222222222222222,\"#7201a8\"],[0.3333333333333333,\"#9c179e\"],[0.4444444444444444,\"#bd3786\"],[0.5555555555555556,\"#d8576b\"],[0.6666666666666666,\"#ed7953\"],[0.7777777777777778,\"#fb9f3a\"],[0.8888888888888888,\"#fdca26\"],[1.0,\"#f0f921\"]],\"type\":\"surface\"}],\"table\":[{\"cells\":{\"fill\":{\"color\":\"#EBF0F8\"},\"line\":{\"color\":\"white\"}},\"header\":{\"fill\":{\"color\":\"#C8D4E3\"},\"line\":{\"color\":\"white\"}},\"type\":\"table\"}]},\"layout\":{\"annotationdefaults\":{\"arrowcolor\":\"#2a3f5f\",\"arrowhead\":0,\"arrowwidth\":1},\"autotypenumbers\":\"strict\",\"coloraxis\":{\"colorbar\":{\"outlinewidth\":0,\"ticks\":\"\"}},\"colorscale\":{\"diverging\":[[0,\"#8e0152\"],[0.1,\"#c51b7d\"],[0.2,\"#de77ae\"],[0.3,\"#f1b6da\"],[0.4,\"#fde0ef\"],[0.5,\"#f7f7f7\"],[0.6,\"#e6f5d0\"],[0.7,\"#b8e186\"],[0.8,\"#7fbc41\"],[0.9,\"#4d9221\"],[1,\"#276419\"]],\"sequential\":[[0.0,\"#0d0887\"],[0.1111111111111111,\"#46039f\"],[0.2222222222222222,\"#7201a8\"],[0.3333333333333333,\"#9c179e\"],[0.4444444444444444,\"#bd3786\"],[0.5555555555555556,\"#d8576b\"],[0.6666666666666666,\"#ed7953\"],[0.7777777777777778,\"#fb9f3a\"],[0.8888888888888888,\"#fdca26\"],[1.0,\"#f0f921\"]],\"sequentialminus\":[[0.0,\"#0d0887\"],[0.1111111111111111,\"#46039f\"],[0.2222222222222222,\"#7201a8\"],[0.3333333333333333,\"#9c179e\"],[0.4444444444444444,\"#bd3786\"],[0.5555555555555556,\"#d8576b\"],[0.6666666666666666,\"#ed7953\"],[0.7777777777777778,\"#fb9f3a\"],[0.8888888888888888,\"#fdca26\"],[1.0,\"#f0f921\"]]},\"colorway\":[\"#636efa\",\"#EF553B\",\"#00cc96\",\"#ab63fa\",\"#FFA15A\",\"#19d3f3\",\"#FF6692\",\"#B6E880\",\"#FF97FF\",\"#FECB52\"],\"font\":{\"color\":\"#2a3f5f\"},\"geo\":{\"bgcolor\":\"white\",\"lakecolor\":\"white\",\"landcolor\":\"#E5ECF6\",\"showlakes\":true,\"showland\":true,\"subunitcolor\":\"white\"},\"hoverlabel\":{\"align\":\"left\"},\"hovermode\":\"closest\",\"mapbox\":{\"style\":\"light\"},\"paper_bgcolor\":\"white\",\"plot_bgcolor\":\"#E5ECF6\",\"polar\":{\"angularaxis\":{\"gridcolor\":\"white\",\"linecolor\":\"white\",\"ticks\":\"\"},\"bgcolor\":\"#E5ECF6\",\"radialaxis\":{\"gridcolor\":\"white\",\"linecolor\":\"white\",\"ticks\":\"\"}},\"scene\":{\"xaxis\":{\"backgroundcolor\":\"#E5ECF6\",\"gridcolor\":\"white\",\"gridwidth\":2,\"linecolor\":\"white\",\"showbackground\":true,\"ticks\":\"\",\"zerolinecolor\":\"white\"},\"yaxis\":{\"backgroundcolor\":\"#E5ECF6\",\"gridcolor\":\"white\",\"gridwidth\":2,\"linecolor\":\"white\",\"showbackground\":true,\"ticks\":\"\",\"zerolinecolor\":\"white\"},\"zaxis\":{\"backgroundcolor\":\"#E5ECF6\",\"gridcolor\":\"white\",\"gridwidth\":2,\"linecolor\":\"white\",\"showbackground\":true,\"ticks\":\"\",\"zerolinecolor\":\"white\"}},\"shapedefaults\":{\"line\":{\"color\":\"#2a3f5f\"}},\"ternary\":{\"aaxis\":{\"gridcolor\":\"white\",\"linecolor\":\"white\",\"ticks\":\"\"},\"baxis\":{\"gridcolor\":\"white\",\"linecolor\":\"white\",\"ticks\":\"\"},\"bgcolor\":\"#E5ECF6\",\"caxis\":{\"gridcolor\":\"white\",\"linecolor\":\"white\",\"ticks\":\"\"}},\"title\":{\"x\":0.05},\"xaxis\":{\"automargin\":true,\"gridcolor\":\"white\",\"linecolor\":\"white\",\"ticks\":\"\",\"title\":{\"standoff\":15},\"zerolinecolor\":\"white\",\"zerolinewidth\":2},\"yaxis\":{\"automargin\":true,\"gridcolor\":\"white\",\"linecolor\":\"white\",\"ticks\":\"\",\"title\":{\"standoff\":15},\"zerolinecolor\":\"white\",\"zerolinewidth\":2}}},\"xaxis\":{\"anchor\":\"y\",\"domain\":[0.0,1.0],\"title\":{\"text\":\"Cell phone brand\"}},\"yaxis\":{\"anchor\":\"x\",\"domain\":[0.0,1.0],\"title\":{\"text\":\"Number sales\"}}},                        {\"responsive\": true}                    ).then(function(){\n",
              "                            \n",
              "var gd = document.getElementById('1b52179f-19b3-4b1c-9365-9d568cdea4e8');\n",
              "var x = new MutationObserver(function (mutations, observer) {{\n",
              "        var display = window.getComputedStyle(gd).display;\n",
              "        if (!display || display === 'none') {{\n",
              "            console.log([gd, 'removed!']);\n",
              "            Plotly.purge(gd);\n",
              "            observer.disconnect();\n",
              "        }}\n",
              "}});\n",
              "\n",
              "// Listen for the removal of the full notebook cells\n",
              "var notebookContainer = gd.closest('#notebook-container');\n",
              "if (notebookContainer) {{\n",
              "    x.observe(notebookContainer, {childList: true});\n",
              "}}\n",
              "\n",
              "// Listen for the clearing of the current output cell\n",
              "var outputEl = gd.closest('.output');\n",
              "if (outputEl) {{\n",
              "    x.observe(outputEl, {childList: true});\n",
              "}}\n",
              "\n",
              "                        })                };                            </script>        </div>\n",
              "</body>\n",
              "</html>"
            ]
          },
          "metadata": {}
        },
        {
          "output_type": "display_data",
          "data": {
            "text/html": [
              "<html>\n",
              "<head><meta charset=\"utf-8\" /></head>\n",
              "<body>\n",
              "    <div>            <script src=\"https://cdnjs.cloudflare.com/ajax/libs/mathjax/2.7.5/MathJax.js?config=TeX-AMS-MML_SVG\"></script><script type=\"text/javascript\">if (window.MathJax) {MathJax.Hub.Config({SVG: {font: \"STIX-Web\"}});}</script>                <script type=\"text/javascript\">window.PlotlyConfig = {MathJaxConfig: 'local'};</script>\n",
              "        <script src=\"https://cdn.plot.ly/plotly-2.4.2.min.js\"></script>                <div id=\"d203df73-0b25-4748-8cd2-b5bb505910b9\" class=\"plotly-graph-div\" style=\"height:525px; width:100%;\"></div>            <script type=\"text/javascript\">                                    window.PLOTLYENV=window.PLOTLYENV || {};                                    if (document.getElementById(\"d203df73-0b25-4748-8cd2-b5bb505910b9\")) {                    Plotly.newPlot(                        \"d203df73-0b25-4748-8cd2-b5bb505910b9\",                        [{\"hovertemplate\":\"Sellers=SellerA<br>Cell phone brand=%{x}<br>Number sales=%{y}<extra></extra>\",\"name\":\"SellerA\",\"type\":\"bar\",\"x\":[\"Apple\",\"Xiaomi\",\"Samsung\"],\"y\":[1,2,3]},{\"hovertemplate\":\"Sellers=SellerB<br>Cell phone brand=%{x}<br>Number sales=%{y}<extra></extra>\",\"name\":\"SellerB\",\"type\":\"bar\",\"x\":[\"Apple\",\"Xiaomi\",\"Samsung\"],\"y\":[3,1,2]}],                        {\"legend\":{\"title\":{\"text\":\"Sellers\"}},\"template\":{\"data\":{\"bar\":[{\"error_x\":{\"color\":\"#2a3f5f\"},\"error_y\":{\"color\":\"#2a3f5f\"},\"marker\":{\"line\":{\"color\":\"#E5ECF6\",\"width\":0.5},\"pattern\":{\"fillmode\":\"overlay\",\"size\":10,\"solidity\":0.2}},\"type\":\"bar\"}],\"barpolar\":[{\"marker\":{\"line\":{\"color\":\"#E5ECF6\",\"width\":0.5},\"pattern\":{\"fillmode\":\"overlay\",\"size\":10,\"solidity\":0.2}},\"type\":\"barpolar\"}],\"carpet\":[{\"aaxis\":{\"endlinecolor\":\"#2a3f5f\",\"gridcolor\":\"white\",\"linecolor\":\"white\",\"minorgridcolor\":\"white\",\"startlinecolor\":\"#2a3f5f\"},\"baxis\":{\"endlinecolor\":\"#2a3f5f\",\"gridcolor\":\"white\",\"linecolor\":\"white\",\"minorgridcolor\":\"white\",\"startlinecolor\":\"#2a3f5f\"},\"type\":\"carpet\"}],\"choropleth\":[{\"colorbar\":{\"outlinewidth\":0,\"ticks\":\"\"},\"type\":\"choropleth\"}],\"contour\":[{\"colorbar\":{\"outlinewidth\":0,\"ticks\":\"\"},\"colorscale\":[[0.0,\"#0d0887\"],[0.1111111111111111,\"#46039f\"],[0.2222222222222222,\"#7201a8\"],[0.3333333333333333,\"#9c179e\"],[0.4444444444444444,\"#bd3786\"],[0.5555555555555556,\"#d8576b\"],[0.6666666666666666,\"#ed7953\"],[0.7777777777777778,\"#fb9f3a\"],[0.8888888888888888,\"#fdca26\"],[1.0,\"#f0f921\"]],\"type\":\"contour\"}],\"contourcarpet\":[{\"colorbar\":{\"outlinewidth\":0,\"ticks\":\"\"},\"type\":\"contourcarpet\"}],\"heatmap\":[{\"colorbar\":{\"outlinewidth\":0,\"ticks\":\"\"},\"colorscale\":[[0.0,\"#0d0887\"],[0.1111111111111111,\"#46039f\"],[0.2222222222222222,\"#7201a8\"],[0.3333333333333333,\"#9c179e\"],[0.4444444444444444,\"#bd3786\"],[0.5555555555555556,\"#d8576b\"],[0.6666666666666666,\"#ed7953\"],[0.7777777777777778,\"#fb9f3a\"],[0.8888888888888888,\"#fdca26\"],[1.0,\"#f0f921\"]],\"type\":\"heatmap\"}],\"heatmapgl\":[{\"colorbar\":{\"outlinewidth\":0,\"ticks\":\"\"},\"colorscale\":[[0.0,\"#0d0887\"],[0.1111111111111111,\"#46039f\"],[0.2222222222222222,\"#7201a8\"],[0.3333333333333333,\"#9c179e\"],[0.4444444444444444,\"#bd3786\"],[0.5555555555555556,\"#d8576b\"],[0.6666666666666666,\"#ed7953\"],[0.7777777777777778,\"#fb9f3a\"],[0.8888888888888888,\"#fdca26\"],[1.0,\"#f0f921\"]],\"type\":\"heatmapgl\"}],\"histogram\":[{\"marker\":{\"pattern\":{\"fillmode\":\"overlay\",\"size\":10,\"solidity\":0.2}},\"type\":\"histogram\"}],\"histogram2d\":[{\"colorbar\":{\"outlinewidth\":0,\"ticks\":\"\"},\"colorscale\":[[0.0,\"#0d0887\"],[0.1111111111111111,\"#46039f\"],[0.2222222222222222,\"#7201a8\"],[0.3333333333333333,\"#9c179e\"],[0.4444444444444444,\"#bd3786\"],[0.5555555555555556,\"#d8576b\"],[0.6666666666666666,\"#ed7953\"],[0.7777777777777778,\"#fb9f3a\"],[0.8888888888888888,\"#fdca26\"],[1.0,\"#f0f921\"]],\"type\":\"histogram2d\"}],\"histogram2dcontour\":[{\"colorbar\":{\"outlinewidth\":0,\"ticks\":\"\"},\"colorscale\":[[0.0,\"#0d0887\"],[0.1111111111111111,\"#46039f\"],[0.2222222222222222,\"#7201a8\"],[0.3333333333333333,\"#9c179e\"],[0.4444444444444444,\"#bd3786\"],[0.5555555555555556,\"#d8576b\"],[0.6666666666666666,\"#ed7953\"],[0.7777777777777778,\"#fb9f3a\"],[0.8888888888888888,\"#fdca26\"],[1.0,\"#f0f921\"]],\"type\":\"histogram2dcontour\"}],\"mesh3d\":[{\"colorbar\":{\"outlinewidth\":0,\"ticks\":\"\"},\"type\":\"mesh3d\"}],\"parcoords\":[{\"line\":{\"colorbar\":{\"outlinewidth\":0,\"ticks\":\"\"}},\"type\":\"parcoords\"}],\"pie\":[{\"automargin\":true,\"type\":\"pie\"}],\"scatter\":[{\"marker\":{\"colorbar\":{\"outlinewidth\":0,\"ticks\":\"\"}},\"type\":\"scatter\"}],\"scatter3d\":[{\"line\":{\"colorbar\":{\"outlinewidth\":0,\"ticks\":\"\"}},\"marker\":{\"colorbar\":{\"outlinewidth\":0,\"ticks\":\"\"}},\"type\":\"scatter3d\"}],\"scattercarpet\":[{\"marker\":{\"colorbar\":{\"outlinewidth\":0,\"ticks\":\"\"}},\"type\":\"scattercarpet\"}],\"scattergeo\":[{\"marker\":{\"colorbar\":{\"outlinewidth\":0,\"ticks\":\"\"}},\"type\":\"scattergeo\"}],\"scattergl\":[{\"marker\":{\"colorbar\":{\"outlinewidth\":0,\"ticks\":\"\"}},\"type\":\"scattergl\"}],\"scattermapbox\":[{\"marker\":{\"colorbar\":{\"outlinewidth\":0,\"ticks\":\"\"}},\"type\":\"scattermapbox\"}],\"scatterpolar\":[{\"marker\":{\"colorbar\":{\"outlinewidth\":0,\"ticks\":\"\"}},\"type\":\"scatterpolar\"}],\"scatterpolargl\":[{\"marker\":{\"colorbar\":{\"outlinewidth\":0,\"ticks\":\"\"}},\"type\":\"scatterpolargl\"}],\"scatterternary\":[{\"marker\":{\"colorbar\":{\"outlinewidth\":0,\"ticks\":\"\"}},\"type\":\"scatterternary\"}],\"surface\":[{\"colorbar\":{\"outlinewidth\":0,\"ticks\":\"\"},\"colorscale\":[[0.0,\"#0d0887\"],[0.1111111111111111,\"#46039f\"],[0.2222222222222222,\"#7201a8\"],[0.3333333333333333,\"#9c179e\"],[0.4444444444444444,\"#bd3786\"],[0.5555555555555556,\"#d8576b\"],[0.6666666666666666,\"#ed7953\"],[0.7777777777777778,\"#fb9f3a\"],[0.8888888888888888,\"#fdca26\"],[1.0,\"#f0f921\"]],\"type\":\"surface\"}],\"table\":[{\"cells\":{\"fill\":{\"color\":\"#EBF0F8\"},\"line\":{\"color\":\"white\"}},\"header\":{\"fill\":{\"color\":\"#C8D4E3\"},\"line\":{\"color\":\"white\"}},\"type\":\"table\"}]},\"layout\":{\"annotationdefaults\":{\"arrowcolor\":\"#2a3f5f\",\"arrowhead\":0,\"arrowwidth\":1},\"autotypenumbers\":\"strict\",\"coloraxis\":{\"colorbar\":{\"outlinewidth\":0,\"ticks\":\"\"}},\"colorscale\":{\"diverging\":[[0,\"#8e0152\"],[0.1,\"#c51b7d\"],[0.2,\"#de77ae\"],[0.3,\"#f1b6da\"],[0.4,\"#fde0ef\"],[0.5,\"#f7f7f7\"],[0.6,\"#e6f5d0\"],[0.7,\"#b8e186\"],[0.8,\"#7fbc41\"],[0.9,\"#4d9221\"],[1,\"#276419\"]],\"sequential\":[[0.0,\"#0d0887\"],[0.1111111111111111,\"#46039f\"],[0.2222222222222222,\"#7201a8\"],[0.3333333333333333,\"#9c179e\"],[0.4444444444444444,\"#bd3786\"],[0.5555555555555556,\"#d8576b\"],[0.6666666666666666,\"#ed7953\"],[0.7777777777777778,\"#fb9f3a\"],[0.8888888888888888,\"#fdca26\"],[1.0,\"#f0f921\"]],\"sequentialminus\":[[0.0,\"#0d0887\"],[0.1111111111111111,\"#46039f\"],[0.2222222222222222,\"#7201a8\"],[0.3333333333333333,\"#9c179e\"],[0.4444444444444444,\"#bd3786\"],[0.5555555555555556,\"#d8576b\"],[0.6666666666666666,\"#ed7953\"],[0.7777777777777778,\"#fb9f3a\"],[0.8888888888888888,\"#fdca26\"],[1.0,\"#f0f921\"]]},\"colorway\":[\"#636efa\",\"#EF553B\",\"#00cc96\",\"#ab63fa\",\"#FFA15A\",\"#19d3f3\",\"#FF6692\",\"#B6E880\",\"#FF97FF\",\"#FECB52\"],\"font\":{\"color\":\"#2a3f5f\"},\"geo\":{\"bgcolor\":\"white\",\"lakecolor\":\"white\",\"landcolor\":\"#E5ECF6\",\"showlakes\":true,\"showland\":true,\"subunitcolor\":\"white\"},\"hoverlabel\":{\"align\":\"left\"},\"hovermode\":\"closest\",\"mapbox\":{\"style\":\"light\"},\"paper_bgcolor\":\"white\",\"plot_bgcolor\":\"#E5ECF6\",\"polar\":{\"angularaxis\":{\"gridcolor\":\"white\",\"linecolor\":\"white\",\"ticks\":\"\"},\"bgcolor\":\"#E5ECF6\",\"radialaxis\":{\"gridcolor\":\"white\",\"linecolor\":\"white\",\"ticks\":\"\"}},\"scene\":{\"xaxis\":{\"backgroundcolor\":\"#E5ECF6\",\"gridcolor\":\"white\",\"gridwidth\":2,\"linecolor\":\"white\",\"showbackground\":true,\"ticks\":\"\",\"zerolinecolor\":\"white\"},\"yaxis\":{\"backgroundcolor\":\"#E5ECF6\",\"gridcolor\":\"white\",\"gridwidth\":2,\"linecolor\":\"white\",\"showbackground\":true,\"ticks\":\"\",\"zerolinecolor\":\"white\"},\"zaxis\":{\"backgroundcolor\":\"#E5ECF6\",\"gridcolor\":\"white\",\"gridwidth\":2,\"linecolor\":\"white\",\"showbackground\":true,\"ticks\":\"\",\"zerolinecolor\":\"white\"}},\"shapedefaults\":{\"line\":{\"color\":\"#2a3f5f\"}},\"ternary\":{\"aaxis\":{\"gridcolor\":\"white\",\"linecolor\":\"white\",\"ticks\":\"\"},\"baxis\":{\"gridcolor\":\"white\",\"linecolor\":\"white\",\"ticks\":\"\"},\"bgcolor\":\"#E5ECF6\",\"caxis\":{\"gridcolor\":\"white\",\"linecolor\":\"white\",\"ticks\":\"\"}},\"title\":{\"x\":0.05},\"xaxis\":{\"automargin\":true,\"gridcolor\":\"white\",\"linecolor\":\"white\",\"ticks\":\"\",\"title\":{\"standoff\":15},\"zerolinecolor\":\"white\",\"zerolinewidth\":2},\"yaxis\":{\"automargin\":true,\"gridcolor\":\"white\",\"linecolor\":\"white\",\"ticks\":\"\",\"title\":{\"standoff\":15},\"zerolinecolor\":\"white\",\"zerolinewidth\":2}}},\"xaxis\":{\"title\":{\"text\":\"Cell phone brand\"}},\"yaxis\":{\"title\":{\"text\":\"Number sales\"}}},                        {\"responsive\": true}                    ).then(function(){\n",
              "                            \n",
              "var gd = document.getElementById('d203df73-0b25-4748-8cd2-b5bb505910b9');\n",
              "var x = new MutationObserver(function (mutations, observer) {{\n",
              "        var display = window.getComputedStyle(gd).display;\n",
              "        if (!display || display === 'none') {{\n",
              "            console.log([gd, 'removed!']);\n",
              "            Plotly.purge(gd);\n",
              "            observer.disconnect();\n",
              "        }}\n",
              "}});\n",
              "\n",
              "// Listen for the removal of the full notebook cells\n",
              "var notebookContainer = gd.closest('#notebook-container');\n",
              "if (notebookContainer) {{\n",
              "    x.observe(notebookContainer, {childList: true});\n",
              "}}\n",
              "\n",
              "// Listen for the clearing of the current output cell\n",
              "var outputEl = gd.closest('.output');\n",
              "if (outputEl) {{\n",
              "    x.observe(outputEl, {childList: true});\n",
              "}}\n",
              "\n",
              "                        })                };                            </script>        </div>\n",
              "</body>\n",
              "</html>"
            ]
          },
          "metadata": {}
        }
      ]
    },
    {
      "cell_type": "markdown",
      "metadata": {
        "id": "KdaokVdc-bGE"
      },
      "source": [
        "# Graficas interactivas\n",
        "\n",
        "- Este tipo de gráficos permiten enlazar alguna interfaz con la gráfica que se desea hacer interactiva, mediante el [decorador](https://www.geeksforgeeks.org/decorators-in-python/) `@app.callback`.\n",
        "\n",
        "- Algunos links relacionados se presentan a continuación:\n",
        "\n",
        "https://dash.plotly.com/basic-callbacks\n",
        "\n",
        "https://plotly.com/python/statistical-charts/\n",
        "\n",
        "https://dash.plotly.com/interactive-graphing"
      ]
    },
    {
      "cell_type": "markdown",
      "metadata": {
        "id": "e1GVqr1W0drZ"
      },
      "source": [
        "# Instalar componetes para ver el Dash de forma remota en Colab\n",
        "\n"
      ]
    },
    {
      "cell_type": "markdown",
      "metadata": {
        "id": "WxBvQ1ipTtr4"
      },
      "source": [
        "- La linea `pip install pyngrok` permite intalar una api de ngrok en Python. \n",
        "\n",
        "- ngrok es una herramienta de proxy inverso que abre túneles seguros desde URL públicas a localhost, perfecta para exponer servidores web locales, habilitar el acceso SSH, probar chatbots, hacer demostraciones desde su propia máquina y más.\n",
        "\n",
        "- Además, permite una integración nativa de Python a través de [pyngrok](https://pypi.org/project/pyngrok/)."
      ]
    },
    {
      "cell_type": "code",
      "metadata": {
        "colab": {
          "base_uri": "https://localhost:8080/"
        },
        "id": "_vUdMXL13V_u",
        "outputId": "1d08231e-13c9-4c25-b0e0-140e9d97a224"
      },
      "source": [
        "!pip install pyngrok"
      ],
      "execution_count": 22,
      "outputs": [
        {
          "output_type": "stream",
          "name": "stdout",
          "text": [
            "Requirement already satisfied: pyngrok in /usr/local/lib/python3.7/dist-packages (5.1.0)\n",
            "Requirement already satisfied: PyYAML in /usr/local/lib/python3.7/dist-packages (from pyngrok) (3.13)\n"
          ]
        }
      ]
    },
    {
      "cell_type": "markdown",
      "metadata": {
        "id": "to7oxUQ54oEO"
      },
      "source": [
        "# Configurar Nkrok"
      ]
    },
    {
      "cell_type": "markdown",
      "metadata": {
        "id": "d4ay8pTjQyo-"
      },
      "source": [
        "Se descarga una versión estable de ngrok para el sistema linux usado en Colab."
      ]
    },
    {
      "cell_type": "code",
      "metadata": {
        "id": "ImOI61hY4q-m",
        "colab": {
          "base_uri": "https://localhost:8080/"
        },
        "outputId": "9fa1fc4f-3c7b-43f2-eb5d-91b72f8501f8"
      },
      "source": [
        "#download ngrok first\n",
        "!wget https://bin.equinox.io/c/4VmDzA7iaHb/ngrok-stable-linux-amd64.zip -q\n",
        "!unzip -q ngrok-stable-linux-amd64.zip"
      ],
      "execution_count": 23,
      "outputs": [
        {
          "output_type": "stream",
          "name": "stdout",
          "text": [
            "replace ngrok? [y]es, [n]o, [A]ll, [N]one, [r]ename: A\n"
          ]
        }
      ]
    },
    {
      "cell_type": "markdown",
      "metadata": {
        "id": "M3GaOy3j4yBG"
      },
      "source": [
        "- Creación del tunel `http` al local host.\n"
      ]
    },
    {
      "cell_type": "code",
      "metadata": {
        "id": "6uf9fDQiOu7s",
        "colab": {
          "base_uri": "https://localhost:8080/",
          "height": 35
        },
        "outputId": "4a62d365-9e5e-4e20-ae7c-8ffc91435599"
      },
      "source": [
        "import requests\n",
        "get_ipython().system_raw(\"./ngrok http 8050 &\")\n",
        "# check public url\n",
        "import time\n",
        "\n",
        "time.sleep(3)\n",
        "r = requests.get(\"http://localhost:4040/api/tunnels\")\n",
        "url = r.json()[\"tunnels\"][0][\"public_url\"]\n",
        "url"
      ],
      "execution_count": 24,
      "outputs": [
        {
          "output_type": "execute_result",
          "data": {
            "application/vnd.google.colaboratory.intrinsic+json": {
              "type": "string"
            },
            "text/plain": [
              "'https://9fc1-35-230-122-29.ngrok.io'"
            ]
          },
          "metadata": {},
          "execution_count": 24
        }
      ]
    },
    {
      "cell_type": "markdown",
      "metadata": {
        "id": "wP1IALuO41Ku"
      },
      "source": [
        "# Mostrar en Dash"
      ]
    },
    {
      "cell_type": "markdown",
      "metadata": {
        "id": "ev90ZvXbnELb"
      },
      "source": [
        "- Para la creación de este Dashboard se usaron los elemtos mencionados anteriormente, adicionando en las secciones html el comando Children, el html.br y style.\n",
        "\n",
        "- Además, se incluyen algunos ejemplos de gráficas interactivas."
      ]
    },
    {
      "cell_type": "code",
      "metadata": {
        "colab": {
          "base_uri": "https://localhost:8080/",
          "height": 670
        },
        "id": "-GfFZVzH3T2y",
        "outputId": "560737af-f03e-4bd0-fff0-a21388eb7639"
      },
      "source": [
        "from jupyter_dash import JupyterDash  # pip install dash\n",
        "import dash\n",
        "import dash_html_components as html\n",
        "import dash_core_components as dcc\n",
        "from dash.dependencies import Output, Input\n",
        "import plotly.express as px\n",
        "import plotly.graph_objects as go\n",
        "from dash import no_update\n",
        "import pandas as pd  # \n",
        "\n",
        "external_stylesheets = [\"https://codepen.io/chriddyp/pen/bWLwgP.css\"]\n",
        "\n",
        "df = px.data.iris()  # Base de datos iris obtenida desde plotly.espress\n",
        "\n",
        "app = JupyterDash(\n",
        "    __name__, external_stylesheets=external_stylesheets\n",
        ")  # Crear objeto JupyterDash para visualización en el entorno\n",
        "# Crear un layout para contener el texto y gráficas.\n",
        "# Crea Div para separar secciones, no tiene ningún efecto sobre el contenido o el diseño hasta que se le aplica estilo usando CSS.\n",
        "app.layout = html.Div(\n",
        "    children=[\n",
        "        html.H1(\n",
        "            children=\"Hello Word of Dash\",\n",
        "            style={\n",
        "                \"textAlign\": \"center\",\n",
        "                \"color\": \"#0D6080\",\n",
        "            },  # La función style nos permite personalizar la estética del documento\n",
        "        ),  # Creación del título(Encabezado)\n",
        "        html.P(\n",
        "            children=[\n",
        "                \"\"\"\n",
        "                            Algún texto del párrafo....\n",
        "\n",
        "                \"\"\"\n",
        "            ],\n",
        "            style={\"textAlign\": \"center\", \"color\": \"#004D38\"},\n",
        "        ),  # Creacion Parrafo\n",
        "        dcc.Markdown(\n",
        "            children=[\n",
        "                            \"\"\"\n",
        "                             Este dashboard presenta las gráficas básicas en Dash sobre la base de datos iris\n",
        "                            \"\"\"\n",
        "            ],\n",
        "            style={\"textAlign\": \"center\", \"color\": \"#000000\"},\n",
        "        ),  # Implementación de texto con Markdown\n",
        "        html.Div(\n",
        "            [\n",
        "                html.H2(\n",
        "                    children=\"Gráficas con funciones (plotly.graph_objects)\",  # Crear subtitulo(los encabezados reduciran su tamaño al aumentar el numero al lado del H)\n",
        "                    style={\n",
        "                        \"textAlign\": \"center\",\n",
        "                        \"color\": \"#0D6080\",\n",
        "                    },  # La función style nos permite personalizar la estética del documento\n",
        "                ),  # Creación del título (Encabezado)\n",
        "                html.P(\n",
        "                    children=[\n",
        "                        \"Ejemplos de Gráficas:.\",\n",
        "                        html.Br(),\n",
        "                        html.A(\n",
        "                            \"https://plotly.com/python/graph-objects/\",\n",
        "                            href=\"https://plotly.com/python/graph-objects/\",\n",
        "                        ),\n",
        "                    ],\n",
        "                    style={\"textAlign\": \"center\", \"color\": \"#000000\"},\n",
        "                ),  # Creación Párrafo\n",
        "                dcc.Graph(  # Sección Grafica\n",
        "                    id=\"example-graph\",  # id Gráfica\n",
        "                    figure=go.Figure(data=[  # Gráfica barras tipo Go\n",
        "                          go.Bar(x=df.index, y=df.sepal_width, name='sepal_width'), \n",
        "                          go.Bar(x=df.index, y=df.sepal_length, name='sepal_length')], \n",
        "                          layout=go.Layout(title=\"Bar diagram with go\")),\n",
        "                ),\n",
        "                dcc.Graph(  # Sección Gráfica\n",
        "                    id=\"example-graph-boxplot\",  # id Gráfica\n",
        "                    figure=go.Figure(data=[  # Gráfica barras tipo Go\n",
        "                          go.Box(y=df.sepal_width, name='sepal_width'), \n",
        "                          go.Box(y=df.sepal_length, name='sepal_length')], \n",
        "                          layout=go.Layout(title=\"Boxplot with go\")),\n",
        "                ),\n",
        "                dcc.Graph(  # Seccion Grafica\n",
        "                    id=\"example-graph-histogram\",  # id Grafica\n",
        "                    figure=go.Figure(data=[  # Grafica barras tipo Go\n",
        "                          go.Histogram(x=df.sepal_width)], \n",
        "                          layout=go.Layout(title=\"Histogram with go\")),\n",
        "                ),\n",
        "                html.H2(\n",
        "                    children=\"Graficas con funciones(plotly.express)\",\n",
        "                    style={\n",
        "                        \"textAlign\": \"center\",\n",
        "                        \"color\": \"#0D6080\",\n",
        "                    },  # La función style nos permite personalizar la estetica del documento\n",
        "                ),  # Creción del título(Encabezado)\n",
        "                html.P(\n",
        "                    children=[\n",
        "                        \"Ejemplos Graficas:.\",\n",
        "                        html.Br(),\n",
        "                        html.A(\n",
        "                            \"https://plotly.com/python/plotly-express/\",\n",
        "                            href=\"https://plotly.com/python/plotly-express/\",\n",
        "                        ),\n",
        "                    ],\n",
        "                    style={\"textAlign\": \"center\", \"color\": \"#000000\"},\n",
        "                ),  # Creacion Parrafo\n",
        "                dcc.Graph(  # Seccion Grafica\n",
        "                    id=\"example-graph-px\",  # id Grafica\n",
        "                    config={\n",
        "                        \"displayModeBar\": False\n",
        "                    },  # Opciones de configuración de Plotly.js.(config es un dictado con claves)\n",
        "                    # displayModeBar muestra la barra de modo (True, False o 'hover').\n",
        "                    animate=True,  # Activa Funcion animada de ploty\n",
        "                    figure=px.bar(\n",
        "                        df,\n",
        "                        x=df.index,\n",
        "                        y=\"sepal_width\",\n",
        "                        color=df.species,\n",
        "                        title=\"Bar diagram with px\",\n",
        "                    ),  # Grafica Barras con Funciones\n",
        "                ),\n",
        "                dcc.Graph(  # Seccion Grafica\n",
        "                    id=\"example-graph-boxplot-px\",  # id Grafica\n",
        "                    config={\n",
        "                        \"displayModeBar\": False\n",
        "                    },  # Opciones de configuración de Plotly.js.(config es un dictado con claves)\n",
        "                    # displayModeBar muestra la barra de modo (True, False o 'hover').\n",
        "                    animate=True,  # Activa Funcion animada de ploty\n",
        "                    figure=px.box(\n",
        "                        df, y=\"sepal_width\", color=df.species, title=\"Boxplot with px\"\n",
        "                    ),  # Boxplot con Funciones\n",
        "                ),\n",
        "                dcc.Graph(  # Seccion Grafica\n",
        "                    id=\"example-graph-histogram-px\",  # id Grafica\n",
        "                    config={\n",
        "                        \"displayModeBar\": False\n",
        "                    },  # Opciones de configuración de Plotly.js.(config es un dictado con claves)\n",
        "                    # displayModeBar muestra la barra de modo (True, False o 'hover').\n",
        "                    animate=True,  # Activa Funcion animada de ploty\n",
        "                    figure=px.histogram(\n",
        "                        df, x=\"sepal_length\", y=\"sepal_width\", title=\"Histogram with px\"\n",
        "                    ),  # Histograma con Funciones\n",
        "                ),\n",
        "            ],\n",
        "            style={\"columnCount\": 2},\n",
        "        ),  # Estilo 2 columnas\n",
        "        html.Div(\n",
        "            [\n",
        "                html.H2(\n",
        "                    children=\"Graficas más elaboradas\",\n",
        "                    style={\n",
        "                        \"textAlign\": \"center\",\n",
        "                        \"color\": \"#0D6080\",\n",
        "                    },  # La funcion style nos permite personalizar la estetica del documento\n",
        "                ),  # Crecion del titulo(Encabezado)\n",
        "                html.P(\n",
        "                    children=[\n",
        "                        \"La ventaja de usar funciones es que se pueden crear graficas mas complejas con poco codigo como las siguientes\",\n",
        "                        html.Br(),\n",
        "                        \"en las cuales vemos gran cantidad de datos y estas permiten una implemtacion facil y rapida de los Callback.\",\n",
        "                        html.Br(),\n",
        "                        html.A(\n",
        "                            \"https://plotly.com/python/\",\n",
        "                            href=\"https://plotly.com/python/\",\n",
        "                        ),\n",
        "                        html.Br(),\n",
        "                        html.A(\n",
        "                            \"https://plotly.com/python/statistical-charts/\",\n",
        "                            href=\"https://plotly.com/python/statistical-charts/\",\n",
        "                        ),\n",
        "                        html.Br(),\n",
        "                        html.A(\n",
        "                            \"https://plotly.com/python/ai-ml/\",\n",
        "                            href=\"https://plotly.com/python/ai-ml/\",\n",
        "                        ),\n",
        "                    ],\n",
        "                    style={\"textAlign\": \"center\", \"color\": \"#000000\"},\n",
        "                ),  # Creacion Parrafo\n",
        "                dcc.Graph(  # Seccion Grafica\n",
        "                    id=\"example-graph-multyscatter-px\",  # id Grafica\n",
        "                    config={\n",
        "                        \"displayModeBar\": False\n",
        "                    },  # Opciones de configuración de Plotly.js.(config es un dictado con claves)\n",
        "                    # displayModeBar muestra la barra de modo (True, False o 'hover').\n",
        "                    animate=True,  # Activa Funcion animada de ploty\n",
        "                    figure=px.scatter_matrix(\n",
        "                        df,\n",
        "                        dimensions=[\n",
        "                            \"sepal_width\",\n",
        "                            \"sepal_length\",\n",
        "                            \"petal_width\",\n",
        "                            \"petal_length\",\n",
        "                        ],\n",
        "                        color=\"species\",\n",
        "                        title=\"scatteplot with px\",\n",
        "                    ),  # Grafica matriz scater plot\n",
        "                ),\n",
        "                dcc.Graph(  # Seccion Grafica\n",
        "                    id=\"example-graph-histmarginal-px\",  # id Grafica\n",
        "                    config={\n",
        "                        \"displayModeBar\": False\n",
        "                    },  # Opciones de configuración de Plotly.js.(config es un dictado con claves)\n",
        "                    # displayModeBar muestra la barra de modo (True, False o 'hover').\n",
        "                    animate=True,  # Activa Funcion animada de ploty\n",
        "                    figure=px.histogram(\n",
        "                        df,\n",
        "                        x=\"sepal_length\",\n",
        "                        y=\"sepal_width\",\n",
        "                        color=\"species\",\n",
        "                        marginal=\"box\",\n",
        "                        title=\"Scatterplot with marginal graf x, y in px\",\n",
        "                    ),  # Historagama con grafica marginal boxplot\n",
        "                ),\n",
        "                html.H3(\n",
        "                    children=\"Graficas interactivas(Callback)\",\n",
        "                    style={\n",
        "                        \"textAlign\": \"center\",\n",
        "                        \"color\": \"#0D6080\",\n",
        "                    },  # La funcion style nos permite personalizar la estetica del documento\n",
        "                ),  # Crecion del titulo(Encabezado)\n",
        "                dcc.Dropdown(\n",
        "                    id=\"dropdown\",  # id Multi-Select Dropdown\n",
        "                    options=[{\"label\": x, \"value\": x} for x in [\"sepal_width\", \"sepal_length\", \"petal_width\", \"petal_length\"]],\n",
        "                    value=[\"sepal_width\", \"sepal_length\"],\n",
        "                    multi=True,\n",
        "                ),\n",
        "                dcc.Graph(id=\"splom\"),  # id Grafica\n",
        "                dcc.Graph(id=\"graph\"),  # id Grafica\n",
        "                html.P(\"Select Distribution:\"),\n",
        "                dcc.RadioItems(\n",
        "                    id=\"dist-marginal\",  # id Checkboxes\n",
        "                    options=[\n",
        "                        {\"label\": x, \"value\": x} for x in [\"box\", \"rug\", \"violin\"]\n",
        "                    ],\n",
        "                    value=\"box\",\n",
        "                ),\n",
        "            ],\n",
        "            style={\"columnCount\": 2},\n",
        "        ),  # Estilo 2 columnas\n",
        "    ]\n",
        ")\n",
        "\n",
        "@app.callback(Output(\"splom\", \"figure\"), [Input(\"dropdown\", \"value\")])  # id Grafica\n",
        "def update_bar_chart(dims):\n",
        "    fig = px.scatter_matrix(df, dimensions=dims, color=\"species\")\n",
        "    return fig\n",
        "\n",
        "@app.callback(\n",
        "    Output(\"graph\", \"figure\"), [Input(\"dist-marginal\", \"value\")]  # id Grafica\n",
        ")\n",
        "def display_graph(marginal):\n",
        "    fig = px.histogram(\n",
        "        df,\n",
        "        x=\"sepal_length\",\n",
        "        y=\"sepal_width\",\n",
        "        color=\"species\",\n",
        "        marginal=marginal,\n",
        "        hover_data=df.columns,\n",
        "    )\n",
        "    return fig\n",
        "\n",
        "app.run_server(mode=\"inline\", port=8050)\n",
        "\n",
        "# 636EFB violeta graf \n",
        "# EF553B naranja graf\n",
        "# 00CD95 verde graf\n",
        "# 004D38 Verde cool\n"
      ],
      "execution_count": 25,
      "outputs": [
        {
          "output_type": "display_data",
          "data": {
            "application/javascript": [
              "(async (port, path, width, height, cache, element) => {\n",
              "    if (!google.colab.kernel.accessAllowed && !cache) {\n",
              "      return;\n",
              "    }\n",
              "    element.appendChild(document.createTextNode(''));\n",
              "    const url = await google.colab.kernel.proxyPort(port, {cache});\n",
              "    const iframe = document.createElement('iframe');\n",
              "    iframe.src = new URL(path, url).toString();\n",
              "    iframe.height = height;\n",
              "    iframe.width = width;\n",
              "    iframe.style.border = 0;\n",
              "    element.appendChild(iframe);\n",
              "  })(8050, \"/\", \"100%\", 650, false, window.element)"
            ],
            "text/plain": [
              "<IPython.core.display.Javascript object>"
            ]
          },
          "metadata": {}
        }
      ]
    },
    {
      "cell_type": "code",
      "metadata": {
        "colab": {
          "base_uri": "https://localhost:8080/",
          "height": 202
        },
        "id": "7OmxtkS20HLJ",
        "outputId": "72a68a83-65dd-4260-e3c1-32c87a5e00cf"
      },
      "source": [
        "df.head() #df esta en formato dataframe de pandas"
      ],
      "execution_count": 26,
      "outputs": [
        {
          "output_type": "execute_result",
          "data": {
            "text/html": [
              "<div>\n",
              "<style scoped>\n",
              "    .dataframe tbody tr th:only-of-type {\n",
              "        vertical-align: middle;\n",
              "    }\n",
              "\n",
              "    .dataframe tbody tr th {\n",
              "        vertical-align: top;\n",
              "    }\n",
              "\n",
              "    .dataframe thead th {\n",
              "        text-align: right;\n",
              "    }\n",
              "</style>\n",
              "<table border=\"1\" class=\"dataframe\">\n",
              "  <thead>\n",
              "    <tr style=\"text-align: right;\">\n",
              "      <th></th>\n",
              "      <th>sepal_length</th>\n",
              "      <th>sepal_width</th>\n",
              "      <th>petal_length</th>\n",
              "      <th>petal_width</th>\n",
              "      <th>species</th>\n",
              "      <th>species_id</th>\n",
              "    </tr>\n",
              "  </thead>\n",
              "  <tbody>\n",
              "    <tr>\n",
              "      <th>0</th>\n",
              "      <td>5.1</td>\n",
              "      <td>3.5</td>\n",
              "      <td>1.4</td>\n",
              "      <td>0.2</td>\n",
              "      <td>setosa</td>\n",
              "      <td>1</td>\n",
              "    </tr>\n",
              "    <tr>\n",
              "      <th>1</th>\n",
              "      <td>4.9</td>\n",
              "      <td>3.0</td>\n",
              "      <td>1.4</td>\n",
              "      <td>0.2</td>\n",
              "      <td>setosa</td>\n",
              "      <td>1</td>\n",
              "    </tr>\n",
              "    <tr>\n",
              "      <th>2</th>\n",
              "      <td>4.7</td>\n",
              "      <td>3.2</td>\n",
              "      <td>1.3</td>\n",
              "      <td>0.2</td>\n",
              "      <td>setosa</td>\n",
              "      <td>1</td>\n",
              "    </tr>\n",
              "    <tr>\n",
              "      <th>3</th>\n",
              "      <td>4.6</td>\n",
              "      <td>3.1</td>\n",
              "      <td>1.5</td>\n",
              "      <td>0.2</td>\n",
              "      <td>setosa</td>\n",
              "      <td>1</td>\n",
              "    </tr>\n",
              "    <tr>\n",
              "      <th>4</th>\n",
              "      <td>5.0</td>\n",
              "      <td>3.6</td>\n",
              "      <td>1.4</td>\n",
              "      <td>0.2</td>\n",
              "      <td>setosa</td>\n",
              "      <td>1</td>\n",
              "    </tr>\n",
              "  </tbody>\n",
              "</table>\n",
              "</div>"
            ],
            "text/plain": [
              "   sepal_length  sepal_width  petal_length  petal_width species  species_id\n",
              "0           5.1          3.5           1.4          0.2  setosa           1\n",
              "1           4.9          3.0           1.4          0.2  setosa           1\n",
              "2           4.7          3.2           1.3          0.2  setosa           1\n",
              "3           4.6          3.1           1.5          0.2  setosa           1\n",
              "4           5.0          3.6           1.4          0.2  setosa           1"
            ]
          },
          "metadata": {},
          "execution_count": 26
        }
      ]
    },
    {
      "cell_type": "markdown",
      "metadata": {
        "id": "O1cJ5KlXPdU0"
      },
      "source": [
        "## Para ver como página web se accede al link creado por requests y ngrok\n",
        "\n",
        "**Nota**: Algunos navegadores bloquearán el acceso por seguridad, debe habilitar la pestaña detalles para acceder."
      ]
    },
    {
      "cell_type": "code",
      "metadata": {
        "id": "0hEHb8sZ-Bab",
        "colab": {
          "base_uri": "https://localhost:8080/",
          "height": 35
        },
        "outputId": "6915f640-88f2-42c7-b44c-4571eea735fa"
      },
      "source": [
        "url"
      ],
      "execution_count": 27,
      "outputs": [
        {
          "output_type": "execute_result",
          "data": {
            "application/vnd.google.colaboratory.intrinsic+json": {
              "type": "string"
            },
            "text/plain": [
              "'https://9fc1-35-230-122-29.ngrok.io'"
            ]
          },
          "metadata": {},
          "execution_count": 27
        }
      ]
    },
    {
      "cell_type": "code",
      "metadata": {
        "id": "Q1oP3WYSspsc"
      },
      "source": [
        ""
      ],
      "execution_count": 12,
      "outputs": []
    }
  ]
}