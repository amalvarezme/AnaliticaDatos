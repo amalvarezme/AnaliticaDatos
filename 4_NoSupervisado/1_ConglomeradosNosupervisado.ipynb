{
  "nbformat": 4,
  "nbformat_minor": 0,
  "metadata": {
    "kernelspec": {
      "display_name": "Python 3",
      "language": "python",
      "name": "python3"
    },
    "language_info": {
      "codemirror_mode": {
        "name": "ipython",
        "version": 3
      },
      "file_extension": ".py",
      "mimetype": "text/x-python",
      "name": "python",
      "nbconvert_exporter": "python",
      "pygments_lexer": "ipython3",
      "version": "3.7.3"
    },
    "colab": {
      "name": "Unsupervised learning.ipynb",
      "provenance": [],
      "include_colab_link": true
    }
  },
  "cells": [
    {
      "cell_type": "markdown",
      "metadata": {
        "id": "view-in-github",
        "colab_type": "text"
      },
      "source": [
        "<a href=\"https://colab.research.google.com/github/amalvarezme/AnaliticaDatos/blob/master/4_NoSupervisado/1_ConglomeradosNosupervisado.ipynb\" target=\"_parent\"><img src=\"https://colab.research.google.com/assets/colab-badge.svg\" alt=\"Open In Colab\"/></a>"
      ]
    },
    {
      "cell_type": "markdown",
      "metadata": {
        "id": "tOEi-UCuPS6f"
      },
      "source": [
        "# Aprendizaje no supervisado"
      ]
    },
    {
      "cell_type": "markdown",
      "metadata": {
        "id": "GubJyT-tPS6g"
      },
      "source": [
        "## Conglomerados (Clustering)"
      ]
    },
    {
      "cell_type": "markdown",
      "metadata": {
        "id": "g4zb50KnPS6h"
      },
      "source": [
        "**Ejemplo:** Consideremos el conjunto de datos *iris dataset*, donde la especie de cada instancia (es decir, su clase) se representa con un marcador diferente:"
      ]
    },
    {
      "cell_type": "code",
      "metadata": {
        "id": "XPGbOYccPS6j",
        "colab": {
          "base_uri": "https://localhost:8080/"
        },
        "outputId": "8d3c4053-2b58-4601-cd47-be602276976e"
      },
      "source": [
        "from sklearn.datasets import load_iris\n",
        "import matplotlib.pyplot as plt\n",
        "import numpy as np\n",
        "\n",
        "np.random.seed(123)\n",
        "\n",
        "data = load_iris()\n",
        "X    = data.data\n",
        "y    = data.target\n",
        "data.target_names"
      ],
      "execution_count": 18,
      "outputs": [
        {
          "output_type": "execute_result",
          "data": {
            "text/plain": [
              "array(['setosa', 'versicolor', 'virginica'], dtype='<U10')"
            ]
          },
          "metadata": {},
          "execution_count": 18
        }
      ]
    },
    {
      "cell_type": "code",
      "metadata": {
        "id": "MuIDqS6hPS6s",
        "colab": {
          "base_uri": "https://localhost:8080/",
          "height": 256
        },
        "outputId": "fd9bb12c-b785-4396-eaf6-36a094a15e7d"
      },
      "source": [
        "plt.figure(figsize=(9, 3.5))\n",
        "\n",
        "plt.subplot(121)\n",
        "plt.plot(X[y==0, 2], X[y==0, 3], \"yo\", label=\"Iris setosa\")\n",
        "plt.plot(X[y==1, 2], X[y==1, 3], \"bs\", label=\"Iris versicolor\")\n",
        "plt.plot(X[y==2, 2], X[y==2, 3], \"g^\", label=\"Iris virginica\")\n",
        "plt.xlabel(\"Petal length\", fontsize=14)\n",
        "plt.ylabel(\"Petal width\", fontsize=14)\n",
        "plt.legend(fontsize=12)\n",
        "\n",
        "plt.subplot(122)\n",
        "plt.scatter(X[:, 2], X[:, 3], c=\"k\", marker=\".\")\n",
        "plt.xlabel(\"Petal length\", fontsize=14)\n",
        "plt.tick_params(labelleft=False)\n",
        "\n",
        "#save_fig(\"classification_vs_clustering_plot\")\n",
        "plt.show()"
      ],
      "execution_count": 19,
      "outputs": [
        {
          "output_type": "display_data",
          "data": {
            "image/png": "[encoded data removed]",
            "text/plain": [
              "<Figure size 648x252 with 2 Axes>"
            ]
          },
          "metadata": {
            "needs_background": "light"
          }
        }
      ]
    },
    {
      "cell_type": "markdown",
      "metadata": {
        "id": "hbG7Z5jzPS6w"
      },
      "source": [
        "- **Figura de la izquierda:** Es un conjunto de datos etiquetado, para el cual los algoritmos de clasificación como Regresión logística, SVM o clasificadores de bosque aleatorio son muy adecuados.\n",
        "- **Figura de la derecha:** Tenemos el mismo conjunto de datos, pero sin las etiquetas, por lo que ya no puede usar un algoritmo de clasificación.\n",
        "\n",
        "- Los algoritmos de conglomerados (clustering) buscan extraer grupos homogeneos de datos usando solo las características de entrada."
      ]
    },
    {
      "cell_type": "code",
      "metadata": {
        "id": "OPPi95aRPS6x"
      },
      "source": [
        "import numpy as np\n",
        "from sklearn.mixture import GaussianMixture\n",
        "\n",
        "y_pred  = GaussianMixture(n_components=3, random_state=42).fit(X).predict(X)\n",
        "mapping = np.array([2, 0, 1])\n",
        "y_pred  = np.array([mapping[cluster_id] for cluster_id in y_pred])"
      ],
      "execution_count": 20,
      "outputs": []
    },
    {
      "cell_type": "code",
      "metadata": {
        "id": "XjTftOiMPS61",
        "colab": {
          "base_uri": "https://localhost:8080/",
          "height": 283
        },
        "outputId": "a8acdb4a-4f5f-48b7-866f-1e3e4ac6aae6"
      },
      "source": [
        "plt.plot(X[y_pred==0, 2], X[y_pred==0, 3], \"yo\", label=\"Cluster 1\")\n",
        "plt.plot(X[y_pred==1, 2], X[y_pred==1, 3], \"bs\", label=\"Cluster 2\")\n",
        "plt.plot(X[y_pred==2, 2], X[y_pred==2, 3], \"g^\", label=\"Cluster 3\")\n",
        "plt.xlabel(\"Petal length\", fontsize=14)\n",
        "plt.ylabel(\"Petal width\", fontsize=14)\n",
        "plt.legend(loc=\"upper left\", fontsize=12)\n",
        "plt.show()"
      ],
      "execution_count": 4,
      "outputs": [
        {
          "output_type": "display_data",
          "data": {
            "image/png": "[encoded data removed]",
            "text/plain": [
              "<Figure size 432x288 with 1 Axes>"
            ]
          },
          "metadata": {
            "needs_background": "light"
          }
        }
      ]
    },
    {
      "cell_type": "code",
      "metadata": {
        "id": "vtzDg8YIPS64",
        "colab": {
          "base_uri": "https://localhost:8080/"
        },
        "outputId": "c240669b-4816-424c-cf6f-6da641356b2a"
      },
      "source": [
        "np.sum(y_pred==y)"
      ],
      "execution_count": 21,
      "outputs": [
        {
          "output_type": "execute_result",
          "data": {
            "text/plain": [
              "0"
            ]
          },
          "metadata": {},
          "execution_count": 21
        }
      ]
    },
    {
      "cell_type": "code",
      "metadata": {
        "id": "coitVM7VPS67",
        "colab": {
          "base_uri": "https://localhost:8080/"
        },
        "outputId": "f76c8a5b-4022-4c51-a33b-7d3e4f8edd7b"
      },
      "source": [
        "np.sum(y_pred==y) / len(y_pred)"
      ],
      "execution_count": 22,
      "outputs": [
        {
          "output_type": "execute_result",
          "data": {
            "text/plain": [
              "0.0"
            ]
          },
          "metadata": {},
          "execution_count": 22
        }
      ]
    },
    {
      "cell_type": "markdown",
      "metadata": {
        "id": "051kkGffPS6_"
      },
      "source": [
        "- **NOTA:** No existe una definición universal de lo que es un *clúster*: realmente depende del contexto, y diferentes algoritmos capturarán diferentes tipos de clústeres. \n",
        "\n",
        "- Algunos algoritmos buscan instancias centradas alrededor de un punto particular, llamado *centroide*. Otros buscan *regiones continuas de instancias densamente empaquetadas*: estos grupos pueden tomar cualquier forma."
      ]
    },
    {
      "cell_type": "markdown",
      "metadata": {
        "id": "vk-1mIXCPS6_"
      },
      "source": [
        "## K-means"
      ]
    },
    {
      "cell_type": "markdown",
      "metadata": {
        "id": "weHcOi4tPS7A"
      },
      "source": [
        "**Ejemplo:** Consideremos un conjunto de datos sin etiqueta representado por $5$ *blobs* de instancias/muestras. "
      ]
    },
    {
      "cell_type": "code",
      "metadata": {
        "id": "KH7K3FCePS7B"
      },
      "source": [
        "from sklearn.datasets import make_blobs\n",
        "\n",
        "blob_centers = np.array(\n",
        "    [[ 0.2,  2.3],\n",
        "     [-1.5 ,  2.3],\n",
        "     [-2.8,  1.8],\n",
        "     [-2.8,  2.8],\n",
        "     [-2.8,  1.3]])\n",
        "blob_std = np.array([0.4, 0.3, 0.1, 0.1, 0.1])\n",
        "X, y     = make_blobs(n_samples=2000, centers=blob_centers,\n",
        "                  cluster_std=blob_std, random_state=7)"
      ],
      "execution_count": 23,
      "outputs": []
    },
    {
      "cell_type": "markdown",
      "metadata": {
        "id": "hYdSkAwvPS7E"
      },
      "source": [
        "Ahora observemos los *blobs*:"
      ]
    },
    {
      "cell_type": "code",
      "metadata": {
        "id": "px9C0sG2PS7G",
        "colab": {
          "base_uri": "https://localhost:8080/",
          "height": 284
        },
        "outputId": "46d332e7-34b3-46c8-a1d3-16efcb918fe4"
      },
      "source": [
        "def plot_clusters(X, y=None):\n",
        "    plt.scatter(X[:, 0], X[:, 1], c=y, s=1)\n",
        "    plt.xlabel(\"$x_1$\", fontsize=14)\n",
        "    plt.ylabel(\"$x_2$\", fontsize=14, rotation=0)\n",
        "    \n",
        "plt.figure(figsize=(8, 4))\n",
        "plot_clusters(X)\n",
        "#save_fig(\"blobs_plot\")\n",
        "plt.show()"
      ],
      "execution_count": 24,
      "outputs": [
        {
          "output_type": "display_data",
          "data": {
            "image/png": "[encoded data removed]",
            "text/plain": [
              "<Figure size 576x288 with 1 Axes>"
            ]
          },
          "metadata": {
            "needs_background": "light"
          }
        }
      ]
    },
    {
      "cell_type": "markdown",
      "metadata": {
        "id": "lgqUL4dtPS7J"
      },
      "source": [
        "### Ajuste y predicción"
      ]
    },
    {
      "cell_type": "markdown",
      "metadata": {
        "id": "m3UjDS9UPS7J"
      },
      "source": [
        "- Vamos a entrenar un *clustering K-Means* en este conjunto de datos. \n",
        "\n",
        "- **Intentaremos encontrar el centro de cada *blob* y asignar cada instancia al *blob* más cercano**:"
      ]
    },
    {
      "cell_type": "code",
      "metadata": {
        "id": "dZyLIUD1PS7K"
      },
      "source": [
        "from sklearn.cluster import KMeans\n",
        "k      = 5\n",
        "kmeans = KMeans(n_clusters=k, random_state=42)\n",
        "y_pred = kmeans.fit_predict(X)"
      ],
      "execution_count": 25,
      "outputs": []
    },
    {
      "cell_type": "markdown",
      "metadata": {
        "id": "0RNigwDXPS7N"
      },
      "source": [
        "- Tengamos en cuenta que debemos especificar el número de clústeres $k$ que debe encontrar el algoritmo. "
      ]
    },
    {
      "cell_type": "markdown",
      "metadata": {
        "id": "8_Zu29VxPS7N"
      },
      "source": [
        "- En este caso, cada instancia fue asignada a uno de los 5 grupos. \n",
        "\n",
        "- En el contexto de la agrupación, **la etiqueta de una instancia es el índice de la agrupación a la que el algoritmo asigna esta instancia**.\n",
        "\n",
        "- No debe confundirse con las etiquetas de clase en clasificación. \n",
        "\n",
        "- *KMeans* conserva una copia de las etiquetas de las instancias en las que se entrenó, disponible a través de la variable *labels_ instance*:"
      ]
    },
    {
      "cell_type": "code",
      "metadata": {
        "id": "FD_Mc4tbPS7O",
        "colab": {
          "base_uri": "https://localhost:8080/"
        },
        "outputId": "b79f1169-ae0b-4002-ad8f-a95d91223a2a"
      },
      "source": [
        "y_pred"
      ],
      "execution_count": 26,
      "outputs": [
        {
          "output_type": "execute_result",
          "data": {
            "text/plain": [
              "array([4, 1, 0, ..., 3, 0, 1], dtype=int32)"
            ]
          },
          "metadata": {},
          "execution_count": 26
        }
      ]
    },
    {
      "cell_type": "code",
      "metadata": {
        "id": "hcZ5eSO7PS7Q",
        "colab": {
          "base_uri": "https://localhost:8080/"
        },
        "outputId": "017a2ee2-3b8a-4f92-9f96-60fad28537c6"
      },
      "source": [
        "y_pred is kmeans.labels_"
      ],
      "execution_count": 27,
      "outputs": [
        {
          "output_type": "execute_result",
          "data": {
            "text/plain": [
              "True"
            ]
          },
          "metadata": {},
          "execution_count": 27
        }
      ]
    },
    {
      "cell_type": "markdown",
      "metadata": {
        "id": "YAeCbUOHPS7W"
      },
      "source": [
        "También podemos echar un vistazo a los 5 centroides que encontró el algoritmo:"
      ]
    },
    {
      "cell_type": "code",
      "metadata": {
        "id": "m1oUPEFsPS7X",
        "colab": {
          "base_uri": "https://localhost:8080/"
        },
        "outputId": "7c2dabfa-d0cb-4dfe-cb8f-c9f2f778b3e3"
      },
      "source": [
        "kmeans.cluster_centers_"
      ],
      "execution_count": 28,
      "outputs": [
        {
          "output_type": "execute_result",
          "data": {
            "text/plain": [
              "array([[ 0.20876306,  2.25551336],\n",
              "       [-2.80389616,  1.80117999],\n",
              "       [-1.46679593,  2.28585348],\n",
              "       [-2.79290307,  2.79641063],\n",
              "       [-2.80037642,  1.30082566]])"
            ]
          },
          "metadata": {},
          "execution_count": 28
        }
      ]
    },
    {
      "cell_type": "markdown",
      "metadata": {
        "id": "F_TK8d5xPS7a"
      },
      "source": [
        "Por supuesto, podemos asignar fácilmente nuevas instancias al clúster cuyo centroide es el más cercano:"
      ]
    },
    {
      "cell_type": "code",
      "metadata": {
        "id": "gjkKz1ziPS7b",
        "colab": {
          "base_uri": "https://localhost:8080/"
        },
        "outputId": "de08a1c7-b819-4f5a-a667-d4b29e9ed3b8"
      },
      "source": [
        "X_new = np.array([[0, 2], [3, 2], [-3, 3], [-3, 2.5]])\n",
        "kmeans.predict(X_new)"
      ],
      "execution_count": 29,
      "outputs": [
        {
          "output_type": "execute_result",
          "data": {
            "text/plain": [
              "array([0, 0, 3, 3], dtype=int32)"
            ]
          },
          "metadata": {},
          "execution_count": 29
        }
      ]
    },
    {
      "cell_type": "markdown",
      "metadata": {
        "id": "8UcIi23NPS7e"
      },
      "source": [
        "### Fronteras de decisión"
      ]
    },
    {
      "cell_type": "markdown",
      "metadata": {
        "id": "boVC3E14PS7e"
      },
      "source": [
        "Tracemos los **límites de decisión del modelo**. Esto nos da un *diagrama de Voronoi*:"
      ]
    },
    {
      "cell_type": "code",
      "metadata": {
        "id": "HvHhVNSXPS7f",
        "colab": {
          "base_uri": "https://localhost:8080/",
          "height": 284
        },
        "outputId": "34e65a40-5dfa-4248-b64f-7f554b982017"
      },
      "source": [
        "def plot_data(X):\n",
        "    plt.plot(X[:, 0], X[:, 1], 'k.', markersize=2)\n",
        "\n",
        "def plot_centroids(centroids, weights=None, circle_color='w', cross_color='k'):\n",
        "    if weights is not None:\n",
        "        centroids = centroids[weights > weights.max() / 10]\n",
        "    plt.scatter(centroids[:, 0], centroids[:, 1],\n",
        "                marker='o', s=30, linewidths=8,\n",
        "                color=circle_color, zorder=10, alpha=0.9)\n",
        "    plt.scatter(centroids[:, 0], centroids[:, 1],\n",
        "                marker='x', s=50, linewidths=50,\n",
        "                color=cross_color, zorder=11, alpha=1)\n",
        "\n",
        "def plot_decision_boundaries(clusterer, X, resolution=1000, show_centroids=True,\n",
        "                             show_xlabels=True, show_ylabels=True):\n",
        "    mins = X.min(axis=0) - 0.1\n",
        "    maxs = X.max(axis=0) + 0.1\n",
        "    xx, yy = np.meshgrid(np.linspace(mins[0], maxs[0], resolution),\n",
        "                         np.linspace(mins[1], maxs[1], resolution))\n",
        "    Z = clusterer.predict(np.c_[xx.ravel(), yy.ravel()])\n",
        "    Z = Z.reshape(xx.shape)\n",
        "\n",
        "    plt.contourf(Z, extent=(mins[0], maxs[0], mins[1], maxs[1]),\n",
        "                cmap=\"Pastel2\")\n",
        "    plt.contour(Z, extent=(mins[0], maxs[0], mins[1], maxs[1]),\n",
        "                linewidths=1, colors='k')\n",
        "    plot_data(X)\n",
        "    if show_centroids:\n",
        "        plot_centroids(clusterer.cluster_centers_)\n",
        "\n",
        "    if show_xlabels:\n",
        "        plt.xlabel(\"$x_1$\", fontsize=14)\n",
        "    else:\n",
        "        plt.tick_params(labelbottom=False)\n",
        "    if show_ylabels:\n",
        "        plt.ylabel(\"$x_2$\", fontsize=14, rotation=0)\n",
        "    else:\n",
        "        plt.tick_params(labelleft=False)\n",
        "\n",
        "plt.figure(figsize=(8, 4))\n",
        "plot_decision_boundaries(kmeans, X)\n",
        "#save_fig(\"voronoi_plot\")\n",
        "plt.show()"
      ],
      "execution_count": 30,
      "outputs": [
        {
          "output_type": "display_data",
          "data": {
            "image/png": "[encoded data removed]",
            "text/plain": [
              "<Figure size 576x288 with 1 Axes>"
            ]
          },
          "metadata": {
            "needs_background": "light"
          }
        }
      ]
    },
    {
      "cell_type": "markdown",
      "metadata": {
        "id": "h1PMgCuhPS7h"
      },
      "source": [
        "- La gran mayoría de las instancias estan claramente asignadas al grupo apropiado,**pero algunas instancias probablemente estaban mal etiquetadas** (especialmente cerca del límite entre el grupo superior izquierdo y el grupo central). \n",
        "- De hecho, el algoritmo **K-Means no se comporta muy bien cuando los *blobs* tienen diámetros muy diferentes**, ya que lo único que le importa al asignar una instancia a un clúster es la distancia al centroide."
      ]
    },
    {
      "cell_type": "markdown",
      "metadata": {
        "id": "lOLOaZBYPS7i"
      },
      "source": [
        "### Hard Clustering vs Soft Clustering"
      ]
    },
    {
      "cell_type": "markdown",
      "metadata": {
        "id": "XKnb77KWPS7i"
      },
      "source": [
        "En lugar de asignar cada instancia a un solo clúster, lo que se denomina *hard clustering*, puede ser útil **asignar a cada instancia una puntuación por agrupación**: esto se denomina *soft clustering*. \n",
        "\n",
        "**Ejemplo:** el puntaje puede ser la distancia entre la instancia y el centroide o, por el contrario, puede ser un puntaje de similitud (o afinidad) como la Función de Base Radial Gaussiana. En la clase *KMeans*, el método *transform()* mide la distancia desde cada instancia a cada centroide:"
      ]
    },
    {
      "cell_type": "code",
      "metadata": {
        "id": "R-Gbg3d5PS7j",
        "colab": {
          "base_uri": "https://localhost:8080/"
        },
        "outputId": "2494ec8a-60a2-4efd-bdbd-25a83e308907"
      },
      "source": [
        "kmeans.transform(X_new)"
      ],
      "execution_count": 31,
      "outputs": [
        {
          "output_type": "execute_result",
          "data": {
            "text/plain": [
              "array([[0.32995317, 2.81093633, 1.49439034, 2.9042344 , 2.88633901],\n",
              "       [2.80290755, 5.80730058, 4.4759332 , 5.84739223, 5.84236351],\n",
              "       [3.29399768, 1.21475352, 1.69136631, 0.29040966, 1.71086031],\n",
              "       [3.21806371, 0.72581411, 1.54808703, 0.36159148, 1.21567622]])"
            ]
          },
          "metadata": {},
          "execution_count": 31
        }
      ]
    },
    {
      "cell_type": "markdown",
      "metadata": {
        "id": "R7WKA0eyPS8A"
      },
      "source": [
        "- En este ejemplo, la primera instancia en *X_new* se encuentra a una distancia de **2.81** del primer centroide, **0.33** del segundo centroide, **2.90** del tercer centroide,**1.49** del cuarto centroide y **2.89** del quinto centroide. Si tiene un conjunto de datos de alta dimensión y lo transforma de esta manera, termina con un conjunto de datos $k$-dimensional: esta puede ser una técnica de reducción de dimensionalidad no lineal muy eficiente."
      ]
    },
    {
      "cell_type": "markdown",
      "metadata": {
        "id": "NcMElvAQPS8B"
      },
      "source": [
        "Podemos verificar que esta es realmente la distancia euclidiana entre cada instancia y cada centroide:"
      ]
    },
    {
      "cell_type": "code",
      "metadata": {
        "id": "VsRKEMvKPS8C",
        "colab": {
          "base_uri": "https://localhost:8080/"
        },
        "outputId": "bd75530c-ab7a-4b3e-f508-46471c7b7e13"
      },
      "source": [
        "np.linalg.norm(np.tile(X_new, (1, k)).reshape(-1, k, 2) - kmeans.cluster_centers_, axis=2)"
      ],
      "execution_count": 33,
      "outputs": [
        {
          "output_type": "execute_result",
          "data": {
            "text/plain": [
              "array([[0.32995317, 2.81093633, 1.49439034, 2.9042344 , 2.88633901],\n",
              "       [2.80290755, 5.80730058, 4.4759332 , 5.84739223, 5.84236351],\n",
              "       [3.29399768, 1.21475352, 1.69136631, 0.29040966, 1.71086031],\n",
              "       [3.21806371, 0.72581411, 1.54808703, 0.36159148, 1.21567622]])"
            ]
          },
          "metadata": {},
          "execution_count": 33
        }
      ]
    },
    {
      "cell_type": "markdown",
      "metadata": {
        "id": "LQTdxcqnPS8I"
      },
      "source": [
        "### K-Means Algorithm"
      ]
    },
    {
      "cell_type": "markdown",
      "metadata": {
        "id": "6BQSxBSrPS8J"
      },
      "source": [
        "**El algoritmo en acción:**"
      ]
    },
    {
      "cell_type": "markdown",
      "metadata": {
        "id": "YiGNKMcOPS8J"
      },
      "source": [
        "La clase *KMeans* aplica un algoritmo optimizado por defecto. Para obtener el algoritmo K-Means original (solo con fines educativos), debe establecer *init=\"random\"*, *n_init = 1* and *algorithm=\"full\"*. Estos hiperparámetros se explicarán a continuación.\n",
        "\n",
        "Ejecutemos el algoritmo K-Means para 1, 2 y 3 iteraciones, para ver **cómo se mueven los centroides**:"
      ]
    },
    {
      "cell_type": "code",
      "metadata": {
        "id": "gSL6H0__PS8J",
        "colab": {
          "base_uri": "https://localhost:8080/"
        },
        "outputId": "9c2cd01a-8bc6-4807-e2be-0dbce97dd7ac"
      },
      "source": [
        "kmeans_iter1 = KMeans(n_clusters=5, init=\"random\", n_init=1,\n",
        "                     algorithm=\"full\", max_iter=1, random_state=1)\n",
        "kmeans_iter2 = KMeans(n_clusters=5, init=\"random\", n_init=1,\n",
        "                     algorithm=\"full\", max_iter=2, random_state=1)\n",
        "kmeans_iter3 = KMeans(n_clusters=5, init=\"random\", n_init=1,\n",
        "                     algorithm=\"full\", max_iter=3, random_state=1)\n",
        "kmeans_iter1.fit(X)\n",
        "kmeans_iter2.fit(X)\n",
        "kmeans_iter3.fit(X)"
      ],
      "execution_count": 34,
      "outputs": [
        {
          "output_type": "execute_result",
          "data": {
            "text/plain": [
              "KMeans(algorithm='full', copy_x=True, init='random', max_iter=3, n_clusters=5,\n",
              "       n_init=1, n_jobs=None, precompute_distances='auto', random_state=1,\n",
              "       tol=0.0001, verbose=0)"
            ]
          },
          "metadata": {},
          "execution_count": 34
        }
      ]
    },
    {
      "cell_type": "markdown",
      "metadata": {
        "id": "L2VO3cc1PS8M"
      },
      "source": [
        "Ahora vamos a trazar esto:"
      ]
    },
    {
      "cell_type": "code",
      "metadata": {
        "id": "djGunDMXPS8M",
        "colab": {
          "base_uri": "https://localhost:8080/",
          "height": 518
        },
        "outputId": "31b83c32-9a0f-45cf-dfca-ad01a39fd956"
      },
      "source": [
        "plt.figure(figsize=(10, 8))\n",
        "\n",
        "plt.subplot(321)\n",
        "plot_data(X)\n",
        "plot_centroids(kmeans_iter1.cluster_centers_, circle_color='r', cross_color='w')\n",
        "plt.ylabel(\"$x_2$\", fontsize=14, rotation=0)\n",
        "plt.tick_params(labelbottom=False)\n",
        "plt.title(\"Update the centroids (initially randomly)\", fontsize=14)\n",
        "\n",
        "plt.subplot(322)\n",
        "plot_decision_boundaries(kmeans_iter1, X, show_xlabels=False, show_ylabels=False)\n",
        "plt.title(\"Label the instances\", fontsize=14)\n",
        "\n",
        "plt.subplot(323)\n",
        "plot_decision_boundaries(kmeans_iter1, X, show_centroids=False, show_xlabels=False)\n",
        "plot_centroids(kmeans_iter2.cluster_centers_)\n",
        "\n",
        "plt.subplot(324)\n",
        "plot_decision_boundaries(kmeans_iter2, X, show_xlabels=False, show_ylabels=False)\n",
        "\n",
        "plt.subplot(325)\n",
        "plot_decision_boundaries(kmeans_iter2, X, show_centroids=False)\n",
        "plot_centroids(kmeans_iter3.cluster_centers_)\n",
        "\n",
        "plt.subplot(326)\n",
        "plot_decision_boundaries(kmeans_iter3, X, show_ylabels=False)\n",
        "\n",
        "#save_fig(\"kmeans_algorithm_plot\")\n",
        "plt.show()"
      ],
      "execution_count": 35,
      "outputs": [
        {
          "output_type": "display_data",
          "data": {
            "image/png": "[encoded data removed]",
            "text/plain": [
              "<Figure size 720x576 with 6 Axes>"
            ]
          },
          "metadata": {
            "needs_background": "light"
          }
        }
      ]
    },
    {
      "cell_type": "markdown",
      "metadata": {
        "id": "krzA6P_QPS8O"
      },
      "source": [
        "- Podemos ver el algoritmo en acción en la Figura anterior, los centroides se inicializan aleatoriamente (arriba a la izquierda). \n",
        "- Luego las instancias se etiquetan (arriba a la derecha). \n",
        "- Luego los centroides se actualizan (centro a la izquierda).\n",
        "- Seguido, las instancias se vuelven a etiquetar (centro a la derecha ), y así. \n",
        "\n",
        "**Como puede ver, en solo 3 iteraciones, el algoritmo ha alcanzado una agrupación que parece casi óptima.**"
      ]
    },
    {
      "cell_type": "markdown",
      "metadata": {
        "id": "dkFwb4mkPS8P"
      },
      "source": [
        "**NOTA:** La complejidad computacional del algoritmo es generalmente lineal con respecto al número de instancias $m$, el número de clústeres $k$ y el número de dimensiones $n$. Sin embargo, esto solo es cierto cuando los datos tienen una estructura de agrupamiento. Si no es así, entonces, en el peor de los casos, la complejidad puede aumentar exponencialmente con el número de instancias. "
      ]
    },
    {
      "cell_type": "markdown",
      "metadata": {
        "id": "1GkEU9aAPS8P"
      },
      "source": [
        "### K-Means variability"
      ]
    },
    {
      "cell_type": "markdown",
      "metadata": {
        "id": "inXEVaYhPS8Q"
      },
      "source": [
        "**Ejemplo:** la siguiente Figura muestra dos soluciones subóptimas con las que el algoritmo puede converger si no tiene suerte con el paso de inicialización aleatoria:"
      ]
    },
    {
      "cell_type": "code",
      "metadata": {
        "id": "h6-0aS4IPS8Q",
        "colab": {
          "base_uri": "https://localhost:8080/",
          "height": 257
        },
        "outputId": "2ae19b5e-577d-4f2d-80b2-87f6d19dad8a"
      },
      "source": [
        "def plot_clusterer_comparison(clusterer1, clusterer2, X, title1=None, title2=None):\n",
        "    clusterer1.fit(X)\n",
        "    clusterer2.fit(X)\n",
        "\n",
        "    plt.figure(figsize=(10, 3.2))\n",
        "\n",
        "    plt.subplot(121)\n",
        "    plot_decision_boundaries(clusterer1, X)\n",
        "    if title1:\n",
        "        plt.title(title1, fontsize=14)\n",
        "\n",
        "    plt.subplot(122)\n",
        "    plot_decision_boundaries(clusterer2, X, show_ylabels=False)\n",
        "    if title2:\n",
        "        plt.title(title2, fontsize=14)\n",
        "\n",
        "kmeans_rnd_init1 = KMeans(n_clusters=5, init=\"random\", n_init=1,\n",
        "                         algorithm=\"full\", random_state=11)\n",
        "kmeans_rnd_init2 = KMeans(n_clusters=5, init=\"random\", n_init=1,\n",
        "                         algorithm=\"full\", random_state=190)\n",
        "\n",
        "plot_clusterer_comparison(kmeans_rnd_init1, kmeans_rnd_init2, X,\n",
        "                          \"Solution 1\", \"Solution 2 (with a different random init)\")\n",
        "\n",
        "#save_fig(\"kmeans_variability_plot\")\n",
        "plt.show()"
      ],
      "execution_count": 36,
      "outputs": [
        {
          "output_type": "display_data",
          "data": {
            "image/png": "[encoded data removed]",
            "text/plain": [
              "<Figure size 720x230.4 with 2 Axes>"
            ]
          },
          "metadata": {
            "needs_background": "light"
          }
        }
      ]
    },
    {
      "cell_type": "markdown",
      "metadata": {
        "id": "J8RMUtbkPS8U"
      },
      "source": [
        "Veamos algunas formas en que puede mitigar este riesgo mejorando la inicialización del centroide."
      ]
    },
    {
      "cell_type": "markdown",
      "metadata": {
        "id": "SwO1VItAPS8U"
      },
      "source": [
        "### Métodos de inicialización de centroides"
      ]
    },
    {
      "cell_type": "markdown",
      "metadata": {
        "id": "bjQatwwWPS8V"
      },
      "source": [
        "Si sabemos aproximadamente dónde deberían estar los centroides (por ejemplo, si ejecutó otro algoritmo de agrupación anteriormente), puede establecer el hiperparámetro *init* en una matriz NumPy que contiene la lista de centroides y establecer *n_init* en 1:"
      ]
    },
    {
      "cell_type": "code",
      "metadata": {
        "id": "HufdNdrKPS8V",
        "colab": {
          "base_uri": "https://localhost:8080/"
        },
        "outputId": "efb4c3d1-dbbf-433b-c098-2a11c5bd2a68"
      },
      "source": [
        "good_init = np.array([[-3, 3], [-3, 2], [-3, 1], [-1, 2], [0, 2]])\n",
        "kmeans    = KMeans(n_clusters=5, init=good_init, n_init=1, random_state=42)\n",
        "kmeans.fit(X)"
      ],
      "execution_count": 37,
      "outputs": [
        {
          "output_type": "execute_result",
          "data": {
            "text/plain": [
              "KMeans(algorithm='auto', copy_x=True,\n",
              "       init=array([[-3,  3],\n",
              "       [-3,  2],\n",
              "       [-3,  1],\n",
              "       [-1,  2],\n",
              "       [ 0,  2]]),\n",
              "       max_iter=300, n_clusters=5, n_init=1, n_jobs=None,\n",
              "       precompute_distances='auto', random_state=42, tol=0.0001, verbose=0)"
            ]
          },
          "metadata": {},
          "execution_count": 37
        }
      ]
    },
    {
      "cell_type": "markdown",
      "metadata": {
        "id": "U81JrQ6FPS8Z"
      },
      "source": [
        "Otra solución es **ejecutar el algoritmo varias veces con diferentes inicializaciones aleatorias y mantener la mejor solución**. Esto se controla mediante el hiperparámetro *n_init*: de forma predeterminada, es igual a 10, lo que significa que todo el algoritmo descrito anteriormente se ejecuta 10 veces cuando se llama a *fit()*, y Scikit-Learn mantiene la mejor solución."
      ]
    },
    {
      "cell_type": "markdown",
      "metadata": {
        "id": "0A25NECnPS8Z"
      },
      "source": [
        "Pero, **¿cómo sabe exactamente qué solución es la mejor?**. Bueno, por supuesto, utiliza una métrica de rendimiento! Se llama la *inercia del modelo*: esta es la distancia cuadrática media entre cada instancia y su centroide más cercano."
      ]
    },
    {
      "cell_type": "code",
      "metadata": {
        "id": "dB1eblgGPS8Z",
        "colab": {
          "base_uri": "https://localhost:8080/"
        },
        "outputId": "6dfcdf4e-b6ba-4a06-adb4-9d512ed7aed8"
      },
      "source": [
        "kmeans.inertia_"
      ],
      "execution_count": 38,
      "outputs": [
        {
          "output_type": "execute_result",
          "data": {
            "text/plain": [
              "211.5985372581684"
            ]
          },
          "metadata": {},
          "execution_count": 38
        }
      ]
    },
    {
      "cell_type": "markdown",
      "metadata": {
        "id": "yQdjm66DPS8c"
      },
      "source": [
        "El método *score()* devuelve la inercia negativa. ¿Por qué negativo? Bueno, es **porque el método de *score()* de un predictor siempre debe respetar la regla \"great is better\"**."
      ]
    },
    {
      "cell_type": "code",
      "metadata": {
        "id": "jsC2JN7yPS8c",
        "colab": {
          "base_uri": "https://localhost:8080/"
        },
        "outputId": "6b78518d-f12a-4c93-d505-78dcda97c6f5"
      },
      "source": [
        "kmeans.score(X)"
      ],
      "execution_count": 39,
      "outputs": [
        {
          "output_type": "execute_result",
          "data": {
            "text/plain": [
              "-211.59853725816856"
            ]
          },
          "metadata": {},
          "execution_count": 39
        }
      ]
    },
    {
      "cell_type": "markdown",
      "metadata": {
        "id": "qwUQDOYpPS8e"
      },
      "source": [
        "### Múltiples inicializaciones"
      ]
    },
    {
      "cell_type": "markdown",
      "metadata": {
        "id": "D-BCOp05PS8f"
      },
      "source": [
        "Entonces, un enfoque para resolver el problema de la variabilidad es **simplemente ejecutar el algoritmo K-Means varias veces con diferentes inicializaciones aleatorias y seleccionar la solución que minimice la inercia**. \n",
        "\n",
        "**Ejemplo:** tenemos las inercias de los dos modelos *\"malos\"* que se muestran en la figura anterior:"
      ]
    },
    {
      "cell_type": "code",
      "metadata": {
        "id": "Liv7hV2SPS8f",
        "colab": {
          "base_uri": "https://localhost:8080/"
        },
        "outputId": "03864791-3db4-4cde-9aec-9b08479a1c0f"
      },
      "source": [
        "kmeans_rnd_init1.inertia_"
      ],
      "execution_count": 40,
      "outputs": [
        {
          "output_type": "execute_result",
          "data": {
            "text/plain": [
              "211.59853725816822"
            ]
          },
          "metadata": {},
          "execution_count": 40
        }
      ]
    },
    {
      "cell_type": "code",
      "metadata": {
        "id": "oNeVFCD4PS8h",
        "colab": {
          "base_uri": "https://localhost:8080/"
        },
        "outputId": "d55112b8-d052-4236-e24d-21b0fe1a1fd7"
      },
      "source": [
        "kmeans_rnd_init2.inertia_"
      ],
      "execution_count": 41,
      "outputs": [
        {
          "output_type": "execute_result",
          "data": {
            "text/plain": [
              "238.7525191353946"
            ]
          },
          "metadata": {},
          "execution_count": 41
        }
      ]
    },
    {
      "cell_type": "markdown",
      "metadata": {
        "id": "KRZwojbIPS8k"
      },
      "source": [
        "Como podemos ver, tienen mayor inercia que el primer modelo *\"bueno\"* que capacitamos, lo que significa que probablemente sean peores. Cuando configuramos el hiperparámetro *n_init*, Scikit-Learn ejecuta el algoritmo original *n_init* veces y selecciona la solución que minimiza la inercia. Por defecto, Scikit-Learn establece *n_init = 10*."
      ]
    },
    {
      "cell_type": "code",
      "metadata": {
        "id": "8kO8qYMDPS8l",
        "colab": {
          "base_uri": "https://localhost:8080/"
        },
        "outputId": "091081ca-65fc-4848-980d-4ef1fda7f668"
      },
      "source": [
        "kmeans_rnd_10_inits = KMeans(n_clusters=5, init=\"random\", n_init=10,\n",
        "                              algorithm=\"full\", random_state=11)\n",
        "kmeans_rnd_10_inits.fit(X)"
      ],
      "execution_count": 42,
      "outputs": [
        {
          "output_type": "execute_result",
          "data": {
            "text/plain": [
              "KMeans(algorithm='full', copy_x=True, init='random', max_iter=300, n_clusters=5,\n",
              "       n_init=10, n_jobs=None, precompute_distances='auto', random_state=11,\n",
              "       tol=0.0001, verbose=0)"
            ]
          },
          "metadata": {},
          "execution_count": 42
        }
      ]
    },
    {
      "cell_type": "markdown",
      "metadata": {
        "id": "pxrK7v4IPS8n"
      },
      "source": [
        "Como podemos ver, terminamos con el modelo inicial, que sin duda es la solución óptima de K-Means (al menos en términos de inercia, y suponiendo que $k=5$)."
      ]
    },
    {
      "cell_type": "code",
      "metadata": {
        "id": "c3j2bd-xPS8o",
        "colab": {
          "base_uri": "https://localhost:8080/",
          "height": 284
        },
        "outputId": "c6ad31f8-8456-4e9d-8cda-c27c109ce9e9"
      },
      "source": [
        "plt.figure(figsize=(8, 4))\n",
        "plot_decision_boundaries(kmeans_rnd_10_inits, X)\n",
        "plt.show()"
      ],
      "execution_count": 43,
      "outputs": [
        {
          "output_type": "display_data",
          "data": {
            "image/png": "[encoded data removed]",
            "text/plain": [
              "<Figure size 576x288 with 1 Axes>"
            ]
          },
          "metadata": {
            "needs_background": "light"
          }
        }
      ]
    },
    {
      "cell_type": "markdown",
      "metadata": {
        "id": "s6VO60p6PS8r"
      },
      "source": [
        "### K-Means++"
      ]
    },
    {
      "cell_type": "markdown",
      "metadata": {
        "id": "t247SrYEPS8s"
      },
      "source": [
        "Para establecer la inicialización en K-Means ++, simplemente configure *init=\"k-means ++\"* (esto es realmente el valor predeterminado):"
      ]
    },
    {
      "cell_type": "code",
      "metadata": {
        "id": "U55PgpyEPS8s",
        "colab": {
          "base_uri": "https://localhost:8080/"
        },
        "outputId": "a504832d-06f8-4bbc-cdeb-e642279973ce"
      },
      "source": [
        "KMeans()"
      ],
      "execution_count": 44,
      "outputs": [
        {
          "output_type": "execute_result",
          "data": {
            "text/plain": [
              "KMeans(algorithm='auto', copy_x=True, init='k-means++', max_iter=300,\n",
              "       n_clusters=8, n_init=10, n_jobs=None, precompute_distances='auto',\n",
              "       random_state=None, tol=0.0001, verbose=0)"
            ]
          },
          "metadata": {},
          "execution_count": 44
        }
      ]
    },
    {
      "cell_type": "markdown",
      "metadata": {
        "id": "E1fcJf3zPS8v"
      },
      "source": [
        "### Accelerated K-Means"
      ]
    },
    {
      "cell_type": "markdown",
      "metadata": {
        "id": "WhtjJ_jOPS8v"
      },
      "source": [
        "Para usar la variante de K-Means de **Elkan**, simplemente configure *algorithm = \"elkan\"*. Tenga en cuenta que no admite datos dispersos, por lo que, de forma predeterminada, Scikit-Learn usa \"*elkan*\" para datos densos y \"*full*\" (el algoritmo K-Means normal) para datos dispersos."
      ]
    },
    {
      "cell_type": "code",
      "metadata": {
        "id": "IFl6JoHhPS8w",
        "colab": {
          "base_uri": "https://localhost:8080/"
        },
        "outputId": "ef7664ca-2ead-4b1e-8899-a2cc8dacb158"
      },
      "source": [
        "%timeit -n 50 KMeans(algorithm=\"elkan\").fit(X)"
      ],
      "execution_count": 45,
      "outputs": [
        {
          "output_type": "stream",
          "name": "stdout",
          "text": [
            "50 loops, best of 5: 95.6 ms per loop\n"
          ]
        }
      ]
    },
    {
      "cell_type": "code",
      "metadata": {
        "id": "U1UOILYQPS8z",
        "colab": {
          "base_uri": "https://localhost:8080/"
        },
        "outputId": "e5335df9-d2a9-4c9e-b029-12796df16861"
      },
      "source": [
        "%timeit -n 50 KMeans(algorithm=\"full\").fit(X)"
      ],
      "execution_count": 46,
      "outputs": [
        {
          "output_type": "stream",
          "name": "stdout",
          "text": [
            "50 loops, best of 5: 124 ms per loop\n"
          ]
        }
      ]
    },
    {
      "cell_type": "markdown",
      "metadata": {
        "id": "ZmdNKAoyPS82"
      },
      "source": [
        "### Mini-Batch K-Means"
      ]
    },
    {
      "cell_type": "markdown",
      "metadata": {
        "id": "OLv3UDzXPS82"
      },
      "source": [
        "Scikit Learn implementa este algoritmo en la clase *MiniBatchKMeans*. Puede usar esta clase como la clase *KMeans*:"
      ]
    },
    {
      "cell_type": "code",
      "metadata": {
        "id": "a9KsDX4sPS82",
        "colab": {
          "base_uri": "https://localhost:8080/"
        },
        "outputId": "967add5d-a38f-4990-f7f7-82f23245fc02"
      },
      "source": [
        "from sklearn.cluster import MiniBatchKMeans\n",
        "\n",
        "minibatch_kmeans = MiniBatchKMeans(n_clusters=5, random_state=42)\n",
        "minibatch_kmeans.fit(X)"
      ],
      "execution_count": 47,
      "outputs": [
        {
          "output_type": "execute_result",
          "data": {
            "text/plain": [
              "MiniBatchKMeans(batch_size=100, compute_labels=True, init='k-means++',\n",
              "                init_size=None, max_iter=100, max_no_improvement=10,\n",
              "                n_clusters=5, n_init=3, random_state=42,\n",
              "                reassignment_ratio=0.01, tol=0.0, verbose=0)"
            ]
          },
          "metadata": {},
          "execution_count": 47
        }
      ]
    },
    {
      "cell_type": "code",
      "metadata": {
        "id": "LfsSLUPbPS86",
        "colab": {
          "base_uri": "https://localhost:8080/"
        },
        "outputId": "5d7eb4a8-0928-469e-bd9e-16b1a538ee24"
      },
      "source": [
        "minibatch_kmeans.inertia_"
      ],
      "execution_count": 49,
      "outputs": [
        {
          "output_type": "execute_result",
          "data": {
            "text/plain": [
              "211.93186531476775"
            ]
          },
          "metadata": {},
          "execution_count": 49
        }
      ]
    },
    {
      "cell_type": "markdown",
      "metadata": {
        "id": "1nauzPFNPS88"
      },
      "source": [
        "Si el conjunto de datos no cabe en la memoría RAM, la opción más simple es usar la clase *memmap*.\n",
        "\n",
        "**Ejemplo:** Primero carguemos la base de datos de dígitos escritos a mano MNIST:"
      ]
    },
    {
      "cell_type": "code",
      "metadata": {
        "id": "KsRLCvIcPS89"
      },
      "source": [
        "import urllib\n",
        "import os\n",
        "from sklearn.datasets import fetch_openml\n",
        "\n",
        "mnist        = fetch_openml('mnist_784', version=1)\n",
        "mnist.target = mnist.target.astype(np.int64)\n",
        "\n",
        "from sklearn.model_selection import train_test_split\n",
        "\n",
        "X_train, X_test, y_train, y_test = train_test_split(\n",
        "    mnist[\"data\"], mnist[\"target\"], random_state=42)"
      ],
      "execution_count": 50,
      "outputs": []
    },
    {
      "cell_type": "markdown",
      "metadata": {
        "id": "vSiS-BqpPS9A"
      },
      "source": [
        "A continuación, escribámoslo en un *memmap*:"
      ]
    },
    {
      "cell_type": "code",
      "metadata": {
        "id": "PIpn5pdSPS9A",
        "colab": {
          "base_uri": "https://localhost:8080/"
        },
        "outputId": "9663d276-d738-435e-ef13-e7ef9f37f363"
      },
      "source": [
        "from tempfile import mkdtemp\n",
        "import os.path as path\n",
        "filename = path.join(mkdtemp(), 'my_mnist.data')\n",
        "X_mm     = np.memmap(filename, dtype='float32', mode='write', shape=X_train.shape)\n",
        "X_mm[:]  = X_train\n",
        "\n",
        "minibatch_kmeans = MiniBatchKMeans(n_clusters=10, batch_size=10, random_state=42)\n",
        "minibatch_kmeans.fit(X_mm)"
      ],
      "execution_count": 51,
      "outputs": [
        {
          "output_type": "execute_result",
          "data": {
            "text/plain": [
              "MiniBatchKMeans(batch_size=10, compute_labels=True, init='k-means++',\n",
              "                init_size=None, max_iter=100, max_no_improvement=10,\n",
              "                n_clusters=10, n_init=3, random_state=42,\n",
              "                reassignment_ratio=0.01, tol=0.0, verbose=0)"
            ]
          },
          "metadata": {},
          "execution_count": 51
        }
      ]
    },
    {
      "cell_type": "markdown",
      "metadata": {
        "id": "O2Et4rY6PS9D"
      },
      "source": [
        "Si nuestros datos son tan grandes que no puede usar *memmap*, las cosas se vuelven más complicadas. Comencemos escribiendo una función para cargar el próximo lote (en la vida real, cargaría los datos desde disco duro):"
      ]
    },
    {
      "cell_type": "code",
      "metadata": {
        "id": "VntyBya8PS9E"
      },
      "source": [
        "def load_next_batch(batch_size):\n",
        "    return X[np.random.choice(len(X), batch_size, replace=False)]"
      ],
      "execution_count": 52,
      "outputs": []
    },
    {
      "cell_type": "markdown",
      "metadata": {
        "id": "ZmoIxE41PS9I"
      },
      "source": [
        "Ahora podemos entrenar al modelo al alimentarlo un batch a la vez. También necesitamos implementar múltiples inicializaciones y mantener el modelo con la menor inercia:"
      ]
    },
    {
      "cell_type": "code",
      "metadata": {
        "id": "xHtHvM_TPS9J",
        "colab": {
          "base_uri": "https://localhost:8080/"
        },
        "outputId": "a4140099-eeb4-4f44-e392-16b513c79a37"
      },
      "source": [
        "np.random.seed(42)\n",
        "\n",
        "k            = 5\n",
        "n_init       = 10\n",
        "n_iterations = 100\n",
        "batch_size   = 100\n",
        "init_size    = 500  # more data for K-Means++ initialization\n",
        "evaluate_on_last_n_iters = 10\n",
        "\n",
        "best_kmeans = None\n",
        "\n",
        "for init in range(n_init):\n",
        "    minibatch_kmeans = MiniBatchKMeans(n_clusters=k, init_size=init_size)\n",
        "    X_init = load_next_batch(init_size)\n",
        "    minibatch_kmeans.partial_fit(X_init)\n",
        "\n",
        "    minibatch_kmeans.sum_inertia_ = 0\n",
        "    for iteration in range(n_iterations):\n",
        "        X_batch = load_next_batch(batch_size)\n",
        "        minibatch_kmeans.partial_fit(X_batch)\n",
        "        if iteration >= n_iterations - evaluate_on_last_n_iters:\n",
        "            minibatch_kmeans.sum_inertia_ += minibatch_kmeans.inertia_\n",
        "\n",
        "    if (best_kmeans is None or\n",
        "        minibatch_kmeans.sum_inertia_ < best_kmeans.sum_inertia_):\n",
        "        best_kmeans = minibatch_kmeans\n",
        "\n",
        "best_kmeans.score(X)"
      ],
      "execution_count": 53,
      "outputs": [
        {
          "output_type": "execute_result",
          "data": {
            "text/plain": [
              "-211.70999744411483"
            ]
          },
          "metadata": {},
          "execution_count": 53
        }
      ]
    },
    {
      "cell_type": "markdown",
      "metadata": {
        "id": "7jY2lYH1PS9M"
      },
      "source": [
        "**Mini-batch K-Means es mucho más rápido que los K-Means normales**:"
      ]
    },
    {
      "cell_type": "code",
      "metadata": {
        "id": "lWziQOaqPS9N",
        "colab": {
          "base_uri": "https://localhost:8080/"
        },
        "outputId": "6cb9fd2f-624e-403a-c255-b23afa3a5f5b"
      },
      "source": [
        "%timeit KMeans(n_clusters=5).fit(X)"
      ],
      "execution_count": 54,
      "outputs": [
        {
          "output_type": "stream",
          "name": "stdout",
          "text": [
            "10 loops, best of 5: 49.9 ms per loop\n"
          ]
        }
      ]
    },
    {
      "cell_type": "code",
      "metadata": {
        "id": "kNZcPJgRPS9P",
        "colab": {
          "base_uri": "https://localhost:8080/"
        },
        "outputId": "7817cb74-0417-41db-dd06-ccfe5c5f8f9e"
      },
      "source": [
        "%timeit MiniBatchKMeans(n_clusters=5).fit(X)"
      ],
      "execution_count": 55,
      "outputs": [
        {
          "output_type": "stream",
          "name": "stdout",
          "text": [
            "10 loops, best of 5: 29.2 ms per loop\n"
          ]
        }
      ]
    },
    {
      "cell_type": "markdown",
      "metadata": {
        "id": "WiqU8j3VPS9Q"
      },
      "source": [
        "- **¡Eso es mucho más rápido!** Sin embargo, su rendimiento es a menudo más bajo (mayor inercia), y se sigue degradando a medida que aumenta $k$. \n",
        "\n",
        "- Tracemos la relación de inercia y la relación de tiempo de entrenamiento entre K-Means Mini-batch y K-Means regulares:"
      ]
    },
    {
      "cell_type": "code",
      "metadata": {
        "id": "ZQf887W0PS9R",
        "colab": {
          "base_uri": "https://localhost:8080/"
        },
        "outputId": "3b5a298c-9f27-4354-81fc-6981f8cbf325"
      },
      "source": [
        "from timeit import timeit\n",
        "\n",
        "times    = np.empty((25, 2))\n",
        "inertias = np.empty((25, 2))\n",
        "for k in range(1, 26):\n",
        "    kmeans_          = KMeans(n_clusters=k, random_state=42)\n",
        "    minibatch_kmeans = MiniBatchKMeans(n_clusters=k, random_state=42)\n",
        "    print(\"\\r{}/{}\".format(k, 25), end=\"\")\n",
        "    times[k-1, 0]    = timeit(\"kmeans_.fit(X)\", number=10, globals=globals())\n",
        "    times[k-1, 1]    = timeit(\"minibatch_kmeans.fit(X)\", number=10, globals=globals())\n",
        "    inertias[k-1, 0] = kmeans_.inertia_\n",
        "    inertias[k-1, 1] = minibatch_kmeans.inertia_"
      ],
      "execution_count": 58,
      "outputs": [
        {
          "output_type": "stream",
          "name": "stdout",
          "text": [
            "25/25"
          ]
        }
      ]
    },
    {
      "cell_type": "code",
      "metadata": {
        "id": "6_D28CXhPS9S",
        "colab": {
          "base_uri": "https://localhost:8080/",
          "height": 302
        },
        "outputId": "d8e3da06-1414-4569-f66f-7d0c01f07e4a"
      },
      "source": [
        "plt.figure(figsize=(10,4))\n",
        "\n",
        "plt.subplot(121)\n",
        "plt.plot(range(1, 26), inertias[:, 0], \"r--\", label=\"K-Means\")\n",
        "plt.plot(range(1, 26), inertias[:, 1], \"b.-\", label=\"Mini-batch K-Means\")\n",
        "plt.xlabel(\"$k$\", fontsize=16)\n",
        "plt.title(\"Inertia\", fontsize=14)\n",
        "plt.legend(fontsize=14)\n",
        "plt.axis([1, 26, 0, 200])\n",
        "\n",
        "plt.subplot(122)\n",
        "plt.plot(range(1, 26), times[:, 0], \"r--\", label=\"K-Means\")\n",
        "plt.plot(range(1, 26), times[:, 1], \"b.-\", label=\"Mini-batch K-Means\")\n",
        "plt.xlabel(\"$k$\", fontsize=16)\n",
        "plt.title(\"Training time (seconds)\", fontsize=14)\n",
        "#plt.axis([1, 26, 0, 25])\n",
        "\n",
        "#save_fig(\"minibatch_kmeans_vs_kmeans\")\n",
        "plt.show()"
      ],
      "execution_count": 62,
      "outputs": [
        {
          "output_type": "display_data",
          "data": {
            "image/png": "[encoded data removed]",
            "text/plain": [
              "<Figure size 720x288 with 2 Axes>"
            ]
          },
          "metadata": {
            "needs_background": "light"
          }
        }
      ]
    },
    {
      "cell_type": "markdown",
      "metadata": {
        "id": "wxXQlG8DPS9V"
      },
      "source": [
        "Podemos ver esto en la Figura: \n",
        "- La gráfica de la izquierda compara las inercias de los K-Means de Mini-lote y los modelos K-Means regulares entrenados en el conjunto de datos anterior usando varios números de grupos $k$. La diferencia entre las dos curvas permanece bastante constante, pero esta diferencia se vuelve cada vez más significativa a medida que aumenta k, ya que la inercia se hace cada vez más pequeña. \n",
        "- Sin embargo, en la gráfica de la derecha, puede ver que K-Means de Mini-batch es mucho más rápido que los K-Means normales, y esta diferencia aumenta con $k$."
      ]
    },
    {
      "cell_type": "markdown",
      "metadata": {
        "id": "21KOU_h3PS9V"
      },
      "source": [
        "# Cómo encontrar el número de grupos a buscar?"
      ]
    },
    {
      "cell_type": "markdown",
      "metadata": {
        "id": "MdMC9L5GPS9W"
      },
      "source": [
        "**Ejemplo:** como podemos ver a continuación, establecer $k$ en 3 o 8 da como resultado modelos bastante malos:"
      ]
    },
    {
      "cell_type": "code",
      "metadata": {
        "id": "YaCHZBozPS9W"
      },
      "source": [
        "kmeans_k3 = KMeans(n_clusters=3, random_state=42)\n",
        "kmeans_k8 = KMeans(n_clusters=8, random_state=42)\n",
        "\n",
        "plot_clusterer_comparison(kmeans_k3, kmeans_k8, X, \"$k=3$\", \"$k=8$\")\n",
        "#save_fig(\"bad_n_clusters_plot\")\n",
        "plt.show()"
      ],
      "execution_count": null,
      "outputs": []
    },
    {
      "cell_type": "markdown",
      "metadata": {
        "id": "NmRB5rLkPS9Z"
      },
      "source": [
        "**TIP:** Quizás estemos pensando que podríamos **elegir el modelo con la menor inercia**. \n",
        "\n",
        "**Respuesta:** Lamentablemente, no es tan simple. La inercia para $k = 3$ es 653.2, que es mucho más alta que para $k = 5$ (que era 211.6), pero con $k = 8$, la inercia es solo 119.1. La inercia no es una buena medida de rendimiento cuando se trata de elegir $k$, ya que sigue disminuyendo a medida que aumentamos $k$. De hecho, cuantos más grupos haya, más cerca estará cada instancia de su centroide más cercano y, por lo tanto, menor será la inercia. \n",
        "\n",
        "Tracemos la inercia como una función de $k$:"
      ]
    },
    {
      "cell_type": "code",
      "metadata": {
        "id": "P9xF98C4PS9a"
      },
      "source": [
        "kmeans_per_k = [KMeans(n_clusters=k, random_state=42).fit(X)\n",
        "                for k in range(1, 10)]\n",
        "inertias     = [model.inertia_ for model in kmeans_per_k]\n",
        "\n",
        "plt.figure(figsize=(8, 3.5))\n",
        "plt.plot(range(1, 10), inertias, \"bo-\")\n",
        "plt.xlabel(\"$k$\", fontsize=14)\n",
        "plt.ylabel(\"Inertia\", fontsize=14)\n",
        "plt.annotate('Elbow',\n",
        "             xy=(4, inertias[3]),\n",
        "             xytext=(0.55, 0.55),\n",
        "             textcoords='figure fraction',\n",
        "             fontsize=16,\n",
        "             arrowprops=dict(facecolor='black', shrink=0.1)\n",
        "            )\n",
        "plt.axis([1, 8.5, 0, 1300])\n",
        "#save_fig(\"inertia_vs_k_plot\")\n",
        "plt.show()"
      ],
      "execution_count": null,
      "outputs": []
    },
    {
      "cell_type": "markdown",
      "metadata": {
        "id": "V6IJyCnIPS9d"
      },
      "source": [
        "- Como podemos ver, la inercia cae muy rápidamente a medida que aumentamos $k$ hasta 4, pero luego disminuye mucho más lentamente a medida que seguimos aumentando $k$. \n",
        "- Esta curva tiene aproximadamente la forma de un brazo, y hay un \"*codo*\" en $k = 4$, por lo que si no lo supiéramos mejor, sería una buena opción: cualquier valor más bajo sería dramático, mientras que cualquier valor más alto no ayudaría mucho. "
      ]
    },
    {
      "cell_type": "code",
      "metadata": {
        "id": "VNeOjH_UPS9e"
      },
      "source": [
        "plot_decision_boundaries(kmeans_per_k[4-1], X)\n",
        "plt.show()"
      ],
      "execution_count": null,
      "outputs": []
    },
    {
      "cell_type": "markdown",
      "metadata": {
        "id": "SbXmmnelPS9l"
      },
      "source": [
        "Para calcular el *silhouette score*, puede usar la función *silhouette_score()* de Scikit-Learn, dándole todas las instancias en el conjunto de datos y las etiquetas que se les asignaron."
      ]
    },
    {
      "cell_type": "markdown",
      "metadata": {
        "id": "vUYgot5DPS9m"
      },
      "source": [
        "Tracemos la puntuación de la silueta en función de $k$:"
      ]
    },
    {
      "cell_type": "code",
      "metadata": {
        "id": "IPYRfm_IPS9n"
      },
      "source": [
        "from sklearn.metrics import silhouette_score\n",
        "silhouette_score(X, kmeans.labels_)"
      ],
      "execution_count": null,
      "outputs": []
    },
    {
      "cell_type": "markdown",
      "metadata": {
        "id": "X4kCc9HQPS9t"
      },
      "source": [
        "Comparemos los puntajes de silueta para diferentes números de grupos:"
      ]
    },
    {
      "cell_type": "code",
      "metadata": {
        "id": "YoPoIondPS9u"
      },
      "source": [
        "silhouette_scores = [silhouette_score(X, model.labels_)\n",
        "                     for model in kmeans_per_k[1:]]\n",
        "\n",
        "plt.figure(figsize=(8, 3))\n",
        "plt.plot(range(2, 10), silhouette_scores, \"bo-\")\n",
        "plt.xlabel(\"$k$\", fontsize=14)\n",
        "plt.ylabel(\"Silhouette score\", fontsize=14)\n",
        "plt.axis([1.8, 8.5, 0.55, 0.7])\n",
        "#save_fig(\"silhouette_score_vs_k_plot\")\n",
        "plt.show()"
      ],
      "execution_count": null,
      "outputs": []
    },
    {
      "cell_type": "markdown",
      "metadata": {
        "id": "68aGraWmPS9w"
      },
      "source": [
        "Como podemos ver, esta visualización es mucho más rica que la anterior: en particular, aunque **confirma que $k = 4$ es una muy buena opción, también subraya el hecho de que $k = 5$ también es bastante bueno y mucho mejor que $k = 6$ o $k = 7$**. Esto no era visible al comparar inercias."
      ]
    },
    {
      "cell_type": "markdown",
      "metadata": {
        "id": "jMgEE3v9PS9w"
      },
      "source": [
        "Adicionalmente, obtenemos una visualización aún más informativa cuando trazamos el *silhouette score* de cada instancia, ordenado por el grupo al que están asignados y por el valor del coeficiente. Esto se llama **diagrama de silueta**:"
      ]
    },
    {
      "cell_type": "code",
      "metadata": {
        "id": "zBlUVAjFPS9w"
      },
      "source": [
        "import matplotlib as mpl\n",
        "from sklearn.metrics import silhouette_samples\n",
        "from matplotlib.ticker import FixedLocator, FixedFormatter\n",
        "\n",
        "plt.figure(figsize=(11, 9))\n",
        "\n",
        "for k in (3, 4, 5, 6):\n",
        "    plt.subplot(2, 2, k - 2)\n",
        "    \n",
        "    y_pred                  = kmeans_per_k[k - 1].labels_\n",
        "    silhouette_coefficients = silhouette_samples(X, y_pred)\n",
        "\n",
        "    padding = len(X) // 30\n",
        "    pos     = padding\n",
        "    ticks   = []\n",
        "    for i in range(k):\n",
        "        coeffs = silhouette_coefficients[y_pred == i]\n",
        "        coeffs.sort()\n",
        "\n",
        "        color = mpl.cm.Spectral(i / k)\n",
        "        plt.fill_betweenx(np.arange(pos, pos + len(coeffs)), 0, coeffs,\n",
        "                          facecolor=color, edgecolor=color, alpha=0.7)\n",
        "        ticks.append(pos + len(coeffs) // 2)\n",
        "        pos += len(coeffs) + padding\n",
        "\n",
        "    plt.gca().yaxis.set_major_locator(FixedLocator(ticks))\n",
        "    plt.gca().yaxis.set_major_formatter(FixedFormatter(range(k)))\n",
        "    if k in (3, 5):\n",
        "        plt.ylabel(\"Cluster\")\n",
        "    \n",
        "    if k in (5, 6):\n",
        "        plt.gca().set_xticks([-0.1, 0, 0.2, 0.4, 0.6, 0.8, 1])\n",
        "        plt.xlabel(\"Silhouette Coefficient\")\n",
        "    else:\n",
        "        plt.tick_params(labelbottom=False)\n",
        "\n",
        "    plt.axvline(x=silhouette_scores[k - 2], color=\"red\", linestyle=\"--\")\n",
        "    plt.title(\"$k={}$\".format(k), fontsize=16)\n",
        "\n",
        "#save_fig(\"silhouette_analysis_plot\")\n",
        "plt.show()"
      ],
      "execution_count": null,
      "outputs": []
    },
    {
      "cell_type": "markdown",
      "metadata": {
        "id": "hyfrjhq-PS9y"
      },
      "source": [
        "- Las líneas discontinuas verticales representan el *silhouette score* para cada  grupos. \n",
        "- Cuando la mayoría de las instancias en un grupo tienen un coeficiente más bajo que este puntaje (es decir, si muchas de las instancias se detienen cerca de la línea punteada, terminando a la izquierda de la misma), entonces **el grupo es bastante malo ya que esto significa que sus instancias son demasiado cerca de otros grupos**. \n",
        "- Podemos ver que cuando $k = 3$ y cuando $k = 6$, obtenemos grupos defectuosos. Pero cuando $k = 4$ o $k = 5$, los grupos se ven bastante bien: **la mayoría de los casos se extienden más allá de la línea discontinua, a la derecha y más cerca de 1.0**.\n",
        "- Cuando $k = 4$, el grupo en el índice 1 (el tercero desde la parte superior), es bastante grande, mientras que cuando $k = 5$, todos los grupos tienen tamaños similares, por lo que a pesar de que la puntuación de silueta general de $k = 4$ es ligeramente mayor que para $k = 5$, parece una buena idea usar $k = 5$ para obtener **grupos de tamaños similares**."
      ]
    },
    {
      "cell_type": "markdown",
      "metadata": {
        "id": "gEMabJU3PS9z"
      },
      "source": [
        "### Consideraciones sobre K-Means"
      ]
    },
    {
      "cell_type": "markdown",
      "metadata": {
        "id": "XclIJUKnPS90"
      },
      "source": [
        "**Ejemplo:** la Figura a continuación muestra cómo KMeans agrupa un conjunto de datos que contiene tres grupos elipsoidales de diferentes dimensiones, densidades y orientaciones:"
      ]
    },
    {
      "cell_type": "code",
      "metadata": {
        "id": "LXexmYAsPS90"
      },
      "source": [
        "X1, y1 = make_blobs(n_samples=1000, centers=((4, -4), (0, 0)), random_state=42)\n",
        "X1     = X1.dot(np.array([[0.374, 0.95], [0.732, 0.598]]))\n",
        "X2, y2 = make_blobs(n_samples=250, centers=1, random_state=42)\n",
        "X2     = X2 + [6, -8]\n",
        "X      = np.r_[X1, X2]\n",
        "y      = np.r_[y1, y2]\n",
        "\n",
        "plot_clusters(X)"
      ],
      "execution_count": null,
      "outputs": []
    },
    {
      "cell_type": "code",
      "metadata": {
        "id": "YMEwLFamPS92"
      },
      "source": [
        "kmeans_good = KMeans(n_clusters=3, init=np.array([[-1.5, 2.5], [0.5, 0], [4, 0]]), n_init=1, random_state=42)\n",
        "kmeans_bad  = KMeans(n_clusters=3, random_state=42)\n",
        "kmeans_good.fit(X)\n",
        "kmeans_bad.fit(X)"
      ],
      "execution_count": null,
      "outputs": []
    },
    {
      "cell_type": "code",
      "metadata": {
        "id": "-lH8wTTCPS97"
      },
      "source": [
        "plt.figure(figsize=(10, 3.2))\n",
        "\n",
        "plt.subplot(121)\n",
        "plot_decision_boundaries(kmeans_good, X)\n",
        "plt.title(\"Inertia = {:.1f}\".format(kmeans_good.inertia_), fontsize=14)\n",
        "\n",
        "plt.subplot(122)\n",
        "plot_decision_boundaries(kmeans_bad, X, show_ylabels=False)\n",
        "plt.title(\"Inertia = {:.1f}\".format(kmeans_bad.inertia_), fontsize=14)\n",
        "\n",
        "#save_fig(\"bad_kmeans_plot\")\n",
        "plt.show()"
      ],
      "execution_count": null,
      "outputs": []
    },
    {
      "cell_type": "markdown",
      "metadata": {
        "id": "ftdV2G2uPS99"
      },
      "source": [
        "Como podemos ver, **ninguna de estas soluciones es buena**. \n",
        "\n",
        "- La solución a la izquierda es mejor, pero aún corta el $25\\%$ del grupo intermedio y lo asigna al grupo a la derecha. \n",
        "- La solución a la derecha es simplemente terrible, a pesar de que su inercia es menor. \n",
        "\n",
        "Entonces, dependiendo de los datos, los diferentes algoritmos de agrupación pueden funcionar mejor. Por ejemplo, en estos tipos de grupos elípticos, los **modelos de mezcla gaussiana** funcionan muy bien."
      ]
    },
    {
      "cell_type": "markdown",
      "metadata": {
        "id": "PuAIJ8wHPS99"
      },
      "source": [
        "**TIP:** Es importante **escalar las características de entrada antes de ejecutar K-Means**, de lo contrario, los grupos pueden estar muy extendidos y K-Means funcionará mal. Escalar las características no garantiza que todos los clústeres sean agradables y esféricos, pero generalmente mejora las cosas."
      ]
    },
    {
      "cell_type": "markdown",
      "metadata": {
        "id": "sZQJbRkqPS9-"
      },
      "source": [
        "## Aplicación #1: Segmentación de imágenes"
      ]
    },
    {
      "cell_type": "markdown",
      "metadata": {
        "id": "VUnAzwCZPS9-"
      },
      "source": [
        "Aquí, vamos a hacer algo mucho más simple: **segmentación de color**. Simplemente asignaremos píxeles al mismo segmento si tienen un color similar. Primero, carguemos la imagen usando la función *imread()* de Matplotlib:"
      ]
    },
    {
      "cell_type": "code",
      "metadata": {
        "id": "_nCz4tYYp_LU"
      },
      "source": [
        "FILEID = \"1BlSBya5x9Jsd1Bu-6PPwMehdPQgAkX0w\"\n",
        "!wget --load-cookies /tmp/cookies.txt \"https://docs.google.com/uc?export=download&confirm=$(wget --quiet --save-cookies /tmp/cookies.txt --keep-session-cookies --no-check-certificate 'https://docs.google.com/uc?export=download&id='$FILEID -O- | sed -rn 's/.*confirm=([0-9A-Za-z_]+).*/\\1\\n/p')&id=\"$FILEID -O ladybug.png && rm -rf /tmp/cookies.txt\n",
        "\n"
      ],
      "execution_count": null,
      "outputs": []
    },
    {
      "cell_type": "code",
      "metadata": {
        "id": "oyFi9yqxPS9-"
      },
      "source": [
        "from matplotlib.image import imread\n",
        "image = imread(os.path.join(\"ladybug.png\"))\n",
        "plt.imshow(image)\n",
        "image.shape"
      ],
      "execution_count": null,
      "outputs": []
    },
    {
      "cell_type": "markdown",
      "metadata": {
        "id": "gCkcJYL7PS-A"
      },
      "source": [
        "- La imagen se representa como una **matriz 3D**: el tamaño de la primera dimensión es la altura, el segundo es el ancho y el tercero es el número de canales de color, en este caso rojo, verde y azul (RGB). En otras palabras, para cada píxel hay un vector 3D que contiene las intensidades de rojo, verde y azul, cada una entre 0.0 y 1.0 (o entre 0 y 255 si usa *imageio.imread ()*). \n",
        "- Algunas imágenes pueden tener menos canales, como imágenes en escala de grises (un canal), o más canales, como imágenes con un canal alfa adicional para transparencia, o imágenes de satélite que a menudo contienen canales para muchas frecuencias de luz (por ejemplo, infrarrojos). \n",
        "\n",
        "El siguiente código da nueva forma a la matriz para obtener una larga lista de colores RGB, luego agrupa estos colores usando K-Means. \n",
        "\n",
        "**Ejemplo:**\n",
        "1. Identificar un grupo de colores para todos los tonos de verde. \n",
        "2. A continuación, para cada color (por ejemplo, verde oscuro), busca el color medio del grupo de colores del píxel. Por ejemplo, todos los tonos de verde pueden reemplazarse con el mismo color verde claro (suponiendo que el color medio del grupo verde sea verde claro). \n",
        "3. Finalmente, dar nueva forma a esta larga lista de colores para obtener la misma forma que la imagen original. ¡Y hemos terminado!."
      ]
    },
    {
      "cell_type": "code",
      "metadata": {
        "id": "KqGH2jzzPS-B"
      },
      "source": [
        "X             = image.reshape(-1, 3)\n",
        "kmeans        = KMeans(n_clusters=8, random_state=42).fit(X)\n",
        "segmented_img = kmeans.cluster_centers_[kmeans.labels_]\n",
        "segmented_img = segmented_img.reshape(image.shape)\n",
        "plt.imshow(segmented_img)"
      ],
      "execution_count": null,
      "outputs": []
    },
    {
      "cell_type": "markdown",
      "metadata": {
        "id": "TVeoOR95PS-D"
      },
      "source": [
        "Podemos experimentar con varios números de grupos, como se muestra en la siguiente figura. "
      ]
    },
    {
      "cell_type": "code",
      "metadata": {
        "id": "8l_oZjb_PS-E"
      },
      "source": [
        "segmented_imgs = []\n",
        "n_colors       = (10, 8, 6, 4, 2)\n",
        "for n_clusters in n_colors:\n",
        "    kmeans        = KMeans(n_clusters=n_clusters, random_state=42).fit(X)\n",
        "    segmented_img = kmeans.cluster_centers_[kmeans.labels_]\n",
        "    segmented_imgs.append(segmented_img.reshape(image.shape))\n",
        "\n",
        "plt.figure(figsize=(10,5))\n",
        "plt.subplots_adjust(wspace=0.05, hspace=0.1)\n",
        "\n",
        "plt.subplot(231)\n",
        "plt.imshow(image)\n",
        "plt.title(\"Original image\")\n",
        "plt.axis('off')\n",
        "\n",
        "for idx, n_clusters in enumerate(n_colors):\n",
        "    plt.subplot(232 + idx)\n",
        "    plt.imshow(segmented_imgs[idx])\n",
        "    plt.title(\"{} colors\".format(n_clusters))\n",
        "    plt.axis('off')\n",
        "\n",
        "#save_fig('image_segmentation_diagram', tight_layout=False)\n",
        "plt.show()"
      ],
      "execution_count": null,
      "outputs": []
    },
    {
      "cell_type": "markdown",
      "metadata": {
        "id": "jqPCI0Q-PS-G"
      },
      "source": [
        "- Cuando usamos menos de 8 grupos, observamos que el llamativo color rojo de la mariquita no consigue un grupo propio: se fusiona con los colores del entorno. Esto se debe al hecho de que la mariquita es bastante pequeña, mucho más pequeña que el resto de la imagen, por lo que a pesar de que su color es llamativo, K-Means no puede dedicarle un grupo: como se mencionó anteriormente, **K-Means prefiere grupos de tamaños similares**."
      ]
    },
    {
      "cell_type": "markdown",
      "metadata": {
        "id": "Yg7XXYeyPS-G"
      },
      "source": [
        "## Application #2: Using clustering for preprocessing"
      ]
    },
    {
      "cell_type": "markdown",
      "metadata": {
        "id": "Lela2mFsPS-G"
      },
      "source": [
        "Clustering puede ser un enfoque eficiente para la reducción de la dimensionalidad, en particular **como un paso de preprocesamiento antes de un algoritmo de aprendizaje supervisado**. \n",
        "\n",
        "**Ejemplo:** Abordemos el conjunto de datos de dígitos, que es un conjunto de datos simple similar a MNIST que contiene 1.797 imágenes en escala de grises $8\\times 8$ que representan dígitos del 0 al 9. Primero, carguemos el conjunto de datos:"
      ]
    },
    {
      "cell_type": "code",
      "metadata": {
        "id": "BUYCyrE9PS-H"
      },
      "source": [
        "from sklearn.datasets import load_digits\n",
        "X_digits, y_digits = load_digits(return_X_y=True)"
      ],
      "execution_count": null,
      "outputs": []
    },
    {
      "cell_type": "markdown",
      "metadata": {
        "id": "09mIgQr0PS-I"
      },
      "source": [
        "Ahora, dividámoslo en un conjunto de entrenamiento y un conjunto de prueba:"
      ]
    },
    {
      "cell_type": "code",
      "metadata": {
        "id": "MacREKgRPS-I"
      },
      "source": [
        "from sklearn.model_selection import train_test_split\n",
        "X_train, X_test, y_train, y_test = train_test_split(X_digits, y_digits, random_state=42)"
      ],
      "execution_count": null,
      "outputs": []
    },
    {
      "cell_type": "markdown",
      "metadata": {
        "id": "5lYBKohvPS-J"
      },
      "source": [
        "A continuación, ajustemos un modelo de **Regresión logística**:"
      ]
    },
    {
      "cell_type": "code",
      "metadata": {
        "id": "R7Bsq9x3PS-K"
      },
      "source": [
        "from sklearn.linear_model import LogisticRegression\n",
        "\n",
        "log_reg = LogisticRegression(multi_class=\"ovr\", solver=\"lbfgs\", max_iter=5000, random_state=42)\n",
        "log_reg.fit(X_train, y_train)"
      ],
      "execution_count": null,
      "outputs": []
    },
    {
      "cell_type": "markdown",
      "metadata": {
        "id": "i95UzJ9IPS-N"
      },
      "source": [
        "Vamos a evaluar su precisión en el conjunto de prueba:"
      ]
    },
    {
      "cell_type": "code",
      "metadata": {
        "id": "fALcbYSXPS-O"
      },
      "source": [
        "log_reg.score(X_test, y_test)"
      ],
      "execution_count": null,
      "outputs": []
    },
    {
      "cell_type": "markdown",
      "metadata": {
        "id": "4vraRaOfPS-R"
      },
      "source": [
        "Bien, esa es nuestra línea de base: **96.7% de precisión**. Veamos si podemos mejorar utilizando KMeans como un paso de preprocesamiento. Crearemos un *pipeline* que:\n",
        "1. Primero agrupará el conjunto de entrenamiento en 50 grupos\n",
        "2. Luego, reemplazaremos las imágenes con sus distancias a estos 50 grupos\n",
        "3. Por último, aplicaremos un modelo de regresión logística."
      ]
    },
    {
      "cell_type": "markdown",
      "metadata": {
        "id": "cu8D6o2LPS-R"
      },
      "source": [
        "**NOTA:** Aunque es tentador definir el número de grupos a 10, dado que hay 10 dígitos diferentes, es poco probable que funcione bien, porque **hay varias formas diferentes de escribir cada dígito**."
      ]
    },
    {
      "cell_type": "code",
      "metadata": {
        "id": "r6dxCj0rPS-S"
      },
      "source": [
        "from sklearn.pipeline import Pipeline\n",
        "\n",
        "pipeline = Pipeline([\n",
        "    (\"kmeans\", KMeans(n_clusters=50, random_state=42)),\n",
        "    (\"log_reg\", LogisticRegression(multi_class=\"ovr\", solver=\"lbfgs\", max_iter=5000, random_state=42)),\n",
        "])\n",
        "pipeline.fit(X_train, y_train)"
      ],
      "execution_count": null,
      "outputs": []
    },
    {
      "cell_type": "markdown",
      "metadata": {
        "id": "uUyTV2rrPS-V"
      },
      "source": [
        "Ahora vamos a evaluar esta tubería de clasificación:"
      ]
    },
    {
      "cell_type": "code",
      "metadata": {
        "id": "6VUXopHlPS-V"
      },
      "source": [
        "pipeline.score(X_test, y_test)"
      ],
      "execution_count": null,
      "outputs": []
    },
    {
      "cell_type": "code",
      "metadata": {
        "id": "TqH8NqQKPS-c"
      },
      "source": [
        "1 - (1 - 0.977777) / (1 - 0.968888)"
      ],
      "execution_count": null,
      "outputs": []
    },
    {
      "cell_type": "markdown",
      "metadata": {
        "id": "Z7oIjg1APS-f"
      },
      "source": [
        "¿Qué hay sobre eso? ¡Redujimos la tasa de error en más del 28%! \n",
        "- Sin embargo, elegimos el número de clústeres $k$ completamente arbitrariamente, seguramente podemos hacerlo mejor. \n",
        "- Dado que K-Means es solo un paso de preprocesamiento en el *pipeline* de clasificación, encontrar un buen valor para $k$ es mucho más simple que antes: no es necesario realizar un análisis de silueta o minimizar la inercia, el mejor valor de $k$ es simplemente el uno que resulte en el mejor rendimiento de clasificación.\n",
        "Usemos *GridSearchCV* para encontrar la cantidad óptima de clústeres:"
      ]
    },
    {
      "cell_type": "code",
      "metadata": {
        "id": "At3SuIrcPS-g"
      },
      "source": [
        "from sklearn.model_selection import GridSearchCV\n",
        "\n",
        "param_grid = dict(kmeans__n_clusters=range(2, 100))\n",
        "grid_clf   = GridSearchCV(pipeline, param_grid, cv=3, verbose=2)\n",
        "grid_clf.fit(X_train, y_train)"
      ],
      "execution_count": null,
      "outputs": []
    },
    {
      "cell_type": "markdown",
      "metadata": {
        "id": "ubhpWulIPS-j"
      },
      "source": [
        "Veamos el mejor valor para $k$ y el rendimiento del *pipeline* resultante:"
      ]
    },
    {
      "cell_type": "code",
      "metadata": {
        "id": "84BX9C_VPS-k"
      },
      "source": [
        "grid_clf.best_params_"
      ],
      "execution_count": null,
      "outputs": []
    },
    {
      "cell_type": "code",
      "metadata": {
        "id": "ITBhmkhpPS-n"
      },
      "source": [
        "grid_clf.score(X_test, y_test)"
      ],
      "execution_count": null,
      "outputs": []
    },
    {
      "cell_type": "markdown",
      "metadata": {
        "id": "DfVXkH8ePS-p"
      },
      "source": [
        "Con $k = 99$ grupos, obtenemos un pequeño aumento de precisión, alcanzando un 98,2% de precisión en el conjunto de prueba. ¡Bueno!"
      ]
    },
    {
      "cell_type": "markdown",
      "metadata": {
        "id": "NDVRWRgmPS-p"
      },
      "source": [
        "## Application #3: Using clustering for semi-supervised learning"
      ]
    },
    {
      "cell_type": "markdown",
      "metadata": {
        "id": "iF__CbN3PS-p"
      },
      "source": [
        "Otro caso de uso para clustering es en el aprendizaje semi-supervisado **cuando tenemos muchas instancias sin etiquetar y muy pocas instancias etiquetadas**. Vamos a entrenar un modelo de regresión logística en una muestra de 50 instancias etiquetadas del conjunto de datos de dígitos:"
      ]
    },
    {
      "cell_type": "code",
      "metadata": {
        "id": "P_MZixkoPS-q"
      },
      "source": [
        "n_labeled = 50\n",
        "log_reg   = LogisticRegression(multi_class=\"ovr\", solver=\"lbfgs\", random_state=42)\n",
        "log_reg.fit(X_train[:n_labeled], y_train[:n_labeled])"
      ],
      "execution_count": null,
      "outputs": []
    },
    {
      "cell_type": "markdown",
      "metadata": {
        "id": "7RJQMaY7PS-r"
      },
      "source": [
        "¿Cuál es el rendimiento de este modelo en el conjunto de prueba?"
      ]
    },
    {
      "cell_type": "code",
      "metadata": {
        "id": "kmMd_2IiPS-r"
      },
      "source": [
        "log_reg.score(X_test, y_test)"
      ],
      "execution_count": null,
      "outputs": []
    },
    {
      "cell_type": "markdown",
      "metadata": {
        "id": "Pu8zl_slPS-u"
      },
      "source": [
        "- La precisión es solo del $83.3\\%$: no debería sorprendernos que esto sea mucho más bajo que antes cuando entrenamos el modelo en el conjunto de entrenamiento completo. \n",
        "- Veamos cómo podemos hacerlo mejor:\n",
        "    1. Agrupemos el conjunto de entrenamiento en 50 grupos\n",
        "    2. Para cada grupo, busquemos la imagen más cercana al centroide. Llamaremos a estas imágenes imágenes representativas:"
      ]
    },
    {
      "cell_type": "code",
      "metadata": {
        "id": "70F9Y0dKPS-v"
      },
      "source": [
        "k                        = 50\n",
        "kmeans                   = KMeans(n_clusters=k, random_state=42)\n",
        "X_digits_dist            = kmeans.fit_transform(X_train)\n",
        "representative_digit_idx = np.argmin(X_digits_dist, axis=0)\n",
        "X_representative_digits  = X_train[representative_digit_idx]"
      ],
      "execution_count": null,
      "outputs": []
    },
    {
      "cell_type": "markdown",
      "metadata": {
        "id": "Gq9b01U-PS-w"
      },
      "source": [
        "Ahora tracemos estas imágenes representativas y rotúlemoslas manualmente:"
      ]
    },
    {
      "cell_type": "code",
      "metadata": {
        "id": "r-u4zLT4PS-w"
      },
      "source": [
        "plt.figure(figsize=(8, 2))\n",
        "for index, X_representative_digit in enumerate(X_representative_digits):\n",
        "    plt.subplot(k // 10, 10, index + 1)\n",
        "    plt.imshow(X_representative_digit.reshape(8, 8), cmap=\"binary\", interpolation=\"bilinear\")\n",
        "    plt.axis('off')\n",
        "\n",
        "#save_fig(\"representative_images_diagram\", tight_layout=False)\n",
        "plt.show()"
      ],
      "execution_count": null,
      "outputs": []
    },
    {
      "cell_type": "code",
      "metadata": {
        "id": "2ILzEfouPS-0"
      },
      "source": [
        "y_representative_digits = np.array([\n",
        "    4, 8, 0, 6, 8, 3, 7, 7, 9, 2,\n",
        "    5, 5, 8, 5, 2, 1, 2, 9, 6, 1,\n",
        "    1, 6, 9, 0, 8, 3, 0, 7, 4, 1,\n",
        "    6, 5, 2, 4, 1, 8, 6, 3, 9, 2,\n",
        "    4, 2, 9, 4, 7, 6, 2, 3, 1, 1])"
      ],
      "execution_count": null,
      "outputs": []
    },
    {
      "cell_type": "markdown",
      "metadata": {
        "id": "e-DM4dqsPS-2"
      },
      "source": [
        "Ahora tenemos un conjunto de datos con solo 50 instancias etiquetadas, pero en lugar de ser instancias completamente aleatorias, **cada una de ellas es una imagen representativa de su clúster**. Veamos si el rendimiento es mejor:"
      ]
    },
    {
      "cell_type": "code",
      "metadata": {
        "id": "9pZ3ESmcPS-3"
      },
      "source": [
        "log_reg = LogisticRegression(multi_class=\"ovr\", solver=\"lbfgs\", max_iter=5000, random_state=42)\n",
        "log_reg.fit(X_representative_digits, y_representative_digits)\n",
        "log_reg.score(X_test, y_test)"
      ],
      "execution_count": null,
      "outputs": []
    },
    {
      "cell_type": "markdown",
      "metadata": {
        "id": "txDxVWzoPS-4"
      },
      "source": [
        "**¡Guauu! Saltamos del 82.7% de precisión al 92.4%**, aunque todavía solo estamos entrenando el modelo en 50 instancias. Dado que a menudo es costoso y doloroso etiquetar instancias, especialmente cuando los expertos deben hacerlo manualmente, es una buena idea **etiquetar instancias representativas en lugar de solo instancias aleatorias**."
      ]
    },
    {
      "cell_type": "markdown",
      "metadata": {
        "id": "qpvrUYYXPS-5"
      },
      "source": [
        "Pero tal vez podamos ir un paso más allá: **¿qué pasa si propagamos las etiquetas a todas las demás instancias en el mismo clúster?** Esto se llama *propagación de etiquetas*:"
      ]
    },
    {
      "cell_type": "code",
      "metadata": {
        "id": "3uHvrerCPS-6"
      },
      "source": [
        "y_train_propagated = np.empty(len(X_train), dtype=np.int32)\n",
        "for i in range(k):\n",
        "    y_train_propagated[kmeans.labels_==i] = y_representative_digits[i]\n",
        "\n",
        "log_reg = LogisticRegression(multi_class=\"ovr\", solver=\"lbfgs\", max_iter=5000, random_state=42)\n",
        "log_reg.fit(X_train, y_train_propagated)"
      ],
      "execution_count": null,
      "outputs": []
    },
    {
      "cell_type": "code",
      "metadata": {
        "id": "B-HEZRwbPS-8"
      },
      "source": [
        "log_reg.score(X_test, y_test)"
      ],
      "execution_count": null,
      "outputs": []
    },
    {
      "cell_type": "markdown",
      "metadata": {
        "id": "M4i2QiSTPS--"
      },
      "source": [
        "- Obtuvimos un pequeño aumento de precisión. Mejor que nada, pero no asombroso. \n",
        "- El problema es **que propagamos la etiqueta de cada instancia representativa a todas las instancias en el mismo clúster, incluidas las instancias ubicadas cerca de los límites del clúster, que tienen más probabilidades de estar mal etiquetadas**. \n",
        "\n",
        "Veamos qué sucede si solo propagamos las etiquetas al $20\\%$ de las instancias más cercanas a los centroides:"
      ]
    },
    {
      "cell_type": "code",
      "metadata": {
        "id": "6I8EqdwSPS--"
      },
      "source": [
        "percentile_closest = 20\n",
        "X_cluster_dist     = X_digits_dist[np.arange(len(X_train)), kmeans.labels_]\n",
        "for i in range(k):\n",
        "    in_cluster      = (kmeans.labels_ == i)\n",
        "    cluster_dist    = X_cluster_dist[in_cluster]\n",
        "    cutoff_distance = np.percentile(cluster_dist, percentile_closest)\n",
        "    above_cutoff    = (X_cluster_dist > cutoff_distance)\n",
        "    X_cluster_dist[in_cluster & above_cutoff] = -1\n",
        "\n",
        "partially_propagated         = (X_cluster_dist != -1)\n",
        "X_train_partially_propagated = X_train[partially_propagated]\n",
        "y_train_partially_propagated = y_train_propagated[partially_propagated]\n",
        "\n",
        "log_reg = LogisticRegression(multi_class=\"ovr\", solver=\"lbfgs\", max_iter=5000, random_state=42)\n",
        "log_reg.fit(X_train_partially_propagated, y_train_partially_propagated)"
      ],
      "execution_count": null,
      "outputs": []
    },
    {
      "cell_type": "code",
      "metadata": {
        "id": "IjhT6k1APS_A"
      },
      "source": [
        "log_reg.score(X_test, y_test)"
      ],
      "execution_count": null,
      "outputs": []
    },
    {
      "cell_type": "markdown",
      "metadata": {
        "id": "mDNaq4fyPS_C"
      },
      "source": [
        "¡Excelente! Con solo 50 instancias etiquetadas (¡solo 5 ejemplos por clase en promedio!), Obtuvimos un rendimiento del 94.2%, que está bastante cerca del rendimiento de la regresión logística en el conjunto de datos de dígitos completamente etiquetados (que fue del 96.7%). **Esto se debe a que las etiquetas propagadas son bastante buenas, su precisión es muy cercana al 99%**:"
      ]
    },
    {
      "cell_type": "code",
      "metadata": {
        "id": "klhG_iUpPS_D"
      },
      "source": [
        "np.mean(y_train_partially_propagated == y_train[partially_propagated])"
      ],
      "execution_count": null,
      "outputs": []
    },
    {
      "cell_type": "markdown",
      "metadata": {
        "id": "jVOA5XBYPS_E"
      },
      "source": [
        "## DBSCAN"
      ]
    },
    {
      "cell_type": "markdown",
      "metadata": {
        "id": "NOuxPj0APS_E"
      },
      "source": [
        "La clase **DBSCAN** en Scikit-Learn es tan simple de usar como cabría esperar. Probémoslo en el conjunto de datos de lunas:"
      ]
    },
    {
      "cell_type": "code",
      "metadata": {
        "id": "ko580NugPS_E"
      },
      "source": [
        "from sklearn.datasets import make_moons\n",
        "X, y = make_moons(n_samples=1000, noise=0.05, random_state=42)"
      ],
      "execution_count": null,
      "outputs": []
    },
    {
      "cell_type": "code",
      "metadata": {
        "id": "wXY39tM_PS_G"
      },
      "source": [
        "from sklearn.cluster import DBSCAN\n",
        "dbscan = DBSCAN(eps=0.05, min_samples=5)\n",
        "dbscan.fit(X)"
      ],
      "execution_count": null,
      "outputs": []
    },
    {
      "cell_type": "markdown",
      "metadata": {
        "id": "LROgBQ_aPS_H"
      },
      "source": [
        "Las etiquetas de todas las instancias ahora están disponibles en la variable *labels_ instance*:"
      ]
    },
    {
      "cell_type": "code",
      "metadata": {
        "id": "fNZDUZX6PS_H"
      },
      "source": [
        "dbscan.labels_[:10]"
      ],
      "execution_count": null,
      "outputs": []
    },
    {
      "cell_type": "markdown",
      "metadata": {
        "id": "KQOnaz2HPS_J"
      },
      "source": [
        "Tenga en cuenta que algunas instancias tienen un índice de clúster igual a **-1**: esto significa que **el algoritmo las considera anomalías**. Los índices de las instancias centrales están disponibles en la variable de instancia *core_sample_indices_*, y las propias instancias centrales están disponibles en la variable *components_ instance*:"
      ]
    },
    {
      "cell_type": "code",
      "metadata": {
        "id": "fGHd5_mJPS_J"
      },
      "source": [
        "len(dbscan.core_sample_indices_)"
      ],
      "execution_count": null,
      "outputs": []
    },
    {
      "cell_type": "code",
      "metadata": {
        "id": "Pq1vuJIZPS_L"
      },
      "source": [
        "dbscan.core_sample_indices_"
      ],
      "execution_count": null,
      "outputs": []
    },
    {
      "cell_type": "code",
      "metadata": {
        "id": "ve4B-RR_PS_Q"
      },
      "source": [
        "dbscan.components_[:3]"
      ],
      "execution_count": null,
      "outputs": []
    },
    {
      "cell_type": "code",
      "metadata": {
        "id": "sVx-owwhPS_R"
      },
      "source": [
        "import numpy as np\n",
        "np.unique(dbscan.labels_)"
      ],
      "execution_count": null,
      "outputs": []
    },
    {
      "cell_type": "code",
      "metadata": {
        "id": "nFZWnN8lPS_T"
      },
      "source": [
        "dbscan2 = DBSCAN(eps=0.2)\n",
        "dbscan2.fit(X)"
      ],
      "execution_count": null,
      "outputs": []
    },
    {
      "cell_type": "code",
      "metadata": {
        "id": "tLm_rMRyPS_V"
      },
      "source": [
        "def plot_dbscan(dbscan, X, size, show_xlabels=True, show_ylabels=True):\n",
        "    core_mask = np.zeros_like(dbscan.labels_, dtype=bool)\n",
        "    core_mask[dbscan.core_sample_indices_] = True\n",
        "    anomalies_mask = dbscan.labels_ == -1\n",
        "    non_core_mask = ~(core_mask | anomalies_mask)\n",
        "\n",
        "    cores = dbscan.components_\n",
        "    anomalies = X[anomalies_mask]\n",
        "    non_cores = X[non_core_mask]\n",
        "    \n",
        "    plt.scatter(cores[:, 0], cores[:, 1],\n",
        "                c=dbscan.labels_[core_mask], marker='o', s=size, cmap=\"Paired\")\n",
        "    plt.scatter(cores[:, 0], cores[:, 1], marker='*', s=20, c=dbscan.labels_[core_mask])\n",
        "    plt.scatter(anomalies[:, 0], anomalies[:, 1],\n",
        "                c=\"r\", marker=\"x\", s=100)\n",
        "    plt.scatter(non_cores[:, 0], non_cores[:, 1], c=dbscan.labels_[non_core_mask], marker=\".\")\n",
        "    if show_xlabels:\n",
        "        plt.xlabel(\"$x_1$\", fontsize=14)\n",
        "    else:\n",
        "        plt.tick_params(labelbottom=False)\n",
        "    if show_ylabels:\n",
        "        plt.ylabel(\"$x_2$\", fontsize=14, rotation=0)\n",
        "    else:\n",
        "        plt.tick_params(labelleft=False)\n",
        "    plt.title(\"eps={:.2f}, min_samples={}\".format(dbscan.eps, dbscan.min_samples), fontsize=14)"
      ],
      "execution_count": null,
      "outputs": []
    },
    {
      "cell_type": "code",
      "metadata": {
        "id": "ItAIVFJ6PS_W"
      },
      "source": [
        "import matplotlib.pyplot as plt\n",
        "plt.figure(figsize=(9, 3.2))\n",
        "\n",
        "plt.subplot(121)\n",
        "plot_dbscan(dbscan, X, size=100)\n",
        "\n",
        "plt.subplot(122)\n",
        "plot_dbscan(dbscan2, X, size=600, show_ylabels=False)\n",
        "\n",
        "#save_fig(\"dbscan_plot\")\n",
        "plt.show()"
      ],
      "execution_count": null,
      "outputs": []
    },
    {
      "cell_type": "markdown",
      "metadata": {
        "id": "jZ7IWcf-PS_Y"
      },
      "source": [
        "Este agrupamiento se representa en la gráfica izquierda de la figura. \n",
        "- Como podemos ver, el algoritmo identificó bastantes anomalías, además de 7 grupos diferentes. **¡Que decepcionante!**.\n",
        "\n",
        "Afortunadamente, si **ampliamos el vecindario de cada instancia** al aumentar $\\epsilon$ a 0.2, obtenemos el agrupamiento a la derecha, que se ve perfecto. Continuemos con este modelo."
      ]
    },
    {
      "cell_type": "markdown",
      "metadata": {
        "id": "o6X-uveIPS_Y"
      },
      "source": [
        "Sorprendentemente, la clase **DBSCAN** no tiene un método *predict_()*, aunque tiene un método *fit_predict_()*. En otras palabras, no puede predecir a qué clúster pertenece una nueva instancia. La razón de esta decisión es que varios algoritmos de clasificación podrían tener sentido aquí, y es bastante fácil entrenar uno, por ejemplo, un clasificador K-NN:"
      ]
    },
    {
      "cell_type": "code",
      "metadata": {
        "id": "R5foOPipPS_Y"
      },
      "source": [
        "dbscan = dbscan2"
      ],
      "execution_count": null,
      "outputs": []
    },
    {
      "cell_type": "code",
      "metadata": {
        "id": "kuJCLNcrPS_Z"
      },
      "source": [
        "from sklearn.neighbors import KNeighborsClassifier\n",
        "knn = KNeighborsClassifier(n_neighbors=50)\n",
        "knn.fit(dbscan.components_, dbscan.labels_[dbscan.core_sample_indices_])"
      ],
      "execution_count": null,
      "outputs": []
    },
    {
      "cell_type": "markdown",
      "metadata": {
        "id": "RDo9Za6ePS_c"
      },
      "source": [
        "- Ahora, dadas algunas instancias nuevas, **podemos predecir a qué grupo probablemente pertenecerán**, e incluso **estimar una probabilidad para cada grupo**. \n",
        "- Tengamos en cuenta que solo los entrenamos en las instancias centrales, pero también podríamos haber optado por capacitarlos en **todas las instancias**, o **todas menos las anomalías**: esta elección depende de la tarea final."
      ]
    },
    {
      "cell_type": "code",
      "metadata": {
        "id": "XQ6uEJXBPS_c"
      },
      "source": [
        "X_new = np.array([[-0.5, 0], [0, 0.5], [1, -0.1], [2, 1]])\n",
        "knn.predict(X_new)"
      ],
      "execution_count": null,
      "outputs": []
    },
    {
      "cell_type": "code",
      "metadata": {
        "id": "JZuzy_yyPS_d"
      },
      "source": [
        "knn.predict_proba(X_new)"
      ],
      "execution_count": null,
      "outputs": []
    },
    {
      "cell_type": "code",
      "metadata": {
        "id": "2u_jh1dVPS_f"
      },
      "source": [
        "plt.figure(figsize=(6, 3))\n",
        "plot_decision_boundaries(knn, X, show_centroids=False)\n",
        "plt.scatter(X_new[:, 0], X_new[:, 1], c=\"b\", marker=\"+\", s=200, zorder=10)\n",
        "#save_fig(\"cluster_classification_plot\")\n",
        "plt.show()"
      ],
      "execution_count": null,
      "outputs": []
    },
    {
      "cell_type": "markdown",
      "metadata": {
        "id": "yAwhaqPzPS_h"
      },
      "source": [
        "El límite de decisión se representa en la Figura anterior:\n",
        "- Las cruces representan las 4 instancias en *X_new*. \n",
        "- Tengamos en cuenta que, dado que no hay ninguna anomalía en el conjunto de entrenamiento del KNN, **el clasificador siempre elige un grupo, incluso cuando ese grupo está muy lejos**. \n",
        "\n",
        "Sin embargo, es bastante sencillo introducir una *distancia máxima*, en cuyo caso **las dos instancias que están lejos de ambos grupos se clasifican como anomalías**. Para hacer esto, podemos usar el método de los *kneighbors()* del **KNeighsClassifier**: dado un conjunto de instancias, devuelve las distancias y los índices de los $k$ vecinos más cercanos en el conjunto de entrenamiento (dos matrices, cada una con $k$ columnas):"
      ]
    },
    {
      "cell_type": "code",
      "metadata": {
        "id": "rrVEu4XvPS_h"
      },
      "source": [
        "y_dist, y_pred_idx = knn.kneighbors(X_new, n_neighbors=1)\n",
        "y_pred = dbscan.labels_[dbscan.core_sample_indices_][y_pred_idx]\n",
        "y_pred[y_dist > 0.2] = -1\n",
        "y_pred.ravel()"
      ],
      "execution_count": null,
      "outputs": []
    },
    {
      "cell_type": "markdown",
      "metadata": {
        "id": "IDfRwn_GPS_j"
      },
      "source": [
        "## Otros algoritmos de clustering"
      ]
    },
    {
      "cell_type": "markdown",
      "metadata": {
        "id": "8oT4RTi2PS_k"
      },
      "source": [
        "### Spectral clustering"
      ]
    },
    {
      "cell_type": "code",
      "metadata": {
        "id": "eEALww-bPS_k"
      },
      "source": [
        "from sklearn.cluster import SpectralClustering\n",
        "sc1 = SpectralClustering(n_clusters=2, gamma=100, random_state=42)\n",
        "sc1.fit(X)"
      ],
      "execution_count": null,
      "outputs": []
    },
    {
      "cell_type": "code",
      "metadata": {
        "id": "YvqutWz_PS_l"
      },
      "source": [
        "sc2 = SpectralClustering(n_clusters=2, gamma=1, random_state=42)\n",
        "sc2.fit(X)"
      ],
      "execution_count": null,
      "outputs": []
    },
    {
      "cell_type": "code",
      "metadata": {
        "id": "LLixZszdPS_o"
      },
      "source": [
        "np.percentile(sc1.affinity_matrix_, 95)"
      ],
      "execution_count": null,
      "outputs": []
    },
    {
      "cell_type": "code",
      "metadata": {
        "id": "3zAsgZoGPS_p"
      },
      "source": [
        "def plot_spectral_clustering(sc, X, size, alpha, show_xlabels=True, show_ylabels=True):\n",
        "    plt.scatter(X[:, 0], X[:, 1], marker='o', s=size, c='gray', cmap=\"Paired\", alpha=alpha)\n",
        "    plt.scatter(X[:, 0], X[:, 1], marker='o', s=30, c='w')\n",
        "    plt.scatter(X[:, 0], X[:, 1], marker='.', s=10, c=sc.labels_, cmap=\"Paired\")\n",
        "    \n",
        "    if show_xlabels:\n",
        "        plt.xlabel(\"$x_1$\", fontsize=14)\n",
        "    else:\n",
        "        plt.tick_params(labelbottom=False)\n",
        "    if show_ylabels:\n",
        "        plt.ylabel(\"$x_2$\", fontsize=14, rotation=0)\n",
        "    else:\n",
        "        plt.tick_params(labelleft=False)\n",
        "    plt.title(\"RBF gamma={}\".format(sc.gamma), fontsize=14)"
      ],
      "execution_count": null,
      "outputs": []
    },
    {
      "cell_type": "code",
      "metadata": {
        "id": "5kgRRAV5PS_u"
      },
      "source": [
        "plt.figure(figsize=(9, 3.2))\n",
        "\n",
        "plt.subplot(121)\n",
        "plot_spectral_clustering(sc1, X, size=500, alpha=0.1)\n",
        "\n",
        "plt.subplot(122)\n",
        "plot_spectral_clustering(sc2, X, size=4000, alpha=0.01, show_ylabels=False)\n",
        "\n",
        "plt.show()"
      ],
      "execution_count": null,
      "outputs": []
    },
    {
      "cell_type": "code",
      "metadata": {
        "id": "SFw5S_9rQsYY"
      },
      "source": [
        ""
      ],
      "execution_count": null,
      "outputs": []
    }
  ]
}