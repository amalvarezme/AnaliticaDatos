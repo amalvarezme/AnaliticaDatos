{
  "nbformat": 4,
  "nbformat_minor": 0,
  "metadata": {
    "colab": {
      "name": "ejemploclase_mar3.ipynb",
      "provenance": [],
      "authorship_tag": "ABX9TyMWGS8H7rwv6bnX5MIz6Zow",
      "include_colab_link": true
    },
    "kernelspec": {
      "name": "python3",
      "display_name": "Python 3"
    }
  },
  "cells": [
    {
      "cell_type": "markdown",
      "metadata": {
        "id": "view-in-github",
        "colab_type": "text"
      },
      "source": [
        "<a href=\"https://colab.research.google.com/github/amalvarezme/AnaliticaDatos/blob/master/ejemploclase_mar3.ipynb\" target=\"_parent\"><img src=\"https://colab.research.google.com/assets/colab-badge.svg\" alt=\"Open In Colab\"/></a>"
      ]
    },
    {
      "cell_type": "markdown",
      "metadata": {
        "id": "JomwH4JFyitW"
      },
      "source": [
        "# Ejemplo básico aprendizaje estadístico\r\n",
        "\r\n",
        "## Regresión por mínimos cuadrados sobre ruido blanco Gaussiano\r\n",
        "\r\n",
        "$$x = x^* + \\eta$$\r\n",
        "\r\n",
        "$$ \\eta \\sim \\mathcal{N}(\\eta | \\mu_\\eta, \\sigma_\\eta)$$\r\n",
        "\r\n",
        "\r\n",
        "$$\\mathcal{N}(\\eta | \\mu_\\eta, \\sigma_\\eta) = \\frac{1}{\\sqrt{2\\pi \\sigma^2_\\eta}}\\exp\\left(\\frac{-\\|\\eta-\\mu_\\eta\\|^2}{2\\sigma^2_\\eta}\\right)$$\r\n",
        "\r\n",
        "# Desde análisis de datos:\r\n",
        "\r\n",
        "$$y = f(x) + \\eta$$\r\n",
        "\r\n",
        "$$ y - f(x) = \\eta \\sim \\mathcal{N}(\\eta | \\mu_\\eta, \\sigma_\\eta)$$\r\n",
        "\r\n",
        "$$ y - f(x) = \\eta \\sim \\mathcal{N}(y-f(x) | \\mu_\\eta, \\sigma_\\eta)$$\r\n",
        "\r\n",
        "$$ = \\frac{1}{\\sqrt{2\\pi \\sigma^2_\\eta}}\\exp\\left(\\frac{-\\|(y-f(x))-\\mu_\\eta\\|^2}{2\\sigma^2_\\eta}\\right)$$\r\n",
        "\r\n"
      ]
    },
    {
      "cell_type": "code",
      "metadata": {
        "colab": {
          "base_uri": "https://localhost:8080/",
          "height": 265
        },
        "id": "bK9iigJdyh0Y",
        "outputId": "22746c10-44a3-4750-838e-ea30de312a4b"
      },
      "source": [
        "import numpy as np\r\n",
        "import matplotlib.pyplot as plt\r\n",
        "\r\n",
        "xi = -5\r\n",
        "xf = 10\r\n",
        "N = 100 # instancias\r\n",
        "x = np.linspace(xi,xf,N)\r\n",
        "x = x.reshape(-1,1)\r\n",
        "x.shape\r\n",
        "eta = np.random.randn(N).reshape(-1,1)\r\n",
        "y = x + eta\r\n",
        "\r\n",
        "plt.plot(x,y)\r\n",
        "plt.show()"
      ],
      "execution_count": 1,
      "outputs": [
        {
          "output_type": "display_data",
          "data": {
            "image/png": "[encoded data removed]",
            "text/plain": [
              "<Figure size 432x288 with 1 Axes>"
            ]
          },
          "metadata": {
            "tags": [],
            "needs_background": "light"
          }
        }
      ]
    },
    {
      "cell_type": "markdown",
      "metadata": {
        "id": "ziv6vBIXnJDu"
      },
      "source": [
        "$$y = (mx + b) + \\eta$$\r\n",
        "\r\n",
        "$$\\eta  \\sim \\mathcal{N}(\\eta| \\mu_\\eta = 0, \\sigma^2_\\eta)$$"
      ]
    },
    {
      "cell_type": "code",
      "metadata": {
        "id": "i7ki9WxN3FsA"
      },
      "source": [
        "var = 0.4\r\n",
        "m = 0.8\r\n",
        "b = -2\r\n",
        "N = 500\r\n",
        "eta =  np.sqrt(var)*np.random.randn(N).reshape(-1,1) # mu + sqrt(var)*eta"
      ],
      "execution_count": 60,
      "outputs": []
    },
    {
      "cell_type": "code",
      "metadata": {
        "id": "u1g0ceB2nxLP",
        "outputId": "0abc3414-b0bb-4060-efac-8f11558c6d62",
        "colab": {
          "base_uri": "https://localhost:8080/"
        }
      },
      "source": [
        "print(eta.mean(),eta.var())"
      ],
      "execution_count": 61,
      "outputs": [
        {
          "output_type": "stream",
          "text": [
            "0.008651681940979304 0.44135985360663615\n"
          ],
          "name": "stdout"
        }
      ]
    },
    {
      "cell_type": "code",
      "metadata": {
        "id": "tUfdkCHtoatu",
        "outputId": "9ea1bf54-bebc-452f-b701-6354fe97fa00",
        "colab": {
          "base_uri": "https://localhost:8080/"
        }
      },
      "source": [
        "np.ones((N,1)).shape"
      ],
      "execution_count": 62,
      "outputs": [
        {
          "output_type": "execute_result",
          "data": {
            "text/plain": [
              "(500, 1)"
            ]
          },
          "metadata": {
            "tags": []
          },
          "execution_count": 62
        }
      ]
    },
    {
      "cell_type": "code",
      "metadata": {
        "id": "SaVFzSnipfnn",
        "outputId": "9a2527d4-0c26-4a41-edb2-7875ddc4c30f",
        "colab": {
          "base_uri": "https://localhost:8080/"
        }
      },
      "source": [
        "np.linspace(xi,xf,N)[np.newaxis].shape"
      ],
      "execution_count": 63,
      "outputs": [
        {
          "output_type": "execute_result",
          "data": {
            "text/plain": [
              "(1, 500)"
            ]
          },
          "metadata": {
            "tags": []
          },
          "execution_count": 63
        }
      ]
    },
    {
      "cell_type": "code",
      "metadata": {
        "id": "PSvgnfVon1xt",
        "outputId": "05d0dd4e-b09a-4404-99be-118961b52ab5",
        "colab": {
          "base_uri": "https://localhost:8080/",
          "height": 265
        }
      },
      "source": [
        "xi = -10\r\n",
        "xf = 10\r\n",
        "X = np.c_[np.linspace(xi,xf,N).reshape(-1,1),np.ones((N))]# np.c_ concatena por columnas dos vectores\r\n",
        "X.shape\r\n",
        "w = np.array([m,b]).reshape(-1,1) # parametros del modelo lineal m y b como vector columna 2 x 1\r\n",
        "y = X.dot(w) + eta# X @ w\r\n",
        "yo = X.dot(w)\r\n",
        "plt.plot(X[:,0],y,label = '$y_{\\eta}$') #  graficar x vs  salida con ruido\r\n",
        "plt.plot(X[:,0],yo,'r',linewidth = 4,label = '$y_{o}$')\r\n",
        "plt.legend()\r\n",
        "plt.show()"
      ],
      "execution_count": 64,
      "outputs": [
        {
          "output_type": "display_data",
          "data": {
            "image/png": "[encoded data removed]",
            "text/plain": [
              "<Figure size 432x288 with 1 Axes>"
            ]
          },
          "metadata": {
            "tags": [],
            "needs_background": "light"
          }
        }
      ]
    },
    {
      "cell_type": "code",
      "metadata": {
        "id": "jBNIgq1poeCi",
        "outputId": "d253ddb5-f61a-46e6-b704-9496cfdf9ede",
        "colab": {
          "base_uri": "https://localhost:8080/"
        }
      },
      "source": [
        "we = np.linalg.pinv(X).dot(y) # estimacion por min cuadrados de w con pinv -> fit ajuste\r\n",
        "print(we,m,b)"
      ],
      "execution_count": 65,
      "outputs": [
        {
          "output_type": "stream",
          "text": [
            "[[ 0.80595788]\n",
            " [-1.99134832]] 0.8 -2\n"
          ],
          "name": "stdout"
        }
      ]
    },
    {
      "cell_type": "code",
      "metadata": {
        "id": "X5tY32ersYQp",
        "outputId": "cae68979-b323-4948-b141-31ac2f95d1c9",
        "colab": {
          "base_uri": "https://localhost:8080/",
          "height": 265
        }
      },
      "source": [
        "ye = X.dot(we)# prediccion\r\n",
        "plt.plot(X[:,0],y,label = '$y_{\\eta}$') #  graficar x vs  salida con ruido\r\n",
        "plt.plot(X[:,0],yo,'r',linewidth = 2,label = '$y_{o}$')\r\n",
        "plt.plot(X[:,0],ye,'g.',linewidth = 2,label = '$y_{e}$')\r\n",
        "plt.legend()\r\n",
        "plt.show()"
      ],
      "execution_count": 66,
      "outputs": [
        {
          "output_type": "display_data",
          "data": {
            "image/png": "[encoded data removed]",
            "text/plain": [
              "<Figure size 432x288 with 1 Axes>"
            ]
          },
          "metadata": {
            "tags": [],
            "needs_background": "light"
          }
        }
      ]
    },
    {
      "cell_type": "code",
      "metadata": {
        "id": "UExCXyDoteWy",
        "outputId": "71cf8dbe-2fc1-4906-9ca8-c0717cbb9c5a",
        "colab": {
          "base_uri": "https://localhost:8080/"
        }
      },
      "source": [
        "from sklearn.linear_model import LinearRegression\r\n",
        "from sklearn.metrics import mean_squared_error\r\n",
        "\r\n",
        "reg = LinearRegression()  # llamo init, constructor del objeto sklearn Linear Regression\r\n",
        "reg.fit(X,y) # ajustar, entrenar el modelo -> pinv(X).dot(y)\r\n"
      ],
      "execution_count": 67,
      "outputs": [
        {
          "output_type": "execute_result",
          "data": {
            "text/plain": [
              "LinearRegression(copy_X=True, fit_intercept=True, n_jobs=None, normalize=False)"
            ]
          },
          "metadata": {
            "tags": []
          },
          "execution_count": 67
        }
      ]
    },
    {
      "cell_type": "code",
      "metadata": {
        "id": "HSTiGVAivC4y",
        "outputId": "17b5177f-10cf-45ef-a35a-19c459c8b516",
        "colab": {
          "base_uri": "https://localhost:8080/"
        }
      },
      "source": [
        "print(reg.coef_,reg.intercept_)"
      ],
      "execution_count": 68,
      "outputs": [
        {
          "output_type": "stream",
          "text": [
            "[[0.80595788 0.        ]] [-1.99134832]\n"
          ],
          "name": "stdout"
        }
      ]
    },
    {
      "cell_type": "code",
      "metadata": {
        "id": "RfsmGIFdvc8o"
      },
      "source": [
        "ye = reg.predict(X) # predicir valores  nuevos, X.dot(we)"
      ],
      "execution_count": 69,
      "outputs": []
    },
    {
      "cell_type": "code",
      "metadata": {
        "id": "P62OwSx-wK94",
        "outputId": "855c8854-bc86-4324-856d-9ca28d41ee2a",
        "colab": {
          "base_uri": "https://localhost:8080/"
        }
      },
      "source": [
        "yen = reg.predict(X[2].reshape(1,-1))\r\n",
        "yen"
      ],
      "execution_count": 70,
      "outputs": [
        {
          "output_type": "execute_result",
          "data": {
            "text/plain": [
              "array([[-9.98632131]])"
            ]
          },
          "metadata": {
            "tags": []
          },
          "execution_count": 70
        }
      ]
    },
    {
      "cell_type": "code",
      "metadata": {
        "id": "BvTsfnUTwXm5",
        "outputId": "7ad37b94-a240-4747-cefe-5c6b705b79d7",
        "colab": {
          "base_uri": "https://localhost:8080/"
        }
      },
      "source": [
        "print(mean_squared_error(yo,ye))"
      ],
      "execution_count": 71,
      "outputs": [
        {
          "output_type": "stream",
          "text": [
            "0.0012628064099442452\n"
          ],
          "name": "stdout"
        }
      ]
    },
    {
      "cell_type": "code",
      "metadata": {
        "id": "m6Q4vEzTzOPR"
      },
      "source": [
        ""
      ],
      "execution_count": null,
      "outputs": []
    }
  ]
}