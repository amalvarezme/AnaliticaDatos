{
 "cells": [
  {
   "cell_type": "markdown",
   "metadata": {},
   "source": [
    "# Factorización de Matrices con Python"
   ]
  },
  {
   "cell_type": "markdown",
   "metadata": {},
   "source": [
    "*Esta notebook fue creada originalmente como un blog post por [Raúl E. López Briega](https://relopezbriega.com.ar/) en [Matemáticas, Analisis de datos y Python](https://relopezbriega.github.io). El contenido esta bajo la licencia BSD.*"
   ]
  },
  {
   "cell_type": "markdown",
   "metadata": {},
   "source": [
    "<img title=\"Factorización de Matrices con Python\" alt=\"Factorización de Matrices con Python\" src=\"https://relopezbriega.github.io/images/matrix_factorization.png\" high=\"400px\" width=\"600px\">"
   ]
  },
  {
   "cell_type": "markdown",
   "metadata": {},
   "source": [
    "## Introducción \n",
    "\n",
    "Cuando trabajamos en problemas de [Machine Learning](https://relopezbriega.github.io/tag/machine-learning.html), muchas veces nos vamos a encontrar con enormes [conjuntos de datos](https://es.wikipedia.org/wiki/Conjunto_de_datos), con cientos o miles de características o *features*. Una forma simple de reducir las dimensiones de estas características es aplicar alguna técnica de **[Factorización de matrices](https://es.wikipedia.org/wiki/Factorizaci%C3%B3n_de_matrices)**. La **[Factorización de matrices](https://es.wikipedia.org/wiki/Factorizaci%C3%B3n_de_matrices)** tiene enormes aplicaciones en todo tipo de problemas relacionados a la [inteligencia artificial](https://es.wikipedia.org/wiki/Inteligencia_artificial), ya que la [reducción de dimensionalidad](https://en.wikipedia.org/wiki/Dimensionality_reduction) es la esencia de la *[cognición](https://es.wikipedia.org/wiki/Cognici%C3%B3n)*. \n",
    "\n",
    "Asimismo, la **[Factorización de matrices](https://es.wikipedia.org/wiki/Factorizaci%C3%B3n_de_matrices)** es también un tema unificador dentro del [álgebra lineal numérica](https://relopezbriega.github.io/tag/algebra.html). Una amplia variedad de [algoritmos](https://es.wikipedia.org/wiki/Algoritmo) se han desarrollado a lo largo de muchas décadas, proporcionando una plataforma numérica para operaciones de <a href=\"https://es.wikipedia.org/wiki/Matriz_(matem%C3%A1ticas)\">matrices</a> tales como, la resolución de [sistemas de ecuaciones lineales](https://es.wikipedia.org/wiki/Sistema_de_ecuaciones_lineales), la [descomposición espectral](https://es.wikipedia.org/wiki/Teorema_de_descomposici%C3%B3n_espectral), y la identificación de [subespacios vectoriales](https://es.wikipedia.org/wiki/Subespacio_vectorial). Algunos de estos algoritmos también han demostrado ser de utilidad en problemas de [análisis estadístico de datos](https://relopezbriega.github.io/tag/estadistica.html), como es el caso de la [descomposición en valores singulares](https://es.wikipedia.org/wiki/Descomposici%C3%B3n_en_valores_singulares) o [SVD](https://es.wikipedia.org/wiki/Descomposici%C3%B3n_en_valores_singulares), por sus siglas en inglés, que es la base del [análisis de componentes principales](https://es.wikipedia.org/wiki/An%C3%A1lisis_de_componentes_principales) o [PCA](https://es.wikipedia.org/wiki/An%C3%A1lisis_de_componentes_principales), que es una técnica muy utilizada para reducir el tamaño de los datos. Muchas investigaciones actuales en [Machine Learning](https://relopezbriega.github.io/tag/machine-learning.html) han centrados sus esfuerzos en el uso de la **[Factorización de matrices](https://es.wikipedia.org/wiki/Factorizaci%C3%B3n_de_matrices)** para mejorar el rendimiento de los sistemas de aprendizaje. Principalmente en el estudio de la [factorización de matrices no negativas (NMF)](https://en.wikipedia.org/wiki/Non-negative_matrix_factorization), la cual se centra en el análisis de <a href=\"https://es.wikipedia.org/wiki/Matriz_(matem%C3%A1ticas)\">matrices de datos</a> cuyos elementos son positivos (no negativos), una ocurrencia muy común en los [conjuntos de datos](https://es.wikipedia.org/wiki/Conjunto_de_datos) derivados de textos e imágenes.\n",
    "\n",
    "\n",
    "## ¿Qué es la factorización de matrices?\n",
    "\n",
    "En [matemáticas](https://es.wikipedia.org/wiki/Matem%C3%A1ticas), la [factorización](https://es.wikipedia.org/wiki/Factorizaci%C3%B3n) es una técnica que consiste en la descomposición de una expresión matemática (que puede ser un número, una <a href=\"https://es.wikipedia.org/wiki/Matriz_(matem%C3%A1ticas)\">matriz</a>, un [tensor](https://es.wikipedia.org/wiki/C%C3%A1lculo_tensorial), etc.) en forma de producto. Existen distintos métodos de factorización, dependiendo de los objetos matemáticos estudiados; el objetivo es simplificar una expresión o reescribirla en términos de «bloques fundamentales», que reciben el nombre de *factores*. Así por ejemplo, el número 6 se puede descomponer en el producto de 3 y 2. Si extendemos este concepto al mundo de las <a href=\"https://es.wikipedia.org/wiki/Matriz_(matem%C3%A1ticas)\">matrices</a>, entonces podemos decir que la **[Factorización de matrices](https://es.wikipedia.org/wiki/Factorizaci%C3%B3n_de_matrices)** consiste en encontrar dos o más <a href=\"https://es.wikipedia.org/wiki/Matriz_(matem%C3%A1ticas)\">matrices</a> de manera tal que cuando se multipliquen nos devuelvan la <a href=\"https://es.wikipedia.org/wiki/Matriz_(matem%C3%A1ticas)\">matriz</a> original. Por ejemplo:\n",
    "\n",
    "$$\\left(\\begin{matrix}3 & 4 & 5\\\\6 & 8 & 10 \\end{matrix}\\right) = \\left(\\begin{matrix}1\\\\2 \\end{matrix}\\right) \\cdot \\left(\\begin{matrix}3 & 4 & 5 \\end{matrix}\\right)\n",
    "$$\n",
    "\n",
    "Los métodos de **[Factorización de matrices](https://es.wikipedia.org/wiki/Factorizaci%C3%B3n_de_matrices)** han ganado popularidad últimamente al haber sido aplicados con éxito en [sistemas de recomendación](https://es.wikipedia.org/wiki/Sistema_de_recomendaci%C3%B3n) para descubrir las características latentes que subyacen a las interacciones entre dos tipos de entidades, como por ejemplo usuarios y películas. El algoritmo que ganó el [desafío de Netflix](https://netflixprize.com/) fue un sistema basado en métodos de **[Factorización de matrices](https://es.wikipedia.org/wiki/Factorizaci%C3%B3n_de_matrices)**.\n",
    "\n",
    "## Factorización de matrices en sistemas de ecuaciones lineales\n",
    "\n",
    "Dos de las **[Factorización de matrices](https://es.wikipedia.org/wiki/Factorizaci%C3%B3n_de_matrices)** más utilizadas y que tal vez mucha gente las haya escuchado nombrar alguna vez son la [factorización LU](https://es.wikipedia.org/wiki/Factorizaci%C3%B3n_LU) y la [factorización QR](https://es.wikipedia.org/wiki/Factorizaci%C3%B3n_QR); las cuales se utilizan a menudo para resolver [sistemas de ecuaciones lineales](https://es.wikipedia.org/wiki/Sistema_de_ecuaciones_lineales).\n",
    "\n",
    "### Factorización LU\n",
    "\n",
    "$$A = LU$$\n",
    "\n",
    "En [álgebra lineal](https://relopezbriega.github.io/tag/algebra.html), la [factorización o descomposición LU](https://es.wikipedia.org/wiki/Factorizaci%C3%B3n_LU) (del inglés Lower-Upper) es una forma de [factorización](https://es.wikipedia.org/wiki/Factorizaci%C3%B3n) de una <a href=\"https://es.wikipedia.org/wiki/Matriz_(matem%C3%A1ticas)\">matriz</a> como el producto de una [matriz triangular](https://es.wikipedia.org/wiki/Matriz_triangular) inferior y una superior. La [factorización LU](https://es.wikipedia.org/wiki/Factorizaci%C3%B3n_LU) expresa el [método de Gauss](https://es.wikipedia.org/wiki/M%C3%A9todo_de_Gauss) en forma matricial. Así por ejemplo, tenemos que $PA = LU$ donde $P$ es una [matriz de permutación](https://es.wikipedia.org/wiki/Matriz_de_permutaci%C3%B3n). Una condición suficiente para que exista la factorización es que la matriz $A$ sea una [matriz no singular](https://es.wikipedia.org/wiki/Matriz_no_singular).\n",
    "\n",
    "En [Python](https://www.python.org/) podemos encontrar la [descomposición LU](https://es.wikipedia.org/wiki/Factorizaci%C3%B3n_LU) con la ayuda de [SciPy](https://docs.scipy.org/doc/scipy/reference/generated/scipy.linalg.lu_factor.html) de la siguiente forma:"
   ]
  },
  {
   "cell_type": "code",
   "execution_count": 1,
   "metadata": {},
   "outputs": [
    {
     "ename": "ModuleNotFoundError",
     "evalue": "No module named 'nimfa'",
     "output_type": "error",
     "traceback": [
      "\u001b[1;31m---------------------------------------------------------------------------\u001b[0m",
      "\u001b[1;31mModuleNotFoundError\u001b[0m                       Traceback (most recent call last)",
      "\u001b[1;32m<ipython-input-1-e7d4318fd97a>\u001b[0m in \u001b[0;36m<module>\u001b[1;34m\u001b[0m\n\u001b[0;32m      5\u001b[0m \u001b[1;32mimport\u001b[0m \u001b[0mscipy\u001b[0m\u001b[1;33m.\u001b[0m\u001b[0msparse\u001b[0m \u001b[1;32mas\u001b[0m \u001b[0msp\u001b[0m\u001b[1;33m\u001b[0m\u001b[1;33m\u001b[0m\u001b[0m\n\u001b[0;32m      6\u001b[0m \u001b[1;32mimport\u001b[0m \u001b[0mscipy\u001b[0m\u001b[1;33m.\u001b[0m\u001b[0mlinalg\u001b[0m \u001b[1;32mas\u001b[0m \u001b[0mla\u001b[0m\u001b[1;33m\u001b[0m\u001b[1;33m\u001b[0m\u001b[0m\n\u001b[1;32m----> 7\u001b[1;33m \u001b[1;32mimport\u001b[0m \u001b[0mnimfa\u001b[0m\u001b[1;33m\u001b[0m\u001b[1;33m\u001b[0m\u001b[0m\n\u001b[0m\u001b[0;32m      8\u001b[0m \u001b[1;32mfrom\u001b[0m \u001b[0msklearn\u001b[0m\u001b[1;33m.\u001b[0m\u001b[0mdecomposition\u001b[0m \u001b[1;32mimport\u001b[0m \u001b[0mNMF\u001b[0m\u001b[1;33m,\u001b[0m \u001b[0mPCA\u001b[0m\u001b[1;33m\u001b[0m\u001b[1;33m\u001b[0m\u001b[0m\n\u001b[0;32m      9\u001b[0m \u001b[1;32mfrom\u001b[0m \u001b[0msklearn\u001b[0m\u001b[1;33m.\u001b[0m\u001b[0mpreprocessing\u001b[0m \u001b[1;32mimport\u001b[0m \u001b[0mStandardScaler\u001b[0m\u001b[1;33m\u001b[0m\u001b[1;33m\u001b[0m\u001b[0m\n",
      "\u001b[1;31mModuleNotFoundError\u001b[0m: No module named 'nimfa'"
     ]
    }
   ],
   "source": [
    "# <!-- collapse=True -->\n",
    "# importando modulos necesarios\n",
    "import matplotlib.pyplot as plt \n",
    "import numpy as np\n",
    "import scipy.sparse as sp\n",
    "import scipy.linalg as la\n",
    "import nimfa\n",
    "from sklearn.decomposition import NMF, PCA\n",
    "from sklearn.preprocessing import StandardScaler\n",
    "import seaborn as sns\n",
    "import pandas as pd\n",
    "\n",
    "# graficos incrustados\n",
    "%matplotlib inline\n",
    "\n",
    "# parámetros de estilo\n",
    "sns.set(style='darkgrid', palette='muted')\n",
    "pd.set_option('display.mpl_style', 'default')\n",
    "pd.set_option('display.notebook_repr_html', True)\n",
    "plt.rcParams['figure.figsize'] = 8, 6"
   ]
  },
  {
   "cell_type": "code",
   "execution_count": 2,
   "metadata": {},
   "outputs": [],
   "source": [
    "# Ejemplo factorización LU\n",
    "A = np.array([[7, 3, -1, 2]\n",
    "             ,[3, 8, 1, -4]\n",
    "             ,[-1, 1, 4, -1]\n",
    "             ,[2, -4, -1, 6]])\n",
    "P, L, U = la.lu(A)"
   ]
  },
  {
   "cell_type": "code",
   "execution_count": 3,
   "metadata": {},
   "outputs": [
    {
     "data": {
      "text/plain": [
       "array([[ 7,  3, -1,  2],\n",
       "       [ 3,  8,  1, -4],\n",
       "       [-1,  1,  4, -1],\n",
       "       [ 2, -4, -1,  6]])"
      ]
     },
     "execution_count": 3,
     "metadata": {},
     "output_type": "execute_result"
    }
   ],
   "source": [
    "# Matriz A\n",
    "A"
   ]
  },
  {
   "cell_type": "code",
   "execution_count": 4,
   "metadata": {},
   "outputs": [
    {
     "data": {
      "text/plain": [
       "array([[ 1.,  0.,  0.,  0.],\n",
       "       [ 0.,  1.,  0.,  0.],\n",
       "       [ 0.,  0.,  1.,  0.],\n",
       "       [ 0.,  0.,  0.,  1.]])"
      ]
     },
     "execution_count": 4,
     "metadata": {},
     "output_type": "execute_result"
    }
   ],
   "source": [
    "# Matriz de permutación\n",
    "P"
   ]
  },
  {
   "cell_type": "code",
   "execution_count": 5,
   "metadata": {},
   "outputs": [
    {
     "data": {
      "text/plain": [
       "array([[ 1.        ,  0.        ,  0.        ,  0.        ],\n",
       "       [ 0.42857143,  1.        ,  0.        ,  0.        ],\n",
       "       [-0.14285714,  0.21276596,  1.        ,  0.        ],\n",
       "       [ 0.28571429, -0.72340426,  0.08982036,  1.        ]])"
      ]
     },
     "execution_count": 5,
     "metadata": {},
     "output_type": "execute_result"
    }
   ],
   "source": [
    "# Matriz triangular inferior\n",
    "L"
   ]
  },
  {
   "cell_type": "code",
   "execution_count": 6,
   "metadata": {},
   "outputs": [
    {
     "data": {
      "text/plain": [
       "array([[ 7.        ,  3.        , -1.        ,  2.        ],\n",
       "       [ 0.        ,  6.71428571,  1.42857143, -4.85714286],\n",
       "       [ 0.        ,  0.        ,  3.55319149,  0.31914894],\n",
       "       [ 0.        ,  0.        ,  0.        ,  1.88622754]])"
      ]
     },
     "execution_count": 6,
     "metadata": {},
     "output_type": "execute_result"
    }
   ],
   "source": [
    "# Matriz triangular superior\n",
    "U"
   ]
  },
  {
   "cell_type": "code",
   "execution_count": 7,
   "metadata": {},
   "outputs": [
    {
     "data": {
      "text/plain": [
       "array([[ 7.,  3., -1.,  2.],\n",
       "       [ 3.,  8.,  1., -4.],\n",
       "       [-1.,  1.,  4., -1.],\n",
       "       [ 2., -4., -1.,  6.]])"
      ]
     },
     "execution_count": 7,
     "metadata": {},
     "output_type": "execute_result"
    }
   ],
   "source": [
    "# A = LU\n",
    "L @ U   #matrix multiplication"
   ]
  },
  {
   "cell_type": "markdown",
   "metadata": {},
   "source": [
    "### Factorización QR\n",
    "\n",
    "$$A = QR$$\n",
    "\n",
    "La [descomposición o factorización QR](https://es.wikipedia.org/wiki/Factorizaci%C3%B3n_QR) consiste en la descomposición de una <a href=\"https://es.wikipedia.org/wiki/Matriz_(matem%C3%A1ticas)\">matriz</a> como producto de una [matriz ortogonal](https://es.wikipedia.org/wiki/Matriz_ortogonal) ($Q^T \\cdot Q = I$) por una [matriz triangular superior](https://es.wikipedia.org/wiki/Matriz_triangular). la [factorización QR](https://es.wikipedia.org/wiki/Factorizaci%C3%B3n_QR) es ampliamente utilizada en las finanzas cuantitativas como base para la solución del problema de los [mínimos cuadrados lineales](https://es.wikipedia.org/wiki/M%C3%ADnimos_cuadrados_ordinarios), que a su vez se utiliza para el análisis de [regresión estadística](https://es.wikipedia.org/wiki/Regresi%C3%B3n_lineal).\n",
    "\n",
    "En [Python](https://www.python.org/) podemos encontrar la [descomposición QR](https://es.wikipedia.org/wiki/Factorizaci%C3%B3n_LU) con la ayuda de [SciPy](https://docs.scipy.org/doc/scipy/reference/generated/scipy.linalg.lu_factor.html) de la siguiente forma:"
   ]
  },
  {
   "cell_type": "code",
   "execution_count": 8,
   "metadata": {
    "collapsed": true
   },
   "outputs": [],
   "source": [
    "# Ejemplo factorización QR\n",
    "A = np.array([[12, -51, 4],\n",
    "              [6, 167, -68],\n",
    "              [-4, 24, -41]])  \n",
    "Q, R = la.qr(A)"
   ]
  },
  {
   "cell_type": "code",
   "execution_count": 9,
   "metadata": {},
   "outputs": [
    {
     "data": {
      "text/plain": [
       "array([[ 12, -51,   4],\n",
       "       [  6, 167, -68],\n",
       "       [ -4,  24, -41]])"
      ]
     },
     "execution_count": 9,
     "metadata": {},
     "output_type": "execute_result"
    }
   ],
   "source": [
    "# Matriz A\n",
    "A"
   ]
  },
  {
   "cell_type": "code",
   "execution_count": 10,
   "metadata": {},
   "outputs": [
    {
     "data": {
      "text/plain": [
       "array([[-0.85714286,  0.39428571,  0.33142857],\n",
       "       [-0.42857143, -0.90285714, -0.03428571],\n",
       "       [ 0.28571429, -0.17142857,  0.94285714]])"
      ]
     },
     "execution_count": 10,
     "metadata": {},
     "output_type": "execute_result"
    }
   ],
   "source": [
    "# Matriz ortogonal Q\n",
    "Q"
   ]
  },
  {
   "cell_type": "code",
   "execution_count": 11,
   "metadata": {},
   "outputs": [
    {
     "data": {
      "text/plain": [
       "array([[ -14.,  -21.,   14.],\n",
       "       [   0., -175.,   70.],\n",
       "       [   0.,    0.,  -35.]])"
      ]
     },
     "execution_count": 11,
     "metadata": {},
     "output_type": "execute_result"
    }
   ],
   "source": [
    "# Matriz triangular superior R\n",
    "R"
   ]
  },
  {
   "cell_type": "code",
   "execution_count": 12,
   "metadata": {},
   "outputs": [
    {
     "data": {
      "text/plain": [
       "array([[  12.,  -51.,    4.],\n",
       "       [   6.,  167.,  -68.],\n",
       "       [  -4.,   24.,  -41.]])"
      ]
     },
     "execution_count": 12,
     "metadata": {},
     "output_type": "execute_result"
    }
   ],
   "source": [
    "# A = QR\n",
    "Q @ R"
   ]
  },
  {
   "cell_type": "markdown",
   "metadata": {},
   "source": [
    "## Matrices dispersas y no negativas\n",
    "\n",
    "En muchas ocasiones cuando trabajamos con <a href=\"https://es.wikipedia.org/wiki/Matriz_(matem%C3%A1ticas)\">matrices</a> para representar el mundo físico, nos vamos a encontrar con que muchas de estas <a href=\"https://es.wikipedia.org/wiki/Matriz_(matem%C3%A1ticas)\">matrices</a> están dominadas por mayoría de elementos que son cero. Este tipo de <a href=\"https://es.wikipedia.org/wiki/Matriz_(matem%C3%A1ticas)\">matrices</a> son llamadas [matrices dispersas](https://es.wikipedia.org/wiki/Matriz_dispersa), es decir, <a href=\"https://es.wikipedia.org/wiki/Matriz_(matem%C3%A1ticas)\">matrices</a> de gran tamaño en que la mayor parte de sus elementos son cero. Como sería ineficiente almacenar en la memoria de la computadora todos los elementos en cero, en las [matrices dispersas](https://es.wikipedia.org/wiki/Matriz_dispersa) solo vamos a almacenar los valores que no son cero y alguna información adicional acerca de su ubicación.\n",
    "\n",
    "Asimismo muchos datos del mundo real son no negativos y los componentes ocultos correspondientes tienen un sentido físico solamente cuando son no negativos. En la práctica, ambas características, ser dispersas y no negativas son a menudo deseable o necesario cuando los componentes subyacentes tienen una interpretación física. Por ejemplo, en el [procesamiento de imágenes](https://en.wikipedia.org/wiki/Image_processing) y [visión artificial](https://es.wikipedia.org/wiki/Visi%C3%B3n_artificial), las variables involucradas y los parámetros pueden corresponder a píxeles, y la [factorización de matrices dispersas y no negativas](https://en.wikipedia.org/wiki/Non-negative_matrix_factorization) está relacionada con la extracción de las partes más relevantes de las imágenes. La representación *dispersa* de los datos por un número limitado de componentes\n",
    "es un problema importante en la investigación. En [Machine Learning](https://relopezbriega.github.io/tag/machine-learning.html), las [matrices dispersas](https://es.wikipedia.org/wiki/Matriz_dispersa) está estrechamente relacionada con la [selección de atributos](https://relopezbriega.github.io/blog/2016/04/15/ejemplo-de-machine-learning-con-python-seleccion-de-atributos/) y ciertas generalizaciones en algoritmos de aprendizaje; mientras que la *no negatividad* se relaciona a las [distribuciones de probabilidad](https://relopezbriega.github.io/blog/2016/06/29/distribuciones-de-probabilidad-con-python/). \n",
    "\n",
    "En [Python](https://www.python.org/), podemos representar a las [matrices dispersas](https://es.wikipedia.org/wiki/Matriz_dispersa) con la ayuda de [scipy.sparse](https://docs.scipy.org/doc/scipy/reference/sparse.html)."
   ]
  },
  {
   "cell_type": "code",
   "execution_count": 13,
   "metadata": {},
   "outputs": [
    {
     "data": {
      "text/plain": [
       "<10x10 sparse matrix of type '<class 'numpy.float64'>'\n",
       "\twith 28 stored elements in Compressed Sparse Column format>"
      ]
     },
     "execution_count": 13,
     "metadata": {},
     "output_type": "execute_result"
    }
   ],
   "source": [
    "# Ejemplo matriz dispersa con scipy\n",
    "A = sp.diags([1, -2, 1], [1, 0, -1], shape=[10, 10], format='csc')\n",
    "A"
   ]
  },
  {
   "cell_type": "code",
   "execution_count": 14,
   "metadata": {},
   "outputs": [
    {
     "data": {
      "text/plain": [
       "array([-2.,  1.,  1., -2.,  1.,  1., -2.,  1.,  1., -2.,  1.,  1., -2.,\n",
       "        1.,  1., -2.,  1.,  1., -2.,  1.,  1., -2.,  1.,  1., -2.,  1.,\n",
       "        1., -2.])"
      ]
     },
     "execution_count": 14,
     "metadata": {},
     "output_type": "execute_result"
    }
   ],
   "source": [
    "A.data"
   ]
  },
  {
   "cell_type": "code",
   "execution_count": 15,
   "metadata": {},
   "outputs": [
    {
     "data": {
      "text/plain": [
       "array([0, 1, 0, 1, 2, 1, 2, 3, 2, 3, 4, 3, 4, 5, 4, 5, 6, 5, 6, 7, 6, 7, 8,\n",
       "       7, 8, 9, 8, 9], dtype=int32)"
      ]
     },
     "execution_count": 15,
     "metadata": {},
     "output_type": "execute_result"
    }
   ],
   "source": [
    "A.indices"
   ]
  },
  {
   "cell_type": "code",
   "execution_count": 16,
   "metadata": {},
   "outputs": [
    {
     "data": {
      "text/plain": [
       "array([ 0,  2,  5,  8, 11, 14, 17, 20, 23, 26, 28], dtype=int32)"
      ]
     },
     "execution_count": 16,
     "metadata": {},
     "output_type": "execute_result"
    }
   ],
   "source": [
    "A.indptr"
   ]
  },
  {
   "cell_type": "code",
   "execution_count": 17,
   "metadata": {},
   "outputs": [
    {
     "data": {
      "text/plain": [
       "matrix([[-2.,  1.,  0.,  0.,  0.,  0.,  0.,  0.,  0.,  0.],\n",
       "        [ 1., -2.,  1.,  0.,  0.,  0.,  0.,  0.,  0.,  0.],\n",
       "        [ 0.,  1., -2.,  1.,  0.,  0.,  0.,  0.,  0.,  0.],\n",
       "        [ 0.,  0.,  1., -2.,  1.,  0.,  0.,  0.,  0.,  0.],\n",
       "        [ 0.,  0.,  0.,  1., -2.,  1.,  0.,  0.,  0.,  0.],\n",
       "        [ 0.,  0.,  0.,  0.,  1., -2.,  1.,  0.,  0.,  0.],\n",
       "        [ 0.,  0.,  0.,  0.,  0.,  1., -2.,  1.,  0.,  0.],\n",
       "        [ 0.,  0.,  0.,  0.,  0.,  0.,  1., -2.,  1.,  0.],\n",
       "        [ 0.,  0.,  0.,  0.,  0.,  0.,  0.,  1., -2.,  1.],\n",
       "        [ 0.,  0.,  0.,  0.,  0.,  0.,  0.,  0.,  1., -2.]])"
      ]
     },
     "execution_count": 17,
     "metadata": {},
     "output_type": "execute_result"
    }
   ],
   "source": [
    "A.todense()"
   ]
  },
  {
   "cell_type": "markdown",
   "metadata": {},
   "source": [
    "## La descomposición en valores singulares (SVD) y el análisis de componentes principales (PCA)\n",
    "\n",
    "El [SVD](https://es.wikipedia.org/wiki/Descomposici%C3%B3n_en_valores_singulares) y el [PCA](https://es.wikipedia.org/wiki/An%C3%A1lisis_de_componentes_principales) son herramientas ampliamente utilizadas, por ejemplo, en el análisis de imágenes médicas para la [reducción de dimensionalidad](https://en.wikipedia.org/wiki/Dimensionality_reduction), la construcción de modelos, y la comprensión y exploración de datos. Tienen aplicaciones en prácticamente todas las áreas de la ciencia, [machine learning](https://relopezbriega.github.io/tag/machine-learning.html), [procesamiento de imágenes](https://en.wikipedia.org/wiki/Image_processing), [ingeniería](https://es.wikipedia.org/wiki/Ingenier%C3%ADa), [genética](https://es.wikipedia.org/wiki/Gen%C3%A9tica), [computación cognitiva](https://en.wikipedia.org/wiki/Cognitive_computing), [química](https://es.wikipedia.org/wiki/Qu%C3%ADmica), [meteorología](https://es.wikipedia.org/wiki/Meteorolog%C3%ADa), y [redes neuronales](https://relopezbriega.github.io/tag/redes-neuronales.html), sólo por nombrar algunas; en dónde nos encontramos con grandes [conjuntos de datos](https://es.wikipedia.org/wiki/Conjunto_de_datos). El propósito del [análisis de componentes principales PCA](https://es.wikipedia.org/wiki/An%C3%A1lisis_de_componentes_principales) es derivar un número relativamente pequeño de combinaciones lineales no correlacionadas (componentes principales) de una conjunto de variables aleatorias de [media](https://es.wikipedia.org/wiki/Media_aritm%C3%A9tica) cero mientras que conserva la mayor cantidad de información de las variables originales como sea posible. Entre los objetivos del [PCA](https://es.wikipedia.org/wiki/An%C3%A1lisis_de_componentes_principales) podemos encontrar los siguientes:\n",
    "\n",
    "1. [Reducción de dimensionalidad](https://en.wikipedia.org/wiki/Dimensionality_reduction).\n",
    "2. Determinación de combinaciones lineales de variables.\n",
    "3. Selección de características o *features*: la elección de las variables más útiles.\n",
    "4. Visualización de datos multidimensionales.\n",
    "5. Identificación de las variables subyacentes.\n",
    "6. Identificación grupos de objetos o de [valores atípicos](https://es.wikipedia.org/wiki/Valor_at%C3%ADpico).\n",
    "\n",
    "Veamos algunos ejemplos con [Python](https://www.python.org/)"
   ]
  },
  {
   "cell_type": "code",
   "execution_count": 18,
   "metadata": {},
   "outputs": [
    {
     "data": {
      "text/plain": [
       "array([[2, 4],\n",
       "       [1, 3],\n",
       "       [0, 0],\n",
       "       [0, 0]])"
      ]
     },
     "execution_count": 18,
     "metadata": {},
     "output_type": "execute_result"
    }
   ],
   "source": [
    "# Ejemplo SVD con scipy.linalg.svd\n",
    "# Matriz A a factorizar\n",
    "A = np.array([[2, 4]\n",
    "             ,[1, 3]\n",
    "             ,[0, 0]\n",
    "             ,[0, 0]])\n",
    "A"
   ]
  },
  {
   "cell_type": "code",
   "execution_count": 19,
   "metadata": {},
   "outputs": [
    {
     "data": {
      "text/plain": [
       "((4, 4), (2, 2), (2,))"
      ]
     },
     "execution_count": 19,
     "metadata": {},
     "output_type": "execute_result"
    }
   ],
   "source": [
    "# Factorización con svd\n",
    "# svd factoriza la matriz A  en dos matrices unitarias U y Vh, y una \n",
    "# matriz s de valores singulares (reales, no negativo) de tal manera que\n",
    "# A == U * S * Vh, donde S es una matriz con s como principal diagonal y ceros\n",
    "U, s, Vh = la.svd(A)\n",
    "U.shape, Vh.shape, s.shape"
   ]
  },
  {
   "cell_type": "code",
   "execution_count": 20,
   "metadata": {},
   "outputs": [
    {
     "data": {
      "text/plain": [
       "array([[-0.81741556, -0.57604844,  0.        ,  0.        ],\n",
       "       [-0.57604844,  0.81741556,  0.        ,  0.        ],\n",
       "       [ 0.        ,  0.        ,  1.        ,  0.        ],\n",
       "       [ 0.        ,  0.        ,  0.        ,  1.        ]])"
      ]
     },
     "execution_count": 20,
     "metadata": {},
     "output_type": "execute_result"
    }
   ],
   "source": [
    "# Matriz unitaria\n",
    "U"
   ]
  },
  {
   "cell_type": "code",
   "execution_count": 21,
   "metadata": {},
   "outputs": [
    {
     "data": {
      "text/plain": [
       "array([ 5.4649857 ,  0.36596619])"
      ]
     },
     "execution_count": 21,
     "metadata": {},
     "output_type": "execute_result"
    }
   ],
   "source": [
    "# Valores singulares\n",
    "s"
   ]
  },
  {
   "cell_type": "code",
   "execution_count": 22,
   "metadata": {},
   "outputs": [
    {
     "data": {
      "text/plain": [
       "array([[-0.40455358, -0.9145143 ],\n",
       "       [-0.9145143 ,  0.40455358]])"
      ]
     },
     "execution_count": 22,
     "metadata": {},
     "output_type": "execute_result"
    }
   ],
   "source": [
    "# Matriz unitaria\n",
    "Vh"
   ]
  },
  {
   "cell_type": "code",
   "execution_count": 23,
   "metadata": {},
   "outputs": [
    {
     "data": {
      "text/plain": [
       "array([[ 5.4649857 ,  0.        ],\n",
       "       [ 0.        ,  0.36596619],\n",
       "       [ 0.        ,  0.        ],\n",
       "       [ 0.        ,  0.        ]])"
      ]
     },
     "execution_count": 23,
     "metadata": {},
     "output_type": "execute_result"
    }
   ],
   "source": [
    "# Generando S\n",
    "S = la.diagsvd(s, 4, 2)\n",
    "S"
   ]
  },
  {
   "cell_type": "code",
   "execution_count": 24,
   "metadata": {},
   "outputs": [
    {
     "data": {
      "text/plain": [
       "array([[ 2.,  4.],\n",
       "       [ 1.,  3.],\n",
       "       [ 0.,  0.],\n",
       "       [ 0.,  0.]])"
      ]
     },
     "execution_count": 24,
     "metadata": {},
     "output_type": "execute_result"
    }
   ],
   "source": [
    "# Reconstruyendo la Matriz A.\n",
    "U @ S @ Vh"
   ]
  },
  {
   "cell_type": "markdown",
   "metadata": {},
   "source": [
    "### Ejemplo de SVD y PCA con el dataset Iris\n",
    "\n",
    "<img title=\"Iris dataset\" alt=\"Iris dataset\" src=\"https://relopezbriega.github.io/images/iris.png\" high=\"400px\" width=\"600px\">\n",
    "\n",
    "El [dataset](https://es.wikipedia.org/wiki/Conjunto_de_datos) iris contiene mediciones de 150 flores de iris de tres especies diferentes.\n",
    "\n",
    "Las tres clases en el [dataset](https://es.wikipedia.org/wiki/Conjunto_de_datos) son:\n",
    "\n",
    "1. setosa (n = 50).\n",
    "2. versicolor (n = 50).\n",
    "3. virginica (n = 50).\n",
    "\n",
    "\n",
    "Las cuales están representadas por cuatro características:\n",
    "\n",
    "1. longitud en cm del [sépalo](https://es.wikipedia.org/wiki/S%C3%A9palo).\n",
    "2. ancho en cm del [sépalo](https://es.wikipedia.org/wiki/S%C3%A9palo).\n",
    "3. longitud en cm del [pétalo](https://es.wikipedia.org/wiki/P%C3%A9talo).\n",
    "4. ancho en cm del [pétalo](https://es.wikipedia.org/wiki/P%C3%A9talo)."
   ]
  },
  {
   "cell_type": "code",
   "execution_count": 25,
   "metadata": {},
   "outputs": [
    {
     "name": "stdout",
     "output_type": "stream",
     "text": [
      "(150, 5)\n"
     ]
    },
    {
     "data": {
      "text/html": [
       "<div>\n",
       "<table border=\"1\" class=\"dataframe\">\n",
       "  <thead>\n",
       "    <tr style=\"text-align: right;\">\n",
       "      <th></th>\n",
       "      <th>sepal_length</th>\n",
       "      <th>sepal_width</th>\n",
       "      <th>petal_length</th>\n",
       "      <th>petal_width</th>\n",
       "      <th>species</th>\n",
       "    </tr>\n",
       "  </thead>\n",
       "  <tbody>\n",
       "    <tr>\n",
       "      <th>0</th>\n",
       "      <td>5.1</td>\n",
       "      <td>3.5</td>\n",
       "      <td>1.4</td>\n",
       "      <td>0.2</td>\n",
       "      <td>setosa</td>\n",
       "    </tr>\n",
       "    <tr>\n",
       "      <th>1</th>\n",
       "      <td>4.9</td>\n",
       "      <td>3.0</td>\n",
       "      <td>1.4</td>\n",
       "      <td>0.2</td>\n",
       "      <td>setosa</td>\n",
       "    </tr>\n",
       "    <tr>\n",
       "      <th>2</th>\n",
       "      <td>4.7</td>\n",
       "      <td>3.2</td>\n",
       "      <td>1.3</td>\n",
       "      <td>0.2</td>\n",
       "      <td>setosa</td>\n",
       "    </tr>\n",
       "    <tr>\n",
       "      <th>3</th>\n",
       "      <td>4.6</td>\n",
       "      <td>3.1</td>\n",
       "      <td>1.5</td>\n",
       "      <td>0.2</td>\n",
       "      <td>setosa</td>\n",
       "    </tr>\n",
       "    <tr>\n",
       "      <th>4</th>\n",
       "      <td>5.0</td>\n",
       "      <td>3.6</td>\n",
       "      <td>1.4</td>\n",
       "      <td>0.2</td>\n",
       "      <td>setosa</td>\n",
       "    </tr>\n",
       "  </tbody>\n",
       "</table>\n",
       "</div>"
      ],
      "text/plain": [
       "   sepal_length  sepal_width  petal_length  petal_width species\n",
       "0           5.1          3.5           1.4          0.2  setosa\n",
       "1           4.9          3.0           1.4          0.2  setosa\n",
       "2           4.7          3.2           1.3          0.2  setosa\n",
       "3           4.6          3.1           1.5          0.2  setosa\n",
       "4           5.0          3.6           1.4          0.2  setosa"
      ]
     },
     "execution_count": 25,
     "metadata": {},
     "output_type": "execute_result"
    }
   ],
   "source": [
    "# Ejemplo svd con iris dataset\n",
    "iris = sns.load_dataset(\"iris\")\n",
    "print(iris.shape)\n",
    "iris.head()"
   ]
  },
  {
   "cell_type": "code",
   "execution_count": 26,
   "metadata": {},
   "outputs": [],
   "source": [
    "# Aplicando svd\n",
    "U, s, Vh = sp.linalg.svds((iris - iris.mean()).iloc[:,:-1],2)"
   ]
  },
  {
   "cell_type": "code",
   "execution_count": 27,
   "metadata": {},
   "outputs": [
    {
     "data": {
      "image/png": "[encoded data removed]",
      "text/plain": [
       "<matplotlib.figure.Figure at 0x7f1fddb907b8>"
      ]
     },
     "metadata": {},
     "output_type": "display_data"
    }
   ],
   "source": [
    "# Creando los componentes principales\n",
    "pc = U @ np.diag(s)\n",
    "pc = pc[:,::-1]\n",
    "\n",
    "# graficando el dataset reducido a 2 componenetes\n",
    "iris_svd = pd.concat((pd.DataFrame(pc, index=iris.index\n",
    "                        , columns=('c0','c1')), iris.loc[:,'species']),1)\n",
    "\n",
    "g = sns.lmplot('c0', 'c1', iris_svd, hue='species', fit_reg=False, size=8\n",
    "              ,scatter_kws={'alpha':0.7,'s':60})"
   ]
  },
  {
   "cell_type": "code",
   "execution_count": 28,
   "metadata": {},
   "outputs": [
    {
     "data": {
      "image/png": "[encoded data removed]",
      "text/plain": [
       "<matplotlib.figure.Figure at 0x7f1fda0ddba8>"
      ]
     },
     "metadata": {},
     "output_type": "display_data"
    }
   ],
   "source": [
    "# Ejemplo de PCA con Scikit-Learn e Iris dataset\n",
    "\n",
    "# Divido el dataset en datos y clases\n",
    "X = iris.ix[:,0:4].values\n",
    "y = iris.ix[:,4].values\n",
    "\n",
    "# Estandarizo los datos\n",
    "X_std = StandardScaler().fit_transform(X)\n",
    "\n",
    "pca = PCA(n_components=2)\n",
    "Y_pca = pca.fit_transform(X_std)\n",
    "\n",
    "# Visualizo el resultado\n",
    "for lab, col in zip(('setosa', 'versicolor', 'virginica'),\n",
    "                        ('blue', 'red', 'green')):\n",
    "    plt.scatter(Y_pca[y==lab, 0],\n",
    "                    Y_pca[y==lab, 1],\n",
    "                    label=lab,\n",
    "                    c=col)\n",
    "    \n",
    "plt.xlabel('Componente 1')\n",
    "plt.ylabel('Componente 2')\n",
    "plt.legend(loc='lower center')\n",
    "plt.tight_layout()\n",
    "plt.title('Ejemplo PCA')\n",
    "plt.show()"
   ]
  },
  {
   "cell_type": "markdown",
   "metadata": {},
   "source": [
    "## Factorización de matrices en sistemas de recomendación\n",
    "\n",
    "En un [sistemas de recomendación](https://es.wikipedia.org/wiki/Sistema_de_recomendaci%C3%B3n) como [Netflix](https://www.netflix.com/) o [MovieLens](https://movielens.org/), hay un grupo de usuarios y un conjunto de elementos (películas en los dos sistemas anteriores). Teniendo en cuenta que cada usuario ha valorado algunos elementos en el sistema, nos gustaría predecir cómo los usuarios calificarían los artículos que aún no se han valorado, de tal manera que podemos hacer recomendaciones a los usuarios. En este caso, toda la información que tenemos sobre las calificaciones existentes pueden ser representados en una <a href=\"https://es.wikipedia.org/wiki/Matriz_(matem%C3%A1ticas)\">matriz</a>. Supongamos ahora que tenemos 5 usuarios y 4 películas y las calificaciones son números enteros de 1 a 5, la <a href=\"https://es.wikipedia.org/wiki/Matriz_(matem%C3%A1ticas)\">matriz</a> resultante puede ser algo como la siguiente (el guión significa que el usuario aún no ha calificado la película):\n",
    "\n",
    "<table>\n",
    "<tbody>\n",
    "<tr>\n",
    "<td></td>\n",
    "<td><strong>P1</strong></td>\n",
    "<td><strong>P2</strong></td>\n",
    "<td><strong>P3</strong></td>\n",
    "<td><strong>P4</strong></td>\n",
    "</tr>\n",
    "<tr>\n",
    "<td><strong>U1</strong></td>\n",
    "<td>5</td>\n",
    "<td>3</td>\n",
    "<td>-</td>\n",
    "<td>1</td>\n",
    "</tr>\n",
    "<tr>\n",
    "<td><strong>U2</strong></td>\n",
    "<td>4</td>\n",
    "<td>-</td>\n",
    "<td>-</td>\n",
    "<td>1</td>\n",
    "</tr>\n",
    "<tr>\n",
    "<td><strong>U3</strong></td>\n",
    "<td>1</td>\n",
    "<td>1</td>\n",
    "<td>-</td>\n",
    "<td>5</td>\n",
    "</tr>\n",
    "<tr>\n",
    "<td><strong>U4</strong></td>\n",
    "<td>1</td>\n",
    "<td>-</td>\n",
    "<td>-</td>\n",
    "<td>4</td>\n",
    "</tr>\n",
    "<tr>\n",
    "<td><strong>U5</strong></td>\n",
    "<td>-</td>\n",
    "<td>1</td>\n",
    "<td>5</td>\n",
    "<td>4</td>\n",
    "</tr>\n",
    "</tbody>\n",
    "</table>\n",
    "\n",
    "Por lo tanto, la tarea de predecir las calificaciones que faltan se puede considerar como un problema de llenar los espacios en blanco (los guiones en la matriz) de tal manera que los valores resultantes serían consistentes con las calificaciones existentes en la <a href=\"https://es.wikipedia.org/wiki/Matriz_(matem%C3%A1ticas)\">matriz</a>.\n",
    "\n",
    "La intuición detrás de usar **[Factorización de matrices](https://es.wikipedia.org/wiki/Factorizaci%C3%B3n_de_matrices)** para resolver este problema es que deberían existir algunas características latentes que determinen cómo un usuario califica una película. Por ejemplo, dos usuarios darían una alta calificación a una cierta película si a ambos les gusta los actores / actrices de la película, o si la película es una película de acción, que es un género preferido por ambos usuarios. Por lo tanto, si podemos descubrir estas características latentes, deberíamos ser capaces de predecir una calificación con respecto a un determinado usuario y una cierta película, porque las características asociadas con el usuario deben coincidir con las características asociadas con la película.\n",
    "\n",
    "Al tratar de descubrir las diferentes características latentes, estamos suponiendo implícitamente que el número de características va a ser menor que el número de usuarios y el número de elementos. No debería ser difícil de entender este supuesto ya que no sería razonable que cada usuario está asociado con una característica única (aunque esto no es imposible). Y de todos modos, si este es el caso, no tendría sentido hacer recomendaciones, porque ninguno de estos usuarios estarían interesados en los artículos calificados por otros usuarios.\n",
    "\n",
    "Si llevamos este ejemplo sencillo a [Python](https://www.python.org/), podríamos modelarlo utilizando [Scikit-learn](https://scikit-learn.org/stable/) [NMF](https://scikit-learn.org/stable/modules/generated/sklearn.decomposition.NMF.html) o [Nimfa](https://nimfa.biolab.si/nimfa.methods.factorization.snmf.html)."
   ]
  },
  {
   "cell_type": "code",
   "execution_count": 29,
   "metadata": {},
   "outputs": [],
   "source": [
    "# Ejemplo en python\n",
    "# Matriz de ratings de los usuarios\n",
    "R = np.array([[5, 3, 0, 1]\n",
    "             ,[4, 0, 0, 1]\n",
    "             ,[1, 1, 0, 5]\n",
    "             ,[1, 0, 0, 4]\n",
    "             ,[0, 1, 5, 4]])"
   ]
  },
  {
   "cell_type": "code",
   "execution_count": 30,
   "metadata": {},
   "outputs": [],
   "source": [
    "# Armado del modelo\n",
    "modelo = NMF(n_components= 2, init='random',random_state=1982, \n",
    "            alpha=0.0002, beta=0.02, max_iter=5000)\n",
    "U = modelo.fit_transform(R) \n",
    "V = modelo.components_"
   ]
  },
  {
   "cell_type": "code",
   "execution_count": 31,
   "metadata": {},
   "outputs": [
    {
     "data": {
      "text/plain": [
       "array([[ 5.25534386,  1.99295604,  0.        ,  1.45508737],\n",
       "       [ 3.50398031,  1.32879578,  0.        ,  0.97017391],\n",
       "       [ 1.31288534,  0.94413861,  1.9495384 ,  3.94596646],\n",
       "       [ 0.98125417,  0.7217855 ,  1.52757221,  3.07874315],\n",
       "       [ 0.        ,  0.65011225,  2.84008987,  5.21892884]])"
      ]
     },
     "execution_count": 31,
     "metadata": {},
     "output_type": "execute_result"
    }
   ],
   "source": [
    "# Reconstrucción de la matriz\n",
    "U @ V"
   ]
  },
  {
   "cell_type": "code",
   "execution_count": 32,
   "metadata": {},
   "outputs": [
    {
     "data": {
      "text/plain": [
       "4.276529876124528"
      ]
     },
     "execution_count": 32,
     "metadata": {},
     "output_type": "execute_result"
    }
   ],
   "source": [
    "# Error del modelo\n",
    "modelo.reconstruction_err_"
   ]
  },
  {
   "cell_type": "code",
   "execution_count": 33,
   "metadata": {
    "collapsed": true
   },
   "outputs": [],
   "source": [
    "# Ejemplo utilizando nimfa\n",
    "snmf = nimfa.Snmf(R, seed=\"random_vcol\", rank=2, max_iter=30, version='r', eta=1.,\n",
    "                      beta=1e-4, i_conv=10, w_min_change=0)"
   ]
  },
  {
   "cell_type": "code",
   "execution_count": 34,
   "metadata": {
    "collapsed": true
   },
   "outputs": [],
   "source": [
    "# Armando el modelo\n",
    "fit = snmf()\n",
    "U = fit.basis()\n",
    "V = fit.coef()"
   ]
  },
  {
   "cell_type": "code",
   "execution_count": 35,
   "metadata": {},
   "outputs": [
    {
     "data": {
      "text/plain": [
       "array([[ 5.18,  1.96,  0.  ,  1.44],\n",
       "       [ 3.45,  1.31,  0.  ,  0.96],\n",
       "       [ 1.32,  0.93,  1.91,  3.87],\n",
       "       [ 0.98,  0.71,  1.5 ,  3.02],\n",
       "       [ 0.  ,  0.63,  2.79,  5.11]])"
      ]
     },
     "execution_count": 35,
     "metadata": {},
     "output_type": "execute_result"
    }
   ],
   "source": [
    "# Reconstruyendo la matriz\n",
    "np.around(U @ V, decimals=2)"
   ]
  },
  {
   "cell_type": "markdown",
   "metadata": {
    "collapsed": true
   },
   "source": [
    "## Librerías de Python para factorización de matrices\n",
    "\n",
    "Para concluir, podemos enumerar algunas de las librerías de [Python](https://www.python.org/) que nos pueden ser de mucha utilidad a la hora de trabajar con [Factorización de matrices](https://es.wikipedia.org/wiki/Factorizaci%C3%B3n_de_matrices), como ser:\n",
    "\n",
    "* **[NumPy](https://www.numpy.org/)**: El popular paquete matemático de [Python](https://python.org/), nos va a permitir crear *[vectores](https://es.wikipedia.org/wiki/Vector)*, *<a href=\"https://es.wikipedia.org/wiki/Matriz_(matem%C3%A1ticas)\">matrices</a>* y *[tensores](https://es.wikipedia.org/wiki/C%C3%A1lculo_tensorial)*; y poder manipularlos y realizar operaciones sobre ellos con mucha facilidad.\n",
    "* **[SciPy](https://docs.scipy.org/doc/scipy/reference/index.html)**: El paquete que agrupa un gran número de herramientas científicas en [Python](https://www.python.org/). Nos va a permitir crear [matrices dispersas](https://es.wikipedia.org/wiki/Matriz_dispersa) y realizar [factorizaciones](https://es.wikipedia.org/wiki/Factorizaci%C3%B3n)  con facilidad.\n",
    "* **[Scikit-learn](https://scikit-learn.org/stable/)**: Es una librería especializada en algoritmos para [data mining](https://es.wikipedia.org/wiki/Miner%C3%ADa_de_datos) y [machine learning](https://es.wikipedia.org/wiki/Machine_learning). Principalmente el submódulo de <a href='https://scikit-learn.org/stable/modules/decomposition.html#decompositions' target='_blank'>Descomposiciones</a> en dónde vamos a encontrar las herramientas para [reducciones de dimensionalidad](https://en.wikipedia.org/wiki/Dimensionality_reduction).\n",
    "* **[SymPy](https://www.sympy.org/es/)**: Esta librería nos permite trabajar con matemática simbólica, convierte a [Python](https://python.org/) en un [sistema algebraico computacional](https://es.wikipedia.org/wiki/Sistema_algebraico_computacional). Nos va a permitir trabajar con las [factorizaciones](https://es.wikipedia.org/wiki/Factorizaci%C3%B3n) en forma analítica.\n",
    "* **[Nimfa](https://nimfa.biolab.si/)**: [Nimfa](https://nimfa.biolab.si/) es una librería para [factorización de matrices no negativas](https://en.wikipedia.org/wiki/Non-negative_matrix_factorization). Incluye las implementaciones de varios métodos de [factorización](https://es.wikipedia.org/wiki/Factorizaci%C3%B3n), enfoques de inicialización y calificación de calidad. Soporta representaciones tanto de <a href=\"https://es.wikipedia.org/wiki/Matriz_(matem%C3%A1ticas)\">matrices densas</a> como [dispersas](https://es.wikipedia.org/wiki/Matriz_dispersa). Se distribuye bajo [licencia BSD](https://es.wikipedia.org/wiki/Licencia_BSD).\n",
    "\n",
    "\n",
    "Con esto termina este artículo, espero les haya parecido interesante y les sea de utilidad en sus proyectos.\n",
    "\n",
    "Saludos!\n",
    "\n",
    "*Este post fue escrito utilizando IPython notebook. Pueden descargar este [notebook](https://github.com/relopezbriega/relopezbriega.github.io/blob/master/downloads/MatrixFact.ipynb) o ver su version estática en [nbviewer](https://nbviewer.ipython.org/github/relopezbriega/relopezbriega.github.io/blob/master/downloads/MatrixFact.ipynb).*"
   ]
  }
 ],
 "metadata": {
  "kernelspec": {
   "display_name": "Python 3",
   "language": "python",
   "name": "python3"
  },
  "language_info": {
   "codemirror_mode": {
    "name": "ipython",
    "version": 3
   },
   "file_extension": ".py",
   "mimetype": "text/x-python",
   "name": "python",
   "nbconvert_exporter": "python",
   "pygments_lexer": "ipython3",
   "version": "3.7.1"
  }
 },
 "nbformat": 4,
 "nbformat_minor": 1
}
