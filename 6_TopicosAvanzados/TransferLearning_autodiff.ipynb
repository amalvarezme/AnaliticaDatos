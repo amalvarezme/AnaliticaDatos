{
  "nbformat": 4,
  "nbformat_minor": 0,
  "metadata": {
    "kernelspec": {
      "display_name": "Python 3",
      "language": "python",
      "name": "python3"
    },
    "language_info": {
      "codemirror_mode": {
        "name": "ipython",
        "version": 3
      },
      "file_extension": ".py",
      "mimetype": "text/x-python",
      "name": "python",
      "nbconvert_exporter": "python",
      "pygments_lexer": "ipython3",
      "version": "3.7.7"
    },
    "colab": {
      "name": "TransferLearning_autodiff.ipynb",
      "provenance": [],
      "collapsed_sections": [],
      "include_colab_link": true
    },
    "accelerator": "GPU"
  },
  "cells": [
    {
      "cell_type": "markdown",
      "metadata": {
        "id": "view-in-github",
        "colab_type": "text"
      },
      "source": [
        "<a href=\"https://colab.research.google.com/github/amalvarezme/AnaliticaDatos/blob/master/6_NN_DeepLearning/TransferLearning_autodiff.ipynb\" target=\"_parent\"><img src=\"https://colab.research.google.com/assets/colab-badge.svg\" alt=\"Open In Colab\"/></a>"
      ]
    },
    {
      "cell_type": "markdown",
      "metadata": {
        "id": "B-xXNgusH_zB",
        "colab_type": "text"
      },
      "source": [
        "Elaborado por Nicolás Pavón npavong@unal.edu.co y Andrés Álvarez amalvarezme@unal.edu.co .\n",
        "\n",
        "# Transfer Learning (Transferencia de aprendizaje)\n",
        "\n",
        "- $\\textbf{Transfer Learning}$, nos permite el entramineto de redes neuronales profundas con la ventaja de usar menos datos para la tarea que queremos realizar.\n",
        "\n",
        "- Por lo tanto estamos $\\textbf{trasnfiriendo}$ el $\\textbf{\"Conocimiento\"}$ aprendido por el modelo en anteriores tareas (utilizando bases de datos grandes) a nuestro modelo nuevo (depurado sobre bases de datos más pequeñas).\n",
        "\n",
        "- La idea general del transfer learning consta en aprovechar los modelos y sus parámetros entrenados, tomarlos para resolver nuestras propias tareas\n"
      ]
    },
    {
      "cell_type": "markdown",
      "metadata": {
        "id": "zhEM3v5SH_zE",
        "colab_type": "text"
      },
      "source": [
        "# Clasificación de imagenes con Redes Neuronales Convolucionales (CNN's)\n",
        "\n",
        "- Como tarea vamos a realizar la clasificación de imagenes mediante CNN's utilizando las librerias de Tensorflow y Keras.\n",
        "\n",
        "- Nuestro dataset [Cifar10] (https://www.cs.toronto.edu/~kriz/cifar.html) lo importaremos de Keras.datasets\n",
        "\n",
        "- El conjunto de datos CIFAR-10 consta de 60.000 fotos divididas en 10 clases. Las clases incluyen objetos comunes como aviones, automóviles, aves, gatos, etc. en. El conjunto de datos se divide de forma estándar, donde se utilizan 50.000 imágenes para la formación de un modelo y los 10.000 restantes para evaluar su desempeño. Las imágenes están en RGB de 32 x 32 píxeles."
      ]
    },
    {
      "cell_type": "markdown",
      "metadata": {
        "id": "lrhu_MzJf-uR",
        "colab_type": "text"
      },
      "source": [
        "Tengamos a la mano funciones que nos ayuden a graficar tanto en escala RGB como en escala de grises."
      ]
    },
    {
      "cell_type": "code",
      "metadata": {
        "id": "r7WBb4VmgKjU",
        "colab_type": "code",
        "colab": {}
      },
      "source": [
        "def plot_image(img):\n",
        "  plt.imshow(img, cmap=\"gray\", interpolation=\"nearest\")\n",
        "  plt.axis(\"off\")\n",
        "\n",
        "def plot_color_image(img):\n",
        "  plt.imshow(img, interpolation=\"nearest\")\n",
        "  plt.axis(\"off\")\n",
        "\n",
        "def crop(images):\n",
        "  return images[150:220, 130:250]"
      ],
      "execution_count": 0,
      "outputs": []
    },
    {
      "cell_type": "markdown",
      "metadata": {
        "id": "5o_HGlpGH_zF",
        "colab_type": "text"
      },
      "source": [
        "1. Importemos las librerias TensorFlow y Keras"
      ]
    },
    {
      "cell_type": "code",
      "metadata": {
        "id": "CUp4CykbH_zH",
        "colab_type": "code",
        "colab": {}
      },
      "source": [
        "## instalamos los paquetes de tensorflow y keras\n",
        "#!pip install tensorflow\n",
        "#!pip install Keras\n",
        "# Google colab, ya cuenta con la version más reciente de Tensorflow y Keras"
      ],
      "execution_count": 0,
      "outputs": []
    },
    {
      "cell_type": "code",
      "metadata": {
        "id": "IjViFkzLH_zT",
        "colab_type": "code",
        "colab": {}
      },
      "source": [
        "import tensorflow as tf\n",
        "from tensorflow import keras\n",
        "import numpy as np\n",
        "import matplotlib as mpl\n",
        "import matplotlib.pyplot as plt\n",
        "import numpy as np\n",
        "import warnings\n",
        "warnings.filterwarnings(\"ignore\")"
      ],
      "execution_count": 0,
      "outputs": []
    },
    {
      "cell_type": "code",
      "metadata": {
        "id": "h_IdHdcdfXZK",
        "colab_type": "code",
        "colab": {}
      },
      "source": [
        "# to make this notebook's output stable across runs\n",
        "np.random.seed(42)\n",
        "tf.random.set_seed(42)"
      ],
      "execution_count": 0,
      "outputs": []
    },
    {
      "cell_type": "markdown",
      "metadata": {
        "id": "mnfriuAQH_zZ",
        "colab_type": "text"
      },
      "source": [
        "2. El conjunto de datos $\\textbf{Cifar10}$ lo importaremos de Keras.\n",
        "\n",
        "    - El conjunto de datos CIFAR-10 consta de 60.000 fotos divididas en 10 clases. Las clases incluyen objetos comunes como aviones, automóviles, aves, gatos, etc. en. El conjunto de datos se divide de forma estándar, donde se utilizan 50.000 imágenes para la formación de un modelo y los 10.000 restantes para evaluar su desempeño. Las imágenes están en los 3 canales (rojo, verde y azul) y son cuadrados pequeños que miden 32 x 32 píxeles.\n",
        "\n",
        "    - El dataset cifar10 ya se encuentra divido en los conjuntos de train y test"
      ]
    },
    {
      "cell_type": "code",
      "metadata": {
        "id": "eg80ESQJH_zg",
        "colab_type": "code",
        "outputId": "3e4a8b08-c2fe-49ca-b66d-5355bffce8f2",
        "colab": {
          "base_uri": "https://localhost:8080/",
          "height": 52
        }
      },
      "source": [
        "\n",
        "X_data = keras.datasets.cifar10\n",
        "\n",
        "(X_train_full, y_train_full),(X_test, y_test) = X_data.load_data()"
      ],
      "execution_count": 5,
      "outputs": [
        {
          "output_type": "stream",
          "text": [
            "Downloading data from https://www.cs.toronto.edu/~kriz/cifar-10-python.tar.gz\n",
            "170500096/170498071 [==============================] - 13s 0us/step\n"
          ],
          "name": "stdout"
        }
      ]
    },
    {
      "cell_type": "code",
      "metadata": {
        "id": "9iNYEsLlH_zn",
        "colab_type": "code",
        "outputId": "56360e5c-cb27-4748-d0ef-ba175c7d146e",
        "colab": {
          "base_uri": "https://localhost:8080/",
          "height": 34
        }
      },
      "source": [
        "X_train_full.shape"
      ],
      "execution_count": 6,
      "outputs": [
        {
          "output_type": "execute_result",
          "data": {
            "text/plain": [
              "(50000, 32, 32, 3)"
            ]
          },
          "metadata": {
            "tags": []
          },
          "execution_count": 6
        }
      ]
    },
    {
      "cell_type": "code",
      "metadata": {
        "id": "sy5hEncTH_zu",
        "colab_type": "code",
        "outputId": "9e083ed4-f72f-4925-c9ed-9cf4d06e1f64",
        "colab": {
          "base_uri": "https://localhost:8080/",
          "height": 34
        }
      },
      "source": [
        "X_train_full.dtype"
      ],
      "execution_count": 7,
      "outputs": [
        {
          "output_type": "execute_result",
          "data": {
            "text/plain": [
              "dtype('uint8')"
            ]
          },
          "metadata": {
            "tags": []
          },
          "execution_count": 7
        }
      ]
    },
    {
      "cell_type": "markdown",
      "metadata": {
        "id": "syg6mXmCH_z1",
        "colab_type": "text"
      },
      "source": [
        "- Se puede ver que el conjunto de entrenamineto contiene 50.000 imágenes en los 3 canales, cada imagen de 32x32 píxeles\n",
        "\n",
        "- Vamos a escalar la intesidad de los píxeles para tenerlas en un rango de 0-1, además de convertirlas en flotantes. Es de buena práctica trabajar con datos normalizados."
      ]
    },
    {
      "cell_type": "code",
      "metadata": {
        "id": "Me7KJhRjH_z2",
        "colab_type": "code",
        "colab": {}
      },
      "source": [
        "X_valid, X_train = (X_train_full[:4000])/255.0 , (X_train_full[4000:])/255.0\n",
        "X_test = X_test/255\n",
        "y_valid, y_train = y_train_full[:4000], y_train_full[4000:]"
      ],
      "execution_count": 0,
      "outputs": []
    },
    {
      "cell_type": "code",
      "metadata": {
        "id": "y6g8zhTqH_z8",
        "colab_type": "code",
        "outputId": "ca0c258c-2a67-45e0-d7cd-ca0bd5f2ce62",
        "colab": {
          "base_uri": "https://localhost:8080/",
          "height": 34
        }
      },
      "source": [
        "X_valid.shape"
      ],
      "execution_count": 9,
      "outputs": [
        {
          "output_type": "execute_result",
          "data": {
            "text/plain": [
              "(4000, 32, 32, 3)"
            ]
          },
          "metadata": {
            "tags": []
          },
          "execution_count": 9
        }
      ]
    },
    {
      "cell_type": "code",
      "metadata": {
        "id": "jn8nvDreH_z_",
        "colab_type": "code",
        "outputId": "2a884060-73e4-45a4-b672-2f36aca97383",
        "colab": {
          "base_uri": "https://localhost:8080/",
          "height": 34
        }
      },
      "source": [
        "X_test.shape"
      ],
      "execution_count": 10,
      "outputs": [
        {
          "output_type": "execute_result",
          "data": {
            "text/plain": [
              "(10000, 32, 32, 3)"
            ]
          },
          "metadata": {
            "tags": []
          },
          "execution_count": 10
        }
      ]
    },
    {
      "cell_type": "markdown",
      "metadata": {
        "id": "oa_TSlBPH_0F",
        "colab_type": "text"
      },
      "source": [
        "Podemos visuzalizar las imagenes dentro del conjunto usando la funcion imshow() del paquete Matplotlib"
      ]
    },
    {
      "cell_type": "code",
      "metadata": {
        "id": "t0c8h6aAH_0G",
        "colab_type": "code",
        "outputId": "3763a7b2-50a3-48dd-eeed-8d835c8d67be",
        "colab": {
          "base_uri": "https://localhost:8080/",
          "height": 357
        }
      },
      "source": [
        "rows = 4\n",
        "cols = 7\n",
        "plt.figure(figsize=(cols * 1.5, rows * 1.5))\n",
        "for row in range(rows):\n",
        "  for col in range(cols):\n",
        "    index = cols * row + col\n",
        "    plt.subplot(rows, cols, index + 1)\n",
        "    plt.imshow(X_train[index], interpolation=\"nearest\")\n",
        "    plt.axis('off')\n",
        "plt.subplots_adjust(wspace=0.2, hspace=0.5)\n",
        "plt.show()"
      ],
      "execution_count": 11,
      "outputs": [
        {
          "output_type": "display_data",
          "data": {
            "image/png": "[encoded data removed]",
            "text/plain": [
              "<Figure size 756x432 with 28 Axes>"
            ]
          },
          "metadata": {
            "tags": [],
            "needs_background": "light"
          }
        }
      ]
    },
    {
      "cell_type": "markdown",
      "metadata": {
        "id": "GWkRHL3JH_0L",
        "colab_type": "text"
      },
      "source": [
        "## 3. Arquitectura CNN"
      ]
    },
    {
      "cell_type": "markdown",
      "metadata": {
        "id": "2xuP80qEgBwN",
        "colab_type": "text"
      },
      "source": [
        "## Trasnfer learning con modelo pre-entrenado para la extracción de característcias.\n",
        "\n",
        "- Para este otro ejercicio vamos a aplicar algo del *trasnfer Learning*:\n",
        "  - Vamos a usar el modelo en keras **ResNet50**\n",
        "\n",
        "  - Para implementar *transfer learning*, vamos a remover la última capa de predicción del model ResNet(podemos ver en la figura) y la remplazamos con nuestras propias capas.\n",
        "\n",
        "  - Los pesos del modelo pre-entrenado se utilizan para la extracción de caraterísticas.\n",
        "\n",
        "  - Los pesos del modelo pre-entrenado quedan 'congelados' y no se actualizan durante el entrenamiento "
      ]
    },
    {
      "cell_type": "code",
      "metadata": {
        "id": "fvw84NVmYEMJ",
        "colab_type": "code",
        "outputId": "c0ad20ce-97b0-47b3-818b-2d53fabc6027",
        "colab": {
          "base_uri": "https://localhost:8080/",
          "height": 1000
        }
      },
      "source": [
        "from keras.applications.resnet50 import ResNet50\n",
        "from keras.applications.vgg16 import VGG16\n",
        "from keras.models import Model, Sequential\n",
        "from keras.layers import Dense, Flatten, Dropout #con el paquete tf.keras molesta con los shapes\n",
        "\n",
        "model_pre = ResNet50(include_top=False, weights='imagenet', input_shape=(32,32,3))\n",
        "#model_pre = VGG16(include_top=False, input_shape=(300, 300, 3))\n",
        "for layer in model_pre.layers:\n",
        "    layer.trainable = False\n",
        "\n",
        "#secuencial    \n",
        "'''\n",
        "model = Sequential([\n",
        "    model_pre,\n",
        "    Dense(units=512, activation='relu', input_dim=[32,32,3]),\n",
        "    Dropout(0.3),\n",
        "    Dense(units=512, activation='relu'),\n",
        "    Dropout(0.3),\n",
        "    Dense(units=10, activation='softmax')\n",
        "])\n",
        "'''\n",
        "#funcional\n",
        "#flat1 = Flatten()(model_pre.layers[-1])\n",
        "h1 = Dense(512, activation='relu')(model_pre.output)\n",
        "d1 = Dropout(0.3)(h1)\n",
        "h2 = Dense(512, activation='relu')(d1)\n",
        "d2 = Dropout(0.3)(h2)\n",
        "output = Dense(10, activation='softmax')(d2)\n",
        "output = Flatten()(output)\n",
        "# define new model\n",
        "model = Model(inputs=model_pre.inputs, outputs=output)\n",
        "\n",
        "# summarize\n",
        "\n",
        "model.summary()\n",
        "#tf.keras.utils.plot_model(model,show_shapes=True)\n",
        "\n"
      ],
      "execution_count": 12,
      "outputs": [
        {
          "output_type": "stream",
          "text": [
            "Using TensorFlow backend.\n"
          ],
          "name": "stderr"
        },
        {
          "output_type": "stream",
          "text": [
            "Downloading data from https://github.com/fchollet/deep-learning-models/releases/download/v0.2/resnet50_weights_tf_dim_ordering_tf_kernels_notop.h5\n",
            "94658560/94653016 [==============================] - 8s 0us/step\n",
            "Model: \"model_1\"\n",
            "__________________________________________________________________________________________________\n",
            "Layer (type)                    Output Shape         Param #     Connected to                     \n",
            "==================================================================================================\n",
            "input_1 (InputLayer)            (None, 32, 32, 3)    0                                            \n",
            "__________________________________________________________________________________________________\n",
            "conv1_pad (ZeroPadding2D)       (None, 38, 38, 3)    0           input_1[0][0]                    \n",
            "__________________________________________________________________________________________________\n",
            "conv1 (Conv2D)                  (None, 16, 16, 64)   9472        conv1_pad[0][0]                  \n",
            "__________________________________________________________________________________________________\n",
            "bn_conv1 (BatchNormalization)   (None, 16, 16, 64)   256         conv1[0][0]                      \n",
            "__________________________________________________________________________________________________\n",
            "activation_1 (Activation)       (None, 16, 16, 64)   0           bn_conv1[0][0]                   \n",
            "__________________________________________________________________________________________________\n",
            "pool1_pad (ZeroPadding2D)       (None, 18, 18, 64)   0           activation_1[0][0]               \n",
            "__________________________________________________________________________________________________\n",
            "max_pooling2d_1 (MaxPooling2D)  (None, 8, 8, 64)     0           pool1_pad[0][0]                  \n",
            "__________________________________________________________________________________________________\n",
            "res2a_branch2a (Conv2D)         (None, 8, 8, 64)     4160        max_pooling2d_1[0][0]            \n",
            "__________________________________________________________________________________________________\n",
            "bn2a_branch2a (BatchNormalizati (None, 8, 8, 64)     256         res2a_branch2a[0][0]             \n",
            "__________________________________________________________________________________________________\n",
            "activation_2 (Activation)       (None, 8, 8, 64)     0           bn2a_branch2a[0][0]              \n",
            "__________________________________________________________________________________________________\n",
            "res2a_branch2b (Conv2D)         (None, 8, 8, 64)     36928       activation_2[0][0]               \n",
            "__________________________________________________________________________________________________\n",
            "bn2a_branch2b (BatchNormalizati (None, 8, 8, 64)     256         res2a_branch2b[0][0]             \n",
            "__________________________________________________________________________________________________\n",
            "activation_3 (Activation)       (None, 8, 8, 64)     0           bn2a_branch2b[0][0]              \n",
            "__________________________________________________________________________________________________\n",
            "res2a_branch2c (Conv2D)         (None, 8, 8, 256)    16640       activation_3[0][0]               \n",
            "__________________________________________________________________________________________________\n",
            "res2a_branch1 (Conv2D)          (None, 8, 8, 256)    16640       max_pooling2d_1[0][0]            \n",
            "__________________________________________________________________________________________________\n",
            "bn2a_branch2c (BatchNormalizati (None, 8, 8, 256)    1024        res2a_branch2c[0][0]             \n",
            "__________________________________________________________________________________________________\n",
            "bn2a_branch1 (BatchNormalizatio (None, 8, 8, 256)    1024        res2a_branch1[0][0]              \n",
            "__________________________________________________________________________________________________\n",
            "add_1 (Add)                     (None, 8, 8, 256)    0           bn2a_branch2c[0][0]              \n",
            "                                                                 bn2a_branch1[0][0]               \n",
            "__________________________________________________________________________________________________\n",
            "activation_4 (Activation)       (None, 8, 8, 256)    0           add_1[0][0]                      \n",
            "__________________________________________________________________________________________________\n",
            "res2b_branch2a (Conv2D)         (None, 8, 8, 64)     16448       activation_4[0][0]               \n",
            "__________________________________________________________________________________________________\n",
            "bn2b_branch2a (BatchNormalizati (None, 8, 8, 64)     256         res2b_branch2a[0][0]             \n",
            "__________________________________________________________________________________________________\n",
            "activation_5 (Activation)       (None, 8, 8, 64)     0           bn2b_branch2a[0][0]              \n",
            "__________________________________________________________________________________________________\n",
            "res2b_branch2b (Conv2D)         (None, 8, 8, 64)     36928       activation_5[0][0]               \n",
            "__________________________________________________________________________________________________\n",
            "bn2b_branch2b (BatchNormalizati (None, 8, 8, 64)     256         res2b_branch2b[0][0]             \n",
            "__________________________________________________________________________________________________\n",
            "activation_6 (Activation)       (None, 8, 8, 64)     0           bn2b_branch2b[0][0]              \n",
            "__________________________________________________________________________________________________\n",
            "res2b_branch2c (Conv2D)         (None, 8, 8, 256)    16640       activation_6[0][0]               \n",
            "__________________________________________________________________________________________________\n",
            "bn2b_branch2c (BatchNormalizati (None, 8, 8, 256)    1024        res2b_branch2c[0][0]             \n",
            "__________________________________________________________________________________________________\n",
            "add_2 (Add)                     (None, 8, 8, 256)    0           bn2b_branch2c[0][0]              \n",
            "                                                                 activation_4[0][0]               \n",
            "__________________________________________________________________________________________________\n",
            "activation_7 (Activation)       (None, 8, 8, 256)    0           add_2[0][0]                      \n",
            "__________________________________________________________________________________________________\n",
            "res2c_branch2a (Conv2D)         (None, 8, 8, 64)     16448       activation_7[0][0]               \n",
            "__________________________________________________________________________________________________\n",
            "bn2c_branch2a (BatchNormalizati (None, 8, 8, 64)     256         res2c_branch2a[0][0]             \n",
            "__________________________________________________________________________________________________\n",
            "activation_8 (Activation)       (None, 8, 8, 64)     0           bn2c_branch2a[0][0]              \n",
            "__________________________________________________________________________________________________\n",
            "res2c_branch2b (Conv2D)         (None, 8, 8, 64)     36928       activation_8[0][0]               \n",
            "__________________________________________________________________________________________________\n",
            "bn2c_branch2b (BatchNormalizati (None, 8, 8, 64)     256         res2c_branch2b[0][0]             \n",
            "__________________________________________________________________________________________________\n",
            "activation_9 (Activation)       (None, 8, 8, 64)     0           bn2c_branch2b[0][0]              \n",
            "__________________________________________________________________________________________________\n",
            "res2c_branch2c (Conv2D)         (None, 8, 8, 256)    16640       activation_9[0][0]               \n",
            "__________________________________________________________________________________________________\n",
            "bn2c_branch2c (BatchNormalizati (None, 8, 8, 256)    1024        res2c_branch2c[0][0]             \n",
            "__________________________________________________________________________________________________\n",
            "add_3 (Add)                     (None, 8, 8, 256)    0           bn2c_branch2c[0][0]              \n",
            "                                                                 activation_7[0][0]               \n",
            "__________________________________________________________________________________________________\n",
            "activation_10 (Activation)      (None, 8, 8, 256)    0           add_3[0][0]                      \n",
            "__________________________________________________________________________________________________\n",
            "res3a_branch2a (Conv2D)         (None, 4, 4, 128)    32896       activation_10[0][0]              \n",
            "__________________________________________________________________________________________________\n",
            "bn3a_branch2a (BatchNormalizati (None, 4, 4, 128)    512         res3a_branch2a[0][0]             \n",
            "__________________________________________________________________________________________________\n",
            "activation_11 (Activation)      (None, 4, 4, 128)    0           bn3a_branch2a[0][0]              \n",
            "__________________________________________________________________________________________________\n",
            "res3a_branch2b (Conv2D)         (None, 4, 4, 128)    147584      activation_11[0][0]              \n",
            "__________________________________________________________________________________________________\n",
            "bn3a_branch2b (BatchNormalizati (None, 4, 4, 128)    512         res3a_branch2b[0][0]             \n",
            "__________________________________________________________________________________________________\n",
            "activation_12 (Activation)      (None, 4, 4, 128)    0           bn3a_branch2b[0][0]              \n",
            "__________________________________________________________________________________________________\n",
            "res3a_branch2c (Conv2D)         (None, 4, 4, 512)    66048       activation_12[0][0]              \n",
            "__________________________________________________________________________________________________\n",
            "res3a_branch1 (Conv2D)          (None, 4, 4, 512)    131584      activation_10[0][0]              \n",
            "__________________________________________________________________________________________________\n",
            "bn3a_branch2c (BatchNormalizati (None, 4, 4, 512)    2048        res3a_branch2c[0][0]             \n",
            "__________________________________________________________________________________________________\n",
            "bn3a_branch1 (BatchNormalizatio (None, 4, 4, 512)    2048        res3a_branch1[0][0]              \n",
            "__________________________________________________________________________________________________\n",
            "add_4 (Add)                     (None, 4, 4, 512)    0           bn3a_branch2c[0][0]              \n",
            "                                                                 bn3a_branch1[0][0]               \n",
            "__________________________________________________________________________________________________\n",
            "activation_13 (Activation)      (None, 4, 4, 512)    0           add_4[0][0]                      \n",
            "__________________________________________________________________________________________________\n",
            "res3b_branch2a (Conv2D)         (None, 4, 4, 128)    65664       activation_13[0][0]              \n",
            "__________________________________________________________________________________________________\n",
            "bn3b_branch2a (BatchNormalizati (None, 4, 4, 128)    512         res3b_branch2a[0][0]             \n",
            "__________________________________________________________________________________________________\n",
            "activation_14 (Activation)      (None, 4, 4, 128)    0           bn3b_branch2a[0][0]              \n",
            "__________________________________________________________________________________________________\n",
            "res3b_branch2b (Conv2D)         (None, 4, 4, 128)    147584      activation_14[0][0]              \n",
            "__________________________________________________________________________________________________\n",
            "bn3b_branch2b (BatchNormalizati (None, 4, 4, 128)    512         res3b_branch2b[0][0]             \n",
            "__________________________________________________________________________________________________\n",
            "activation_15 (Activation)      (None, 4, 4, 128)    0           bn3b_branch2b[0][0]              \n",
            "__________________________________________________________________________________________________\n",
            "res3b_branch2c (Conv2D)         (None, 4, 4, 512)    66048       activation_15[0][0]              \n",
            "__________________________________________________________________________________________________\n",
            "bn3b_branch2c (BatchNormalizati (None, 4, 4, 512)    2048        res3b_branch2c[0][0]             \n",
            "__________________________________________________________________________________________________\n",
            "add_5 (Add)                     (None, 4, 4, 512)    0           bn3b_branch2c[0][0]              \n",
            "                                                                 activation_13[0][0]              \n",
            "__________________________________________________________________________________________________\n",
            "activation_16 (Activation)      (None, 4, 4, 512)    0           add_5[0][0]                      \n",
            "__________________________________________________________________________________________________\n",
            "res3c_branch2a (Conv2D)         (None, 4, 4, 128)    65664       activation_16[0][0]              \n",
            "__________________________________________________________________________________________________\n",
            "bn3c_branch2a (BatchNormalizati (None, 4, 4, 128)    512         res3c_branch2a[0][0]             \n",
            "__________________________________________________________________________________________________\n",
            "activation_17 (Activation)      (None, 4, 4, 128)    0           bn3c_branch2a[0][0]              \n",
            "__________________________________________________________________________________________________\n",
            "res3c_branch2b (Conv2D)         (None, 4, 4, 128)    147584      activation_17[0][0]              \n",
            "__________________________________________________________________________________________________\n",
            "bn3c_branch2b (BatchNormalizati (None, 4, 4, 128)    512         res3c_branch2b[0][0]             \n",
            "__________________________________________________________________________________________________\n",
            "activation_18 (Activation)      (None, 4, 4, 128)    0           bn3c_branch2b[0][0]              \n",
            "__________________________________________________________________________________________________\n",
            "res3c_branch2c (Conv2D)         (None, 4, 4, 512)    66048       activation_18[0][0]              \n",
            "__________________________________________________________________________________________________\n",
            "bn3c_branch2c (BatchNormalizati (None, 4, 4, 512)    2048        res3c_branch2c[0][0]             \n",
            "__________________________________________________________________________________________________\n",
            "add_6 (Add)                     (None, 4, 4, 512)    0           bn3c_branch2c[0][0]              \n",
            "                                                                 activation_16[0][0]              \n",
            "__________________________________________________________________________________________________\n",
            "activation_19 (Activation)      (None, 4, 4, 512)    0           add_6[0][0]                      \n",
            "__________________________________________________________________________________________________\n",
            "res3d_branch2a (Conv2D)         (None, 4, 4, 128)    65664       activation_19[0][0]              \n",
            "__________________________________________________________________________________________________\n",
            "bn3d_branch2a (BatchNormalizati (None, 4, 4, 128)    512         res3d_branch2a[0][0]             \n",
            "__________________________________________________________________________________________________\n",
            "activation_20 (Activation)      (None, 4, 4, 128)    0           bn3d_branch2a[0][0]              \n",
            "__________________________________________________________________________________________________\n",
            "res3d_branch2b (Conv2D)         (None, 4, 4, 128)    147584      activation_20[0][0]              \n",
            "__________________________________________________________________________________________________\n",
            "bn3d_branch2b (BatchNormalizati (None, 4, 4, 128)    512         res3d_branch2b[0][0]             \n",
            "__________________________________________________________________________________________________\n",
            "activation_21 (Activation)      (None, 4, 4, 128)    0           bn3d_branch2b[0][0]              \n",
            "__________________________________________________________________________________________________\n",
            "res3d_branch2c (Conv2D)         (None, 4, 4, 512)    66048       activation_21[0][0]              \n",
            "__________________________________________________________________________________________________\n",
            "bn3d_branch2c (BatchNormalizati (None, 4, 4, 512)    2048        res3d_branch2c[0][0]             \n",
            "__________________________________________________________________________________________________\n",
            "add_7 (Add)                     (None, 4, 4, 512)    0           bn3d_branch2c[0][0]              \n",
            "                                                                 activation_19[0][0]              \n",
            "__________________________________________________________________________________________________\n",
            "activation_22 (Activation)      (None, 4, 4, 512)    0           add_7[0][0]                      \n",
            "__________________________________________________________________________________________________\n",
            "res4a_branch2a (Conv2D)         (None, 2, 2, 256)    131328      activation_22[0][0]              \n",
            "__________________________________________________________________________________________________\n",
            "bn4a_branch2a (BatchNormalizati (None, 2, 2, 256)    1024        res4a_branch2a[0][0]             \n",
            "__________________________________________________________________________________________________\n",
            "activation_23 (Activation)      (None, 2, 2, 256)    0           bn4a_branch2a[0][0]              \n",
            "__________________________________________________________________________________________________\n",
            "res4a_branch2b (Conv2D)         (None, 2, 2, 256)    590080      activation_23[0][0]              \n",
            "__________________________________________________________________________________________________\n",
            "bn4a_branch2b (BatchNormalizati (None, 2, 2, 256)    1024        res4a_branch2b[0][0]             \n",
            "__________________________________________________________________________________________________\n",
            "activation_24 (Activation)      (None, 2, 2, 256)    0           bn4a_branch2b[0][0]              \n",
            "__________________________________________________________________________________________________\n",
            "res4a_branch2c (Conv2D)         (None, 2, 2, 1024)   263168      activation_24[0][0]              \n",
            "__________________________________________________________________________________________________\n",
            "res4a_branch1 (Conv2D)          (None, 2, 2, 1024)   525312      activation_22[0][0]              \n",
            "__________________________________________________________________________________________________\n",
            "bn4a_branch2c (BatchNormalizati (None, 2, 2, 1024)   4096        res4a_branch2c[0][0]             \n",
            "__________________________________________________________________________________________________\n",
            "bn4a_branch1 (BatchNormalizatio (None, 2, 2, 1024)   4096        res4a_branch1[0][0]              \n",
            "__________________________________________________________________________________________________\n",
            "add_8 (Add)                     (None, 2, 2, 1024)   0           bn4a_branch2c[0][0]              \n",
            "                                                                 bn4a_branch1[0][0]               \n",
            "__________________________________________________________________________________________________\n",
            "activation_25 (Activation)      (None, 2, 2, 1024)   0           add_8[0][0]                      \n",
            "__________________________________________________________________________________________________\n",
            "res4b_branch2a (Conv2D)         (None, 2, 2, 256)    262400      activation_25[0][0]              \n",
            "__________________________________________________________________________________________________\n",
            "bn4b_branch2a (BatchNormalizati (None, 2, 2, 256)    1024        res4b_branch2a[0][0]             \n",
            "__________________________________________________________________________________________________\n",
            "activation_26 (Activation)      (None, 2, 2, 256)    0           bn4b_branch2a[0][0]              \n",
            "__________________________________________________________________________________________________\n",
            "res4b_branch2b (Conv2D)         (None, 2, 2, 256)    590080      activation_26[0][0]              \n",
            "__________________________________________________________________________________________________\n",
            "bn4b_branch2b (BatchNormalizati (None, 2, 2, 256)    1024        res4b_branch2b[0][0]             \n",
            "__________________________________________________________________________________________________\n",
            "activation_27 (Activation)      (None, 2, 2, 256)    0           bn4b_branch2b[0][0]              \n",
            "__________________________________________________________________________________________________\n",
            "res4b_branch2c (Conv2D)         (None, 2, 2, 1024)   263168      activation_27[0][0]              \n",
            "__________________________________________________________________________________________________\n",
            "bn4b_branch2c (BatchNormalizati (None, 2, 2, 1024)   4096        res4b_branch2c[0][0]             \n",
            "__________________________________________________________________________________________________\n",
            "add_9 (Add)                     (None, 2, 2, 1024)   0           bn4b_branch2c[0][0]              \n",
            "                                                                 activation_25[0][0]              \n",
            "__________________________________________________________________________________________________\n",
            "activation_28 (Activation)      (None, 2, 2, 1024)   0           add_9[0][0]                      \n",
            "__________________________________________________________________________________________________\n",
            "res4c_branch2a (Conv2D)         (None, 2, 2, 256)    262400      activation_28[0][0]              \n",
            "__________________________________________________________________________________________________\n",
            "bn4c_branch2a (BatchNormalizati (None, 2, 2, 256)    1024        res4c_branch2a[0][0]             \n",
            "__________________________________________________________________________________________________\n",
            "activation_29 (Activation)      (None, 2, 2, 256)    0           bn4c_branch2a[0][0]              \n",
            "__________________________________________________________________________________________________\n",
            "res4c_branch2b (Conv2D)         (None, 2, 2, 256)    590080      activation_29[0][0]              \n",
            "__________________________________________________________________________________________________\n",
            "bn4c_branch2b (BatchNormalizati (None, 2, 2, 256)    1024        res4c_branch2b[0][0]             \n",
            "__________________________________________________________________________________________________\n",
            "activation_30 (Activation)      (None, 2, 2, 256)    0           bn4c_branch2b[0][0]              \n",
            "__________________________________________________________________________________________________\n",
            "res4c_branch2c (Conv2D)         (None, 2, 2, 1024)   263168      activation_30[0][0]              \n",
            "__________________________________________________________________________________________________\n",
            "bn4c_branch2c (BatchNormalizati (None, 2, 2, 1024)   4096        res4c_branch2c[0][0]             \n",
            "__________________________________________________________________________________________________\n",
            "add_10 (Add)                    (None, 2, 2, 1024)   0           bn4c_branch2c[0][0]              \n",
            "                                                                 activation_28[0][0]              \n",
            "__________________________________________________________________________________________________\n",
            "activation_31 (Activation)      (None, 2, 2, 1024)   0           add_10[0][0]                     \n",
            "__________________________________________________________________________________________________\n",
            "res4d_branch2a (Conv2D)         (None, 2, 2, 256)    262400      activation_31[0][0]              \n",
            "__________________________________________________________________________________________________\n",
            "bn4d_branch2a (BatchNormalizati (None, 2, 2, 256)    1024        res4d_branch2a[0][0]             \n",
            "__________________________________________________________________________________________________\n",
            "activation_32 (Activation)      (None, 2, 2, 256)    0           bn4d_branch2a[0][0]              \n",
            "__________________________________________________________________________________________________\n",
            "res4d_branch2b (Conv2D)         (None, 2, 2, 256)    590080      activation_32[0][0]              \n",
            "__________________________________________________________________________________________________\n",
            "bn4d_branch2b (BatchNormalizati (None, 2, 2, 256)    1024        res4d_branch2b[0][0]             \n",
            "__________________________________________________________________________________________________\n",
            "activation_33 (Activation)      (None, 2, 2, 256)    0           bn4d_branch2b[0][0]              \n",
            "__________________________________________________________________________________________________\n",
            "res4d_branch2c (Conv2D)         (None, 2, 2, 1024)   263168      activation_33[0][0]              \n",
            "__________________________________________________________________________________________________\n",
            "bn4d_branch2c (BatchNormalizati (None, 2, 2, 1024)   4096        res4d_branch2c[0][0]             \n",
            "__________________________________________________________________________________________________\n",
            "add_11 (Add)                    (None, 2, 2, 1024)   0           bn4d_branch2c[0][0]              \n",
            "                                                                 activation_31[0][0]              \n",
            "__________________________________________________________________________________________________\n",
            "activation_34 (Activation)      (None, 2, 2, 1024)   0           add_11[0][0]                     \n",
            "__________________________________________________________________________________________________\n",
            "res4e_branch2a (Conv2D)         (None, 2, 2, 256)    262400      activation_34[0][0]              \n",
            "__________________________________________________________________________________________________\n",
            "bn4e_branch2a (BatchNormalizati (None, 2, 2, 256)    1024        res4e_branch2a[0][0]             \n",
            "__________________________________________________________________________________________________\n",
            "activation_35 (Activation)      (None, 2, 2, 256)    0           bn4e_branch2a[0][0]              \n",
            "__________________________________________________________________________________________________\n",
            "res4e_branch2b (Conv2D)         (None, 2, 2, 256)    590080      activation_35[0][0]              \n",
            "__________________________________________________________________________________________________\n",
            "bn4e_branch2b (BatchNormalizati (None, 2, 2, 256)    1024        res4e_branch2b[0][0]             \n",
            "__________________________________________________________________________________________________\n",
            "activation_36 (Activation)      (None, 2, 2, 256)    0           bn4e_branch2b[0][0]              \n",
            "__________________________________________________________________________________________________\n",
            "res4e_branch2c (Conv2D)         (None, 2, 2, 1024)   263168      activation_36[0][0]              \n",
            "__________________________________________________________________________________________________\n",
            "bn4e_branch2c (BatchNormalizati (None, 2, 2, 1024)   4096        res4e_branch2c[0][0]             \n",
            "__________________________________________________________________________________________________\n",
            "add_12 (Add)                    (None, 2, 2, 1024)   0           bn4e_branch2c[0][0]              \n",
            "                                                                 activation_34[0][0]              \n",
            "__________________________________________________________________________________________________\n",
            "activation_37 (Activation)      (None, 2, 2, 1024)   0           add_12[0][0]                     \n",
            "__________________________________________________________________________________________________\n",
            "res4f_branch2a (Conv2D)         (None, 2, 2, 256)    262400      activation_37[0][0]              \n",
            "__________________________________________________________________________________________________\n",
            "bn4f_branch2a (BatchNormalizati (None, 2, 2, 256)    1024        res4f_branch2a[0][0]             \n",
            "__________________________________________________________________________________________________\n",
            "activation_38 (Activation)      (None, 2, 2, 256)    0           bn4f_branch2a[0][0]              \n",
            "__________________________________________________________________________________________________\n",
            "res4f_branch2b (Conv2D)         (None, 2, 2, 256)    590080      activation_38[0][0]              \n",
            "__________________________________________________________________________________________________\n",
            "bn4f_branch2b (BatchNormalizati (None, 2, 2, 256)    1024        res4f_branch2b[0][0]             \n",
            "__________________________________________________________________________________________________\n",
            "activation_39 (Activation)      (None, 2, 2, 256)    0           bn4f_branch2b[0][0]              \n",
            "__________________________________________________________________________________________________\n",
            "res4f_branch2c (Conv2D)         (None, 2, 2, 1024)   263168      activation_39[0][0]              \n",
            "__________________________________________________________________________________________________\n",
            "bn4f_branch2c (BatchNormalizati (None, 2, 2, 1024)   4096        res4f_branch2c[0][0]             \n",
            "__________________________________________________________________________________________________\n",
            "add_13 (Add)                    (None, 2, 2, 1024)   0           bn4f_branch2c[0][0]              \n",
            "                                                                 activation_37[0][0]              \n",
            "__________________________________________________________________________________________________\n",
            "activation_40 (Activation)      (None, 2, 2, 1024)   0           add_13[0][0]                     \n",
            "__________________________________________________________________________________________________\n",
            "res5a_branch2a (Conv2D)         (None, 1, 1, 512)    524800      activation_40[0][0]              \n",
            "__________________________________________________________________________________________________\n",
            "bn5a_branch2a (BatchNormalizati (None, 1, 1, 512)    2048        res5a_branch2a[0][0]             \n",
            "__________________________________________________________________________________________________\n",
            "activation_41 (Activation)      (None, 1, 1, 512)    0           bn5a_branch2a[0][0]              \n",
            "__________________________________________________________________________________________________\n",
            "res5a_branch2b (Conv2D)         (None, 1, 1, 512)    2359808     activation_41[0][0]              \n",
            "__________________________________________________________________________________________________\n",
            "bn5a_branch2b (BatchNormalizati (None, 1, 1, 512)    2048        res5a_branch2b[0][0]             \n",
            "__________________________________________________________________________________________________\n",
            "activation_42 (Activation)      (None, 1, 1, 512)    0           bn5a_branch2b[0][0]              \n",
            "__________________________________________________________________________________________________\n",
            "res5a_branch2c (Conv2D)         (None, 1, 1, 2048)   1050624     activation_42[0][0]              \n",
            "__________________________________________________________________________________________________\n",
            "res5a_branch1 (Conv2D)          (None, 1, 1, 2048)   2099200     activation_40[0][0]              \n",
            "__________________________________________________________________________________________________\n",
            "bn5a_branch2c (BatchNormalizati (None, 1, 1, 2048)   8192        res5a_branch2c[0][0]             \n",
            "__________________________________________________________________________________________________\n",
            "bn5a_branch1 (BatchNormalizatio (None, 1, 1, 2048)   8192        res5a_branch1[0][0]              \n",
            "__________________________________________________________________________________________________\n",
            "add_14 (Add)                    (None, 1, 1, 2048)   0           bn5a_branch2c[0][0]              \n",
            "                                                                 bn5a_branch1[0][0]               \n",
            "__________________________________________________________________________________________________\n",
            "activation_43 (Activation)      (None, 1, 1, 2048)   0           add_14[0][0]                     \n",
            "__________________________________________________________________________________________________\n",
            "res5b_branch2a (Conv2D)         (None, 1, 1, 512)    1049088     activation_43[0][0]              \n",
            "__________________________________________________________________________________________________\n",
            "bn5b_branch2a (BatchNormalizati (None, 1, 1, 512)    2048        res5b_branch2a[0][0]             \n",
            "__________________________________________________________________________________________________\n",
            "activation_44 (Activation)      (None, 1, 1, 512)    0           bn5b_branch2a[0][0]              \n",
            "__________________________________________________________________________________________________\n",
            "res5b_branch2b (Conv2D)         (None, 1, 1, 512)    2359808     activation_44[0][0]              \n",
            "__________________________________________________________________________________________________\n",
            "bn5b_branch2b (BatchNormalizati (None, 1, 1, 512)    2048        res5b_branch2b[0][0]             \n",
            "__________________________________________________________________________________________________\n",
            "activation_45 (Activation)      (None, 1, 1, 512)    0           bn5b_branch2b[0][0]              \n",
            "__________________________________________________________________________________________________\n",
            "res5b_branch2c (Conv2D)         (None, 1, 1, 2048)   1050624     activation_45[0][0]              \n",
            "__________________________________________________________________________________________________\n",
            "bn5b_branch2c (BatchNormalizati (None, 1, 1, 2048)   8192        res5b_branch2c[0][0]             \n",
            "__________________________________________________________________________________________________\n",
            "add_15 (Add)                    (None, 1, 1, 2048)   0           bn5b_branch2c[0][0]              \n",
            "                                                                 activation_43[0][0]              \n",
            "__________________________________________________________________________________________________\n",
            "activation_46 (Activation)      (None, 1, 1, 2048)   0           add_15[0][0]                     \n",
            "__________________________________________________________________________________________________\n",
            "res5c_branch2a (Conv2D)         (None, 1, 1, 512)    1049088     activation_46[0][0]              \n",
            "__________________________________________________________________________________________________\n",
            "bn5c_branch2a (BatchNormalizati (None, 1, 1, 512)    2048        res5c_branch2a[0][0]             \n",
            "__________________________________________________________________________________________________\n",
            "activation_47 (Activation)      (None, 1, 1, 512)    0           bn5c_branch2a[0][0]              \n",
            "__________________________________________________________________________________________________\n",
            "res5c_branch2b (Conv2D)         (None, 1, 1, 512)    2359808     activation_47[0][0]              \n",
            "__________________________________________________________________________________________________\n",
            "bn5c_branch2b (BatchNormalizati (None, 1, 1, 512)    2048        res5c_branch2b[0][0]             \n",
            "__________________________________________________________________________________________________\n",
            "activation_48 (Activation)      (None, 1, 1, 512)    0           bn5c_branch2b[0][0]              \n",
            "__________________________________________________________________________________________________\n",
            "res5c_branch2c (Conv2D)         (None, 1, 1, 2048)   1050624     activation_48[0][0]              \n",
            "__________________________________________________________________________________________________\n",
            "bn5c_branch2c (BatchNormalizati (None, 1, 1, 2048)   8192        res5c_branch2c[0][0]             \n",
            "__________________________________________________________________________________________________\n",
            "add_16 (Add)                    (None, 1, 1, 2048)   0           bn5c_branch2c[0][0]              \n",
            "                                                                 activation_46[0][0]              \n",
            "__________________________________________________________________________________________________\n",
            "activation_49 (Activation)      (None, 1, 1, 2048)   0           add_16[0][0]                     \n",
            "__________________________________________________________________________________________________\n",
            "dense_1 (Dense)                 (None, 1, 1, 512)    1049088     activation_49[0][0]              \n",
            "__________________________________________________________________________________________________\n",
            "dropout_1 (Dropout)             (None, 1, 1, 512)    0           dense_1[0][0]                    \n",
            "__________________________________________________________________________________________________\n",
            "dense_2 (Dense)                 (None, 1, 1, 512)    262656      dropout_1[0][0]                  \n",
            "__________________________________________________________________________________________________\n",
            "dropout_2 (Dropout)             (None, 1, 1, 512)    0           dense_2[0][0]                    \n",
            "__________________________________________________________________________________________________\n",
            "dense_3 (Dense)                 (None, 1, 1, 10)     5130        dropout_2[0][0]                  \n",
            "__________________________________________________________________________________________________\n",
            "flatten_1 (Flatten)             (None, 10)           0           dense_3[0][0]                    \n",
            "==================================================================================================\n",
            "Total params: 24,904,586\n",
            "Trainable params: 1,316,874\n",
            "Non-trainable params: 23,587,712\n",
            "__________________________________________________________________________________________________\n"
          ],
          "name": "stdout"
        }
      ]
    },
    {
      "cell_type": "markdown",
      "metadata": {
        "id": "b5EJAnirZb3S",
        "colab_type": "text"
      },
      "source": [
        "- Los pesos los vamos a dejar tal cual vienen del modelo, por eso tenemos que: **layer.trainable = False** porque no queremos entrenar el modelo, lo que buscamos es aprovechar el \"conocimiento\" y adaptarlo a nuestro modelo."
      ]
    },
    {
      "cell_type": "markdown",
      "metadata": {
        "id": "RzpJVYAcH_0Q",
        "colab_type": "text"
      },
      "source": [
        ",Analicemos cada línea de código del modelo:\n",
        "\n",
        "- Hemos creado nuestor modelo usando transfer learning con ayuda del modelo pre-entrenado ResNet50, que si vemos ya tiene incluidas las capas de *flatten()*,*(Conv2D)* y las que hubieramos añadido a nuestro nuevo modelo.\n",
        "\n",
        "\n",
        "- Luego está la red totalmente conectada (Fully-connected), compuesta de 1 capa densa oculta y una capa de salida densa. Tenga en cuenta que **debemos aplanar sus entradas**, ya que una red densa espera una matriz 1D de características para cada instancia. También agregamos dos capas de *dropout*, con una tasa de dropout del $30\\%$ "
      ]
    },
    {
      "cell_type": "markdown",
      "metadata": {
        "id": "LQYXmD8hH_0R",
        "colab_type": "text"
      },
      "source": [
        "#### 4. Compilamos y ajustamos el modelo.\n"
      ]
    },
    {
      "cell_type": "code",
      "metadata": {
        "id": "QTBbC-awH_0S",
        "colab_type": "code",
        "colab": {}
      },
      "source": [
        " model.compile(loss=\"sparse_categorical_crossentropy\", optimizer=\"sgd\", metrics=[\"accuracy\"])"
      ],
      "execution_count": 0,
      "outputs": []
    },
    {
      "cell_type": "code",
      "metadata": {
        "id": "UEnqvf-nH_0d",
        "colab_type": "code",
        "colab": {}
      },
      "source": [
        "#keras.utils.plot_model(model, \"my_ciffar_model.png\", show_shapes=True)\n",
        "#model.summary()"
      ],
      "execution_count": 0,
      "outputs": []
    },
    {
      "cell_type": "code",
      "metadata": {
        "id": "ZN4mM7iFoNXq",
        "colab_type": "code",
        "outputId": "f14504c3-98b2-444e-86e8-24bcbcd92c8e",
        "colab": {
          "base_uri": "https://localhost:8080/",
          "height": 34
        }
      },
      "source": [
        "model.input_shape\n",
        "X_train.shape\n",
        "X_valid.shape\n",
        "#y_train.shape\n",
        "zz = model_pre.predict(X_train[:30])\n",
        "zz.shape\n",
        "model_pre.outputs"
      ],
      "execution_count": 14,
      "outputs": [
        {
          "output_type": "execute_result",
          "data": {
            "text/plain": [
              "[<tf.Tensor 'activation_49/Relu:0' shape=(None, 1, 1, 2048) dtype=float32>]"
            ]
          },
          "metadata": {
            "tags": []
          },
          "execution_count": 14
        }
      ]
    },
    {
      "cell_type": "code",
      "metadata": {
        "id": "5gnbWPpEH_0h",
        "colab_type": "code",
        "outputId": "ef8b7c45-bbeb-4b1e-9736-e1ab5eebea84",
        "colab": {
          "base_uri": "https://localhost:8080/",
          "height": 757
        }
      },
      "source": [
        "#epochs = 25\n",
        "hist = model.fit(X_train, y_train, epochs=20,\n",
        "                 validation_data=(X_valid, y_valid), batch_size=32)"
      ],
      "execution_count": 0,
      "outputs": [
        {
          "output_type": "stream",
          "text": [
            "Train on 46000 samples, validate on 4000 samples\n",
            "Epoch 1/20\n",
            "46000/46000 [==============================] - 24s 523us/step - loss: 1.9228 - accuracy: 0.3267 - val_loss: 3.1730 - val_accuracy: 0.1050\n",
            "Epoch 2/20\n",
            "46000/46000 [==============================] - 21s 465us/step - loss: 1.6520 - accuracy: 0.4152 - val_loss: 4.3504 - val_accuracy: 0.1050\n",
            "Epoch 3/20\n",
            "46000/46000 [==============================] - 22s 468us/step - loss: 1.5744 - accuracy: 0.4452 - val_loss: 5.0588 - val_accuracy: 0.1050\n",
            "Epoch 4/20\n",
            "46000/46000 [==============================] - 22s 468us/step - loss: 1.5312 - accuracy: 0.4587 - val_loss: 5.4508 - val_accuracy: 0.1050\n",
            "Epoch 5/20\n",
            "46000/46000 [==============================] - 22s 476us/step - loss: 1.5017 - accuracy: 0.4715 - val_loss: 5.5733 - val_accuracy: 0.0993\n",
            "Epoch 6/20\n",
            "46000/46000 [==============================] - 21s 457us/step - loss: 1.4746 - accuracy: 0.4791 - val_loss: 6.0839 - val_accuracy: 0.0995\n",
            "Epoch 7/20\n",
            "46000/46000 [==============================] - 22s 469us/step - loss: 1.4526 - accuracy: 0.4875 - val_loss: 5.9696 - val_accuracy: 0.0993\n",
            "Epoch 8/20\n",
            "46000/46000 [==============================] - 21s 465us/step - loss: 1.4394 - accuracy: 0.4941 - val_loss: 6.0838 - val_accuracy: 0.0950\n",
            "Epoch 9/20\n",
            "46000/46000 [==============================] - 21s 462us/step - loss: 1.4122 - accuracy: 0.5041 - val_loss: 5.9029 - val_accuracy: 0.0978\n",
            "Epoch 10/20\n",
            "46000/46000 [==============================] - 21s 464us/step - loss: 1.4033 - accuracy: 0.5042 - val_loss: 6.2208 - val_accuracy: 0.0990\n",
            "Epoch 11/20\n",
            "46000/46000 [==============================] - 21s 466us/step - loss: 1.3887 - accuracy: 0.5097 - val_loss: 6.3430 - val_accuracy: 0.0993\n",
            "Epoch 12/20\n",
            "46000/46000 [==============================] - 22s 470us/step - loss: 1.3700 - accuracy: 0.5203 - val_loss: 6.6030 - val_accuracy: 0.0993\n",
            "Epoch 13/20\n",
            "46000/46000 [==============================] - 21s 465us/step - loss: 1.3717 - accuracy: 0.5191 - val_loss: 6.5218 - val_accuracy: 0.1042\n",
            "Epoch 14/20\n",
            "46000/46000 [==============================] - 21s 459us/step - loss: 1.3545 - accuracy: 0.5225 - val_loss: 6.3360 - val_accuracy: 0.0997\n",
            "Epoch 15/20\n",
            "46000/46000 [==============================] - 21s 462us/step - loss: 1.3385 - accuracy: 0.5289 - val_loss: 6.2814 - val_accuracy: 0.0988\n",
            "Epoch 16/20\n",
            "46000/46000 [==============================] - 22s 471us/step - loss: 1.3317 - accuracy: 0.5320 - val_loss: 6.5338 - val_accuracy: 0.1123\n",
            "Epoch 17/20\n",
            "46000/46000 [==============================] - 21s 461us/step - loss: 1.3229 - accuracy: 0.5344 - val_loss: 6.4876 - val_accuracy: 0.0990\n",
            "Epoch 18/20\n",
            "46000/46000 [==============================] - 22s 470us/step - loss: 1.3116 - accuracy: 0.5370 - val_loss: 6.1977 - val_accuracy: 0.0995\n",
            "Epoch 19/20\n",
            "46000/46000 [==============================] - 22s 471us/step - loss: 1.3129 - accuracy: 0.5366 - val_loss: 6.8178 - val_accuracy: 0.1115\n",
            "Epoch 20/20\n",
            "46000/46000 [==============================] - 22s 474us/step - loss: 1.3028 - accuracy: 0.5433 - val_loss: 6.7289 - val_accuracy: 0.0993\n"
          ],
          "name": "stdout"
        }
      ]
    },
    {
      "cell_type": "markdown",
      "metadata": {
        "id": "amRNdKHLXtTM",
        "colab_type": "text"
      },
      "source": [
        "- Se eligió un pequeño número de épocas resolver esta tarea de forma rápida. Normalmente, el número de épocas sería entre dos o tres veces el valor escogido para resolver este tipo de tareas. "
      ]
    },
    {
      "cell_type": "code",
      "metadata": {
        "id": "BltRuthvH_0l",
        "colab_type": "code",
        "outputId": "95327cc8-df65-4ba7-c3d7-d0b5a9a5976c",
        "colab": {
          "base_uri": "https://localhost:8080/",
          "height": 34
        }
      },
      "source": [
        "score = model.evaluate(X_test, y_test, verbose=0)\n",
        "print(\"Accuracy: %.2f%%\" % (score[1]*100))"
      ],
      "execution_count": 0,
      "outputs": [
        {
          "output_type": "stream",
          "text": [
            "Accuracy: 9.99%\n"
          ],
          "name": "stdout"
        }
      ]
    },
    {
      "cell_type": "markdown",
      "metadata": {
        "id": "RICuWLtWH_0o",
        "colab_type": "text"
      },
      "source": [
        "5. Por último hacemos nuestra predicción, en este caso vamos a pretender que tenemos una nuevas imagenes que tomaremos del conjunto X_test"
      ]
    },
    {
      "cell_type": "code",
      "metadata": {
        "id": "un-_TZZ-H_0q",
        "colab_type": "code",
        "colab": {}
      },
      "source": [
        "X_new = X_test[:10] # New images\n",
        "y_pred = model.predict(X_new)"
      ],
      "execution_count": 0,
      "outputs": []
    },
    {
      "cell_type": "code",
      "metadata": {
        "id": "Grz27JYbI7ec",
        "colab_type": "code",
        "outputId": "e6838619-9a61-4c33-ce7d-40617e82f948",
        "colab": {
          "base_uri": "https://localhost:8080/",
          "height": 518
        }
      },
      "source": [
        "y_pred"
      ],
      "execution_count": 0,
      "outputs": [
        {
          "output_type": "execute_result",
          "data": {
            "text/plain": [
              "array([[1.5915293e-01, 1.7508099e-05, 7.9494286e-01, 3.2379254e-04,\n",
              "        4.0669944e-02, 4.4673079e-04, 3.0202423e-03, 5.3001114e-04,\n",
              "        8.9266867e-04, 3.3314943e-06],\n",
              "       [1.4633155e-01, 1.6784265e-05, 8.0622202e-01, 3.0399335e-04,\n",
              "        4.2049129e-02, 4.3607684e-04, 3.2882926e-03, 5.9300289e-04,\n",
              "        7.5607136e-04, 3.0786739e-06],\n",
              "       [1.3950087e-01, 1.8429171e-05, 8.1150019e-01, 3.4596259e-04,\n",
              "        4.3487635e-02, 4.9377518e-04, 3.2541568e-03, 6.6232012e-04,\n",
              "        7.3310622e-04, 3.4326995e-06],\n",
              "       [1.7698775e-01, 1.2241520e-05, 7.8148025e-01, 2.4356817e-04,\n",
              "        3.7415728e-02, 3.6083243e-04, 2.1561675e-03, 4.3684489e-04,\n",
              "        9.0405636e-04, 2.6374050e-06],\n",
              "       [1.3482146e-01, 1.5790480e-05, 8.1958115e-01, 3.0796436e-04,\n",
              "        4.0189065e-02, 4.1625099e-04, 3.4772023e-03, 5.8531499e-04,\n",
              "        6.0312508e-04, 2.7107801e-06],\n",
              "       [1.3734195e-01, 2.0257434e-05, 8.1477708e-01, 3.5788119e-04,\n",
              "        4.1580912e-02, 4.7910467e-04, 4.0383558e-03, 6.5664668e-04,\n",
              "        7.4422191e-04, 3.7022637e-06],\n",
              "       [1.7283054e-01, 1.0595010e-05, 7.9228997e-01, 2.2308691e-04,\n",
              "        3.0996975e-02, 3.0197593e-04, 1.9809534e-03, 2.9215915e-04,\n",
              "        1.0713371e-03, 2.3565954e-06],\n",
              "       [1.5301144e-01, 1.6294842e-05, 8.0233574e-01, 3.0625542e-04,\n",
              "        3.9491460e-02, 4.1373298e-04, 3.0567420e-03, 5.7218585e-04,\n",
              "        7.9307781e-04, 3.0523722e-06],\n",
              "       [1.4043607e-01, 1.9504125e-05, 8.0683231e-01, 3.8878561e-04,\n",
              "        4.6733472e-02, 5.2007154e-04, 3.6313080e-03, 7.1803178e-04,\n",
              "        7.1664131e-04, 3.8229546e-06],\n",
              "       [1.6023433e-01, 1.4191940e-05, 7.9384750e-01, 3.0159642e-04,\n",
              "        4.1299842e-02, 4.2037282e-04, 2.5510325e-03, 5.2990962e-04,\n",
              "        7.9835032e-04, 2.8016379e-06]], dtype=float32)"
            ]
          },
          "metadata": {
            "tags": []
          },
          "execution_count": 29
        }
      ]
    },
    {
      "cell_type": "markdown",
      "metadata": {
        "id": "dJN_IaGxeUni",
        "colab_type": "text"
      },
      "source": [
        "- Guardemos el modelo, para hacer transfer learning, por si en el futuo necesitamos hacer otro clasificador."
      ]
    },
    {
      "cell_type": "code",
      "metadata": {
        "id": "TFhd247sekJY",
        "colab_type": "code",
        "colab": {}
      },
      "source": [
        "model.save(\"my_model.h5py\")"
      ],
      "execution_count": 0,
      "outputs": []
    },
    {
      "cell_type": "markdown",
      "metadata": {
        "id": "2fvJ6DasjqPJ",
        "colab_type": "text"
      },
      "source": [
        "Otros formatos para guardar y cargar modelos de keras:\n",
        "\n",
        "[save_load model keras](https://machinelearningmastery.com/save-load-keras-deep-learning-models/)"
      ]
    },
    {
      "cell_type": "markdown",
      "metadata": {
        "id": "183yxo9yLtnA",
        "colab_type": "text"
      },
      "source": [
        "# Otras aplicaciones de transfer learning y visión con redes neuronales\n",
        "\n",
        "\n",
        "[Semantic Segmentation](https://towardsdatascience.com/understanding-semantic-segmentation-with-unet-6be4f42d4b47)"
      ]
    },
    {
      "cell_type": "markdown",
      "metadata": {
        "id": "OjERTa7bkt1V",
        "colab_type": "text"
      },
      "source": [
        "# Autodiff en keras\n",
        "\n",
        "La clave de la eficiencia en redes con deep learning es el autodiff\n",
        "\n",
        "[Autodiff](https://en.wikipedia.org/wiki/Automatic_differentiation)"
      ]
    },
    {
      "cell_type": "code",
      "metadata": {
        "id": "fu2PKC7Uj_1p",
        "colab_type": "code",
        "colab": {}
      },
      "source": [
        "#ejemplo simple de autodiff\n",
        "#funcion a derivar\n",
        "def f(w1,w2):\n",
        "  return 3*w1**2 + 2 *w1*w2\n",
        "\n",
        "  "
      ],
      "execution_count": 0,
      "outputs": []
    },
    {
      "cell_type": "code",
      "metadata": {
        "id": "bQvVr3D7lNRs",
        "colab_type": "code",
        "colab": {
          "base_uri": "https://localhost:8080/",
          "height": 34
        },
        "outputId": "e1f67dc2-5102-4c28-a95b-7b35232f09da"
      },
      "source": [
        "w1, w2 = 5, 3\n",
        "eps = 1e-6\n",
        "(f(w1+eps,w2)-f(w1,w2))/eps #estimacion numerica de la derivada"
      ],
      "execution_count": 19,
      "outputs": [
        {
          "output_type": "execute_result",
          "data": {
            "text/plain": [
              "36.000003007075065"
            ]
          },
          "metadata": {
            "tags": []
          },
          "execution_count": 19
        }
      ]
    },
    {
      "cell_type": "code",
      "metadata": {
        "id": "7cHyQDPglZhm",
        "colab_type": "code",
        "colab": {}
      },
      "source": [
        "(f(w1,w2+eps)-f(w1,w2))/eps #"
      ],
      "execution_count": 0,
      "outputs": []
    },
    {
      "cell_type": "markdown",
      "metadata": {
        "id": "pHiFmnlRmB95",
        "colab_type": "text"
      },
      "source": [
        "La aproximación numérica funciona bien pero debe llamarse $f(\\cdot)$ para calcular el gradiente de cada variable, intratable para muchos parámetros en deep learning.\n",
        "\n",
        "El gradient tape de tensorflow (autodiff) facilita los cálculos del gradiente y lo hace eficiente para grandes cantidades de parámetros"
      ]
    },
    {
      "cell_type": "code",
      "metadata": {
        "id": "in9iRFSlmNkC",
        "colab_type": "code",
        "colab": {
          "base_uri": "https://localhost:8080/",
          "height": 52
        },
        "outputId": "7de2b25c-6a9f-4a6e-a6f7-cb1444f97d51"
      },
      "source": [
        "w1,w2 = tf.Variable(5.),tf.Variable(3.)\n",
        "with tf.GradientTape() as tape: #crear contexto gradient tape para guardar cada operacion que envuelve una variable\n",
        "  z=f(w1,w2) #funcion de perdida (loss) para salvar memoria colocar la menor cantidad de codigo en el tape\n",
        "\n",
        "gradients = tape.gradient(z,[w1,w2]) # tape calcula  los gradientes del resultado z con respecto a [w1,w2]\n",
        "gradients #gradient tape hace los calculos una sola vez de forma inversa sin importar la cantidad de variables"
      ],
      "execution_count": 21,
      "outputs": [
        {
          "output_type": "execute_result",
          "data": {
            "text/plain": [
              "[<tf.Tensor: shape=(), dtype=float32, numpy=36.0>,\n",
              " <tf.Tensor: shape=(), dtype=float32, numpy=10.0>]"
            ]
          },
          "metadata": {
            "tags": []
          },
          "execution_count": 21
        }
      ]
    },
    {
      "cell_type": "code",
      "metadata": {
        "id": "LoU8IUBunA9m",
        "colab_type": "code",
        "colab": {}
      },
      "source": [
        ""
      ],
      "execution_count": 0,
      "outputs": []
    },
    {
      "cell_type": "markdown",
      "metadata": {
        "id": "BWh3bQxwnns_",
        "colab_type": "text"
      },
      "source": [
        "## Cuando se hace fit a un modelo secuencial o funcional en keras, utiliza gradient tape.\n",
        "\n",
        "## Si se desea se pueden utilizar los gradientes de gradientTape y un paso personalizado fuera del ambiente model.fit() para problemas especializados sin necesidad de hacer el cálculo analítico de gradientes\n",
        "\n",
        "## Para proyectos especializados ver:\n",
        "\n",
        "[Custom training loop tf](https://www.tensorflow.org/tutorials/customization/custom_training_walkthrough)"
      ]
    },
    {
      "cell_type": "code",
      "metadata": {
        "id": "GM7PaISboCKf",
        "colab_type": "code",
        "colab": {}
      },
      "source": [
        ""
      ],
      "execution_count": 0,
      "outputs": []
    }
  ]
}