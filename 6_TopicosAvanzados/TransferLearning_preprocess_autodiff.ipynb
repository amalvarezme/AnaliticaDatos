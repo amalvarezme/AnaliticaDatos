{
  "nbformat": 4,
  "nbformat_minor": 0,
  "metadata": {
    "accelerator": "GPU",
    "colab": {
      "name": "TransferLearning_preprocess_autodiff.ipynb",
      "provenance": [],
      "collapsed_sections": [],
      "include_colab_link": true
    },
    "kernelspec": {
      "display_name": "Python 3",
      "language": "python",
      "name": "python3"
    },
    "language_info": {
      "codemirror_mode": {
        "name": "ipython",
        "version": 3
      },
      "file_extension": ".py",
      "mimetype": "text/x-python",
      "name": "python",
      "nbconvert_exporter": "python",
      "pygments_lexer": "ipython3",
      "version": "3.7.7"
    }
  },
  "cells": [
    {
      "cell_type": "markdown",
      "metadata": {
        "id": "view-in-github",
        "colab_type": "text"
      },
      "source": [
        "<a href=\"https://colab.research.google.com/github/amalvarezme/AnaliticaDatos/blob/master/6_NN_DeepLearning/TransferLearning_preprocess_autodiff.ipynb\" target=\"_parent\"><img src=\"https://colab.research.google.com/assets/colab-badge.svg\" alt=\"Open In Colab\"/></a>"
      ]
    },
    {
      "cell_type": "markdown",
      "metadata": {
        "colab_type": "text",
        "id": "B-xXNgusH_zB"
      },
      "source": [
        "Elaborado por Nicolás Pavón npavong@unal.edu.co y Andrés Álvarez amalvarezme@unal.edu.co .\n",
        "\n",
        "# Transfer Learning (Transferencia de aprendizaje)\n",
        "\n",
        "- $\\textbf{Transfer Learning}$, nos permite el entramineto de redes neuronales profundas con la ventaja de usar menos datos para la tarea que queremos realizar.\n",
        "\n",
        "- Por lo tanto estamos $\\textbf{trasnfiriendo}$ el $\\textbf{\"Conocimiento\"}$ aprendido por el modelo en anteriores tareas (utilizando bases de datos grandes) a nuestro modelo nuevo (depurado sobre bases de datos más pequeñas).\n",
        "\n",
        "- La idea general del transfer learning consta en aprovechar los modelos y sus parámetros entrenados, tomarlos para resolver nuestras propias tareas\n"
      ]
    },
    {
      "cell_type": "markdown",
      "metadata": {
        "colab_type": "text",
        "id": "zhEM3v5SH_zE"
      },
      "source": [
        "# Clasificación de imagenes con Redes Neuronales Convolucionales (CNN's)\n",
        "\n",
        "- Como tarea vamos a realizar la clasificación de imagenes mediante CNN's utilizando las librerias de Tensorflow y Keras.\n",
        "\n",
        "- Nuestro dataset [Cifar10] (https://www.cs.toronto.edu/~kriz/cifar.html) lo importaremos de Keras.datasets\n",
        "\n",
        "- El conjunto de datos CIFAR-10 consta de 60.000 fotos divididas en 10 clases. Las clases incluyen objetos comunes como aviones, automóviles, aves, gatos, etc. en. El conjunto de datos se divide de forma estándar, donde se utilizan 50.000 imágenes para la formación de un modelo y los 10.000 restantes para evaluar su desempeño. Las imágenes están en RGB de 32 x 32 píxeles."
      ]
    },
    {
      "cell_type": "markdown",
      "metadata": {
        "colab_type": "text",
        "id": "lrhu_MzJf-uR"
      },
      "source": [
        "Tengamos a la mano funciones que nos ayuden a graficar tanto en escala RGB como en escala de grises."
      ]
    },
    {
      "cell_type": "code",
      "metadata": {
        "colab_type": "code",
        "id": "r7WBb4VmgKjU",
        "colab": {}
      },
      "source": [
        "def plot_image(img):\n",
        "    plt.imshow(img, cmap=\"gray\", interpolation=\"nearest\")\n",
        "    plt.axis(\"off\")\n",
        "\n",
        "def plot_color_image(img):\n",
        "    plt.imshow(img, interpolation=\"nearest\")\n",
        "    plt.axis(\"off\")\n",
        "\n",
        "def crop(images):\n",
        "    return images[150:220, 130:250]"
      ],
      "execution_count": 0,
      "outputs": []
    },
    {
      "cell_type": "markdown",
      "metadata": {
        "colab_type": "text",
        "id": "5o_HGlpGH_zF"
      },
      "source": [
        "1. Importemos las librerias TensorFlow y Keras"
      ]
    },
    {
      "cell_type": "code",
      "metadata": {
        "colab_type": "code",
        "id": "CUp4CykbH_zH",
        "colab": {}
      },
      "source": [
        "## instalamos los paquetes de tensorflow y keras\n",
        "#!pip install tensorflow\n",
        "#!pip install Keras\n",
        "# Google colab, ya cuenta con la version más reciente de Tensorflow y Keras"
      ],
      "execution_count": 0,
      "outputs": []
    },
    {
      "cell_type": "code",
      "metadata": {
        "colab_type": "code",
        "id": "IjViFkzLH_zT",
        "outputId": "542b18f7-57c3-4c51-aee4-31d71a47d3d1",
        "colab": {
          "base_uri": "https://localhost:8080/",
          "height": 34
        }
      },
      "source": [
        "import tensorflow as tf\n",
        "import keras\n",
        "import numpy as np\n",
        "import matplotlib as mpl\n",
        "import matplotlib.pyplot as plt\n",
        "import numpy as np\n",
        "import warnings\n",
        "warnings.filterwarnings(\"ignore\")"
      ],
      "execution_count": 0,
      "outputs": [
        {
          "output_type": "stream",
          "text": [
            "Using TensorFlow backend.\n"
          ],
          "name": "stderr"
        }
      ]
    },
    {
      "cell_type": "code",
      "metadata": {
        "colab_type": "code",
        "id": "h_IdHdcdfXZK",
        "colab": {}
      },
      "source": [
        "# to make this notebook's output stable across runs\n",
        "np.random.seed(42)\n",
        "tf.random.set_seed(42)"
      ],
      "execution_count": 0,
      "outputs": []
    },
    {
      "cell_type": "markdown",
      "metadata": {
        "colab_type": "text",
        "id": "mnfriuAQH_zZ"
      },
      "source": [
        "2. El conjunto de datos $\\textbf{Cifar10}$ lo importaremos de Keras.\n",
        "\n",
        "    - El conjunto de datos CIFAR-10 consta de 60.000 fotos divididas en 10 clases. Las clases incluyen objetos comunes como aviones, automóviles, aves, gatos, etc. en. El conjunto de datos se divide de forma estándar, donde se utilizan 50.000 imágenes para la formación de un modelo y los 10.000 restantes para evaluar su desempeño. Las imágenes están en los 3 canales (rojo, verde y azul) y son cuadrados pequeños que miden 32 x 32 píxeles.\n",
        "\n",
        "    - El dataset cifar10 ya se encuentra divido en los conjuntos de train y test"
      ]
    },
    {
      "cell_type": "code",
      "metadata": {
        "colab_type": "code",
        "id": "eg80ESQJH_zg",
        "outputId": "593b13dc-98e8-4d53-9fcc-593f31dfe044",
        "colab": {
          "base_uri": "https://localhost:8080/",
          "height": 52
        }
      },
      "source": [
        "X_data = keras.datasets.cifar10\n",
        "\n",
        "(X_train_full, y_train_full),(X_test, y_test) = X_data.load_data()"
      ],
      "execution_count": 0,
      "outputs": [
        {
          "output_type": "stream",
          "text": [
            "Downloading data from https://www.cs.toronto.edu/~kriz/cifar-10-python.tar.gz\n",
            "170500096/170498071 [==============================] - 4s 0us/step\n"
          ],
          "name": "stdout"
        }
      ]
    },
    {
      "cell_type": "code",
      "metadata": {
        "colab_type": "code",
        "id": "9iNYEsLlH_zn",
        "outputId": "add6a4c7-3e23-4b65-8d17-acf99b2e1258",
        "colab": {
          "base_uri": "https://localhost:8080/",
          "height": 34
        }
      },
      "source": [
        "X_train_full.shape"
      ],
      "execution_count": 0,
      "outputs": [
        {
          "output_type": "execute_result",
          "data": {
            "text/plain": [
              "(50000, 32, 32, 3)"
            ]
          },
          "metadata": {
            "tags": []
          },
          "execution_count": 6
        }
      ]
    },
    {
      "cell_type": "code",
      "metadata": {
        "colab_type": "code",
        "id": "sy5hEncTH_zu",
        "outputId": "2a13746b-fab7-4f47-fd9e-2ce4e802412f",
        "colab": {
          "base_uri": "https://localhost:8080/",
          "height": 34
        }
      },
      "source": [
        "X_train_full.dtype"
      ],
      "execution_count": 0,
      "outputs": [
        {
          "output_type": "execute_result",
          "data": {
            "text/plain": [
              "dtype('uint8')"
            ]
          },
          "metadata": {
            "tags": []
          },
          "execution_count": 7
        }
      ]
    },
    {
      "cell_type": "markdown",
      "metadata": {
        "colab_type": "text",
        "id": "syg6mXmCH_z1"
      },
      "source": [
        "- Se puede ver que el conjunto de entrenamineto contiene 50.000 imágenes en los 3 canales, cada imagen de 32x32 píxeles\n",
        "\n",
        "- Vamos a escalar la intesidad de los píxeles para tenerlas en un rango de 0-1, además de convertirlas en flotantes. Es de buena práctica trabajar con datos normalizados."
      ]
    },
    {
      "cell_type": "code",
      "metadata": {
        "colab_type": "code",
        "id": "Me7KJhRjH_z2",
        "colab": {}
      },
      "source": [
        "X_valid, X_train = (X_train_full[:4000])/255.0 , (X_train_full[4000:])/255.0\n",
        "X_test = X_test/255\n",
        "y_valid, y_train = y_train_full[:4000], y_train_full[4000:]"
      ],
      "execution_count": 0,
      "outputs": []
    },
    {
      "cell_type": "code",
      "metadata": {
        "colab_type": "code",
        "id": "y6g8zhTqH_z8",
        "outputId": "bb5c2c4b-fd42-4479-83a2-8bf74af2ab2f",
        "colab": {
          "base_uri": "https://localhost:8080/",
          "height": 52
        }
      },
      "source": [
        "print('Training data shape : ', X_train.shape, y_train.shape)\n",
        "print('Testing data shape : ', X_test.shape, y_test.shape)"
      ],
      "execution_count": 0,
      "outputs": [
        {
          "output_type": "stream",
          "text": [
            "Training data shape :  (46000, 32, 32, 3) (46000, 1)\n",
            "Testing data shape :  (10000, 32, 32, 3) (10000, 1)\n"
          ],
          "name": "stdout"
        }
      ]
    },
    {
      "cell_type": "markdown",
      "metadata": {
        "colab_type": "text",
        "id": "oa_TSlBPH_0F"
      },
      "source": [
        "Podemos visuzalizar las imagenes dentro del conjunto usando la funcion imshow() del paquete Matplotlib"
      ]
    },
    {
      "cell_type": "code",
      "metadata": {
        "colab_type": "code",
        "id": "t0c8h6aAH_0G",
        "outputId": "916c715f-96e4-4d61-ac94-636c809ace82",
        "colab": {
          "base_uri": "https://localhost:8080/",
          "height": 357
        }
      },
      "source": [
        "rows = 4\n",
        "cols = 7\n",
        "plt.figure(figsize=(cols * 1.5, rows * 1.5))\n",
        "for row in range(rows):\n",
        "    for col in range(cols):\n",
        "        index = cols * row + col\n",
        "        plt.subplot(rows, cols, index + 1)\n",
        "        plt.imshow(X_train[index], interpolation=\"nearest\")\n",
        "        plt.axis('off')\n",
        "plt.subplots_adjust(wspace=0.2, hspace=0.5)\n",
        "plt.show()"
      ],
      "execution_count": 0,
      "outputs": [
        {
          "output_type": "display_data",
          "data": {
            "image/png": "[encoded data removed]",
            "text/plain": [
              "<Figure size 756x432 with 28 Axes>"
            ]
          },
          "metadata": {
            "tags": [],
            "needs_background": "light"
          }
        }
      ]
    },
    {
      "cell_type": "markdown",
      "metadata": {
        "id": "vpr1eR95YhUT",
        "colab_type": "text"
      },
      "source": [
        "- Al tener modelos pre-entrenados, probablemente las imágenes que vamos a \n",
        "trabajar tienen un tamaño que no coincide con lo establecido para el modelo, veamos una función de **keras.layers**, por lo que cuando creemos el modelo vamos a ver cómo se podría agregar esta capa por si necesitamos ajustar el tamaño de imagen del **dataset**"
      ]
    },
    {
      "cell_type": "code",
      "metadata": {
        "id": "_atlrtW_YhUU",
        "colab_type": "code",
        "colab": {}
      },
      "source": [
        "original_size = X_train.shape[1:]\n",
        "W = 64\n",
        "H = 64\n",
        "new_size = (W, H)\n",
        "# Creemos una función Lambda por si tenemos problemas en el tamaño de las imágenes\n",
        "input_ = keras.layers.Input(shape=original_size)\n",
        "output = keras.layers.Lambda(lambda image: tf.image.resize(image, new_size))(input_)\n",
        "model_resize = keras.models.Model(input=input_, output=output)"
      ],
      "execution_count": 0,
      "outputs": []
    },
    {
      "cell_type": "code",
      "metadata": {
        "id": "pDBPFVP-YhUX",
        "colab_type": "code",
        "colab": {}
      },
      "source": [
        "img_resize = model_resize.predict(X_train[np.newaxis, 2,:,:])"
      ],
      "execution_count": 0,
      "outputs": []
    },
    {
      "cell_type": "code",
      "metadata": {
        "id": "1m4LeW4vYhUc",
        "colab_type": "code",
        "outputId": "bd70adce-1662-442b-c1c8-6930c8588593",
        "colab": {
          "base_uri": "https://localhost:8080/",
          "height": 34
        }
      },
      "source": [
        "img_resize.shape"
      ],
      "execution_count": 0,
      "outputs": [
        {
          "output_type": "execute_result",
          "data": {
            "text/plain": [
              "(1, 64, 64, 3)"
            ]
          },
          "metadata": {
            "tags": []
          },
          "execution_count": 13
        }
      ]
    },
    {
      "cell_type": "code",
      "metadata": {
        "id": "8sGNSszdYhUf",
        "colab_type": "code",
        "outputId": "6c169ca2-da4d-4d90-87bb-45e40af020ff",
        "colab": {
          "base_uri": "https://localhost:8080/",
          "height": 545
        }
      },
      "source": [
        "plt.imshow(X_train[2,:,:])\n",
        "plt.title('Imagen original de tamaño: {}'.format(X_train.shape[1:]))\n",
        "plt.show()\n",
        "plt.imshow(img_resize[0,:,:,:])\n",
        "plt.title('Imagen con ajuste de tamaño: {}'.format(img_resize.shape[1:]))\n",
        "plt.show()"
      ],
      "execution_count": 0,
      "outputs": [
        {
          "output_type": "display_data",
          "data": {
            "image/png": "[encoded data removed]",
            "text/plain": [
              "<Figure size 432x288 with 1 Axes>"
            ]
          },
          "metadata": {
            "tags": [],
            "needs_background": "light"
          }
        },
        {
          "output_type": "display_data",
          "data": {
            "image/png": "[encoded data removed]",
            "text/plain": [
              "<Figure size 432x288 with 1 Axes>"
            ]
          },
          "metadata": {
            "tags": [],
            "needs_background": "light"
          }
        }
      ]
    },
    {
      "cell_type": "markdown",
      "metadata": {
        "colab_type": "text",
        "id": "GWkRHL3JH_0L"
      },
      "source": [
        "## 3. Arquitectura CNN"
      ]
    },
    {
      "cell_type": "markdown",
      "metadata": {
        "colab_type": "text",
        "id": "2xuP80qEgBwN"
      },
      "source": [
        "## Trasnfer learning con modelo pre-entrenado para la extracción de característcias.\n",
        "\n",
        "- Para este otro ejercicio vamos a aplicar algo del *trasnfer Learning*:\n",
        "  - Vamos a usar el modelo en keras **ResNet50**\n",
        "\n",
        "  - Para implementar *transfer learning*, vamos a remover la última capa de predicción del model ResNet(podemos ver en la figura) y la remplazamos con nuestras propias capas.\n",
        "\n",
        "  - Los pesos del modelo pre-entrenado se utilizan para la extracción de caraterísticas.\n",
        "\n",
        "  - Los pesos del modelo pre-entrenado quedan 'congelados' y no se actualizan durante el entrenamiento "
      ]
    },
    {
      "cell_type": "code",
      "metadata": {
        "colab_type": "code",
        "id": "fvw84NVmYEMJ",
        "outputId": "ff213dcc-f3ec-46d1-d5c8-9f56d8c721a5",
        "colab": {
          "base_uri": "https://localhost:8080/",
          "height": 124
        }
      },
      "source": [
        "from keras.applications.resnet50 import ResNet50\n",
        "from keras.applications.vgg16 import VGG16\n",
        "from keras.models import Model, Sequential\n",
        "from keras.layers import Dense, Flatten, Dropout #con el paquete tf.keras molesta con los shapes\n",
        "\n",
        "model_pre_Res = ResNet50(include_top=False, weights='imagenet', input_shape=(32,32,3), classes = 10)\n",
        "model_pre_VGG = VGG16(include_top=False,  weights='imagenet', input_shape=(32, 32, 3), classes = 10)\n",
        "\n",
        "# Apaguemos unas capas del modelo\n",
        "layer_Res = model_pre_Res.layers\n",
        "for i in range(15,30):\n",
        "  layer_Res[i].trainable = False\n",
        "\n",
        "layer_VGG = model_pre_VGG.layers\n",
        "for i in range(1,5):\n",
        "  layer_VGG[i].trainable = False\n",
        "\n",
        "\n",
        "#secuencial    \n",
        "\n",
        "model_Res = Sequential([\n",
        "    model_pre_Res,\n",
        "    Flatten(),\n",
        "    Dense(units=1024, activation='relu', input_dim=[32,32,3]),\n",
        "    Dense(units=512, activation='relu'),\n",
        "    Dense(units=256, activation='relu'),\n",
        "    Dropout(0.3),\n",
        "    Dense(units=128, activation='relu'),\n",
        "    Dropout(0.2),\n",
        "    Dense(units=10, activation='softmax')\n",
        "])\n",
        "\n",
        "model_VGG = Sequential([\n",
        "    model_pre_VGG,\n",
        "    Flatten(),\n",
        "    Dense(units=1024, activation='relu', input_dim=[32,32,3]),\n",
        "    Dense(units=512, activation='relu'),\n",
        "    Dense(units=256, activation='relu'),\n",
        "    Dropout(0.3),\n",
        "    Dense(units=128, activation='relu'),\n",
        "    Dropout(0.2),\n",
        "    Dense(units=10, activation='softmax')\n",
        "])\n",
        "\n",
        "\n",
        "'''\n",
        "#funcional\n",
        "#flat1_Res = Flatten()(model_pre_Res.layers[-1])\n",
        "#flat1_VGG = Flatten()(model_pre_VGG.layers[-1])\n",
        "f1 = Flatten()(model_pre_VGG.get_output_at(0))\n",
        "h1 = Dense(1024, activation='relu', input_dim=[32,32,3])(f1)\n",
        "h2 = Dense(512, activation='relu')(h1)\n",
        "h3 = Dense(256, activation='relu')(h2)\n",
        "d1 = Dropout(0.3)(h3)\n",
        "h4 = Dense(128, activation='relu')(d1)\n",
        "d2 = Dropout(0.2)(h4)\n",
        "output = Dense(10, activation='softmax')(d2)\n",
        "# define new model\n",
        "model_VGG = Model(inputs=model_pre_VGG.inputs, outputs=output)\n",
        "'''\n",
        "\n",
        "\n"
      ],
      "execution_count": 0,
      "outputs": [
        {
          "output_type": "stream",
          "text": [
            "Downloading data from https://github.com/fchollet/deep-learning-models/releases/download/v0.2/resnet50_weights_tf_dim_ordering_tf_kernels_notop.h5\n",
            "94658560/94653016 [==============================] - 3s 0us/step\n",
            "Downloading data from https://github.com/fchollet/deep-learning-models/releases/download/v0.1/vgg16_weights_tf_dim_ordering_tf_kernels_notop.h5\n",
            "58892288/58889256 [==============================] - 2s 0us/step\n"
          ],
          "name": "stdout"
        },
        {
          "output_type": "execute_result",
          "data": {
            "text/plain": [
              "\"\\n#funcional\\n#flat1_Res = Flatten()(model_pre_Res.layers[-1])\\n#flat1_VGG = Flatten()(model_pre_VGG.layers[-1])\\nf1 = Flatten()(model_pre_VGG.get_output_at(0))\\nh1 = Dense(1024, activation='relu', input_dim=[32,32,3])(f1)\\nh2 = Dense(512, activation='relu')(h1)\\nh3 = Dense(256, activation='relu')(h2)\\nd1 = Dropout(0.3)(h3)\\nh4 = Dense(128, activation='relu')(d1)\\nd2 = Dropout(0.2)(h4)\\noutput = Dense(10, activation='softmax')(d2)\\n# define new model\\nmodel_VGG = Model(inputs=model_pre_VGG.inputs, outputs=output)\\n\""
            ]
          },
          "metadata": {
            "tags": []
          },
          "execution_count": 15
        }
      ]
    },
    {
      "cell_type": "markdown",
      "metadata": {
        "id": "UZ14z_CfYhUp",
        "colab_type": "text"
      },
      "source": [
        "### summarize"
      ]
    },
    {
      "cell_type": "code",
      "metadata": {
        "id": "MRNFly6LYhUp",
        "colab_type": "code",
        "outputId": "b9abee71-45b2-4545-ddec-3c196bcda92e",
        "colab": {
          "base_uri": "https://localhost:8080/",
          "height": 469
        }
      },
      "source": [
        "model_Res.summary()\n",
        "#tf.keras.utils.plot_model(model_Res,show_shapes=True)"
      ],
      "execution_count": 0,
      "outputs": [
        {
          "output_type": "stream",
          "text": [
            "Model: \"sequential_1\"\n",
            "_________________________________________________________________\n",
            "Layer (type)                 Output Shape              Param #   \n",
            "=================================================================\n",
            "resnet50 (Model)             (None, 1, 1, 2048)        23587712  \n",
            "_________________________________________________________________\n",
            "flatten_1 (Flatten)          (None, 2048)              0         \n",
            "_________________________________________________________________\n",
            "dense_1 (Dense)              (None, 1024)              2098176   \n",
            "_________________________________________________________________\n",
            "dense_2 (Dense)              (None, 512)               524800    \n",
            "_________________________________________________________________\n",
            "dense_3 (Dense)              (None, 256)               131328    \n",
            "_________________________________________________________________\n",
            "dropout_1 (Dropout)          (None, 256)               0         \n",
            "_________________________________________________________________\n",
            "dense_4 (Dense)              (None, 128)               32896     \n",
            "_________________________________________________________________\n",
            "dropout_2 (Dropout)          (None, 128)               0         \n",
            "_________________________________________________________________\n",
            "dense_5 (Dense)              (None, 10)                1290      \n",
            "=================================================================\n",
            "Total params: 26,376,202\n",
            "Trainable params: 26,234,826\n",
            "Non-trainable params: 141,376\n",
            "_________________________________________________________________\n"
          ],
          "name": "stdout"
        }
      ]
    },
    {
      "cell_type": "code",
      "metadata": {
        "id": "Fot1jnl4YhUu",
        "colab_type": "code",
        "outputId": "19b3ed8b-e9ad-4097-e3d3-5c7059774d01",
        "colab": {
          "base_uri": "https://localhost:8080/",
          "height": 469
        }
      },
      "source": [
        "model_VGG.summary()\n",
        "#tf.keras.utils.plot_model(model_VGG,show_shapes=True)"
      ],
      "execution_count": 0,
      "outputs": [
        {
          "output_type": "stream",
          "text": [
            "Model: \"sequential_2\"\n",
            "_________________________________________________________________\n",
            "Layer (type)                 Output Shape              Param #   \n",
            "=================================================================\n",
            "vgg16 (Model)                (None, 1, 1, 512)         14714688  \n",
            "_________________________________________________________________\n",
            "flatten_2 (Flatten)          (None, 512)               0         \n",
            "_________________________________________________________________\n",
            "dense_6 (Dense)              (None, 1024)              525312    \n",
            "_________________________________________________________________\n",
            "dense_7 (Dense)              (None, 512)               524800    \n",
            "_________________________________________________________________\n",
            "dense_8 (Dense)              (None, 256)               131328    \n",
            "_________________________________________________________________\n",
            "dropout_3 (Dropout)          (None, 256)               0         \n",
            "_________________________________________________________________\n",
            "dense_9 (Dense)              (None, 128)               32896     \n",
            "_________________________________________________________________\n",
            "dropout_4 (Dropout)          (None, 128)               0         \n",
            "_________________________________________________________________\n",
            "dense_10 (Dense)             (None, 10)                1290      \n",
            "=================================================================\n",
            "Total params: 15,930,314\n",
            "Trainable params: 15,817,738\n",
            "Non-trainable params: 112,576\n",
            "_________________________________________________________________\n"
          ],
          "name": "stdout"
        }
      ]
    },
    {
      "cell_type": "markdown",
      "metadata": {
        "colab_type": "text",
        "id": "RzpJVYAcH_0Q"
      },
      "source": [
        "Analicemos cada línea de código del modelo:\n",
        "\n",
        "- Hemos creado nuestor modelo usando transfer learning con ayuda del modelo pre-entrenado ResNet50, que si vemos ya tiene incluidas las capas de *flatten()*,*(Conv2D)* y las que hubieramos añadido a nuestro nuevo modelo.\n",
        "\n",
        "\n",
        "- Luego está la red totalmente conectada (Fully-connected), compuesta de 4 capas densas, **3 ocultas** y **1 de salida**. Tenga en cuenta que **debemos aplanar sus entradas**, ya que una red densa espera una matriz 1D de características para cada instancia. También agregamos dos capas de *dropout*, con una tasa del $30\\%$ y $20\\%$ "
      ]
    },
    {
      "cell_type": "markdown",
      "metadata": {
        "colab_type": "text",
        "id": "LQYXmD8hH_0R"
      },
      "source": [
        "#### 4. Compilamos y ajustamos el modelo.\n"
      ]
    },
    {
      "cell_type": "code",
      "metadata": {
        "colab_type": "code",
        "id": "QTBbC-awH_0S",
        "colab": {}
      },
      "source": [
        "model_Res.compile(loss=\"sparse_categorical_crossentropy\", optimizer='sgd', metrics=[\"accuracy\"])\n",
        "model_VGG.compile(loss=\"sparse_categorical_crossentropy\", optimizer='sgd', metrics=[\"accuracy\"])"
      ],
      "execution_count": 0,
      "outputs": []
    },
    {
      "cell_type": "code",
      "metadata": {
        "colab_type": "code",
        "id": "ZN4mM7iFoNXq",
        "outputId": "9e36a355-77f3-42b9-a034-c8adfc47d086",
        "colab": {
          "base_uri": "https://localhost:8080/",
          "height": 69
        }
      },
      "source": [
        "print(model_Res.input_shape)\n",
        "X_train.shape\n",
        "X_valid.shape\n",
        "#y_train.shape\n",
        "zz = model_pre_Res.predict(X_train[:30])\n",
        "print(zz.shape)\n",
        "model_pre_Res.outputs"
      ],
      "execution_count": 0,
      "outputs": [
        {
          "output_type": "stream",
          "text": [
            "(None, 32, 32, 3)\n",
            "(30, 1, 1, 2048)\n"
          ],
          "name": "stdout"
        },
        {
          "output_type": "execute_result",
          "data": {
            "text/plain": [
              "[<tf.Tensor 'activation_49/Relu:0' shape=(None, 1, 1, 2048) dtype=float32>]"
            ]
          },
          "metadata": {
            "tags": []
          },
          "execution_count": 19
        }
      ]
    },
    {
      "cell_type": "code",
      "metadata": {
        "id": "wvL_3-c1YhU7",
        "colab_type": "code",
        "outputId": "a1528d0f-2f4a-48ba-c3d8-760500694b68",
        "colab": {
          "base_uri": "https://localhost:8080/",
          "height": 69
        }
      },
      "source": [
        "print(model_VGG.input_shape)\n",
        "X_train.shape\n",
        "X_valid.shape\n",
        "#y_train.shape\n",
        "zz = model_pre_VGG.predict(X_train[:30])\n",
        "print(zz.shape)\n",
        "model_pre_VGG.outputs"
      ],
      "execution_count": 0,
      "outputs": [
        {
          "output_type": "stream",
          "text": [
            "(None, 32, 32, 3)\n",
            "(30, 1, 1, 512)\n"
          ],
          "name": "stdout"
        },
        {
          "output_type": "execute_result",
          "data": {
            "text/plain": [
              "[<tf.Tensor 'block5_pool/MaxPool:0' shape=(None, 1, 1, 512) dtype=float32>]"
            ]
          },
          "metadata": {
            "tags": []
          },
          "execution_count": 20
        }
      ]
    },
    {
      "cell_type": "code",
      "metadata": {
        "colab_type": "code",
        "id": "5gnbWPpEH_0h",
        "outputId": "0e3d8c42-3739-4d47-c365-7621c85ed4c7",
        "colab": {
          "base_uri": "https://localhost:8080/",
          "height": 903
        }
      },
      "source": [
        "# Entrenemo el modelo para ResNET50\n",
        "hist_Res = model_Res.fit(X_train, y_train, epochs=25,\n",
        "                 validation_data=(X_valid, y_valid), batch_size=32)"
      ],
      "execution_count": 0,
      "outputs": [
        {
          "output_type": "stream",
          "text": [
            "Train on 46000 samples, validate on 4000 samples\n",
            "Epoch 1/25\n",
            "46000/46000 [==============================] - 106s 2ms/step - loss: 1.3890 - accuracy: 0.5170 - val_loss: 1.0972 - val_accuracy: 0.6308\n",
            "Epoch 2/25\n",
            "46000/46000 [==============================] - 94s 2ms/step - loss: 0.8794 - accuracy: 0.7127 - val_loss: 0.8248 - val_accuracy: 0.7293\n",
            "Epoch 3/25\n",
            "46000/46000 [==============================] - 93s 2ms/step - loss: 0.6833 - accuracy: 0.7754 - val_loss: 0.8704 - val_accuracy: 0.7092\n",
            "Epoch 4/25\n",
            "46000/46000 [==============================] - 92s 2ms/step - loss: 0.5570 - accuracy: 0.8169 - val_loss: 0.8750 - val_accuracy: 0.7105\n",
            "Epoch 5/25\n",
            "46000/46000 [==============================] - 91s 2ms/step - loss: 0.4539 - accuracy: 0.8504 - val_loss: 0.9165 - val_accuracy: 0.7122\n",
            "Epoch 6/25\n",
            "46000/46000 [==============================] - 90s 2ms/step - loss: 0.3790 - accuracy: 0.8741 - val_loss: 0.8910 - val_accuracy: 0.7255\n",
            "Epoch 7/25\n",
            "46000/46000 [==============================] - 90s 2ms/step - loss: 0.3222 - accuracy: 0.8941 - val_loss: 0.9260 - val_accuracy: 0.7265\n",
            "Epoch 8/25\n",
            "46000/46000 [==============================] - 90s 2ms/step - loss: 0.2662 - accuracy: 0.9133 - val_loss: 1.0522 - val_accuracy: 0.6925\n",
            "Epoch 9/25\n",
            "46000/46000 [==============================] - 90s 2ms/step - loss: 0.2315 - accuracy: 0.9250 - val_loss: 0.8305 - val_accuracy: 0.7630\n",
            "Epoch 10/25\n",
            "46000/46000 [==============================] - 90s 2ms/step - loss: 0.1952 - accuracy: 0.9374 - val_loss: 0.9062 - val_accuracy: 0.7577\n",
            "Epoch 11/25\n",
            "46000/46000 [==============================] - 90s 2ms/step - loss: 0.1694 - accuracy: 0.9463 - val_loss: 1.2160 - val_accuracy: 0.6955\n",
            "Epoch 12/25\n",
            "46000/46000 [==============================] - 90s 2ms/step - loss: 0.1461 - accuracy: 0.9543 - val_loss: 1.5019 - val_accuracy: 0.6313\n",
            "Epoch 13/25\n",
            "46000/46000 [==============================] - 89s 2ms/step - loss: 0.1364 - accuracy: 0.9573 - val_loss: 1.3040 - val_accuracy: 0.6755\n",
            "Epoch 14/25\n",
            "46000/46000 [==============================] - 89s 2ms/step - loss: 0.1154 - accuracy: 0.9631 - val_loss: 1.5582 - val_accuracy: 0.6665\n",
            "Epoch 15/25\n",
            "46000/46000 [==============================] - 89s 2ms/step - loss: 0.1031 - accuracy: 0.9679 - val_loss: 1.7522 - val_accuracy: 0.6467\n",
            "Epoch 16/25\n",
            "46000/46000 [==============================] - 89s 2ms/step - loss: 0.0972 - accuracy: 0.9692 - val_loss: 1.2432 - val_accuracy: 0.7235\n",
            "Epoch 17/25\n",
            "46000/46000 [==============================] - 89s 2ms/step - loss: 0.0842 - accuracy: 0.9738 - val_loss: 1.5243 - val_accuracy: 0.6590\n",
            "Epoch 18/25\n",
            "46000/46000 [==============================] - 89s 2ms/step - loss: 0.0764 - accuracy: 0.9756 - val_loss: 1.5620 - val_accuracy: 0.6665\n",
            "Epoch 19/25\n",
            "46000/46000 [==============================] - 90s 2ms/step - loss: 0.0637 - accuracy: 0.9802 - val_loss: 1.2563 - val_accuracy: 0.7272\n",
            "Epoch 20/25\n",
            "46000/46000 [==============================] - 89s 2ms/step - loss: 0.0578 - accuracy: 0.9820 - val_loss: 1.5498 - val_accuracy: 0.6793\n",
            "Epoch 21/25\n",
            "46000/46000 [==============================] - 90s 2ms/step - loss: 0.0601 - accuracy: 0.9815 - val_loss: 1.7649 - val_accuracy: 0.6432\n",
            "Epoch 22/25\n",
            "46000/46000 [==============================] - 90s 2ms/step - loss: 0.0517 - accuracy: 0.9840 - val_loss: 1.6911 - val_accuracy: 0.6662\n",
            "Epoch 23/25\n",
            "46000/46000 [==============================] - 89s 2ms/step - loss: 0.0462 - accuracy: 0.9858 - val_loss: 1.6688 - val_accuracy: 0.6812\n",
            "Epoch 24/25\n",
            "46000/46000 [==============================] - 90s 2ms/step - loss: 0.0454 - accuracy: 0.9854 - val_loss: 1.5578 - val_accuracy: 0.7025\n",
            "Epoch 25/25\n",
            "46000/46000 [==============================] - 89s 2ms/step - loss: 0.0412 - accuracy: 0.9876 - val_loss: 1.7123 - val_accuracy: 0.6643\n"
          ],
          "name": "stdout"
        }
      ]
    },
    {
      "cell_type": "code",
      "metadata": {
        "id": "J0Cu4fk_YhVD",
        "colab_type": "code",
        "outputId": "b5160e98-8f3c-4499-aa09-96906f75edd7",
        "colab": {
          "base_uri": "https://localhost:8080/",
          "height": 903
        }
      },
      "source": [
        "# Entrenemos el modelo para VGG16\n",
        "hist_VGG = model_VGG.fit(X_train, y_train, epochs=25,\n",
        "                 validation_data=(X_valid, y_valid), batch_size=32)"
      ],
      "execution_count": 0,
      "outputs": [
        {
          "output_type": "stream",
          "text": [
            "Train on 46000 samples, validate on 4000 samples\n",
            "Epoch 1/25\n",
            "46000/46000 [==============================] - 27s 593us/step - loss: 1.2477 - accuracy: 0.5734 - val_loss: 0.7622 - val_accuracy: 0.7385\n",
            "Epoch 2/25\n",
            "46000/46000 [==============================] - 27s 576us/step - loss: 0.7160 - accuracy: 0.7657 - val_loss: 0.5890 - val_accuracy: 0.8085\n",
            "Epoch 3/25\n",
            "46000/46000 [==============================] - 26s 575us/step - loss: 0.5536 - accuracy: 0.8190 - val_loss: 0.5861 - val_accuracy: 0.8055\n",
            "Epoch 4/25\n",
            "46000/46000 [==============================] - 26s 573us/step - loss: 0.4463 - accuracy: 0.8541 - val_loss: 0.5630 - val_accuracy: 0.8175\n",
            "Epoch 5/25\n",
            "46000/46000 [==============================] - 26s 575us/step - loss: 0.3613 - accuracy: 0.8819 - val_loss: 0.5714 - val_accuracy: 0.8227\n",
            "Epoch 6/25\n",
            "46000/46000 [==============================] - 26s 575us/step - loss: 0.2901 - accuracy: 0.9067 - val_loss: 0.5602 - val_accuracy: 0.8238\n",
            "Epoch 7/25\n",
            "46000/46000 [==============================] - 26s 572us/step - loss: 0.2338 - accuracy: 0.9233 - val_loss: 0.5745 - val_accuracy: 0.8248\n",
            "Epoch 8/25\n",
            "46000/46000 [==============================] - 26s 569us/step - loss: 0.1910 - accuracy: 0.9394 - val_loss: 0.4947 - val_accuracy: 0.8547\n",
            "Epoch 9/25\n",
            "46000/46000 [==============================] - 26s 570us/step - loss: 0.1546 - accuracy: 0.9495 - val_loss: 0.5491 - val_accuracy: 0.8490\n",
            "Epoch 10/25\n",
            "46000/46000 [==============================] - 26s 571us/step - loss: 0.1226 - accuracy: 0.9612 - val_loss: 0.5478 - val_accuracy: 0.8468\n",
            "Epoch 11/25\n",
            "46000/46000 [==============================] - 26s 569us/step - loss: 0.1037 - accuracy: 0.9675 - val_loss: 0.6516 - val_accuracy: 0.8305\n",
            "Epoch 12/25\n",
            "46000/46000 [==============================] - 26s 570us/step - loss: 0.0837 - accuracy: 0.9741 - val_loss: 0.6248 - val_accuracy: 0.8595\n",
            "Epoch 13/25\n",
            "46000/46000 [==============================] - 26s 568us/step - loss: 0.0740 - accuracy: 0.9769 - val_loss: 0.6864 - val_accuracy: 0.8420\n",
            "Epoch 14/25\n",
            "46000/46000 [==============================] - 26s 570us/step - loss: 0.0652 - accuracy: 0.9802 - val_loss: 1.2580 - val_accuracy: 0.7605\n",
            "Epoch 15/25\n",
            "46000/46000 [==============================] - 26s 568us/step - loss: 0.0506 - accuracy: 0.9849 - val_loss: 0.6066 - val_accuracy: 0.8625\n",
            "Epoch 16/25\n",
            "46000/46000 [==============================] - 26s 569us/step - loss: 0.0482 - accuracy: 0.9855 - val_loss: 0.6523 - val_accuracy: 0.8553\n",
            "Epoch 17/25\n",
            "46000/46000 [==============================] - 26s 571us/step - loss: 0.0509 - accuracy: 0.9840 - val_loss: 0.7034 - val_accuracy: 0.8422\n",
            "Epoch 18/25\n",
            "46000/46000 [==============================] - 26s 570us/step - loss: 0.0380 - accuracy: 0.9889 - val_loss: 0.7308 - val_accuracy: 0.8450\n",
            "Epoch 19/25\n",
            "46000/46000 [==============================] - 26s 570us/step - loss: 0.0324 - accuracy: 0.9906 - val_loss: 0.6625 - val_accuracy: 0.8687\n",
            "Epoch 20/25\n",
            "46000/46000 [==============================] - 26s 568us/step - loss: 0.0330 - accuracy: 0.9907 - val_loss: 0.7272 - val_accuracy: 0.8457\n",
            "Epoch 21/25\n",
            "46000/46000 [==============================] - 26s 568us/step - loss: 0.0250 - accuracy: 0.9922 - val_loss: 0.7587 - val_accuracy: 0.8505\n",
            "Epoch 22/25\n",
            "46000/46000 [==============================] - 26s 569us/step - loss: 0.0224 - accuracy: 0.9937 - val_loss: 0.6903 - val_accuracy: 0.8600\n",
            "Epoch 23/25\n",
            "46000/46000 [==============================] - 26s 570us/step - loss: 0.0306 - accuracy: 0.9903 - val_loss: 0.7632 - val_accuracy: 0.8565\n",
            "Epoch 24/25\n",
            "46000/46000 [==============================] - 26s 568us/step - loss: 0.0149 - accuracy: 0.9956 - val_loss: 0.7356 - val_accuracy: 0.8553\n",
            "Epoch 25/25\n",
            "46000/46000 [==============================] - 26s 569us/step - loss: 0.0311 - accuracy: 0.9904 - val_loss: 0.6641 - val_accuracy: 0.8550\n"
          ],
          "name": "stdout"
        }
      ]
    },
    {
      "cell_type": "markdown",
      "metadata": {
        "colab_type": "text",
        "id": "amRNdKHLXtTM"
      },
      "source": [
        "- Se eligió un pequeño número de épocas resolver esta tarea de forma rápida. Normalmente, el número de épocas sería entre dos o tres veces el valor escogido para resolver este tipo de tareas. "
      ]
    },
    {
      "cell_type": "code",
      "metadata": {
        "colab_type": "code",
        "id": "BltRuthvH_0l",
        "outputId": "7cbbee9c-36bf-4262-c5ad-002e7cee739c",
        "colab": {
          "base_uri": "https://localhost:8080/",
          "height": 52
        }
      },
      "source": [
        "score_Res = model_Res.evaluate(X_test, y_test, verbose=0)\n",
        "score_VGG = model_VGG.evaluate(X_test, y_test, verbose=0)\n",
        "print(\"Accuracy for ResNet50: %.2f%%\" % (score_Res[1]*100))\n",
        "print(\"Accuracy for VGG16: %.2f%%\" % (score_VGG[1]*100))"
      ],
      "execution_count": 0,
      "outputs": [
        {
          "output_type": "stream",
          "text": [
            "Accuracy for ResNet50: 64.29%\n",
            "Accuracy for VGG16: 84.82%\n"
          ],
          "name": "stdout"
        }
      ]
    },
    {
      "cell_type": "markdown",
      "metadata": {
        "colab_type": "text",
        "id": "RICuWLtWH_0o"
      },
      "source": [
        "5. Por último hacemos nuestra predicción, en este caso vamos a pretender que tenemos una nuevas imagenes que tomaremos del conjunto X_test"
      ]
    },
    {
      "cell_type": "code",
      "metadata": {
        "colab_type": "code",
        "id": "un-_TZZ-H_0q",
        "colab": {}
      },
      "source": [
        "X_new = X_test[:10] # New images\n",
        "y_pred_Res = model_Res.predict(X_new)\n",
        "y_pred_VGG = model_VGG.predict(X_new)"
      ],
      "execution_count": 0,
      "outputs": []
    },
    {
      "cell_type": "code",
      "metadata": {
        "colab_type": "code",
        "id": "Grz27JYbI7ec",
        "outputId": "94712ce3-4434-4ea7-bb48-dd5491367727",
        "colab": {
          "base_uri": "https://localhost:8080/",
          "height": 364
        }
      },
      "source": [
        "print(y_pred_Res)"
      ],
      "execution_count": 0,
      "outputs": [
        {
          "output_type": "stream",
          "text": [
            "[[6.6121184e-04 9.7430166e-05 9.8069097e-05 9.6413344e-01 4.1710897e-03\n",
            "  6.4340868e-04 2.9952187e-04 1.5271603e-03 2.7551988e-02 8.1664580e-04]\n",
            " [8.7741770e-05 5.5061426e-04 2.1874930e-06 1.6195103e-06 6.6385309e-07\n",
            "  1.3925353e-07 1.0460273e-06 4.2974710e-07 9.9933040e-01 2.5186166e-05]\n",
            " [2.6494844e-02 5.2396031e-03 1.2361041e-04 2.4133892e-04 2.1074098e-04\n",
            "  3.2700660e-05 5.1556704e-05 7.7010191e-05 8.9065015e-01 7.6878414e-02]\n",
            " [9.6480656e-01 1.6829226e-05 2.0359045e-04 2.3280113e-04 3.9842547e-05\n",
            "  2.3156799e-06 3.7066659e-06 2.7037124e-06 3.4536671e-02 1.5514200e-04]\n",
            " [1.7607281e-05 5.2219915e-05 5.7618495e-04 4.3876123e-04 3.0895230e-01\n",
            "  2.9504927e-05 6.8981659e-01 4.6258458e-05 2.3033926e-05 4.7438032e-05]\n",
            " [2.0720011e-03 1.0705164e-02 3.1095655e-03 2.0216069e-01 1.2115354e-01\n",
            "  3.3074711e-03 4.0548822e-01 4.0729968e-03 2.4402228e-01 3.9080768e-03]\n",
            " [1.9559371e-05 9.9708909e-01 1.1149265e-06 2.8335888e-04 2.7236767e-06\n",
            "  7.8791072e-06 4.2226693e-05 1.7254270e-05 7.6563570e-05 2.4601361e-03]\n",
            " [1.6259325e-03 3.7556721e-03 3.6311683e-03 1.1967330e-02 4.6013333e-02\n",
            "  1.9050282e-03 8.4915531e-01 3.6456689e-02 2.7123760e-03 4.2777214e-02]\n",
            " [1.4118479e-05 7.1745071e-06 2.0080677e-04 9.9768138e-01 3.4219809e-04\n",
            "  6.4961077e-04 3.4539957e-05 1.0256084e-03 3.0768562e-05 1.3787073e-05]\n",
            " [9.4414005e-05 1.3223941e-02 2.2576753e-06 2.6402846e-05 7.6726310e-06\n",
            "  2.8004788e-05 2.1299069e-05 9.6154981e-06 1.7668043e-03 9.8481965e-01]]\n"
          ],
          "name": "stdout"
        }
      ]
    },
    {
      "cell_type": "code",
      "metadata": {
        "id": "8nhZURPuEBnl",
        "colab_type": "code",
        "outputId": "388ecb06-d022-4f86-f92e-b5c5705ce6c3",
        "colab": {
          "base_uri": "https://localhost:8080/",
          "height": 364
        }
      },
      "source": [
        "print(y_pred_VGG)"
      ],
      "execution_count": 0,
      "outputs": [
        {
          "output_type": "stream",
          "text": [
            "[[4.2737316e-05 3.0099671e-05 1.8247053e-04 6.7922711e-01 1.2526791e-04\n",
            "  3.2011449e-01 1.2321319e-04 6.0164075e-05 3.4518722e-05 5.9800317e-05]\n",
            " [3.3010938e-04 4.1964155e-04 4.4071916e-05 3.1574673e-05 1.1321357e-05\n",
            "  2.6750147e-05 2.5464407e-05 9.3759290e-06 9.9892491e-01 1.7668944e-04]\n",
            " [3.8527153e-03 2.7487439e-03 2.9981878e-04 3.1633701e-04 1.6096656e-04\n",
            "  2.1421199e-04 1.9430649e-04 9.7501637e-05 9.9047464e-01 1.6407177e-03]\n",
            " [9.9799001e-01 7.6481403e-05 1.9125814e-04 7.0565904e-05 3.6690475e-05\n",
            "  7.1518702e-06 6.2506087e-06 1.1215775e-05 1.5082418e-03 1.0215182e-04]\n",
            " [7.2671344e-07 1.0866974e-05 7.1621136e-05 3.6581441e-05 1.2267612e-04\n",
            "  3.9035235e-06 9.9974781e-01 3.8789366e-07 2.4113951e-06 3.0427530e-06]\n",
            " [8.7451224e-07 3.0764975e-05 7.9788530e-05 1.6453200e-04 5.6148197e-05\n",
            "  3.9852985e-05 9.9961829e-01 8.9438623e-07 2.6729924e-06 6.0108791e-06]\n",
            " [2.6862469e-06 9.9986303e-01 2.4524960e-08 3.9154071e-07 1.2751296e-08\n",
            "  9.0047315e-08 1.0740781e-06 1.2992685e-07 3.7831069e-06 1.2871595e-04]\n",
            " [3.6218740e-08 1.4690369e-06 1.1396534e-05 2.9964633e-06 5.3646504e-06\n",
            "  3.0337850e-07 9.9997795e-01 2.2797609e-08 1.9357687e-07 2.5216838e-07]\n",
            " [4.9567847e-05 9.5569267e-06 2.3056807e-04 9.9247003e-01 1.5506094e-03\n",
            "  5.3223697e-03 1.0729470e-04 1.7535560e-04 3.9399492e-05 4.5135395e-05]\n",
            " [8.9997913e-05 9.9707687e-01 4.1481198e-06 1.8681883e-05 3.6298400e-06\n",
            "  1.2893506e-05 8.8310073e-05 1.2380468e-05 1.7365861e-04 2.5194522e-03]]\n"
          ],
          "name": "stdout"
        }
      ]
    },
    {
      "cell_type": "markdown",
      "metadata": {
        "colab_type": "text",
        "id": "dJN_IaGxeUni"
      },
      "source": [
        "- Guardemos el modelo, para hacer transfer learning, por si en el futuro necesitamos hacer otro clasificador."
      ]
    },
    {
      "cell_type": "code",
      "metadata": {
        "colab_type": "code",
        "id": "TFhd247sekJY",
        "colab": {}
      },
      "source": [
        "model_Res.save(\"my_model_Res.h5py\")\n",
        "model_VGG.save(\"my_model_Res.h5py\")"
      ],
      "execution_count": 0,
      "outputs": []
    },
    {
      "cell_type": "markdown",
      "metadata": {
        "colab_type": "text",
        "id": "2fvJ6DasjqPJ"
      },
      "source": [
        "Otros formatos para guardar y cargar modelos de keras:\n",
        "\n",
        "[save_load model keras](https://machinelearningmastery.com/save-load-keras-deep-learning-models/)"
      ]
    },
    {
      "cell_type": "markdown",
      "metadata": {
        "colab_type": "text",
        "id": "183yxo9yLtnA"
      },
      "source": [
        "# Otras aplicaciones de transfer learning y visión con redes neuronales\n",
        "\n",
        "\n",
        "[Semantic Segmentation](https://towardsdatascience.com/understanding-semantic-segmentation-with-unet-6be4f42d4b47)"
      ]
    },
    {
      "cell_type": "markdown",
      "metadata": {
        "colab_type": "text",
        "id": "OjERTa7bkt1V"
      },
      "source": [
        "# Autodiff en keras\n",
        "\n",
        "La clave de la eficiencia en redes con deep learning es el autodiff\n",
        "\n",
        "[Autodiff](https://en.wikipedia.org/wiki/Automatic_differentiation)"
      ]
    },
    {
      "cell_type": "code",
      "metadata": {
        "colab_type": "code",
        "id": "fu2PKC7Uj_1p",
        "colab": {}
      },
      "source": [
        "#ejemplo simple de autodiff\n",
        "#funcion a derivar\n",
        "def f(w1,w2):\n",
        "    return 3*w1**2 + 2 *w1*w2\n",
        "\n",
        "  "
      ],
      "execution_count": 0,
      "outputs": []
    },
    {
      "cell_type": "code",
      "metadata": {
        "colab_type": "code",
        "id": "bQvVr3D7lNRs",
        "outputId": "266f61e6-26bd-435d-de50-4bed57e7ab40",
        "colab": {
          "base_uri": "https://localhost:8080/",
          "height": 34
        }
      },
      "source": [
        "w1, w2 = 5, 3\n",
        "eps = 1e-6\n",
        "(f(w1+eps,w2)-f(w1,w2))/eps #estimacion numerica de la derivada"
      ],
      "execution_count": 0,
      "outputs": [
        {
          "output_type": "execute_result",
          "data": {
            "text/plain": [
              "36.000003007075065"
            ]
          },
          "metadata": {
            "tags": []
          },
          "execution_count": 29
        }
      ]
    },
    {
      "cell_type": "code",
      "metadata": {
        "colab_type": "code",
        "id": "7cHyQDPglZhm",
        "outputId": "6770584f-eb7d-4ae7-bec2-c38a4faeec8c",
        "colab": {
          "base_uri": "https://localhost:8080/",
          "height": 34
        }
      },
      "source": [
        "(f(w1,w2+eps)-f(w1,w2))/eps #"
      ],
      "execution_count": 0,
      "outputs": [
        {
          "output_type": "execute_result",
          "data": {
            "text/plain": [
              "10.000000003174137"
            ]
          },
          "metadata": {
            "tags": []
          },
          "execution_count": 30
        }
      ]
    },
    {
      "cell_type": "markdown",
      "metadata": {
        "colab_type": "text",
        "id": "pHiFmnlRmB95"
      },
      "source": [
        "La aproximación numérica funciona bien pero debe llamarse $f(\\cdot)$ para calcular el gradiente de cada variable, intratable para muchos parámetros en deep learning.\n",
        "\n",
        "El gradient tape de tensorflow (autodiff) facilita los cálculos del gradiente y lo hace eficiente para grandes cantidades de parámetros"
      ]
    },
    {
      "cell_type": "code",
      "metadata": {
        "colab_type": "code",
        "id": "in9iRFSlmNkC",
        "outputId": "283365ba-6223-4d20-cd1c-6e048aeb8402",
        "colab": {
          "base_uri": "https://localhost:8080/",
          "height": 52
        }
      },
      "source": [
        "w1,w2 = tf.Variable(5.),tf.Variable(3.)\n",
        "with tf.GradientTape() as tape: #crear contexto gradient tape para guardar cada operacion que envuelve una variable\n",
        "    z=f(w1,w2) #funcion de perdida (loss) para salvar memoria colocar la menor cantidad de codigo en el tape\n",
        "\n",
        "gradients = tape.gradient(z,[w1,w2]) # tape calcula  los gradientes del resultado z con respecto a [w1,w2]\n",
        "gradients #gradient tape hace los calculos una sola vez de forma inversa sin importar la cantidad de variables"
      ],
      "execution_count": 0,
      "outputs": [
        {
          "output_type": "execute_result",
          "data": {
            "text/plain": [
              "[<tf.Tensor: shape=(), dtype=float32, numpy=36.0>,\n",
              " <tf.Tensor: shape=(), dtype=float32, numpy=10.0>]"
            ]
          },
          "metadata": {
            "tags": []
          },
          "execution_count": 31
        }
      ]
    },
    {
      "cell_type": "markdown",
      "metadata": {
        "colab_type": "text",
        "id": "BWh3bQxwnns_"
      },
      "source": [
        "## Cuando se hace fit a un modelo secuencial o funcional en keras, utiliza gradient tape.\n",
        "\n",
        "## Si se desea se pueden utilizar los gradientes de gradientTape y un paso personalizado fuera del ambiente model.fit() para problemas especializados sin necesidad de hacer el cálculo analítico de gradientes\n",
        "\n",
        "## Para proyectos especializados ver:\n",
        "\n",
        "[Custom training loop tf](https://www.tensorflow.org/tutorials/customization/custom_training_walkthrough)"
      ]
    },
    {
      "cell_type": "code",
      "metadata": {
        "id": "0SIHTVvlN49M",
        "colab_type": "code",
        "colab": {}
      },
      "source": [
        ""
      ],
      "execution_count": 0,
      "outputs": []
    }
  ]
}