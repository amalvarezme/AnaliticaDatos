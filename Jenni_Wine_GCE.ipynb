{
  "cells": [
    {
      "cell_type": "markdown",
      "metadata": {
        "id": "view-in-github",
        "colab_type": "text"
      },
      "source": [
        "<a href=\"https://colab.research.google.com/github/amalvarezme/AnaliticaDatos/blob/master/Jenni_Wine_GCE.ipynb\" target=\"_parent\"><img src=\"https://colab.research.google.com/assets/colab-badge.svg\" alt=\"Open In Colab\"/></a>"
      ]
    },
    {
      "cell_type": "code",
      "execution_count": null,
      "metadata": {
        "id": "86321f42"
      },
      "outputs": [],
      "source": [
        "import tensorflow as tf\n",
        "from sklearn.metrics import classification_report, accuracy_score, balanced_accuracy_score, roc_auc_score, mutual_info_score, normalized_mutual_info_score, adjusted_mutual_info_score\n",
        "from sklearn.preprocessing import LabelBinarizer\n",
        "from sklearn.preprocessing import OneHotEncoder\n",
        "from scipy.stats import mode\n",
        "import numpy as np\n",
        "\n",
        "def ook(t):\n",
        "  #creamos la instancia lb\n",
        "  lb = LabelBinarizer()  # Este convierte las etiquetas categóricas en representaciones binarias\n",
        "  y_ook = lb.fit_transform(t) # Acá, fit_transform ajusta el label binarizer a mis datos de entrada\n",
        "\n",
        "  # En resumen, el LabelBinarizer \"aprende\" de los datos de entrada cómo debe realizar la conversión de etiquetas categóricas a binarias, jiji\n",
        "  # Luego, el método fit_transform se encarga de aplicar esa transformación a los datos de entrada t\n",
        "\n",
        "  if len(np.unique(t))==2:\n",
        "    y_ook = np.concatenate((1-y_ook.astype(bool), y_ook), axis = 1)\n",
        "\n",
        "  return y_ook\n",
        "\n",
        "\n",
        "\n",
        "def evaluation_metrics(y_true, y_pred, print_result=True):\n",
        "    acc = 0\n",
        "    auc = 0\n",
        "    auc_sk = 0\n",
        "    #mi = 0\n",
        "    nmi = 0\n",
        "    #ami = 0\n",
        "    bacc = 0\n",
        "\n",
        "    # Accuracy\n",
        "    #report = classification_report(y_pred.argmax(axis=1), y_true.ravel(), output_dict=True)\n",
        "    acc = accuracy_score( y_true.ravel(), y_pred.argmax(axis=1))  #report['accuracy']\n",
        "\n",
        "    # Balanced accuracy\n",
        "    bacc = balanced_accuracy_score(y_true.squeeze(), y_pred.argmax(axis=1).squeeze(), adjusted=True)\n",
        "\n",
        "   # # Mutual Information\n",
        "   # mi = mutual_info_score(y_true.squeeze(), y_pred.argmax(axis=1).squeeze())\n",
        "\n",
        "    # Normalized Mutual Information\n",
        "    nmi = normalized_mutual_info_score(y_true.squeeze(), y_pred.argmax(axis=1).squeeze())\n",
        "\n",
        "    # Adjusted Mutual Information\n",
        "    #ami = adjusted_mutual_info_score(y_true.squeeze(), y_pred.argmax(axis=1).squeeze())\n",
        "\n",
        "    # AUC (Tensorflow)\n",
        "    auc_metric = tf.keras.metrics.AUC(from_logits=True)\n",
        "    auc_metric.update_state(y_true, y_pred.argmax(axis=1).astype('float'))\n",
        "    auc = auc_metric.result().numpy()\n",
        "    auc_metric.reset_states()\n",
        "\n",
        "    # AUC (scikit-learn)\n",
        "    auc_sk = roc_auc_score(ook(y_true), y_pred)\n",
        "\n",
        "    if print_result:\n",
        "        print(\"Accuracy: {:.4f}\".format(acc))\n",
        "        print(\"Balanced Accuracy: {:.4f}\".format(bacc))\n",
        "        print(\"Mutual Information: {:.4f}\".format(mi))\n",
        "        print(\"Normalized Mutual Information: {:.4f}\".format(nmi))\n",
        "        print(\"Adjusted Mutual Information: {:.4f}\".format(ami))\n",
        "        print(\"AUC (Tensorflow): {:.4f}\".format(auc))\n",
        "        print(\"AUC (scikit-learn): {:.4f}\".format(auc_sk))\n",
        "\n",
        "    return acc, auc, auc_sk, nmi, bacc   # mi, , ami"
      ],
      "id": "86321f42"
    },
    {
      "cell_type": "code",
      "source": [
        "#creamos la instancia lb\n",
        "lb = LabelBinarizer()  # Este convierte las etiquetas categóricas en representaciones binarias\n",
        "y_ook = lb.fit_transform([1, 2, 1, 1, 2]) # Acá, fit_transform ajusta el label binarizer a mis datos de entrada\n",
        "print(y_ook)\n",
        "# En resumen, el LabelBinarizer \"aprende\" de los datos de entrada cómo debe realizar la conversión de etiquetas categóricas a binarias, jiji\n",
        "# Luego, el método fit_transform se encarga de aplicar esa transformación a los datos de entrada t\n",
        "\n",
        "if len(np.unique([1, 3, 1, 1, 3]))==2:\n",
        "  y_ook = np.concatenate((1-y_ook.astype(bool), y_ook), axis = 1)\n",
        "\n",
        "  print(y_ook)"
      ],
      "metadata": {
        "colab": {
          "base_uri": "https://localhost:8080/"
        },
        "id": "G5X5NK596-D8",
        "outputId": "244de123-fb9c-491f-879c-a8bfc2c6c941"
      },
      "id": "G5X5NK596-D8",
      "execution_count": null,
      "outputs": [
        {
          "output_type": "stream",
          "name": "stdout",
          "text": [
            "[[0]\n",
            " [1]\n",
            " [0]\n",
            " [0]\n",
            " [1]]\n",
            "[[1 0]\n",
            " [0 1]\n",
            " [1 0]\n",
            " [1 0]\n",
            " [0 1]]\n"
          ]
        }
      ]
    },
    {
      "cell_type": "markdown",
      "metadata": {
        "id": "13b0308c"
      },
      "source": [
        "# Subclassing for RCDNN"
      ],
      "id": "13b0308c"
    },
    {
      "cell_type": "code",
      "execution_count": null,
      "metadata": {
        "colab": {
          "base_uri": "https://localhost:8080/"
        },
        "id": "byULw2lxP5bt",
        "outputId": "d0638ad6-1bac-4c33-a3ac-251bbea3dbdf"
      },
      "outputs": [
        {
          "output_type": "stream",
          "name": "stdout",
          "text": [
            "Cloning into 'GCCE_TEST'...\n",
            "remote: Enumerating objects: 1157, done.\u001b[K\n",
            "remote: Counting objects: 100% (346/346), done.\u001b[K\n",
            "remote: Compressing objects: 100% (125/125), done.\u001b[K\n",
            "remote: Total 1157 (delta 249), reused 293 (delta 218), pack-reused 811\u001b[K\n",
            "Receiving objects: 100% (1157/1157), 50.16 MiB | 35.37 MiB/s, done.\n",
            "Resolving deltas: 100% (564/564), done.\n"
          ]
        }
      ],
      "source": [
        "!git clone https://github.com/Jectrianama/GCCE_TEST.git"
      ],
      "id": "byULw2lxP5bt"
    },
    {
      "cell_type": "code",
      "execution_count": null,
      "metadata": {
        "id": "vWx7ZkB_y2zY"
      },
      "outputs": [],
      "source": [
        "# -*- coding: utf-8 -*-\n",
        "\"\"\"labels_generation\n",
        "\n",
        "Automatically generated by Colaboratory.\n",
        "\n",
        "Original file is located at\n",
        "    https://colab.research.google.com/drive/14Vn5eMujyFsoOiy3aXsDyLv8zLsHb5_H\n",
        "\"\"\"\n",
        "\n",
        "import random\n",
        "import warnings\n",
        "import numpy as np\n",
        "#import climin\n",
        "from functools import partial\n",
        "import matplotlib.pyplot as plt\n",
        "from sklearn.preprocessing import StandardScaler\n",
        "from sklearn.cluster import KMeans\n",
        "import matplotlib.pyplot as plt\n",
        "from sklearn.manifold import TSNE\n",
        "\n",
        "# Defining the Sigmoid function and Softmax function\n",
        "\n",
        "\n",
        "def Sigmoid(f_r):\n",
        "    lam_r = 1 / (1 + np.exp(-f_r))\n",
        "    return lam_r\n",
        "\n",
        "# Asigna por medio de votación cuál es la clase que\n",
        "# Cuando no tengo ground truth, defino dicha etiqueta real por votación (mayoría)\n",
        "\n",
        "def MAjVot(Y, K):\n",
        "    N, R = Y.shape\n",
        "    Yhat = np.zeros((N, 1))\n",
        "    for n in range(N):\n",
        "        votes = np.zeros((K, 1))\n",
        "        for r in range(R):\n",
        "            for k in range(K):\n",
        "                if Y[n, r] == k + 1:\n",
        "                    votes[k] = votes[k] + 1\n",
        "        Yhat[n] = np.argmax(votes) + 1\n",
        "    return Yhat\n",
        "\n",
        "# Hay varios métodos para cuando solo tengo una etiqueta real\n",
        "# Método de generación sintética de anotadores\n",
        "# Acá, es pequeña la bd entonces etonces tenemos un ground truth y deseamos generar R anotadores de forma sintética\n",
        "\n",
        "# El de Julián\n",
        "\n",
        "# Los parámetros son la entrada,  s decir, tiene en cuenta el tamaño de este espacio de entrada para saber cómo asignar a cada anotador su versión de ground truth\n",
        "# et, real, datos r anotadores y el NrP, jeje\n",
        "\n",
        "def MA_Clas_Gen(Xtrain, ytrain, R, NrP):\n",
        "\n",
        "    N = len(ytrain)\n",
        "    K = len(np.unique(ytrain)) # cantidad de clases que tenemos\n",
        "    Kn = np.unique(ytrain) # me dice cuántos datos hay (valores)\n",
        "    aux = 0\n",
        "    A = np.zeros((K, 1)) # vector\n",
        "    for k in Kn:\n",
        "        A[aux] = (ytrain == k).sum() # sumo los que son iguales en cada clase\n",
        "        aux = aux + 1\n",
        "    per = np.min(A) # acá miro el que menos elementos tiene\n",
        "    if N < 25000:  #si tengo menos de 25000 muestras puedo hacer una reducción de dimensión no lineal usando los datos de entrada (acá es donde depende delesp de entrada)\n",
        "                    # Porque el TSNE es eficiente con menos de 25000 muestras\n",
        "        Xtrain = TSNE(n_components=1, perplexity=per / 2).fit_transform(Xtrain)\n",
        "                    # en caso de que no, empiezo a sumar las muestras\n",
        "    else:\n",
        "        Xtrain = np.sum(Xtrain, 1)\n",
        "\n",
        "    Xtrain = Xtrain - Xtrain.min() #centralización\n",
        "    #print(Xtrain.min(), Xtrain.max())\n",
        "    Xtrain = Xtrain / Xtrain.max() #normalización\n",
        "    Xtrain = Xtrain.reshape((N, 1)) # n filas y una columna\n",
        "    yprueba = np.ones((N, 1))\n",
        "\n",
        "    # ACÁ TOdo de pone potnente (yisuscraist aiuda)\n",
        "    # Esto es una forma de generarla a partir de senos y cosenos\n",
        "    #u sub q que se operan con unos pesos\n",
        "    u_q = np.empty((Xtrain.shape[0], 3))\n",
        "    u_q[:, 0, None] = 4.5 * np.cos(2 * np.pi * Xtrain + 1.5 * np.pi) - \\\n",
        "        3 * np.sin(4.3 * np.pi * Xtrain + 0.3 * np.pi)\n",
        "\n",
        "    u_q[:, 1, None] = 4.5 * np.cos(1.5 * np.pi * Xtrain + 0.5 * np.pi) + \\\n",
        "        5 * np.sin(3 * np.pi * Xtrain + 1.5 * np.pi)\n",
        "\n",
        "    u_q[:, 2, None] = 1\n",
        "\n",
        "    W = []\n",
        "    # q=1\n",
        "    Wq1 = np.array(([[0.4], [0.7], [-0.5], [0], [-0.7]]))  # hiperparámetros definidos por Julián\n",
        "    W.append(Wq1)\n",
        "    # q=2\n",
        "    Wq2 = np.array(([[0.4], [-1.0], [-0.1], [-0.8], [1.0]]))\n",
        "    W.append(Wq2)\n",
        "    Wq3 = np.array(([[3.1], [-1.8], [-0.6], [-1.2], [1.0]]))\n",
        "    W.append(Wq3)\n",
        "\n",
        "    # los parámetros anteriores son los que definen la performance de los anotadores\n",
        "\n",
        "    # los senos y cosenos suavizan los anotadores\n",
        "\n",
        "    F_r = []\n",
        "    Lam_r = []\n",
        "    for r in range(R):\n",
        "        f_r = np.zeros((Xtrain.shape[0], 1))\n",
        "        # rho_r = np.zeros((Xtrain.shape[0], 1))\n",
        "        for q in range(3):\n",
        "            f_r += W[q][r].T * u_q[:, q, None]\n",
        "        F_r.append(f_r)\n",
        "        lam_r = Sigmoid(f_r)\n",
        "        lam_r[lam_r > 0.5] = 1\n",
        "        lam_r[lam_r <= 0.5] = 0\n",
        "        Lam_r.append(lam_r)\n",
        "    plt.plot(Xtrain, Lam_r[2], 'rx')\n",
        "    plt.show()\n",
        "    seed = 0\n",
        "    np.random.seed(seed)\n",
        "    Ytrain = np.ones((N, R))\n",
        "    for r in range(R):\n",
        "        aux = ytrain.copy()\n",
        "        for n in range(N):\n",
        "            if Lam_r[r][n] == 0:\n",
        "                labels = np.arange(1, K + 1)\n",
        "                a = np.where(labels == ytrain[n])\n",
        "                labels = np.delete(labels, a)\n",
        "                idxlabels = np.random.permutation(K - 1)\n",
        "                aux[n] = labels[idxlabels[0]]\n",
        "        Ytrain[:, r] = aux.flatten()\n",
        "\n",
        "    # Ytrain = (Ytrain*maxy) + miny\n",
        "\n",
        "    iAnn = np.zeros((N, R), dtype=int)  # this indicates if the annotator r labels the nth sample.\n",
        "    Nr = np.ones((R), dtype=int) * int(np.floor(N * NrP))\n",
        "    for r in range(R):\n",
        "        if r < R - 1:\n",
        "            indexR = np.random.permutation(range(N))[:Nr[r]]\n",
        "            iAnn[indexR, r] = 1\n",
        "        else:\n",
        "            iSimm = np.sum(iAnn, axis=1)\n",
        "            idxZero = np.asarray([i for (i, val) in enumerate(iSimm) if val == 0])\n",
        "            Nzeros = idxZero.shape[0]\n",
        "            idx2Choose = np.arange(N)\n",
        "            if Nzeros == 0:\n",
        "                indexR = np.random.permutation(range(N))[:Nr[r]]\n",
        "                iAnn[indexR, r] = 1\n",
        "            else:\n",
        "                idx2Choose = np.delete(idx2Choose, idxZero)\n",
        "                N2chose = idx2Choose.shape[0]\n",
        "                idxNoZero = np.random.permutation(N2chose)[:(Nr[r] - Nzeros)]\n",
        "                idxTot = np.concatenate((idxZero, idx2Choose[idxNoZero]))\n",
        "                iAnn[idxTot, r] = 1\n",
        "\n",
        "    # Now, we verify that all the samples were labeled at least once\n",
        "    Nr = (np.sum(iAnn, 0))\n",
        "    iSimm = np.sum(iAnn, axis=1)\n",
        "    if np.asarray([i for (i, val) in enumerate(iSimm) if val == 0]).sum() == 0:\n",
        "        ValueError(\"all the samples must be labeled at least once\")\n",
        "\n",
        "    # Finally, if iAnn=0 we assign a reference value to indicate a missing value\n",
        "    Vref = -1e-20\n",
        "    for r in range(R):\n",
        "        Ytrain[iAnn[:, r] == 0, r] = Vref\n",
        "\n",
        "    return Ytrain, iAnn, Lam_r\n",
        "\n",
        "\n",
        "def CrossVal(X, pp, Nk):\n",
        "    N = X.shape[0]\n",
        "    Ntr = int(N * pp)\n",
        "    Nte = N - Ntr\n",
        "    idxtr = np.zeros((Ntr, Nk))\n",
        "    idxte = np.zeros((Nte, Nk))\n",
        "\n",
        "    for i in range(Nk):\n",
        "        index = np.random.permutation(range(N))\n",
        "        idxtr[:, i] = index[:Ntr]\n",
        "        idxte[:, i] = index[Ntr:]\n",
        "\n",
        "    return idxtr, idxte\n"
      ],
      "id": "vWx7ZkB_y2zY"
    },
    {
      "cell_type": "markdown",
      "source": [
        "el generalized crosss entropy"
      ],
      "metadata": {
        "id": "IMLlfDU5BOV-"
      },
      "id": "IMLlfDU5BOV-"
    },
    {
      "cell_type": "code",
      "execution_count": null,
      "metadata": {
        "id": "4h9KwfCKQAlr"
      },
      "outputs": [],
      "source": [
        "# import os\n",
        "# os.chdir('/content/GCCE_TEST/gcecdl/labels_generation.py')\n",
        "# #from  keras_ma_gcce import *\n",
        "# from labels_generation import MA_Clas_Gen\n",
        "\n",
        "# os.chdir('../../')"
      ],
      "id": "4h9KwfCKQAlr"
    },
    {
      "cell_type": "code",
      "execution_count": null,
      "metadata": {
        "id": "AklUNYNDWVv2",
        "colab": {
          "base_uri": "https://localhost:8080/"
        },
        "outputId": "580e8efb-6e6f-4203-ced4-3ebe85f87e7b"
      },
      "outputs": [
        {
          "output_type": "stream",
          "name": "stdout",
          "text": [
            "--2023-10-27 17:06:19--  https://docs.google.com/uc?export=download&confirm=&id=1AU8pTtCLihBjCZjWITaAzpnEuL4RO436\n",
            "Resolving docs.google.com (docs.google.com)... 142.251.172.101, 142.251.172.100, 142.251.172.138, ...\n",
            "Connecting to docs.google.com (docs.google.com)|142.251.172.101|:443... connected.\n",
            "HTTP request sent, awaiting response... 303 See Other\n",
            "Location: https://doc-00-90-docs.googleusercontent.com/docs/securesc/ha0ro937gcuc7l7deffksulhg5h7mbp1/44r247tumh4ggncag3cf098p13bsaf9p/1698426375000/07591141114418430227/*/1AU8pTtCLihBjCZjWITaAzpnEuL4RO436?e=download&uuid=792afb26-4f28-4df1-81aa-f562a0059a05 [following]\n",
            "Warning: wildcards not supported in HTTP.\n",
            "--2023-10-27 17:06:19--  https://doc-00-90-docs.googleusercontent.com/docs/securesc/ha0ro937gcuc7l7deffksulhg5h7mbp1/44r247tumh4ggncag3cf098p13bsaf9p/1698426375000/07591141114418430227/*/1AU8pTtCLihBjCZjWITaAzpnEuL4RO436?e=download&uuid=792afb26-4f28-4df1-81aa-f562a0059a05\n",
            "Resolving doc-00-90-docs.googleusercontent.com (doc-00-90-docs.googleusercontent.com)... 173.194.195.132, 2607:f8b0:4001:c11::84\n",
            "Connecting to doc-00-90-docs.googleusercontent.com (doc-00-90-docs.googleusercontent.com)|173.194.195.132|:443... connected.\n",
            "HTTP request sent, awaiting response... 200 OK\n",
            "Length: 38377 (37K) [application/x-zip-compressed]\n",
            "Saving to: ‘DataGCCE.zip’\n",
            "\n",
            "DataGCCE.zip        100%[===================>]  37.48K  --.-KB/s    in 0s      \n",
            "\n",
            "2023-10-27 17:06:20 (106 MB/s) - ‘DataGCCE.zip’ saved [38377/38377]\n",
            "\n",
            "Archive:  DataGCCE.zip\n",
            "  inflating: new-thyroid.csv         \n",
            "  inflating: tic-tac-toe-endgame.csv  \n",
            "  inflating: balance-scale.csv       \n",
            "  inflating: file.csv                \n",
            "balance-scale.csv  file.csv   new-thyroid.csv  tic-tac-toe-endgame.csv\n",
            "DataGCCE.zip\t   GCCE_TEST  sample_data\n"
          ]
        }
      ],
      "source": [
        "#cargar datos desde drive otros dataset\n",
        "FILEID = \"1AU8pTtCLihBjCZjWITaAzpnEuL4RO436\"\n",
        "#https://drive.google.com/file/d/1AU8pTtCLihBjCZjWITaAzpnEuL4RO436/view?usp=sharing\n",
        "!wget --load-cookies /tmp/cookies.txt \"https://docs.google.com/uc?export=download&confirm=$(wget --quiet --save-cookies /tmp/cookies.txt --keep-session-cookies --no-check-certificate 'https://docs.google.com/uc?export=download&id='$FILEID -O- | sed -rn 's/.*confirm=([0-9A-Za-z_]+).*/\\1\\n/p')&id=\"$FILEID -O  DataGCCE.zip && rm -rf /tmp/cookies.txt\n",
        "!unzip -o DataGCCE.zip\n",
        "!dir"
      ],
      "id": "AklUNYNDWVv2"
    },
    {
      "cell_type": "code",
      "execution_count": null,
      "metadata": {
        "id": "4f2c39a8",
        "colab": {
          "base_uri": "https://localhost:8080/"
        },
        "outputId": "c595b965-be9f-40e4-dfed-7279577ebaff"
      },
      "outputs": [
        {
          "output_type": "stream",
          "name": "stdout",
          "text": [
            "--2023-10-27 17:06:20--  https://docs.google.com/uc?export=download&confirm=t&id=1SQnWXGROG2Xexs5vn3twuv7SqiWG5njW\n",
            "Resolving docs.google.com (docs.google.com)... 142.251.172.101, 142.251.172.100, 142.251.172.138, ...\n",
            "Connecting to docs.google.com (docs.google.com)|142.251.172.101|:443... connected.\n",
            "HTTP request sent, awaiting response... 303 See Other\n",
            "Location: https://doc-00-90-docs.googleusercontent.com/docs/securesc/ha0ro937gcuc7l7deffksulhg5h7mbp1/c0d634p7a2h30cls3rb3fifb2geeumgk/1698426375000/07591141114418430227/*/1SQnWXGROG2Xexs5vn3twuv7SqiWG5njW?e=download&uuid=3d4c0fb5-2abe-49e3-9c3a-9b6ae6a32eba [following]\n",
            "Warning: wildcards not supported in HTTP.\n",
            "--2023-10-27 17:06:20--  https://doc-00-90-docs.googleusercontent.com/docs/securesc/ha0ro937gcuc7l7deffksulhg5h7mbp1/c0d634p7a2h30cls3rb3fifb2geeumgk/1698426375000/07591141114418430227/*/1SQnWXGROG2Xexs5vn3twuv7SqiWG5njW?e=download&uuid=3d4c0fb5-2abe-49e3-9c3a-9b6ae6a32eba\n",
            "Resolving doc-00-90-docs.googleusercontent.com (doc-00-90-docs.googleusercontent.com)... 173.194.195.132, 2607:f8b0:4001:c11::84\n",
            "Connecting to doc-00-90-docs.googleusercontent.com (doc-00-90-docs.googleusercontent.com)|173.194.195.132|:443... connected.\n",
            "HTTP request sent, awaiting response... 200 OK\n",
            "Length: 156530728 (149M) [application/zip]\n",
            "Saving to: ‘MADatasets.zip’\n",
            "\n",
            "MADatasets.zip      100%[===================>] 149.28M  97.0MB/s    in 1.5s    \n",
            "\n",
            "2023-10-27 17:06:22 (97.0 MB/s) - ‘MADatasets.zip’ saved [156530728/156530728]\n",
            "\n",
            "Archive:  MADatasets.zip\n",
            "  inflating: MADatasets/util.py      \n",
            "  inflating: MADatasets/Iris1.mat    \n",
            "  inflating: MADatasets/Integra_Labels.mat  \n",
            "  inflating: MADatasets/MAGenerationClassification.py  \n",
            "  inflating: MADatasets/Voice.mat    \n",
            "  inflating: MADatasets/Iris.mat     \n",
            "  inflating: MADatasets/Sinthetic.mat  \n",
            "  inflating: MADatasets/MAGenerationClassification_1.py  \n",
            "  inflating: MADatasets/Bupa1.mat    \n",
            "  inflating: MADatasets/TicTacToe1.mat  \n",
            "  inflating: MADatasets/Wine.mat     \n",
            "  inflating: MADatasets/Breast1.mat  \n",
            "  inflating: MADatasets/Breast.mat   \n",
            "  inflating: MADatasets/Music.mat    \n",
            "  inflating: MADatasets/Pima.mat     \n",
            "  inflating: MADatasets/Ionosphere.mat  \n",
            "  inflating: MADatasets/TicTacToe.mat  \n",
            "  inflating: MADatasets/VoiceData.m  \n",
            "  inflating: MADatasets/util_1.py    \n",
            "  inflating: MADatasets/Ionosphere1.mat  \n",
            "  inflating: MADatasets/__pycache__/util_1.cpython-37.pyc  \n",
            "  inflating: MADatasets/Bupa.mat     \n",
            "  inflating: MADatasets/Wine1.mat    \n",
            "  inflating: MADatasets/__pycache__/util.cpython-37.pyc  \n",
            "  inflating: MADatasets/Pima1.mat    \n",
            "  inflating: MADatasets/Segmentation1.mat  \n",
            "  inflating: MADatasets/Western.mat  \n",
            "  inflating: MADatasets/Integra_Preprocesamiento_Seg_Caracterizacion_time_frec.mat  \n",
            "  inflating: MADatasets/Western1.mat  \n",
            "  inflating: MADatasets/Segmentation.mat  \n",
            "  inflating: MADatasets/Skin_NonSkin.mat  \n",
            "  inflating: MADatasets/Skin_NonSkin1.mat  \n",
            "  inflating: MADatasets/Occupancy1.mat  \n",
            "  inflating: MADatasets/Polarity.mat  \n",
            "  inflating: MADatasets/Occupancy.mat  \n",
            "balance-scale.csv  file.csv   MADatasets      new-thyroid.csv  tic-tac-toe-endgame.csv\n",
            "DataGCCE.zip\t   GCCE_TEST  MADatasets.zip  sample_data\n"
          ]
        }
      ],
      "source": [
        "#cargar datos desde drive acceso libre\n",
        "FILEID = \"1SQnWXGROG2Xexs5vn3twuv7SqiWG5njW\"\n",
        "#https://drive.google.com/file/d/1SQnWXGROG2Xexs5vn3twuv7SqiWG5njW/view?usp=sharing\n",
        "!wget --load-cookies /tmp/cookies.txt \"https://docs.google.com/uc?export=download&confirm=$(wget --quiet --save-cookies /tmp/cookies.txt --keep-session-cookies --no-check-certificate 'https://docs.google.com/uc?export=download&id='$FILEID -O- | sed -rn 's/.*confirm=([0-9A-Za-z_]+).*/\\1\\n/p')&id=\"$FILEID -O MADatasets.zip && rm -rf /tmp/cookies.txt\n",
        "!unzip -o MADatasets.zip\n",
        "!dir"
      ],
      "id": "4f2c39a8"
    },
    {
      "cell_type": "markdown",
      "source": [
        "Prueba JUlián CKS"
      ],
      "metadata": {
        "id": "n5TujwJsDd30"
      },
      "id": "n5TujwJsDd30"
    },
    {
      "cell_type": "code",
      "source": [
        "# -*- coding: utf-8 -*-\n",
        "\"\"\"Keras_CKA.ipynb\n",
        "\n",
        "Automatically generated by Colaboratory.\n",
        "\n",
        "Original file is located at\n",
        "    https://colab.research.google.com/drive/1IjISolh0J4scGwmy0l8sWIQAaqZkc-eR\n",
        "\"\"\"\n",
        "import tensorflow as tf\n",
        "#from tensorflow.keras.wrappers.scikit_learn import KerasClassifier\n",
        "import tensorflow_probability as tfp\n",
        "from sklearn.base import  BaseEstimator, TransformerMixin\n",
        "import numpy as np\n",
        "\n",
        "\n",
        "class CKA(BaseEstimator, TransformerMixin):\n",
        "    def __init__(self,epochs=50,batch_size=100,length_scale=1e-2,iAnn=np.ones(2)):\n",
        "        self.epochs = epochs\n",
        "        self.batch_size = batch_size\n",
        "        self.length_scale=length_scale\n",
        "        self.iAnn = iAnn\n",
        "        self.R = self.iAnn.shape[1] #annotators\n",
        "        self.mu = tf.Variable(tf.random.uniform(shape=(1, self.R), dtype=tf.float64))\n",
        "        self.ls = tf.Variable(self.length_scale, dtype=tf.float64)\n",
        "\n",
        "    # function to compute an exponetial quadratic kernel over the input features\n",
        "    def ComputeKernel_X(self,X):\n",
        "        kernel = tfp.math.psd_kernels.ExponentiatedQuadratic(length_scale=self.ls,\n",
        "                                                  name='ExponentiatedQuadratic')\n",
        "        return kernel.matrix(X,X)\n",
        "\n",
        "    # function to compute a linear kernel over the labels.\n",
        "    def ComputeKernel_Y(self,Y,iAnn):\n",
        "        kernel = tfp.math.psd_kernels.Linear(bias_variance=None,\n",
        "                                             slope_variance=None, shift=None,\n",
        "                                             feature_ndims=1,validate_args=False,\n",
        "                                             name='Linear')\n",
        "        N, R = Y.shape\n",
        "        Y = tf.multiply(Y,iAnn)\n",
        "        K_mu = tf.zeros([N,N], dtype=tf.dtypes.float64)\n",
        "        for r in range(R):\n",
        "            K_mu = tf.math.add(K_mu,self.mu[0,r]*kernel.matrix(Y[:,r:r+1],Y[:,r:r+1]))\n",
        "        return K_mu\n",
        "\n",
        "    # we define the loss fuction based on the centered kernel alignment framework\n",
        "    def CKA_loss(self,X,Y,iAnn):\n",
        "        N = X.shape[0]\n",
        "        KXX = self.ComputeKernel_X(X)\n",
        "        Kmu = self.ComputeKernel_Y(Y,iAnn)\n",
        "        I = tf.eye(N, dtype=tf.dtypes.float64)\n",
        "        ones = tf.ones([N,1], dtype=tf.dtypes.float64)\n",
        "        H = I - tf.linalg.matmul(ones, ones, transpose_b=True)/N\n",
        "        KXX_c = tf.linalg.matmul(H,tf.linalg.matmul(KXX,H))\n",
        "        Kmu_c = tf.linalg.matmul(H,tf.linalg.matmul(Kmu,H))\n",
        "        num = tf.linalg.trace(tf.matmul(Kmu_c,KXX_c,transpose_a=True))\n",
        "        den1 = tf.sqrt(tf.linalg.trace(tf.matmul(Kmu_c,Kmu_c,transpose_a=True)))\n",
        "        den2 = tf.sqrt(tf.linalg.trace(tf.matmul(KXX_c,KXX_c,transpose_a=True)))\n",
        "\n",
        "\n",
        "        return -num/(den1*den2)\n",
        "\n",
        "    def fit(self,X,Y):\n",
        "        batch_size = self.batch_size\n",
        "        train_data=tf.data.Dataset.from_tensor_slices((X,Y,self.iAnn))\n",
        "        train_data=train_data.shuffle(buffer_size=100).batch(batch_size).repeat(5)\n",
        "        optimizer = tf.keras.optimizers.Adam(learning_rate=1e-2)\n",
        "        for epoch in range(self.epochs):\n",
        "            print(\"Start of epoch %d\" % (epoch,))\n",
        "\n",
        "            # Iterate over the batches of the dataset.\n",
        "            for step, (x_batch_train,y_batch_train,iAnn_batch) in enumerate(train_data):\n",
        "                with tf.GradientTape() as tape:\n",
        "                    loss =  self.CKA_loss(x_batch_train, y_batch_train,iAnn_batch)\n",
        "                grads = tape.gradient(loss, [self.mu, self.ls])\n",
        "                optimizer.apply_gradients(zip(grads, [self.mu, self.ls]))\n",
        "\n",
        "                if step % 50 == 0:\n",
        "                    print(\"step %d: mean loss = %.4f\" % (step, loss))\n",
        "\n",
        "    def transform(self, X, *_):\n",
        "        mu = self.mu.numpy()[0]\n",
        "        mu[mu<0] = 0\n",
        "        mu = mu/np.sum(mu)\n",
        "\n",
        "        return mu\n",
        "\n",
        "    def fit_transform(self,X,y):\n",
        "        self.fit(X,y)\n",
        "        return  self.transform(X)\n"
      ],
      "metadata": {
        "id": "JNNd684EDf6u"
      },
      "id": "JNNd684EDf6u",
      "execution_count": null,
      "outputs": []
    },
    {
      "cell_type": "code",
      "source": [
        "\n",
        "# -*- coding: utf-8 -*-\n",
        "\"\"\"KLCKA_CKA.ipynb\n",
        "\n",
        "Julian Gil Gonzalez\n",
        "Universidad Tecnologica de Pereira, 2021\n",
        "\"\"\"\n",
        "import tensorflow as tf\n",
        "#from tensorflow.keras.wrappers.scikit_learn import KerasClassifier\n",
        "import tensorflow_probability as tfp\n",
        "from sklearn.base import  BaseEstimator, TransformerMixin\n",
        "from sklearn.preprocessing import OneHotEncoder\n",
        "import numpy as np\n",
        "import pandas as pd\n",
        "\n",
        "\n",
        "class LCKA(BaseEstimator, TransformerMixin):\n",
        "    def __init__(self,epochs=50,batch_size=100,length_scale=1e-1,iAnn=np.ones(2)):\n",
        "        self.epochs = epochs\n",
        "        self.batch_size = batch_size\n",
        "        self.iAnn = iAnn\n",
        "        self.N, self.R = self.iAnn.shape #annotators\n",
        "        self.beta = tf.Variable(tf.random.uniform(shape=(self.N+1, self.R),\n",
        "                                                  dtype=tf.float64))\n",
        "        self.ls = tf.Variable(length_scale, dtype=tf.float64)\n",
        "        self.idx = tf.range(1,self.N+1,dtype=tf.int64)\n",
        "        self.q = np.zeros((self.N, self.R))\n",
        "\n",
        "    # function to compute an exponetial quadratic kernel over the input features\n",
        "    def ComputeKernel_X(self,X):\n",
        "        kernel = tfp.math.psd_kernels.ExponentiatedQuadratic(length_scale=self.ls,\n",
        "                                                  name='ExponentiatedQuadratic')\n",
        "        return kernel.matrix(X,X)\n",
        "\n",
        "    # function to compute a linear kernel over the labels.\n",
        "    def ComputeKernel_Y(self,Y,iAnn,KXX,idx):\n",
        "        kernel = tfp.math.psd_kernels.Linear(bias_variance=None,\n",
        "                                             slope_variance=None, shift=None,\n",
        "                                             feature_ndims=1,validate_args=False,\n",
        "                                             name='Linear')\n",
        "        N, R = Y.shape\n",
        "        Y = tf.multiply(Y,iAnn)\n",
        "        K_mu = tf.zeros([N,N], dtype=tf.dtypes.float64)\n",
        "        q = self.Compute_Q(KXX,iAnn,idx)\n",
        "        N = KXX.shape[0]\n",
        "        I = tf.eye(N, dtype=tf.dtypes.float64)\n",
        "        ones = tf.ones([N,1], dtype=tf.dtypes.float64)\n",
        "        H = I - tf.linalg.matmul(ones, ones, transpose_b=True)/N\n",
        "        for r in range(R):\n",
        "            Q = tf.linalg.diag(q[:,r])\n",
        "            KYY_c = tf.linalg.matmul(H,tf.linalg.matmul(kernel.matrix(Y[:,r:r+1],Y[:,r:r+1]),H))\n",
        "            Kq = tf.linalg.matmul(Q,tf.linalg.matmul(KYY_c,Q))\n",
        "            K_mu = tf.math.add(K_mu,Kq)\n",
        "        return K_mu\n",
        "\n",
        "    def Compute_Q(self,KXX,iAnn,idx):\n",
        "        ones = tf.ones([KXX.shape[0],1], dtype=tf.dtypes.float64)\n",
        "        KXX = tf.concat([ones, KXX], 1)\n",
        "        beta = tf.gather(self.beta,idx)\n",
        "        beta = tf.concat([self.beta[0:1,:], beta], 0)\n",
        "        q = tf.multiply(tf.linalg.matmul(KXX, beta), iAnn)\n",
        "        self.q[idx.numpy()-1,:] = q.numpy()\n",
        "        return q\n",
        "\n",
        "\n",
        "    # we define the loss fuction based on the centered kernel alignment framework\n",
        "    def LCKA_loss(self,X,Y,iAnn,idx):\n",
        "        N = X.shape[0]\n",
        "        KXX = self.ComputeKernel_X(X)\n",
        "        Kmu_c = self.ComputeKernel_Y(Y,iAnn,KXX,idx)\n",
        "        I = tf.eye(N, dtype=tf.dtypes.float64)\n",
        "        ones = tf.ones([N,1], dtype=tf.dtypes.float64)\n",
        "        H = I - tf.linalg.matmul(ones, ones, transpose_b=True)/N\n",
        "        KXX_c = tf.linalg.matmul(H,tf.linalg.matmul(KXX,H))\n",
        "        num = tf.linalg.trace(tf.matmul(Kmu_c,KXX_c,transpose_a=True))\n",
        "        den1 = tf.sqrt(tf.linalg.trace(tf.matmul(Kmu_c,Kmu_c,transpose_a=True)))\n",
        "        den2 = tf.sqrt(tf.linalg.trace(tf.matmul(KXX_c,KXX_c,transpose_a=True)))\n",
        "        return -num/(den1*den2)\n",
        "\n",
        "    def fit(self,X,Y):\n",
        "        batch_size = self.batch_size\n",
        "        train_data=tf.data.Dataset.from_tensor_slices((X,Y,self.iAnn,\n",
        "                                                       self.idx))\n",
        "        train_data=train_data.shuffle(buffer_size=100).batch(batch_size).repeat(5)\n",
        "        optimizer = tf.keras.optimizers.Adam(learning_rate=1e-2)\n",
        "        for epoch in range(self.epochs):\n",
        "            print(\"Start of epoch %d\" % (epoch,))\n",
        "\n",
        "            # Iterate over the batches of the dataset.\n",
        "            for step, (x_batch_train,y_batch_train,iAnn_batch,\n",
        "                       idx_batch) in enumerate(train_data):\n",
        "                with tf.GradientTape() as tape:\n",
        "                    loss = self.LCKA_loss(x_batch_train, y_batch_train,\n",
        "                                         iAnn_batch,idx_batch)\n",
        "                grads = tape.gradient(loss, [self.beta, self.ls])\n",
        "                optimizer.apply_gradients(zip(grads, [self.beta, self.ls]))\n",
        "\n",
        "                if step % 50 == 0:\n",
        "                    print(\"step %d: mean loss = %.4f\" % (step, loss))\n",
        "\n",
        "    def transform(self, X, *_):\n",
        "        q = self.q**2\n",
        "        N = q.shape[0]\n",
        "        q = q/np.sum(q,1).reshape(N,1)\n",
        "\n",
        "        return q\n",
        "\n",
        "    def fit_transform(self,X,y):\n",
        "        self.fit(X,y)\n",
        "        return  self.transform(X)\n"
      ],
      "metadata": {
        "id": "UGdDHnjoJgCq"
      },
      "id": "UGdDHnjoJgCq",
      "execution_count": null,
      "outputs": []
    },
    {
      "cell_type": "markdown",
      "source": [
        "PRUEBA Jenni"
      ],
      "metadata": {
        "id": "bG4cT8t_DgU_"
      },
      "id": "bG4cT8t_DgU_"
    },
    {
      "cell_type": "code",
      "execution_count": null,
      "metadata": {
        "id": "LIrQ_rFJWN_U"
      },
      "outputs": [],
      "source": [
        "# -*- coding: utf-8 -*-\n",
        "import tensorflow as tf\n",
        "import matplotlib.pyplot as plt\n",
        "#from tensorflow.keras.wrappers.scikit_learn import KerasClassifier\n",
        "import tensorflow_probability as tfp\n",
        "from tensorflow.keras import regularizers\n",
        "from sklearn.base import  BaseEstimator, TransformerMixin, ClassifierMixin\n",
        "from sklearn.model_selection import train_test_split\n",
        "tf.keras.backend.clear_session()\n",
        "#tf.random.set_seed(42)\n",
        "import types\n",
        "import tempfile\n",
        "class Keras_MA_RCDNN(): #transformer no va\n",
        " #Constructor __init__. Special method: identified by a double underscore at either side of their name\n",
        " #work in the background\n",
        " # initialize data members to the object. lets the class initialize the object’s attributes and serves no other purpose.\n",
        "    def __init__(self,epochs=100,batch_size=30,R=5, K=2, dropout=0.5, learning_rate=1e-3,optimizer='Adam',\n",
        "                  l1_param=0, validation_split=0.3, verbose=1, q = 0.1):\n",
        "        self.epochs=epochs\n",
        "        self.dropout=dropout\n",
        "        self.batch_size = batch_size\n",
        "        self.learning_rate=learning_rate\n",
        "        self.l1_param=l1_param\n",
        "        self.l2_param=l1_param\n",
        "        self.validation_split = validation_split\n",
        "        self.verbose = verbose\n",
        "        self.optimizer = optimizer\n",
        "        self.R=R\n",
        "        self.K=K\n",
        "        self.q = q\n",
        "\n",
        "\n",
        "\n",
        "    def custom_RCDNN_loss(self, y_true, y_pred):  #ytrue \\in N x R,  ypred \\in N x (R+K) -> PRI->JULI\n",
        "\n",
        "        #Input ytrue: samples (N) x  annotators (R)\n",
        "        #Input ypred: samples (N) x  annotators+classes (R+K)\n",
        "\n",
        "        #Ground truth estimation samples (N) x  Classes(K)\n",
        "        pred = y_pred[:,self.R:]\n",
        "        pred = tf.clip_by_value(pred, clip_value_min=1e-9, clip_value_max=1-1e-9) #estabilidad numerica de la funcion de costo\n",
        "        # Annotators reliability prediction: samples (N) x  annotators (R)\n",
        "        ann_ = y_pred[:,:self.R]\n",
        "        #Y_true 1-K: samples (N) x  Classes(1-K), annotators (R)\n",
        "        Y_true = tf.one_hot(tf.cast(y_true, dtype=tf.int32), depth=self.K, axis=1)\n",
        "        #Y_pred 1 - K: samples (N) x  Classes(1-K), annotators (R)\n",
        "        Y_hat = tf.repeat(tf.expand_dims(pred,-1), self.R, axis = -1)\n",
        "        #loss computation\n",
        "        p_logreg = tf.math.reduce_prod(tf.math.pow(Y_hat, Y_true), axis=1)\n",
        "        temp1 = ann_*tf.math.log(p_logreg)\n",
        "        temp2 = (1 - ann_)*tf.math.log(1/self.K)*tf.reduce_sum(Y_true,axis=1)\n",
        "        # temp2 = (tf.ones(tf.shape(ann_)) - ann_)*tf.math.log(1/K)\n",
        "        # print(tf.reduce_mean(Y_true,axis=1).numpy())\n",
        "        return -tf.math.reduce_sum((temp1 + temp2))\n",
        "\n",
        "\n",
        "    def GCCE_MA_loss(self, y_true, y_pred):\n",
        "        # print(y_true,y_pred)\n",
        "       # q = 0.1\n",
        "        pred = y_pred[:, self.R:]\n",
        "        pred = tf.clip_by_value(pred, clip_value_min=1e-9, clip_value_max=1)\n",
        "        ann_ = y_pred[:, :self.R]\n",
        "        # ann_ = tf.clip_by_value(ann_, clip_value_min=1e-9, clip_value_max=1-1e-9)\n",
        "        Y_true = tf.one_hot(tf.cast(y_true, dtype=tf.int32), depth=self.K, axis=1)\n",
        "        Y_hat = tf.repeat(tf.expand_dims(pred,-1), self.R, axis = -1)\n",
        "\n",
        "        p_gcce = Y_true*(1 - Y_hat**self.q)/self.q\n",
        "        temp1 = ann_*tf.math.reduce_sum(p_gcce, axis=1)\n",
        "\n",
        "        # p_logreg = tf.math.reduce_prod(tf.math.pow(Y_hat, Y_true), axis=1)\n",
        "        # temp1 = ann_*tf.math.log(p_logreg)\n",
        "        # temp2 = (1 - ann_)*tf.math.log(1/K)*tf.reduce_sum(Y_true,axis=1)\n",
        "        # aux = tf.repeat(tf.reduce_sum(pred*tf.math.log(pred),axis=1,keepdims=True), R, axis = 1)\n",
        "        # tf.print(tf.shape(aux))\n",
        "        # print(tf.shape(aux))\n",
        "        # temp2 = (1 - ann_)*aux*tf.reduce_sum(Y_true,axis=1)\n",
        "        # temp2 = (tf.ones(tf.shape(ann_)) - ann_)*tf.math.log(1/K)\n",
        "        # print(tf.reduce_mean(Y_true,axis=1).numpy())\n",
        "        # Y_true_1 = tf.clip_by_value(Y_true, clip_value_min=1e-9, clip_value_max=1)\n",
        "        # p_logreg_inv = tf.math.reduce_prod(tf.math.pow(Y_true_1, Y_hat), axis=1)\n",
        "        # temp2 = (1 - ann_)*tf.math.log(p_logreg_inv)\n",
        "        temp2 = (1 - ann_)*(1-(1/self.K)**self.q)/self.q*tf.reduce_sum(Y_true,axis=1)\n",
        "        return tf.math.reduce_sum((temp1 + temp2))\n",
        "\n",
        "\n",
        "    def PRI_MA_loss(self, y_true, y_pred): #,  -> PRI\n",
        "        #Input ytrue: samples (N) x  annotators (R)\n",
        "        #Input ypred: samples (N) x  annotators+classes (R+K)\n",
        "        #PRI MA\n",
        "        cce_M = tf.keras.losses.CategoricalCrossentropy(reduction='none',axis=-1)\n",
        "        cce_C = tf.keras.losses.CategoricalCrossentropy(reduction='none',axis=1)\n",
        "\n",
        "\n",
        "\n",
        "        #N = tf.cast(y_true.shape[0],dtype=tf.int32)\n",
        "        N = tf.shape(y_true)[0]\n",
        "        #Ground truth estimation samples (N) x  Classes(K)\n",
        "        y_pred_tf = y_pred[:,self.R:]\n",
        "        # Annotators reliability prediction: samples (N) x  annotators (R)\n",
        "        lambda_R_tf = y_pred[:,:self.R] #tf.ones(shape=(N,R))\n",
        "        #Y_true 1 K: samples (N) x  Classes(1-K), annotators (R)\n",
        "        Y_true_1K = tf.one_hot(tf.cast(y_true,dtype=tf.int32),depth=self.K,axis=1)\n",
        "        #Y_pred 1 - K: samples (N) x  Classes(1-K), annotators (R)\n",
        "        Y_hat = tf.repeat(tf.expand_dims(y_pred_tf,-1), self.R, axis = -1)\n",
        "        #marginal entropy\n",
        "        #cce along the K classes -> ypred_tf\n",
        "        Hm_ = cce_M(y_pred_tf,y_pred_tf)\n",
        "        #cross entropy\n",
        "        #cce along the K classes -> Y_hat\n",
        "        Hc_ = cce_C(Y_true_1K,Y_hat)\n",
        "        #PRI MA computation\n",
        "        LH = tf.linalg.matmul(lambda_R_tf,Hc_,transpose_a=True) # \\Lambda^\\top H_c\n",
        "        temp1 = tf.linalg.trace(LH) #trace(LH)\n",
        "        Hm1L = tf.linalg.matmul(tf.ones(shape=(N,self.R))-lambda_R_tf,tf.ones(shape=(self.R,1)))# 1_N 1_R^\\top - Lambda\n",
        "        Hm_t = tf.reshape(Hm_,shape=(N,1))\n",
        "        temp2 = tf.squeeze(tf.linalg.matmul(Hm_t,Hm1L,transpose_a=True)) # Hm^\\top Hm1L\n",
        "        loss_c = temp1+ temp2 #return loss\n",
        "\n",
        "        return loss_c\n",
        "\n",
        "        # genera la red, hace el compile\n",
        "        #se define la arquitectura de la red (4 o 5 capas) regulariaviones optimizadores\n",
        "    def fit(self, X, Y):\n",
        "        #input X numpy array first dimension samples (N)x features (P)\n",
        "        #input Y numpy array vector len = samples (N) x  annotators (R)\n",
        "        P = X.shape[1]\n",
        "        if self.optimizer == \"Adam\":\n",
        "            opt = tf.keras.optimizers.Adam(learning_rate=self.learning_rate, clipnorm=1.0) #buscar xd Se usa para ver si mejoraba o si el loss cayera más lindi\n",
        "        elif self.optimizer == \"SGD\":\n",
        "            opt = tf.keras.optimizers.SGD(learning_rate=self.learning_rate, clipnorm=1.0) # el learning rate hdefine cómo va  asaltar la función de costo (el dbujito de los saltos de Germán)\n",
        "        else:\n",
        "            opt=self.optimizer\n",
        "\n",
        "\n",
        "          # Acá es la arqui\n",
        "          # 2 capas densas\n",
        "\n",
        "        #capa de entrada\n",
        "        input_l = tf.keras.layers.Input(shape=(X_train.shape[1]), name='entrada')\n",
        "        #capas densas\n",
        "        h1 = tf.keras.layers.Dense(int(P*4*(self.K+self.R)),activation='selu',name='h1',\n",
        "                              kernel_regularizer=tf.keras.regularizers.l1_l2(l1=self.l1_param,l2=self.l2_param))(input_l)#argumento de entrada\n",
        "        h2 = tf.keras.layers.Dense(int(P*(self.K+self.R)),activation='selu',name='h2',\n",
        "                              kernel_regularizer=tf.keras.regularizers.l1_l2(l1=self.l1_param,l2=self.l2_param))(h1)\n",
        "        dout = tf.keras.layers.Dropout(rate=self.dropout)(h2)\n",
        "\n",
        "        # acá es lo interesantosky :3\n",
        "        # página 7 (Figura 1)\n",
        "\n",
        "        # esta estima la confiabilidad de los anotadores\n",
        "        output_R = tf.keras.layers.Dense(self.R,activation=\"sigmoid\",\n",
        "                                    kernel_regularizer=tf.keras.regularizers.l1_l2(l1=self.l1_param,l2=self.l2_param), name= 'out_R_RCDNN' )(dout)\n",
        "\n",
        "        # da la predcción del ground truth oculto\n",
        "        output_K = tf.keras.layers.Dense(self.K,activation=\"softmax\",\n",
        "                                    kernel_regularizer=tf.keras.regularizers.l1_l2(l1=self.l1_param,l2=self.l2_param), name= 'out_K_RCDNN')(dout)\n",
        "\n",
        "        # voy a tener una salida con r anotadores y 3 clases (con 7 columnas)\n",
        "        output = tf.keras.layers.concatenate([output_R, output_K])\n",
        "        self.model = tf.keras.Model(inputs= input_l,outputs=output)\n",
        "        self.model.compile(loss=self.custom_RCDNN_loss, optimizer=opt)\n",
        "\n",
        "        self.history = self.model.fit(X, Y, epochs=self.epochs, validation_split=self.validation_split,   #\n",
        "                                      batch_size=self.batch_size,verbose=self.verbose)\n",
        "\n",
        "        return self\n",
        "\n",
        "\n",
        "\n",
        "    def predict(self, X, *_):\n",
        "       #input X numpy array first dimension samples (N)x features (P)\n",
        "      return  self.model.predict(X)\n",
        "\n",
        "    # las predicciones me entregan la pasrte de anotadores y luego de las clases en el mismo vector\n",
        "\n",
        "\n",
        "    def fit_predict(self,X,y):\n",
        "        #input X numpy array first dimension samples (N)x features (P)\n",
        "        #input Y numpy array vector len = samples (N) x  annotators (R)\n",
        "        self.fit(X,y)\n",
        "        return self.predict(X)\n",
        "\n",
        "     #graphics\n",
        "    def plot_history(self):\n",
        "        pd.DataFrame(self.history.history).plot(figsize=(8, 5))\n",
        "        plt.grid(True)\n",
        "        #plt.gca().set_ylim(0, 1)\n",
        "        #save_fig(\"keras_learning_curves_plot\")\n",
        "        plt.show()\n",
        "        return\n",
        "\n",
        "    def set_params(self, **parameters):\n",
        "        for parameter, value in parameters.items():\n",
        "            setattr(self, parameter, value)\n",
        "\n",
        "        return self\n",
        "\n",
        "\n",
        "\n",
        "    def get_params(self, deep=True):\n",
        "        return { 'l1_param':self.l1_param, 'dropout':self.dropout, 'optimizer':self.optimizer,\n",
        "                'learning_rate':self.learning_rate, 'batch_size':self.batch_size,\n",
        "                'epochs':self.epochs, 'verbose':self.verbose, 'validation_split':self.validation_split,\n",
        "                'R':self.R, 'K':self.K, 'q':self.q\n",
        "                }\n",
        "\n",
        "\n",
        "        return self"
      ],
      "id": "LIrQ_rFJWN_U"
    },
    {
      "cell_type": "markdown",
      "metadata": {
        "id": "5b055b86"
      },
      "source": [
        "# Load Data"
      ],
      "id": "5b055b86"
    },
    {
      "cell_type": "code",
      "execution_count": null,
      "metadata": {
        "id": "b28bee07",
        "colab": {
          "base_uri": "https://localhost:8080/"
        },
        "outputId": "53f629e0-7e26-48fa-d4b0-d0611e90f525"
      },
      "outputs": [
        {
          "output_type": "execute_result",
          "data": {
            "text/plain": [
              "dict_keys(['__header__', '__version__', '__globals__', 'X', 'y', 'Y', 'iAnn', 'Exp', 'idxtr', 'idxte'])"
            ]
          },
          "metadata": {},
          "execution_count": 23
        }
      ],
      "source": [
        "#load data\n",
        "import scipy.io as sio\n",
        "import matplotlib.pyplot as plt\n",
        "import pandas as pd\n",
        "import tensorflow as tf #importar tensorflow\n",
        "from sklearn.model_selection import GridSearchCV\n",
        "from sklearn.preprocessing import StandardScaler,MinMaxScaler\n",
        "import numpy as np\n",
        "database = 'Wine' #['bupa1', 'breast-cancer-wisconsin1','pima-indians-diabetes1', 'ionosphere1', 'tic-tac-toe1', 'iris1', 'wine1', 'segmentation1']\n",
        "\n",
        "\n",
        "path_ = 'MADatasets/'+ database+ '.mat'\n",
        "Xdata = sio.loadmat(path_)\n",
        "Xdata.keys()\n"
      ],
      "id": "b28bee07"
    },
    {
      "cell_type": "code",
      "execution_count": null,
      "metadata": {
        "id": "Vk53uHwAdyDi",
        "colab": {
          "base_uri": "https://localhost:8080/"
        },
        "outputId": "d2ce6b11-1c9a-4e63-b5a6-2318dfbc68df"
      },
      "outputs": [
        {
          "output_type": "stream",
          "name": "stdout",
          "text": [
            "X (178, 13) t (178,) Y (178, 5)\n"
          ]
        }
      ],
      "source": [
        "X = Xdata['X']\n",
        "Y = Xdata['Y']\n",
        "t = Xdata['y'].reshape(-1)\n",
        "print('X',X.shape,'t',t.shape,'Y',Y.shape)\n"
      ],
      "id": "Vk53uHwAdyDi"
    },
    {
      "cell_type": "code",
      "execution_count": null,
      "metadata": {
        "id": "Hcg9f0ELEFZZ",
        "colab": {
          "base_uri": "https://localhost:8080/"
        },
        "outputId": "e815797b-783b-4907-a328-e9360c56f3c6"
      },
      "outputs": [
        {
          "output_type": "execute_result",
          "data": {
            "text/plain": [
              "array([1, 1, 1, 1, 1, 1, 1, 1, 1, 1, 1, 1, 1, 1, 1, 1, 1, 1, 1, 1, 1, 1,\n",
              "       1, 1, 1, 1, 1, 1, 1, 1, 1, 1, 1, 1, 1, 1, 1, 1, 1, 1, 1, 1, 1, 1,\n",
              "       1, 1, 1, 1, 1, 1, 1, 1, 1, 1, 1, 1, 1, 1, 1, 2, 2, 2, 2, 2, 2, 2,\n",
              "       2, 2, 2, 2, 2, 2, 2, 2, 2, 2, 2, 2, 2, 2, 2, 2, 2, 2, 2, 2, 2, 2,\n",
              "       2, 2, 2, 2, 2, 2, 2, 2, 2, 2, 2, 2, 2, 2, 2, 2, 2, 2, 2, 2, 2, 2,\n",
              "       2, 2, 2, 2, 2, 2, 2, 2, 2, 2, 2, 2, 2, 2, 2, 2, 2, 2, 2, 2, 3, 3,\n",
              "       3, 3, 3, 3, 3, 3, 3, 3, 3, 3, 3, 3, 3, 3, 3, 3, 3, 3, 3, 3, 3, 3,\n",
              "       3, 3, 3, 3, 3, 3, 3, 3, 3, 3, 3, 3, 3, 3, 3, 3, 3, 3, 3, 3, 3, 3,\n",
              "       3, 3], dtype=uint8)"
            ]
          },
          "metadata": {},
          "execution_count": 25
        }
      ],
      "source": [
        "t"
      ],
      "id": "Hcg9f0ELEFZZ"
    },
    {
      "cell_type": "markdown",
      "metadata": {
        "id": "d41f9909"
      },
      "source": [
        "# Labels Generation"
      ],
      "id": "d41f9909"
    },
    {
      "cell_type": "code",
      "execution_count": null,
      "metadata": {
        "id": "5bfb3a90",
        "colab": {
          "base_uri": "https://localhost:8080/",
          "height": 430
        },
        "outputId": "62c42217-23f6-40ae-88b5-45f3cb479d0c"
      },
      "outputs": [
        {
          "output_type": "display_data",
          "data": {
            "text/plain": [
              "<Figure size 640x480 with 1 Axes>"
            ],
            "image/png": "[encoded data removed]"
          },
          "metadata": {}
        }
      ],
      "source": [
        "Y, iAnn, Lam_r = MA_Clas_Gen(X ,t, R=5, NrP=1)"
      ],
      "id": "5bfb3a90"
    },
    {
      "cell_type": "code",
      "execution_count": null,
      "metadata": {
        "id": "125deea6"
      },
      "outputs": [],
      "source": [
        "\n",
        "Y = Y - 1\n",
        "t = t - 1\n"
      ],
      "id": "125deea6"
    },
    {
      "cell_type": "code",
      "execution_count": null,
      "metadata": {
        "colab": {
          "base_uri": "https://localhost:8080/",
          "height": 1000
        },
        "id": "f665a11b",
        "outputId": "fcb933ae-87e9-45b3-e5d8-43dfa9f2aa79"
      },
      "outputs": [
        {
          "output_type": "stream",
          "name": "stdout",
          "text": [
            "annotator 1\n",
            "              precision    recall  f1-score   support\n",
            "\n",
            "           0       0.89      0.92      0.90        59\n",
            "           1       0.88      0.93      0.90        71\n",
            "           2       0.95      0.83      0.89        48\n",
            "\n",
            "    accuracy                           0.90       178\n",
            "   macro avg       0.91      0.89      0.90       178\n",
            "weighted avg       0.90      0.90      0.90       178\n",
            "\n",
            "annotator 2\n",
            "              precision    recall  f1-score   support\n",
            "\n",
            "           0       0.46      0.20      0.28        59\n",
            "           1       0.62      0.82      0.71        71\n",
            "           2       0.54      0.67      0.60        48\n",
            "\n",
            "    accuracy                           0.57       178\n",
            "   macro avg       0.54      0.56      0.53       178\n",
            "weighted avg       0.55      0.57      0.54       178\n",
            "\n",
            "annotator 3\n",
            "              precision    recall  f1-score   support\n",
            "\n",
            "           0       0.65      0.97      0.78        59\n",
            "           1       0.72      0.51      0.60        71\n",
            "           2       0.55      0.46      0.50        48\n",
            "\n",
            "    accuracy                           0.65       178\n",
            "   macro avg       0.64      0.64      0.62       178\n",
            "weighted avg       0.65      0.65      0.63       178\n",
            "\n",
            "annotator 4\n",
            "              precision    recall  f1-score   support\n",
            "\n",
            "           0       0.45      0.22      0.30        59\n",
            "           1       0.65      0.75      0.70        71\n",
            "           2       0.41      0.58      0.48        48\n",
            "\n",
            "    accuracy                           0.53       178\n",
            "   macro avg       0.50      0.52      0.49       178\n",
            "weighted avg       0.52      0.53      0.51       178\n",
            "\n",
            "annotator 5\n",
            "              precision    recall  f1-score   support\n",
            "\n",
            "           0       0.41      0.78      0.53        59\n",
            "           1       0.06      0.03      0.04        71\n",
            "           2       0.00      0.00      0.00        48\n",
            "\n",
            "    accuracy                           0.27       178\n",
            "   macro avg       0.16      0.27      0.19       178\n",
            "weighted avg       0.16      0.27      0.19       178\n",
            "\n"
          ]
        },
        {
          "output_type": "display_data",
          "data": {
            "text/plain": [
              "<Figure size 640x480 with 1 Axes>"
            ],
            "image/png": "[encoded data removed]"
          },
          "metadata": {}
        },
        {
          "output_type": "display_data",
          "data": {
            "text/plain": [
              "<Figure size 640x480 with 1 Axes>"
            ],
            "image/png": "[encoded data removed]"
          },
          "metadata": {}
        },
        {
          "output_type": "display_data",
          "data": {
            "text/plain": [
              "<Figure size 640x480 with 1 Axes>"
            ],
            "image/png": "[encoded data removed]"
          },
          "metadata": {}
        },
        {
          "output_type": "display_data",
          "data": {
            "text/plain": [
              "<Figure size 640x480 with 1 Axes>"
            ],
            "image/png": "[encoded data removed]"
          },
          "metadata": {}
        },
        {
          "output_type": "display_data",
          "data": {
            "text/plain": [
              "<Figure size 640x480 with 1 Axes>"
            ],
            "image/png": "[encoded data removed]"
          },
          "metadata": {}
        }
      ],
      "source": [
        "from sklearn.metrics import classification_report\n",
        "for i in range(Y.shape[1]):\n",
        "    print('annotator',i+1)\n",
        "    print(classification_report(t,Y[:,i]))\n",
        "    unique, counts = np.unique(Y[:,i], return_counts=True)\n",
        "    plt.figure()\n",
        "    plt.bar(unique, counts)\n",
        "#     unique, counts = np.unique(Y_test[5], return_counts=True)\n",
        "#     plt.bar(unique, counts)\n",
        "\n",
        "    plt.title('Class Frequency for Y_true')\n",
        "    plt.xlabel('Class')\n",
        "    plt.ylabel('Frequency')\n"
      ],
      "id": "f665a11b"
    },
    {
      "cell_type": "markdown",
      "metadata": {
        "id": "4978b7ce"
      },
      "source": [
        "# Split data"
      ],
      "id": "4978b7ce"
    },
    {
      "cell_type": "code",
      "execution_count": null,
      "metadata": {
        "colab": {
          "base_uri": "https://localhost:8080/"
        },
        "id": "7b92d005",
        "outputId": "b013fb0a-cfc7-4d00-d13e-f33041cac4de"
      },
      "outputs": [
        {
          "output_type": "stream",
          "name": "stdout",
          "text": [
            "[138  60 137  77  90 159  41 136 166  93 154 141 164  33  31 152  82 122\n",
            "  42  87 139 147 151 162  79 169 157  95  53  10  23  37 134 110 167 120\n",
            " 142   8  72 114 148 163  36  20 121  28  13  88  24 100 127 143 144  85]\n",
            "(124, 13) (124, 5) (124, 1)\n"
          ]
        }
      ],
      "source": [
        "import numpy.matlib\n",
        "from sklearn.model_selection import ShuffleSplit, StratifiedShuffleSplit\n",
        "Ns = 1\n",
        "ss = ShuffleSplit(n_splits=Ns, test_size=0.3,random_state =123)\n",
        "for train_index, test_index in ss.split(X):\n",
        "    print(test_index)\n",
        "    X_train, X_test,Y_train,Y_test = X[train_index,:], X[test_index,:],Y[train_index,:], Y[test_index,:]\n",
        "    Y_true_train, Y_true_test = t[train_index].reshape(-1,1), t[test_index].reshape(-1,1)\n",
        "print(X_train.shape, Y_train.shape, Y_true_train.shape)"
      ],
      "id": "7b92d005"
    },
    {
      "cell_type": "markdown",
      "metadata": {
        "id": "6c5da01e"
      },
      "source": [
        "# Apply MinMaxScaler"
      ],
      "id": "6c5da01e"
    },
    {
      "cell_type": "code",
      "execution_count": null,
      "metadata": {
        "id": "f600859c"
      },
      "outputs": [],
      "source": [
        "scaler = MinMaxScaler()\n",
        "scaler.fit(X_train)\n",
        "X_train = scaler.transform(X_train)\n",
        "X_test = scaler.transform(X_test)"
      ],
      "id": "f600859c"
    },
    {
      "cell_type": "markdown",
      "metadata": {
        "id": "714a7a07"
      },
      "source": [
        "# Testing the Class\n"
      ],
      "id": "714a7a07"
    },
    {
      "cell_type": "code",
      "execution_count": null,
      "metadata": {
        "id": "du8C7Syro2p7",
        "colab": {
          "base_uri": "https://localhost:8080/",
          "height": 704
        },
        "outputId": "0b4d8373-0ed8-44ab-f859-270e1528f787"
      },
      "outputs": [
        {
          "output_type": "stream",
          "name": "stdout",
          "text": [
            "iteration: 0\n",
            "Start of epoch 0\n"
          ]
        },
        {
          "output_type": "error",
          "ename": "TypeError",
          "evalue": "ignored",
          "traceback": [
            "\u001b[0;31m---------------------------------------------------------------------------\u001b[0m",
            "\u001b[0;31mTypeError\u001b[0m                                 Traceback (most recent call last)",
            "\u001b[0;32m<ipython-input-51-b405144e5712>\u001b[0m in \u001b[0;36m<cell line: 10>\u001b[0;34m()\u001b[0m\n\u001b[1;32m     30\u001b[0m             \u001b[0;31m#    l1_param=l1,  validation_split=0, verbose=0, q=0.3, neurons=4, loss = custom_loss )\u001b[0m\u001b[0;34m\u001b[0m\u001b[0;34m\u001b[0m\u001b[0m\n\u001b[1;32m     31\u001b[0m \u001b[0;34m\u001b[0m\u001b[0m\n\u001b[0;32m---> 32\u001b[0;31m     \u001b[0mMA\u001b[0m\u001b[0;34m.\u001b[0m\u001b[0mfit\u001b[0m\u001b[0;34m(\u001b[0m\u001b[0mX_train\u001b[0m\u001b[0;34m,\u001b[0m \u001b[0mY_train\u001b[0m\u001b[0;34m)\u001b[0m\u001b[0;34m\u001b[0m\u001b[0;34m\u001b[0m\u001b[0m\n\u001b[0m\u001b[1;32m     33\u001b[0m     \u001b[0mMA\u001b[0m\u001b[0;34m.\u001b[0m\u001b[0mplot_history\u001b[0m\u001b[0;34m(\u001b[0m\u001b[0;34m)\u001b[0m\u001b[0;34m\u001b[0m\u001b[0;34m\u001b[0m\u001b[0m\n\u001b[1;32m     34\u001b[0m \u001b[0;34m\u001b[0m\u001b[0m\n",
            "\u001b[0;32m<ipython-input-50-5054566e9ab7>\u001b[0m in \u001b[0;36mfit\u001b[0;34m(self, X, Y)\u001b[0m\n\u001b[1;32m     71\u001b[0m             \u001b[0;32mfor\u001b[0m \u001b[0mstep\u001b[0m\u001b[0;34m,\u001b[0m \u001b[0;34m(\u001b[0m\u001b[0mx_batch_train\u001b[0m\u001b[0;34m,\u001b[0m\u001b[0my_batch_train\u001b[0m\u001b[0;34m,\u001b[0m\u001b[0miAnn_batch\u001b[0m\u001b[0;34m)\u001b[0m \u001b[0;32min\u001b[0m \u001b[0menumerate\u001b[0m\u001b[0;34m(\u001b[0m\u001b[0mtrain_data\u001b[0m\u001b[0;34m)\u001b[0m\u001b[0;34m:\u001b[0m\u001b[0;34m\u001b[0m\u001b[0;34m\u001b[0m\u001b[0m\n\u001b[1;32m     72\u001b[0m                 \u001b[0;32mwith\u001b[0m \u001b[0mtf\u001b[0m\u001b[0;34m.\u001b[0m\u001b[0mGradientTape\u001b[0m\u001b[0;34m(\u001b[0m\u001b[0;34m)\u001b[0m \u001b[0;32mas\u001b[0m \u001b[0mtape\u001b[0m\u001b[0;34m:\u001b[0m\u001b[0;34m\u001b[0m\u001b[0;34m\u001b[0m\u001b[0m\n\u001b[0;32m---> 73\u001b[0;31m                     \u001b[0mloss\u001b[0m \u001b[0;34m=\u001b[0m  \u001b[0mself\u001b[0m\u001b[0;34m.\u001b[0m\u001b[0mCKA_loss\u001b[0m\u001b[0;34m(\u001b[0m\u001b[0mx_batch_train\u001b[0m\u001b[0;34m,\u001b[0m \u001b[0my_batch_train\u001b[0m\u001b[0;34m,\u001b[0m\u001b[0miAnn_batch\u001b[0m\u001b[0;34m)\u001b[0m\u001b[0;34m\u001b[0m\u001b[0;34m\u001b[0m\u001b[0m\n\u001b[0m\u001b[1;32m     74\u001b[0m                 \u001b[0mgrads\u001b[0m \u001b[0;34m=\u001b[0m \u001b[0mtape\u001b[0m\u001b[0;34m.\u001b[0m\u001b[0mgradient\u001b[0m\u001b[0;34m(\u001b[0m\u001b[0mloss\u001b[0m\u001b[0;34m,\u001b[0m \u001b[0;34m[\u001b[0m\u001b[0mself\u001b[0m\u001b[0;34m.\u001b[0m\u001b[0mmu\u001b[0m\u001b[0;34m,\u001b[0m \u001b[0mself\u001b[0m\u001b[0;34m.\u001b[0m\u001b[0mls\u001b[0m\u001b[0;34m]\u001b[0m\u001b[0;34m)\u001b[0m\u001b[0;34m\u001b[0m\u001b[0;34m\u001b[0m\u001b[0m\n\u001b[1;32m     75\u001b[0m                 \u001b[0moptimizer\u001b[0m\u001b[0;34m.\u001b[0m\u001b[0mapply_gradients\u001b[0m\u001b[0;34m(\u001b[0m\u001b[0mzip\u001b[0m\u001b[0;34m(\u001b[0m\u001b[0mgrads\u001b[0m\u001b[0;34m,\u001b[0m \u001b[0;34m[\u001b[0m\u001b[0mself\u001b[0m\u001b[0;34m.\u001b[0m\u001b[0mmu\u001b[0m\u001b[0;34m,\u001b[0m \u001b[0mself\u001b[0m\u001b[0;34m.\u001b[0m\u001b[0mls\u001b[0m\u001b[0;34m]\u001b[0m\u001b[0;34m)\u001b[0m\u001b[0;34m)\u001b[0m\u001b[0;34m\u001b[0m\u001b[0;34m\u001b[0m\u001b[0m\n",
            "\u001b[0;32m<ipython-input-50-5054566e9ab7>\u001b[0m in \u001b[0;36mCKA_loss\u001b[0;34m(self, X, Y, iAnn)\u001b[0m\n\u001b[1;32m     47\u001b[0m         \u001b[0mN\u001b[0m \u001b[0;34m=\u001b[0m \u001b[0mX\u001b[0m\u001b[0;34m.\u001b[0m\u001b[0mshape\u001b[0m\u001b[0;34m[\u001b[0m\u001b[0;36m0\u001b[0m\u001b[0;34m]\u001b[0m\u001b[0;34m\u001b[0m\u001b[0;34m\u001b[0m\u001b[0m\n\u001b[1;32m     48\u001b[0m         \u001b[0mKXX\u001b[0m \u001b[0;34m=\u001b[0m \u001b[0mself\u001b[0m\u001b[0;34m.\u001b[0m\u001b[0mComputeKernel_X\u001b[0m\u001b[0;34m(\u001b[0m\u001b[0mX\u001b[0m\u001b[0;34m)\u001b[0m\u001b[0;34m\u001b[0m\u001b[0;34m\u001b[0m\u001b[0m\n\u001b[0;32m---> 49\u001b[0;31m         \u001b[0mKmu\u001b[0m \u001b[0;34m=\u001b[0m \u001b[0mself\u001b[0m\u001b[0;34m.\u001b[0m\u001b[0mComputeKernel_Y\u001b[0m\u001b[0;34m(\u001b[0m\u001b[0mY\u001b[0m\u001b[0;34m,\u001b[0m\u001b[0miAnn\u001b[0m\u001b[0;34m)\u001b[0m\u001b[0;34m\u001b[0m\u001b[0;34m\u001b[0m\u001b[0m\n\u001b[0m\u001b[1;32m     50\u001b[0m         \u001b[0mI\u001b[0m \u001b[0;34m=\u001b[0m \u001b[0mtf\u001b[0m\u001b[0;34m.\u001b[0m\u001b[0meye\u001b[0m\u001b[0;34m(\u001b[0m\u001b[0mN\u001b[0m\u001b[0;34m,\u001b[0m \u001b[0mdtype\u001b[0m\u001b[0;34m=\u001b[0m\u001b[0mtf\u001b[0m\u001b[0;34m.\u001b[0m\u001b[0mdtypes\u001b[0m\u001b[0;34m.\u001b[0m\u001b[0mfloat64\u001b[0m\u001b[0;34m)\u001b[0m\u001b[0;34m\u001b[0m\u001b[0;34m\u001b[0m\u001b[0m\n\u001b[1;32m     51\u001b[0m         \u001b[0mones\u001b[0m \u001b[0;34m=\u001b[0m \u001b[0mtf\u001b[0m\u001b[0;34m.\u001b[0m\u001b[0mones\u001b[0m\u001b[0;34m(\u001b[0m\u001b[0;34m[\u001b[0m\u001b[0mN\u001b[0m\u001b[0;34m,\u001b[0m\u001b[0;36m1\u001b[0m\u001b[0;34m]\u001b[0m\u001b[0;34m,\u001b[0m \u001b[0mdtype\u001b[0m\u001b[0;34m=\u001b[0m\u001b[0mtf\u001b[0m\u001b[0;34m.\u001b[0m\u001b[0mdtypes\u001b[0m\u001b[0;34m.\u001b[0m\u001b[0mfloat64\u001b[0m\u001b[0;34m)\u001b[0m\u001b[0;34m\u001b[0m\u001b[0;34m\u001b[0m\u001b[0m\n",
            "\u001b[0;32m<ipython-input-50-5054566e9ab7>\u001b[0m in \u001b[0;36mComputeKernel_Y\u001b[0;34m(self, Y, iAnn)\u001b[0m\n\u001b[1;32m     32\u001b[0m     \u001b[0;31m# function to compute a linear kernel over the labels.\u001b[0m\u001b[0;34m\u001b[0m\u001b[0;34m\u001b[0m\u001b[0m\n\u001b[1;32m     33\u001b[0m     \u001b[0;32mdef\u001b[0m \u001b[0mComputeKernel_Y\u001b[0m\u001b[0;34m(\u001b[0m\u001b[0mself\u001b[0m\u001b[0;34m,\u001b[0m\u001b[0mY\u001b[0m\u001b[0;34m,\u001b[0m\u001b[0miAnn\u001b[0m\u001b[0;34m)\u001b[0m\u001b[0;34m:\u001b[0m\u001b[0;34m\u001b[0m\u001b[0;34m\u001b[0m\u001b[0m\n\u001b[0;32m---> 34\u001b[0;31m         kernel = tfp.math.psd_kernels.Linear(bias_variance=None, \n\u001b[0m\u001b[1;32m     35\u001b[0m                                              \u001b[0mslope_variance\u001b[0m\u001b[0;34m=\u001b[0m\u001b[0;32mNone\u001b[0m\u001b[0;34m,\u001b[0m \u001b[0mshift\u001b[0m\u001b[0;34m=\u001b[0m\u001b[0;32mNone\u001b[0m\u001b[0;34m,\u001b[0m\u001b[0;34m\u001b[0m\u001b[0;34m\u001b[0m\u001b[0m\n\u001b[1;32m     36\u001b[0m                                              \u001b[0mfeature_ndims\u001b[0m\u001b[0;34m=\u001b[0m\u001b[0;36m1\u001b[0m\u001b[0;34m,\u001b[0m\u001b[0mvalidate_args\u001b[0m\u001b[0;34m=\u001b[0m\u001b[0;32mFalse\u001b[0m\u001b[0;34m,\u001b[0m\u001b[0;34m\u001b[0m\u001b[0;34m\u001b[0m\u001b[0m\n",
            "\u001b[0;31mTypeError\u001b[0m: Linear.__init__() got an unexpected keyword argument 'bias_variance'"
          ]
        }
      ],
      "source": [
        "from sklearn.metrics import classification_report, balanced_accuracy_score, roc_auc_score\n",
        "from sklearn.metrics import normalized_mutual_info_score, mutual_info_score, adjusted_mutual_info_score\n",
        "import pandas as pd\n",
        "l1 =0.1\n",
        "NUM_RUNS =10\n",
        "custom_loss = \"GCE\"\n",
        "\n",
        "\n",
        "results = []\n",
        "for i in range(NUM_RUNS):\n",
        "\n",
        "    print(\"iteration: \" + str(i))\n",
        "\n",
        "    # CKA(epochs=50,batch_size=100,length_scale=1e-2,iAnn=np.ones(2)):\n",
        "    #     epochs = epochs\n",
        "    #     batch_size = batch_size\n",
        "    #     length_scale=length_scale\n",
        "    #     iAnn = iAnn\n",
        "    #     R = iAnn.shape[1] #annotators\n",
        "    #     mu = tf.Variable(tf.random.uniform(shape=(1, R), dtype=tf.float64))\n",
        "    #     ls = tf.Variable(length_scale, dtype=tf.float64)\n",
        "\n",
        "\n",
        "    MA = CKA(iAnn= np.ones((Y_train.shape[0],5)) )\n",
        "\n",
        "    # Keras_MA_RCDNN(epochs=100,batch_size=128,R=5, K=len(np.unique(Y_true_train)), dropout=0.25, learning_rate=0.001,optimizer='Adam',\n",
        "    #             l1_param=l1,  validation_split=0, verbose=0, q=0.3 )\n",
        "\n",
        "    #MA = Keras_MA_RCDNN(epochs=100,batch_size=128,R=5, K=len(np.unique(Y_true_train)), dropout=0.25, learning_rate=0.001,optimizer='Adam',\n",
        "            #    l1_param=l1,  validation_split=0, verbose=0, q=0.3, neurons=4, loss = custom_loss )\n",
        "\n",
        "    MA.fit(X_train, Y_train)\n",
        "    MA.plot_history()\n",
        "\n",
        "    # Generate the predictions for the current run\n",
        "    pred_2 = MA.predict(X_test)\n",
        "\n",
        "    acc, auc, auc_sk,  nmi,  bacc = evaluation_metrics(Y_true_test,  pred_2[:,Y.shape[1]:], print_result=False)  # mi, ami,\n",
        "\n",
        "    # Save the results for the current run to the list of dictionaries\n",
        "    results.append({\n",
        "        #'run': i,\n",
        "        'accuracy': acc,\n",
        "        'balanced_accuracy': bacc,\n",
        "       # 'mutual_information': mi,\n",
        "        'normalized_mutual_information': nmi,\n",
        "     #   'adjusted_mutual_information': ami,\n",
        "        'auc_tensorflow': auc,\n",
        "        'auc_scikit_learn': auc_sk,\n",
        "    })\n",
        "\n",
        "# Convert the list of dictionaries to a DataFrame\n",
        "df = np.round(pd.DataFrame(results)*100, 2)\n",
        "\n",
        "# Calculate the mean and standard deviation of each metric\n",
        "mean = np.round(df.mean(),2)\n",
        "std = np.round(df.std(),2)\n",
        "\n",
        "\n"
      ],
      "id": "du8C7Syro2p7"
    },
    {
      "cell_type": "code",
      "source": [
        "np.ones((5,5)).shape[1]"
      ],
      "metadata": {
        "colab": {
          "base_uri": "https://localhost:8080/"
        },
        "id": "cylGBLe2HXEJ",
        "outputId": "a3c11cd8-f54f-42d2-cf8d-0732221313a4"
      },
      "id": "cylGBLe2HXEJ",
      "execution_count": null,
      "outputs": [
        {
          "output_type": "execute_result",
          "data": {
            "text/plain": [
              "5"
            ]
          },
          "metadata": {},
          "execution_count": 40
        }
      ]
    },
    {
      "cell_type": "code",
      "execution_count": null,
      "metadata": {
        "id": "ispxoor_q6DN"
      },
      "outputs": [],
      "source": [
        "df"
      ],
      "id": "ispxoor_q6DN"
    },
    {
      "cell_type": "code",
      "execution_count": null,
      "metadata": {
        "id": "whTSUvCJq_bf"
      },
      "outputs": [],
      "source": [
        "mean"
      ],
      "id": "whTSUvCJq_bf"
    },
    {
      "cell_type": "code",
      "execution_count": null,
      "metadata": {
        "id": "PH_iucZ1rJDD"
      },
      "outputs": [],
      "source": [
        "std"
      ],
      "id": "PH_iucZ1rJDD"
    },
    {
      "cell_type": "code",
      "execution_count": null,
      "metadata": {
        "id": "IZWYJ4cZus0i"
      },
      "outputs": [],
      "source": [
        "result_df = pd.concat([mean.rename('Mean'), std.rename('Std')], axis=1)"
      ],
      "id": "IZWYJ4cZus0i"
    },
    {
      "cell_type": "code",
      "execution_count": null,
      "metadata": {
        "id": "j5oR79xIvOJf"
      },
      "outputs": [],
      "source": [
        "result_df"
      ],
      "id": "j5oR79xIvOJf"
    },
    {
      "cell_type": "code",
      "execution_count": null,
      "metadata": {
        "id": "wrsupD_Qshl2"
      },
      "outputs": [],
      "source": [
        "# Save the DataFrame to an excel file\n",
        "result_df.to_excel(database + custom_loss + \".xlsx\")"
      ],
      "id": "wrsupD_Qshl2"
    },
    {
      "cell_type": "code",
      "execution_count": null,
      "metadata": {
        "id": "Xfv9fsgGYgSc"
      },
      "outputs": [],
      "source": [],
      "id": "Xfv9fsgGYgSc"
    }
  ],
  "metadata": {
    "colab": {
      "provenance": [],
      "include_colab_link": true
    },
    "kernelspec": {
      "display_name": "Python 3",
      "language": "python",
      "name": "python3"
    },
    "language_info": {
      "codemirror_mode": {
        "name": "ipython",
        "version": 3
      },
      "file_extension": ".py",
      "mimetype": "text/x-python",
      "name": "python",
      "nbconvert_exporter": "python",
      "pygments_lexer": "ipython3",
      "version": "3.7.12"
    },
    "papermill": {
      "default_parameters": {},
      "duration": 3097.445153,
      "end_time": "2022-10-21T10:31:41.407966",
      "environment_variables": {},
      "exception": null,
      "input_path": "__notebook__.ipynb",
      "output_path": "__notebook__.ipynb",
      "parameters": {},
      "start_time": "2022-10-21T09:40:03.962813",
      "version": "2.3.4"
    }
  },
  "nbformat": 4,
  "nbformat_minor": 5
}